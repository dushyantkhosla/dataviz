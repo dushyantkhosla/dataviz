{
 "cells": [
  {
   "cell_type": "markdown",
   "metadata": {},
   "source": [
    "## Introduction to bqplot\n",
    "\n",
    "- bqplot is a Grammar of Graphics based interactive visualization library for the Jupyter notebook.\n",
    "\n",
    "---\n",
    "### 1) A matplotlib inspired API\n",
    "\n",
    "- accessible with: `from bqplot import pyplot as plt` \n",
    "- Steps\n",
    "    - Create a bqplot `Figure` object as `plt.figure()`\n",
    "    - Create a bqplot `marks` object as `plt.scatter(X, y, ...)`\n",
    "        - Marks available: 'Lines', 'FlexLine', 'Scatter', 'Label', 'Hist', 'Boxplot', 'Bars', 'OHLC', 'Pie', 'Map', 'GridHeatMap', 'HeatMap', 'Graph', 'Image'\n",
    "    - Display with `plt.show()`\n",
    "    \n",
    "**Features**\n",
    "\n",
    "- using this API, any plot you generate becomes, by default, an interactive web element\n",
    "- This means that JavaScript and the Python communicate. \n",
    "    - So, the plot can be changed through a single line of python code, or \n",
    "    - a piece of python code can be triggered by a change in the plot.\n",
    "- allows us to change any aspect of the plot - after it's been drawn\n",
    "    - this is done by changing the attributes of the plot (mark) object\n",
    "- allows us to trigger functions when the plot is changed\n",
    "    - this is done via the `.observe()` method of the mark object\n",
    "- allows for the element to be animated by setting the `animation_duration` of the figure object\n"
   ]
  },
  {
   "cell_type": "code",
   "execution_count": 1,
   "metadata": {},
   "outputs": [],
   "source": [
    "import os\n",
    "\n",
    "import numpy as np\n",
    "import pandas as pd\n",
    "\n",
    "import warnings\n",
    "warnings.simplefilter('ignore', category=FutureWarning)\n",
    "\n",
    "from IPython.display import display\n",
    "import ipywidgets as widgets\n",
    "\n",
    "import bqplot as bqp \n",
    "from bqplot import pyplot as plt"
   ]
  },
  {
   "cell_type": "markdown",
   "metadata": {},
   "source": [
    "- Create some random data"
   ]
  },
  {
   "cell_type": "code",
   "execution_count": 2,
   "metadata": {},
   "outputs": [],
   "source": [
    "size = 100\n",
    "np.random.seed(0)\n",
    "\n",
    "X = np.arange(size)\n",
    "y = np.cumsum(np.random.randn(size)  * 100.0)"
   ]
  },
  {
   "cell_type": "markdown",
   "metadata": {},
   "source": [
    "- Create a Figure, then a plot and display it"
   ]
  },
  {
   "cell_type": "code",
   "execution_count": 9,
   "metadata": {},
   "outputs": [
    {
     "data": {
      "application/vnd.jupyter.widget-view+json": {
       "model_id": "ad4d4c0e2063482e83e0b90d0395c724",
       "version_major": 2,
       "version_minor": 0
      },
      "text/plain": [
       "VBox(children=(Figure(axes=[Axis(scale=LinearScale()), Axis(orientation='vertical', scale=LinearScale())], fig…"
      ]
     },
     "metadata": {},
     "output_type": "display_data"
    }
   ],
   "source": [
    "figure = plt.figure(title=\"An Interactive Scatterplot drawn with bqplot!\")\n",
    "scatter = plt.scatter(X, y)\n",
    "plt.show()"
   ]
  },
  {
   "cell_type": "markdown",
   "metadata": {},
   "source": [
    "- Transitions can be animated"
   ]
  },
  {
   "cell_type": "code",
   "execution_count": 12,
   "metadata": {},
   "outputs": [],
   "source": [
    "figure.animation_duration = 500\n",
    "scatter.y = np.cumsum(np.random.randn(size) * 100.0)"
   ]
  },
  {
   "cell_type": "markdown",
   "metadata": {},
   "source": [
    "- If we change an attribute of the Mark object, the plot will respond to it"
   ]
  },
  {
   "cell_type": "code",
   "execution_count": 13,
   "metadata": {},
   "outputs": [],
   "source": [
    "scatter.y = np.cumsum(np.random.randn(size) * 100.0)\n",
    "scatter.colors = ['salmon']\n",
    "scatter.marker = 'diamond'"
   ]
  },
  {
   "cell_type": "markdown",
   "metadata": {},
   "source": [
    "- We can allow the user to change the plot manually"
   ]
  },
  {
   "cell_type": "code",
   "execution_count": 14,
   "metadata": {},
   "outputs": [],
   "source": [
    "scatter.enable_move = True"
   ]
  },
  {
   "cell_type": "markdown",
   "metadata": {},
   "source": [
    "- We can track changes, and trigger functions in response"
   ]
  },
  {
   "cell_type": "code",
   "execution_count": 15,
   "metadata": {},
   "outputs": [],
   "source": [
    "def foo(change):\n",
    "    print(\"You moved a point!\")\n",
    "\n",
    "scatter.observe(foo, 'x')"
   ]
  },
  {
   "cell_type": "markdown",
   "metadata": {},
   "source": [
    "---\n",
    "## 2) A Grammar-of-Graphics inspired API\n",
    "\n",
    "- Exposes every element of a plot individually, so that their attriutes can be controlled in an atomic way\n",
    "- A Plot/Figure object is created using building blocks like\n",
    "    - Scales, which map data values to pixels or colors\n",
    "    - Axes, which visually represent the scales\n",
    "    - Marks, which visually represent the data    \n",
    "    \n",
    "\n",
    "**Steps**\n",
    "\n",
    "- Get the data\n",
    "- Declare scales\n",
    "- Construct Axes\n",
    "- Declare marks\n",
    "- Construct Figure with Axes and Marks"
   ]
  },
  {
   "cell_type": "code",
   "execution_count": 18,
   "metadata": {},
   "outputs": [],
   "source": [
    "import numpy as np\n",
    "\n",
    "from bqplot import Figure, Axis, OrdinalScale, LinearScale\n",
    "from bqplot import Bars\n",
    "\n",
    "# Data\n",
    "X = np.arange(10)\n",
    "y = np.random.randn(10)\n",
    "\n",
    "# Scales\n",
    "scales_ = {\n",
    "    'x': OrdinalScale(),\n",
    "    'y': LinearScale()\n",
    "}\n",
    "\n",
    "# Axes \n",
    "axes_ = [\n",
    "    Axis(scale=scales_['x'], label='X-axis'), \n",
    "    Axis(scale=scales_['y'], label='Y-axis', orientation='vertical', tick_format='0.2f')\n",
    "]\n",
    "\n",
    "# Marks\n",
    "marks_ = [\n",
    "    Bars(x=X, y=y,scales=scales_)\n",
    "]\n",
    "\n",
    "# Figure\n",
    "f = Figure(\n",
    "    animation_duration=500,\n",
    "    title='A Bar Chart', \n",
    "    marks=marks_, \n",
    "    axes=axes_\n",
    ")"
   ]
  },
  {
   "cell_type": "code",
   "execution_count": 24,
   "metadata": {},
   "outputs": [
    {
     "data": {
      "application/vnd.jupyter.widget-view+json": {
       "model_id": "073cf55c39154e6da03c8a842875a535",
       "version_major": 2,
       "version_minor": 0
      },
      "text/plain": [
       "Figure(animation_duration=500, axes=[Axis(label='X-axis', scale=OrdinalScale(), side='bottom'), Axis(label='Y-…"
      ]
     },
     "metadata": {},
     "output_type": "display_data"
    }
   ],
   "source": [
    "f"
   ]
  },
  {
   "cell_type": "markdown",
   "metadata": {},
   "source": [
    "- With `animation_duration` specified, any changes made to Figure components will take effect via transitions"
   ]
  },
  {
   "cell_type": "code",
   "execution_count": 30,
   "metadata": {},
   "outputs": [],
   "source": [
    "marks_[0].y = np.random.randn(10)"
   ]
  },
  {
   "cell_type": "code",
   "execution_count": 26,
   "metadata": {},
   "outputs": [],
   "source": [
    "marks_[0].orientation = 'horizontal'"
   ]
  },
  {
   "cell_type": "code",
   "execution_count": 30,
   "metadata": {},
   "outputs": [],
   "source": [
    "marks_[0].y = np.random.randn(10)"
   ]
  },
  {
   "cell_type": "code",
   "execution_count": 27,
   "metadata": {},
   "outputs": [],
   "source": [
    "marks_[0].colors = ['salmon']"
   ]
  },
  {
   "cell_type": "code",
   "execution_count": 30,
   "metadata": {},
   "outputs": [],
   "source": [
    "marks_[0].y = np.random.randn(10)"
   ]
  },
  {
   "cell_type": "code",
   "execution_count": 28,
   "metadata": {},
   "outputs": [],
   "source": [
    "marks_[0].orientation = 'vertical'"
   ]
  },
  {
   "cell_type": "code",
   "execution_count": 30,
   "metadata": {},
   "outputs": [],
   "source": [
    "marks_[0].y = np.random.randn(10)"
   ]
  },
  {
   "cell_type": "markdown",
   "metadata": {},
   "source": [
    "---\n",
    "### II-a. Marks\n",
    "\n",
    "- One of\n",
    "```\n",
    "'Bars', 'Bins', 'Boxplot', 'Candles', 'FlexLine', 'Graph',\n",
    "'GridHeatMap', 'HeatMap', 'Hist', 'Image', 'Label', 'Lines', 'Map',\n",
    "'Market Map', 'Pie', 'Scatter'\n",
    "```\n",
    "- Each has a set of attributes\n",
    "    - aesthetic values; _marker, colors, size, opacity ..._\n",
    "    - data values; _x, y, color, size, opacity_\n",
    "- Data values can be displayed as tool-tips directly\n",
    "- Interactions like click, mouseover are available"
   ]
  },
  {
   "cell_type": "markdown",
   "metadata": {},
   "source": [
    "---\n",
    "### Scatterplot Example"
   ]
  },
  {
   "cell_type": "code",
   "execution_count": 53,
   "metadata": {},
   "outputs": [
    {
     "data": {
      "application/vnd.jupyter.widget-view+json": {
       "model_id": "81872fa1b9fb415a8dc88e89c0a91d7f",
       "version_major": 2,
       "version_minor": 0
      },
      "text/plain": [
       "Figure(animation_duration=500, axes=[Axis(label='X-axis', scale=LinearScale()), Axis(label='Y-axis', orientati…"
      ]
     },
     "metadata": {},
     "output_type": "display_data"
    }
   ],
   "source": [
    "from bqplot import DateScale, Scatter\n",
    "size_ = 50\n",
    "\n",
    "# Data\n",
    "X = np.linspace(0, 1, size_)\n",
    "y = np.random.randn(size_)\n",
    "\n",
    "scales_ = {\n",
    "    'x': LinearScale(),\n",
    "    'y': LinearScale()\n",
    "}\n",
    "\n",
    "axes_ = [\n",
    "    Axis(scale=scales_['x'], label='X-axis'), \n",
    "    Axis(scale=scales_['y'], label='Y-axis', orientation='vertical', tick_format='0.2f')\n",
    "]\n",
    "\n",
    "marks_ = [\n",
    "    Scatter(x=X, y=y, scales=scales_, fill=False, marker='cross')\n",
    "]\n",
    "\n",
    "Figure(marks=marks_, \n",
    "       axes=axes_, \n",
    "       title='Lorem Ipsum', \n",
    "       animation_duration=500)"
   ]
  },
  {
   "cell_type": "markdown",
   "metadata": {},
   "source": [
    "- Changing the plot"
   ]
  },
  {
   "cell_type": "code",
   "execution_count": 54,
   "metadata": {},
   "outputs": [],
   "source": [
    "scatter = marks_[0]"
   ]
  },
  {
   "cell_type": "code",
   "execution_count": 55,
   "metadata": {},
   "outputs": [],
   "source": [
    "scatter.fill = True"
   ]
  },
  {
   "cell_type": "code",
   "execution_count": 56,
   "metadata": {},
   "outputs": [],
   "source": [
    "scatter.marker = 'circle'"
   ]
  },
  {
   "cell_type": "code",
   "execution_count": 57,
   "metadata": {},
   "outputs": [],
   "source": [
    "scatter.colors = ['lightgreen']"
   ]
  },
  {
   "cell_type": "code",
   "execution_count": 58,
   "metadata": {},
   "outputs": [],
   "source": [
    "scatter.names = [f\"Pt. {i}\" for i in list(range(size_))]"
   ]
  },
  {
   "cell_type": "markdown",
   "metadata": {},
   "source": [
    "---\n",
    "### Add Tooltips"
   ]
  },
  {
   "cell_type": "code",
   "execution_count": 59,
   "metadata": {},
   "outputs": [],
   "source": [
    "from bqplot import Tooltip"
   ]
  },
  {
   "cell_type": "code",
   "execution_count": 60,
   "metadata": {},
   "outputs": [],
   "source": [
    "scatter.tooltip = \\\n",
    "Tooltip(\n",
    "    fields=['x', 'y'], \n",
    "    labels=['X-value', 'Y-value'], \n",
    "    formats=['.2f', '.2f']\n",
    ")"
   ]
  },
  {
   "cell_type": "markdown",
   "metadata": {},
   "source": [
    "----\n",
    "### Add another layer"
   ]
  },
  {
   "cell_type": "code",
   "execution_count": 61,
   "metadata": {},
   "outputs": [],
   "source": [
    "from bqplot import Lines"
   ]
  },
  {
   "cell_type": "code",
   "execution_count": 62,
   "metadata": {},
   "outputs": [],
   "source": [
    "line_ = Lines(x=X, y=np.sin(2*np.pi*X) - 2, scales=scales_)"
   ]
  },
  {
   "cell_type": "code",
   "execution_count": 63,
   "metadata": {},
   "outputs": [
    {
     "data": {
      "application/vnd.jupyter.widget-view+json": {
       "model_id": "ea6e2c9ab5554068af2f3d5210288639",
       "version_major": 2,
       "version_minor": 0
      },
      "text/plain": [
       "Figure(axes=[Axis(label='X-axis', scale=LinearScale(), side='bottom'), Axis(label='Y-axis', orientation='verti…"
      ]
     },
     "metadata": {},
     "output_type": "display_data"
    }
   ],
   "source": [
    "Figure(marks=marks_ + [line_], axes=axes_)"
   ]
  }
 ],
 "metadata": {
  "kernelspec": {
   "display_name": "Python 3",
   "language": "python",
   "name": "python3"
  },
  "language_info": {
   "codemirror_mode": {
    "name": "ipython",
    "version": 3
   },
   "file_extension": ".py",
   "mimetype": "text/x-python",
   "name": "python",
   "nbconvert_exporter": "python",
   "pygments_lexer": "ipython3",
   "version": "3.6.6"
  }
 },
 "nbformat": 4,
 "nbformat_minor": 2
}
