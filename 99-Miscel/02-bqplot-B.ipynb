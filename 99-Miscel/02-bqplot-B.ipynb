{
 "cells": [
  {
   "cell_type": "markdown",
   "metadata": {},
   "source": [
    "## Health, Wealth of Nations from 1800-2008"
   ]
  },
  {
   "cell_type": "code",
   "execution_count": 1,
   "metadata": {},
   "outputs": [],
   "source": [
    "import os\n",
    "import numpy as np\n",
    "import pandas as pd\n",
    "from pandas import Series, DataFrame"
   ]
  },
  {
   "cell_type": "code",
   "execution_count": 2,
   "metadata": {},
   "outputs": [],
   "source": [
    "from bqplot import Figure, Tooltip, Label\n",
    "from bqplot import Axis, ColorAxis\n",
    "from bqplot import LogScale, LinearScale, OrdinalColorScale\n",
    "from bqplot import Scatter, Lines\n",
    "from bqplot import CATEGORY10"
   ]
  },
  {
   "cell_type": "code",
   "execution_count": 3,
   "metadata": {},
   "outputs": [],
   "source": [
    "from ipywidgets import HBox, VBox, IntSlider, Play, jslink"
   ]
  },
  {
   "cell_type": "code",
   "execution_count": 4,
   "metadata": {},
   "outputs": [],
   "source": [
    "from more_itertools import flatten"
   ]
  },
  {
   "cell_type": "markdown",
   "metadata": {},
   "source": [
    "---\n",
    "### Get Data"
   ]
  },
  {
   "cell_type": "code",
   "execution_count": 34,
   "metadata": {},
   "outputs": [
    {
     "data": {
      "text/html": [
       "<div>\n",
       "<style scoped>\n",
       "    .dataframe tbody tr th:only-of-type {\n",
       "        vertical-align: middle;\n",
       "    }\n",
       "\n",
       "    .dataframe tbody tr th {\n",
       "        vertical-align: top;\n",
       "    }\n",
       "\n",
       "    .dataframe thead th {\n",
       "        text-align: right;\n",
       "    }\n",
       "</style>\n",
       "<table border=\"1\" class=\"dataframe\">\n",
       "  <thead>\n",
       "    <tr style=\"text-align: right;\">\n",
       "      <th></th>\n",
       "      <th>income</th>\n",
       "      <th>lifeExpectancy</th>\n",
       "      <th>name</th>\n",
       "      <th>population</th>\n",
       "      <th>region</th>\n",
       "    </tr>\n",
       "  </thead>\n",
       "  <tbody>\n",
       "    <tr>\n",
       "      <th>0</th>\n",
       "      <td>[[1800, 359.93], [1820, 359.93], [1913, 556.12...</td>\n",
       "      <td>[[1800, 26.98], [1940, 26.98], [1950, 29.22], ...</td>\n",
       "      <td>Angola</td>\n",
       "      <td>[[1800, 1567028], [1820, 1567028], [1940, 3738...</td>\n",
       "      <td>Sub-Saharan Africa</td>\n",
       "    </tr>\n",
       "    <tr>\n",
       "      <th>1</th>\n",
       "      <td>[[1800, 553.72], [1820, 553.72], [1913, 855.53...</td>\n",
       "      <td>[[1800, 31], [1944, 31], [1950, 36.53], [1951,...</td>\n",
       "      <td>Benin</td>\n",
       "      <td>[[1800, 636559], [1820, 636559], [1950, 167266...</td>\n",
       "      <td>Sub-Saharan Africa</td>\n",
       "    </tr>\n",
       "    <tr>\n",
       "      <th>2</th>\n",
       "      <td>[[1800, 407.36], [1820, 407.36], [1913, 629.4]...</td>\n",
       "      <td>[[1800, 33.6], [1945, 33.6], [1950, 46.82], [1...</td>\n",
       "      <td>Botswana</td>\n",
       "      <td>[[1800, 121000], [1904, 121000], [1911, 125000...</td>\n",
       "      <td>Sub-Saharan Africa</td>\n",
       "    </tr>\n",
       "    <tr>\n",
       "      <th>3</th>\n",
       "      <td>[[1800, 454.33], [1820, 454.33], [1913, 497.44...</td>\n",
       "      <td>[[1800, 29.2], [1945, 29.2], [1950, 32.89], [1...</td>\n",
       "      <td>Burkina Faso</td>\n",
       "      <td>[[1800, 1665421], [1820, 1665421], [1950, 4376...</td>\n",
       "      <td>Sub-Saharan Africa</td>\n",
       "    </tr>\n",
       "    <tr>\n",
       "      <th>4</th>\n",
       "      <td>[[1800, 447.59], [1820, 447.59], [1913, 353.82...</td>\n",
       "      <td>[[1800, 31.5], [1945, 31.5], [1950, 38.42], [1...</td>\n",
       "      <td>Burundi</td>\n",
       "      <td>[[1800, 899097], [1820, 899097], [1950, 236252...</td>\n",
       "      <td>Sub-Saharan Africa</td>\n",
       "    </tr>\n",
       "  </tbody>\n",
       "</table>\n",
       "</div>"
      ],
      "text/plain": [
       "                                              income  \\\n",
       "0  [[1800, 359.93], [1820, 359.93], [1913, 556.12...   \n",
       "1  [[1800, 553.72], [1820, 553.72], [1913, 855.53...   \n",
       "2  [[1800, 407.36], [1820, 407.36], [1913, 629.4]...   \n",
       "3  [[1800, 454.33], [1820, 454.33], [1913, 497.44...   \n",
       "4  [[1800, 447.59], [1820, 447.59], [1913, 353.82...   \n",
       "\n",
       "                                      lifeExpectancy          name  \\\n",
       "0  [[1800, 26.98], [1940, 26.98], [1950, 29.22], ...        Angola   \n",
       "1  [[1800, 31], [1944, 31], [1950, 36.53], [1951,...         Benin   \n",
       "2  [[1800, 33.6], [1945, 33.6], [1950, 46.82], [1...      Botswana   \n",
       "3  [[1800, 29.2], [1945, 29.2], [1950, 32.89], [1...  Burkina Faso   \n",
       "4  [[1800, 31.5], [1945, 31.5], [1950, 38.42], [1...       Burundi   \n",
       "\n",
       "                                          population              region  \n",
       "0  [[1800, 1567028], [1820, 1567028], [1940, 3738...  Sub-Saharan Africa  \n",
       "1  [[1800, 636559], [1820, 636559], [1950, 167266...  Sub-Saharan Africa  \n",
       "2  [[1800, 121000], [1904, 121000], [1911, 125000...  Sub-Saharan Africa  \n",
       "3  [[1800, 1665421], [1820, 1665421], [1950, 4376...  Sub-Saharan Africa  \n",
       "4  [[1800, 899097], [1820, 899097], [1950, 236252...  Sub-Saharan Africa  "
      ]
     },
     "execution_count": 34,
     "metadata": {},
     "output_type": "execute_result"
    }
   ],
   "source": [
    "year_start = 1800\n",
    "\n",
    "df = pd.read_json(\"data_files/nations.json\")\n",
    "df.head()"
   ]
  },
  {
   "cell_type": "code",
   "execution_count": 36,
   "metadata": {},
   "outputs": [],
   "source": [
    "list_rows_to_drop = \\\n",
    "(df['income']\n",
    " .apply(len)\n",
    " .where(lambda i: i < 10)\n",
    " .dropna()\n",
    " .index\n",
    " .tolist()\n",
    ")\n",
    "\n",
    "df.drop(list_rows_to_drop, inplace=True)"
   ]
  },
  {
   "cell_type": "code",
   "execution_count": 37,
   "metadata": {},
   "outputs": [],
   "source": [
    "dict_dfs = {}\n",
    "\n",
    "for COL in ['income', 'lifeExpectancy', 'population']:\n",
    "    df1 = \\\n",
    "    DataFrame(df\n",
    "              .loc[:, COL]\n",
    "              .map(lambda l: (DataFrame(l)\n",
    "                              .set_index(0)\n",
    "                              .squeeze()\n",
    "                              .reindex(range(1800, 2009))\n",
    "                              .interpolate()\n",
    "                              .to_dict()))\n",
    "              .tolist())\n",
    "    df1.index = df.name\n",
    "    dict_dfs[COL] = df1"
   ]
  },
  {
   "cell_type": "code",
   "execution_count": null,
   "metadata": {},
   "outputs": [],
   "source": [
    "def get_data(year):\n",
    "    \"\"\"\n",
    "    \"\"\"\n",
    "    income = dict_dfs['income'].loc[:, year]\n",
    "    lifeExpectancy = dict_dfs['lifeExpectancy'].loc[:, year]\n",
    "    population = dict_dfs['population'].loc[:, year]\n",
    "    return income, lifeExpectancy, population\n",
    "\n",
    "get_min_max_from_df = lambda df: (df.min().min(), df.max().max())"
   ]
  },
  {
   "cell_type": "markdown",
   "metadata": {},
   "source": [
    "---\n",
    "### Create Tooltip"
   ]
  },
  {
   "cell_type": "code",
   "execution_count": 10,
   "metadata": {},
   "outputs": [],
   "source": [
    "tt = Tooltip(fields=['name', 'x', 'y'], \n",
    "             labels=['Country', 'IncomePerCapita', 'LifeExpectancy'])"
   ]
  },
  {
   "cell_type": "markdown",
   "metadata": {},
   "source": [
    "---\n",
    "### Create Scales"
   ]
  },
  {
   "cell_type": "code",
   "execution_count": 11,
   "metadata": {},
   "outputs": [],
   "source": [
    "# Income \n",
    "income_min, income_max = get_min_max_from_df(dict_dfs['income'])\n",
    "x_sc = LogScale(min=income_min, \n",
    "                max=income_max)\n",
    "\n",
    "# Life Expectancy \n",
    "life_exp_min, life_exp_max = get_min_max_from_df(dict_dfs['lifeExpectancy'])\n",
    "y_sc = LinearScale(min=life_exp_min, \n",
    "                   max=life_exp_max)\n",
    "\n",
    "# Population\n",
    "pop_min, pop_max = get_min_max_from_df(dict_dfs['population'])\n",
    "size_sc = LinearScale(min=pop_min, \n",
    "                      max=pop_max)\n",
    "\n",
    "# Color\n",
    "c_sc = OrdinalColorScale(domain=df['region'].unique().tolist(), \n",
    "                         colors=CATEGORY10[:6])"
   ]
  },
  {
   "cell_type": "markdown",
   "metadata": {},
   "source": [
    "---\n",
    "### Create Axes"
   ]
  },
  {
   "cell_type": "code",
   "execution_count": 12,
   "metadata": {},
   "outputs": [],
   "source": [
    "ax_y = Axis(label='Life Expectancy', \n",
    "            scale=y_sc, \n",
    "            orientation='vertical', \n",
    "            side='left', \n",
    "            grid_lines='solid')\n",
    "\n",
    "ax_x = Axis(label='Income per Capita', \n",
    "            scale=x_sc, \n",
    "            grid_lines='solid')"
   ]
  },
  {
   "cell_type": "markdown",
   "metadata": {},
   "source": [
    "---\n",
    "## Create Marks\n",
    "\n",
    "### 1. Scatter"
   ]
  },
  {
   "cell_type": "code",
   "execution_count": 13,
   "metadata": {},
   "outputs": [],
   "source": [
    "cap_income, life_exp, pop = get_data(year_start)"
   ]
  },
  {
   "cell_type": "code",
   "execution_count": 14,
   "metadata": {},
   "outputs": [],
   "source": [
    "scatter_ = Scatter(x=cap_income, \n",
    "                   y=life_exp, \n",
    "                   color=df['region'], \n",
    "                   size=pop,\n",
    "                   names=df['name'], \n",
    "                   display_names=False,\n",
    "                   scales={\n",
    "                       'x': x_sc, \n",
    "                       'y': y_sc, \n",
    "                       'color': c_sc, \n",
    "                       'size': size_sc\n",
    "                   },\n",
    "                   default_size=4112, \n",
    "                   tooltip=tt, \n",
    "                   animate=True, \n",
    "                   stroke='Black',\n",
    "                   unhovered_style={'opacity': 0.5})"
   ]
  },
  {
   "cell_type": "markdown",
   "metadata": {},
   "source": [
    "### 2. Line"
   ]
  },
  {
   "cell_type": "code",
   "execution_count": 15,
   "metadata": {},
   "outputs": [],
   "source": [
    "line_ = Lines(x=dict_dfs['income'].loc['Angola'].values, \n",
    "              y=dict_dfs['lifeExpectancy'].loc['Angola'].values, \n",
    "              colors=['Gray'],\n",
    "              scales={\n",
    "                  'x': x_sc, \n",
    "                  'y': y_sc\n",
    "              }, \n",
    "              visible=False)"
   ]
  },
  {
   "cell_type": "markdown",
   "metadata": {},
   "source": [
    "---\n",
    "### Create Label"
   ]
  },
  {
   "cell_type": "code",
   "execution_count": 16,
   "metadata": {},
   "outputs": [],
   "source": [
    "year_label = Label(x=[0.75], \n",
    "                   y=[0.10],\n",
    "                   font_size=50, \n",
    "                   font_weight='bolder', \n",
    "                   colors=['orange'],\n",
    "                   text=[str(year_start)],\n",
    "                   enable_move=True)"
   ]
  },
  {
   "cell_type": "markdown",
   "metadata": {},
   "source": [
    "---\n",
    "## Construct the Figure"
   ]
  },
  {
   "cell_type": "code",
   "execution_count": 39,
   "metadata": {},
   "outputs": [
    {
     "data": {
      "application/vnd.jupyter.widget-view+json": {
       "model_id": "225812f85124480b9a902697bf6f9d03",
       "version_major": 2,
       "version_minor": 0
      },
      "text/plain": [
       "Figure(animation_duration=10, axes=[Axis(label='Income per Capita', scale=LogScale(max=119849.29, min=281.91),…"
      ]
     },
     "metadata": {},
     "output_type": "display_data"
    }
   ],
   "source": [
    "time_interval = 10\n",
    "\n",
    "fig_ = \\\n",
    "Figure(\n",
    "    marks=[scatter_, line_, year_label], \n",
    "    axes=[ax_x, ax_y],\n",
    "    title='Health and Wealth of Nations', \n",
    "    animation_duration=time_interval\n",
    ")\n",
    "\n",
    "fig_.layout.min_width = '960px'\n",
    "fig_.layout.min_height = '640px'\n",
    "\n",
    "fig_"
   ]
  },
  {
   "cell_type": "markdown",
   "metadata": {},
   "source": [
    "---\n",
    "## Add Interactivity\n",
    "\n",
    "- Update chart when year changes"
   ]
  },
  {
   "cell_type": "code",
   "execution_count": 40,
   "metadata": {},
   "outputs": [
    {
     "data": {
      "application/vnd.jupyter.widget-view+json": {
       "model_id": "b5fee685c7aa493b9b38b3907f597a20",
       "version_major": 2,
       "version_minor": 0
      },
      "text/plain": [
       "IntSlider(value=1800, description='Year: ', max=2008, min=1800)"
      ]
     },
     "metadata": {},
     "output_type": "display_data"
    }
   ],
   "source": [
    "slider_ = IntSlider(\n",
    "    min=year_start, \n",
    "    max=2008, \n",
    "    step=1, \n",
    "    description='Year: ', \n",
    "    value=year_start)\n",
    "\n",
    "def on_change_year(change):\n",
    "    \"\"\"\n",
    "    \"\"\"\n",
    "    scatter_.x, scatter_.y, scatter_.size = get_data(slider_.value)\n",
    "    year_label.text = [str(slider_.value)]\n",
    "\n",
    "slider_.observe(on_change_year, 'value')\n",
    "\n",
    "slider_"
   ]
  },
  {
   "cell_type": "markdown",
   "metadata": {},
   "source": [
    "- Display line when hovered"
   ]
  },
  {
   "cell_type": "code",
   "execution_count": 41,
   "metadata": {},
   "outputs": [],
   "source": [
    "def on_hover(change):\n",
    "    \"\"\"\n",
    "    \"\"\"\n",
    "    if change.new is not None:\n",
    "        display(change.new)\n",
    "        line_.x = dict_dfs['income'].iloc[change.new + 1]\n",
    "        line_.y = dict_dfs['lifeExpectancy'].iloc[change.new + 1]\n",
    "        line_.visible = True\n",
    "    else:\n",
    "        line_.visible = False"
   ]
  },
  {
   "cell_type": "code",
   "execution_count": 42,
   "metadata": {},
   "outputs": [],
   "source": [
    "scatter_.observe(on_hover, 'hovered_point')"
   ]
  },
  {
   "cell_type": "markdown",
   "metadata": {},
   "source": [
    "---\n",
    "## Add Animation!"
   ]
  },
  {
   "cell_type": "code",
   "execution_count": 43,
   "metadata": {},
   "outputs": [],
   "source": [
    "play_button = Play(\n",
    "    min=1800, \n",
    "    max=2008, \n",
    "    interval=time_interval\n",
    ")\n",
    "\n",
    "jslink(\n",
    "    (play_button, 'value'), \n",
    "    (slider_, 'value')\n",
    ")"
   ]
  },
  {
   "cell_type": "markdown",
   "metadata": {},
   "source": [
    "---\n",
    "## Create the GUI"
   ]
  },
  {
   "cell_type": "code",
   "execution_count": 44,
   "metadata": {},
   "outputs": [
    {
     "data": {
      "application/vnd.jupyter.widget-view+json": {
       "model_id": "42b2d9565c374099bad7177bac7daf0a",
       "version_major": 2,
       "version_minor": 0
      },
      "text/plain": [
       "VBox(children=(Play(value=1800, interval=10, max=2008, min=1800), IntSlider(value=1800, description='Year: ', …"
      ]
     },
     "metadata": {},
     "output_type": "display_data"
    }
   ],
   "source": [
    "VBox([play_button, slider_, fig_])"
   ]
  },
  {
   "cell_type": "code",
   "execution_count": null,
   "metadata": {},
   "outputs": [],
   "source": []
  }
 ],
 "metadata": {
  "kernelspec": {
   "display_name": "Python 3",
   "language": "python",
   "name": "python3"
  },
  "language_info": {
   "codemirror_mode": {
    "name": "ipython",
    "version": 3
   },
   "file_extension": ".py",
   "mimetype": "text/x-python",
   "name": "python",
   "nbconvert_exporter": "python",
   "pygments_lexer": "ipython3",
   "version": "3.6.6"
  }
 },
 "nbformat": 4,
 "nbformat_minor": 2
}
