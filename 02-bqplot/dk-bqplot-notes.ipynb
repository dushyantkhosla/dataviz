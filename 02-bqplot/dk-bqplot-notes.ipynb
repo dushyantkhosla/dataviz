{
 "cells": [
  {
   "cell_type": "markdown",
   "metadata": {},
   "source": [
    "## Introduction to bqplot\n",
    "\n",
    "- bqplot is a Grammar of Graphics based interactive visualization library for the Jupyter notebook.\n",
    "\n",
    "### I. A matplotlib inspired API\n",
    "\n",
    "- accessible with: `from bqplot import pyplot as plt` \n",
    "- Steps\n",
    "    - Create a bqplot `Figure` object as `plt.figure()`\n",
    "    - Create a bqplot `marks` object as `plt.scatter(X, y, ...)`\n",
    "        - Marks available: 'Lines', 'FlexLine', 'Scatter', 'Label', 'Hist', 'Boxplot', 'Bars', 'OHLC', 'Pie', 'Map', 'GridHeatMap', 'HeatMap', 'Graph', 'Image'\n",
    "    - Display with `plt.show()`\n",
    "    \n",
    "**Features**\n",
    "\n",
    "- using this API, any plot you generate becomes, by default, an interactive web element\n",
    "- This means that JavaScript and the Python communicate. \n",
    "    - So, the plot can be changed through a single line of python code, or \n",
    "    - a piece of python code can be triggered by a change in the plot.\n",
    "- allows us to change any aspect of the plot - after it's been drawn\n",
    "    - this is done by changing the attributes of the plot (mark) object\n",
    "- allows us to trigger functions when the plot is changed\n",
    "    - this is done via the `.observe()` method of the mark object\n",
    "- allows for the element to be animated by setting the `animation_duration` of the figure object\n"
   ]
  },
  {
   "cell_type": "code",
   "execution_count": 1,
   "metadata": {},
   "outputs": [],
   "source": [
    "import os\n",
    "\n",
    "import numpy as np\n",
    "import pandas as pd\n",
    "\n",
    "import warnings\n",
    "warnings.simplefilter('ignore', category=FutureWarning)\n",
    "\n",
    "from IPython.display import display\n",
    "import ipywidgets as widgets\n",
    "\n",
    "import bqplot as bqp \n",
    "from bqplot import pyplot as plt"
   ]
  },
  {
   "cell_type": "markdown",
   "metadata": {},
   "source": [
    "- Create some random data"
   ]
  },
  {
   "cell_type": "code",
   "execution_count": 2,
   "metadata": {},
   "outputs": [],
   "source": [
    "size = 100\n",
    "np.random.seed(0)\n",
    "\n",
    "X = np.arange(size)\n",
    "y = np.cumsum(np.random.randn(size)  * 100.0)"
   ]
  },
  {
   "cell_type": "markdown",
   "metadata": {},
   "source": [
    "- Create a Figure, then a plot and display it"
   ]
  },
  {
   "cell_type": "code",
   "execution_count": 3,
   "metadata": {},
   "outputs": [
    {
     "data": {
      "application/vnd.jupyter.widget-view+json": {
       "model_id": "5f598205c4d6482c94e794c198b26020",
       "version_major": 2,
       "version_minor": 0
      },
      "text/plain": [
       "VBox(children=(Figure(axes=[Axis(scale=LinearScale()), Axis(orientation='vertical', scale=LinearScale())], fig…"
      ]
     },
     "metadata": {},
     "output_type": "display_data"
    }
   ],
   "source": [
    "figure = plt.figure(title=\"An Interactive Scatterplot drawn with bqplot!\")\n",
    "scatter = plt.scatter(X, y)\n",
    "plt.show();"
   ]
  },
  {
   "cell_type": "markdown",
   "metadata": {},
   "source": [
    "- If we change an attribute of the Mark object, the plot will respond to it"
   ]
  },
  {
   "cell_type": "code",
   "execution_count": 4,
   "metadata": {},
   "outputs": [],
   "source": [
    "scatter.y = np.cumsum(np.random.randn(size) * 100.0)\n",
    "scatter.colors = ['salmon']\n",
    "scatter.marker = 'diamond'"
   ]
  },
  {
   "cell_type": "markdown",
   "metadata": {},
   "source": [
    "- Transitions can be animated"
   ]
  },
  {
   "cell_type": "code",
   "execution_count": 5,
   "metadata": {},
   "outputs": [],
   "source": [
    "figure.animation_duration = 500\n",
    "scatter.y = np.cumsum(np.random.randn(size) * 100.0)"
   ]
  },
  {
   "cell_type": "markdown",
   "metadata": {},
   "source": [
    "- We can allow the user to change the plot manually"
   ]
  },
  {
   "cell_type": "code",
   "execution_count": 6,
   "metadata": {},
   "outputs": [],
   "source": [
    "scatter.enable_move = True"
   ]
  },
  {
   "cell_type": "markdown",
   "metadata": {},
   "source": [
    "- We can track changes, and trigger functions in response"
   ]
  },
  {
   "cell_type": "code",
   "execution_count": 7,
   "metadata": {},
   "outputs": [],
   "source": [
    "def foo(change):\n",
    "    print(\"You moved a point!\")"
   ]
  },
  {
   "cell_type": "code",
   "execution_count": 11,
   "metadata": {},
   "outputs": [],
   "source": [
    "scatter.observe(foo, 'x')"
   ]
  },
  {
   "cell_type": "markdown",
   "metadata": {},
   "source": [
    "### II. A Grammar-of-Graphics inspired API\n",
    "\n",
    "- Exposes every element of a plot individually, so that their attriutes can be controlled in an atomic way\n",
    "- A Plot/Figure object is created using building blocks like\n",
    "    - Scales, which map data values to pixels or colors\n",
    "    - Axes, which visually represent the scales\n",
    "    - Marks, which visually represent the data    \n",
    "    \n",
    "    "
   ]
  },
  {
   "cell_type": "code",
   "execution_count": null,
   "metadata": {},
   "outputs": [],
   "source": []
  }
 ],
 "metadata": {
  "kernelspec": {
   "display_name": "Python 3",
   "language": "python",
   "name": "python3"
  },
  "language_info": {
   "codemirror_mode": {
    "name": "ipython",
    "version": 3
   },
   "file_extension": ".py",
   "mimetype": "text/x-python",
   "name": "python",
   "nbconvert_exporter": "python",
   "pygments_lexer": "ipython3",
   "version": "3.6.5"
  }
 },
 "nbformat": 4,
 "nbformat_minor": 2
}
