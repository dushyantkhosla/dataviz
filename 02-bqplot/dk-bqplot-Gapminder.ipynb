{
 "cells": [
  {
   "cell_type": "markdown",
   "metadata": {},
   "source": [
    "---\n",
    "## Health, Wealth of Nations from 1800-2008"
   ]
  },
  {
   "cell_type": "code",
   "execution_count": 1,
   "metadata": {},
   "outputs": [],
   "source": [
    "import os\n",
    "import numpy as np\n",
    "import pandas as pd\n",
    "from pandas import Series, DataFrame"
   ]
  },
  {
   "cell_type": "code",
   "execution_count": 2,
   "metadata": {},
   "outputs": [],
   "source": [
    "from bqplot import Figure, Tooltip, Label\n",
    "from bqplot import Axis, ColorAxis\n",
    "from bqplot import LogScale, LinearScale, OrdinalColorScale\n",
    "from bqplot import Scatter, Lines\n",
    "from bqplot import CATEGORY10"
   ]
  },
  {
   "cell_type": "code",
   "execution_count": 3,
   "metadata": {},
   "outputs": [],
   "source": [
    "from ipywidgets import HBox, VBox, IntSlider, Play, jslink"
   ]
  },
  {
   "cell_type": "code",
   "execution_count": 4,
   "metadata": {},
   "outputs": [],
   "source": [
    "from more_itertools import flatten"
   ]
  },
  {
   "cell_type": "markdown",
   "metadata": {},
   "source": [
    "---\n",
    "### Get Data"
   ]
  },
  {
   "cell_type": "code",
   "execution_count": 5,
   "metadata": {},
   "outputs": [],
   "source": [
    "year_start = 1800"
   ]
  },
  {
   "cell_type": "code",
   "execution_count": 6,
   "metadata": {},
   "outputs": [],
   "source": [
    "df = pd.read_json(\"data_files/nations.json\")"
   ]
  },
  {
   "cell_type": "code",
   "execution_count": 7,
   "metadata": {},
   "outputs": [],
   "source": [
    "list_rows_to_drop = df['income'].apply(len).where(lambda i: i < 10).dropna().index.tolist()\n",
    "df.drop(list_rows_to_drop, inplace=True)"
   ]
  },
  {
   "cell_type": "code",
   "execution_count": 8,
   "metadata": {},
   "outputs": [],
   "source": [
    "dict_dfs = {}\n",
    "for COL in ['income', 'lifeExpectancy', 'population']:\n",
    "    df1 = \\\n",
    "    DataFrame(df\n",
    "              .loc[:, COL]\n",
    "              .map(lambda l: (DataFrame(l)\n",
    "                              .set_index(0)\n",
    "                              .squeeze()\n",
    "                              .reindex(range(1800, 2009))\n",
    "                              .interpolate()\n",
    "                              .to_dict()))\n",
    "              .tolist())\n",
    "    df1.index = df.name\n",
    "    dict_dfs[COL] = df1"
   ]
  },
  {
   "cell_type": "code",
   "execution_count": 9,
   "metadata": {},
   "outputs": [],
   "source": [
    "def get_data(year):\n",
    "    \"\"\"\n",
    "    \"\"\"\n",
    "    income = dict_dfs['income'].loc[:, year]\n",
    "    lifeExpectancy = dict_dfs['lifeExpectancy'].loc[:, year]\n",
    "    population = dict_dfs['population'].loc[:, year]\n",
    "    return income, lifeExpectancy, population\n",
    "\n",
    "get_min_max_from_df = lambda df: (df.min().min(), df.max().max())"
   ]
  },
  {
   "cell_type": "markdown",
   "metadata": {},
   "source": [
    "---\n",
    "### Create Tooltip"
   ]
  },
  {
   "cell_type": "code",
   "execution_count": 10,
   "metadata": {},
   "outputs": [],
   "source": [
    "tt = Tooltip(fields=['name', 'x', 'y'], \n",
    "             labels=['Country', 'IncomePerCapita', 'LifeExpectancy'])"
   ]
  },
  {
   "cell_type": "markdown",
   "metadata": {},
   "source": [
    "---\n",
    "### Create Scales"
   ]
  },
  {
   "cell_type": "code",
   "execution_count": 11,
   "metadata": {},
   "outputs": [],
   "source": [
    "income_min, income_max = get_min_max_from_df(dict_dfs['income'])\n",
    "x_sc = LogScale(min=income_min, \n",
    "                max=income_max)\n",
    "\n",
    "life_exp_min, life_exp_max = get_min_max_from_df(dict_dfs['lifeExpectancy'])\n",
    "y_sc = LinearScale(min=life_exp_min, \n",
    "                   max=life_exp_max)\n",
    "\n",
    "pop_min, pop_max = get_min_max_from_df(dict_dfs['population'])\n",
    "size_sc = LinearScale(min=pop_min, \n",
    "                      max=pop_max)\n",
    "\n",
    "c_sc = OrdinalColorScale(domain=df['region'].unique().tolist(), \n",
    "                         colors=CATEGORY10[:6])"
   ]
  },
  {
   "cell_type": "markdown",
   "metadata": {},
   "source": [
    "---\n",
    "### Create Axes"
   ]
  },
  {
   "cell_type": "code",
   "execution_count": 12,
   "metadata": {},
   "outputs": [],
   "source": [
    "ax_y = Axis(label='Life Expectancy', \n",
    "            scale=y_sc, \n",
    "            orientation='vertical', \n",
    "            side='left', \n",
    "            grid_lines='solid')\n",
    "\n",
    "ax_x = Axis(label='Income per Capita', \n",
    "            scale=x_sc, \n",
    "            grid_lines='solid')"
   ]
  },
  {
   "cell_type": "markdown",
   "metadata": {},
   "source": [
    "---\n",
    "## Create Marks\n",
    "\n",
    "### 1. Scatter"
   ]
  },
  {
   "cell_type": "code",
   "execution_count": 13,
   "metadata": {},
   "outputs": [],
   "source": [
    "cap_income, life_exp, pop = get_data(year_start)"
   ]
  },
  {
   "cell_type": "code",
   "execution_count": 14,
   "metadata": {},
   "outputs": [],
   "source": [
    "scatter_ = Scatter(x=cap_income, \n",
    "                   y=life_exp, \n",
    "                   color=df['region'], \n",
    "                   size=pop,\n",
    "                   names=df['name'], \n",
    "                   display_names=False,\n",
    "                   scales={\n",
    "                       'x': x_sc, \n",
    "                       'y': y_sc, \n",
    "                       'color': c_sc, \n",
    "                       'size': size_sc\n",
    "                   },\n",
    "                   default_size=4112, \n",
    "                   tooltip=tt, \n",
    "                   animate=True, \n",
    "                   stroke='Black',\n",
    "                   unhovered_style={'opacity': 0.5})"
   ]
  },
  {
   "cell_type": "markdown",
   "metadata": {},
   "source": [
    "### 2. Line"
   ]
  },
  {
   "cell_type": "code",
   "execution_count": 15,
   "metadata": {},
   "outputs": [],
   "source": [
    "line_ = Lines(x=dict_dfs['income'].loc['Angola'].values, \n",
    "              y=dict_dfs['lifeExpectancy'].loc['Angola'].values, \n",
    "              colors=['Gray'],\n",
    "              scales={\n",
    "                  'x': x_sc, \n",
    "                  'y': y_sc\n",
    "              }, \n",
    "              visible=False)"
   ]
  },
  {
   "cell_type": "markdown",
   "metadata": {},
   "source": [
    "---\n",
    "### Create Label"
   ]
  },
  {
   "cell_type": "code",
   "execution_count": 16,
   "metadata": {},
   "outputs": [],
   "source": [
    "year_label = Label(x=[0.75], y=[0.10],\n",
    "                   font_size=50, font_weight='bolder', \n",
    "                   colors=['orange'],\n",
    "                   text=[str(year_start)],\n",
    "                   enable_move=True)"
   ]
  },
  {
   "cell_type": "markdown",
   "metadata": {},
   "source": [
    "---\n",
    "## Construct the Figure"
   ]
  },
  {
   "cell_type": "code",
   "execution_count": 17,
   "metadata": {},
   "outputs": [
    {
     "data": {
      "application/vnd.jupyter.widget-view+json": {
       "model_id": "ed81a06210734206a69ba0c03fb7bad7",
       "version_major": 2,
       "version_minor": 0
      },
      "text/plain": [
       "Figure(animation_duration=10, axes=[Axis(label='Income per Capita', scale=LogScale(max=119849.29, min=281.91))…"
      ]
     },
     "metadata": {},
     "output_type": "display_data"
    }
   ],
   "source": [
    "time_interval = 10\n",
    "\n",
    "fig_ = \\\n",
    "Figure(\n",
    "    marks=[scatter_, line_, year_label], \n",
    "    axes=[ax_x, ax_y],\n",
    "    title='Health and Wealth of Nations', \n",
    "    animation_duration=time_interval\n",
    ")\n",
    "\n",
    "fig_.layout.min_width = '960px'\n",
    "fig_.layout.min_height = '640px'\n",
    "\n",
    "fig_"
   ]
  },
  {
   "cell_type": "markdown",
   "metadata": {},
   "source": [
    "---\n",
    "## Add Interactivity\n",
    "\n",
    "- Update chart when year changes"
   ]
  },
  {
   "cell_type": "code",
   "execution_count": 18,
   "metadata": {},
   "outputs": [
    {
     "data": {
      "application/vnd.jupyter.widget-view+json": {
       "model_id": "16d31bdab00645ec9ead951bafc6a1bf",
       "version_major": 2,
       "version_minor": 0
      },
      "text/plain": [
       "IntSlider(value=1800, description='Year: ', max=2008, min=1800)"
      ]
     },
     "metadata": {},
     "output_type": "display_data"
    }
   ],
   "source": [
    "slider_ = IntSlider(min=year_start, max=2008, step=1, description='Year: ', value=year_start)\n",
    "\n",
    "def on_change_year(change):\n",
    "    \"\"\"\n",
    "    \"\"\"\n",
    "    scatter_.x, scatter_.y, scatter_.size = get_data(slider_.value)\n",
    "    year_label.text = [str(slider_.value)]\n",
    "\n",
    "slider_.observe(on_change_year, 'value')\n",
    "\n",
    "slider_"
   ]
  },
  {
   "cell_type": "markdown",
   "metadata": {},
   "source": [
    "- Display line when hovered"
   ]
  },
  {
   "cell_type": "code",
   "execution_count": 19,
   "metadata": {},
   "outputs": [],
   "source": [
    "def on_hover(change):\n",
    "    \"\"\"\n",
    "    \"\"\"\n",
    "    if change.new is not None:\n",
    "        display(change.new)\n",
    "        line_.x = dict_dfs['income'].iloc[change.new + 1]\n",
    "        line_.y = dict_dfs['lifeExpectancy'].iloc[change.new + 1]\n",
    "        line_.visible = True\n",
    "    else:\n",
    "        line_.visible = False"
   ]
  },
  {
   "cell_type": "code",
   "execution_count": 20,
   "metadata": {},
   "outputs": [],
   "source": [
    "scatter_.observe(on_hover, 'hovered_point')"
   ]
  },
  {
   "cell_type": "markdown",
   "metadata": {},
   "source": [
    "---\n",
    "## Add Animation!"
   ]
  },
  {
   "cell_type": "code",
   "execution_count": 21,
   "metadata": {},
   "outputs": [],
   "source": [
    "play_button = Play(min=1800, max=2008, interval=time_interval)\n",
    "jslink((play_button, 'value'), (slider_, 'value'))"
   ]
  },
  {
   "cell_type": "markdown",
   "metadata": {},
   "source": [
    "---\n",
    "## Create the GUI"
   ]
  },
  {
   "cell_type": "code",
   "execution_count": 22,
   "metadata": {},
   "outputs": [
    {
     "data": {
      "application/vnd.jupyter.widget-view+json": {
       "model_id": "bf851d94fc7a48a592a44b88fa884695",
       "version_major": 2,
       "version_minor": 0
      },
      "text/plain": [
       "VBox(children=(Play(value=1800, interval=10, max=2008, min=1800), IntSlider(value=1800, description='Year: ', …"
      ]
     },
     "metadata": {},
     "output_type": "display_data"
    }
   ],
   "source": [
    "VBox([play_button, slider_, fig_])"
   ]
  }
 ],
 "metadata": {
  "kernelspec": {
   "display_name": "Python 3",
   "language": "python",
   "name": "python3"
  },
  "language_info": {
   "codemirror_mode": {
    "name": "ipython",
    "version": 3
   },
   "file_extension": ".py",
   "mimetype": "text/x-python",
   "name": "python",
   "nbconvert_exporter": "python",
   "pygments_lexer": "ipython3",
   "version": "3.6.5"
  }
 },
 "nbformat": 4,
 "nbformat_minor": 2
}
