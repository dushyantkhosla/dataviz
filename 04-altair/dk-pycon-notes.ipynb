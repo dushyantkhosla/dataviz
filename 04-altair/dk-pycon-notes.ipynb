{
 "cells": [
  {
   "cell_type": "markdown",
   "metadata": {},
   "source": [
    "## Notes\n",
    "\n",
    "- Altair takes the specification of a chart in JSON and passes it to Vega-Lite\n",
    "- Vega-Lite is a format widely understood on the web to make interactive graphics (Wikipedia uses it.)\n",
    "- If you write some code to produce a chart in Altair, use the Chart object's `to_dict()` method to obtain the dict/JSON\n",
    "- Conversely, if you find some JSON of a chart you want to reproduce, use `alt.Chart.from_dict(json_as_dict)`\n",
    "- Use type markers (Quantitative, Nominal, Ordinal, Temporal) to specify types or change how a column is interpreted\n",
    "- Use `column, row` for facetting\n",
    "- Add panels (stick charts together) with `|` or `hconcat` for horizontal and `&` or `vconcat` for vertical stacking\n",
    "- Use `alt.layer()` or the `+` operator for adding layers\n",
    "- Binning via `alt.X('Colx', bin=True)` converts a Quantitative variable into bins on-the-fly\n",
    "    - use pandas binning tools if you want more control over the data\n",
    "- Aggregate functions available [here](https://altair-viz.github.io/user_guide/encoding.html#binning-and-aggregation)    \n",
    "- The `order` option and `Order` channel can sort how marks are drawn on the chart.\n",
    "- Add interactivity via manual *selections* and *conditions*\n",
    "       - For example, \n",
    "       - Use `alt.selection_interval(encodings=['x'])` to create a selection tool\n",
    "       - Use the Chart object's properties method to add the selection tool to it\n",
    "       - Use `alt.condition()` to add actions to be performed on elements within or outside the selection\n",
    "- Altair charts use _embedded_ JSON representations of pandas DataFrames, so making many charts would essentially make many copies of your dataframe, leading to a `maxRowsError`\n",
    "    - To use datasets larger than 5,000 rows, try the `alt.data_transformers.enable('json')` which converts the dataframe into a JSON file and references it, instead of embedding it into the notebook context       \n",
    "---\n",
    "\n",
    "## Read\n",
    "\n",
    "- **Bertin's Semiology of Graphics**\n",
    "\n",
    "---\n",
    "\n",
    "## Examples"
   ]
  },
  {
   "cell_type": "code",
   "execution_count": 1,
   "metadata": {},
   "outputs": [],
   "source": [
    "import pandas as pd\n",
    "import altair as alt\n",
    "from vega_datasets import data"
   ]
  },
  {
   "cell_type": "code",
   "execution_count": 26,
   "metadata": {},
   "outputs": [
    {
     "data": {
      "application/vnd.vegalite.v2+json": {
       "$schema": "https://vega.github.io/schema/vega-lite/v2.4.1.json",
       "config": {
        "view": {
         "height": 300,
         "width": 400
        }
       },
       "hconcat": [
        {
         "data": {
          "values": [
           {
            "Acceleration": 12,
            "Cylinders": 8,
            "Displacement": 307,
            "Horsepower": 130,
            "Miles_per_Gallon": 18,
            "Name": "chevrolet chevelle malibu",
            "Origin": "USA",
            "Weight_in_lbs": 3504,
            "Year": "1970-01-01"
           },
           {
            "Acceleration": 11.5,
            "Cylinders": 8,
            "Displacement": 350,
            "Horsepower": 165,
            "Miles_per_Gallon": 15,
            "Name": "buick skylark 320",
            "Origin": "USA",
            "Weight_in_lbs": 3693,
            "Year": "1970-01-01"
           },
           {
            "Acceleration": 11,
            "Cylinders": 8,
            "Displacement": 318,
            "Horsepower": 150,
            "Miles_per_Gallon": 18,
            "Name": "plymouth satellite",
            "Origin": "USA",
            "Weight_in_lbs": 3436,
            "Year": "1970-01-01"
           },
           {
            "Acceleration": 12,
            "Cylinders": 8,
            "Displacement": 304,
            "Horsepower": 150,
            "Miles_per_Gallon": 16,
            "Name": "amc rebel sst",
            "Origin": "USA",
            "Weight_in_lbs": 3433,
            "Year": "1970-01-01"
           },
           {
            "Acceleration": 10.5,
            "Cylinders": 8,
            "Displacement": 302,
            "Horsepower": 140,
            "Miles_per_Gallon": 17,
            "Name": "ford torino",
            "Origin": "USA",
            "Weight_in_lbs": 3449,
            "Year": "1970-01-01"
           },
           {
            "Acceleration": 10,
            "Cylinders": 8,
            "Displacement": 429,
            "Horsepower": 198,
            "Miles_per_Gallon": 15,
            "Name": "ford galaxie 500",
            "Origin": "USA",
            "Weight_in_lbs": 4341,
            "Year": "1970-01-01"
           },
           {
            "Acceleration": 9,
            "Cylinders": 8,
            "Displacement": 454,
            "Horsepower": 220,
            "Miles_per_Gallon": 14,
            "Name": "chevrolet impala",
            "Origin": "USA",
            "Weight_in_lbs": 4354,
            "Year": "1970-01-01"
           },
           {
            "Acceleration": 8.5,
            "Cylinders": 8,
            "Displacement": 440,
            "Horsepower": 215,
            "Miles_per_Gallon": 14,
            "Name": "plymouth fury iii",
            "Origin": "USA",
            "Weight_in_lbs": 4312,
            "Year": "1970-01-01"
           },
           {
            "Acceleration": 10,
            "Cylinders": 8,
            "Displacement": 455,
            "Horsepower": 225,
            "Miles_per_Gallon": 14,
            "Name": "pontiac catalina",
            "Origin": "USA",
            "Weight_in_lbs": 4425,
            "Year": "1970-01-01"
           },
           {
            "Acceleration": 8.5,
            "Cylinders": 8,
            "Displacement": 390,
            "Horsepower": 190,
            "Miles_per_Gallon": 15,
            "Name": "amc ambassador dpl",
            "Origin": "USA",
            "Weight_in_lbs": 3850,
            "Year": "1970-01-01"
           },
           {
            "Acceleration": 17.5,
            "Cylinders": 4,
            "Displacement": 133,
            "Horsepower": 115,
            "Miles_per_Gallon": null,
            "Name": "citroen ds-21 pallas",
            "Origin": "Europe",
            "Weight_in_lbs": 3090,
            "Year": "1970-01-01"
           },
           {
            "Acceleration": 11.5,
            "Cylinders": 8,
            "Displacement": 350,
            "Horsepower": 165,
            "Miles_per_Gallon": null,
            "Name": "chevrolet chevelle concours (sw)",
            "Origin": "USA",
            "Weight_in_lbs": 4142,
            "Year": "1970-01-01"
           },
           {
            "Acceleration": 11,
            "Cylinders": 8,
            "Displacement": 351,
            "Horsepower": 153,
            "Miles_per_Gallon": null,
            "Name": "ford torino (sw)",
            "Origin": "USA",
            "Weight_in_lbs": 4034,
            "Year": "1970-01-01"
           },
           {
            "Acceleration": 10.5,
            "Cylinders": 8,
            "Displacement": 383,
            "Horsepower": 175,
            "Miles_per_Gallon": null,
            "Name": "plymouth satellite (sw)",
            "Origin": "USA",
            "Weight_in_lbs": 4166,
            "Year": "1970-01-01"
           },
           {
            "Acceleration": 11,
            "Cylinders": 8,
            "Displacement": 360,
            "Horsepower": 175,
            "Miles_per_Gallon": null,
            "Name": "amc rebel sst (sw)",
            "Origin": "USA",
            "Weight_in_lbs": 3850,
            "Year": "1970-01-01"
           },
           {
            "Acceleration": 10,
            "Cylinders": 8,
            "Displacement": 383,
            "Horsepower": 170,
            "Miles_per_Gallon": 15,
            "Name": "dodge challenger se",
            "Origin": "USA",
            "Weight_in_lbs": 3563,
            "Year": "1970-01-01"
           },
           {
            "Acceleration": 8,
            "Cylinders": 8,
            "Displacement": 340,
            "Horsepower": 160,
            "Miles_per_Gallon": 14,
            "Name": "plymouth 'cuda 340",
            "Origin": "USA",
            "Weight_in_lbs": 3609,
            "Year": "1970-01-01"
           },
           {
            "Acceleration": 8,
            "Cylinders": 8,
            "Displacement": 302,
            "Horsepower": 140,
            "Miles_per_Gallon": null,
            "Name": "ford mustang boss 302",
            "Origin": "USA",
            "Weight_in_lbs": 3353,
            "Year": "1970-01-01"
           },
           {
            "Acceleration": 9.5,
            "Cylinders": 8,
            "Displacement": 400,
            "Horsepower": 150,
            "Miles_per_Gallon": 15,
            "Name": "chevrolet monte carlo",
            "Origin": "USA",
            "Weight_in_lbs": 3761,
            "Year": "1970-01-01"
           },
           {
            "Acceleration": 10,
            "Cylinders": 8,
            "Displacement": 455,
            "Horsepower": 225,
            "Miles_per_Gallon": 14,
            "Name": "buick estate wagon (sw)",
            "Origin": "USA",
            "Weight_in_lbs": 3086,
            "Year": "1970-01-01"
           },
           {
            "Acceleration": 15,
            "Cylinders": 4,
            "Displacement": 113,
            "Horsepower": 95,
            "Miles_per_Gallon": 24,
            "Name": "toyota corona mark ii",
            "Origin": "Japan",
            "Weight_in_lbs": 2372,
            "Year": "1970-01-01"
           },
           {
            "Acceleration": 15.5,
            "Cylinders": 6,
            "Displacement": 198,
            "Horsepower": 95,
            "Miles_per_Gallon": 22,
            "Name": "plymouth duster",
            "Origin": "USA",
            "Weight_in_lbs": 2833,
            "Year": "1970-01-01"
           },
           {
            "Acceleration": 15.5,
            "Cylinders": 6,
            "Displacement": 199,
            "Horsepower": 97,
            "Miles_per_Gallon": 18,
            "Name": "amc hornet",
            "Origin": "USA",
            "Weight_in_lbs": 2774,
            "Year": "1970-01-01"
           },
           {
            "Acceleration": 16,
            "Cylinders": 6,
            "Displacement": 200,
            "Horsepower": 85,
            "Miles_per_Gallon": 21,
            "Name": "ford maverick",
            "Origin": "USA",
            "Weight_in_lbs": 2587,
            "Year": "1970-01-01"
           },
           {
            "Acceleration": 14.5,
            "Cylinders": 4,
            "Displacement": 97,
            "Horsepower": 88,
            "Miles_per_Gallon": 27,
            "Name": "datsun pl510",
            "Origin": "Japan",
            "Weight_in_lbs": 2130,
            "Year": "1970-01-01"
           },
           {
            "Acceleration": 20.5,
            "Cylinders": 4,
            "Displacement": 97,
            "Horsepower": 46,
            "Miles_per_Gallon": 26,
            "Name": "volkswagen 1131 deluxe sedan",
            "Origin": "Europe",
            "Weight_in_lbs": 1835,
            "Year": "1970-01-01"
           },
           {
            "Acceleration": 17.5,
            "Cylinders": 4,
            "Displacement": 110,
            "Horsepower": 87,
            "Miles_per_Gallon": 25,
            "Name": "peugeot 504",
            "Origin": "Europe",
            "Weight_in_lbs": 2672,
            "Year": "1970-01-01"
           },
           {
            "Acceleration": 14.5,
            "Cylinders": 4,
            "Displacement": 107,
            "Horsepower": 90,
            "Miles_per_Gallon": 24,
            "Name": "audi 100 ls",
            "Origin": "Europe",
            "Weight_in_lbs": 2430,
            "Year": "1970-01-01"
           },
           {
            "Acceleration": 17.5,
            "Cylinders": 4,
            "Displacement": 104,
            "Horsepower": 95,
            "Miles_per_Gallon": 25,
            "Name": "saab 99e",
            "Origin": "Europe",
            "Weight_in_lbs": 2375,
            "Year": "1970-01-01"
           },
           {
            "Acceleration": 12.5,
            "Cylinders": 4,
            "Displacement": 121,
            "Horsepower": 113,
            "Miles_per_Gallon": 26,
            "Name": "bmw 2002",
            "Origin": "Europe",
            "Weight_in_lbs": 2234,
            "Year": "1970-01-01"
           },
           {
            "Acceleration": 15,
            "Cylinders": 6,
            "Displacement": 199,
            "Horsepower": 90,
            "Miles_per_Gallon": 21,
            "Name": "amc gremlin",
            "Origin": "USA",
            "Weight_in_lbs": 2648,
            "Year": "1970-01-01"
           },
           {
            "Acceleration": 14,
            "Cylinders": 8,
            "Displacement": 360,
            "Horsepower": 215,
            "Miles_per_Gallon": 10,
            "Name": "ford f250",
            "Origin": "USA",
            "Weight_in_lbs": 4615,
            "Year": "1970-01-01"
           },
           {
            "Acceleration": 15,
            "Cylinders": 8,
            "Displacement": 307,
            "Horsepower": 200,
            "Miles_per_Gallon": 10,
            "Name": "chevy c20",
            "Origin": "USA",
            "Weight_in_lbs": 4376,
            "Year": "1970-01-01"
           },
           {
            "Acceleration": 13.5,
            "Cylinders": 8,
            "Displacement": 318,
            "Horsepower": 210,
            "Miles_per_Gallon": 11,
            "Name": "dodge d200",
            "Origin": "USA",
            "Weight_in_lbs": 4382,
            "Year": "1970-01-01"
           },
           {
            "Acceleration": 18.5,
            "Cylinders": 8,
            "Displacement": 304,
            "Horsepower": 193,
            "Miles_per_Gallon": 9,
            "Name": "hi 1200d",
            "Origin": "USA",
            "Weight_in_lbs": 4732,
            "Year": "1970-01-01"
           },
           {
            "Acceleration": 14.5,
            "Cylinders": 4,
            "Displacement": 97,
            "Horsepower": 88,
            "Miles_per_Gallon": 27,
            "Name": "datsun pl510",
            "Origin": "Japan",
            "Weight_in_lbs": 2130,
            "Year": "1971-01-01"
           },
           {
            "Acceleration": 15.5,
            "Cylinders": 4,
            "Displacement": 140,
            "Horsepower": 90,
            "Miles_per_Gallon": 28,
            "Name": "chevrolet vega 2300",
            "Origin": "USA",
            "Weight_in_lbs": 2264,
            "Year": "1971-01-01"
           },
           {
            "Acceleration": 14,
            "Cylinders": 4,
            "Displacement": 113,
            "Horsepower": 95,
            "Miles_per_Gallon": 25,
            "Name": "toyota corona",
            "Origin": "Japan",
            "Weight_in_lbs": 2228,
            "Year": "1971-01-01"
           },
           {
            "Acceleration": 19,
            "Cylinders": 4,
            "Displacement": 98,
            "Horsepower": null,
            "Miles_per_Gallon": 25,
            "Name": "ford pinto",
            "Origin": "USA",
            "Weight_in_lbs": 2046,
            "Year": "1971-01-01"
           },
           {
            "Acceleration": 20,
            "Cylinders": 4,
            "Displacement": 97,
            "Horsepower": 48,
            "Miles_per_Gallon": null,
            "Name": "volkswagen super beetle 117",
            "Origin": "Europe",
            "Weight_in_lbs": 1978,
            "Year": "1971-01-01"
           },
           {
            "Acceleration": 13,
            "Cylinders": 6,
            "Displacement": 232,
            "Horsepower": 100,
            "Miles_per_Gallon": 19,
            "Name": "amc gremlin",
            "Origin": "USA",
            "Weight_in_lbs": 2634,
            "Year": "1971-01-01"
           },
           {
            "Acceleration": 15.5,
            "Cylinders": 6,
            "Displacement": 225,
            "Horsepower": 105,
            "Miles_per_Gallon": 16,
            "Name": "plymouth satellite custom",
            "Origin": "USA",
            "Weight_in_lbs": 3439,
            "Year": "1971-01-01"
           },
           {
            "Acceleration": 15.5,
            "Cylinders": 6,
            "Displacement": 250,
            "Horsepower": 100,
            "Miles_per_Gallon": 17,
            "Name": "chevrolet chevelle malibu",
            "Origin": "USA",
            "Weight_in_lbs": 3329,
            "Year": "1971-01-01"
           },
           {
            "Acceleration": 15.5,
            "Cylinders": 6,
            "Displacement": 250,
            "Horsepower": 88,
            "Miles_per_Gallon": 19,
            "Name": "ford torino 500",
            "Origin": "USA",
            "Weight_in_lbs": 3302,
            "Year": "1971-01-01"
           },
           {
            "Acceleration": 15.5,
            "Cylinders": 6,
            "Displacement": 232,
            "Horsepower": 100,
            "Miles_per_Gallon": 18,
            "Name": "amc matador",
            "Origin": "USA",
            "Weight_in_lbs": 3288,
            "Year": "1971-01-01"
           },
           {
            "Acceleration": 12,
            "Cylinders": 8,
            "Displacement": 350,
            "Horsepower": 165,
            "Miles_per_Gallon": 14,
            "Name": "chevrolet impala",
            "Origin": "USA",
            "Weight_in_lbs": 4209,
            "Year": "1971-01-01"
           },
           {
            "Acceleration": 11.5,
            "Cylinders": 8,
            "Displacement": 400,
            "Horsepower": 175,
            "Miles_per_Gallon": 14,
            "Name": "pontiac catalina brougham",
            "Origin": "USA",
            "Weight_in_lbs": 4464,
            "Year": "1971-01-01"
           },
           {
            "Acceleration": 13.5,
            "Cylinders": 8,
            "Displacement": 351,
            "Horsepower": 153,
            "Miles_per_Gallon": 14,
            "Name": "ford galaxie 500",
            "Origin": "USA",
            "Weight_in_lbs": 4154,
            "Year": "1971-01-01"
           },
           {
            "Acceleration": 13,
            "Cylinders": 8,
            "Displacement": 318,
            "Horsepower": 150,
            "Miles_per_Gallon": 14,
            "Name": "plymouth fury iii",
            "Origin": "USA",
            "Weight_in_lbs": 4096,
            "Year": "1971-01-01"
           },
           {
            "Acceleration": 11.5,
            "Cylinders": 8,
            "Displacement": 383,
            "Horsepower": 180,
            "Miles_per_Gallon": 12,
            "Name": "dodge monaco (sw)",
            "Origin": "USA",
            "Weight_in_lbs": 4955,
            "Year": "1971-01-01"
           },
           {
            "Acceleration": 12,
            "Cylinders": 8,
            "Displacement": 400,
            "Horsepower": 170,
            "Miles_per_Gallon": 13,
            "Name": "ford country squire (sw)",
            "Origin": "USA",
            "Weight_in_lbs": 4746,
            "Year": "1971-01-01"
           },
           {
            "Acceleration": 12,
            "Cylinders": 8,
            "Displacement": 400,
            "Horsepower": 175,
            "Miles_per_Gallon": 13,
            "Name": "pontiac safari (sw)",
            "Origin": "USA",
            "Weight_in_lbs": 5140,
            "Year": "1971-01-01"
           },
           {
            "Acceleration": 13.5,
            "Cylinders": 6,
            "Displacement": 258,
            "Horsepower": 110,
            "Miles_per_Gallon": 18,
            "Name": "amc hornet sportabout (sw)",
            "Origin": "USA",
            "Weight_in_lbs": 2962,
            "Year": "1971-01-01"
           },
           {
            "Acceleration": 19,
            "Cylinders": 4,
            "Displacement": 140,
            "Horsepower": 72,
            "Miles_per_Gallon": 22,
            "Name": "chevrolet vega (sw)",
            "Origin": "USA",
            "Weight_in_lbs": 2408,
            "Year": "1971-01-01"
           },
           {
            "Acceleration": 15,
            "Cylinders": 6,
            "Displacement": 250,
            "Horsepower": 100,
            "Miles_per_Gallon": 19,
            "Name": "pontiac firebird",
            "Origin": "USA",
            "Weight_in_lbs": 3282,
            "Year": "1971-01-01"
           },
           {
            "Acceleration": 14.5,
            "Cylinders": 6,
            "Displacement": 250,
            "Horsepower": 88,
            "Miles_per_Gallon": 18,
            "Name": "ford mustang",
            "Origin": "USA",
            "Weight_in_lbs": 3139,
            "Year": "1971-01-01"
           },
           {
            "Acceleration": 14,
            "Cylinders": 4,
            "Displacement": 122,
            "Horsepower": 86,
            "Miles_per_Gallon": 23,
            "Name": "mercury capri 2000",
            "Origin": "USA",
            "Weight_in_lbs": 2220,
            "Year": "1971-01-01"
           },
           {
            "Acceleration": 14,
            "Cylinders": 4,
            "Displacement": 116,
            "Horsepower": 90,
            "Miles_per_Gallon": 28,
            "Name": "opel 1900",
            "Origin": "Europe",
            "Weight_in_lbs": 2123,
            "Year": "1971-01-01"
           },
           {
            "Acceleration": 19.5,
            "Cylinders": 4,
            "Displacement": 79,
            "Horsepower": 70,
            "Miles_per_Gallon": 30,
            "Name": "peugeot 304",
            "Origin": "Europe",
            "Weight_in_lbs": 2074,
            "Year": "1971-01-01"
           },
           {
            "Acceleration": 14.5,
            "Cylinders": 4,
            "Displacement": 88,
            "Horsepower": 76,
            "Miles_per_Gallon": 30,
            "Name": "fiat 124b",
            "Origin": "Europe",
            "Weight_in_lbs": 2065,
            "Year": "1971-01-01"
           },
           {
            "Acceleration": 19,
            "Cylinders": 4,
            "Displacement": 71,
            "Horsepower": 65,
            "Miles_per_Gallon": 31,
            "Name": "toyota corolla 1200",
            "Origin": "Japan",
            "Weight_in_lbs": 1773,
            "Year": "1971-01-01"
           },
           {
            "Acceleration": 18,
            "Cylinders": 4,
            "Displacement": 72,
            "Horsepower": 69,
            "Miles_per_Gallon": 35,
            "Name": "datsun 1200",
            "Origin": "Japan",
            "Weight_in_lbs": 1613,
            "Year": "1971-01-01"
           },
           {
            "Acceleration": 19,
            "Cylinders": 4,
            "Displacement": 97,
            "Horsepower": 60,
            "Miles_per_Gallon": 27,
            "Name": "volkswagen model 111",
            "Origin": "Europe",
            "Weight_in_lbs": 1834,
            "Year": "1971-01-01"
           },
           {
            "Acceleration": 20.5,
            "Cylinders": 4,
            "Displacement": 91,
            "Horsepower": 70,
            "Miles_per_Gallon": 26,
            "Name": "plymouth cricket",
            "Origin": "USA",
            "Weight_in_lbs": 1955,
            "Year": "1971-01-01"
           },
           {
            "Acceleration": 15.5,
            "Cylinders": 4,
            "Displacement": 113,
            "Horsepower": 95,
            "Miles_per_Gallon": 24,
            "Name": "toyota corona hardtop",
            "Origin": "Japan",
            "Weight_in_lbs": 2278,
            "Year": "1972-01-01"
           },
           {
            "Acceleration": 17,
            "Cylinders": 4,
            "Displacement": 97.5,
            "Horsepower": 80,
            "Miles_per_Gallon": 25,
            "Name": "dodge colt hardtop",
            "Origin": "USA",
            "Weight_in_lbs": 2126,
            "Year": "1972-01-01"
           },
           {
            "Acceleration": 23.5,
            "Cylinders": 4,
            "Displacement": 97,
            "Horsepower": 54,
            "Miles_per_Gallon": 23,
            "Name": "volkswagen type 3",
            "Origin": "Europe",
            "Weight_in_lbs": 2254,
            "Year": "1972-01-01"
           },
           {
            "Acceleration": 19.5,
            "Cylinders": 4,
            "Displacement": 140,
            "Horsepower": 90,
            "Miles_per_Gallon": 20,
            "Name": "chevrolet vega",
            "Origin": "USA",
            "Weight_in_lbs": 2408,
            "Year": "1972-01-01"
           },
           {
            "Acceleration": 16.5,
            "Cylinders": 4,
            "Displacement": 122,
            "Horsepower": 86,
            "Miles_per_Gallon": 21,
            "Name": "ford pinto runabout",
            "Origin": "USA",
            "Weight_in_lbs": 2226,
            "Year": "1972-01-01"
           },
           {
            "Acceleration": 12,
            "Cylinders": 8,
            "Displacement": 350,
            "Horsepower": 165,
            "Miles_per_Gallon": 13,
            "Name": "chevrolet impala",
            "Origin": "USA",
            "Weight_in_lbs": 4274,
            "Year": "1972-01-01"
           },
           {
            "Acceleration": 12,
            "Cylinders": 8,
            "Displacement": 400,
            "Horsepower": 175,
            "Miles_per_Gallon": 14,
            "Name": "pontiac catalina",
            "Origin": "USA",
            "Weight_in_lbs": 4385,
            "Year": "1972-01-01"
           },
           {
            "Acceleration": 13.5,
            "Cylinders": 8,
            "Displacement": 318,
            "Horsepower": 150,
            "Miles_per_Gallon": 15,
            "Name": "plymouth fury iii",
            "Origin": "USA",
            "Weight_in_lbs": 4135,
            "Year": "1972-01-01"
           },
           {
            "Acceleration": 13,
            "Cylinders": 8,
            "Displacement": 351,
            "Horsepower": 153,
            "Miles_per_Gallon": 14,
            "Name": "ford galaxie 500",
            "Origin": "USA",
            "Weight_in_lbs": 4129,
            "Year": "1972-01-01"
           },
           {
            "Acceleration": 11.5,
            "Cylinders": 8,
            "Displacement": 304,
            "Horsepower": 150,
            "Miles_per_Gallon": 17,
            "Name": "amc ambassador sst",
            "Origin": "USA",
            "Weight_in_lbs": 3672,
            "Year": "1972-01-01"
           },
           {
            "Acceleration": 11,
            "Cylinders": 8,
            "Displacement": 429,
            "Horsepower": 208,
            "Miles_per_Gallon": 11,
            "Name": "mercury marquis",
            "Origin": "USA",
            "Weight_in_lbs": 4633,
            "Year": "1972-01-01"
           },
           {
            "Acceleration": 13.5,
            "Cylinders": 8,
            "Displacement": 350,
            "Horsepower": 155,
            "Miles_per_Gallon": 13,
            "Name": "buick lesabre custom",
            "Origin": "USA",
            "Weight_in_lbs": 4502,
            "Year": "1972-01-01"
           },
           {
            "Acceleration": 13.5,
            "Cylinders": 8,
            "Displacement": 350,
            "Horsepower": 160,
            "Miles_per_Gallon": 12,
            "Name": "oldsmobile delta 88 royale",
            "Origin": "USA",
            "Weight_in_lbs": 4456,
            "Year": "1972-01-01"
           },
           {
            "Acceleration": 12.5,
            "Cylinders": 8,
            "Displacement": 400,
            "Horsepower": 190,
            "Miles_per_Gallon": 13,
            "Name": "chrysler newport royal",
            "Origin": "USA",
            "Weight_in_lbs": 4422,
            "Year": "1972-01-01"
           },
           {
            "Acceleration": 13.5,
            "Cylinders": 3,
            "Displacement": 70,
            "Horsepower": 97,
            "Miles_per_Gallon": 19,
            "Name": "mazda rx2 coupe",
            "Origin": "Japan",
            "Weight_in_lbs": 2330,
            "Year": "1972-01-01"
           },
           {
            "Acceleration": 12.5,
            "Cylinders": 8,
            "Displacement": 304,
            "Horsepower": 150,
            "Miles_per_Gallon": 15,
            "Name": "amc matador (sw)",
            "Origin": "USA",
            "Weight_in_lbs": 3892,
            "Year": "1972-01-01"
           },
           {
            "Acceleration": 14,
            "Cylinders": 8,
            "Displacement": 307,
            "Horsepower": 130,
            "Miles_per_Gallon": 13,
            "Name": "chevrolet chevelle concours (sw)",
            "Origin": "USA",
            "Weight_in_lbs": 4098,
            "Year": "1972-01-01"
           },
           {
            "Acceleration": 16,
            "Cylinders": 8,
            "Displacement": 302,
            "Horsepower": 140,
            "Miles_per_Gallon": 13,
            "Name": "ford gran torino (sw)",
            "Origin": "USA",
            "Weight_in_lbs": 4294,
            "Year": "1972-01-01"
           },
           {
            "Acceleration": 14,
            "Cylinders": 8,
            "Displacement": 318,
            "Horsepower": 150,
            "Miles_per_Gallon": 14,
            "Name": "plymouth satellite custom (sw)",
            "Origin": "USA",
            "Weight_in_lbs": 4077,
            "Year": "1972-01-01"
           },
           {
            "Acceleration": 14.5,
            "Cylinders": 4,
            "Displacement": 121,
            "Horsepower": 112,
            "Miles_per_Gallon": 18,
            "Name": "volvo 145e (sw)",
            "Origin": "Europe",
            "Weight_in_lbs": 2933,
            "Year": "1972-01-01"
           },
           {
            "Acceleration": 18,
            "Cylinders": 4,
            "Displacement": 121,
            "Horsepower": 76,
            "Miles_per_Gallon": 22,
            "Name": "volkswagen 411 (sw)",
            "Origin": "Europe",
            "Weight_in_lbs": 2511,
            "Year": "1972-01-01"
           },
           {
            "Acceleration": 19.5,
            "Cylinders": 4,
            "Displacement": 120,
            "Horsepower": 87,
            "Miles_per_Gallon": 21,
            "Name": "peugeot 504 (sw)",
            "Origin": "Europe",
            "Weight_in_lbs": 2979,
            "Year": "1972-01-01"
           },
           {
            "Acceleration": 18,
            "Cylinders": 4,
            "Displacement": 96,
            "Horsepower": 69,
            "Miles_per_Gallon": 26,
            "Name": "renault 12 (sw)",
            "Origin": "Europe",
            "Weight_in_lbs": 2189,
            "Year": "1972-01-01"
           },
           {
            "Acceleration": 16,
            "Cylinders": 4,
            "Displacement": 122,
            "Horsepower": 86,
            "Miles_per_Gallon": 22,
            "Name": "ford pinto (sw)",
            "Origin": "USA",
            "Weight_in_lbs": 2395,
            "Year": "1972-01-01"
           },
           {
            "Acceleration": 17,
            "Cylinders": 4,
            "Displacement": 97,
            "Horsepower": 92,
            "Miles_per_Gallon": 28,
            "Name": "datsun 510 (sw)",
            "Origin": "Japan",
            "Weight_in_lbs": 2288,
            "Year": "1972-01-01"
           },
           {
            "Acceleration": 14.5,
            "Cylinders": 4,
            "Displacement": 120,
            "Horsepower": 97,
            "Miles_per_Gallon": 23,
            "Name": "toyouta corona mark ii (sw)",
            "Origin": "Japan",
            "Weight_in_lbs": 2506,
            "Year": "1972-01-01"
           },
           {
            "Acceleration": 15,
            "Cylinders": 4,
            "Displacement": 98,
            "Horsepower": 80,
            "Miles_per_Gallon": 28,
            "Name": "dodge colt (sw)",
            "Origin": "USA",
            "Weight_in_lbs": 2164,
            "Year": "1972-01-01"
           },
           {
            "Acceleration": 16.5,
            "Cylinders": 4,
            "Displacement": 97,
            "Horsepower": 88,
            "Miles_per_Gallon": 27,
            "Name": "toyota corolla 1600 (sw)",
            "Origin": "Japan",
            "Weight_in_lbs": 2100,
            "Year": "1972-01-01"
           },
           {
            "Acceleration": 13,
            "Cylinders": 8,
            "Displacement": 350,
            "Horsepower": 175,
            "Miles_per_Gallon": 13,
            "Name": "buick century 350",
            "Origin": "USA",
            "Weight_in_lbs": 4100,
            "Year": "1973-01-01"
           },
           {
            "Acceleration": 11.5,
            "Cylinders": 8,
            "Displacement": 304,
            "Horsepower": 150,
            "Miles_per_Gallon": 14,
            "Name": "amc matador",
            "Origin": "USA",
            "Weight_in_lbs": 3672,
            "Year": "1973-01-01"
           },
           {
            "Acceleration": 13,
            "Cylinders": 8,
            "Displacement": 350,
            "Horsepower": 145,
            "Miles_per_Gallon": 13,
            "Name": "chevrolet malibu",
            "Origin": "USA",
            "Weight_in_lbs": 3988,
            "Year": "1973-01-01"
           },
           {
            "Acceleration": 14.5,
            "Cylinders": 8,
            "Displacement": 302,
            "Horsepower": 137,
            "Miles_per_Gallon": 14,
            "Name": "ford gran torino",
            "Origin": "USA",
            "Weight_in_lbs": 4042,
            "Year": "1973-01-01"
           },
           {
            "Acceleration": 12.5,
            "Cylinders": 8,
            "Displacement": 318,
            "Horsepower": 150,
            "Miles_per_Gallon": 15,
            "Name": "dodge coronet custom",
            "Origin": "USA",
            "Weight_in_lbs": 3777,
            "Year": "1973-01-01"
           },
           {
            "Acceleration": 11.5,
            "Cylinders": 8,
            "Displacement": 429,
            "Horsepower": 198,
            "Miles_per_Gallon": 12,
            "Name": "mercury marquis brougham",
            "Origin": "USA",
            "Weight_in_lbs": 4952,
            "Year": "1973-01-01"
           },
           {
            "Acceleration": 12,
            "Cylinders": 8,
            "Displacement": 400,
            "Horsepower": 150,
            "Miles_per_Gallon": 13,
            "Name": "chevrolet caprice classic",
            "Origin": "USA",
            "Weight_in_lbs": 4464,
            "Year": "1973-01-01"
           },
           {
            "Acceleration": 13,
            "Cylinders": 8,
            "Displacement": 351,
            "Horsepower": 158,
            "Miles_per_Gallon": 13,
            "Name": "ford ltd",
            "Origin": "USA",
            "Weight_in_lbs": 4363,
            "Year": "1973-01-01"
           },
           {
            "Acceleration": 14.5,
            "Cylinders": 8,
            "Displacement": 318,
            "Horsepower": 150,
            "Miles_per_Gallon": 14,
            "Name": "plymouth fury gran sedan",
            "Origin": "USA",
            "Weight_in_lbs": 4237,
            "Year": "1973-01-01"
           },
           {
            "Acceleration": 11,
            "Cylinders": 8,
            "Displacement": 440,
            "Horsepower": 215,
            "Miles_per_Gallon": 13,
            "Name": "chrysler new yorker brougham",
            "Origin": "USA",
            "Weight_in_lbs": 4735,
            "Year": "1973-01-01"
           },
           {
            "Acceleration": 11,
            "Cylinders": 8,
            "Displacement": 455,
            "Horsepower": 225,
            "Miles_per_Gallon": 12,
            "Name": "buick electra 225 custom",
            "Origin": "USA",
            "Weight_in_lbs": 4951,
            "Year": "1973-01-01"
           },
           {
            "Acceleration": 11,
            "Cylinders": 8,
            "Displacement": 360,
            "Horsepower": 175,
            "Miles_per_Gallon": 13,
            "Name": "amc ambassador brougham",
            "Origin": "USA",
            "Weight_in_lbs": 3821,
            "Year": "1973-01-01"
           },
           {
            "Acceleration": 16.5,
            "Cylinders": 6,
            "Displacement": 225,
            "Horsepower": 105,
            "Miles_per_Gallon": 18,
            "Name": "plymouth valiant",
            "Origin": "USA",
            "Weight_in_lbs": 3121,
            "Year": "1973-01-01"
           },
           {
            "Acceleration": 18,
            "Cylinders": 6,
            "Displacement": 250,
            "Horsepower": 100,
            "Miles_per_Gallon": 16,
            "Name": "chevrolet nova custom",
            "Origin": "USA",
            "Weight_in_lbs": 3278,
            "Year": "1973-01-01"
           },
           {
            "Acceleration": 16,
            "Cylinders": 6,
            "Displacement": 232,
            "Horsepower": 100,
            "Miles_per_Gallon": 18,
            "Name": "amc hornet",
            "Origin": "USA",
            "Weight_in_lbs": 2945,
            "Year": "1973-01-01"
           },
           {
            "Acceleration": 16.5,
            "Cylinders": 6,
            "Displacement": 250,
            "Horsepower": 88,
            "Miles_per_Gallon": 18,
            "Name": "ford maverick",
            "Origin": "USA",
            "Weight_in_lbs": 3021,
            "Year": "1973-01-01"
           },
           {
            "Acceleration": 16,
            "Cylinders": 6,
            "Displacement": 198,
            "Horsepower": 95,
            "Miles_per_Gallon": 23,
            "Name": "plymouth duster",
            "Origin": "USA",
            "Weight_in_lbs": 2904,
            "Year": "1973-01-01"
           },
           {
            "Acceleration": 21,
            "Cylinders": 4,
            "Displacement": 97,
            "Horsepower": 46,
            "Miles_per_Gallon": 26,
            "Name": "volkswagen super beetle",
            "Origin": "Europe",
            "Weight_in_lbs": 1950,
            "Year": "1973-01-01"
           },
           {
            "Acceleration": 14,
            "Cylinders": 8,
            "Displacement": 400,
            "Horsepower": 150,
            "Miles_per_Gallon": 11,
            "Name": "chevrolet impala",
            "Origin": "USA",
            "Weight_in_lbs": 4997,
            "Year": "1973-01-01"
           },
           {
            "Acceleration": 12.5,
            "Cylinders": 8,
            "Displacement": 400,
            "Horsepower": 167,
            "Miles_per_Gallon": 12,
            "Name": "ford country",
            "Origin": "USA",
            "Weight_in_lbs": 4906,
            "Year": "1973-01-01"
           },
           {
            "Acceleration": 13,
            "Cylinders": 8,
            "Displacement": 360,
            "Horsepower": 170,
            "Miles_per_Gallon": 13,
            "Name": "plymouth custom suburb",
            "Origin": "USA",
            "Weight_in_lbs": 4654,
            "Year": "1973-01-01"
           },
           {
            "Acceleration": 12.5,
            "Cylinders": 8,
            "Displacement": 350,
            "Horsepower": 180,
            "Miles_per_Gallon": 12,
            "Name": "oldsmobile vista cruiser",
            "Origin": "USA",
            "Weight_in_lbs": 4499,
            "Year": "1973-01-01"
           },
           {
            "Acceleration": 15,
            "Cylinders": 6,
            "Displacement": 232,
            "Horsepower": 100,
            "Miles_per_Gallon": 18,
            "Name": "amc gremlin",
            "Origin": "USA",
            "Weight_in_lbs": 2789,
            "Year": "1973-01-01"
           },
           {
            "Acceleration": 19,
            "Cylinders": 4,
            "Displacement": 97,
            "Horsepower": 88,
            "Miles_per_Gallon": 20,
            "Name": "toyota carina",
            "Origin": "Japan",
            "Weight_in_lbs": 2279,
            "Year": "1973-01-01"
           },
           {
            "Acceleration": 19.5,
            "Cylinders": 4,
            "Displacement": 140,
            "Horsepower": 72,
            "Miles_per_Gallon": 21,
            "Name": "chevrolet vega",
            "Origin": "USA",
            "Weight_in_lbs": 2401,
            "Year": "1973-01-01"
           },
           {
            "Acceleration": 16.5,
            "Cylinders": 4,
            "Displacement": 108,
            "Horsepower": 94,
            "Miles_per_Gallon": 22,
            "Name": "datsun 610",
            "Origin": "Japan",
            "Weight_in_lbs": 2379,
            "Year": "1973-01-01"
           },
           {
            "Acceleration": 13.5,
            "Cylinders": 3,
            "Displacement": 70,
            "Horsepower": 90,
            "Miles_per_Gallon": 18,
            "Name": "maxda rx3",
            "Origin": "Japan",
            "Weight_in_lbs": 2124,
            "Year": "1973-01-01"
           },
           {
            "Acceleration": 18.5,
            "Cylinders": 4,
            "Displacement": 122,
            "Horsepower": 85,
            "Miles_per_Gallon": 19,
            "Name": "ford pinto",
            "Origin": "USA",
            "Weight_in_lbs": 2310,
            "Year": "1973-01-01"
           },
           {
            "Acceleration": 14,
            "Cylinders": 6,
            "Displacement": 155,
            "Horsepower": 107,
            "Miles_per_Gallon": 21,
            "Name": "mercury capri v6",
            "Origin": "USA",
            "Weight_in_lbs": 2472,
            "Year": "1973-01-01"
           },
           {
            "Acceleration": 15.5,
            "Cylinders": 4,
            "Displacement": 98,
            "Horsepower": 90,
            "Miles_per_Gallon": 26,
            "Name": "fiat 124 sport coupe",
            "Origin": "Europe",
            "Weight_in_lbs": 2265,
            "Year": "1973-01-01"
           },
           {
            "Acceleration": 13,
            "Cylinders": 8,
            "Displacement": 350,
            "Horsepower": 145,
            "Miles_per_Gallon": 15,
            "Name": "chevrolet monte carlo s",
            "Origin": "USA",
            "Weight_in_lbs": 4082,
            "Year": "1973-01-01"
           },
           {
            "Acceleration": 9.5,
            "Cylinders": 8,
            "Displacement": 400,
            "Horsepower": 230,
            "Miles_per_Gallon": 16,
            "Name": "pontiac grand prix",
            "Origin": "USA",
            "Weight_in_lbs": 4278,
            "Year": "1973-01-01"
           },
           {
            "Acceleration": 19.5,
            "Cylinders": 4,
            "Displacement": 68,
            "Horsepower": 49,
            "Miles_per_Gallon": 29,
            "Name": "fiat 128",
            "Origin": "Europe",
            "Weight_in_lbs": 1867,
            "Year": "1973-01-01"
           },
           {
            "Acceleration": 15.5,
            "Cylinders": 4,
            "Displacement": 116,
            "Horsepower": 75,
            "Miles_per_Gallon": 24,
            "Name": "opel manta",
            "Origin": "Europe",
            "Weight_in_lbs": 2158,
            "Year": "1973-01-01"
           },
           {
            "Acceleration": 14,
            "Cylinders": 4,
            "Displacement": 114,
            "Horsepower": 91,
            "Miles_per_Gallon": 20,
            "Name": "audi 100ls",
            "Origin": "Europe",
            "Weight_in_lbs": 2582,
            "Year": "1973-01-01"
           },
           {
            "Acceleration": 15.5,
            "Cylinders": 4,
            "Displacement": 121,
            "Horsepower": 112,
            "Miles_per_Gallon": 19,
            "Name": "volvo 144ea",
            "Origin": "Europe",
            "Weight_in_lbs": 2868,
            "Year": "1973-01-01"
           },
           {
            "Acceleration": 11,
            "Cylinders": 8,
            "Displacement": 318,
            "Horsepower": 150,
            "Miles_per_Gallon": 15,
            "Name": "dodge dart custom",
            "Origin": "USA",
            "Weight_in_lbs": 3399,
            "Year": "1973-01-01"
           },
           {
            "Acceleration": 14,
            "Cylinders": 4,
            "Displacement": 121,
            "Horsepower": 110,
            "Miles_per_Gallon": 24,
            "Name": "saab 99le",
            "Origin": "Europe",
            "Weight_in_lbs": 2660,
            "Year": "1973-01-01"
           },
           {
            "Acceleration": 13.5,
            "Cylinders": 6,
            "Displacement": 156,
            "Horsepower": 122,
            "Miles_per_Gallon": 20,
            "Name": "toyota mark ii",
            "Origin": "Japan",
            "Weight_in_lbs": 2807,
            "Year": "1973-01-01"
           },
           {
            "Acceleration": 11,
            "Cylinders": 8,
            "Displacement": 350,
            "Horsepower": 180,
            "Miles_per_Gallon": 11,
            "Name": "oldsmobile omega",
            "Origin": "USA",
            "Weight_in_lbs": 3664,
            "Year": "1973-01-01"
           },
           {
            "Acceleration": 16.5,
            "Cylinders": 6,
            "Displacement": 198,
            "Horsepower": 95,
            "Miles_per_Gallon": 20,
            "Name": "plymouth duster",
            "Origin": "USA",
            "Weight_in_lbs": 3102,
            "Year": "1974-01-01"
           },
           {
            "Acceleration": 17,
            "Cylinders": 6,
            "Displacement": 200,
            "Horsepower": null,
            "Miles_per_Gallon": 21,
            "Name": "ford maverick",
            "Origin": "USA",
            "Weight_in_lbs": 2875,
            "Year": "1974-01-01"
           },
           {
            "Acceleration": 16,
            "Cylinders": 6,
            "Displacement": 232,
            "Horsepower": 100,
            "Miles_per_Gallon": 19,
            "Name": "amc hornet",
            "Origin": "USA",
            "Weight_in_lbs": 2901,
            "Year": "1974-01-01"
           },
           {
            "Acceleration": 17,
            "Cylinders": 6,
            "Displacement": 250,
            "Horsepower": 100,
            "Miles_per_Gallon": 15,
            "Name": "chevrolet nova",
            "Origin": "USA",
            "Weight_in_lbs": 3336,
            "Year": "1974-01-01"
           },
           {
            "Acceleration": 19,
            "Cylinders": 4,
            "Displacement": 79,
            "Horsepower": 67,
            "Miles_per_Gallon": 31,
            "Name": "datsun b210",
            "Origin": "Japan",
            "Weight_in_lbs": 1950,
            "Year": "1974-01-01"
           },
           {
            "Acceleration": 16.5,
            "Cylinders": 4,
            "Displacement": 122,
            "Horsepower": 80,
            "Miles_per_Gallon": 26,
            "Name": "ford pinto",
            "Origin": "USA",
            "Weight_in_lbs": 2451,
            "Year": "1974-01-01"
           },
           {
            "Acceleration": 21,
            "Cylinders": 4,
            "Displacement": 71,
            "Horsepower": 65,
            "Miles_per_Gallon": 32,
            "Name": "toyota corolla 1200",
            "Origin": "Japan",
            "Weight_in_lbs": 1836,
            "Year": "1974-01-01"
           },
           {
            "Acceleration": 17,
            "Cylinders": 4,
            "Displacement": 140,
            "Horsepower": 75,
            "Miles_per_Gallon": 25,
            "Name": "chevrolet vega",
            "Origin": "USA",
            "Weight_in_lbs": 2542,
            "Year": "1974-01-01"
           },
           {
            "Acceleration": 17,
            "Cylinders": 6,
            "Displacement": 250,
            "Horsepower": 100,
            "Miles_per_Gallon": 16,
            "Name": "chevrolet chevelle malibu classic",
            "Origin": "USA",
            "Weight_in_lbs": 3781,
            "Year": "1974-01-01"
           },
           {
            "Acceleration": 18,
            "Cylinders": 6,
            "Displacement": 258,
            "Horsepower": 110,
            "Miles_per_Gallon": 16,
            "Name": "amc matador",
            "Origin": "USA",
            "Weight_in_lbs": 3632,
            "Year": "1974-01-01"
           },
           {
            "Acceleration": 16.5,
            "Cylinders": 6,
            "Displacement": 225,
            "Horsepower": 105,
            "Miles_per_Gallon": 18,
            "Name": "plymouth satellite sebring",
            "Origin": "USA",
            "Weight_in_lbs": 3613,
            "Year": "1974-01-01"
           },
           {
            "Acceleration": 14,
            "Cylinders": 8,
            "Displacement": 302,
            "Horsepower": 140,
            "Miles_per_Gallon": 16,
            "Name": "ford gran torino",
            "Origin": "USA",
            "Weight_in_lbs": 4141,
            "Year": "1974-01-01"
           },
           {
            "Acceleration": 14.5,
            "Cylinders": 8,
            "Displacement": 350,
            "Horsepower": 150,
            "Miles_per_Gallon": 13,
            "Name": "buick century luxus (sw)",
            "Origin": "USA",
            "Weight_in_lbs": 4699,
            "Year": "1974-01-01"
           },
           {
            "Acceleration": 13.5,
            "Cylinders": 8,
            "Displacement": 318,
            "Horsepower": 150,
            "Miles_per_Gallon": 14,
            "Name": "dodge coronet custom (sw)",
            "Origin": "USA",
            "Weight_in_lbs": 4457,
            "Year": "1974-01-01"
           },
           {
            "Acceleration": 16,
            "Cylinders": 8,
            "Displacement": 302,
            "Horsepower": 140,
            "Miles_per_Gallon": 14,
            "Name": "ford gran torino (sw)",
            "Origin": "USA",
            "Weight_in_lbs": 4638,
            "Year": "1974-01-01"
           },
           {
            "Acceleration": 15.5,
            "Cylinders": 8,
            "Displacement": 304,
            "Horsepower": 150,
            "Miles_per_Gallon": 14,
            "Name": "amc matador (sw)",
            "Origin": "USA",
            "Weight_in_lbs": 4257,
            "Year": "1974-01-01"
           },
           {
            "Acceleration": 16.5,
            "Cylinders": 4,
            "Displacement": 98,
            "Horsepower": 83,
            "Miles_per_Gallon": 29,
            "Name": "audi fox",
            "Origin": "Europe",
            "Weight_in_lbs": 2219,
            "Year": "1974-01-01"
           },
           {
            "Acceleration": 15.5,
            "Cylinders": 4,
            "Displacement": 79,
            "Horsepower": 67,
            "Miles_per_Gallon": 26,
            "Name": "volkswagen dasher",
            "Origin": "Europe",
            "Weight_in_lbs": 1963,
            "Year": "1974-01-01"
           },
           {
            "Acceleration": 14.5,
            "Cylinders": 4,
            "Displacement": 97,
            "Horsepower": 78,
            "Miles_per_Gallon": 26,
            "Name": "opel manta",
            "Origin": "Europe",
            "Weight_in_lbs": 2300,
            "Year": "1974-01-01"
           },
           {
            "Acceleration": 16.5,
            "Cylinders": 4,
            "Displacement": 76,
            "Horsepower": 52,
            "Miles_per_Gallon": 31,
            "Name": "toyota corona",
            "Origin": "Japan",
            "Weight_in_lbs": 1649,
            "Year": "1974-01-01"
           },
           {
            "Acceleration": 19,
            "Cylinders": 4,
            "Displacement": 83,
            "Horsepower": 61,
            "Miles_per_Gallon": 32,
            "Name": "datsun 710",
            "Origin": "Japan",
            "Weight_in_lbs": 2003,
            "Year": "1974-01-01"
           },
           {
            "Acceleration": 14.5,
            "Cylinders": 4,
            "Displacement": 90,
            "Horsepower": 75,
            "Miles_per_Gallon": 28,
            "Name": "dodge colt",
            "Origin": "USA",
            "Weight_in_lbs": 2125,
            "Year": "1974-01-01"
           },
           {
            "Acceleration": 15.5,
            "Cylinders": 4,
            "Displacement": 90,
            "Horsepower": 75,
            "Miles_per_Gallon": 24,
            "Name": "fiat 128",
            "Origin": "Europe",
            "Weight_in_lbs": 2108,
            "Year": "1974-01-01"
           },
           {
            "Acceleration": 14,
            "Cylinders": 4,
            "Displacement": 116,
            "Horsepower": 75,
            "Miles_per_Gallon": 26,
            "Name": "fiat 124 tc",
            "Origin": "Europe",
            "Weight_in_lbs": 2246,
            "Year": "1974-01-01"
           },
           {
            "Acceleration": 15,
            "Cylinders": 4,
            "Displacement": 120,
            "Horsepower": 97,
            "Miles_per_Gallon": 24,
            "Name": "honda civic",
            "Origin": "Japan",
            "Weight_in_lbs": 2489,
            "Year": "1974-01-01"
           },
           {
            "Acceleration": 15.5,
            "Cylinders": 4,
            "Displacement": 108,
            "Horsepower": 93,
            "Miles_per_Gallon": 26,
            "Name": "subaru",
            "Origin": "Japan",
            "Weight_in_lbs": 2391,
            "Year": "1974-01-01"
           },
           {
            "Acceleration": 16,
            "Cylinders": 4,
            "Displacement": 79,
            "Horsepower": 67,
            "Miles_per_Gallon": 31,
            "Name": "fiat x1.9",
            "Origin": "Europe",
            "Weight_in_lbs": 2000,
            "Year": "1974-01-01"
           },
           {
            "Acceleration": 16,
            "Cylinders": 6,
            "Displacement": 225,
            "Horsepower": 95,
            "Miles_per_Gallon": 19,
            "Name": "plymouth valiant custom",
            "Origin": "USA",
            "Weight_in_lbs": 3264,
            "Year": "1975-01-01"
           },
           {
            "Acceleration": 16,
            "Cylinders": 6,
            "Displacement": 250,
            "Horsepower": 105,
            "Miles_per_Gallon": 18,
            "Name": "chevrolet nova",
            "Origin": "USA",
            "Weight_in_lbs": 3459,
            "Year": "1975-01-01"
           },
           {
            "Acceleration": 21,
            "Cylinders": 6,
            "Displacement": 250,
            "Horsepower": 72,
            "Miles_per_Gallon": 15,
            "Name": "mercury monarch",
            "Origin": "USA",
            "Weight_in_lbs": 3432,
            "Year": "1975-01-01"
           },
           {
            "Acceleration": 19.5,
            "Cylinders": 6,
            "Displacement": 250,
            "Horsepower": 72,
            "Miles_per_Gallon": 15,
            "Name": "ford maverick",
            "Origin": "USA",
            "Weight_in_lbs": 3158,
            "Year": "1975-01-01"
           },
           {
            "Acceleration": 11.5,
            "Cylinders": 8,
            "Displacement": 400,
            "Horsepower": 170,
            "Miles_per_Gallon": 16,
            "Name": "pontiac catalina",
            "Origin": "USA",
            "Weight_in_lbs": 4668,
            "Year": "1975-01-01"
           },
           {
            "Acceleration": 14,
            "Cylinders": 8,
            "Displacement": 350,
            "Horsepower": 145,
            "Miles_per_Gallon": 15,
            "Name": "chevrolet bel air",
            "Origin": "USA",
            "Weight_in_lbs": 4440,
            "Year": "1975-01-01"
           },
           {
            "Acceleration": 14.5,
            "Cylinders": 8,
            "Displacement": 318,
            "Horsepower": 150,
            "Miles_per_Gallon": 16,
            "Name": "plymouth grand fury",
            "Origin": "USA",
            "Weight_in_lbs": 4498,
            "Year": "1975-01-01"
           },
           {
            "Acceleration": 13.5,
            "Cylinders": 8,
            "Displacement": 351,
            "Horsepower": 148,
            "Miles_per_Gallon": 14,
            "Name": "ford ltd",
            "Origin": "USA",
            "Weight_in_lbs": 4657,
            "Year": "1975-01-01"
           },
           {
            "Acceleration": 21,
            "Cylinders": 6,
            "Displacement": 231,
            "Horsepower": 110,
            "Miles_per_Gallon": 17,
            "Name": "buick century",
            "Origin": "USA",
            "Weight_in_lbs": 3907,
            "Year": "1975-01-01"
           },
           {
            "Acceleration": 18.5,
            "Cylinders": 6,
            "Displacement": 250,
            "Horsepower": 105,
            "Miles_per_Gallon": 16,
            "Name": "chevroelt chevelle malibu",
            "Origin": "USA",
            "Weight_in_lbs": 3897,
            "Year": "1975-01-01"
           },
           {
            "Acceleration": 19,
            "Cylinders": 6,
            "Displacement": 258,
            "Horsepower": 110,
            "Miles_per_Gallon": 15,
            "Name": "amc matador",
            "Origin": "USA",
            "Weight_in_lbs": 3730,
            "Year": "1975-01-01"
           },
           {
            "Acceleration": 19,
            "Cylinders": 6,
            "Displacement": 225,
            "Horsepower": 95,
            "Miles_per_Gallon": 18,
            "Name": "plymouth fury",
            "Origin": "USA",
            "Weight_in_lbs": 3785,
            "Year": "1975-01-01"
           },
           {
            "Acceleration": 15,
            "Cylinders": 6,
            "Displacement": 231,
            "Horsepower": 110,
            "Miles_per_Gallon": 21,
            "Name": "buick skyhawk",
            "Origin": "USA",
            "Weight_in_lbs": 3039,
            "Year": "1975-01-01"
           },
           {
            "Acceleration": 13.5,
            "Cylinders": 8,
            "Displacement": 262,
            "Horsepower": 110,
            "Miles_per_Gallon": 20,
            "Name": "chevrolet monza 2+2",
            "Origin": "USA",
            "Weight_in_lbs": 3221,
            "Year": "1975-01-01"
           },
           {
            "Acceleration": 12,
            "Cylinders": 8,
            "Displacement": 302,
            "Horsepower": 129,
            "Miles_per_Gallon": 13,
            "Name": "ford mustang ii",
            "Origin": "USA",
            "Weight_in_lbs": 3169,
            "Year": "1975-01-01"
           },
           {
            "Acceleration": 16,
            "Cylinders": 4,
            "Displacement": 97,
            "Horsepower": 75,
            "Miles_per_Gallon": 29,
            "Name": "toyota corolla",
            "Origin": "Japan",
            "Weight_in_lbs": 2171,
            "Year": "1975-01-01"
           },
           {
            "Acceleration": 17,
            "Cylinders": 4,
            "Displacement": 140,
            "Horsepower": 83,
            "Miles_per_Gallon": 23,
            "Name": "ford pinto",
            "Origin": "USA",
            "Weight_in_lbs": 2639,
            "Year": "1975-01-01"
           },
           {
            "Acceleration": 16,
            "Cylinders": 6,
            "Displacement": 232,
            "Horsepower": 100,
            "Miles_per_Gallon": 20,
            "Name": "amc gremlin",
            "Origin": "USA",
            "Weight_in_lbs": 2914,
            "Year": "1975-01-01"
           },
           {
            "Acceleration": 18.5,
            "Cylinders": 4,
            "Displacement": 140,
            "Horsepower": 78,
            "Miles_per_Gallon": 23,
            "Name": "pontiac astro",
            "Origin": "USA",
            "Weight_in_lbs": 2592,
            "Year": "1975-01-01"
           },
           {
            "Acceleration": 13.5,
            "Cylinders": 4,
            "Displacement": 134,
            "Horsepower": 96,
            "Miles_per_Gallon": 24,
            "Name": "toyota corona",
            "Origin": "Japan",
            "Weight_in_lbs": 2702,
            "Year": "1975-01-01"
           },
           {
            "Acceleration": 16.5,
            "Cylinders": 4,
            "Displacement": 90,
            "Horsepower": 71,
            "Miles_per_Gallon": 25,
            "Name": "volkswagen dasher",
            "Origin": "Europe",
            "Weight_in_lbs": 2223,
            "Year": "1975-01-01"
           },
           {
            "Acceleration": 17,
            "Cylinders": 4,
            "Displacement": 119,
            "Horsepower": 97,
            "Miles_per_Gallon": 24,
            "Name": "datsun 710",
            "Origin": "Japan",
            "Weight_in_lbs": 2545,
            "Year": "1975-01-01"
           },
           {
            "Acceleration": 14.5,
            "Cylinders": 6,
            "Displacement": 171,
            "Horsepower": 97,
            "Miles_per_Gallon": 18,
            "Name": "ford pinto",
            "Origin": "USA",
            "Weight_in_lbs": 2984,
            "Year": "1975-01-01"
           },
           {
            "Acceleration": 14,
            "Cylinders": 4,
            "Displacement": 90,
            "Horsepower": 70,
            "Miles_per_Gallon": 29,
            "Name": "volkswagen rabbit",
            "Origin": "Europe",
            "Weight_in_lbs": 1937,
            "Year": "1975-01-01"
           },
           {
            "Acceleration": 17,
            "Cylinders": 6,
            "Displacement": 232,
            "Horsepower": 90,
            "Miles_per_Gallon": 19,
            "Name": "amc pacer",
            "Origin": "USA",
            "Weight_in_lbs": 3211,
            "Year": "1975-01-01"
           },
           {
            "Acceleration": 15,
            "Cylinders": 4,
            "Displacement": 115,
            "Horsepower": 95,
            "Miles_per_Gallon": 23,
            "Name": "audi 100ls",
            "Origin": "Europe",
            "Weight_in_lbs": 2694,
            "Year": "1975-01-01"
           },
           {
            "Acceleration": 17,
            "Cylinders": 4,
            "Displacement": 120,
            "Horsepower": 88,
            "Miles_per_Gallon": 23,
            "Name": "peugeot 504",
            "Origin": "Europe",
            "Weight_in_lbs": 2957,
            "Year": "1975-01-01"
           },
           {
            "Acceleration": 14.5,
            "Cylinders": 4,
            "Displacement": 121,
            "Horsepower": 98,
            "Miles_per_Gallon": 22,
            "Name": "volvo 244dl",
            "Origin": "Europe",
            "Weight_in_lbs": 2945,
            "Year": "1975-01-01"
           },
           {
            "Acceleration": 13.5,
            "Cylinders": 4,
            "Displacement": 121,
            "Horsepower": 115,
            "Miles_per_Gallon": 25,
            "Name": "saab 99le",
            "Origin": "Europe",
            "Weight_in_lbs": 2671,
            "Year": "1975-01-01"
           },
           {
            "Acceleration": 17.5,
            "Cylinders": 4,
            "Displacement": 91,
            "Horsepower": 53,
            "Miles_per_Gallon": 33,
            "Name": "honda civic cvcc",
            "Origin": "Japan",
            "Weight_in_lbs": 1795,
            "Year": "1975-01-01"
           },
           {
            "Acceleration": 15.5,
            "Cylinders": 4,
            "Displacement": 107,
            "Horsepower": 86,
            "Miles_per_Gallon": 28,
            "Name": "fiat 131",
            "Origin": "Europe",
            "Weight_in_lbs": 2464,
            "Year": "1976-01-01"
           },
           {
            "Acceleration": 16.9,
            "Cylinders": 4,
            "Displacement": 116,
            "Horsepower": 81,
            "Miles_per_Gallon": 25,
            "Name": "opel 1900",
            "Origin": "Europe",
            "Weight_in_lbs": 2220,
            "Year": "1976-01-01"
           },
           {
            "Acceleration": 14.9,
            "Cylinders": 4,
            "Displacement": 140,
            "Horsepower": 92,
            "Miles_per_Gallon": 25,
            "Name": "capri ii",
            "Origin": "USA",
            "Weight_in_lbs": 2572,
            "Year": "1976-01-01"
           },
           {
            "Acceleration": 17.7,
            "Cylinders": 4,
            "Displacement": 98,
            "Horsepower": 79,
            "Miles_per_Gallon": 26,
            "Name": "dodge colt",
            "Origin": "USA",
            "Weight_in_lbs": 2255,
            "Year": "1976-01-01"
           },
           {
            "Acceleration": 15.3,
            "Cylinders": 4,
            "Displacement": 101,
            "Horsepower": 83,
            "Miles_per_Gallon": 27,
            "Name": "renault 12tl",
            "Origin": "Europe",
            "Weight_in_lbs": 2202,
            "Year": "1976-01-01"
           },
           {
            "Acceleration": 13,
            "Cylinders": 8,
            "Displacement": 305,
            "Horsepower": 140,
            "Miles_per_Gallon": 17.5,
            "Name": "chevrolet chevelle malibu classic",
            "Origin": "USA",
            "Weight_in_lbs": 4215,
            "Year": "1976-01-01"
           },
           {
            "Acceleration": 13,
            "Cylinders": 8,
            "Displacement": 318,
            "Horsepower": 150,
            "Miles_per_Gallon": 16,
            "Name": "dodge coronet brougham",
            "Origin": "USA",
            "Weight_in_lbs": 4190,
            "Year": "1976-01-01"
           },
           {
            "Acceleration": 13.9,
            "Cylinders": 8,
            "Displacement": 304,
            "Horsepower": 120,
            "Miles_per_Gallon": 15.5,
            "Name": "amc matador",
            "Origin": "USA",
            "Weight_in_lbs": 3962,
            "Year": "1976-01-01"
           },
           {
            "Acceleration": 12.8,
            "Cylinders": 8,
            "Displacement": 351,
            "Horsepower": 152,
            "Miles_per_Gallon": 14.5,
            "Name": "ford gran torino",
            "Origin": "USA",
            "Weight_in_lbs": 4215,
            "Year": "1976-01-01"
           },
           {
            "Acceleration": 15.4,
            "Cylinders": 6,
            "Displacement": 225,
            "Horsepower": 100,
            "Miles_per_Gallon": 22,
            "Name": "plymouth valiant",
            "Origin": "USA",
            "Weight_in_lbs": 3233,
            "Year": "1976-01-01"
           },
           {
            "Acceleration": 14.5,
            "Cylinders": 6,
            "Displacement": 250,
            "Horsepower": 105,
            "Miles_per_Gallon": 22,
            "Name": "chevrolet nova",
            "Origin": "USA",
            "Weight_in_lbs": 3353,
            "Year": "1976-01-01"
           },
           {
            "Acceleration": 17.6,
            "Cylinders": 6,
            "Displacement": 200,
            "Horsepower": 81,
            "Miles_per_Gallon": 24,
            "Name": "ford maverick",
            "Origin": "USA",
            "Weight_in_lbs": 3012,
            "Year": "1976-01-01"
           },
           {
            "Acceleration": 17.6,
            "Cylinders": 6,
            "Displacement": 232,
            "Horsepower": 90,
            "Miles_per_Gallon": 22.5,
            "Name": "amc hornet",
            "Origin": "USA",
            "Weight_in_lbs": 3085,
            "Year": "1976-01-01"
           },
           {
            "Acceleration": 22.2,
            "Cylinders": 4,
            "Displacement": 85,
            "Horsepower": 52,
            "Miles_per_Gallon": 29,
            "Name": "chevrolet chevette",
            "Origin": "USA",
            "Weight_in_lbs": 2035,
            "Year": "1976-01-01"
           },
           {
            "Acceleration": 22.1,
            "Cylinders": 4,
            "Displacement": 98,
            "Horsepower": 60,
            "Miles_per_Gallon": 24.5,
            "Name": "chevrolet woody",
            "Origin": "USA",
            "Weight_in_lbs": 2164,
            "Year": "1976-01-01"
           },
           {
            "Acceleration": 14.2,
            "Cylinders": 4,
            "Displacement": 90,
            "Horsepower": 70,
            "Miles_per_Gallon": 29,
            "Name": "vw rabbit",
            "Origin": "Europe",
            "Weight_in_lbs": 1937,
            "Year": "1976-01-01"
           },
           {
            "Acceleration": 17.4,
            "Cylinders": 4,
            "Displacement": 91,
            "Horsepower": 53,
            "Miles_per_Gallon": 33,
            "Name": "honda civic",
            "Origin": "Japan",
            "Weight_in_lbs": 1795,
            "Year": "1976-01-01"
           },
           {
            "Acceleration": 17.7,
            "Cylinders": 6,
            "Displacement": 225,
            "Horsepower": 100,
            "Miles_per_Gallon": 20,
            "Name": "dodge aspen se",
            "Origin": "USA",
            "Weight_in_lbs": 3651,
            "Year": "1976-01-01"
           },
           {
            "Acceleration": 21,
            "Cylinders": 6,
            "Displacement": 250,
            "Horsepower": 78,
            "Miles_per_Gallon": 18,
            "Name": "ford granada ghia",
            "Origin": "USA",
            "Weight_in_lbs": 3574,
            "Year": "1976-01-01"
           },
           {
            "Acceleration": 16.2,
            "Cylinders": 6,
            "Displacement": 250,
            "Horsepower": 110,
            "Miles_per_Gallon": 18.5,
            "Name": "pontiac ventura sj",
            "Origin": "USA",
            "Weight_in_lbs": 3645,
            "Year": "1976-01-01"
           },
           {
            "Acceleration": 17.8,
            "Cylinders": 6,
            "Displacement": 258,
            "Horsepower": 95,
            "Miles_per_Gallon": 17.5,
            "Name": "amc pacer d/l",
            "Origin": "USA",
            "Weight_in_lbs": 3193,
            "Year": "1976-01-01"
           },
           {
            "Acceleration": 12.2,
            "Cylinders": 4,
            "Displacement": 97,
            "Horsepower": 71,
            "Miles_per_Gallon": 29.5,
            "Name": "volkswagen rabbit",
            "Origin": "Europe",
            "Weight_in_lbs": 1825,
            "Year": "1976-01-01"
           },
           {
            "Acceleration": 17,
            "Cylinders": 4,
            "Displacement": 85,
            "Horsepower": 70,
            "Miles_per_Gallon": 32,
            "Name": "datsun b-210",
            "Origin": "Japan",
            "Weight_in_lbs": 1990,
            "Year": "1976-01-01"
           },
           {
            "Acceleration": 16.4,
            "Cylinders": 4,
            "Displacement": 97,
            "Horsepower": 75,
            "Miles_per_Gallon": 28,
            "Name": "toyota corolla",
            "Origin": "Japan",
            "Weight_in_lbs": 2155,
            "Year": "1976-01-01"
           },
           {
            "Acceleration": 13.6,
            "Cylinders": 4,
            "Displacement": 140,
            "Horsepower": 72,
            "Miles_per_Gallon": 26.5,
            "Name": "ford pinto",
            "Origin": "USA",
            "Weight_in_lbs": 2565,
            "Year": "1976-01-01"
           },
           {
            "Acceleration": 15.7,
            "Cylinders": 4,
            "Displacement": 130,
            "Horsepower": 102,
            "Miles_per_Gallon": 20,
            "Name": "volvo 245",
            "Origin": "Europe",
            "Weight_in_lbs": 3150,
            "Year": "1976-01-01"
           },
           {
            "Acceleration": 13.2,
            "Cylinders": 8,
            "Displacement": 318,
            "Horsepower": 150,
            "Miles_per_Gallon": 13,
            "Name": "plymouth volare premier v8",
            "Origin": "USA",
            "Weight_in_lbs": 3940,
            "Year": "1976-01-01"
           },
           {
            "Acceleration": 21.9,
            "Cylinders": 4,
            "Displacement": 120,
            "Horsepower": 88,
            "Miles_per_Gallon": 19,
            "Name": "peugeot 504",
            "Origin": "Europe",
            "Weight_in_lbs": 3270,
            "Year": "1976-01-01"
           },
           {
            "Acceleration": 15.5,
            "Cylinders": 6,
            "Displacement": 156,
            "Horsepower": 108,
            "Miles_per_Gallon": 19,
            "Name": "toyota mark ii",
            "Origin": "Japan",
            "Weight_in_lbs": 2930,
            "Year": "1976-01-01"
           },
           {
            "Acceleration": 16.7,
            "Cylinders": 6,
            "Displacement": 168,
            "Horsepower": 120,
            "Miles_per_Gallon": 16.5,
            "Name": "mercedes-benz 280s",
            "Origin": "Europe",
            "Weight_in_lbs": 3820,
            "Year": "1976-01-01"
           },
           {
            "Acceleration": 12.1,
            "Cylinders": 8,
            "Displacement": 350,
            "Horsepower": 180,
            "Miles_per_Gallon": 16.5,
            "Name": "cadillac seville",
            "Origin": "USA",
            "Weight_in_lbs": 4380,
            "Year": "1976-01-01"
           },
           {
            "Acceleration": 12,
            "Cylinders": 8,
            "Displacement": 350,
            "Horsepower": 145,
            "Miles_per_Gallon": 13,
            "Name": "chevy c10",
            "Origin": "USA",
            "Weight_in_lbs": 4055,
            "Year": "1976-01-01"
           },
           {
            "Acceleration": 15,
            "Cylinders": 8,
            "Displacement": 302,
            "Horsepower": 130,
            "Miles_per_Gallon": 13,
            "Name": "ford f108",
            "Origin": "USA",
            "Weight_in_lbs": 3870,
            "Year": "1976-01-01"
           },
           {
            "Acceleration": 14,
            "Cylinders": 8,
            "Displacement": 318,
            "Horsepower": 150,
            "Miles_per_Gallon": 13,
            "Name": "dodge d100",
            "Origin": "USA",
            "Weight_in_lbs": 3755,
            "Year": "1976-01-01"
           },
           {
            "Acceleration": 18.5,
            "Cylinders": 4,
            "Displacement": 98,
            "Horsepower": 68,
            "Miles_per_Gallon": 31.5,
            "Name": "honda Accelerationord cvcc",
            "Origin": "Japan",
            "Weight_in_lbs": 2045,
            "Year": "1977-01-01"
           },
           {
            "Acceleration": 14.8,
            "Cylinders": 4,
            "Displacement": 111,
            "Horsepower": 80,
            "Miles_per_Gallon": 30,
            "Name": "buick opel isuzu deluxe",
            "Origin": "USA",
            "Weight_in_lbs": 2155,
            "Year": "1977-01-01"
           },
           {
            "Acceleration": 18.6,
            "Cylinders": 4,
            "Displacement": 79,
            "Horsepower": 58,
            "Miles_per_Gallon": 36,
            "Name": "renault 5 gtl",
            "Origin": "Europe",
            "Weight_in_lbs": 1825,
            "Year": "1977-01-01"
           },
           {
            "Acceleration": 15.5,
            "Cylinders": 4,
            "Displacement": 122,
            "Horsepower": 96,
            "Miles_per_Gallon": 25.5,
            "Name": "plymouth arrow gs",
            "Origin": "USA",
            "Weight_in_lbs": 2300,
            "Year": "1977-01-01"
           },
           {
            "Acceleration": 16.8,
            "Cylinders": 4,
            "Displacement": 85,
            "Horsepower": 70,
            "Miles_per_Gallon": 33.5,
            "Name": "datsun f-10 hatchback",
            "Origin": "Japan",
            "Weight_in_lbs": 1945,
            "Year": "1977-01-01"
           },
           {
            "Acceleration": 12.5,
            "Cylinders": 8,
            "Displacement": 305,
            "Horsepower": 145,
            "Miles_per_Gallon": 17.5,
            "Name": "chevrolet caprice classic",
            "Origin": "USA",
            "Weight_in_lbs": 3880,
            "Year": "1977-01-01"
           },
           {
            "Acceleration": 19,
            "Cylinders": 8,
            "Displacement": 260,
            "Horsepower": 110,
            "Miles_per_Gallon": 17,
            "Name": "oldsmobile cutlass supreme",
            "Origin": "USA",
            "Weight_in_lbs": 4060,
            "Year": "1977-01-01"
           },
           {
            "Acceleration": 13.7,
            "Cylinders": 8,
            "Displacement": 318,
            "Horsepower": 145,
            "Miles_per_Gallon": 15.5,
            "Name": "dodge monaco brougham",
            "Origin": "USA",
            "Weight_in_lbs": 4140,
            "Year": "1977-01-01"
           },
           {
            "Acceleration": 14.9,
            "Cylinders": 8,
            "Displacement": 302,
            "Horsepower": 130,
            "Miles_per_Gallon": 15,
            "Name": "mercury cougar brougham",
            "Origin": "USA",
            "Weight_in_lbs": 4295,
            "Year": "1977-01-01"
           },
           {
            "Acceleration": 16.4,
            "Cylinders": 6,
            "Displacement": 250,
            "Horsepower": 110,
            "Miles_per_Gallon": 17.5,
            "Name": "chevrolet concours",
            "Origin": "USA",
            "Weight_in_lbs": 3520,
            "Year": "1977-01-01"
           },
           {
            "Acceleration": 16.9,
            "Cylinders": 6,
            "Displacement": 231,
            "Horsepower": 105,
            "Miles_per_Gallon": 20.5,
            "Name": "buick skylark",
            "Origin": "USA",
            "Weight_in_lbs": 3425,
            "Year": "1977-01-01"
           },
           {
            "Acceleration": 17.7,
            "Cylinders": 6,
            "Displacement": 225,
            "Horsepower": 100,
            "Miles_per_Gallon": 19,
            "Name": "plymouth volare custom",
            "Origin": "USA",
            "Weight_in_lbs": 3630,
            "Year": "1977-01-01"
           },
           {
            "Acceleration": 19,
            "Cylinders": 6,
            "Displacement": 250,
            "Horsepower": 98,
            "Miles_per_Gallon": 18.5,
            "Name": "ford granada",
            "Origin": "USA",
            "Weight_in_lbs": 3525,
            "Year": "1977-01-01"
           },
           {
            "Acceleration": 11.1,
            "Cylinders": 8,
            "Displacement": 400,
            "Horsepower": 180,
            "Miles_per_Gallon": 16,
            "Name": "pontiac grand prix lj",
            "Origin": "USA",
            "Weight_in_lbs": 4220,
            "Year": "1977-01-01"
           },
           {
            "Acceleration": 11.4,
            "Cylinders": 8,
            "Displacement": 350,
            "Horsepower": 170,
            "Miles_per_Gallon": 15.5,
            "Name": "chevrolet monte carlo landau",
            "Origin": "USA",
            "Weight_in_lbs": 4165,
            "Year": "1977-01-01"
           },
           {
            "Acceleration": 12.2,
            "Cylinders": 8,
            "Displacement": 400,
            "Horsepower": 190,
            "Miles_per_Gallon": 15.5,
            "Name": "chrysler cordoba",
            "Origin": "USA",
            "Weight_in_lbs": 4325,
            "Year": "1977-01-01"
           },
           {
            "Acceleration": 14.5,
            "Cylinders": 8,
            "Displacement": 351,
            "Horsepower": 149,
            "Miles_per_Gallon": 16,
            "Name": "ford thunderbird",
            "Origin": "USA",
            "Weight_in_lbs": 4335,
            "Year": "1977-01-01"
           },
           {
            "Acceleration": 14.5,
            "Cylinders": 4,
            "Displacement": 97,
            "Horsepower": 78,
            "Miles_per_Gallon": 29,
            "Name": "volkswagen rabbit custom",
            "Origin": "Europe",
            "Weight_in_lbs": 1940,
            "Year": "1977-01-01"
           },
           {
            "Acceleration": 16,
            "Cylinders": 4,
            "Displacement": 151,
            "Horsepower": 88,
            "Miles_per_Gallon": 24.5,
            "Name": "pontiac sunbird coupe",
            "Origin": "USA",
            "Weight_in_lbs": 2740,
            "Year": "1977-01-01"
           },
           {
            "Acceleration": 18.2,
            "Cylinders": 4,
            "Displacement": 97,
            "Horsepower": 75,
            "Miles_per_Gallon": 26,
            "Name": "toyota corolla liftback",
            "Origin": "Japan",
            "Weight_in_lbs": 2265,
            "Year": "1977-01-01"
           },
           {
            "Acceleration": 15.8,
            "Cylinders": 4,
            "Displacement": 140,
            "Horsepower": 89,
            "Miles_per_Gallon": 25.5,
            "Name": "ford mustang ii 2+2",
            "Origin": "USA",
            "Weight_in_lbs": 2755,
            "Year": "1977-01-01"
           },
           {
            "Acceleration": 17,
            "Cylinders": 4,
            "Displacement": 98,
            "Horsepower": 63,
            "Miles_per_Gallon": 30.5,
            "Name": "chevrolet chevette",
            "Origin": "USA",
            "Weight_in_lbs": 2051,
            "Year": "1977-01-01"
           },
           {
            "Acceleration": 15.9,
            "Cylinders": 4,
            "Displacement": 98,
            "Horsepower": 83,
            "Miles_per_Gallon": 33.5,
            "Name": "dodge colt m/m",
            "Origin": "USA",
            "Weight_in_lbs": 2075,
            "Year": "1977-01-01"
           },
           {
            "Acceleration": 16.4,
            "Cylinders": 4,
            "Displacement": 97,
            "Horsepower": 67,
            "Miles_per_Gallon": 30,
            "Name": "subaru dl",
            "Origin": "Japan",
            "Weight_in_lbs": 1985,
            "Year": "1977-01-01"
           },
           {
            "Acceleration": 14.1,
            "Cylinders": 4,
            "Displacement": 97,
            "Horsepower": 78,
            "Miles_per_Gallon": 30.5,
            "Name": "volkswagen dasher",
            "Origin": "Europe",
            "Weight_in_lbs": 2190,
            "Year": "1977-01-01"
           },
           {
            "Acceleration": 14.5,
            "Cylinders": 6,
            "Displacement": 146,
            "Horsepower": 97,
            "Miles_per_Gallon": 22,
            "Name": "datsun 810",
            "Origin": "Japan",
            "Weight_in_lbs": 2815,
            "Year": "1977-01-01"
           },
           {
            "Acceleration": 12.8,
            "Cylinders": 4,
            "Displacement": 121,
            "Horsepower": 110,
            "Miles_per_Gallon": 21.5,
            "Name": "bmw 320i",
            "Origin": "Europe",
            "Weight_in_lbs": 2600,
            "Year": "1977-01-01"
           },
           {
            "Acceleration": 13.5,
            "Cylinders": 3,
            "Displacement": 80,
            "Horsepower": 110,
            "Miles_per_Gallon": 21.5,
            "Name": "mazda rx-4",
            "Origin": "Japan",
            "Weight_in_lbs": 2720,
            "Year": "1977-01-01"
           },
           {
            "Acceleration": 21.5,
            "Cylinders": 4,
            "Displacement": 90,
            "Horsepower": 48,
            "Miles_per_Gallon": 43.1,
            "Name": "volkswagen rabbit custom diesel",
            "Origin": "Europe",
            "Weight_in_lbs": 1985,
            "Year": "1978-01-01"
           },
           {
            "Acceleration": 14.4,
            "Cylinders": 4,
            "Displacement": 98,
            "Horsepower": 66,
            "Miles_per_Gallon": 36.1,
            "Name": "ford fiesta",
            "Origin": "USA",
            "Weight_in_lbs": 1800,
            "Year": "1978-01-01"
           },
           {
            "Acceleration": 19.4,
            "Cylinders": 4,
            "Displacement": 78,
            "Horsepower": 52,
            "Miles_per_Gallon": 32.8,
            "Name": "mazda glc deluxe",
            "Origin": "Japan",
            "Weight_in_lbs": 1985,
            "Year": "1978-01-01"
           },
           {
            "Acceleration": 18.6,
            "Cylinders": 4,
            "Displacement": 85,
            "Horsepower": 70,
            "Miles_per_Gallon": 39.4,
            "Name": "datsun b210 gx",
            "Origin": "Japan",
            "Weight_in_lbs": 2070,
            "Year": "1978-01-01"
           },
           {
            "Acceleration": 16.4,
            "Cylinders": 4,
            "Displacement": 91,
            "Horsepower": 60,
            "Miles_per_Gallon": 36.1,
            "Name": "honda civic cvcc",
            "Origin": "Japan",
            "Weight_in_lbs": 1800,
            "Year": "1978-01-01"
           },
           {
            "Acceleration": 15.5,
            "Cylinders": 8,
            "Displacement": 260,
            "Horsepower": 110,
            "Miles_per_Gallon": 19.9,
            "Name": "oldsmobile cutlass salon brougham",
            "Origin": "USA",
            "Weight_in_lbs": 3365,
            "Year": "1978-01-01"
           },
           {
            "Acceleration": 13.2,
            "Cylinders": 8,
            "Displacement": 318,
            "Horsepower": 140,
            "Miles_per_Gallon": 19.4,
            "Name": "dodge diplomat",
            "Origin": "USA",
            "Weight_in_lbs": 3735,
            "Year": "1978-01-01"
           },
           {
            "Acceleration": 12.8,
            "Cylinders": 8,
            "Displacement": 302,
            "Horsepower": 139,
            "Miles_per_Gallon": 20.2,
            "Name": "mercury monarch ghia",
            "Origin": "USA",
            "Weight_in_lbs": 3570,
            "Year": "1978-01-01"
           },
           {
            "Acceleration": 19.2,
            "Cylinders": 6,
            "Displacement": 231,
            "Horsepower": 105,
            "Miles_per_Gallon": 19.2,
            "Name": "pontiac phoenix lj",
            "Origin": "USA",
            "Weight_in_lbs": 3535,
            "Year": "1978-01-01"
           },
           {
            "Acceleration": 18.2,
            "Cylinders": 6,
            "Displacement": 200,
            "Horsepower": 95,
            "Miles_per_Gallon": 20.5,
            "Name": "chevrolet malibu",
            "Origin": "USA",
            "Weight_in_lbs": 3155,
            "Year": "1978-01-01"
           },
           {
            "Acceleration": 15.8,
            "Cylinders": 6,
            "Displacement": 200,
            "Horsepower": 85,
            "Miles_per_Gallon": 20.2,
            "Name": "ford fairmont (auto)",
            "Origin": "USA",
            "Weight_in_lbs": 2965,
            "Year": "1978-01-01"
           },
           {
            "Acceleration": 15.4,
            "Cylinders": 4,
            "Displacement": 140,
            "Horsepower": 88,
            "Miles_per_Gallon": 25.1,
            "Name": "ford fairmont (man)",
            "Origin": "USA",
            "Weight_in_lbs": 2720,
            "Year": "1978-01-01"
           },
           {
            "Acceleration": 17.2,
            "Cylinders": 6,
            "Displacement": 225,
            "Horsepower": 100,
            "Miles_per_Gallon": 20.5,
            "Name": "plymouth volare",
            "Origin": "USA",
            "Weight_in_lbs": 3430,
            "Year": "1978-01-01"
           },
           {
            "Acceleration": 17.2,
            "Cylinders": 6,
            "Displacement": 232,
            "Horsepower": 90,
            "Miles_per_Gallon": 19.4,
            "Name": "amc concord",
            "Origin": "USA",
            "Weight_in_lbs": 3210,
            "Year": "1978-01-01"
           },
           {
            "Acceleration": 15.8,
            "Cylinders": 6,
            "Displacement": 231,
            "Horsepower": 105,
            "Miles_per_Gallon": 20.6,
            "Name": "buick century special",
            "Origin": "USA",
            "Weight_in_lbs": 3380,
            "Year": "1978-01-01"
           },
           {
            "Acceleration": 16.7,
            "Cylinders": 6,
            "Displacement": 200,
            "Horsepower": 85,
            "Miles_per_Gallon": 20.8,
            "Name": "mercury zephyr",
            "Origin": "USA",
            "Weight_in_lbs": 3070,
            "Year": "1978-01-01"
           },
           {
            "Acceleration": 18.7,
            "Cylinders": 6,
            "Displacement": 225,
            "Horsepower": 110,
            "Miles_per_Gallon": 18.6,
            "Name": "dodge aspen",
            "Origin": "USA",
            "Weight_in_lbs": 3620,
            "Year": "1978-01-01"
           },
           {
            "Acceleration": 15.1,
            "Cylinders": 6,
            "Displacement": 258,
            "Horsepower": 120,
            "Miles_per_Gallon": 18.1,
            "Name": "amc concord d/l",
            "Origin": "USA",
            "Weight_in_lbs": 3410,
            "Year": "1978-01-01"
           },
           {
            "Acceleration": 13.2,
            "Cylinders": 8,
            "Displacement": 305,
            "Horsepower": 145,
            "Miles_per_Gallon": 19.2,
            "Name": "chevrolet monte carlo landau",
            "Origin": "USA",
            "Weight_in_lbs": 3425,
            "Year": "1978-01-01"
           },
           {
            "Acceleration": 13.4,
            "Cylinders": 6,
            "Displacement": 231,
            "Horsepower": 165,
            "Miles_per_Gallon": 17.7,
            "Name": "buick regal sport coupe (turbo)",
            "Origin": "USA",
            "Weight_in_lbs": 3445,
            "Year": "1978-01-01"
           },
           {
            "Acceleration": 11.2,
            "Cylinders": 8,
            "Displacement": 302,
            "Horsepower": 139,
            "Miles_per_Gallon": 18.1,
            "Name": "ford futura",
            "Origin": "USA",
            "Weight_in_lbs": 3205,
            "Year": "1978-01-01"
           },
           {
            "Acceleration": 13.7,
            "Cylinders": 8,
            "Displacement": 318,
            "Horsepower": 140,
            "Miles_per_Gallon": 17.5,
            "Name": "dodge magnum xe",
            "Origin": "USA",
            "Weight_in_lbs": 4080,
            "Year": "1978-01-01"
           },
           {
            "Acceleration": 16.5,
            "Cylinders": 4,
            "Displacement": 98,
            "Horsepower": 68,
            "Miles_per_Gallon": 30,
            "Name": "chevrolet chevette",
            "Origin": "USA",
            "Weight_in_lbs": 2155,
            "Year": "1978-01-01"
           },
           {
            "Acceleration": 14.2,
            "Cylinders": 4,
            "Displacement": 134,
            "Horsepower": 95,
            "Miles_per_Gallon": 27.5,
            "Name": "toyota corona",
            "Origin": "Japan",
            "Weight_in_lbs": 2560,
            "Year": "1978-01-01"
           },
           {
            "Acceleration": 14.7,
            "Cylinders": 4,
            "Displacement": 119,
            "Horsepower": 97,
            "Miles_per_Gallon": 27.2,
            "Name": "datsun 510",
            "Origin": "Japan",
            "Weight_in_lbs": 2300,
            "Year": "1978-01-01"
           },
           {
            "Acceleration": 14.5,
            "Cylinders": 4,
            "Displacement": 105,
            "Horsepower": 75,
            "Miles_per_Gallon": 30.9,
            "Name": "dodge omni",
            "Origin": "USA",
            "Weight_in_lbs": 2230,
            "Year": "1978-01-01"
           },
           {
            "Acceleration": 14.8,
            "Cylinders": 4,
            "Displacement": 134,
            "Horsepower": 95,
            "Miles_per_Gallon": 21.1,
            "Name": "toyota celica gt liftback",
            "Origin": "Japan",
            "Weight_in_lbs": 2515,
            "Year": "1978-01-01"
           },
           {
            "Acceleration": 16.7,
            "Cylinders": 4,
            "Displacement": 156,
            "Horsepower": 105,
            "Miles_per_Gallon": 23.2,
            "Name": "plymouth sapporo",
            "Origin": "USA",
            "Weight_in_lbs": 2745,
            "Year": "1978-01-01"
           },
           {
            "Acceleration": 17.6,
            "Cylinders": 4,
            "Displacement": 151,
            "Horsepower": 85,
            "Miles_per_Gallon": 23.8,
            "Name": "oldsmobile starfire sx",
            "Origin": "USA",
            "Weight_in_lbs": 2855,
            "Year": "1978-01-01"
           },
           {
            "Acceleration": 14.9,
            "Cylinders": 4,
            "Displacement": 119,
            "Horsepower": 97,
            "Miles_per_Gallon": 23.9,
            "Name": "datsun 200-sx",
            "Origin": "Japan",
            "Weight_in_lbs": 2405,
            "Year": "1978-01-01"
           },
           {
            "Acceleration": 15.9,
            "Cylinders": 5,
            "Displacement": 131,
            "Horsepower": 103,
            "Miles_per_Gallon": 20.3,
            "Name": "audi 5000",
            "Origin": "Europe",
            "Weight_in_lbs": 2830,
            "Year": "1978-01-01"
           },
           {
            "Acceleration": 13.6,
            "Cylinders": 6,
            "Displacement": 163,
            "Horsepower": 125,
            "Miles_per_Gallon": 17,
            "Name": "volvo 264gl",
            "Origin": "Europe",
            "Weight_in_lbs": 3140,
            "Year": "1978-01-01"
           },
           {
            "Acceleration": 15.7,
            "Cylinders": 4,
            "Displacement": 121,
            "Horsepower": 115,
            "Miles_per_Gallon": 21.6,
            "Name": "saab 99gle",
            "Origin": "Europe",
            "Weight_in_lbs": 2795,
            "Year": "1978-01-01"
           },
           {
            "Acceleration": 15.8,
            "Cylinders": 6,
            "Displacement": 163,
            "Horsepower": 133,
            "Miles_per_Gallon": 16.2,
            "Name": "peugeot 604sl",
            "Origin": "Europe",
            "Weight_in_lbs": 3410,
            "Year": "1978-01-01"
           },
           {
            "Acceleration": 14.9,
            "Cylinders": 4,
            "Displacement": 89,
            "Horsepower": 71,
            "Miles_per_Gallon": 31.5,
            "Name": "volkswagen scirocco",
            "Origin": "Europe",
            "Weight_in_lbs": 1990,
            "Year": "1978-01-01"
           },
           {
            "Acceleration": 16.6,
            "Cylinders": 4,
            "Displacement": 98,
            "Horsepower": 68,
            "Miles_per_Gallon": 29.5,
            "Name": "honda Accelerationord lx",
            "Origin": "Japan",
            "Weight_in_lbs": 2135,
            "Year": "1978-01-01"
           },
           {
            "Acceleration": 15.4,
            "Cylinders": 6,
            "Displacement": 231,
            "Horsepower": 115,
            "Miles_per_Gallon": 21.5,
            "Name": "pontiac lemans v6",
            "Origin": "USA",
            "Weight_in_lbs": 3245,
            "Year": "1979-01-01"
           },
           {
            "Acceleration": 18.2,
            "Cylinders": 6,
            "Displacement": 200,
            "Horsepower": 85,
            "Miles_per_Gallon": 19.8,
            "Name": "mercury zephyr 6",
            "Origin": "USA",
            "Weight_in_lbs": 2990,
            "Year": "1979-01-01"
           },
           {
            "Acceleration": 17.3,
            "Cylinders": 4,
            "Displacement": 140,
            "Horsepower": 88,
            "Miles_per_Gallon": 22.3,
            "Name": "ford fairmont 4",
            "Origin": "USA",
            "Weight_in_lbs": 2890,
            "Year": "1979-01-01"
           },
           {
            "Acceleration": 18.2,
            "Cylinders": 6,
            "Displacement": 232,
            "Horsepower": 90,
            "Miles_per_Gallon": 20.2,
            "Name": "amc concord dl 6",
            "Origin": "USA",
            "Weight_in_lbs": 3265,
            "Year": "1979-01-01"
           },
           {
            "Acceleration": 16.6,
            "Cylinders": 6,
            "Displacement": 225,
            "Horsepower": 110,
            "Miles_per_Gallon": 20.6,
            "Name": "dodge aspen 6",
            "Origin": "USA",
            "Weight_in_lbs": 3360,
            "Year": "1979-01-01"
           },
           {
            "Acceleration": 15.4,
            "Cylinders": 8,
            "Displacement": 305,
            "Horsepower": 130,
            "Miles_per_Gallon": 17,
            "Name": "chevrolet caprice classic",
            "Origin": "USA",
            "Weight_in_lbs": 3840,
            "Year": "1979-01-01"
           },
           {
            "Acceleration": 13.4,
            "Cylinders": 8,
            "Displacement": 302,
            "Horsepower": 129,
            "Miles_per_Gallon": 17.6,
            "Name": "ford ltd landau",
            "Origin": "USA",
            "Weight_in_lbs": 3725,
            "Year": "1979-01-01"
           },
           {
            "Acceleration": 13.2,
            "Cylinders": 8,
            "Displacement": 351,
            "Horsepower": 138,
            "Miles_per_Gallon": 16.5,
            "Name": "mercury grand marquis",
            "Origin": "USA",
            "Weight_in_lbs": 3955,
            "Year": "1979-01-01"
           },
           {
            "Acceleration": 15.2,
            "Cylinders": 8,
            "Displacement": 318,
            "Horsepower": 135,
            "Miles_per_Gallon": 18.2,
            "Name": "dodge st. regis",
            "Origin": "USA",
            "Weight_in_lbs": 3830,
            "Year": "1979-01-01"
           },
           {
            "Acceleration": 14.9,
            "Cylinders": 8,
            "Displacement": 350,
            "Horsepower": 155,
            "Miles_per_Gallon": 16.9,
            "Name": "buick estate wagon (sw)",
            "Origin": "USA",
            "Weight_in_lbs": 4360,
            "Year": "1979-01-01"
           },
           {
            "Acceleration": 14.3,
            "Cylinders": 8,
            "Displacement": 351,
            "Horsepower": 142,
            "Miles_per_Gallon": 15.5,
            "Name": "ford country squire (sw)",
            "Origin": "USA",
            "Weight_in_lbs": 4054,
            "Year": "1979-01-01"
           },
           {
            "Acceleration": 15,
            "Cylinders": 8,
            "Displacement": 267,
            "Horsepower": 125,
            "Miles_per_Gallon": 19.2,
            "Name": "chevrolet malibu classic (sw)",
            "Origin": "USA",
            "Weight_in_lbs": 3605,
            "Year": "1979-01-01"
           },
           {
            "Acceleration": 13,
            "Cylinders": 8,
            "Displacement": 360,
            "Horsepower": 150,
            "Miles_per_Gallon": 18.5,
            "Name": "chrysler lebaron town @ country (sw)",
            "Origin": "USA",
            "Weight_in_lbs": 3940,
            "Year": "1979-01-01"
           },
           {
            "Acceleration": 14,
            "Cylinders": 4,
            "Displacement": 89,
            "Horsepower": 71,
            "Miles_per_Gallon": 31.9,
            "Name": "vw rabbit custom",
            "Origin": "Europe",
            "Weight_in_lbs": 1925,
            "Year": "1979-01-01"
           },
           {
            "Acceleration": 15.2,
            "Cylinders": 4,
            "Displacement": 86,
            "Horsepower": 65,
            "Miles_per_Gallon": 34.1,
            "Name": "maxda glc deluxe",
            "Origin": "Japan",
            "Weight_in_lbs": 1975,
            "Year": "1979-01-01"
           },
           {
            "Acceleration": 14.4,
            "Cylinders": 4,
            "Displacement": 98,
            "Horsepower": 80,
            "Miles_per_Gallon": 35.7,
            "Name": "dodge colt hatchback custom",
            "Origin": "USA",
            "Weight_in_lbs": 1915,
            "Year": "1979-01-01"
           },
           {
            "Acceleration": 15,
            "Cylinders": 4,
            "Displacement": 121,
            "Horsepower": 80,
            "Miles_per_Gallon": 27.4,
            "Name": "amc spirit dl",
            "Origin": "USA",
            "Weight_in_lbs": 2670,
            "Year": "1979-01-01"
           },
           {
            "Acceleration": 20.1,
            "Cylinders": 5,
            "Displacement": 183,
            "Horsepower": 77,
            "Miles_per_Gallon": 25.4,
            "Name": "mercedes benz 300d",
            "Origin": "Europe",
            "Weight_in_lbs": 3530,
            "Year": "1979-01-01"
           },
           {
            "Acceleration": 17.4,
            "Cylinders": 8,
            "Displacement": 350,
            "Horsepower": 125,
            "Miles_per_Gallon": 23,
            "Name": "cadillac eldorado",
            "Origin": "USA",
            "Weight_in_lbs": 3900,
            "Year": "1979-01-01"
           },
           {
            "Acceleration": 24.8,
            "Cylinders": 4,
            "Displacement": 141,
            "Horsepower": 71,
            "Miles_per_Gallon": 27.2,
            "Name": "peugeot 504",
            "Origin": "Europe",
            "Weight_in_lbs": 3190,
            "Year": "1979-01-01"
           },
           {
            "Acceleration": 22.2,
            "Cylinders": 8,
            "Displacement": 260,
            "Horsepower": 90,
            "Miles_per_Gallon": 23.9,
            "Name": "oldsmobile cutlass salon brougham",
            "Origin": "USA",
            "Weight_in_lbs": 3420,
            "Year": "1979-01-01"
           },
           {
            "Acceleration": 13.2,
            "Cylinders": 4,
            "Displacement": 105,
            "Horsepower": 70,
            "Miles_per_Gallon": 34.2,
            "Name": "plymouth horizon",
            "Origin": "USA",
            "Weight_in_lbs": 2200,
            "Year": "1979-01-01"
           },
           {
            "Acceleration": 14.9,
            "Cylinders": 4,
            "Displacement": 105,
            "Horsepower": 70,
            "Miles_per_Gallon": 34.5,
            "Name": "plymouth horizon tc3",
            "Origin": "USA",
            "Weight_in_lbs": 2150,
            "Year": "1979-01-01"
           },
           {
            "Acceleration": 19.2,
            "Cylinders": 4,
            "Displacement": 85,
            "Horsepower": 65,
            "Miles_per_Gallon": 31.8,
            "Name": "datsun 210",
            "Origin": "Japan",
            "Weight_in_lbs": 2020,
            "Year": "1979-01-01"
           },
           {
            "Acceleration": 14.7,
            "Cylinders": 4,
            "Displacement": 91,
            "Horsepower": 69,
            "Miles_per_Gallon": 37.3,
            "Name": "fiat strada custom",
            "Origin": "Europe",
            "Weight_in_lbs": 2130,
            "Year": "1979-01-01"
           },
           {
            "Acceleration": 16,
            "Cylinders": 4,
            "Displacement": 151,
            "Horsepower": 90,
            "Miles_per_Gallon": 28.4,
            "Name": "buick skylark limited",
            "Origin": "USA",
            "Weight_in_lbs": 2670,
            "Year": "1979-01-01"
           },
           {
            "Acceleration": 11.3,
            "Cylinders": 6,
            "Displacement": 173,
            "Horsepower": 115,
            "Miles_per_Gallon": 28.8,
            "Name": "chevrolet citation",
            "Origin": "USA",
            "Weight_in_lbs": 2595,
            "Year": "1979-01-01"
           },
           {
            "Acceleration": 12.9,
            "Cylinders": 6,
            "Displacement": 173,
            "Horsepower": 115,
            "Miles_per_Gallon": 26.8,
            "Name": "oldsmobile omega brougham",
            "Origin": "USA",
            "Weight_in_lbs": 2700,
            "Year": "1979-01-01"
           },
           {
            "Acceleration": 13.2,
            "Cylinders": 4,
            "Displacement": 151,
            "Horsepower": 90,
            "Miles_per_Gallon": 33.5,
            "Name": "pontiac phoenix",
            "Origin": "USA",
            "Weight_in_lbs": 2556,
            "Year": "1979-01-01"
           },
           {
            "Acceleration": 14.7,
            "Cylinders": 4,
            "Displacement": 98,
            "Horsepower": 76,
            "Miles_per_Gallon": 41.5,
            "Name": "vw rabbit",
            "Origin": "Europe",
            "Weight_in_lbs": 2144,
            "Year": "1980-01-01"
           },
           {
            "Acceleration": 18.8,
            "Cylinders": 4,
            "Displacement": 89,
            "Horsepower": 60,
            "Miles_per_Gallon": 38.1,
            "Name": "toyota corolla tercel",
            "Origin": "Japan",
            "Weight_in_lbs": 1968,
            "Year": "1980-01-01"
           },
           {
            "Acceleration": 15.5,
            "Cylinders": 4,
            "Displacement": 98,
            "Horsepower": 70,
            "Miles_per_Gallon": 32.1,
            "Name": "chevrolet chevette",
            "Origin": "USA",
            "Weight_in_lbs": 2120,
            "Year": "1980-01-01"
           },
           {
            "Acceleration": 16.4,
            "Cylinders": 4,
            "Displacement": 86,
            "Horsepower": 65,
            "Miles_per_Gallon": 37.2,
            "Name": "datsun 310",
            "Origin": "Japan",
            "Weight_in_lbs": 2019,
            "Year": "1980-01-01"
           },
           {
            "Acceleration": 16.5,
            "Cylinders": 4,
            "Displacement": 151,
            "Horsepower": 90,
            "Miles_per_Gallon": 28,
            "Name": "chevrolet citation",
            "Origin": "USA",
            "Weight_in_lbs": 2678,
            "Year": "1980-01-01"
           },
           {
            "Acceleration": 18.1,
            "Cylinders": 4,
            "Displacement": 140,
            "Horsepower": 88,
            "Miles_per_Gallon": 26.4,
            "Name": "ford fairmont",
            "Origin": "USA",
            "Weight_in_lbs": 2870,
            "Year": "1980-01-01"
           },
           {
            "Acceleration": 20.1,
            "Cylinders": 4,
            "Displacement": 151,
            "Horsepower": 90,
            "Miles_per_Gallon": 24.3,
            "Name": "amc concord",
            "Origin": "USA",
            "Weight_in_lbs": 3003,
            "Year": "1980-01-01"
           },
           {
            "Acceleration": 18.7,
            "Cylinders": 6,
            "Displacement": 225,
            "Horsepower": 90,
            "Miles_per_Gallon": 19.1,
            "Name": "dodge aspen",
            "Origin": "USA",
            "Weight_in_lbs": 3381,
            "Year": "1980-01-01"
           },
           {
            "Acceleration": 15.8,
            "Cylinders": 4,
            "Displacement": 97,
            "Horsepower": 78,
            "Miles_per_Gallon": 34.3,
            "Name": "audi 4000",
            "Origin": "Europe",
            "Weight_in_lbs": 2188,
            "Year": "1980-01-01"
           },
           {
            "Acceleration": 15.5,
            "Cylinders": 4,
            "Displacement": 134,
            "Horsepower": 90,
            "Miles_per_Gallon": 29.8,
            "Name": "toyota corona liftback",
            "Origin": "Japan",
            "Weight_in_lbs": 2711,
            "Year": "1980-01-01"
           },
           {
            "Acceleration": 17.5,
            "Cylinders": 4,
            "Displacement": 120,
            "Horsepower": 75,
            "Miles_per_Gallon": 31.3,
            "Name": "mazda 626",
            "Origin": "Japan",
            "Weight_in_lbs": 2542,
            "Year": "1980-01-01"
           },
           {
            "Acceleration": 15,
            "Cylinders": 4,
            "Displacement": 119,
            "Horsepower": 92,
            "Miles_per_Gallon": 37,
            "Name": "datsun 510 hatchback",
            "Origin": "Japan",
            "Weight_in_lbs": 2434,
            "Year": "1980-01-01"
           },
           {
            "Acceleration": 15.2,
            "Cylinders": 4,
            "Displacement": 108,
            "Horsepower": 75,
            "Miles_per_Gallon": 32.2,
            "Name": "toyota corolla",
            "Origin": "Japan",
            "Weight_in_lbs": 2265,
            "Year": "1980-01-01"
           },
           {
            "Acceleration": 17.9,
            "Cylinders": 4,
            "Displacement": 86,
            "Horsepower": 65,
            "Miles_per_Gallon": 46.6,
            "Name": "mazda glc",
            "Origin": "Japan",
            "Weight_in_lbs": 2110,
            "Year": "1980-01-01"
           },
           {
            "Acceleration": 14.4,
            "Cylinders": 4,
            "Displacement": 156,
            "Horsepower": 105,
            "Miles_per_Gallon": 27.9,
            "Name": "dodge colt",
            "Origin": "USA",
            "Weight_in_lbs": 2800,
            "Year": "1980-01-01"
           },
           {
            "Acceleration": 19.2,
            "Cylinders": 4,
            "Displacement": 85,
            "Horsepower": 65,
            "Miles_per_Gallon": 40.8,
            "Name": "datsun 210",
            "Origin": "Japan",
            "Weight_in_lbs": 2110,
            "Year": "1980-01-01"
           },
           {
            "Acceleration": 21.7,
            "Cylinders": 4,
            "Displacement": 90,
            "Horsepower": 48,
            "Miles_per_Gallon": 44.3,
            "Name": "vw rabbit c (diesel)",
            "Origin": "Europe",
            "Weight_in_lbs": 2085,
            "Year": "1980-01-01"
           },
           {
            "Acceleration": 23.7,
            "Cylinders": 4,
            "Displacement": 90,
            "Horsepower": 48,
            "Miles_per_Gallon": 43.4,
            "Name": "vw dasher (diesel)",
            "Origin": "Europe",
            "Weight_in_lbs": 2335,
            "Year": "1980-01-01"
           },
           {
            "Acceleration": 19.9,
            "Cylinders": 5,
            "Displacement": 121,
            "Horsepower": 67,
            "Miles_per_Gallon": 36.4,
            "Name": "audi 5000s (diesel)",
            "Origin": "Europe",
            "Weight_in_lbs": 2950,
            "Year": "1980-01-01"
           },
           {
            "Acceleration": 21.8,
            "Cylinders": 4,
            "Displacement": 146,
            "Horsepower": 67,
            "Miles_per_Gallon": 30,
            "Name": "mercedes-benz 240d",
            "Origin": "Europe",
            "Weight_in_lbs": 3250,
            "Year": "1980-01-01"
           },
           {
            "Acceleration": 13.8,
            "Cylinders": 4,
            "Displacement": 91,
            "Horsepower": 67,
            "Miles_per_Gallon": 44.6,
            "Name": "honda civic 1500 gl",
            "Origin": "Japan",
            "Weight_in_lbs": 1850,
            "Year": "1980-01-01"
           },
           {
            "Acceleration": 17.3,
            "Cylinders": 4,
            "Displacement": 85,
            "Horsepower": null,
            "Miles_per_Gallon": 40.9,
            "Name": "renault lecar deluxe",
            "Origin": "Europe",
            "Weight_in_lbs": 1835,
            "Year": "1980-01-01"
           },
           {
            "Acceleration": 18,
            "Cylinders": 4,
            "Displacement": 97,
            "Horsepower": 67,
            "Miles_per_Gallon": 33.8,
            "Name": "subaru dl",
            "Origin": "Japan",
            "Weight_in_lbs": 2145,
            "Year": "1980-01-01"
           },
           {
            "Acceleration": 15.3,
            "Cylinders": 4,
            "Displacement": 89,
            "Horsepower": 62,
            "Miles_per_Gallon": 29.8,
            "Name": "vokswagen rabbit",
            "Origin": "Europe",
            "Weight_in_lbs": 1845,
            "Year": "1980-01-01"
           },
           {
            "Acceleration": 11.4,
            "Cylinders": 6,
            "Displacement": 168,
            "Horsepower": 132,
            "Miles_per_Gallon": 32.7,
            "Name": "datsun 280-zx",
            "Origin": "Japan",
            "Weight_in_lbs": 2910,
            "Year": "1980-01-01"
           },
           {
            "Acceleration": 12.5,
            "Cylinders": 3,
            "Displacement": 70,
            "Horsepower": 100,
            "Miles_per_Gallon": 23.7,
            "Name": "mazda rx-7 gs",
            "Origin": "Japan",
            "Weight_in_lbs": 2420,
            "Year": "1980-01-01"
           },
           {
            "Acceleration": 15.1,
            "Cylinders": 4,
            "Displacement": 122,
            "Horsepower": 88,
            "Miles_per_Gallon": 35,
            "Name": "triumph tr7 coupe",
            "Origin": "Europe",
            "Weight_in_lbs": 2500,
            "Year": "1980-01-01"
           },
           {
            "Acceleration": 14.3,
            "Cylinders": 4,
            "Displacement": 140,
            "Horsepower": null,
            "Miles_per_Gallon": 23.6,
            "Name": "ford mustang cobra",
            "Origin": "USA",
            "Weight_in_lbs": 2905,
            "Year": "1980-01-01"
           },
           {
            "Acceleration": 17,
            "Cylinders": 4,
            "Displacement": 107,
            "Horsepower": 72,
            "Miles_per_Gallon": 32.4,
            "Name": "honda Accelerationord",
            "Origin": "Japan",
            "Weight_in_lbs": 2290,
            "Year": "1980-01-01"
           },
           {
            "Acceleration": 15.7,
            "Cylinders": 4,
            "Displacement": 135,
            "Horsepower": 84,
            "Miles_per_Gallon": 27.2,
            "Name": "plymouth reliant",
            "Origin": "USA",
            "Weight_in_lbs": 2490,
            "Year": "1982-01-01"
           },
           {
            "Acceleration": 16.4,
            "Cylinders": 4,
            "Displacement": 151,
            "Horsepower": 84,
            "Miles_per_Gallon": 26.6,
            "Name": "buick skylark",
            "Origin": "USA",
            "Weight_in_lbs": 2635,
            "Year": "1982-01-01"
           },
           {
            "Acceleration": 14.4,
            "Cylinders": 4,
            "Displacement": 156,
            "Horsepower": 92,
            "Miles_per_Gallon": 25.8,
            "Name": "dodge aries wagon (sw)",
            "Origin": "USA",
            "Weight_in_lbs": 2620,
            "Year": "1982-01-01"
           },
           {
            "Acceleration": 12.6,
            "Cylinders": 6,
            "Displacement": 173,
            "Horsepower": 110,
            "Miles_per_Gallon": 23.5,
            "Name": "chevrolet citation",
            "Origin": "USA",
            "Weight_in_lbs": 2725,
            "Year": "1982-01-01"
           },
           {
            "Acceleration": 12.9,
            "Cylinders": 4,
            "Displacement": 135,
            "Horsepower": 84,
            "Miles_per_Gallon": 30,
            "Name": "plymouth reliant",
            "Origin": "USA",
            "Weight_in_lbs": 2385,
            "Year": "1982-01-01"
           },
           {
            "Acceleration": 16.9,
            "Cylinders": 4,
            "Displacement": 79,
            "Horsepower": 58,
            "Miles_per_Gallon": 39.1,
            "Name": "toyota starlet",
            "Origin": "Japan",
            "Weight_in_lbs": 1755,
            "Year": "1982-01-01"
           },
           {
            "Acceleration": 16.4,
            "Cylinders": 4,
            "Displacement": 86,
            "Horsepower": 64,
            "Miles_per_Gallon": 39,
            "Name": "plymouth champ",
            "Origin": "USA",
            "Weight_in_lbs": 1875,
            "Year": "1982-01-01"
           },
           {
            "Acceleration": 16.1,
            "Cylinders": 4,
            "Displacement": 81,
            "Horsepower": 60,
            "Miles_per_Gallon": 35.1,
            "Name": "honda civic 1300",
            "Origin": "Japan",
            "Weight_in_lbs": 1760,
            "Year": "1982-01-01"
           },
           {
            "Acceleration": 17.8,
            "Cylinders": 4,
            "Displacement": 97,
            "Horsepower": 67,
            "Miles_per_Gallon": 32.3,
            "Name": "subaru",
            "Origin": "Japan",
            "Weight_in_lbs": 2065,
            "Year": "1982-01-01"
           },
           {
            "Acceleration": 19.4,
            "Cylinders": 4,
            "Displacement": 85,
            "Horsepower": 65,
            "Miles_per_Gallon": 37,
            "Name": "datsun 210",
            "Origin": "Japan",
            "Weight_in_lbs": 1975,
            "Year": "1982-01-01"
           },
           {
            "Acceleration": 17.3,
            "Cylinders": 4,
            "Displacement": 89,
            "Horsepower": 62,
            "Miles_per_Gallon": 37.7,
            "Name": "toyota tercel",
            "Origin": "Japan",
            "Weight_in_lbs": 2050,
            "Year": "1982-01-01"
           },
           {
            "Acceleration": 16,
            "Cylinders": 4,
            "Displacement": 91,
            "Horsepower": 68,
            "Miles_per_Gallon": 34.1,
            "Name": "mazda glc 4",
            "Origin": "Japan",
            "Weight_in_lbs": 1985,
            "Year": "1982-01-01"
           },
           {
            "Acceleration": 14.9,
            "Cylinders": 4,
            "Displacement": 105,
            "Horsepower": 63,
            "Miles_per_Gallon": 34.7,
            "Name": "plymouth horizon 4",
            "Origin": "USA",
            "Weight_in_lbs": 2215,
            "Year": "1982-01-01"
           },
           {
            "Acceleration": 16.2,
            "Cylinders": 4,
            "Displacement": 98,
            "Horsepower": 65,
            "Miles_per_Gallon": 34.4,
            "Name": "ford escort 4w",
            "Origin": "USA",
            "Weight_in_lbs": 2045,
            "Year": "1982-01-01"
           },
           {
            "Acceleration": 20.7,
            "Cylinders": 4,
            "Displacement": 98,
            "Horsepower": 65,
            "Miles_per_Gallon": 29.9,
            "Name": "ford escort 2h",
            "Origin": "USA",
            "Weight_in_lbs": 2380,
            "Year": "1982-01-01"
           },
           {
            "Acceleration": 14.2,
            "Cylinders": 4,
            "Displacement": 105,
            "Horsepower": 74,
            "Miles_per_Gallon": 33,
            "Name": "volkswagen jetta",
            "Origin": "Europe",
            "Weight_in_lbs": 2190,
            "Year": "1982-01-01"
           },
           {
            "Acceleration": 15.8,
            "Cylinders": 4,
            "Displacement": 100,
            "Horsepower": null,
            "Miles_per_Gallon": 34.5,
            "Name": "renault 18i",
            "Origin": "Europe",
            "Weight_in_lbs": 2320,
            "Year": "1982-01-01"
           },
           {
            "Acceleration": 14.4,
            "Cylinders": 4,
            "Displacement": 107,
            "Horsepower": 75,
            "Miles_per_Gallon": 33.7,
            "Name": "honda prelude",
            "Origin": "Japan",
            "Weight_in_lbs": 2210,
            "Year": "1982-01-01"
           },
           {
            "Acceleration": 16.8,
            "Cylinders": 4,
            "Displacement": 108,
            "Horsepower": 75,
            "Miles_per_Gallon": 32.4,
            "Name": "toyota corolla",
            "Origin": "Japan",
            "Weight_in_lbs": 2350,
            "Year": "1982-01-01"
           },
           {
            "Acceleration": 14.8,
            "Cylinders": 4,
            "Displacement": 119,
            "Horsepower": 100,
            "Miles_per_Gallon": 32.9,
            "Name": "datsun 200sx",
            "Origin": "Japan",
            "Weight_in_lbs": 2615,
            "Year": "1982-01-01"
           },
           {
            "Acceleration": 18.3,
            "Cylinders": 4,
            "Displacement": 120,
            "Horsepower": 74,
            "Miles_per_Gallon": 31.6,
            "Name": "mazda 626",
            "Origin": "Japan",
            "Weight_in_lbs": 2635,
            "Year": "1982-01-01"
           },
           {
            "Acceleration": 20.4,
            "Cylinders": 4,
            "Displacement": 141,
            "Horsepower": 80,
            "Miles_per_Gallon": 28.1,
            "Name": "peugeot 505s turbo diesel",
            "Origin": "Europe",
            "Weight_in_lbs": 3230,
            "Year": "1982-01-01"
           },
           {
            "Acceleration": 15.4,
            "Cylinders": 4,
            "Displacement": 121,
            "Horsepower": 110,
            "Miles_per_Gallon": null,
            "Name": "saab 900s",
            "Origin": "Europe",
            "Weight_in_lbs": 2800,
            "Year": "1982-01-01"
           },
           {
            "Acceleration": 19.6,
            "Cylinders": 6,
            "Displacement": 145,
            "Horsepower": 76,
            "Miles_per_Gallon": 30.7,
            "Name": "volvo diesel",
            "Origin": "Europe",
            "Weight_in_lbs": 3160,
            "Year": "1982-01-01"
           },
           {
            "Acceleration": 12.6,
            "Cylinders": 6,
            "Displacement": 168,
            "Horsepower": 116,
            "Miles_per_Gallon": 25.4,
            "Name": "toyota cressida",
            "Origin": "Japan",
            "Weight_in_lbs": 2900,
            "Year": "1982-01-01"
           },
           {
            "Acceleration": 13.8,
            "Cylinders": 6,
            "Displacement": 146,
            "Horsepower": 120,
            "Miles_per_Gallon": 24.2,
            "Name": "datsun 810 maxima",
            "Origin": "Japan",
            "Weight_in_lbs": 2930,
            "Year": "1982-01-01"
           },
           {
            "Acceleration": 15.8,
            "Cylinders": 6,
            "Displacement": 231,
            "Horsepower": 110,
            "Miles_per_Gallon": 22.4,
            "Name": "buick century",
            "Origin": "USA",
            "Weight_in_lbs": 3415,
            "Year": "1982-01-01"
           },
           {
            "Acceleration": 19,
            "Cylinders": 8,
            "Displacement": 350,
            "Horsepower": 105,
            "Miles_per_Gallon": 26.6,
            "Name": "oldsmobile cutlass ls",
            "Origin": "USA",
            "Weight_in_lbs": 3725,
            "Year": "1982-01-01"
           },
           {
            "Acceleration": 17.1,
            "Cylinders": 6,
            "Displacement": 200,
            "Horsepower": 88,
            "Miles_per_Gallon": 20.2,
            "Name": "ford granada gl",
            "Origin": "USA",
            "Weight_in_lbs": 3060,
            "Year": "1982-01-01"
           },
           {
            "Acceleration": 16.6,
            "Cylinders": 6,
            "Displacement": 225,
            "Horsepower": 85,
            "Miles_per_Gallon": 17.6,
            "Name": "chrysler lebaron salon",
            "Origin": "USA",
            "Weight_in_lbs": 3465,
            "Year": "1982-01-01"
           },
           {
            "Acceleration": 19.6,
            "Cylinders": 4,
            "Displacement": 112,
            "Horsepower": 88,
            "Miles_per_Gallon": 28,
            "Name": "chevrolet cavalier",
            "Origin": "USA",
            "Weight_in_lbs": 2605,
            "Year": "1982-01-01"
           },
           {
            "Acceleration": 18.6,
            "Cylinders": 4,
            "Displacement": 112,
            "Horsepower": 88,
            "Miles_per_Gallon": 27,
            "Name": "chevrolet cavalier wagon",
            "Origin": "USA",
            "Weight_in_lbs": 2640,
            "Year": "1982-01-01"
           },
           {
            "Acceleration": 18,
            "Cylinders": 4,
            "Displacement": 112,
            "Horsepower": 88,
            "Miles_per_Gallon": 34,
            "Name": "chevrolet cavalier 2-door",
            "Origin": "USA",
            "Weight_in_lbs": 2395,
            "Year": "1982-01-01"
           },
           {
            "Acceleration": 16.2,
            "Cylinders": 4,
            "Displacement": 112,
            "Horsepower": 85,
            "Miles_per_Gallon": 31,
            "Name": "pontiac j2000 se hatchback",
            "Origin": "USA",
            "Weight_in_lbs": 2575,
            "Year": "1982-01-01"
           },
           {
            "Acceleration": 16,
            "Cylinders": 4,
            "Displacement": 135,
            "Horsepower": 84,
            "Miles_per_Gallon": 29,
            "Name": "dodge aries se",
            "Origin": "USA",
            "Weight_in_lbs": 2525,
            "Year": "1982-01-01"
           },
           {
            "Acceleration": 18,
            "Cylinders": 4,
            "Displacement": 151,
            "Horsepower": 90,
            "Miles_per_Gallon": 27,
            "Name": "pontiac phoenix",
            "Origin": "USA",
            "Weight_in_lbs": 2735,
            "Year": "1982-01-01"
           },
           {
            "Acceleration": 16.4,
            "Cylinders": 4,
            "Displacement": 140,
            "Horsepower": 92,
            "Miles_per_Gallon": 24,
            "Name": "ford fairmont futura",
            "Origin": "USA",
            "Weight_in_lbs": 2865,
            "Year": "1982-01-01"
           },
           {
            "Acceleration": 20.5,
            "Cylinders": 4,
            "Displacement": 151,
            "Horsepower": null,
            "Miles_per_Gallon": 23,
            "Name": "amc concord dl",
            "Origin": "USA",
            "Weight_in_lbs": 3035,
            "Year": "1982-01-01"
           },
           {
            "Acceleration": 15.3,
            "Cylinders": 4,
            "Displacement": 105,
            "Horsepower": 74,
            "Miles_per_Gallon": 36,
            "Name": "volkswagen rabbit l",
            "Origin": "Europe",
            "Weight_in_lbs": 1980,
            "Year": "1982-01-01"
           },
           {
            "Acceleration": 18.2,
            "Cylinders": 4,
            "Displacement": 91,
            "Horsepower": 68,
            "Miles_per_Gallon": 37,
            "Name": "mazda glc custom l",
            "Origin": "Japan",
            "Weight_in_lbs": 2025,
            "Year": "1982-01-01"
           },
           {
            "Acceleration": 17.6,
            "Cylinders": 4,
            "Displacement": 91,
            "Horsepower": 68,
            "Miles_per_Gallon": 31,
            "Name": "mazda glc custom",
            "Origin": "Japan",
            "Weight_in_lbs": 1970,
            "Year": "1982-01-01"
           },
           {
            "Acceleration": 14.7,
            "Cylinders": 4,
            "Displacement": 105,
            "Horsepower": 63,
            "Miles_per_Gallon": 38,
            "Name": "plymouth horizon miser",
            "Origin": "USA",
            "Weight_in_lbs": 2125,
            "Year": "1982-01-01"
           },
           {
            "Acceleration": 17.3,
            "Cylinders": 4,
            "Displacement": 98,
            "Horsepower": 70,
            "Miles_per_Gallon": 36,
            "Name": "mercury lynx l",
            "Origin": "USA",
            "Weight_in_lbs": 2125,
            "Year": "1982-01-01"
           },
           {
            "Acceleration": 14.5,
            "Cylinders": 4,
            "Displacement": 120,
            "Horsepower": 88,
            "Miles_per_Gallon": 36,
            "Name": "nissan stanza xe",
            "Origin": "Japan",
            "Weight_in_lbs": 2160,
            "Year": "1982-01-01"
           },
           {
            "Acceleration": 14.5,
            "Cylinders": 4,
            "Displacement": 107,
            "Horsepower": 75,
            "Miles_per_Gallon": 36,
            "Name": "honda Accelerationord",
            "Origin": "Japan",
            "Weight_in_lbs": 2205,
            "Year": "1982-01-01"
           },
           {
            "Acceleration": 16.9,
            "Cylinders": 4,
            "Displacement": 108,
            "Horsepower": 70,
            "Miles_per_Gallon": 34,
            "Name": "toyota corolla",
            "Origin": "Japan",
            "Weight_in_lbs": 2245,
            "Year": "1982-01-01"
           },
           {
            "Acceleration": 15,
            "Cylinders": 4,
            "Displacement": 91,
            "Horsepower": 67,
            "Miles_per_Gallon": 38,
            "Name": "honda civic",
            "Origin": "Japan",
            "Weight_in_lbs": 1965,
            "Year": "1982-01-01"
           },
           {
            "Acceleration": 15.7,
            "Cylinders": 4,
            "Displacement": 91,
            "Horsepower": 67,
            "Miles_per_Gallon": 32,
            "Name": "honda civic (auto)",
            "Origin": "Japan",
            "Weight_in_lbs": 1965,
            "Year": "1982-01-01"
           },
           {
            "Acceleration": 16.2,
            "Cylinders": 4,
            "Displacement": 91,
            "Horsepower": 67,
            "Miles_per_Gallon": 38,
            "Name": "datsun 310 gx",
            "Origin": "Japan",
            "Weight_in_lbs": 1995,
            "Year": "1982-01-01"
           },
           {
            "Acceleration": 16.4,
            "Cylinders": 6,
            "Displacement": 181,
            "Horsepower": 110,
            "Miles_per_Gallon": 25,
            "Name": "buick century limited",
            "Origin": "USA",
            "Weight_in_lbs": 2945,
            "Year": "1982-01-01"
           },
           {
            "Acceleration": 17,
            "Cylinders": 6,
            "Displacement": 262,
            "Horsepower": 85,
            "Miles_per_Gallon": 38,
            "Name": "oldsmobile cutlass ciera (diesel)",
            "Origin": "USA",
            "Weight_in_lbs": 3015,
            "Year": "1982-01-01"
           },
           {
            "Acceleration": 14.5,
            "Cylinders": 4,
            "Displacement": 156,
            "Horsepower": 92,
            "Miles_per_Gallon": 26,
            "Name": "chrysler lebaron medallion",
            "Origin": "USA",
            "Weight_in_lbs": 2585,
            "Year": "1982-01-01"
           },
           {
            "Acceleration": 14.7,
            "Cylinders": 6,
            "Displacement": 232,
            "Horsepower": 112,
            "Miles_per_Gallon": 22,
            "Name": "ford granada l",
            "Origin": "USA",
            "Weight_in_lbs": 2835,
            "Year": "1982-01-01"
           },
           {
            "Acceleration": 13.9,
            "Cylinders": 4,
            "Displacement": 144,
            "Horsepower": 96,
            "Miles_per_Gallon": 32,
            "Name": "toyota celica gt",
            "Origin": "Japan",
            "Weight_in_lbs": 2665,
            "Year": "1982-01-01"
           },
           {
            "Acceleration": 13,
            "Cylinders": 4,
            "Displacement": 135,
            "Horsepower": 84,
            "Miles_per_Gallon": 36,
            "Name": "dodge charger 2.2",
            "Origin": "USA",
            "Weight_in_lbs": 2370,
            "Year": "1982-01-01"
           },
           {
            "Acceleration": 17.3,
            "Cylinders": 4,
            "Displacement": 151,
            "Horsepower": 90,
            "Miles_per_Gallon": 27,
            "Name": "chevrolet camaro",
            "Origin": "USA",
            "Weight_in_lbs": 2950,
            "Year": "1982-01-01"
           },
           {
            "Acceleration": 15.6,
            "Cylinders": 4,
            "Displacement": 140,
            "Horsepower": 86,
            "Miles_per_Gallon": 27,
            "Name": "ford mustang gl",
            "Origin": "USA",
            "Weight_in_lbs": 2790,
            "Year": "1982-01-01"
           },
           {
            "Acceleration": 24.6,
            "Cylinders": 4,
            "Displacement": 97,
            "Horsepower": 52,
            "Miles_per_Gallon": 44,
            "Name": "vw pickup",
            "Origin": "Europe",
            "Weight_in_lbs": 2130,
            "Year": "1982-01-01"
           },
           {
            "Acceleration": 11.6,
            "Cylinders": 4,
            "Displacement": 135,
            "Horsepower": 84,
            "Miles_per_Gallon": 32,
            "Name": "dodge rampage",
            "Origin": "USA",
            "Weight_in_lbs": 2295,
            "Year": "1982-01-01"
           },
           {
            "Acceleration": 18.6,
            "Cylinders": 4,
            "Displacement": 120,
            "Horsepower": 79,
            "Miles_per_Gallon": 28,
            "Name": "ford ranger",
            "Origin": "USA",
            "Weight_in_lbs": 2625,
            "Year": "1982-01-01"
           },
           {
            "Acceleration": 19.4,
            "Cylinders": 4,
            "Displacement": 119,
            "Horsepower": 82,
            "Miles_per_Gallon": 31,
            "Name": "chevy s-10",
            "Origin": "USA",
            "Weight_in_lbs": 2720,
            "Year": "1982-01-01"
           }
          ]
         },
         "encoding": {
          "color": {
           "condition": {
            "field": "Origin",
            "selection": "selector007",
            "type": "nominal"
           },
           "value": "lightgray"
          },
          "tooltip": {
           "field": "Horsepower",
           "type": "quantitative"
          },
          "x": {
           "field": "Horsepower",
           "type": "quantitative"
          },
          "y": {
           "field": "Miles_per_Gallon",
           "type": "quantitative"
          }
         },
         "mark": "point",
         "selection": {
          "selector007": {
           "empty": "none",
           "encodings": [
            "x"
           ],
           "mark": {
            "fill": "#333",
            "fillOpacity": 0.125,
            "stroke": "white"
           },
           "on": "[mousedown, window:mouseup] > window:mousemove!",
           "resolve": "global",
           "translate": "[mousedown, window:mouseup] > window:mousemove!",
           "type": "interval",
           "zoom": "wheel!"
          }
         }
        },
        {
         "data": {
          "values": [
           {
            "Acceleration": 12,
            "Cylinders": 8,
            "Displacement": 307,
            "Horsepower": 130,
            "Miles_per_Gallon": 18,
            "Name": "chevrolet chevelle malibu",
            "Origin": "USA",
            "Weight_in_lbs": 3504,
            "Year": "1970-01-01"
           },
           {
            "Acceleration": 11.5,
            "Cylinders": 8,
            "Displacement": 350,
            "Horsepower": 165,
            "Miles_per_Gallon": 15,
            "Name": "buick skylark 320",
            "Origin": "USA",
            "Weight_in_lbs": 3693,
            "Year": "1970-01-01"
           },
           {
            "Acceleration": 11,
            "Cylinders": 8,
            "Displacement": 318,
            "Horsepower": 150,
            "Miles_per_Gallon": 18,
            "Name": "plymouth satellite",
            "Origin": "USA",
            "Weight_in_lbs": 3436,
            "Year": "1970-01-01"
           },
           {
            "Acceleration": 12,
            "Cylinders": 8,
            "Displacement": 304,
            "Horsepower": 150,
            "Miles_per_Gallon": 16,
            "Name": "amc rebel sst",
            "Origin": "USA",
            "Weight_in_lbs": 3433,
            "Year": "1970-01-01"
           },
           {
            "Acceleration": 10.5,
            "Cylinders": 8,
            "Displacement": 302,
            "Horsepower": 140,
            "Miles_per_Gallon": 17,
            "Name": "ford torino",
            "Origin": "USA",
            "Weight_in_lbs": 3449,
            "Year": "1970-01-01"
           },
           {
            "Acceleration": 10,
            "Cylinders": 8,
            "Displacement": 429,
            "Horsepower": 198,
            "Miles_per_Gallon": 15,
            "Name": "ford galaxie 500",
            "Origin": "USA",
            "Weight_in_lbs": 4341,
            "Year": "1970-01-01"
           },
           {
            "Acceleration": 9,
            "Cylinders": 8,
            "Displacement": 454,
            "Horsepower": 220,
            "Miles_per_Gallon": 14,
            "Name": "chevrolet impala",
            "Origin": "USA",
            "Weight_in_lbs": 4354,
            "Year": "1970-01-01"
           },
           {
            "Acceleration": 8.5,
            "Cylinders": 8,
            "Displacement": 440,
            "Horsepower": 215,
            "Miles_per_Gallon": 14,
            "Name": "plymouth fury iii",
            "Origin": "USA",
            "Weight_in_lbs": 4312,
            "Year": "1970-01-01"
           },
           {
            "Acceleration": 10,
            "Cylinders": 8,
            "Displacement": 455,
            "Horsepower": 225,
            "Miles_per_Gallon": 14,
            "Name": "pontiac catalina",
            "Origin": "USA",
            "Weight_in_lbs": 4425,
            "Year": "1970-01-01"
           },
           {
            "Acceleration": 8.5,
            "Cylinders": 8,
            "Displacement": 390,
            "Horsepower": 190,
            "Miles_per_Gallon": 15,
            "Name": "amc ambassador dpl",
            "Origin": "USA",
            "Weight_in_lbs": 3850,
            "Year": "1970-01-01"
           },
           {
            "Acceleration": 17.5,
            "Cylinders": 4,
            "Displacement": 133,
            "Horsepower": 115,
            "Miles_per_Gallon": null,
            "Name": "citroen ds-21 pallas",
            "Origin": "Europe",
            "Weight_in_lbs": 3090,
            "Year": "1970-01-01"
           },
           {
            "Acceleration": 11.5,
            "Cylinders": 8,
            "Displacement": 350,
            "Horsepower": 165,
            "Miles_per_Gallon": null,
            "Name": "chevrolet chevelle concours (sw)",
            "Origin": "USA",
            "Weight_in_lbs": 4142,
            "Year": "1970-01-01"
           },
           {
            "Acceleration": 11,
            "Cylinders": 8,
            "Displacement": 351,
            "Horsepower": 153,
            "Miles_per_Gallon": null,
            "Name": "ford torino (sw)",
            "Origin": "USA",
            "Weight_in_lbs": 4034,
            "Year": "1970-01-01"
           },
           {
            "Acceleration": 10.5,
            "Cylinders": 8,
            "Displacement": 383,
            "Horsepower": 175,
            "Miles_per_Gallon": null,
            "Name": "plymouth satellite (sw)",
            "Origin": "USA",
            "Weight_in_lbs": 4166,
            "Year": "1970-01-01"
           },
           {
            "Acceleration": 11,
            "Cylinders": 8,
            "Displacement": 360,
            "Horsepower": 175,
            "Miles_per_Gallon": null,
            "Name": "amc rebel sst (sw)",
            "Origin": "USA",
            "Weight_in_lbs": 3850,
            "Year": "1970-01-01"
           },
           {
            "Acceleration": 10,
            "Cylinders": 8,
            "Displacement": 383,
            "Horsepower": 170,
            "Miles_per_Gallon": 15,
            "Name": "dodge challenger se",
            "Origin": "USA",
            "Weight_in_lbs": 3563,
            "Year": "1970-01-01"
           },
           {
            "Acceleration": 8,
            "Cylinders": 8,
            "Displacement": 340,
            "Horsepower": 160,
            "Miles_per_Gallon": 14,
            "Name": "plymouth 'cuda 340",
            "Origin": "USA",
            "Weight_in_lbs": 3609,
            "Year": "1970-01-01"
           },
           {
            "Acceleration": 8,
            "Cylinders": 8,
            "Displacement": 302,
            "Horsepower": 140,
            "Miles_per_Gallon": null,
            "Name": "ford mustang boss 302",
            "Origin": "USA",
            "Weight_in_lbs": 3353,
            "Year": "1970-01-01"
           },
           {
            "Acceleration": 9.5,
            "Cylinders": 8,
            "Displacement": 400,
            "Horsepower": 150,
            "Miles_per_Gallon": 15,
            "Name": "chevrolet monte carlo",
            "Origin": "USA",
            "Weight_in_lbs": 3761,
            "Year": "1970-01-01"
           },
           {
            "Acceleration": 10,
            "Cylinders": 8,
            "Displacement": 455,
            "Horsepower": 225,
            "Miles_per_Gallon": 14,
            "Name": "buick estate wagon (sw)",
            "Origin": "USA",
            "Weight_in_lbs": 3086,
            "Year": "1970-01-01"
           },
           {
            "Acceleration": 15,
            "Cylinders": 4,
            "Displacement": 113,
            "Horsepower": 95,
            "Miles_per_Gallon": 24,
            "Name": "toyota corona mark ii",
            "Origin": "Japan",
            "Weight_in_lbs": 2372,
            "Year": "1970-01-01"
           },
           {
            "Acceleration": 15.5,
            "Cylinders": 6,
            "Displacement": 198,
            "Horsepower": 95,
            "Miles_per_Gallon": 22,
            "Name": "plymouth duster",
            "Origin": "USA",
            "Weight_in_lbs": 2833,
            "Year": "1970-01-01"
           },
           {
            "Acceleration": 15.5,
            "Cylinders": 6,
            "Displacement": 199,
            "Horsepower": 97,
            "Miles_per_Gallon": 18,
            "Name": "amc hornet",
            "Origin": "USA",
            "Weight_in_lbs": 2774,
            "Year": "1970-01-01"
           },
           {
            "Acceleration": 16,
            "Cylinders": 6,
            "Displacement": 200,
            "Horsepower": 85,
            "Miles_per_Gallon": 21,
            "Name": "ford maverick",
            "Origin": "USA",
            "Weight_in_lbs": 2587,
            "Year": "1970-01-01"
           },
           {
            "Acceleration": 14.5,
            "Cylinders": 4,
            "Displacement": 97,
            "Horsepower": 88,
            "Miles_per_Gallon": 27,
            "Name": "datsun pl510",
            "Origin": "Japan",
            "Weight_in_lbs": 2130,
            "Year": "1970-01-01"
           },
           {
            "Acceleration": 20.5,
            "Cylinders": 4,
            "Displacement": 97,
            "Horsepower": 46,
            "Miles_per_Gallon": 26,
            "Name": "volkswagen 1131 deluxe sedan",
            "Origin": "Europe",
            "Weight_in_lbs": 1835,
            "Year": "1970-01-01"
           },
           {
            "Acceleration": 17.5,
            "Cylinders": 4,
            "Displacement": 110,
            "Horsepower": 87,
            "Miles_per_Gallon": 25,
            "Name": "peugeot 504",
            "Origin": "Europe",
            "Weight_in_lbs": 2672,
            "Year": "1970-01-01"
           },
           {
            "Acceleration": 14.5,
            "Cylinders": 4,
            "Displacement": 107,
            "Horsepower": 90,
            "Miles_per_Gallon": 24,
            "Name": "audi 100 ls",
            "Origin": "Europe",
            "Weight_in_lbs": 2430,
            "Year": "1970-01-01"
           },
           {
            "Acceleration": 17.5,
            "Cylinders": 4,
            "Displacement": 104,
            "Horsepower": 95,
            "Miles_per_Gallon": 25,
            "Name": "saab 99e",
            "Origin": "Europe",
            "Weight_in_lbs": 2375,
            "Year": "1970-01-01"
           },
           {
            "Acceleration": 12.5,
            "Cylinders": 4,
            "Displacement": 121,
            "Horsepower": 113,
            "Miles_per_Gallon": 26,
            "Name": "bmw 2002",
            "Origin": "Europe",
            "Weight_in_lbs": 2234,
            "Year": "1970-01-01"
           },
           {
            "Acceleration": 15,
            "Cylinders": 6,
            "Displacement": 199,
            "Horsepower": 90,
            "Miles_per_Gallon": 21,
            "Name": "amc gremlin",
            "Origin": "USA",
            "Weight_in_lbs": 2648,
            "Year": "1970-01-01"
           },
           {
            "Acceleration": 14,
            "Cylinders": 8,
            "Displacement": 360,
            "Horsepower": 215,
            "Miles_per_Gallon": 10,
            "Name": "ford f250",
            "Origin": "USA",
            "Weight_in_lbs": 4615,
            "Year": "1970-01-01"
           },
           {
            "Acceleration": 15,
            "Cylinders": 8,
            "Displacement": 307,
            "Horsepower": 200,
            "Miles_per_Gallon": 10,
            "Name": "chevy c20",
            "Origin": "USA",
            "Weight_in_lbs": 4376,
            "Year": "1970-01-01"
           },
           {
            "Acceleration": 13.5,
            "Cylinders": 8,
            "Displacement": 318,
            "Horsepower": 210,
            "Miles_per_Gallon": 11,
            "Name": "dodge d200",
            "Origin": "USA",
            "Weight_in_lbs": 4382,
            "Year": "1970-01-01"
           },
           {
            "Acceleration": 18.5,
            "Cylinders": 8,
            "Displacement": 304,
            "Horsepower": 193,
            "Miles_per_Gallon": 9,
            "Name": "hi 1200d",
            "Origin": "USA",
            "Weight_in_lbs": 4732,
            "Year": "1970-01-01"
           },
           {
            "Acceleration": 14.5,
            "Cylinders": 4,
            "Displacement": 97,
            "Horsepower": 88,
            "Miles_per_Gallon": 27,
            "Name": "datsun pl510",
            "Origin": "Japan",
            "Weight_in_lbs": 2130,
            "Year": "1971-01-01"
           },
           {
            "Acceleration": 15.5,
            "Cylinders": 4,
            "Displacement": 140,
            "Horsepower": 90,
            "Miles_per_Gallon": 28,
            "Name": "chevrolet vega 2300",
            "Origin": "USA",
            "Weight_in_lbs": 2264,
            "Year": "1971-01-01"
           },
           {
            "Acceleration": 14,
            "Cylinders": 4,
            "Displacement": 113,
            "Horsepower": 95,
            "Miles_per_Gallon": 25,
            "Name": "toyota corona",
            "Origin": "Japan",
            "Weight_in_lbs": 2228,
            "Year": "1971-01-01"
           },
           {
            "Acceleration": 19,
            "Cylinders": 4,
            "Displacement": 98,
            "Horsepower": null,
            "Miles_per_Gallon": 25,
            "Name": "ford pinto",
            "Origin": "USA",
            "Weight_in_lbs": 2046,
            "Year": "1971-01-01"
           },
           {
            "Acceleration": 20,
            "Cylinders": 4,
            "Displacement": 97,
            "Horsepower": 48,
            "Miles_per_Gallon": null,
            "Name": "volkswagen super beetle 117",
            "Origin": "Europe",
            "Weight_in_lbs": 1978,
            "Year": "1971-01-01"
           },
           {
            "Acceleration": 13,
            "Cylinders": 6,
            "Displacement": 232,
            "Horsepower": 100,
            "Miles_per_Gallon": 19,
            "Name": "amc gremlin",
            "Origin": "USA",
            "Weight_in_lbs": 2634,
            "Year": "1971-01-01"
           },
           {
            "Acceleration": 15.5,
            "Cylinders": 6,
            "Displacement": 225,
            "Horsepower": 105,
            "Miles_per_Gallon": 16,
            "Name": "plymouth satellite custom",
            "Origin": "USA",
            "Weight_in_lbs": 3439,
            "Year": "1971-01-01"
           },
           {
            "Acceleration": 15.5,
            "Cylinders": 6,
            "Displacement": 250,
            "Horsepower": 100,
            "Miles_per_Gallon": 17,
            "Name": "chevrolet chevelle malibu",
            "Origin": "USA",
            "Weight_in_lbs": 3329,
            "Year": "1971-01-01"
           },
           {
            "Acceleration": 15.5,
            "Cylinders": 6,
            "Displacement": 250,
            "Horsepower": 88,
            "Miles_per_Gallon": 19,
            "Name": "ford torino 500",
            "Origin": "USA",
            "Weight_in_lbs": 3302,
            "Year": "1971-01-01"
           },
           {
            "Acceleration": 15.5,
            "Cylinders": 6,
            "Displacement": 232,
            "Horsepower": 100,
            "Miles_per_Gallon": 18,
            "Name": "amc matador",
            "Origin": "USA",
            "Weight_in_lbs": 3288,
            "Year": "1971-01-01"
           },
           {
            "Acceleration": 12,
            "Cylinders": 8,
            "Displacement": 350,
            "Horsepower": 165,
            "Miles_per_Gallon": 14,
            "Name": "chevrolet impala",
            "Origin": "USA",
            "Weight_in_lbs": 4209,
            "Year": "1971-01-01"
           },
           {
            "Acceleration": 11.5,
            "Cylinders": 8,
            "Displacement": 400,
            "Horsepower": 175,
            "Miles_per_Gallon": 14,
            "Name": "pontiac catalina brougham",
            "Origin": "USA",
            "Weight_in_lbs": 4464,
            "Year": "1971-01-01"
           },
           {
            "Acceleration": 13.5,
            "Cylinders": 8,
            "Displacement": 351,
            "Horsepower": 153,
            "Miles_per_Gallon": 14,
            "Name": "ford galaxie 500",
            "Origin": "USA",
            "Weight_in_lbs": 4154,
            "Year": "1971-01-01"
           },
           {
            "Acceleration": 13,
            "Cylinders": 8,
            "Displacement": 318,
            "Horsepower": 150,
            "Miles_per_Gallon": 14,
            "Name": "plymouth fury iii",
            "Origin": "USA",
            "Weight_in_lbs": 4096,
            "Year": "1971-01-01"
           },
           {
            "Acceleration": 11.5,
            "Cylinders": 8,
            "Displacement": 383,
            "Horsepower": 180,
            "Miles_per_Gallon": 12,
            "Name": "dodge monaco (sw)",
            "Origin": "USA",
            "Weight_in_lbs": 4955,
            "Year": "1971-01-01"
           },
           {
            "Acceleration": 12,
            "Cylinders": 8,
            "Displacement": 400,
            "Horsepower": 170,
            "Miles_per_Gallon": 13,
            "Name": "ford country squire (sw)",
            "Origin": "USA",
            "Weight_in_lbs": 4746,
            "Year": "1971-01-01"
           },
           {
            "Acceleration": 12,
            "Cylinders": 8,
            "Displacement": 400,
            "Horsepower": 175,
            "Miles_per_Gallon": 13,
            "Name": "pontiac safari (sw)",
            "Origin": "USA",
            "Weight_in_lbs": 5140,
            "Year": "1971-01-01"
           },
           {
            "Acceleration": 13.5,
            "Cylinders": 6,
            "Displacement": 258,
            "Horsepower": 110,
            "Miles_per_Gallon": 18,
            "Name": "amc hornet sportabout (sw)",
            "Origin": "USA",
            "Weight_in_lbs": 2962,
            "Year": "1971-01-01"
           },
           {
            "Acceleration": 19,
            "Cylinders": 4,
            "Displacement": 140,
            "Horsepower": 72,
            "Miles_per_Gallon": 22,
            "Name": "chevrolet vega (sw)",
            "Origin": "USA",
            "Weight_in_lbs": 2408,
            "Year": "1971-01-01"
           },
           {
            "Acceleration": 15,
            "Cylinders": 6,
            "Displacement": 250,
            "Horsepower": 100,
            "Miles_per_Gallon": 19,
            "Name": "pontiac firebird",
            "Origin": "USA",
            "Weight_in_lbs": 3282,
            "Year": "1971-01-01"
           },
           {
            "Acceleration": 14.5,
            "Cylinders": 6,
            "Displacement": 250,
            "Horsepower": 88,
            "Miles_per_Gallon": 18,
            "Name": "ford mustang",
            "Origin": "USA",
            "Weight_in_lbs": 3139,
            "Year": "1971-01-01"
           },
           {
            "Acceleration": 14,
            "Cylinders": 4,
            "Displacement": 122,
            "Horsepower": 86,
            "Miles_per_Gallon": 23,
            "Name": "mercury capri 2000",
            "Origin": "USA",
            "Weight_in_lbs": 2220,
            "Year": "1971-01-01"
           },
           {
            "Acceleration": 14,
            "Cylinders": 4,
            "Displacement": 116,
            "Horsepower": 90,
            "Miles_per_Gallon": 28,
            "Name": "opel 1900",
            "Origin": "Europe",
            "Weight_in_lbs": 2123,
            "Year": "1971-01-01"
           },
           {
            "Acceleration": 19.5,
            "Cylinders": 4,
            "Displacement": 79,
            "Horsepower": 70,
            "Miles_per_Gallon": 30,
            "Name": "peugeot 304",
            "Origin": "Europe",
            "Weight_in_lbs": 2074,
            "Year": "1971-01-01"
           },
           {
            "Acceleration": 14.5,
            "Cylinders": 4,
            "Displacement": 88,
            "Horsepower": 76,
            "Miles_per_Gallon": 30,
            "Name": "fiat 124b",
            "Origin": "Europe",
            "Weight_in_lbs": 2065,
            "Year": "1971-01-01"
           },
           {
            "Acceleration": 19,
            "Cylinders": 4,
            "Displacement": 71,
            "Horsepower": 65,
            "Miles_per_Gallon": 31,
            "Name": "toyota corolla 1200",
            "Origin": "Japan",
            "Weight_in_lbs": 1773,
            "Year": "1971-01-01"
           },
           {
            "Acceleration": 18,
            "Cylinders": 4,
            "Displacement": 72,
            "Horsepower": 69,
            "Miles_per_Gallon": 35,
            "Name": "datsun 1200",
            "Origin": "Japan",
            "Weight_in_lbs": 1613,
            "Year": "1971-01-01"
           },
           {
            "Acceleration": 19,
            "Cylinders": 4,
            "Displacement": 97,
            "Horsepower": 60,
            "Miles_per_Gallon": 27,
            "Name": "volkswagen model 111",
            "Origin": "Europe",
            "Weight_in_lbs": 1834,
            "Year": "1971-01-01"
           },
           {
            "Acceleration": 20.5,
            "Cylinders": 4,
            "Displacement": 91,
            "Horsepower": 70,
            "Miles_per_Gallon": 26,
            "Name": "plymouth cricket",
            "Origin": "USA",
            "Weight_in_lbs": 1955,
            "Year": "1971-01-01"
           },
           {
            "Acceleration": 15.5,
            "Cylinders": 4,
            "Displacement": 113,
            "Horsepower": 95,
            "Miles_per_Gallon": 24,
            "Name": "toyota corona hardtop",
            "Origin": "Japan",
            "Weight_in_lbs": 2278,
            "Year": "1972-01-01"
           },
           {
            "Acceleration": 17,
            "Cylinders": 4,
            "Displacement": 97.5,
            "Horsepower": 80,
            "Miles_per_Gallon": 25,
            "Name": "dodge colt hardtop",
            "Origin": "USA",
            "Weight_in_lbs": 2126,
            "Year": "1972-01-01"
           },
           {
            "Acceleration": 23.5,
            "Cylinders": 4,
            "Displacement": 97,
            "Horsepower": 54,
            "Miles_per_Gallon": 23,
            "Name": "volkswagen type 3",
            "Origin": "Europe",
            "Weight_in_lbs": 2254,
            "Year": "1972-01-01"
           },
           {
            "Acceleration": 19.5,
            "Cylinders": 4,
            "Displacement": 140,
            "Horsepower": 90,
            "Miles_per_Gallon": 20,
            "Name": "chevrolet vega",
            "Origin": "USA",
            "Weight_in_lbs": 2408,
            "Year": "1972-01-01"
           },
           {
            "Acceleration": 16.5,
            "Cylinders": 4,
            "Displacement": 122,
            "Horsepower": 86,
            "Miles_per_Gallon": 21,
            "Name": "ford pinto runabout",
            "Origin": "USA",
            "Weight_in_lbs": 2226,
            "Year": "1972-01-01"
           },
           {
            "Acceleration": 12,
            "Cylinders": 8,
            "Displacement": 350,
            "Horsepower": 165,
            "Miles_per_Gallon": 13,
            "Name": "chevrolet impala",
            "Origin": "USA",
            "Weight_in_lbs": 4274,
            "Year": "1972-01-01"
           },
           {
            "Acceleration": 12,
            "Cylinders": 8,
            "Displacement": 400,
            "Horsepower": 175,
            "Miles_per_Gallon": 14,
            "Name": "pontiac catalina",
            "Origin": "USA",
            "Weight_in_lbs": 4385,
            "Year": "1972-01-01"
           },
           {
            "Acceleration": 13.5,
            "Cylinders": 8,
            "Displacement": 318,
            "Horsepower": 150,
            "Miles_per_Gallon": 15,
            "Name": "plymouth fury iii",
            "Origin": "USA",
            "Weight_in_lbs": 4135,
            "Year": "1972-01-01"
           },
           {
            "Acceleration": 13,
            "Cylinders": 8,
            "Displacement": 351,
            "Horsepower": 153,
            "Miles_per_Gallon": 14,
            "Name": "ford galaxie 500",
            "Origin": "USA",
            "Weight_in_lbs": 4129,
            "Year": "1972-01-01"
           },
           {
            "Acceleration": 11.5,
            "Cylinders": 8,
            "Displacement": 304,
            "Horsepower": 150,
            "Miles_per_Gallon": 17,
            "Name": "amc ambassador sst",
            "Origin": "USA",
            "Weight_in_lbs": 3672,
            "Year": "1972-01-01"
           },
           {
            "Acceleration": 11,
            "Cylinders": 8,
            "Displacement": 429,
            "Horsepower": 208,
            "Miles_per_Gallon": 11,
            "Name": "mercury marquis",
            "Origin": "USA",
            "Weight_in_lbs": 4633,
            "Year": "1972-01-01"
           },
           {
            "Acceleration": 13.5,
            "Cylinders": 8,
            "Displacement": 350,
            "Horsepower": 155,
            "Miles_per_Gallon": 13,
            "Name": "buick lesabre custom",
            "Origin": "USA",
            "Weight_in_lbs": 4502,
            "Year": "1972-01-01"
           },
           {
            "Acceleration": 13.5,
            "Cylinders": 8,
            "Displacement": 350,
            "Horsepower": 160,
            "Miles_per_Gallon": 12,
            "Name": "oldsmobile delta 88 royale",
            "Origin": "USA",
            "Weight_in_lbs": 4456,
            "Year": "1972-01-01"
           },
           {
            "Acceleration": 12.5,
            "Cylinders": 8,
            "Displacement": 400,
            "Horsepower": 190,
            "Miles_per_Gallon": 13,
            "Name": "chrysler newport royal",
            "Origin": "USA",
            "Weight_in_lbs": 4422,
            "Year": "1972-01-01"
           },
           {
            "Acceleration": 13.5,
            "Cylinders": 3,
            "Displacement": 70,
            "Horsepower": 97,
            "Miles_per_Gallon": 19,
            "Name": "mazda rx2 coupe",
            "Origin": "Japan",
            "Weight_in_lbs": 2330,
            "Year": "1972-01-01"
           },
           {
            "Acceleration": 12.5,
            "Cylinders": 8,
            "Displacement": 304,
            "Horsepower": 150,
            "Miles_per_Gallon": 15,
            "Name": "amc matador (sw)",
            "Origin": "USA",
            "Weight_in_lbs": 3892,
            "Year": "1972-01-01"
           },
           {
            "Acceleration": 14,
            "Cylinders": 8,
            "Displacement": 307,
            "Horsepower": 130,
            "Miles_per_Gallon": 13,
            "Name": "chevrolet chevelle concours (sw)",
            "Origin": "USA",
            "Weight_in_lbs": 4098,
            "Year": "1972-01-01"
           },
           {
            "Acceleration": 16,
            "Cylinders": 8,
            "Displacement": 302,
            "Horsepower": 140,
            "Miles_per_Gallon": 13,
            "Name": "ford gran torino (sw)",
            "Origin": "USA",
            "Weight_in_lbs": 4294,
            "Year": "1972-01-01"
           },
           {
            "Acceleration": 14,
            "Cylinders": 8,
            "Displacement": 318,
            "Horsepower": 150,
            "Miles_per_Gallon": 14,
            "Name": "plymouth satellite custom (sw)",
            "Origin": "USA",
            "Weight_in_lbs": 4077,
            "Year": "1972-01-01"
           },
           {
            "Acceleration": 14.5,
            "Cylinders": 4,
            "Displacement": 121,
            "Horsepower": 112,
            "Miles_per_Gallon": 18,
            "Name": "volvo 145e (sw)",
            "Origin": "Europe",
            "Weight_in_lbs": 2933,
            "Year": "1972-01-01"
           },
           {
            "Acceleration": 18,
            "Cylinders": 4,
            "Displacement": 121,
            "Horsepower": 76,
            "Miles_per_Gallon": 22,
            "Name": "volkswagen 411 (sw)",
            "Origin": "Europe",
            "Weight_in_lbs": 2511,
            "Year": "1972-01-01"
           },
           {
            "Acceleration": 19.5,
            "Cylinders": 4,
            "Displacement": 120,
            "Horsepower": 87,
            "Miles_per_Gallon": 21,
            "Name": "peugeot 504 (sw)",
            "Origin": "Europe",
            "Weight_in_lbs": 2979,
            "Year": "1972-01-01"
           },
           {
            "Acceleration": 18,
            "Cylinders": 4,
            "Displacement": 96,
            "Horsepower": 69,
            "Miles_per_Gallon": 26,
            "Name": "renault 12 (sw)",
            "Origin": "Europe",
            "Weight_in_lbs": 2189,
            "Year": "1972-01-01"
           },
           {
            "Acceleration": 16,
            "Cylinders": 4,
            "Displacement": 122,
            "Horsepower": 86,
            "Miles_per_Gallon": 22,
            "Name": "ford pinto (sw)",
            "Origin": "USA",
            "Weight_in_lbs": 2395,
            "Year": "1972-01-01"
           },
           {
            "Acceleration": 17,
            "Cylinders": 4,
            "Displacement": 97,
            "Horsepower": 92,
            "Miles_per_Gallon": 28,
            "Name": "datsun 510 (sw)",
            "Origin": "Japan",
            "Weight_in_lbs": 2288,
            "Year": "1972-01-01"
           },
           {
            "Acceleration": 14.5,
            "Cylinders": 4,
            "Displacement": 120,
            "Horsepower": 97,
            "Miles_per_Gallon": 23,
            "Name": "toyouta corona mark ii (sw)",
            "Origin": "Japan",
            "Weight_in_lbs": 2506,
            "Year": "1972-01-01"
           },
           {
            "Acceleration": 15,
            "Cylinders": 4,
            "Displacement": 98,
            "Horsepower": 80,
            "Miles_per_Gallon": 28,
            "Name": "dodge colt (sw)",
            "Origin": "USA",
            "Weight_in_lbs": 2164,
            "Year": "1972-01-01"
           },
           {
            "Acceleration": 16.5,
            "Cylinders": 4,
            "Displacement": 97,
            "Horsepower": 88,
            "Miles_per_Gallon": 27,
            "Name": "toyota corolla 1600 (sw)",
            "Origin": "Japan",
            "Weight_in_lbs": 2100,
            "Year": "1972-01-01"
           },
           {
            "Acceleration": 13,
            "Cylinders": 8,
            "Displacement": 350,
            "Horsepower": 175,
            "Miles_per_Gallon": 13,
            "Name": "buick century 350",
            "Origin": "USA",
            "Weight_in_lbs": 4100,
            "Year": "1973-01-01"
           },
           {
            "Acceleration": 11.5,
            "Cylinders": 8,
            "Displacement": 304,
            "Horsepower": 150,
            "Miles_per_Gallon": 14,
            "Name": "amc matador",
            "Origin": "USA",
            "Weight_in_lbs": 3672,
            "Year": "1973-01-01"
           },
           {
            "Acceleration": 13,
            "Cylinders": 8,
            "Displacement": 350,
            "Horsepower": 145,
            "Miles_per_Gallon": 13,
            "Name": "chevrolet malibu",
            "Origin": "USA",
            "Weight_in_lbs": 3988,
            "Year": "1973-01-01"
           },
           {
            "Acceleration": 14.5,
            "Cylinders": 8,
            "Displacement": 302,
            "Horsepower": 137,
            "Miles_per_Gallon": 14,
            "Name": "ford gran torino",
            "Origin": "USA",
            "Weight_in_lbs": 4042,
            "Year": "1973-01-01"
           },
           {
            "Acceleration": 12.5,
            "Cylinders": 8,
            "Displacement": 318,
            "Horsepower": 150,
            "Miles_per_Gallon": 15,
            "Name": "dodge coronet custom",
            "Origin": "USA",
            "Weight_in_lbs": 3777,
            "Year": "1973-01-01"
           },
           {
            "Acceleration": 11.5,
            "Cylinders": 8,
            "Displacement": 429,
            "Horsepower": 198,
            "Miles_per_Gallon": 12,
            "Name": "mercury marquis brougham",
            "Origin": "USA",
            "Weight_in_lbs": 4952,
            "Year": "1973-01-01"
           },
           {
            "Acceleration": 12,
            "Cylinders": 8,
            "Displacement": 400,
            "Horsepower": 150,
            "Miles_per_Gallon": 13,
            "Name": "chevrolet caprice classic",
            "Origin": "USA",
            "Weight_in_lbs": 4464,
            "Year": "1973-01-01"
           },
           {
            "Acceleration": 13,
            "Cylinders": 8,
            "Displacement": 351,
            "Horsepower": 158,
            "Miles_per_Gallon": 13,
            "Name": "ford ltd",
            "Origin": "USA",
            "Weight_in_lbs": 4363,
            "Year": "1973-01-01"
           },
           {
            "Acceleration": 14.5,
            "Cylinders": 8,
            "Displacement": 318,
            "Horsepower": 150,
            "Miles_per_Gallon": 14,
            "Name": "plymouth fury gran sedan",
            "Origin": "USA",
            "Weight_in_lbs": 4237,
            "Year": "1973-01-01"
           },
           {
            "Acceleration": 11,
            "Cylinders": 8,
            "Displacement": 440,
            "Horsepower": 215,
            "Miles_per_Gallon": 13,
            "Name": "chrysler new yorker brougham",
            "Origin": "USA",
            "Weight_in_lbs": 4735,
            "Year": "1973-01-01"
           },
           {
            "Acceleration": 11,
            "Cylinders": 8,
            "Displacement": 455,
            "Horsepower": 225,
            "Miles_per_Gallon": 12,
            "Name": "buick electra 225 custom",
            "Origin": "USA",
            "Weight_in_lbs": 4951,
            "Year": "1973-01-01"
           },
           {
            "Acceleration": 11,
            "Cylinders": 8,
            "Displacement": 360,
            "Horsepower": 175,
            "Miles_per_Gallon": 13,
            "Name": "amc ambassador brougham",
            "Origin": "USA",
            "Weight_in_lbs": 3821,
            "Year": "1973-01-01"
           },
           {
            "Acceleration": 16.5,
            "Cylinders": 6,
            "Displacement": 225,
            "Horsepower": 105,
            "Miles_per_Gallon": 18,
            "Name": "plymouth valiant",
            "Origin": "USA",
            "Weight_in_lbs": 3121,
            "Year": "1973-01-01"
           },
           {
            "Acceleration": 18,
            "Cylinders": 6,
            "Displacement": 250,
            "Horsepower": 100,
            "Miles_per_Gallon": 16,
            "Name": "chevrolet nova custom",
            "Origin": "USA",
            "Weight_in_lbs": 3278,
            "Year": "1973-01-01"
           },
           {
            "Acceleration": 16,
            "Cylinders": 6,
            "Displacement": 232,
            "Horsepower": 100,
            "Miles_per_Gallon": 18,
            "Name": "amc hornet",
            "Origin": "USA",
            "Weight_in_lbs": 2945,
            "Year": "1973-01-01"
           },
           {
            "Acceleration": 16.5,
            "Cylinders": 6,
            "Displacement": 250,
            "Horsepower": 88,
            "Miles_per_Gallon": 18,
            "Name": "ford maverick",
            "Origin": "USA",
            "Weight_in_lbs": 3021,
            "Year": "1973-01-01"
           },
           {
            "Acceleration": 16,
            "Cylinders": 6,
            "Displacement": 198,
            "Horsepower": 95,
            "Miles_per_Gallon": 23,
            "Name": "plymouth duster",
            "Origin": "USA",
            "Weight_in_lbs": 2904,
            "Year": "1973-01-01"
           },
           {
            "Acceleration": 21,
            "Cylinders": 4,
            "Displacement": 97,
            "Horsepower": 46,
            "Miles_per_Gallon": 26,
            "Name": "volkswagen super beetle",
            "Origin": "Europe",
            "Weight_in_lbs": 1950,
            "Year": "1973-01-01"
           },
           {
            "Acceleration": 14,
            "Cylinders": 8,
            "Displacement": 400,
            "Horsepower": 150,
            "Miles_per_Gallon": 11,
            "Name": "chevrolet impala",
            "Origin": "USA",
            "Weight_in_lbs": 4997,
            "Year": "1973-01-01"
           },
           {
            "Acceleration": 12.5,
            "Cylinders": 8,
            "Displacement": 400,
            "Horsepower": 167,
            "Miles_per_Gallon": 12,
            "Name": "ford country",
            "Origin": "USA",
            "Weight_in_lbs": 4906,
            "Year": "1973-01-01"
           },
           {
            "Acceleration": 13,
            "Cylinders": 8,
            "Displacement": 360,
            "Horsepower": 170,
            "Miles_per_Gallon": 13,
            "Name": "plymouth custom suburb",
            "Origin": "USA",
            "Weight_in_lbs": 4654,
            "Year": "1973-01-01"
           },
           {
            "Acceleration": 12.5,
            "Cylinders": 8,
            "Displacement": 350,
            "Horsepower": 180,
            "Miles_per_Gallon": 12,
            "Name": "oldsmobile vista cruiser",
            "Origin": "USA",
            "Weight_in_lbs": 4499,
            "Year": "1973-01-01"
           },
           {
            "Acceleration": 15,
            "Cylinders": 6,
            "Displacement": 232,
            "Horsepower": 100,
            "Miles_per_Gallon": 18,
            "Name": "amc gremlin",
            "Origin": "USA",
            "Weight_in_lbs": 2789,
            "Year": "1973-01-01"
           },
           {
            "Acceleration": 19,
            "Cylinders": 4,
            "Displacement": 97,
            "Horsepower": 88,
            "Miles_per_Gallon": 20,
            "Name": "toyota carina",
            "Origin": "Japan",
            "Weight_in_lbs": 2279,
            "Year": "1973-01-01"
           },
           {
            "Acceleration": 19.5,
            "Cylinders": 4,
            "Displacement": 140,
            "Horsepower": 72,
            "Miles_per_Gallon": 21,
            "Name": "chevrolet vega",
            "Origin": "USA",
            "Weight_in_lbs": 2401,
            "Year": "1973-01-01"
           },
           {
            "Acceleration": 16.5,
            "Cylinders": 4,
            "Displacement": 108,
            "Horsepower": 94,
            "Miles_per_Gallon": 22,
            "Name": "datsun 610",
            "Origin": "Japan",
            "Weight_in_lbs": 2379,
            "Year": "1973-01-01"
           },
           {
            "Acceleration": 13.5,
            "Cylinders": 3,
            "Displacement": 70,
            "Horsepower": 90,
            "Miles_per_Gallon": 18,
            "Name": "maxda rx3",
            "Origin": "Japan",
            "Weight_in_lbs": 2124,
            "Year": "1973-01-01"
           },
           {
            "Acceleration": 18.5,
            "Cylinders": 4,
            "Displacement": 122,
            "Horsepower": 85,
            "Miles_per_Gallon": 19,
            "Name": "ford pinto",
            "Origin": "USA",
            "Weight_in_lbs": 2310,
            "Year": "1973-01-01"
           },
           {
            "Acceleration": 14,
            "Cylinders": 6,
            "Displacement": 155,
            "Horsepower": 107,
            "Miles_per_Gallon": 21,
            "Name": "mercury capri v6",
            "Origin": "USA",
            "Weight_in_lbs": 2472,
            "Year": "1973-01-01"
           },
           {
            "Acceleration": 15.5,
            "Cylinders": 4,
            "Displacement": 98,
            "Horsepower": 90,
            "Miles_per_Gallon": 26,
            "Name": "fiat 124 sport coupe",
            "Origin": "Europe",
            "Weight_in_lbs": 2265,
            "Year": "1973-01-01"
           },
           {
            "Acceleration": 13,
            "Cylinders": 8,
            "Displacement": 350,
            "Horsepower": 145,
            "Miles_per_Gallon": 15,
            "Name": "chevrolet monte carlo s",
            "Origin": "USA",
            "Weight_in_lbs": 4082,
            "Year": "1973-01-01"
           },
           {
            "Acceleration": 9.5,
            "Cylinders": 8,
            "Displacement": 400,
            "Horsepower": 230,
            "Miles_per_Gallon": 16,
            "Name": "pontiac grand prix",
            "Origin": "USA",
            "Weight_in_lbs": 4278,
            "Year": "1973-01-01"
           },
           {
            "Acceleration": 19.5,
            "Cylinders": 4,
            "Displacement": 68,
            "Horsepower": 49,
            "Miles_per_Gallon": 29,
            "Name": "fiat 128",
            "Origin": "Europe",
            "Weight_in_lbs": 1867,
            "Year": "1973-01-01"
           },
           {
            "Acceleration": 15.5,
            "Cylinders": 4,
            "Displacement": 116,
            "Horsepower": 75,
            "Miles_per_Gallon": 24,
            "Name": "opel manta",
            "Origin": "Europe",
            "Weight_in_lbs": 2158,
            "Year": "1973-01-01"
           },
           {
            "Acceleration": 14,
            "Cylinders": 4,
            "Displacement": 114,
            "Horsepower": 91,
            "Miles_per_Gallon": 20,
            "Name": "audi 100ls",
            "Origin": "Europe",
            "Weight_in_lbs": 2582,
            "Year": "1973-01-01"
           },
           {
            "Acceleration": 15.5,
            "Cylinders": 4,
            "Displacement": 121,
            "Horsepower": 112,
            "Miles_per_Gallon": 19,
            "Name": "volvo 144ea",
            "Origin": "Europe",
            "Weight_in_lbs": 2868,
            "Year": "1973-01-01"
           },
           {
            "Acceleration": 11,
            "Cylinders": 8,
            "Displacement": 318,
            "Horsepower": 150,
            "Miles_per_Gallon": 15,
            "Name": "dodge dart custom",
            "Origin": "USA",
            "Weight_in_lbs": 3399,
            "Year": "1973-01-01"
           },
           {
            "Acceleration": 14,
            "Cylinders": 4,
            "Displacement": 121,
            "Horsepower": 110,
            "Miles_per_Gallon": 24,
            "Name": "saab 99le",
            "Origin": "Europe",
            "Weight_in_lbs": 2660,
            "Year": "1973-01-01"
           },
           {
            "Acceleration": 13.5,
            "Cylinders": 6,
            "Displacement": 156,
            "Horsepower": 122,
            "Miles_per_Gallon": 20,
            "Name": "toyota mark ii",
            "Origin": "Japan",
            "Weight_in_lbs": 2807,
            "Year": "1973-01-01"
           },
           {
            "Acceleration": 11,
            "Cylinders": 8,
            "Displacement": 350,
            "Horsepower": 180,
            "Miles_per_Gallon": 11,
            "Name": "oldsmobile omega",
            "Origin": "USA",
            "Weight_in_lbs": 3664,
            "Year": "1973-01-01"
           },
           {
            "Acceleration": 16.5,
            "Cylinders": 6,
            "Displacement": 198,
            "Horsepower": 95,
            "Miles_per_Gallon": 20,
            "Name": "plymouth duster",
            "Origin": "USA",
            "Weight_in_lbs": 3102,
            "Year": "1974-01-01"
           },
           {
            "Acceleration": 17,
            "Cylinders": 6,
            "Displacement": 200,
            "Horsepower": null,
            "Miles_per_Gallon": 21,
            "Name": "ford maverick",
            "Origin": "USA",
            "Weight_in_lbs": 2875,
            "Year": "1974-01-01"
           },
           {
            "Acceleration": 16,
            "Cylinders": 6,
            "Displacement": 232,
            "Horsepower": 100,
            "Miles_per_Gallon": 19,
            "Name": "amc hornet",
            "Origin": "USA",
            "Weight_in_lbs": 2901,
            "Year": "1974-01-01"
           },
           {
            "Acceleration": 17,
            "Cylinders": 6,
            "Displacement": 250,
            "Horsepower": 100,
            "Miles_per_Gallon": 15,
            "Name": "chevrolet nova",
            "Origin": "USA",
            "Weight_in_lbs": 3336,
            "Year": "1974-01-01"
           },
           {
            "Acceleration": 19,
            "Cylinders": 4,
            "Displacement": 79,
            "Horsepower": 67,
            "Miles_per_Gallon": 31,
            "Name": "datsun b210",
            "Origin": "Japan",
            "Weight_in_lbs": 1950,
            "Year": "1974-01-01"
           },
           {
            "Acceleration": 16.5,
            "Cylinders": 4,
            "Displacement": 122,
            "Horsepower": 80,
            "Miles_per_Gallon": 26,
            "Name": "ford pinto",
            "Origin": "USA",
            "Weight_in_lbs": 2451,
            "Year": "1974-01-01"
           },
           {
            "Acceleration": 21,
            "Cylinders": 4,
            "Displacement": 71,
            "Horsepower": 65,
            "Miles_per_Gallon": 32,
            "Name": "toyota corolla 1200",
            "Origin": "Japan",
            "Weight_in_lbs": 1836,
            "Year": "1974-01-01"
           },
           {
            "Acceleration": 17,
            "Cylinders": 4,
            "Displacement": 140,
            "Horsepower": 75,
            "Miles_per_Gallon": 25,
            "Name": "chevrolet vega",
            "Origin": "USA",
            "Weight_in_lbs": 2542,
            "Year": "1974-01-01"
           },
           {
            "Acceleration": 17,
            "Cylinders": 6,
            "Displacement": 250,
            "Horsepower": 100,
            "Miles_per_Gallon": 16,
            "Name": "chevrolet chevelle malibu classic",
            "Origin": "USA",
            "Weight_in_lbs": 3781,
            "Year": "1974-01-01"
           },
           {
            "Acceleration": 18,
            "Cylinders": 6,
            "Displacement": 258,
            "Horsepower": 110,
            "Miles_per_Gallon": 16,
            "Name": "amc matador",
            "Origin": "USA",
            "Weight_in_lbs": 3632,
            "Year": "1974-01-01"
           },
           {
            "Acceleration": 16.5,
            "Cylinders": 6,
            "Displacement": 225,
            "Horsepower": 105,
            "Miles_per_Gallon": 18,
            "Name": "plymouth satellite sebring",
            "Origin": "USA",
            "Weight_in_lbs": 3613,
            "Year": "1974-01-01"
           },
           {
            "Acceleration": 14,
            "Cylinders": 8,
            "Displacement": 302,
            "Horsepower": 140,
            "Miles_per_Gallon": 16,
            "Name": "ford gran torino",
            "Origin": "USA",
            "Weight_in_lbs": 4141,
            "Year": "1974-01-01"
           },
           {
            "Acceleration": 14.5,
            "Cylinders": 8,
            "Displacement": 350,
            "Horsepower": 150,
            "Miles_per_Gallon": 13,
            "Name": "buick century luxus (sw)",
            "Origin": "USA",
            "Weight_in_lbs": 4699,
            "Year": "1974-01-01"
           },
           {
            "Acceleration": 13.5,
            "Cylinders": 8,
            "Displacement": 318,
            "Horsepower": 150,
            "Miles_per_Gallon": 14,
            "Name": "dodge coronet custom (sw)",
            "Origin": "USA",
            "Weight_in_lbs": 4457,
            "Year": "1974-01-01"
           },
           {
            "Acceleration": 16,
            "Cylinders": 8,
            "Displacement": 302,
            "Horsepower": 140,
            "Miles_per_Gallon": 14,
            "Name": "ford gran torino (sw)",
            "Origin": "USA",
            "Weight_in_lbs": 4638,
            "Year": "1974-01-01"
           },
           {
            "Acceleration": 15.5,
            "Cylinders": 8,
            "Displacement": 304,
            "Horsepower": 150,
            "Miles_per_Gallon": 14,
            "Name": "amc matador (sw)",
            "Origin": "USA",
            "Weight_in_lbs": 4257,
            "Year": "1974-01-01"
           },
           {
            "Acceleration": 16.5,
            "Cylinders": 4,
            "Displacement": 98,
            "Horsepower": 83,
            "Miles_per_Gallon": 29,
            "Name": "audi fox",
            "Origin": "Europe",
            "Weight_in_lbs": 2219,
            "Year": "1974-01-01"
           },
           {
            "Acceleration": 15.5,
            "Cylinders": 4,
            "Displacement": 79,
            "Horsepower": 67,
            "Miles_per_Gallon": 26,
            "Name": "volkswagen dasher",
            "Origin": "Europe",
            "Weight_in_lbs": 1963,
            "Year": "1974-01-01"
           },
           {
            "Acceleration": 14.5,
            "Cylinders": 4,
            "Displacement": 97,
            "Horsepower": 78,
            "Miles_per_Gallon": 26,
            "Name": "opel manta",
            "Origin": "Europe",
            "Weight_in_lbs": 2300,
            "Year": "1974-01-01"
           },
           {
            "Acceleration": 16.5,
            "Cylinders": 4,
            "Displacement": 76,
            "Horsepower": 52,
            "Miles_per_Gallon": 31,
            "Name": "toyota corona",
            "Origin": "Japan",
            "Weight_in_lbs": 1649,
            "Year": "1974-01-01"
           },
           {
            "Acceleration": 19,
            "Cylinders": 4,
            "Displacement": 83,
            "Horsepower": 61,
            "Miles_per_Gallon": 32,
            "Name": "datsun 710",
            "Origin": "Japan",
            "Weight_in_lbs": 2003,
            "Year": "1974-01-01"
           },
           {
            "Acceleration": 14.5,
            "Cylinders": 4,
            "Displacement": 90,
            "Horsepower": 75,
            "Miles_per_Gallon": 28,
            "Name": "dodge colt",
            "Origin": "USA",
            "Weight_in_lbs": 2125,
            "Year": "1974-01-01"
           },
           {
            "Acceleration": 15.5,
            "Cylinders": 4,
            "Displacement": 90,
            "Horsepower": 75,
            "Miles_per_Gallon": 24,
            "Name": "fiat 128",
            "Origin": "Europe",
            "Weight_in_lbs": 2108,
            "Year": "1974-01-01"
           },
           {
            "Acceleration": 14,
            "Cylinders": 4,
            "Displacement": 116,
            "Horsepower": 75,
            "Miles_per_Gallon": 26,
            "Name": "fiat 124 tc",
            "Origin": "Europe",
            "Weight_in_lbs": 2246,
            "Year": "1974-01-01"
           },
           {
            "Acceleration": 15,
            "Cylinders": 4,
            "Displacement": 120,
            "Horsepower": 97,
            "Miles_per_Gallon": 24,
            "Name": "honda civic",
            "Origin": "Japan",
            "Weight_in_lbs": 2489,
            "Year": "1974-01-01"
           },
           {
            "Acceleration": 15.5,
            "Cylinders": 4,
            "Displacement": 108,
            "Horsepower": 93,
            "Miles_per_Gallon": 26,
            "Name": "subaru",
            "Origin": "Japan",
            "Weight_in_lbs": 2391,
            "Year": "1974-01-01"
           },
           {
            "Acceleration": 16,
            "Cylinders": 4,
            "Displacement": 79,
            "Horsepower": 67,
            "Miles_per_Gallon": 31,
            "Name": "fiat x1.9",
            "Origin": "Europe",
            "Weight_in_lbs": 2000,
            "Year": "1974-01-01"
           },
           {
            "Acceleration": 16,
            "Cylinders": 6,
            "Displacement": 225,
            "Horsepower": 95,
            "Miles_per_Gallon": 19,
            "Name": "plymouth valiant custom",
            "Origin": "USA",
            "Weight_in_lbs": 3264,
            "Year": "1975-01-01"
           },
           {
            "Acceleration": 16,
            "Cylinders": 6,
            "Displacement": 250,
            "Horsepower": 105,
            "Miles_per_Gallon": 18,
            "Name": "chevrolet nova",
            "Origin": "USA",
            "Weight_in_lbs": 3459,
            "Year": "1975-01-01"
           },
           {
            "Acceleration": 21,
            "Cylinders": 6,
            "Displacement": 250,
            "Horsepower": 72,
            "Miles_per_Gallon": 15,
            "Name": "mercury monarch",
            "Origin": "USA",
            "Weight_in_lbs": 3432,
            "Year": "1975-01-01"
           },
           {
            "Acceleration": 19.5,
            "Cylinders": 6,
            "Displacement": 250,
            "Horsepower": 72,
            "Miles_per_Gallon": 15,
            "Name": "ford maverick",
            "Origin": "USA",
            "Weight_in_lbs": 3158,
            "Year": "1975-01-01"
           },
           {
            "Acceleration": 11.5,
            "Cylinders": 8,
            "Displacement": 400,
            "Horsepower": 170,
            "Miles_per_Gallon": 16,
            "Name": "pontiac catalina",
            "Origin": "USA",
            "Weight_in_lbs": 4668,
            "Year": "1975-01-01"
           },
           {
            "Acceleration": 14,
            "Cylinders": 8,
            "Displacement": 350,
            "Horsepower": 145,
            "Miles_per_Gallon": 15,
            "Name": "chevrolet bel air",
            "Origin": "USA",
            "Weight_in_lbs": 4440,
            "Year": "1975-01-01"
           },
           {
            "Acceleration": 14.5,
            "Cylinders": 8,
            "Displacement": 318,
            "Horsepower": 150,
            "Miles_per_Gallon": 16,
            "Name": "plymouth grand fury",
            "Origin": "USA",
            "Weight_in_lbs": 4498,
            "Year": "1975-01-01"
           },
           {
            "Acceleration": 13.5,
            "Cylinders": 8,
            "Displacement": 351,
            "Horsepower": 148,
            "Miles_per_Gallon": 14,
            "Name": "ford ltd",
            "Origin": "USA",
            "Weight_in_lbs": 4657,
            "Year": "1975-01-01"
           },
           {
            "Acceleration": 21,
            "Cylinders": 6,
            "Displacement": 231,
            "Horsepower": 110,
            "Miles_per_Gallon": 17,
            "Name": "buick century",
            "Origin": "USA",
            "Weight_in_lbs": 3907,
            "Year": "1975-01-01"
           },
           {
            "Acceleration": 18.5,
            "Cylinders": 6,
            "Displacement": 250,
            "Horsepower": 105,
            "Miles_per_Gallon": 16,
            "Name": "chevroelt chevelle malibu",
            "Origin": "USA",
            "Weight_in_lbs": 3897,
            "Year": "1975-01-01"
           },
           {
            "Acceleration": 19,
            "Cylinders": 6,
            "Displacement": 258,
            "Horsepower": 110,
            "Miles_per_Gallon": 15,
            "Name": "amc matador",
            "Origin": "USA",
            "Weight_in_lbs": 3730,
            "Year": "1975-01-01"
           },
           {
            "Acceleration": 19,
            "Cylinders": 6,
            "Displacement": 225,
            "Horsepower": 95,
            "Miles_per_Gallon": 18,
            "Name": "plymouth fury",
            "Origin": "USA",
            "Weight_in_lbs": 3785,
            "Year": "1975-01-01"
           },
           {
            "Acceleration": 15,
            "Cylinders": 6,
            "Displacement": 231,
            "Horsepower": 110,
            "Miles_per_Gallon": 21,
            "Name": "buick skyhawk",
            "Origin": "USA",
            "Weight_in_lbs": 3039,
            "Year": "1975-01-01"
           },
           {
            "Acceleration": 13.5,
            "Cylinders": 8,
            "Displacement": 262,
            "Horsepower": 110,
            "Miles_per_Gallon": 20,
            "Name": "chevrolet monza 2+2",
            "Origin": "USA",
            "Weight_in_lbs": 3221,
            "Year": "1975-01-01"
           },
           {
            "Acceleration": 12,
            "Cylinders": 8,
            "Displacement": 302,
            "Horsepower": 129,
            "Miles_per_Gallon": 13,
            "Name": "ford mustang ii",
            "Origin": "USA",
            "Weight_in_lbs": 3169,
            "Year": "1975-01-01"
           },
           {
            "Acceleration": 16,
            "Cylinders": 4,
            "Displacement": 97,
            "Horsepower": 75,
            "Miles_per_Gallon": 29,
            "Name": "toyota corolla",
            "Origin": "Japan",
            "Weight_in_lbs": 2171,
            "Year": "1975-01-01"
           },
           {
            "Acceleration": 17,
            "Cylinders": 4,
            "Displacement": 140,
            "Horsepower": 83,
            "Miles_per_Gallon": 23,
            "Name": "ford pinto",
            "Origin": "USA",
            "Weight_in_lbs": 2639,
            "Year": "1975-01-01"
           },
           {
            "Acceleration": 16,
            "Cylinders": 6,
            "Displacement": 232,
            "Horsepower": 100,
            "Miles_per_Gallon": 20,
            "Name": "amc gremlin",
            "Origin": "USA",
            "Weight_in_lbs": 2914,
            "Year": "1975-01-01"
           },
           {
            "Acceleration": 18.5,
            "Cylinders": 4,
            "Displacement": 140,
            "Horsepower": 78,
            "Miles_per_Gallon": 23,
            "Name": "pontiac astro",
            "Origin": "USA",
            "Weight_in_lbs": 2592,
            "Year": "1975-01-01"
           },
           {
            "Acceleration": 13.5,
            "Cylinders": 4,
            "Displacement": 134,
            "Horsepower": 96,
            "Miles_per_Gallon": 24,
            "Name": "toyota corona",
            "Origin": "Japan",
            "Weight_in_lbs": 2702,
            "Year": "1975-01-01"
           },
           {
            "Acceleration": 16.5,
            "Cylinders": 4,
            "Displacement": 90,
            "Horsepower": 71,
            "Miles_per_Gallon": 25,
            "Name": "volkswagen dasher",
            "Origin": "Europe",
            "Weight_in_lbs": 2223,
            "Year": "1975-01-01"
           },
           {
            "Acceleration": 17,
            "Cylinders": 4,
            "Displacement": 119,
            "Horsepower": 97,
            "Miles_per_Gallon": 24,
            "Name": "datsun 710",
            "Origin": "Japan",
            "Weight_in_lbs": 2545,
            "Year": "1975-01-01"
           },
           {
            "Acceleration": 14.5,
            "Cylinders": 6,
            "Displacement": 171,
            "Horsepower": 97,
            "Miles_per_Gallon": 18,
            "Name": "ford pinto",
            "Origin": "USA",
            "Weight_in_lbs": 2984,
            "Year": "1975-01-01"
           },
           {
            "Acceleration": 14,
            "Cylinders": 4,
            "Displacement": 90,
            "Horsepower": 70,
            "Miles_per_Gallon": 29,
            "Name": "volkswagen rabbit",
            "Origin": "Europe",
            "Weight_in_lbs": 1937,
            "Year": "1975-01-01"
           },
           {
            "Acceleration": 17,
            "Cylinders": 6,
            "Displacement": 232,
            "Horsepower": 90,
            "Miles_per_Gallon": 19,
            "Name": "amc pacer",
            "Origin": "USA",
            "Weight_in_lbs": 3211,
            "Year": "1975-01-01"
           },
           {
            "Acceleration": 15,
            "Cylinders": 4,
            "Displacement": 115,
            "Horsepower": 95,
            "Miles_per_Gallon": 23,
            "Name": "audi 100ls",
            "Origin": "Europe",
            "Weight_in_lbs": 2694,
            "Year": "1975-01-01"
           },
           {
            "Acceleration": 17,
            "Cylinders": 4,
            "Displacement": 120,
            "Horsepower": 88,
            "Miles_per_Gallon": 23,
            "Name": "peugeot 504",
            "Origin": "Europe",
            "Weight_in_lbs": 2957,
            "Year": "1975-01-01"
           },
           {
            "Acceleration": 14.5,
            "Cylinders": 4,
            "Displacement": 121,
            "Horsepower": 98,
            "Miles_per_Gallon": 22,
            "Name": "volvo 244dl",
            "Origin": "Europe",
            "Weight_in_lbs": 2945,
            "Year": "1975-01-01"
           },
           {
            "Acceleration": 13.5,
            "Cylinders": 4,
            "Displacement": 121,
            "Horsepower": 115,
            "Miles_per_Gallon": 25,
            "Name": "saab 99le",
            "Origin": "Europe",
            "Weight_in_lbs": 2671,
            "Year": "1975-01-01"
           },
           {
            "Acceleration": 17.5,
            "Cylinders": 4,
            "Displacement": 91,
            "Horsepower": 53,
            "Miles_per_Gallon": 33,
            "Name": "honda civic cvcc",
            "Origin": "Japan",
            "Weight_in_lbs": 1795,
            "Year": "1975-01-01"
           },
           {
            "Acceleration": 15.5,
            "Cylinders": 4,
            "Displacement": 107,
            "Horsepower": 86,
            "Miles_per_Gallon": 28,
            "Name": "fiat 131",
            "Origin": "Europe",
            "Weight_in_lbs": 2464,
            "Year": "1976-01-01"
           },
           {
            "Acceleration": 16.9,
            "Cylinders": 4,
            "Displacement": 116,
            "Horsepower": 81,
            "Miles_per_Gallon": 25,
            "Name": "opel 1900",
            "Origin": "Europe",
            "Weight_in_lbs": 2220,
            "Year": "1976-01-01"
           },
           {
            "Acceleration": 14.9,
            "Cylinders": 4,
            "Displacement": 140,
            "Horsepower": 92,
            "Miles_per_Gallon": 25,
            "Name": "capri ii",
            "Origin": "USA",
            "Weight_in_lbs": 2572,
            "Year": "1976-01-01"
           },
           {
            "Acceleration": 17.7,
            "Cylinders": 4,
            "Displacement": 98,
            "Horsepower": 79,
            "Miles_per_Gallon": 26,
            "Name": "dodge colt",
            "Origin": "USA",
            "Weight_in_lbs": 2255,
            "Year": "1976-01-01"
           },
           {
            "Acceleration": 15.3,
            "Cylinders": 4,
            "Displacement": 101,
            "Horsepower": 83,
            "Miles_per_Gallon": 27,
            "Name": "renault 12tl",
            "Origin": "Europe",
            "Weight_in_lbs": 2202,
            "Year": "1976-01-01"
           },
           {
            "Acceleration": 13,
            "Cylinders": 8,
            "Displacement": 305,
            "Horsepower": 140,
            "Miles_per_Gallon": 17.5,
            "Name": "chevrolet chevelle malibu classic",
            "Origin": "USA",
            "Weight_in_lbs": 4215,
            "Year": "1976-01-01"
           },
           {
            "Acceleration": 13,
            "Cylinders": 8,
            "Displacement": 318,
            "Horsepower": 150,
            "Miles_per_Gallon": 16,
            "Name": "dodge coronet brougham",
            "Origin": "USA",
            "Weight_in_lbs": 4190,
            "Year": "1976-01-01"
           },
           {
            "Acceleration": 13.9,
            "Cylinders": 8,
            "Displacement": 304,
            "Horsepower": 120,
            "Miles_per_Gallon": 15.5,
            "Name": "amc matador",
            "Origin": "USA",
            "Weight_in_lbs": 3962,
            "Year": "1976-01-01"
           },
           {
            "Acceleration": 12.8,
            "Cylinders": 8,
            "Displacement": 351,
            "Horsepower": 152,
            "Miles_per_Gallon": 14.5,
            "Name": "ford gran torino",
            "Origin": "USA",
            "Weight_in_lbs": 4215,
            "Year": "1976-01-01"
           },
           {
            "Acceleration": 15.4,
            "Cylinders": 6,
            "Displacement": 225,
            "Horsepower": 100,
            "Miles_per_Gallon": 22,
            "Name": "plymouth valiant",
            "Origin": "USA",
            "Weight_in_lbs": 3233,
            "Year": "1976-01-01"
           },
           {
            "Acceleration": 14.5,
            "Cylinders": 6,
            "Displacement": 250,
            "Horsepower": 105,
            "Miles_per_Gallon": 22,
            "Name": "chevrolet nova",
            "Origin": "USA",
            "Weight_in_lbs": 3353,
            "Year": "1976-01-01"
           },
           {
            "Acceleration": 17.6,
            "Cylinders": 6,
            "Displacement": 200,
            "Horsepower": 81,
            "Miles_per_Gallon": 24,
            "Name": "ford maverick",
            "Origin": "USA",
            "Weight_in_lbs": 3012,
            "Year": "1976-01-01"
           },
           {
            "Acceleration": 17.6,
            "Cylinders": 6,
            "Displacement": 232,
            "Horsepower": 90,
            "Miles_per_Gallon": 22.5,
            "Name": "amc hornet",
            "Origin": "USA",
            "Weight_in_lbs": 3085,
            "Year": "1976-01-01"
           },
           {
            "Acceleration": 22.2,
            "Cylinders": 4,
            "Displacement": 85,
            "Horsepower": 52,
            "Miles_per_Gallon": 29,
            "Name": "chevrolet chevette",
            "Origin": "USA",
            "Weight_in_lbs": 2035,
            "Year": "1976-01-01"
           },
           {
            "Acceleration": 22.1,
            "Cylinders": 4,
            "Displacement": 98,
            "Horsepower": 60,
            "Miles_per_Gallon": 24.5,
            "Name": "chevrolet woody",
            "Origin": "USA",
            "Weight_in_lbs": 2164,
            "Year": "1976-01-01"
           },
           {
            "Acceleration": 14.2,
            "Cylinders": 4,
            "Displacement": 90,
            "Horsepower": 70,
            "Miles_per_Gallon": 29,
            "Name": "vw rabbit",
            "Origin": "Europe",
            "Weight_in_lbs": 1937,
            "Year": "1976-01-01"
           },
           {
            "Acceleration": 17.4,
            "Cylinders": 4,
            "Displacement": 91,
            "Horsepower": 53,
            "Miles_per_Gallon": 33,
            "Name": "honda civic",
            "Origin": "Japan",
            "Weight_in_lbs": 1795,
            "Year": "1976-01-01"
           },
           {
            "Acceleration": 17.7,
            "Cylinders": 6,
            "Displacement": 225,
            "Horsepower": 100,
            "Miles_per_Gallon": 20,
            "Name": "dodge aspen se",
            "Origin": "USA",
            "Weight_in_lbs": 3651,
            "Year": "1976-01-01"
           },
           {
            "Acceleration": 21,
            "Cylinders": 6,
            "Displacement": 250,
            "Horsepower": 78,
            "Miles_per_Gallon": 18,
            "Name": "ford granada ghia",
            "Origin": "USA",
            "Weight_in_lbs": 3574,
            "Year": "1976-01-01"
           },
           {
            "Acceleration": 16.2,
            "Cylinders": 6,
            "Displacement": 250,
            "Horsepower": 110,
            "Miles_per_Gallon": 18.5,
            "Name": "pontiac ventura sj",
            "Origin": "USA",
            "Weight_in_lbs": 3645,
            "Year": "1976-01-01"
           },
           {
            "Acceleration": 17.8,
            "Cylinders": 6,
            "Displacement": 258,
            "Horsepower": 95,
            "Miles_per_Gallon": 17.5,
            "Name": "amc pacer d/l",
            "Origin": "USA",
            "Weight_in_lbs": 3193,
            "Year": "1976-01-01"
           },
           {
            "Acceleration": 12.2,
            "Cylinders": 4,
            "Displacement": 97,
            "Horsepower": 71,
            "Miles_per_Gallon": 29.5,
            "Name": "volkswagen rabbit",
            "Origin": "Europe",
            "Weight_in_lbs": 1825,
            "Year": "1976-01-01"
           },
           {
            "Acceleration": 17,
            "Cylinders": 4,
            "Displacement": 85,
            "Horsepower": 70,
            "Miles_per_Gallon": 32,
            "Name": "datsun b-210",
            "Origin": "Japan",
            "Weight_in_lbs": 1990,
            "Year": "1976-01-01"
           },
           {
            "Acceleration": 16.4,
            "Cylinders": 4,
            "Displacement": 97,
            "Horsepower": 75,
            "Miles_per_Gallon": 28,
            "Name": "toyota corolla",
            "Origin": "Japan",
            "Weight_in_lbs": 2155,
            "Year": "1976-01-01"
           },
           {
            "Acceleration": 13.6,
            "Cylinders": 4,
            "Displacement": 140,
            "Horsepower": 72,
            "Miles_per_Gallon": 26.5,
            "Name": "ford pinto",
            "Origin": "USA",
            "Weight_in_lbs": 2565,
            "Year": "1976-01-01"
           },
           {
            "Acceleration": 15.7,
            "Cylinders": 4,
            "Displacement": 130,
            "Horsepower": 102,
            "Miles_per_Gallon": 20,
            "Name": "volvo 245",
            "Origin": "Europe",
            "Weight_in_lbs": 3150,
            "Year": "1976-01-01"
           },
           {
            "Acceleration": 13.2,
            "Cylinders": 8,
            "Displacement": 318,
            "Horsepower": 150,
            "Miles_per_Gallon": 13,
            "Name": "plymouth volare premier v8",
            "Origin": "USA",
            "Weight_in_lbs": 3940,
            "Year": "1976-01-01"
           },
           {
            "Acceleration": 21.9,
            "Cylinders": 4,
            "Displacement": 120,
            "Horsepower": 88,
            "Miles_per_Gallon": 19,
            "Name": "peugeot 504",
            "Origin": "Europe",
            "Weight_in_lbs": 3270,
            "Year": "1976-01-01"
           },
           {
            "Acceleration": 15.5,
            "Cylinders": 6,
            "Displacement": 156,
            "Horsepower": 108,
            "Miles_per_Gallon": 19,
            "Name": "toyota mark ii",
            "Origin": "Japan",
            "Weight_in_lbs": 2930,
            "Year": "1976-01-01"
           },
           {
            "Acceleration": 16.7,
            "Cylinders": 6,
            "Displacement": 168,
            "Horsepower": 120,
            "Miles_per_Gallon": 16.5,
            "Name": "mercedes-benz 280s",
            "Origin": "Europe",
            "Weight_in_lbs": 3820,
            "Year": "1976-01-01"
           },
           {
            "Acceleration": 12.1,
            "Cylinders": 8,
            "Displacement": 350,
            "Horsepower": 180,
            "Miles_per_Gallon": 16.5,
            "Name": "cadillac seville",
            "Origin": "USA",
            "Weight_in_lbs": 4380,
            "Year": "1976-01-01"
           },
           {
            "Acceleration": 12,
            "Cylinders": 8,
            "Displacement": 350,
            "Horsepower": 145,
            "Miles_per_Gallon": 13,
            "Name": "chevy c10",
            "Origin": "USA",
            "Weight_in_lbs": 4055,
            "Year": "1976-01-01"
           },
           {
            "Acceleration": 15,
            "Cylinders": 8,
            "Displacement": 302,
            "Horsepower": 130,
            "Miles_per_Gallon": 13,
            "Name": "ford f108",
            "Origin": "USA",
            "Weight_in_lbs": 3870,
            "Year": "1976-01-01"
           },
           {
            "Acceleration": 14,
            "Cylinders": 8,
            "Displacement": 318,
            "Horsepower": 150,
            "Miles_per_Gallon": 13,
            "Name": "dodge d100",
            "Origin": "USA",
            "Weight_in_lbs": 3755,
            "Year": "1976-01-01"
           },
           {
            "Acceleration": 18.5,
            "Cylinders": 4,
            "Displacement": 98,
            "Horsepower": 68,
            "Miles_per_Gallon": 31.5,
            "Name": "honda Accelerationord cvcc",
            "Origin": "Japan",
            "Weight_in_lbs": 2045,
            "Year": "1977-01-01"
           },
           {
            "Acceleration": 14.8,
            "Cylinders": 4,
            "Displacement": 111,
            "Horsepower": 80,
            "Miles_per_Gallon": 30,
            "Name": "buick opel isuzu deluxe",
            "Origin": "USA",
            "Weight_in_lbs": 2155,
            "Year": "1977-01-01"
           },
           {
            "Acceleration": 18.6,
            "Cylinders": 4,
            "Displacement": 79,
            "Horsepower": 58,
            "Miles_per_Gallon": 36,
            "Name": "renault 5 gtl",
            "Origin": "Europe",
            "Weight_in_lbs": 1825,
            "Year": "1977-01-01"
           },
           {
            "Acceleration": 15.5,
            "Cylinders": 4,
            "Displacement": 122,
            "Horsepower": 96,
            "Miles_per_Gallon": 25.5,
            "Name": "plymouth arrow gs",
            "Origin": "USA",
            "Weight_in_lbs": 2300,
            "Year": "1977-01-01"
           },
           {
            "Acceleration": 16.8,
            "Cylinders": 4,
            "Displacement": 85,
            "Horsepower": 70,
            "Miles_per_Gallon": 33.5,
            "Name": "datsun f-10 hatchback",
            "Origin": "Japan",
            "Weight_in_lbs": 1945,
            "Year": "1977-01-01"
           },
           {
            "Acceleration": 12.5,
            "Cylinders": 8,
            "Displacement": 305,
            "Horsepower": 145,
            "Miles_per_Gallon": 17.5,
            "Name": "chevrolet caprice classic",
            "Origin": "USA",
            "Weight_in_lbs": 3880,
            "Year": "1977-01-01"
           },
           {
            "Acceleration": 19,
            "Cylinders": 8,
            "Displacement": 260,
            "Horsepower": 110,
            "Miles_per_Gallon": 17,
            "Name": "oldsmobile cutlass supreme",
            "Origin": "USA",
            "Weight_in_lbs": 4060,
            "Year": "1977-01-01"
           },
           {
            "Acceleration": 13.7,
            "Cylinders": 8,
            "Displacement": 318,
            "Horsepower": 145,
            "Miles_per_Gallon": 15.5,
            "Name": "dodge monaco brougham",
            "Origin": "USA",
            "Weight_in_lbs": 4140,
            "Year": "1977-01-01"
           },
           {
            "Acceleration": 14.9,
            "Cylinders": 8,
            "Displacement": 302,
            "Horsepower": 130,
            "Miles_per_Gallon": 15,
            "Name": "mercury cougar brougham",
            "Origin": "USA",
            "Weight_in_lbs": 4295,
            "Year": "1977-01-01"
           },
           {
            "Acceleration": 16.4,
            "Cylinders": 6,
            "Displacement": 250,
            "Horsepower": 110,
            "Miles_per_Gallon": 17.5,
            "Name": "chevrolet concours",
            "Origin": "USA",
            "Weight_in_lbs": 3520,
            "Year": "1977-01-01"
           },
           {
            "Acceleration": 16.9,
            "Cylinders": 6,
            "Displacement": 231,
            "Horsepower": 105,
            "Miles_per_Gallon": 20.5,
            "Name": "buick skylark",
            "Origin": "USA",
            "Weight_in_lbs": 3425,
            "Year": "1977-01-01"
           },
           {
            "Acceleration": 17.7,
            "Cylinders": 6,
            "Displacement": 225,
            "Horsepower": 100,
            "Miles_per_Gallon": 19,
            "Name": "plymouth volare custom",
            "Origin": "USA",
            "Weight_in_lbs": 3630,
            "Year": "1977-01-01"
           },
           {
            "Acceleration": 19,
            "Cylinders": 6,
            "Displacement": 250,
            "Horsepower": 98,
            "Miles_per_Gallon": 18.5,
            "Name": "ford granada",
            "Origin": "USA",
            "Weight_in_lbs": 3525,
            "Year": "1977-01-01"
           },
           {
            "Acceleration": 11.1,
            "Cylinders": 8,
            "Displacement": 400,
            "Horsepower": 180,
            "Miles_per_Gallon": 16,
            "Name": "pontiac grand prix lj",
            "Origin": "USA",
            "Weight_in_lbs": 4220,
            "Year": "1977-01-01"
           },
           {
            "Acceleration": 11.4,
            "Cylinders": 8,
            "Displacement": 350,
            "Horsepower": 170,
            "Miles_per_Gallon": 15.5,
            "Name": "chevrolet monte carlo landau",
            "Origin": "USA",
            "Weight_in_lbs": 4165,
            "Year": "1977-01-01"
           },
           {
            "Acceleration": 12.2,
            "Cylinders": 8,
            "Displacement": 400,
            "Horsepower": 190,
            "Miles_per_Gallon": 15.5,
            "Name": "chrysler cordoba",
            "Origin": "USA",
            "Weight_in_lbs": 4325,
            "Year": "1977-01-01"
           },
           {
            "Acceleration": 14.5,
            "Cylinders": 8,
            "Displacement": 351,
            "Horsepower": 149,
            "Miles_per_Gallon": 16,
            "Name": "ford thunderbird",
            "Origin": "USA",
            "Weight_in_lbs": 4335,
            "Year": "1977-01-01"
           },
           {
            "Acceleration": 14.5,
            "Cylinders": 4,
            "Displacement": 97,
            "Horsepower": 78,
            "Miles_per_Gallon": 29,
            "Name": "volkswagen rabbit custom",
            "Origin": "Europe",
            "Weight_in_lbs": 1940,
            "Year": "1977-01-01"
           },
           {
            "Acceleration": 16,
            "Cylinders": 4,
            "Displacement": 151,
            "Horsepower": 88,
            "Miles_per_Gallon": 24.5,
            "Name": "pontiac sunbird coupe",
            "Origin": "USA",
            "Weight_in_lbs": 2740,
            "Year": "1977-01-01"
           },
           {
            "Acceleration": 18.2,
            "Cylinders": 4,
            "Displacement": 97,
            "Horsepower": 75,
            "Miles_per_Gallon": 26,
            "Name": "toyota corolla liftback",
            "Origin": "Japan",
            "Weight_in_lbs": 2265,
            "Year": "1977-01-01"
           },
           {
            "Acceleration": 15.8,
            "Cylinders": 4,
            "Displacement": 140,
            "Horsepower": 89,
            "Miles_per_Gallon": 25.5,
            "Name": "ford mustang ii 2+2",
            "Origin": "USA",
            "Weight_in_lbs": 2755,
            "Year": "1977-01-01"
           },
           {
            "Acceleration": 17,
            "Cylinders": 4,
            "Displacement": 98,
            "Horsepower": 63,
            "Miles_per_Gallon": 30.5,
            "Name": "chevrolet chevette",
            "Origin": "USA",
            "Weight_in_lbs": 2051,
            "Year": "1977-01-01"
           },
           {
            "Acceleration": 15.9,
            "Cylinders": 4,
            "Displacement": 98,
            "Horsepower": 83,
            "Miles_per_Gallon": 33.5,
            "Name": "dodge colt m/m",
            "Origin": "USA",
            "Weight_in_lbs": 2075,
            "Year": "1977-01-01"
           },
           {
            "Acceleration": 16.4,
            "Cylinders": 4,
            "Displacement": 97,
            "Horsepower": 67,
            "Miles_per_Gallon": 30,
            "Name": "subaru dl",
            "Origin": "Japan",
            "Weight_in_lbs": 1985,
            "Year": "1977-01-01"
           },
           {
            "Acceleration": 14.1,
            "Cylinders": 4,
            "Displacement": 97,
            "Horsepower": 78,
            "Miles_per_Gallon": 30.5,
            "Name": "volkswagen dasher",
            "Origin": "Europe",
            "Weight_in_lbs": 2190,
            "Year": "1977-01-01"
           },
           {
            "Acceleration": 14.5,
            "Cylinders": 6,
            "Displacement": 146,
            "Horsepower": 97,
            "Miles_per_Gallon": 22,
            "Name": "datsun 810",
            "Origin": "Japan",
            "Weight_in_lbs": 2815,
            "Year": "1977-01-01"
           },
           {
            "Acceleration": 12.8,
            "Cylinders": 4,
            "Displacement": 121,
            "Horsepower": 110,
            "Miles_per_Gallon": 21.5,
            "Name": "bmw 320i",
            "Origin": "Europe",
            "Weight_in_lbs": 2600,
            "Year": "1977-01-01"
           },
           {
            "Acceleration": 13.5,
            "Cylinders": 3,
            "Displacement": 80,
            "Horsepower": 110,
            "Miles_per_Gallon": 21.5,
            "Name": "mazda rx-4",
            "Origin": "Japan",
            "Weight_in_lbs": 2720,
            "Year": "1977-01-01"
           },
           {
            "Acceleration": 21.5,
            "Cylinders": 4,
            "Displacement": 90,
            "Horsepower": 48,
            "Miles_per_Gallon": 43.1,
            "Name": "volkswagen rabbit custom diesel",
            "Origin": "Europe",
            "Weight_in_lbs": 1985,
            "Year": "1978-01-01"
           },
           {
            "Acceleration": 14.4,
            "Cylinders": 4,
            "Displacement": 98,
            "Horsepower": 66,
            "Miles_per_Gallon": 36.1,
            "Name": "ford fiesta",
            "Origin": "USA",
            "Weight_in_lbs": 1800,
            "Year": "1978-01-01"
           },
           {
            "Acceleration": 19.4,
            "Cylinders": 4,
            "Displacement": 78,
            "Horsepower": 52,
            "Miles_per_Gallon": 32.8,
            "Name": "mazda glc deluxe",
            "Origin": "Japan",
            "Weight_in_lbs": 1985,
            "Year": "1978-01-01"
           },
           {
            "Acceleration": 18.6,
            "Cylinders": 4,
            "Displacement": 85,
            "Horsepower": 70,
            "Miles_per_Gallon": 39.4,
            "Name": "datsun b210 gx",
            "Origin": "Japan",
            "Weight_in_lbs": 2070,
            "Year": "1978-01-01"
           },
           {
            "Acceleration": 16.4,
            "Cylinders": 4,
            "Displacement": 91,
            "Horsepower": 60,
            "Miles_per_Gallon": 36.1,
            "Name": "honda civic cvcc",
            "Origin": "Japan",
            "Weight_in_lbs": 1800,
            "Year": "1978-01-01"
           },
           {
            "Acceleration": 15.5,
            "Cylinders": 8,
            "Displacement": 260,
            "Horsepower": 110,
            "Miles_per_Gallon": 19.9,
            "Name": "oldsmobile cutlass salon brougham",
            "Origin": "USA",
            "Weight_in_lbs": 3365,
            "Year": "1978-01-01"
           },
           {
            "Acceleration": 13.2,
            "Cylinders": 8,
            "Displacement": 318,
            "Horsepower": 140,
            "Miles_per_Gallon": 19.4,
            "Name": "dodge diplomat",
            "Origin": "USA",
            "Weight_in_lbs": 3735,
            "Year": "1978-01-01"
           },
           {
            "Acceleration": 12.8,
            "Cylinders": 8,
            "Displacement": 302,
            "Horsepower": 139,
            "Miles_per_Gallon": 20.2,
            "Name": "mercury monarch ghia",
            "Origin": "USA",
            "Weight_in_lbs": 3570,
            "Year": "1978-01-01"
           },
           {
            "Acceleration": 19.2,
            "Cylinders": 6,
            "Displacement": 231,
            "Horsepower": 105,
            "Miles_per_Gallon": 19.2,
            "Name": "pontiac phoenix lj",
            "Origin": "USA",
            "Weight_in_lbs": 3535,
            "Year": "1978-01-01"
           },
           {
            "Acceleration": 18.2,
            "Cylinders": 6,
            "Displacement": 200,
            "Horsepower": 95,
            "Miles_per_Gallon": 20.5,
            "Name": "chevrolet malibu",
            "Origin": "USA",
            "Weight_in_lbs": 3155,
            "Year": "1978-01-01"
           },
           {
            "Acceleration": 15.8,
            "Cylinders": 6,
            "Displacement": 200,
            "Horsepower": 85,
            "Miles_per_Gallon": 20.2,
            "Name": "ford fairmont (auto)",
            "Origin": "USA",
            "Weight_in_lbs": 2965,
            "Year": "1978-01-01"
           },
           {
            "Acceleration": 15.4,
            "Cylinders": 4,
            "Displacement": 140,
            "Horsepower": 88,
            "Miles_per_Gallon": 25.1,
            "Name": "ford fairmont (man)",
            "Origin": "USA",
            "Weight_in_lbs": 2720,
            "Year": "1978-01-01"
           },
           {
            "Acceleration": 17.2,
            "Cylinders": 6,
            "Displacement": 225,
            "Horsepower": 100,
            "Miles_per_Gallon": 20.5,
            "Name": "plymouth volare",
            "Origin": "USA",
            "Weight_in_lbs": 3430,
            "Year": "1978-01-01"
           },
           {
            "Acceleration": 17.2,
            "Cylinders": 6,
            "Displacement": 232,
            "Horsepower": 90,
            "Miles_per_Gallon": 19.4,
            "Name": "amc concord",
            "Origin": "USA",
            "Weight_in_lbs": 3210,
            "Year": "1978-01-01"
           },
           {
            "Acceleration": 15.8,
            "Cylinders": 6,
            "Displacement": 231,
            "Horsepower": 105,
            "Miles_per_Gallon": 20.6,
            "Name": "buick century special",
            "Origin": "USA",
            "Weight_in_lbs": 3380,
            "Year": "1978-01-01"
           },
           {
            "Acceleration": 16.7,
            "Cylinders": 6,
            "Displacement": 200,
            "Horsepower": 85,
            "Miles_per_Gallon": 20.8,
            "Name": "mercury zephyr",
            "Origin": "USA",
            "Weight_in_lbs": 3070,
            "Year": "1978-01-01"
           },
           {
            "Acceleration": 18.7,
            "Cylinders": 6,
            "Displacement": 225,
            "Horsepower": 110,
            "Miles_per_Gallon": 18.6,
            "Name": "dodge aspen",
            "Origin": "USA",
            "Weight_in_lbs": 3620,
            "Year": "1978-01-01"
           },
           {
            "Acceleration": 15.1,
            "Cylinders": 6,
            "Displacement": 258,
            "Horsepower": 120,
            "Miles_per_Gallon": 18.1,
            "Name": "amc concord d/l",
            "Origin": "USA",
            "Weight_in_lbs": 3410,
            "Year": "1978-01-01"
           },
           {
            "Acceleration": 13.2,
            "Cylinders": 8,
            "Displacement": 305,
            "Horsepower": 145,
            "Miles_per_Gallon": 19.2,
            "Name": "chevrolet monte carlo landau",
            "Origin": "USA",
            "Weight_in_lbs": 3425,
            "Year": "1978-01-01"
           },
           {
            "Acceleration": 13.4,
            "Cylinders": 6,
            "Displacement": 231,
            "Horsepower": 165,
            "Miles_per_Gallon": 17.7,
            "Name": "buick regal sport coupe (turbo)",
            "Origin": "USA",
            "Weight_in_lbs": 3445,
            "Year": "1978-01-01"
           },
           {
            "Acceleration": 11.2,
            "Cylinders": 8,
            "Displacement": 302,
            "Horsepower": 139,
            "Miles_per_Gallon": 18.1,
            "Name": "ford futura",
            "Origin": "USA",
            "Weight_in_lbs": 3205,
            "Year": "1978-01-01"
           },
           {
            "Acceleration": 13.7,
            "Cylinders": 8,
            "Displacement": 318,
            "Horsepower": 140,
            "Miles_per_Gallon": 17.5,
            "Name": "dodge magnum xe",
            "Origin": "USA",
            "Weight_in_lbs": 4080,
            "Year": "1978-01-01"
           },
           {
            "Acceleration": 16.5,
            "Cylinders": 4,
            "Displacement": 98,
            "Horsepower": 68,
            "Miles_per_Gallon": 30,
            "Name": "chevrolet chevette",
            "Origin": "USA",
            "Weight_in_lbs": 2155,
            "Year": "1978-01-01"
           },
           {
            "Acceleration": 14.2,
            "Cylinders": 4,
            "Displacement": 134,
            "Horsepower": 95,
            "Miles_per_Gallon": 27.5,
            "Name": "toyota corona",
            "Origin": "Japan",
            "Weight_in_lbs": 2560,
            "Year": "1978-01-01"
           },
           {
            "Acceleration": 14.7,
            "Cylinders": 4,
            "Displacement": 119,
            "Horsepower": 97,
            "Miles_per_Gallon": 27.2,
            "Name": "datsun 510",
            "Origin": "Japan",
            "Weight_in_lbs": 2300,
            "Year": "1978-01-01"
           },
           {
            "Acceleration": 14.5,
            "Cylinders": 4,
            "Displacement": 105,
            "Horsepower": 75,
            "Miles_per_Gallon": 30.9,
            "Name": "dodge omni",
            "Origin": "USA",
            "Weight_in_lbs": 2230,
            "Year": "1978-01-01"
           },
           {
            "Acceleration": 14.8,
            "Cylinders": 4,
            "Displacement": 134,
            "Horsepower": 95,
            "Miles_per_Gallon": 21.1,
            "Name": "toyota celica gt liftback",
            "Origin": "Japan",
            "Weight_in_lbs": 2515,
            "Year": "1978-01-01"
           },
           {
            "Acceleration": 16.7,
            "Cylinders": 4,
            "Displacement": 156,
            "Horsepower": 105,
            "Miles_per_Gallon": 23.2,
            "Name": "plymouth sapporo",
            "Origin": "USA",
            "Weight_in_lbs": 2745,
            "Year": "1978-01-01"
           },
           {
            "Acceleration": 17.6,
            "Cylinders": 4,
            "Displacement": 151,
            "Horsepower": 85,
            "Miles_per_Gallon": 23.8,
            "Name": "oldsmobile starfire sx",
            "Origin": "USA",
            "Weight_in_lbs": 2855,
            "Year": "1978-01-01"
           },
           {
            "Acceleration": 14.9,
            "Cylinders": 4,
            "Displacement": 119,
            "Horsepower": 97,
            "Miles_per_Gallon": 23.9,
            "Name": "datsun 200-sx",
            "Origin": "Japan",
            "Weight_in_lbs": 2405,
            "Year": "1978-01-01"
           },
           {
            "Acceleration": 15.9,
            "Cylinders": 5,
            "Displacement": 131,
            "Horsepower": 103,
            "Miles_per_Gallon": 20.3,
            "Name": "audi 5000",
            "Origin": "Europe",
            "Weight_in_lbs": 2830,
            "Year": "1978-01-01"
           },
           {
            "Acceleration": 13.6,
            "Cylinders": 6,
            "Displacement": 163,
            "Horsepower": 125,
            "Miles_per_Gallon": 17,
            "Name": "volvo 264gl",
            "Origin": "Europe",
            "Weight_in_lbs": 3140,
            "Year": "1978-01-01"
           },
           {
            "Acceleration": 15.7,
            "Cylinders": 4,
            "Displacement": 121,
            "Horsepower": 115,
            "Miles_per_Gallon": 21.6,
            "Name": "saab 99gle",
            "Origin": "Europe",
            "Weight_in_lbs": 2795,
            "Year": "1978-01-01"
           },
           {
            "Acceleration": 15.8,
            "Cylinders": 6,
            "Displacement": 163,
            "Horsepower": 133,
            "Miles_per_Gallon": 16.2,
            "Name": "peugeot 604sl",
            "Origin": "Europe",
            "Weight_in_lbs": 3410,
            "Year": "1978-01-01"
           },
           {
            "Acceleration": 14.9,
            "Cylinders": 4,
            "Displacement": 89,
            "Horsepower": 71,
            "Miles_per_Gallon": 31.5,
            "Name": "volkswagen scirocco",
            "Origin": "Europe",
            "Weight_in_lbs": 1990,
            "Year": "1978-01-01"
           },
           {
            "Acceleration": 16.6,
            "Cylinders": 4,
            "Displacement": 98,
            "Horsepower": 68,
            "Miles_per_Gallon": 29.5,
            "Name": "honda Accelerationord lx",
            "Origin": "Japan",
            "Weight_in_lbs": 2135,
            "Year": "1978-01-01"
           },
           {
            "Acceleration": 15.4,
            "Cylinders": 6,
            "Displacement": 231,
            "Horsepower": 115,
            "Miles_per_Gallon": 21.5,
            "Name": "pontiac lemans v6",
            "Origin": "USA",
            "Weight_in_lbs": 3245,
            "Year": "1979-01-01"
           },
           {
            "Acceleration": 18.2,
            "Cylinders": 6,
            "Displacement": 200,
            "Horsepower": 85,
            "Miles_per_Gallon": 19.8,
            "Name": "mercury zephyr 6",
            "Origin": "USA",
            "Weight_in_lbs": 2990,
            "Year": "1979-01-01"
           },
           {
            "Acceleration": 17.3,
            "Cylinders": 4,
            "Displacement": 140,
            "Horsepower": 88,
            "Miles_per_Gallon": 22.3,
            "Name": "ford fairmont 4",
            "Origin": "USA",
            "Weight_in_lbs": 2890,
            "Year": "1979-01-01"
           },
           {
            "Acceleration": 18.2,
            "Cylinders": 6,
            "Displacement": 232,
            "Horsepower": 90,
            "Miles_per_Gallon": 20.2,
            "Name": "amc concord dl 6",
            "Origin": "USA",
            "Weight_in_lbs": 3265,
            "Year": "1979-01-01"
           },
           {
            "Acceleration": 16.6,
            "Cylinders": 6,
            "Displacement": 225,
            "Horsepower": 110,
            "Miles_per_Gallon": 20.6,
            "Name": "dodge aspen 6",
            "Origin": "USA",
            "Weight_in_lbs": 3360,
            "Year": "1979-01-01"
           },
           {
            "Acceleration": 15.4,
            "Cylinders": 8,
            "Displacement": 305,
            "Horsepower": 130,
            "Miles_per_Gallon": 17,
            "Name": "chevrolet caprice classic",
            "Origin": "USA",
            "Weight_in_lbs": 3840,
            "Year": "1979-01-01"
           },
           {
            "Acceleration": 13.4,
            "Cylinders": 8,
            "Displacement": 302,
            "Horsepower": 129,
            "Miles_per_Gallon": 17.6,
            "Name": "ford ltd landau",
            "Origin": "USA",
            "Weight_in_lbs": 3725,
            "Year": "1979-01-01"
           },
           {
            "Acceleration": 13.2,
            "Cylinders": 8,
            "Displacement": 351,
            "Horsepower": 138,
            "Miles_per_Gallon": 16.5,
            "Name": "mercury grand marquis",
            "Origin": "USA",
            "Weight_in_lbs": 3955,
            "Year": "1979-01-01"
           },
           {
            "Acceleration": 15.2,
            "Cylinders": 8,
            "Displacement": 318,
            "Horsepower": 135,
            "Miles_per_Gallon": 18.2,
            "Name": "dodge st. regis",
            "Origin": "USA",
            "Weight_in_lbs": 3830,
            "Year": "1979-01-01"
           },
           {
            "Acceleration": 14.9,
            "Cylinders": 8,
            "Displacement": 350,
            "Horsepower": 155,
            "Miles_per_Gallon": 16.9,
            "Name": "buick estate wagon (sw)",
            "Origin": "USA",
            "Weight_in_lbs": 4360,
            "Year": "1979-01-01"
           },
           {
            "Acceleration": 14.3,
            "Cylinders": 8,
            "Displacement": 351,
            "Horsepower": 142,
            "Miles_per_Gallon": 15.5,
            "Name": "ford country squire (sw)",
            "Origin": "USA",
            "Weight_in_lbs": 4054,
            "Year": "1979-01-01"
           },
           {
            "Acceleration": 15,
            "Cylinders": 8,
            "Displacement": 267,
            "Horsepower": 125,
            "Miles_per_Gallon": 19.2,
            "Name": "chevrolet malibu classic (sw)",
            "Origin": "USA",
            "Weight_in_lbs": 3605,
            "Year": "1979-01-01"
           },
           {
            "Acceleration": 13,
            "Cylinders": 8,
            "Displacement": 360,
            "Horsepower": 150,
            "Miles_per_Gallon": 18.5,
            "Name": "chrysler lebaron town @ country (sw)",
            "Origin": "USA",
            "Weight_in_lbs": 3940,
            "Year": "1979-01-01"
           },
           {
            "Acceleration": 14,
            "Cylinders": 4,
            "Displacement": 89,
            "Horsepower": 71,
            "Miles_per_Gallon": 31.9,
            "Name": "vw rabbit custom",
            "Origin": "Europe",
            "Weight_in_lbs": 1925,
            "Year": "1979-01-01"
           },
           {
            "Acceleration": 15.2,
            "Cylinders": 4,
            "Displacement": 86,
            "Horsepower": 65,
            "Miles_per_Gallon": 34.1,
            "Name": "maxda glc deluxe",
            "Origin": "Japan",
            "Weight_in_lbs": 1975,
            "Year": "1979-01-01"
           },
           {
            "Acceleration": 14.4,
            "Cylinders": 4,
            "Displacement": 98,
            "Horsepower": 80,
            "Miles_per_Gallon": 35.7,
            "Name": "dodge colt hatchback custom",
            "Origin": "USA",
            "Weight_in_lbs": 1915,
            "Year": "1979-01-01"
           },
           {
            "Acceleration": 15,
            "Cylinders": 4,
            "Displacement": 121,
            "Horsepower": 80,
            "Miles_per_Gallon": 27.4,
            "Name": "amc spirit dl",
            "Origin": "USA",
            "Weight_in_lbs": 2670,
            "Year": "1979-01-01"
           },
           {
            "Acceleration": 20.1,
            "Cylinders": 5,
            "Displacement": 183,
            "Horsepower": 77,
            "Miles_per_Gallon": 25.4,
            "Name": "mercedes benz 300d",
            "Origin": "Europe",
            "Weight_in_lbs": 3530,
            "Year": "1979-01-01"
           },
           {
            "Acceleration": 17.4,
            "Cylinders": 8,
            "Displacement": 350,
            "Horsepower": 125,
            "Miles_per_Gallon": 23,
            "Name": "cadillac eldorado",
            "Origin": "USA",
            "Weight_in_lbs": 3900,
            "Year": "1979-01-01"
           },
           {
            "Acceleration": 24.8,
            "Cylinders": 4,
            "Displacement": 141,
            "Horsepower": 71,
            "Miles_per_Gallon": 27.2,
            "Name": "peugeot 504",
            "Origin": "Europe",
            "Weight_in_lbs": 3190,
            "Year": "1979-01-01"
           },
           {
            "Acceleration": 22.2,
            "Cylinders": 8,
            "Displacement": 260,
            "Horsepower": 90,
            "Miles_per_Gallon": 23.9,
            "Name": "oldsmobile cutlass salon brougham",
            "Origin": "USA",
            "Weight_in_lbs": 3420,
            "Year": "1979-01-01"
           },
           {
            "Acceleration": 13.2,
            "Cylinders": 4,
            "Displacement": 105,
            "Horsepower": 70,
            "Miles_per_Gallon": 34.2,
            "Name": "plymouth horizon",
            "Origin": "USA",
            "Weight_in_lbs": 2200,
            "Year": "1979-01-01"
           },
           {
            "Acceleration": 14.9,
            "Cylinders": 4,
            "Displacement": 105,
            "Horsepower": 70,
            "Miles_per_Gallon": 34.5,
            "Name": "plymouth horizon tc3",
            "Origin": "USA",
            "Weight_in_lbs": 2150,
            "Year": "1979-01-01"
           },
           {
            "Acceleration": 19.2,
            "Cylinders": 4,
            "Displacement": 85,
            "Horsepower": 65,
            "Miles_per_Gallon": 31.8,
            "Name": "datsun 210",
            "Origin": "Japan",
            "Weight_in_lbs": 2020,
            "Year": "1979-01-01"
           },
           {
            "Acceleration": 14.7,
            "Cylinders": 4,
            "Displacement": 91,
            "Horsepower": 69,
            "Miles_per_Gallon": 37.3,
            "Name": "fiat strada custom",
            "Origin": "Europe",
            "Weight_in_lbs": 2130,
            "Year": "1979-01-01"
           },
           {
            "Acceleration": 16,
            "Cylinders": 4,
            "Displacement": 151,
            "Horsepower": 90,
            "Miles_per_Gallon": 28.4,
            "Name": "buick skylark limited",
            "Origin": "USA",
            "Weight_in_lbs": 2670,
            "Year": "1979-01-01"
           },
           {
            "Acceleration": 11.3,
            "Cylinders": 6,
            "Displacement": 173,
            "Horsepower": 115,
            "Miles_per_Gallon": 28.8,
            "Name": "chevrolet citation",
            "Origin": "USA",
            "Weight_in_lbs": 2595,
            "Year": "1979-01-01"
           },
           {
            "Acceleration": 12.9,
            "Cylinders": 6,
            "Displacement": 173,
            "Horsepower": 115,
            "Miles_per_Gallon": 26.8,
            "Name": "oldsmobile omega brougham",
            "Origin": "USA",
            "Weight_in_lbs": 2700,
            "Year": "1979-01-01"
           },
           {
            "Acceleration": 13.2,
            "Cylinders": 4,
            "Displacement": 151,
            "Horsepower": 90,
            "Miles_per_Gallon": 33.5,
            "Name": "pontiac phoenix",
            "Origin": "USA",
            "Weight_in_lbs": 2556,
            "Year": "1979-01-01"
           },
           {
            "Acceleration": 14.7,
            "Cylinders": 4,
            "Displacement": 98,
            "Horsepower": 76,
            "Miles_per_Gallon": 41.5,
            "Name": "vw rabbit",
            "Origin": "Europe",
            "Weight_in_lbs": 2144,
            "Year": "1980-01-01"
           },
           {
            "Acceleration": 18.8,
            "Cylinders": 4,
            "Displacement": 89,
            "Horsepower": 60,
            "Miles_per_Gallon": 38.1,
            "Name": "toyota corolla tercel",
            "Origin": "Japan",
            "Weight_in_lbs": 1968,
            "Year": "1980-01-01"
           },
           {
            "Acceleration": 15.5,
            "Cylinders": 4,
            "Displacement": 98,
            "Horsepower": 70,
            "Miles_per_Gallon": 32.1,
            "Name": "chevrolet chevette",
            "Origin": "USA",
            "Weight_in_lbs": 2120,
            "Year": "1980-01-01"
           },
           {
            "Acceleration": 16.4,
            "Cylinders": 4,
            "Displacement": 86,
            "Horsepower": 65,
            "Miles_per_Gallon": 37.2,
            "Name": "datsun 310",
            "Origin": "Japan",
            "Weight_in_lbs": 2019,
            "Year": "1980-01-01"
           },
           {
            "Acceleration": 16.5,
            "Cylinders": 4,
            "Displacement": 151,
            "Horsepower": 90,
            "Miles_per_Gallon": 28,
            "Name": "chevrolet citation",
            "Origin": "USA",
            "Weight_in_lbs": 2678,
            "Year": "1980-01-01"
           },
           {
            "Acceleration": 18.1,
            "Cylinders": 4,
            "Displacement": 140,
            "Horsepower": 88,
            "Miles_per_Gallon": 26.4,
            "Name": "ford fairmont",
            "Origin": "USA",
            "Weight_in_lbs": 2870,
            "Year": "1980-01-01"
           },
           {
            "Acceleration": 20.1,
            "Cylinders": 4,
            "Displacement": 151,
            "Horsepower": 90,
            "Miles_per_Gallon": 24.3,
            "Name": "amc concord",
            "Origin": "USA",
            "Weight_in_lbs": 3003,
            "Year": "1980-01-01"
           },
           {
            "Acceleration": 18.7,
            "Cylinders": 6,
            "Displacement": 225,
            "Horsepower": 90,
            "Miles_per_Gallon": 19.1,
            "Name": "dodge aspen",
            "Origin": "USA",
            "Weight_in_lbs": 3381,
            "Year": "1980-01-01"
           },
           {
            "Acceleration": 15.8,
            "Cylinders": 4,
            "Displacement": 97,
            "Horsepower": 78,
            "Miles_per_Gallon": 34.3,
            "Name": "audi 4000",
            "Origin": "Europe",
            "Weight_in_lbs": 2188,
            "Year": "1980-01-01"
           },
           {
            "Acceleration": 15.5,
            "Cylinders": 4,
            "Displacement": 134,
            "Horsepower": 90,
            "Miles_per_Gallon": 29.8,
            "Name": "toyota corona liftback",
            "Origin": "Japan",
            "Weight_in_lbs": 2711,
            "Year": "1980-01-01"
           },
           {
            "Acceleration": 17.5,
            "Cylinders": 4,
            "Displacement": 120,
            "Horsepower": 75,
            "Miles_per_Gallon": 31.3,
            "Name": "mazda 626",
            "Origin": "Japan",
            "Weight_in_lbs": 2542,
            "Year": "1980-01-01"
           },
           {
            "Acceleration": 15,
            "Cylinders": 4,
            "Displacement": 119,
            "Horsepower": 92,
            "Miles_per_Gallon": 37,
            "Name": "datsun 510 hatchback",
            "Origin": "Japan",
            "Weight_in_lbs": 2434,
            "Year": "1980-01-01"
           },
           {
            "Acceleration": 15.2,
            "Cylinders": 4,
            "Displacement": 108,
            "Horsepower": 75,
            "Miles_per_Gallon": 32.2,
            "Name": "toyota corolla",
            "Origin": "Japan",
            "Weight_in_lbs": 2265,
            "Year": "1980-01-01"
           },
           {
            "Acceleration": 17.9,
            "Cylinders": 4,
            "Displacement": 86,
            "Horsepower": 65,
            "Miles_per_Gallon": 46.6,
            "Name": "mazda glc",
            "Origin": "Japan",
            "Weight_in_lbs": 2110,
            "Year": "1980-01-01"
           },
           {
            "Acceleration": 14.4,
            "Cylinders": 4,
            "Displacement": 156,
            "Horsepower": 105,
            "Miles_per_Gallon": 27.9,
            "Name": "dodge colt",
            "Origin": "USA",
            "Weight_in_lbs": 2800,
            "Year": "1980-01-01"
           },
           {
            "Acceleration": 19.2,
            "Cylinders": 4,
            "Displacement": 85,
            "Horsepower": 65,
            "Miles_per_Gallon": 40.8,
            "Name": "datsun 210",
            "Origin": "Japan",
            "Weight_in_lbs": 2110,
            "Year": "1980-01-01"
           },
           {
            "Acceleration": 21.7,
            "Cylinders": 4,
            "Displacement": 90,
            "Horsepower": 48,
            "Miles_per_Gallon": 44.3,
            "Name": "vw rabbit c (diesel)",
            "Origin": "Europe",
            "Weight_in_lbs": 2085,
            "Year": "1980-01-01"
           },
           {
            "Acceleration": 23.7,
            "Cylinders": 4,
            "Displacement": 90,
            "Horsepower": 48,
            "Miles_per_Gallon": 43.4,
            "Name": "vw dasher (diesel)",
            "Origin": "Europe",
            "Weight_in_lbs": 2335,
            "Year": "1980-01-01"
           },
           {
            "Acceleration": 19.9,
            "Cylinders": 5,
            "Displacement": 121,
            "Horsepower": 67,
            "Miles_per_Gallon": 36.4,
            "Name": "audi 5000s (diesel)",
            "Origin": "Europe",
            "Weight_in_lbs": 2950,
            "Year": "1980-01-01"
           },
           {
            "Acceleration": 21.8,
            "Cylinders": 4,
            "Displacement": 146,
            "Horsepower": 67,
            "Miles_per_Gallon": 30,
            "Name": "mercedes-benz 240d",
            "Origin": "Europe",
            "Weight_in_lbs": 3250,
            "Year": "1980-01-01"
           },
           {
            "Acceleration": 13.8,
            "Cylinders": 4,
            "Displacement": 91,
            "Horsepower": 67,
            "Miles_per_Gallon": 44.6,
            "Name": "honda civic 1500 gl",
            "Origin": "Japan",
            "Weight_in_lbs": 1850,
            "Year": "1980-01-01"
           },
           {
            "Acceleration": 17.3,
            "Cylinders": 4,
            "Displacement": 85,
            "Horsepower": null,
            "Miles_per_Gallon": 40.9,
            "Name": "renault lecar deluxe",
            "Origin": "Europe",
            "Weight_in_lbs": 1835,
            "Year": "1980-01-01"
           },
           {
            "Acceleration": 18,
            "Cylinders": 4,
            "Displacement": 97,
            "Horsepower": 67,
            "Miles_per_Gallon": 33.8,
            "Name": "subaru dl",
            "Origin": "Japan",
            "Weight_in_lbs": 2145,
            "Year": "1980-01-01"
           },
           {
            "Acceleration": 15.3,
            "Cylinders": 4,
            "Displacement": 89,
            "Horsepower": 62,
            "Miles_per_Gallon": 29.8,
            "Name": "vokswagen rabbit",
            "Origin": "Europe",
            "Weight_in_lbs": 1845,
            "Year": "1980-01-01"
           },
           {
            "Acceleration": 11.4,
            "Cylinders": 6,
            "Displacement": 168,
            "Horsepower": 132,
            "Miles_per_Gallon": 32.7,
            "Name": "datsun 280-zx",
            "Origin": "Japan",
            "Weight_in_lbs": 2910,
            "Year": "1980-01-01"
           },
           {
            "Acceleration": 12.5,
            "Cylinders": 3,
            "Displacement": 70,
            "Horsepower": 100,
            "Miles_per_Gallon": 23.7,
            "Name": "mazda rx-7 gs",
            "Origin": "Japan",
            "Weight_in_lbs": 2420,
            "Year": "1980-01-01"
           },
           {
            "Acceleration": 15.1,
            "Cylinders": 4,
            "Displacement": 122,
            "Horsepower": 88,
            "Miles_per_Gallon": 35,
            "Name": "triumph tr7 coupe",
            "Origin": "Europe",
            "Weight_in_lbs": 2500,
            "Year": "1980-01-01"
           },
           {
            "Acceleration": 14.3,
            "Cylinders": 4,
            "Displacement": 140,
            "Horsepower": null,
            "Miles_per_Gallon": 23.6,
            "Name": "ford mustang cobra",
            "Origin": "USA",
            "Weight_in_lbs": 2905,
            "Year": "1980-01-01"
           },
           {
            "Acceleration": 17,
            "Cylinders": 4,
            "Displacement": 107,
            "Horsepower": 72,
            "Miles_per_Gallon": 32.4,
            "Name": "honda Accelerationord",
            "Origin": "Japan",
            "Weight_in_lbs": 2290,
            "Year": "1980-01-01"
           },
           {
            "Acceleration": 15.7,
            "Cylinders": 4,
            "Displacement": 135,
            "Horsepower": 84,
            "Miles_per_Gallon": 27.2,
            "Name": "plymouth reliant",
            "Origin": "USA",
            "Weight_in_lbs": 2490,
            "Year": "1982-01-01"
           },
           {
            "Acceleration": 16.4,
            "Cylinders": 4,
            "Displacement": 151,
            "Horsepower": 84,
            "Miles_per_Gallon": 26.6,
            "Name": "buick skylark",
            "Origin": "USA",
            "Weight_in_lbs": 2635,
            "Year": "1982-01-01"
           },
           {
            "Acceleration": 14.4,
            "Cylinders": 4,
            "Displacement": 156,
            "Horsepower": 92,
            "Miles_per_Gallon": 25.8,
            "Name": "dodge aries wagon (sw)",
            "Origin": "USA",
            "Weight_in_lbs": 2620,
            "Year": "1982-01-01"
           },
           {
            "Acceleration": 12.6,
            "Cylinders": 6,
            "Displacement": 173,
            "Horsepower": 110,
            "Miles_per_Gallon": 23.5,
            "Name": "chevrolet citation",
            "Origin": "USA",
            "Weight_in_lbs": 2725,
            "Year": "1982-01-01"
           },
           {
            "Acceleration": 12.9,
            "Cylinders": 4,
            "Displacement": 135,
            "Horsepower": 84,
            "Miles_per_Gallon": 30,
            "Name": "plymouth reliant",
            "Origin": "USA",
            "Weight_in_lbs": 2385,
            "Year": "1982-01-01"
           },
           {
            "Acceleration": 16.9,
            "Cylinders": 4,
            "Displacement": 79,
            "Horsepower": 58,
            "Miles_per_Gallon": 39.1,
            "Name": "toyota starlet",
            "Origin": "Japan",
            "Weight_in_lbs": 1755,
            "Year": "1982-01-01"
           },
           {
            "Acceleration": 16.4,
            "Cylinders": 4,
            "Displacement": 86,
            "Horsepower": 64,
            "Miles_per_Gallon": 39,
            "Name": "plymouth champ",
            "Origin": "USA",
            "Weight_in_lbs": 1875,
            "Year": "1982-01-01"
           },
           {
            "Acceleration": 16.1,
            "Cylinders": 4,
            "Displacement": 81,
            "Horsepower": 60,
            "Miles_per_Gallon": 35.1,
            "Name": "honda civic 1300",
            "Origin": "Japan",
            "Weight_in_lbs": 1760,
            "Year": "1982-01-01"
           },
           {
            "Acceleration": 17.8,
            "Cylinders": 4,
            "Displacement": 97,
            "Horsepower": 67,
            "Miles_per_Gallon": 32.3,
            "Name": "subaru",
            "Origin": "Japan",
            "Weight_in_lbs": 2065,
            "Year": "1982-01-01"
           },
           {
            "Acceleration": 19.4,
            "Cylinders": 4,
            "Displacement": 85,
            "Horsepower": 65,
            "Miles_per_Gallon": 37,
            "Name": "datsun 210",
            "Origin": "Japan",
            "Weight_in_lbs": 1975,
            "Year": "1982-01-01"
           },
           {
            "Acceleration": 17.3,
            "Cylinders": 4,
            "Displacement": 89,
            "Horsepower": 62,
            "Miles_per_Gallon": 37.7,
            "Name": "toyota tercel",
            "Origin": "Japan",
            "Weight_in_lbs": 2050,
            "Year": "1982-01-01"
           },
           {
            "Acceleration": 16,
            "Cylinders": 4,
            "Displacement": 91,
            "Horsepower": 68,
            "Miles_per_Gallon": 34.1,
            "Name": "mazda glc 4",
            "Origin": "Japan",
            "Weight_in_lbs": 1985,
            "Year": "1982-01-01"
           },
           {
            "Acceleration": 14.9,
            "Cylinders": 4,
            "Displacement": 105,
            "Horsepower": 63,
            "Miles_per_Gallon": 34.7,
            "Name": "plymouth horizon 4",
            "Origin": "USA",
            "Weight_in_lbs": 2215,
            "Year": "1982-01-01"
           },
           {
            "Acceleration": 16.2,
            "Cylinders": 4,
            "Displacement": 98,
            "Horsepower": 65,
            "Miles_per_Gallon": 34.4,
            "Name": "ford escort 4w",
            "Origin": "USA",
            "Weight_in_lbs": 2045,
            "Year": "1982-01-01"
           },
           {
            "Acceleration": 20.7,
            "Cylinders": 4,
            "Displacement": 98,
            "Horsepower": 65,
            "Miles_per_Gallon": 29.9,
            "Name": "ford escort 2h",
            "Origin": "USA",
            "Weight_in_lbs": 2380,
            "Year": "1982-01-01"
           },
           {
            "Acceleration": 14.2,
            "Cylinders": 4,
            "Displacement": 105,
            "Horsepower": 74,
            "Miles_per_Gallon": 33,
            "Name": "volkswagen jetta",
            "Origin": "Europe",
            "Weight_in_lbs": 2190,
            "Year": "1982-01-01"
           },
           {
            "Acceleration": 15.8,
            "Cylinders": 4,
            "Displacement": 100,
            "Horsepower": null,
            "Miles_per_Gallon": 34.5,
            "Name": "renault 18i",
            "Origin": "Europe",
            "Weight_in_lbs": 2320,
            "Year": "1982-01-01"
           },
           {
            "Acceleration": 14.4,
            "Cylinders": 4,
            "Displacement": 107,
            "Horsepower": 75,
            "Miles_per_Gallon": 33.7,
            "Name": "honda prelude",
            "Origin": "Japan",
            "Weight_in_lbs": 2210,
            "Year": "1982-01-01"
           },
           {
            "Acceleration": 16.8,
            "Cylinders": 4,
            "Displacement": 108,
            "Horsepower": 75,
            "Miles_per_Gallon": 32.4,
            "Name": "toyota corolla",
            "Origin": "Japan",
            "Weight_in_lbs": 2350,
            "Year": "1982-01-01"
           },
           {
            "Acceleration": 14.8,
            "Cylinders": 4,
            "Displacement": 119,
            "Horsepower": 100,
            "Miles_per_Gallon": 32.9,
            "Name": "datsun 200sx",
            "Origin": "Japan",
            "Weight_in_lbs": 2615,
            "Year": "1982-01-01"
           },
           {
            "Acceleration": 18.3,
            "Cylinders": 4,
            "Displacement": 120,
            "Horsepower": 74,
            "Miles_per_Gallon": 31.6,
            "Name": "mazda 626",
            "Origin": "Japan",
            "Weight_in_lbs": 2635,
            "Year": "1982-01-01"
           },
           {
            "Acceleration": 20.4,
            "Cylinders": 4,
            "Displacement": 141,
            "Horsepower": 80,
            "Miles_per_Gallon": 28.1,
            "Name": "peugeot 505s turbo diesel",
            "Origin": "Europe",
            "Weight_in_lbs": 3230,
            "Year": "1982-01-01"
           },
           {
            "Acceleration": 15.4,
            "Cylinders": 4,
            "Displacement": 121,
            "Horsepower": 110,
            "Miles_per_Gallon": null,
            "Name": "saab 900s",
            "Origin": "Europe",
            "Weight_in_lbs": 2800,
            "Year": "1982-01-01"
           },
           {
            "Acceleration": 19.6,
            "Cylinders": 6,
            "Displacement": 145,
            "Horsepower": 76,
            "Miles_per_Gallon": 30.7,
            "Name": "volvo diesel",
            "Origin": "Europe",
            "Weight_in_lbs": 3160,
            "Year": "1982-01-01"
           },
           {
            "Acceleration": 12.6,
            "Cylinders": 6,
            "Displacement": 168,
            "Horsepower": 116,
            "Miles_per_Gallon": 25.4,
            "Name": "toyota cressida",
            "Origin": "Japan",
            "Weight_in_lbs": 2900,
            "Year": "1982-01-01"
           },
           {
            "Acceleration": 13.8,
            "Cylinders": 6,
            "Displacement": 146,
            "Horsepower": 120,
            "Miles_per_Gallon": 24.2,
            "Name": "datsun 810 maxima",
            "Origin": "Japan",
            "Weight_in_lbs": 2930,
            "Year": "1982-01-01"
           },
           {
            "Acceleration": 15.8,
            "Cylinders": 6,
            "Displacement": 231,
            "Horsepower": 110,
            "Miles_per_Gallon": 22.4,
            "Name": "buick century",
            "Origin": "USA",
            "Weight_in_lbs": 3415,
            "Year": "1982-01-01"
           },
           {
            "Acceleration": 19,
            "Cylinders": 8,
            "Displacement": 350,
            "Horsepower": 105,
            "Miles_per_Gallon": 26.6,
            "Name": "oldsmobile cutlass ls",
            "Origin": "USA",
            "Weight_in_lbs": 3725,
            "Year": "1982-01-01"
           },
           {
            "Acceleration": 17.1,
            "Cylinders": 6,
            "Displacement": 200,
            "Horsepower": 88,
            "Miles_per_Gallon": 20.2,
            "Name": "ford granada gl",
            "Origin": "USA",
            "Weight_in_lbs": 3060,
            "Year": "1982-01-01"
           },
           {
            "Acceleration": 16.6,
            "Cylinders": 6,
            "Displacement": 225,
            "Horsepower": 85,
            "Miles_per_Gallon": 17.6,
            "Name": "chrysler lebaron salon",
            "Origin": "USA",
            "Weight_in_lbs": 3465,
            "Year": "1982-01-01"
           },
           {
            "Acceleration": 19.6,
            "Cylinders": 4,
            "Displacement": 112,
            "Horsepower": 88,
            "Miles_per_Gallon": 28,
            "Name": "chevrolet cavalier",
            "Origin": "USA",
            "Weight_in_lbs": 2605,
            "Year": "1982-01-01"
           },
           {
            "Acceleration": 18.6,
            "Cylinders": 4,
            "Displacement": 112,
            "Horsepower": 88,
            "Miles_per_Gallon": 27,
            "Name": "chevrolet cavalier wagon",
            "Origin": "USA",
            "Weight_in_lbs": 2640,
            "Year": "1982-01-01"
           },
           {
            "Acceleration": 18,
            "Cylinders": 4,
            "Displacement": 112,
            "Horsepower": 88,
            "Miles_per_Gallon": 34,
            "Name": "chevrolet cavalier 2-door",
            "Origin": "USA",
            "Weight_in_lbs": 2395,
            "Year": "1982-01-01"
           },
           {
            "Acceleration": 16.2,
            "Cylinders": 4,
            "Displacement": 112,
            "Horsepower": 85,
            "Miles_per_Gallon": 31,
            "Name": "pontiac j2000 se hatchback",
            "Origin": "USA",
            "Weight_in_lbs": 2575,
            "Year": "1982-01-01"
           },
           {
            "Acceleration": 16,
            "Cylinders": 4,
            "Displacement": 135,
            "Horsepower": 84,
            "Miles_per_Gallon": 29,
            "Name": "dodge aries se",
            "Origin": "USA",
            "Weight_in_lbs": 2525,
            "Year": "1982-01-01"
           },
           {
            "Acceleration": 18,
            "Cylinders": 4,
            "Displacement": 151,
            "Horsepower": 90,
            "Miles_per_Gallon": 27,
            "Name": "pontiac phoenix",
            "Origin": "USA",
            "Weight_in_lbs": 2735,
            "Year": "1982-01-01"
           },
           {
            "Acceleration": 16.4,
            "Cylinders": 4,
            "Displacement": 140,
            "Horsepower": 92,
            "Miles_per_Gallon": 24,
            "Name": "ford fairmont futura",
            "Origin": "USA",
            "Weight_in_lbs": 2865,
            "Year": "1982-01-01"
           },
           {
            "Acceleration": 20.5,
            "Cylinders": 4,
            "Displacement": 151,
            "Horsepower": null,
            "Miles_per_Gallon": 23,
            "Name": "amc concord dl",
            "Origin": "USA",
            "Weight_in_lbs": 3035,
            "Year": "1982-01-01"
           },
           {
            "Acceleration": 15.3,
            "Cylinders": 4,
            "Displacement": 105,
            "Horsepower": 74,
            "Miles_per_Gallon": 36,
            "Name": "volkswagen rabbit l",
            "Origin": "Europe",
            "Weight_in_lbs": 1980,
            "Year": "1982-01-01"
           },
           {
            "Acceleration": 18.2,
            "Cylinders": 4,
            "Displacement": 91,
            "Horsepower": 68,
            "Miles_per_Gallon": 37,
            "Name": "mazda glc custom l",
            "Origin": "Japan",
            "Weight_in_lbs": 2025,
            "Year": "1982-01-01"
           },
           {
            "Acceleration": 17.6,
            "Cylinders": 4,
            "Displacement": 91,
            "Horsepower": 68,
            "Miles_per_Gallon": 31,
            "Name": "mazda glc custom",
            "Origin": "Japan",
            "Weight_in_lbs": 1970,
            "Year": "1982-01-01"
           },
           {
            "Acceleration": 14.7,
            "Cylinders": 4,
            "Displacement": 105,
            "Horsepower": 63,
            "Miles_per_Gallon": 38,
            "Name": "plymouth horizon miser",
            "Origin": "USA",
            "Weight_in_lbs": 2125,
            "Year": "1982-01-01"
           },
           {
            "Acceleration": 17.3,
            "Cylinders": 4,
            "Displacement": 98,
            "Horsepower": 70,
            "Miles_per_Gallon": 36,
            "Name": "mercury lynx l",
            "Origin": "USA",
            "Weight_in_lbs": 2125,
            "Year": "1982-01-01"
           },
           {
            "Acceleration": 14.5,
            "Cylinders": 4,
            "Displacement": 120,
            "Horsepower": 88,
            "Miles_per_Gallon": 36,
            "Name": "nissan stanza xe",
            "Origin": "Japan",
            "Weight_in_lbs": 2160,
            "Year": "1982-01-01"
           },
           {
            "Acceleration": 14.5,
            "Cylinders": 4,
            "Displacement": 107,
            "Horsepower": 75,
            "Miles_per_Gallon": 36,
            "Name": "honda Accelerationord",
            "Origin": "Japan",
            "Weight_in_lbs": 2205,
            "Year": "1982-01-01"
           },
           {
            "Acceleration": 16.9,
            "Cylinders": 4,
            "Displacement": 108,
            "Horsepower": 70,
            "Miles_per_Gallon": 34,
            "Name": "toyota corolla",
            "Origin": "Japan",
            "Weight_in_lbs": 2245,
            "Year": "1982-01-01"
           },
           {
            "Acceleration": 15,
            "Cylinders": 4,
            "Displacement": 91,
            "Horsepower": 67,
            "Miles_per_Gallon": 38,
            "Name": "honda civic",
            "Origin": "Japan",
            "Weight_in_lbs": 1965,
            "Year": "1982-01-01"
           },
           {
            "Acceleration": 15.7,
            "Cylinders": 4,
            "Displacement": 91,
            "Horsepower": 67,
            "Miles_per_Gallon": 32,
            "Name": "honda civic (auto)",
            "Origin": "Japan",
            "Weight_in_lbs": 1965,
            "Year": "1982-01-01"
           },
           {
            "Acceleration": 16.2,
            "Cylinders": 4,
            "Displacement": 91,
            "Horsepower": 67,
            "Miles_per_Gallon": 38,
            "Name": "datsun 310 gx",
            "Origin": "Japan",
            "Weight_in_lbs": 1995,
            "Year": "1982-01-01"
           },
           {
            "Acceleration": 16.4,
            "Cylinders": 6,
            "Displacement": 181,
            "Horsepower": 110,
            "Miles_per_Gallon": 25,
            "Name": "buick century limited",
            "Origin": "USA",
            "Weight_in_lbs": 2945,
            "Year": "1982-01-01"
           },
           {
            "Acceleration": 17,
            "Cylinders": 6,
            "Displacement": 262,
            "Horsepower": 85,
            "Miles_per_Gallon": 38,
            "Name": "oldsmobile cutlass ciera (diesel)",
            "Origin": "USA",
            "Weight_in_lbs": 3015,
            "Year": "1982-01-01"
           },
           {
            "Acceleration": 14.5,
            "Cylinders": 4,
            "Displacement": 156,
            "Horsepower": 92,
            "Miles_per_Gallon": 26,
            "Name": "chrysler lebaron medallion",
            "Origin": "USA",
            "Weight_in_lbs": 2585,
            "Year": "1982-01-01"
           },
           {
            "Acceleration": 14.7,
            "Cylinders": 6,
            "Displacement": 232,
            "Horsepower": 112,
            "Miles_per_Gallon": 22,
            "Name": "ford granada l",
            "Origin": "USA",
            "Weight_in_lbs": 2835,
            "Year": "1982-01-01"
           },
           {
            "Acceleration": 13.9,
            "Cylinders": 4,
            "Displacement": 144,
            "Horsepower": 96,
            "Miles_per_Gallon": 32,
            "Name": "toyota celica gt",
            "Origin": "Japan",
            "Weight_in_lbs": 2665,
            "Year": "1982-01-01"
           },
           {
            "Acceleration": 13,
            "Cylinders": 4,
            "Displacement": 135,
            "Horsepower": 84,
            "Miles_per_Gallon": 36,
            "Name": "dodge charger 2.2",
            "Origin": "USA",
            "Weight_in_lbs": 2370,
            "Year": "1982-01-01"
           },
           {
            "Acceleration": 17.3,
            "Cylinders": 4,
            "Displacement": 151,
            "Horsepower": 90,
            "Miles_per_Gallon": 27,
            "Name": "chevrolet camaro",
            "Origin": "USA",
            "Weight_in_lbs": 2950,
            "Year": "1982-01-01"
           },
           {
            "Acceleration": 15.6,
            "Cylinders": 4,
            "Displacement": 140,
            "Horsepower": 86,
            "Miles_per_Gallon": 27,
            "Name": "ford mustang gl",
            "Origin": "USA",
            "Weight_in_lbs": 2790,
            "Year": "1982-01-01"
           },
           {
            "Acceleration": 24.6,
            "Cylinders": 4,
            "Displacement": 97,
            "Horsepower": 52,
            "Miles_per_Gallon": 44,
            "Name": "vw pickup",
            "Origin": "Europe",
            "Weight_in_lbs": 2130,
            "Year": "1982-01-01"
           },
           {
            "Acceleration": 11.6,
            "Cylinders": 4,
            "Displacement": 135,
            "Horsepower": 84,
            "Miles_per_Gallon": 32,
            "Name": "dodge rampage",
            "Origin": "USA",
            "Weight_in_lbs": 2295,
            "Year": "1982-01-01"
           },
           {
            "Acceleration": 18.6,
            "Cylinders": 4,
            "Displacement": 120,
            "Horsepower": 79,
            "Miles_per_Gallon": 28,
            "Name": "ford ranger",
            "Origin": "USA",
            "Weight_in_lbs": 2625,
            "Year": "1982-01-01"
           },
           {
            "Acceleration": 19.4,
            "Cylinders": 4,
            "Displacement": 119,
            "Horsepower": 82,
            "Miles_per_Gallon": 31,
            "Name": "chevy s-10",
            "Origin": "USA",
            "Weight_in_lbs": 2720,
            "Year": "1982-01-01"
           }
          ]
         },
         "encoding": {
          "color": {
           "condition": {
            "field": "Origin",
            "selection": "selector007",
            "type": "nominal"
           },
           "value": "lightgray"
          },
          "tooltip": {
           "field": "Horsepower",
           "type": "quantitative"
          },
          "x": {
           "field": "Horsepower",
           "type": "quantitative"
          },
          "y": {
           "field": "Displacement",
           "type": "quantitative"
          }
         },
         "mark": "point",
         "selection": {
          "selector007": {
           "empty": "none",
           "encodings": [
            "x"
           ],
           "mark": {
            "fill": "#333",
            "fillOpacity": 0.125,
            "stroke": "white"
           },
           "on": "[mousedown, window:mouseup] > window:mousemove!",
           "resolve": "global",
           "translate": "[mousedown, window:mouseup] > window:mousemove!",
           "type": "interval",
           "zoom": "wheel!"
          }
         }
        }
       ]
      },
      "image/png": "[encoded data removed]",
      "text/plain": [
       "<VegaLite 2 object>\n",
       "\n",
       "If you see this message, it means the renderer has not been properly enabled\n",
       "for the frontend that you are using. For more information, see\n",
       "https://altair-viz.github.io/user_guide/troubleshooting.html\n"
      ]
     },
     "execution_count": 26,
     "metadata": {},
     "output_type": "execute_result"
    }
   ],
   "source": [
    "cars = data.cars()\n",
    "\n",
    "sel = alt.selection_interval(encodings=['x'], empty='none')\n",
    "\n",
    "base = \\\n",
    "(alt\n",
    " .Chart(data=cars)\n",
    " .mark_point()\n",
    " .encode(alt.X('Horsepower'),\n",
    "         color=alt.condition(sel, 'Origin', alt.value('lightgray')),\n",
    "         tooltip='Horsepower')\n",
    " .properties(selection=sel)\n",
    ")\n",
    "\n",
    "panels = alt.hconcat(\n",
    "    base.encode(alt.Y('Miles_per_Gallon')), \n",
    "    base.encode(alt.Y('Displacement'))\n",
    ")\n",
    "\n",
    "panels.save('hconcatd-scatterplots-with-selection.html')\n",
    "panels"
   ]
  },
  {
   "cell_type": "code",
   "execution_count": 27,
   "metadata": {},
   "outputs": [
    {
     "data": {
      "application/vnd.vegalite.v2+json": {
       "$schema": "https://vega.github.io/schema/vega-lite/v2.4.1.json",
       "config": {
        "view": {
         "height": 300,
         "width": 400
        }
       },
       "data": {
        "values": [
         {
          "age": 0,
          "gender": "Male",
          "people": 1.483789,
          "sex": 1,
          "year": 1850
         },
         {
          "age": 0,
          "gender": "Female",
          "people": 1.450376,
          "sex": 2,
          "year": 1850
         },
         {
          "age": 5,
          "gender": "Male",
          "people": 1.411067,
          "sex": 1,
          "year": 1850
         },
         {
          "age": 5,
          "gender": "Female",
          "people": 1.359668,
          "sex": 2,
          "year": 1850
         },
         {
          "age": 10,
          "gender": "Male",
          "people": 1.260099,
          "sex": 1,
          "year": 1850
         },
         {
          "age": 10,
          "gender": "Female",
          "people": 1.216114,
          "sex": 2,
          "year": 1850
         },
         {
          "age": 15,
          "gender": "Male",
          "people": 1.077133,
          "sex": 1,
          "year": 1850
         },
         {
          "age": 15,
          "gender": "Female",
          "people": 1.110619,
          "sex": 2,
          "year": 1850
         },
         {
          "age": 20,
          "gender": "Male",
          "people": 1.017281,
          "sex": 1,
          "year": 1850
         },
         {
          "age": 20,
          "gender": "Female",
          "people": 1.003841,
          "sex": 2,
          "year": 1850
         },
         {
          "age": 25,
          "gender": "Male",
          "people": 0.862547,
          "sex": 1,
          "year": 1850
         },
         {
          "age": 25,
          "gender": "Female",
          "people": 0.799482,
          "sex": 2,
          "year": 1850
         },
         {
          "age": 30,
          "gender": "Male",
          "people": 0.730638,
          "sex": 1,
          "year": 1850
         },
         {
          "age": 30,
          "gender": "Female",
          "people": 0.639636,
          "sex": 2,
          "year": 1850
         },
         {
          "age": 35,
          "gender": "Male",
          "people": 0.588487,
          "sex": 1,
          "year": 1850
         },
         {
          "age": 35,
          "gender": "Female",
          "people": 0.505012,
          "sex": 2,
          "year": 1850
         },
         {
          "age": 40,
          "gender": "Male",
          "people": 0.475911,
          "sex": 1,
          "year": 1850
         },
         {
          "age": 40,
          "gender": "Female",
          "people": 0.428185,
          "sex": 2,
          "year": 1850
         },
         {
          "age": 45,
          "gender": "Male",
          "people": 0.384211,
          "sex": 1,
          "year": 1850
         },
         {
          "age": 45,
          "gender": "Female",
          "people": 0.341254,
          "sex": 2,
          "year": 1850
         },
         {
          "age": 50,
          "gender": "Male",
          "people": 0.321343,
          "sex": 1,
          "year": 1850
         },
         {
          "age": 50,
          "gender": "Female",
          "people": 0.28658,
          "sex": 2,
          "year": 1850
         },
         {
          "age": 55,
          "gender": "Male",
          "people": 0.19408,
          "sex": 1,
          "year": 1850
         },
         {
          "age": 55,
          "gender": "Female",
          "people": 0.187208,
          "sex": 2,
          "year": 1850
         },
         {
          "age": 60,
          "gender": "Male",
          "people": 0.174976,
          "sex": 1,
          "year": 1850
         },
         {
          "age": 60,
          "gender": "Female",
          "people": 0.162236,
          "sex": 2,
          "year": 1850
         },
         {
          "age": 65,
          "gender": "Male",
          "people": 0.106827,
          "sex": 1,
          "year": 1850
         },
         {
          "age": 65,
          "gender": "Female",
          "people": 0.105534,
          "sex": 2,
          "year": 1850
         },
         {
          "age": 70,
          "gender": "Male",
          "people": 0.073677,
          "sex": 1,
          "year": 1850
         },
         {
          "age": 70,
          "gender": "Female",
          "people": 0.071762,
          "sex": 2,
          "year": 1850
         },
         {
          "age": 75,
          "gender": "Male",
          "people": 0.040834,
          "sex": 1,
          "year": 1850
         },
         {
          "age": 75,
          "gender": "Female",
          "people": 0.040229,
          "sex": 2,
          "year": 1850
         },
         {
          "age": 80,
          "gender": "Male",
          "people": 0.023449,
          "sex": 1,
          "year": 1850
         },
         {
          "age": 80,
          "gender": "Female",
          "people": 0.022949,
          "sex": 2,
          "year": 1850
         },
         {
          "age": 85,
          "gender": "Male",
          "people": 0.008186,
          "sex": 1,
          "year": 1850
         },
         {
          "age": 85,
          "gender": "Female",
          "people": 0.010511,
          "sex": 2,
          "year": 1850
         },
         {
          "age": 90,
          "gender": "Male",
          "people": 0.005259,
          "sex": 1,
          "year": 1850
         },
         {
          "age": 90,
          "gender": "Female",
          "people": 0.006569,
          "sex": 2,
          "year": 1850
         },
         {
          "age": 0,
          "gender": "Male",
          "people": 2.120846,
          "sex": 1,
          "year": 1860
         },
         {
          "age": 0,
          "gender": "Female",
          "people": 2.092162,
          "sex": 2,
          "year": 1860
         },
         {
          "age": 5,
          "gender": "Male",
          "people": 1.804467,
          "sex": 1,
          "year": 1860
         },
         {
          "age": 5,
          "gender": "Female",
          "people": 1.778772,
          "sex": 2,
          "year": 1860
         },
         {
          "age": 10,
          "gender": "Male",
          "people": 1.61264,
          "sex": 1,
          "year": 1860
         },
         {
          "age": 10,
          "gender": "Female",
          "people": 1.54035,
          "sex": 2,
          "year": 1860
         },
         {
          "age": 15,
          "gender": "Male",
          "people": 1.438094,
          "sex": 1,
          "year": 1860
         },
         {
          "age": 15,
          "gender": "Female",
          "people": 1.495999,
          "sex": 2,
          "year": 1860
         },
         {
          "age": 20,
          "gender": "Male",
          "people": 1.351121,
          "sex": 1,
          "year": 1860
         },
         {
          "age": 20,
          "gender": "Female",
          "people": 1.370462,
          "sex": 2,
          "year": 1860
         },
         {
          "age": 25,
          "gender": "Male",
          "people": 1.217615,
          "sex": 1,
          "year": 1860
         },
         {
          "age": 25,
          "gender": "Female",
          "people": 1.116373,
          "sex": 2,
          "year": 1860
         },
         {
          "age": 30,
          "gender": "Male",
          "people": 1.043174,
          "sex": 1,
          "year": 1860
         },
         {
          "age": 30,
          "gender": "Female",
          "people": 0.936055,
          "sex": 2,
          "year": 1860
         },
         {
          "age": 35,
          "gender": "Male",
          "people": 0.86691,
          "sex": 1,
          "year": 1860
         },
         {
          "age": 35,
          "gender": "Female",
          "people": 0.737136,
          "sex": 2,
          "year": 1860
         },
         {
          "age": 40,
          "gender": "Male",
          "people": 0.699434,
          "sex": 1,
          "year": 1860
         },
         {
          "age": 40,
          "gender": "Female",
          "people": 0.616826,
          "sex": 2,
          "year": 1860
         },
         {
          "age": 45,
          "gender": "Male",
          "people": 0.552404,
          "sex": 1,
          "year": 1860
         },
         {
          "age": 45,
          "gender": "Female",
          "people": 0.461739,
          "sex": 2,
          "year": 1860
         },
         {
          "age": 50,
          "gender": "Male",
          "people": 0.456176,
          "sex": 1,
          "year": 1860
         },
         {
          "age": 50,
          "gender": "Female",
          "people": 0.407305,
          "sex": 2,
          "year": 1860
         },
         {
          "age": 55,
          "gender": "Male",
          "people": 0.292417,
          "sex": 1,
          "year": 1860
         },
         {
          "age": 55,
          "gender": "Female",
          "people": 0.267224,
          "sex": 2,
          "year": 1860
         },
         {
          "age": 60,
          "gender": "Male",
          "people": 0.260887,
          "sex": 1,
          "year": 1860
         },
         {
          "age": 60,
          "gender": "Female",
          "people": 0.249735,
          "sex": 2,
          "year": 1860
         },
         {
          "age": 65,
          "gender": "Male",
          "people": 0.149331,
          "sex": 1,
          "year": 1860
         },
         {
          "age": 65,
          "gender": "Female",
          "people": 0.141405,
          "sex": 2,
          "year": 1860
         },
         {
          "age": 70,
          "gender": "Male",
          "people": 0.098465,
          "sex": 1,
          "year": 1860
         },
         {
          "age": 70,
          "gender": "Female",
          "people": 0.101778,
          "sex": 2,
          "year": 1860
         },
         {
          "age": 75,
          "gender": "Male",
          "people": 0.056699,
          "sex": 1,
          "year": 1860
         },
         {
          "age": 75,
          "gender": "Female",
          "people": 0.057597,
          "sex": 2,
          "year": 1860
         },
         {
          "age": 80,
          "gender": "Male",
          "people": 0.029007,
          "sex": 1,
          "year": 1860
         },
         {
          "age": 80,
          "gender": "Female",
          "people": 0.029506,
          "sex": 2,
          "year": 1860
         },
         {
          "age": 85,
          "gender": "Male",
          "people": 0.010434,
          "sex": 1,
          "year": 1860
         },
         {
          "age": 85,
          "gender": "Female",
          "people": 0.014053,
          "sex": 2,
          "year": 1860
         },
         {
          "age": 90,
          "gender": "Male",
          "people": 0.007232,
          "sex": 1,
          "year": 1860
         },
         {
          "age": 90,
          "gender": "Female",
          "people": 0.006622,
          "sex": 2,
          "year": 1860
         },
         {
          "age": 0,
          "gender": "Male",
          "people": 2.800083,
          "sex": 1,
          "year": 1870
         },
         {
          "age": 0,
          "gender": "Female",
          "people": 2.717102,
          "sex": 2,
          "year": 1870
         },
         {
          "age": 5,
          "gender": "Male",
          "people": 2.428469,
          "sex": 1,
          "year": 1870
         },
         {
          "age": 5,
          "gender": "Female",
          "people": 2.39368,
          "sex": 2,
          "year": 1870
         },
         {
          "age": 10,
          "gender": "Male",
          "people": 2.427341,
          "sex": 1,
          "year": 1870
         },
         {
          "age": 10,
          "gender": "Female",
          "people": 2.34267,
          "sex": 2,
          "year": 1870
         },
         {
          "age": 15,
          "gender": "Male",
          "people": 1.95839,
          "sex": 1,
          "year": 1870
         },
         {
          "age": 15,
          "gender": "Female",
          "people": 2.077248,
          "sex": 2,
          "year": 1870
         },
         {
          "age": 20,
          "gender": "Male",
          "people": 1.805303,
          "sex": 1,
          "year": 1870
         },
         {
          "age": 20,
          "gender": "Female",
          "people": 1.909382,
          "sex": 2,
          "year": 1870
         },
         {
          "age": 25,
          "gender": "Male",
          "people": 1.509059,
          "sex": 1,
          "year": 1870
         },
         {
          "age": 25,
          "gender": "Female",
          "people": 1.574285,
          "sex": 2,
          "year": 1870
         },
         {
          "age": 30,
          "gender": "Male",
          "people": 1.251534,
          "sex": 1,
          "year": 1870
         },
         {
          "age": 30,
          "gender": "Female",
          "people": 1.275629,
          "sex": 2,
          "year": 1870
         },
         {
          "age": 35,
          "gender": "Male",
          "people": 1.185336,
          "sex": 1,
          "year": 1870
         },
         {
          "age": 35,
          "gender": "Female",
          "people": 1.13749,
          "sex": 2,
          "year": 1870
         },
         {
          "age": 40,
          "gender": "Male",
          "people": 0.968861,
          "sex": 1,
          "year": 1870
         },
         {
          "age": 40,
          "gender": "Female",
          "people": 0.944401,
          "sex": 2,
          "year": 1870
         },
         {
          "age": 45,
          "gender": "Male",
          "people": 0.852672,
          "sex": 1,
          "year": 1870
         },
         {
          "age": 45,
          "gender": "Female",
          "people": 0.747916,
          "sex": 2,
          "year": 1870
         },
         {
          "age": 50,
          "gender": "Male",
          "people": 0.736387,
          "sex": 1,
          "year": 1870
         },
         {
          "age": 50,
          "gender": "Female",
          "people": 0.637801,
          "sex": 2,
          "year": 1870
         },
         {
          "age": 55,
          "gender": "Male",
          "people": 0.486036,
          "sex": 1,
          "year": 1870
         },
         {
          "age": 55,
          "gender": "Female",
          "people": 0.407819,
          "sex": 2,
          "year": 1870
         },
         {
          "age": 60,
          "gender": "Male",
          "people": 0.399264,
          "sex": 1,
          "year": 1870
         },
         {
          "age": 60,
          "gender": "Female",
          "people": 0.374801,
          "sex": 2,
          "year": 1870
         },
         {
          "age": 65,
          "gender": "Male",
          "people": 0.260829,
          "sex": 1,
          "year": 1870
         },
         {
          "age": 65,
          "gender": "Female",
          "people": 0.23908,
          "sex": 2,
          "year": 1870
         },
         {
          "age": 70,
          "gender": "Male",
          "people": 0.173364,
          "sex": 1,
          "year": 1870
         },
         {
          "age": 70,
          "gender": "Female",
          "people": 0.165501,
          "sex": 2,
          "year": 1870
         },
         {
          "age": 75,
          "gender": "Male",
          "people": 0.086929,
          "sex": 1,
          "year": 1870
         },
         {
          "age": 75,
          "gender": "Female",
          "people": 0.08954,
          "sex": 2,
          "year": 1870
         },
         {
          "age": 80,
          "gender": "Male",
          "people": 0.047427,
          "sex": 1,
          "year": 1870
         },
         {
          "age": 80,
          "gender": "Female",
          "people": 0.05419,
          "sex": 2,
          "year": 1870
         },
         {
          "age": 85,
          "gender": "Male",
          "people": 0.015891,
          "sex": 1,
          "year": 1870
         },
         {
          "age": 85,
          "gender": "Female",
          "people": 0.019302,
          "sex": 2,
          "year": 1870
         },
         {
          "age": 90,
          "gender": "Male",
          "people": 0.008649,
          "sex": 1,
          "year": 1870
         },
         {
          "age": 90,
          "gender": "Female",
          "people": 0.013068,
          "sex": 2,
          "year": 1870
         },
         {
          "age": 0,
          "gender": "Male",
          "people": 3.533662,
          "sex": 1,
          "year": 1880
         },
         {
          "age": 0,
          "gender": "Female",
          "people": 3.421597,
          "sex": 2,
          "year": 1880
         },
         {
          "age": 5,
          "gender": "Male",
          "people": 3.297503,
          "sex": 1,
          "year": 1880
         },
         {
          "age": 5,
          "gender": "Female",
          "people": 3.179142,
          "sex": 2,
          "year": 1880
         },
         {
          "age": 10,
          "gender": "Male",
          "people": 2.911924,
          "sex": 1,
          "year": 1880
         },
         {
          "age": 10,
          "gender": "Female",
          "people": 2.81355,
          "sex": 2,
          "year": 1880
         },
         {
          "age": 15,
          "gender": "Male",
          "people": 2.457734,
          "sex": 1,
          "year": 1880
         },
         {
          "age": 15,
          "gender": "Female",
          "people": 2.527818,
          "sex": 2,
          "year": 1880
         },
         {
          "age": 20,
          "gender": "Male",
          "people": 2.54778,
          "sex": 1,
          "year": 1880
         },
         {
          "age": 20,
          "gender": "Female",
          "people": 2.512803,
          "sex": 2,
          "year": 1880
         },
         {
          "age": 25,
          "gender": "Male",
          "people": 2.119393,
          "sex": 1,
          "year": 1880
         },
         {
          "age": 25,
          "gender": "Female",
          "people": 1.974241,
          "sex": 2,
          "year": 1880
         },
         {
          "age": 30,
          "gender": "Male",
          "people": 1.749107,
          "sex": 1,
          "year": 1880
         },
         {
          "age": 30,
          "gender": "Female",
          "people": 1.596772,
          "sex": 2,
          "year": 1880
         },
         {
          "age": 35,
          "gender": "Male",
          "people": 1.540772,
          "sex": 1,
          "year": 1880
         },
         {
          "age": 35,
          "gender": "Female",
          "people": 1.483717,
          "sex": 2,
          "year": 1880
         },
         {
          "age": 40,
          "gender": "Male",
          "people": 1.237347,
          "sex": 1,
          "year": 1880
         },
         {
          "age": 40,
          "gender": "Female",
          "people": 1.239435,
          "sex": 2,
          "year": 1880
         },
         {
          "age": 45,
          "gender": "Male",
          "people": 1.065973,
          "sex": 1,
          "year": 1880
         },
         {
          "age": 45,
          "gender": "Female",
          "people": 1.003711,
          "sex": 2,
          "year": 1880
         },
         {
          "age": 50,
          "gender": "Male",
          "people": 0.964484,
          "sex": 1,
          "year": 1880
         },
         {
          "age": 50,
          "gender": "Female",
          "people": 0.863012,
          "sex": 2,
          "year": 1880
         },
         {
          "age": 55,
          "gender": "Male",
          "people": 0.679147,
          "sex": 1,
          "year": 1880
         },
         {
          "age": 55,
          "gender": "Female",
          "people": 0.594843,
          "sex": 2,
          "year": 1880
         },
         {
          "age": 60,
          "gender": "Male",
          "people": 0.580298,
          "sex": 1,
          "year": 1880
         },
         {
          "age": 60,
          "gender": "Female",
          "people": 0.526956,
          "sex": 2,
          "year": 1880
         },
         {
          "age": 65,
          "gender": "Male",
          "people": 0.369398,
          "sex": 1,
          "year": 1880
         },
         {
          "age": 65,
          "gender": "Female",
          "people": 0.346303,
          "sex": 2,
          "year": 1880
         },
         {
          "age": 70,
          "gender": "Male",
          "people": 0.255422,
          "sex": 1,
          "year": 1880
         },
         {
          "age": 70,
          "gender": "Female",
          "people": 0.25186,
          "sex": 2,
          "year": 1880
         },
         {
          "age": 75,
          "gender": "Male",
          "people": 0.141628,
          "sex": 1,
          "year": 1880
         },
         {
          "age": 75,
          "gender": "Female",
          "people": 0.143513,
          "sex": 2,
          "year": 1880
         },
         {
          "age": 80,
          "gender": "Male",
          "people": 0.067526,
          "sex": 1,
          "year": 1880
         },
         {
          "age": 80,
          "gender": "Female",
          "people": 0.07729,
          "sex": 2,
          "year": 1880
         },
         {
          "age": 85,
          "gender": "Male",
          "people": 0.022437,
          "sex": 1,
          "year": 1880
         },
         {
          "age": 85,
          "gender": "Female",
          "people": 0.031227,
          "sex": 2,
          "year": 1880
         },
         {
          "age": 90,
          "gender": "Male",
          "people": 0.010272,
          "sex": 1,
          "year": 1880
         },
         {
          "age": 90,
          "gender": "Female",
          "people": 0.015451,
          "sex": 2,
          "year": 1880
         },
         {
          "age": 0,
          "gender": "Male",
          "people": 4.619544,
          "sex": 1,
          "year": 1900
         },
         {
          "age": 0,
          "gender": "Female",
          "people": 4.589196,
          "sex": 2,
          "year": 1900
         },
         {
          "age": 5,
          "gender": "Male",
          "people": 4.465783,
          "sex": 1,
          "year": 1900
         },
         {
          "age": 5,
          "gender": "Female",
          "people": 4.390483,
          "sex": 2,
          "year": 1900
         },
         {
          "age": 10,
          "gender": "Male",
          "people": 4.057669,
          "sex": 1,
          "year": 1900
         },
         {
          "age": 10,
          "gender": "Female",
          "people": 4.001749,
          "sex": 2,
          "year": 1900
         },
         {
          "age": 15,
          "gender": "Male",
          "people": 3.774846,
          "sex": 1,
          "year": 1900
         },
         {
          "age": 15,
          "gender": "Female",
          "people": 3.801743,
          "sex": 2,
          "year": 1900
         },
         {
          "age": 20,
          "gender": "Male",
          "people": 3.694038,
          "sex": 1,
          "year": 1900
         },
         {
          "age": 20,
          "gender": "Female",
          "people": 3.751061,
          "sex": 2,
          "year": 1900
         },
         {
          "age": 25,
          "gender": "Male",
          "people": 3.38928,
          "sex": 1,
          "year": 1900
         },
         {
          "age": 25,
          "gender": "Female",
          "people": 3.236056,
          "sex": 2,
          "year": 1900
         },
         {
          "age": 30,
          "gender": "Male",
          "people": 2.918964,
          "sex": 1,
          "year": 1900
         },
         {
          "age": 30,
          "gender": "Female",
          "people": 2.665174,
          "sex": 2,
          "year": 1900
         },
         {
          "age": 35,
          "gender": "Male",
          "people": 2.633883,
          "sex": 1,
          "year": 1900
         },
         {
          "age": 35,
          "gender": "Female",
          "people": 2.347737,
          "sex": 2,
          "year": 1900
         },
         {
          "age": 40,
          "gender": "Male",
          "people": 2.26107,
          "sex": 1,
          "year": 1900
         },
         {
          "age": 40,
          "gender": "Female",
          "people": 2.004987,
          "sex": 2,
          "year": 1900
         },
         {
          "age": 45,
          "gender": "Male",
          "people": 1.868413,
          "sex": 1,
          "year": 1900
         },
         {
          "age": 45,
          "gender": "Female",
          "people": 1.648025,
          "sex": 2,
          "year": 1900
         },
         {
          "age": 50,
          "gender": "Male",
          "people": 1.571038,
          "sex": 1,
          "year": 1900
         },
         {
          "age": 50,
          "gender": "Female",
          "people": 1.411981,
          "sex": 2,
          "year": 1900
         },
         {
          "age": 55,
          "gender": "Male",
          "people": 1.161908,
          "sex": 1,
          "year": 1900
         },
         {
          "age": 55,
          "gender": "Female",
          "people": 1.064632,
          "sex": 2,
          "year": 1900
         },
         {
          "age": 60,
          "gender": "Male",
          "people": 0.916571,
          "sex": 1,
          "year": 1900
         },
         {
          "age": 60,
          "gender": "Female",
          "people": 0.887508,
          "sex": 2,
          "year": 1900
         },
         {
          "age": 65,
          "gender": "Male",
          "people": 0.672663,
          "sex": 1,
          "year": 1900
         },
         {
          "age": 65,
          "gender": "Female",
          "people": 0.640212,
          "sex": 2,
          "year": 1900
         },
         {
          "age": 70,
          "gender": "Male",
          "people": 0.454747,
          "sex": 1,
          "year": 1900
         },
         {
          "age": 70,
          "gender": "Female",
          "people": 0.440007,
          "sex": 2,
          "year": 1900
         },
         {
          "age": 75,
          "gender": "Male",
          "people": 0.268211,
          "sex": 1,
          "year": 1900
         },
         {
          "age": 75,
          "gender": "Female",
          "people": 0.265879,
          "sex": 2,
          "year": 1900
         },
         {
          "age": 80,
          "gender": "Male",
          "people": 0.127435,
          "sex": 1,
          "year": 1900
         },
         {
          "age": 80,
          "gender": "Female",
          "people": 0.132449,
          "sex": 2,
          "year": 1900
         },
         {
          "age": 85,
          "gender": "Male",
          "people": 0.044008,
          "sex": 1,
          "year": 1900
         },
         {
          "age": 85,
          "gender": "Female",
          "people": 0.048614,
          "sex": 2,
          "year": 1900
         },
         {
          "age": 90,
          "gender": "Male",
          "people": 0.015164,
          "sex": 1,
          "year": 1900
         },
         {
          "age": 90,
          "gender": "Female",
          "people": 0.020093,
          "sex": 2,
          "year": 1900
         },
         {
          "age": 0,
          "gender": "Male",
          "people": 5.296823,
          "sex": 1,
          "year": 1910
         },
         {
          "age": 0,
          "gender": "Female",
          "people": 5.287477,
          "sex": 2,
          "year": 1910
         },
         {
          "age": 5,
          "gender": "Male",
          "people": 4.991803,
          "sex": 1,
          "year": 1910
         },
         {
          "age": 5,
          "gender": "Female",
          "people": 4.866139,
          "sex": 2,
          "year": 1910
         },
         {
          "age": 10,
          "gender": "Male",
          "people": 4.650747,
          "sex": 1,
          "year": 1910
         },
         {
          "age": 10,
          "gender": "Female",
          "people": 4.471887,
          "sex": 2,
          "year": 1910
         },
         {
          "age": 15,
          "gender": "Male",
          "people": 4.566154,
          "sex": 1,
          "year": 1910
         },
         {
          "age": 15,
          "gender": "Female",
          "people": 4.592269,
          "sex": 2,
          "year": 1910
         },
         {
          "age": 20,
          "gender": "Male",
          "people": 4.637632,
          "sex": 1,
          "year": 1910
         },
         {
          "age": 20,
          "gender": "Female",
          "people": 4.447683,
          "sex": 2,
          "year": 1910
         },
         {
          "age": 25,
          "gender": "Male",
          "people": 4.257755,
          "sex": 1,
          "year": 1910
         },
         {
          "age": 25,
          "gender": "Female",
          "people": 3.946153,
          "sex": 2,
          "year": 1910
         },
         {
          "age": 30,
          "gender": "Male",
          "people": 3.658125,
          "sex": 1,
          "year": 1910
         },
         {
          "age": 30,
          "gender": "Female",
          "people": 3.29522,
          "sex": 2,
          "year": 1910
         },
         {
          "age": 35,
          "gender": "Male",
          "people": 3.427518,
          "sex": 1,
          "year": 1910
         },
         {
          "age": 35,
          "gender": "Female",
          "people": 3.08899,
          "sex": 2,
          "year": 1910
         },
         {
          "age": 40,
          "gender": "Male",
          "people": 2.860229,
          "sex": 1,
          "year": 1910
         },
         {
          "age": 40,
          "gender": "Female",
          "people": 2.471267,
          "sex": 2,
          "year": 1910
         },
         {
          "age": 45,
          "gender": "Male",
          "people": 2.363801,
          "sex": 1,
          "year": 1910
         },
         {
          "age": 45,
          "gender": "Female",
          "people": 2.11493,
          "sex": 2,
          "year": 1910
         },
         {
          "age": 50,
          "gender": "Male",
          "people": 2.126516,
          "sex": 1,
          "year": 1910
         },
         {
          "age": 50,
          "gender": "Female",
          "people": 1.773592,
          "sex": 2,
          "year": 1910
         },
         {
          "age": 55,
          "gender": "Male",
          "people": 1.508358,
          "sex": 1,
          "year": 1910
         },
         {
          "age": 55,
          "gender": "Female",
          "people": 1.317651,
          "sex": 2,
          "year": 1910
         },
         {
          "age": 60,
          "gender": "Male",
          "people": 1.189421,
          "sex": 1,
          "year": 1910
         },
         {
          "age": 60,
          "gender": "Female",
          "people": 1.090697,
          "sex": 2,
          "year": 1910
         },
         {
          "age": 65,
          "gender": "Male",
          "people": 0.850159,
          "sex": 1,
          "year": 1910
         },
         {
          "age": 65,
          "gender": "Female",
          "people": 0.813868,
          "sex": 2,
          "year": 1910
         },
         {
          "age": 70,
          "gender": "Male",
          "people": 0.557936,
          "sex": 1,
          "year": 1910
         },
         {
          "age": 70,
          "gender": "Female",
          "people": 0.547623,
          "sex": 2,
          "year": 1910
         },
         {
          "age": 75,
          "gender": "Male",
          "people": 0.322679,
          "sex": 1,
          "year": 1910
         },
         {
          "age": 75,
          "gender": "Female",
          "people": 0.3509,
          "sex": 2,
          "year": 1910
         },
         {
          "age": 80,
          "gender": "Male",
          "people": 0.161715,
          "sex": 1,
          "year": 1910
         },
         {
          "age": 80,
          "gender": "Female",
          "people": 0.174315,
          "sex": 2,
          "year": 1910
         },
         {
          "age": 85,
          "gender": "Male",
          "people": 0.059699,
          "sex": 1,
          "year": 1910
         },
         {
          "age": 85,
          "gender": "Female",
          "people": 0.062725,
          "sex": 2,
          "year": 1910
         },
         {
          "age": 90,
          "gender": "Male",
          "people": 0.023929,
          "sex": 1,
          "year": 1910
         },
         {
          "age": 90,
          "gender": "Female",
          "people": 0.028965,
          "sex": 2,
          "year": 1910
         },
         {
          "age": 0,
          "gender": "Male",
          "people": 5.934792,
          "sex": 1,
          "year": 1920
         },
         {
          "age": 0,
          "gender": "Female",
          "people": 5.694244,
          "sex": 2,
          "year": 1920
         },
         {
          "age": 5,
          "gender": "Male",
          "people": 5.789008,
          "sex": 1,
          "year": 1920
         },
         {
          "age": 5,
          "gender": "Female",
          "people": 5.69396,
          "sex": 2,
          "year": 1920
         },
         {
          "age": 10,
          "gender": "Male",
          "people": 5.401156,
          "sex": 1,
          "year": 1920
         },
         {
          "age": 10,
          "gender": "Female",
          "people": 5.293057,
          "sex": 2,
          "year": 1920
         },
         {
          "age": 15,
          "gender": "Male",
          "people": 4.724365,
          "sex": 1,
          "year": 1920
         },
         {
          "age": 15,
          "gender": "Female",
          "people": 4.779936,
          "sex": 2,
          "year": 1920
         },
         {
          "age": 20,
          "gender": "Male",
          "people": 4.549411,
          "sex": 1,
          "year": 1920
         },
         {
          "age": 20,
          "gender": "Female",
          "people": 4.742632,
          "sex": 2,
          "year": 1920
         },
         {
          "age": 25,
          "gender": "Male",
          "people": 4.565066,
          "sex": 1,
          "year": 1920
         },
         {
          "age": 25,
          "gender": "Female",
          "people": 4.529382,
          "sex": 2,
          "year": 1920
         },
         {
          "age": 30,
          "gender": "Male",
          "people": 4.110771,
          "sex": 1,
          "year": 1920
         },
         {
          "age": 30,
          "gender": "Female",
          "people": 3.982426,
          "sex": 2,
          "year": 1920
         },
         {
          "age": 35,
          "gender": "Male",
          "people": 4.081543,
          "sex": 1,
          "year": 1920
         },
         {
          "age": 35,
          "gender": "Female",
          "people": 3.71381,
          "sex": 2,
          "year": 1920
         },
         {
          "age": 40,
          "gender": "Male",
          "people": 3.321923,
          "sex": 1,
          "year": 1920
         },
         {
          "age": 40,
          "gender": "Female",
          "people": 3.059757,
          "sex": 2,
          "year": 1920
         },
         {
          "age": 45,
          "gender": "Male",
          "people": 3.143891,
          "sex": 1,
          "year": 1920
         },
         {
          "age": 45,
          "gender": "Female",
          "people": 2.669089,
          "sex": 2,
          "year": 1920
         },
         {
          "age": 50,
          "gender": "Male",
          "people": 2.546035,
          "sex": 1,
          "year": 1920
         },
         {
          "age": 50,
          "gender": "Female",
          "people": 2.200491,
          "sex": 2,
          "year": 1920
         },
         {
          "age": 55,
          "gender": "Male",
          "people": 1.880975,
          "sex": 1,
          "year": 1920
         },
         {
          "age": 55,
          "gender": "Female",
          "people": 1.674672,
          "sex": 2,
          "year": 1920
         },
         {
          "age": 60,
          "gender": "Male",
          "people": 1.587549,
          "sex": 1,
          "year": 1920
         },
         {
          "age": 60,
          "gender": "Female",
          "people": 1.382877,
          "sex": 2,
          "year": 1920
         },
         {
          "age": 65,
          "gender": "Male",
          "people": 1.095956,
          "sex": 1,
          "year": 1920
         },
         {
          "age": 65,
          "gender": "Female",
          "people": 0.989901,
          "sex": 2,
          "year": 1920
         },
         {
          "age": 70,
          "gender": "Male",
          "people": 0.714618,
          "sex": 1,
          "year": 1920
         },
         {
          "age": 70,
          "gender": "Female",
          "people": 0.690097,
          "sex": 2,
          "year": 1920
         },
         {
          "age": 75,
          "gender": "Male",
          "people": 0.417292,
          "sex": 1,
          "year": 1920
         },
         {
          "age": 75,
          "gender": "Female",
          "people": 0.439465,
          "sex": 2,
          "year": 1920
         },
         {
          "age": 80,
          "gender": "Male",
          "people": 0.187,
          "sex": 1,
          "year": 1920
         },
         {
          "age": 80,
          "gender": "Female",
          "people": 0.21111,
          "sex": 2,
          "year": 1920
         },
         {
          "age": 85,
          "gender": "Male",
          "people": 0.075991,
          "sex": 1,
          "year": 1920
         },
         {
          "age": 85,
          "gender": "Female",
          "people": 0.092829,
          "sex": 2,
          "year": 1920
         },
         {
          "age": 90,
          "gender": "Male",
          "people": 0.022398,
          "sex": 1,
          "year": 1920
         },
         {
          "age": 90,
          "gender": "Female",
          "people": 0.032085,
          "sex": 2,
          "year": 1920
         },
         {
          "age": 0,
          "gender": "Male",
          "people": 5.87525,
          "sex": 1,
          "year": 1930
         },
         {
          "age": 0,
          "gender": "Female",
          "people": 5.66253,
          "sex": 2,
          "year": 1930
         },
         {
          "age": 5,
          "gender": "Male",
          "people": 6.542592,
          "sex": 1,
          "year": 1930
         },
         {
          "age": 5,
          "gender": "Female",
          "people": 6.129561,
          "sex": 2,
          "year": 1930
         },
         {
          "age": 10,
          "gender": "Male",
          "people": 6.06482,
          "sex": 1,
          "year": 1930
         },
         {
          "age": 10,
          "gender": "Female",
          "people": 5.986529,
          "sex": 2,
          "year": 1930
         },
         {
          "age": 15,
          "gender": "Male",
          "people": 5.709452,
          "sex": 1,
          "year": 1930
         },
         {
          "age": 15,
          "gender": "Female",
          "people": 5.769587,
          "sex": 2,
          "year": 1930
         },
         {
          "age": 20,
          "gender": "Male",
          "people": 5.305992,
          "sex": 1,
          "year": 1930
         },
         {
          "age": 20,
          "gender": "Female",
          "people": 5.565382,
          "sex": 2,
          "year": 1930
         },
         {
          "age": 25,
          "gender": "Male",
          "people": 4.929853,
          "sex": 1,
          "year": 1930
         },
         {
          "age": 25,
          "gender": "Female",
          "people": 5.050229,
          "sex": 2,
          "year": 1930
         },
         {
          "age": 30,
          "gender": "Male",
          "people": 4.424408,
          "sex": 1,
          "year": 1930
         },
         {
          "age": 30,
          "gender": "Female",
          "people": 4.455213,
          "sex": 2,
          "year": 1930
         },
         {
          "age": 35,
          "gender": "Male",
          "people": 4.576531,
          "sex": 1,
          "year": 1930
         },
         {
          "age": 35,
          "gender": "Female",
          "people": 4.593776,
          "sex": 2,
          "year": 1930
         },
         {
          "age": 40,
          "gender": "Male",
          "people": 4.075139,
          "sex": 1,
          "year": 1930
         },
         {
          "age": 40,
          "gender": "Female",
          "people": 3.754022,
          "sex": 2,
          "year": 1930
         },
         {
          "age": 45,
          "gender": "Male",
          "people": 3.633152,
          "sex": 1,
          "year": 1930
         },
         {
          "age": 45,
          "gender": "Female",
          "people": 3.396558,
          "sex": 2,
          "year": 1930
         },
         {
          "age": 50,
          "gender": "Male",
          "people": 3.128108,
          "sex": 1,
          "year": 1930
         },
         {
          "age": 50,
          "gender": "Female",
          "people": 2.809191,
          "sex": 2,
          "year": 1930
         },
         {
          "age": 55,
          "gender": "Male",
          "people": 2.434077,
          "sex": 1,
          "year": 1930
         },
         {
          "age": 55,
          "gender": "Female",
          "people": 2.298614,
          "sex": 2,
          "year": 1930
         },
         {
          "age": 60,
          "gender": "Male",
          "people": 1.927564,
          "sex": 1,
          "year": 1930
         },
         {
          "age": 60,
          "gender": "Female",
          "people": 1.783515,
          "sex": 2,
          "year": 1930
         },
         {
          "age": 65,
          "gender": "Male",
          "people": 1.397275,
          "sex": 1,
          "year": 1930
         },
         {
          "age": 65,
          "gender": "Female",
          "people": 1.307312,
          "sex": 2,
          "year": 1930
         },
         {
          "age": 70,
          "gender": "Male",
          "people": 0.919045,
          "sex": 1,
          "year": 1930
         },
         {
          "age": 70,
          "gender": "Female",
          "people": 0.918509,
          "sex": 2,
          "year": 1930
         },
         {
          "age": 75,
          "gender": "Male",
          "people": 0.536375,
          "sex": 1,
          "year": 1930
         },
         {
          "age": 75,
          "gender": "Female",
          "people": 0.522716,
          "sex": 2,
          "year": 1930
         },
         {
          "age": 80,
          "gender": "Male",
          "people": 0.246708,
          "sex": 1,
          "year": 1930
         },
         {
          "age": 80,
          "gender": "Female",
          "people": 0.283579,
          "sex": 2,
          "year": 1930
         },
         {
          "age": 85,
          "gender": "Male",
          "people": 0.088978,
          "sex": 1,
          "year": 1930
         },
         {
          "age": 85,
          "gender": "Female",
          "people": 0.10921,
          "sex": 2,
          "year": 1930
         },
         {
          "age": 90,
          "gender": "Male",
          "people": 0.030338,
          "sex": 1,
          "year": 1930
         },
         {
          "age": 90,
          "gender": "Female",
          "people": 0.043483,
          "sex": 2,
          "year": 1930
         },
         {
          "age": 0,
          "gender": "Male",
          "people": 5.294628,
          "sex": 1,
          "year": 1940
         },
         {
          "age": 0,
          "gender": "Female",
          "people": 5.124653,
          "sex": 2,
          "year": 1940
         },
         {
          "age": 5,
          "gender": "Male",
          "people": 5.468378,
          "sex": 1,
          "year": 1940
         },
         {
          "age": 5,
          "gender": "Female",
          "people": 5.359099,
          "sex": 2,
          "year": 1940
         },
         {
          "age": 10,
          "gender": "Male",
          "people": 5.960416,
          "sex": 1,
          "year": 1940
         },
         {
          "age": 10,
          "gender": "Female",
          "people": 5.868532,
          "sex": 2,
          "year": 1940
         },
         {
          "age": 15,
          "gender": "Male",
          "people": 6.165109,
          "sex": 1,
          "year": 1940
         },
         {
          "age": 15,
          "gender": "Female",
          "people": 6.193701,
          "sex": 2,
          "year": 1940
         },
         {
          "age": 20,
          "gender": "Male",
          "people": 5.682414,
          "sex": 1,
          "year": 1940
         },
         {
          "age": 20,
          "gender": "Female",
          "people": 5.896002,
          "sex": 2,
          "year": 1940
         },
         {
          "age": 25,
          "gender": "Male",
          "people": 5.438166,
          "sex": 1,
          "year": 1940
         },
         {
          "age": 25,
          "gender": "Female",
          "people": 5.664244,
          "sex": 2,
          "year": 1940
         },
         {
          "age": 30,
          "gender": "Male",
          "people": 5.040048,
          "sex": 1,
          "year": 1940
         },
         {
          "age": 30,
          "gender": "Female",
          "people": 5.171522,
          "sex": 2,
          "year": 1940
         },
         {
          "age": 35,
          "gender": "Male",
          "people": 4.724804,
          "sex": 1,
          "year": 1940
         },
         {
          "age": 35,
          "gender": "Female",
          "people": 4.791809,
          "sex": 2,
          "year": 1940
         },
         {
          "age": 40,
          "gender": "Male",
          "people": 4.437392,
          "sex": 1,
          "year": 1940
         },
         {
          "age": 40,
          "gender": "Female",
          "people": 4.394061,
          "sex": 2,
          "year": 1940
         },
         {
          "age": 45,
          "gender": "Male",
          "people": 4.190187,
          "sex": 1,
          "year": 1940
         },
         {
          "age": 45,
          "gender": "Female",
          "people": 4.05029,
          "sex": 2,
          "year": 1940
         },
         {
          "age": 50,
          "gender": "Male",
          "people": 3.785735,
          "sex": 1,
          "year": 1940
         },
         {
          "age": 50,
          "gender": "Female",
          "people": 3.488396,
          "sex": 2,
          "year": 1940
         },
         {
          "age": 55,
          "gender": "Male",
          "people": 2.972069,
          "sex": 1,
          "year": 1940
         },
         {
          "age": 55,
          "gender": "Female",
          "people": 2.81,
          "sex": 2,
          "year": 1940
         },
         {
          "age": 60,
          "gender": "Male",
          "people": 2.370232,
          "sex": 1,
          "year": 1940
         },
         {
          "age": 60,
          "gender": "Female",
          "people": 2.31779,
          "sex": 2,
          "year": 1940
         },
         {
          "age": 65,
          "gender": "Male",
          "people": 1.897678,
          "sex": 1,
          "year": 1940
         },
         {
          "age": 65,
          "gender": "Female",
          "people": 1.911117,
          "sex": 2,
          "year": 1940
         },
         {
          "age": 70,
          "gender": "Male",
          "people": 1.280023,
          "sex": 1,
          "year": 1940
         },
         {
          "age": 70,
          "gender": "Female",
          "people": 1.287711,
          "sex": 2,
          "year": 1940
         },
         {
          "age": 75,
          "gender": "Male",
          "people": 0.713875,
          "sex": 1,
          "year": 1940
         },
         {
          "age": 75,
          "gender": "Female",
          "people": 0.764915,
          "sex": 2,
          "year": 1940
         },
         {
          "age": 80,
          "gender": "Male",
          "people": 0.359418,
          "sex": 1,
          "year": 1940
         },
         {
          "age": 80,
          "gender": "Female",
          "people": 0.414761,
          "sex": 2,
          "year": 1940
         },
         {
          "age": 85,
          "gender": "Male",
          "people": 0.127303,
          "sex": 1,
          "year": 1940
         },
         {
          "age": 85,
          "gender": "Female",
          "people": 0.152131,
          "sex": 2,
          "year": 1940
         },
         {
          "age": 90,
          "gender": "Male",
          "people": 0.042263,
          "sex": 1,
          "year": 1940
         },
         {
          "age": 90,
          "gender": "Female",
          "people": 0.058119,
          "sex": 2,
          "year": 1940
         },
         {
          "age": 0,
          "gender": "Male",
          "people": 8.211806,
          "sex": 1,
          "year": 1950
         },
         {
          "age": 0,
          "gender": "Female",
          "people": 7.862267,
          "sex": 2,
          "year": 1950
         },
         {
          "age": 5,
          "gender": "Male",
          "people": 6.706601,
          "sex": 1,
          "year": 1950
         },
         {
          "age": 5,
          "gender": "Female",
          "people": 6.450863,
          "sex": 2,
          "year": 1950
         },
         {
          "age": 10,
          "gender": "Male",
          "people": 5.629744,
          "sex": 1,
          "year": 1950
         },
         {
          "age": 10,
          "gender": "Female",
          "people": 5.430835,
          "sex": 2,
          "year": 1950
         },
         {
          "age": 15,
          "gender": "Male",
          "people": 5.264129,
          "sex": 1,
          "year": 1950
         },
         {
          "age": 15,
          "gender": "Female",
          "people": 5.288742,
          "sex": 2,
          "year": 1950
         },
         {
          "age": 20,
          "gender": "Male",
          "people": 5.573308,
          "sex": 1,
          "year": 1950
         },
         {
          "age": 20,
          "gender": "Female",
          "people": 5.854227,
          "sex": 2,
          "year": 1950
         },
         {
          "age": 25,
          "gender": "Male",
          "people": 6.007254,
          "sex": 1,
          "year": 1950
         },
         {
          "age": 25,
          "gender": "Female",
          "people": 6.317332,
          "sex": 2,
          "year": 1950
         },
         {
          "age": 30,
          "gender": "Male",
          "people": 5.676022,
          "sex": 1,
          "year": 1950
         },
         {
          "age": 30,
          "gender": "Female",
          "people": 5.895178,
          "sex": 2,
          "year": 1950
         },
         {
          "age": 35,
          "gender": "Male",
          "people": 5.511364,
          "sex": 1,
          "year": 1950
         },
         {
          "age": 35,
          "gender": "Female",
          "people": 5.696261,
          "sex": 2,
          "year": 1950
         },
         {
          "age": 40,
          "gender": "Male",
          "people": 5.076985,
          "sex": 1,
          "year": 1950
         },
         {
          "age": 40,
          "gender": "Female",
          "people": 5.199224,
          "sex": 2,
          "year": 1950
         },
         {
          "age": 45,
          "gender": "Male",
          "people": 4.533177,
          "sex": 1,
          "year": 1950
         },
         {
          "age": 45,
          "gender": "Female",
          "people": 4.595842,
          "sex": 2,
          "year": 1950
         },
         {
          "age": 50,
          "gender": "Male",
          "people": 4.199164,
          "sex": 1,
          "year": 1950
         },
         {
          "age": 50,
          "gender": "Female",
          "people": 4.147295,
          "sex": 2,
          "year": 1950
         },
         {
          "age": 55,
          "gender": "Male",
          "people": 3.667351,
          "sex": 1,
          "year": 1950
         },
         {
          "age": 55,
          "gender": "Female",
          "people": 3.595158,
          "sex": 2,
          "year": 1950
         },
         {
          "age": 60,
          "gender": "Male",
          "people": 3.035038,
          "sex": 1,
          "year": 1950
         },
         {
          "age": 60,
          "gender": "Female",
          "people": 3.009768,
          "sex": 2,
          "year": 1950
         },
         {
          "age": 65,
          "gender": "Male",
          "people": 2.421234,
          "sex": 1,
          "year": 1950
         },
         {
          "age": 65,
          "gender": "Female",
          "people": 2.54825,
          "sex": 2,
          "year": 1950
         },
         {
          "age": 70,
          "gender": "Male",
          "people": 1.62792,
          "sex": 1,
          "year": 1950
         },
         {
          "age": 70,
          "gender": "Female",
          "people": 1.786831,
          "sex": 2,
          "year": 1950
         },
         {
          "age": 75,
          "gender": "Male",
          "people": 1.00653,
          "sex": 1,
          "year": 1950
         },
         {
          "age": 75,
          "gender": "Female",
          "people": 1.148469,
          "sex": 2,
          "year": 1950
         },
         {
          "age": 80,
          "gender": "Male",
          "people": 0.511727,
          "sex": 1,
          "year": 1950
         },
         {
          "age": 80,
          "gender": "Female",
          "people": 0.637717,
          "sex": 2,
          "year": 1950
         },
         {
          "age": 85,
          "gender": "Male",
          "people": 0.182821,
          "sex": 1,
          "year": 1950
         },
         {
          "age": 85,
          "gender": "Female",
          "people": 0.242798,
          "sex": 2,
          "year": 1950
         },
         {
          "age": 90,
          "gender": "Male",
          "people": 0.054836,
          "sex": 1,
          "year": 1950
         },
         {
          "age": 90,
          "gender": "Female",
          "people": 0.090766,
          "sex": 2,
          "year": 1950
         },
         {
          "age": 0,
          "gender": "Male",
          "people": 10.374975,
          "sex": 1,
          "year": 1960
         },
         {
          "age": 0,
          "gender": "Female",
          "people": 10.146999,
          "sex": 2,
          "year": 1960
         },
         {
          "age": 5,
          "gender": "Male",
          "people": 9.495503,
          "sex": 1,
          "year": 1960
         },
         {
          "age": 5,
          "gender": "Female",
          "people": 9.250741,
          "sex": 2,
          "year": 1960
         },
         {
          "age": 10,
          "gender": "Male",
          "people": 8.5637,
          "sex": 1,
          "year": 1960
         },
         {
          "age": 10,
          "gender": "Female",
          "people": 8.310764,
          "sex": 2,
          "year": 1960
         },
         {
          "age": 15,
          "gender": "Male",
          "people": 6.620902,
          "sex": 1,
          "year": 1960
         },
         {
          "age": 15,
          "gender": "Female",
          "people": 6.617493,
          "sex": 2,
          "year": 1960
         },
         {
          "age": 20,
          "gender": "Male",
          "people": 5.268384,
          "sex": 1,
          "year": 1960
         },
         {
          "age": 20,
          "gender": "Female",
          "people": 5.513495,
          "sex": 2,
          "year": 1960
         },
         {
          "age": 25,
          "gender": "Male",
          "people": 5.311805,
          "sex": 1,
          "year": 1960
         },
         {
          "age": 25,
          "gender": "Female",
          "people": 5.548259,
          "sex": 2,
          "year": 1960
         },
         {
          "age": 30,
          "gender": "Male",
          "people": 5.801342,
          "sex": 1,
          "year": 1960
         },
         {
          "age": 30,
          "gender": "Female",
          "people": 6.090862,
          "sex": 2,
          "year": 1960
         },
         {
          "age": 35,
          "gender": "Male",
          "people": 6.063063,
          "sex": 1,
          "year": 1960
         },
         {
          "age": 35,
          "gender": "Female",
          "people": 6.431337,
          "sex": 2,
          "year": 1960
         },
         {
          "age": 40,
          "gender": "Male",
          "people": 5.657943,
          "sex": 1,
          "year": 1960
         },
         {
          "age": 40,
          "gender": "Female",
          "people": 5.94052,
          "sex": 2,
          "year": 1960
         },
         {
          "age": 45,
          "gender": "Male",
          "people": 5.345658,
          "sex": 1,
          "year": 1960
         },
         {
          "age": 45,
          "gender": "Female",
          "people": 5.516028,
          "sex": 2,
          "year": 1960
         },
         {
          "age": 50,
          "gender": "Male",
          "people": 4.763364,
          "sex": 1,
          "year": 1960
         },
         {
          "age": 50,
          "gender": "Female",
          "people": 4.928844,
          "sex": 2,
          "year": 1960
         },
         {
          "age": 55,
          "gender": "Male",
          "people": 4.170581,
          "sex": 1,
          "year": 1960
         },
         {
          "age": 55,
          "gender": "Female",
          "people": 4.402878,
          "sex": 2,
          "year": 1960
         },
         {
          "age": 60,
          "gender": "Male",
          "people": 3.405293,
          "sex": 1,
          "year": 1960
         },
         {
          "age": 60,
          "gender": "Female",
          "people": 3.723839,
          "sex": 2,
          "year": 1960
         },
         {
          "age": 65,
          "gender": "Male",
          "people": 2.859371,
          "sex": 1,
          "year": 1960
         },
         {
          "age": 65,
          "gender": "Female",
          "people": 3.268699,
          "sex": 2,
          "year": 1960
         },
         {
          "age": 70,
          "gender": "Male",
          "people": 2.115763,
          "sex": 1,
          "year": 1960
         },
         {
          "age": 70,
          "gender": "Female",
          "people": 2.516479,
          "sex": 2,
          "year": 1960
         },
         {
          "age": 75,
          "gender": "Male",
          "people": 1.308913,
          "sex": 1,
          "year": 1960
         },
         {
          "age": 75,
          "gender": "Female",
          "people": 1.641371,
          "sex": 2,
          "year": 1960
         },
         {
          "age": 80,
          "gender": "Male",
          "people": 0.619923,
          "sex": 1,
          "year": 1960
         },
         {
          "age": 80,
          "gender": "Female",
          "people": 0.856952,
          "sex": 2,
          "year": 1960
         },
         {
          "age": 85,
          "gender": "Male",
          "people": 0.253245,
          "sex": 1,
          "year": 1960
         },
         {
          "age": 85,
          "gender": "Female",
          "people": 0.384572,
          "sex": 2,
          "year": 1960
         },
         {
          "age": 90,
          "gender": "Male",
          "people": 0.075908,
          "sex": 1,
          "year": 1960
         },
         {
          "age": 90,
          "gender": "Female",
          "people": 0.135774,
          "sex": 2,
          "year": 1960
         },
         {
          "age": 0,
          "gender": "Male",
          "people": 8.685121,
          "sex": 1,
          "year": 1970
         },
         {
          "age": 0,
          "gender": "Female",
          "people": 8.326887,
          "sex": 2,
          "year": 1970
         },
         {
          "age": 5,
          "gender": "Male",
          "people": 10.411131,
          "sex": 1,
          "year": 1970
         },
         {
          "age": 5,
          "gender": "Female",
          "people": 10.003293,
          "sex": 2,
          "year": 1970
         },
         {
          "age": 10,
          "gender": "Male",
          "people": 10.756403,
          "sex": 1,
          "year": 1970
         },
         {
          "age": 10,
          "gender": "Female",
          "people": 10.343538,
          "sex": 2,
          "year": 1970
         },
         {
          "age": 15,
          "gender": "Male",
          "people": 9.605399,
          "sex": 1,
          "year": 1970
         },
         {
          "age": 15,
          "gender": "Female",
          "people": 9.414284,
          "sex": 2,
          "year": 1970
         },
         {
          "age": 20,
          "gender": "Male",
          "people": 7.729202,
          "sex": 1,
          "year": 1970
         },
         {
          "age": 20,
          "gender": "Female",
          "people": 8.34183,
          "sex": 2,
          "year": 1970
         },
         {
          "age": 25,
          "gender": "Male",
          "people": 6.539301,
          "sex": 1,
          "year": 1970
         },
         {
          "age": 25,
          "gender": "Female",
          "people": 6.903041,
          "sex": 2,
          "year": 1970
         },
         {
          "age": 30,
          "gender": "Male",
          "people": 5.519879,
          "sex": 1,
          "year": 1970
         },
         {
          "age": 30,
          "gender": "Female",
          "people": 5.851441,
          "sex": 2,
          "year": 1970
         },
         {
          "age": 35,
          "gender": "Male",
          "people": 5.396732,
          "sex": 1,
          "year": 1970
         },
         {
          "age": 35,
          "gender": "Female",
          "people": 5.708021,
          "sex": 2,
          "year": 1970
         },
         {
          "age": 40,
          "gender": "Male",
          "people": 5.718538,
          "sex": 1,
          "year": 1970
         },
         {
          "age": 40,
          "gender": "Female",
          "people": 6.129319,
          "sex": 2,
          "year": 1970
         },
         {
          "age": 45,
          "gender": "Male",
          "people": 5.79412,
          "sex": 1,
          "year": 1970
         },
         {
          "age": 45,
          "gender": "Female",
          "people": 6.198742,
          "sex": 2,
          "year": 1970
         },
         {
          "age": 50,
          "gender": "Male",
          "people": 5.298312,
          "sex": 1,
          "year": 1970
         },
         {
          "age": 50,
          "gender": "Female",
          "people": 5.783817,
          "sex": 2,
          "year": 1970
         },
         {
          "age": 55,
          "gender": "Male",
          "people": 4.762911,
          "sex": 1,
          "year": 1970
         },
         {
          "age": 55,
          "gender": "Female",
          "people": 5.222164,
          "sex": 2,
          "year": 1970
         },
         {
          "age": 60,
          "gender": "Male",
          "people": 4.037643,
          "sex": 1,
          "year": 1970
         },
         {
          "age": 60,
          "gender": "Female",
          "people": 4.577251,
          "sex": 2,
          "year": 1970
         },
         {
          "age": 65,
          "gender": "Male",
          "people": 3.142606,
          "sex": 1,
          "year": 1970
         },
         {
          "age": 65,
          "gender": "Female",
          "people": 3.894827,
          "sex": 2,
          "year": 1970
         },
         {
          "age": 70,
          "gender": "Male",
          "people": 2.340826,
          "sex": 1,
          "year": 1970
         },
         {
          "age": 70,
          "gender": "Female",
          "people": 3.138009,
          "sex": 2,
          "year": 1970
         },
         {
          "age": 75,
          "gender": "Male",
          "people": 1.599269,
          "sex": 1,
          "year": 1970
         },
         {
          "age": 75,
          "gender": "Female",
          "people": 2.293376,
          "sex": 2,
          "year": 1970
         },
         {
          "age": 80,
          "gender": "Male",
          "people": 0.886155,
          "sex": 1,
          "year": 1970
         },
         {
          "age": 80,
          "gender": "Female",
          "people": 1.417553,
          "sex": 2,
          "year": 1970
         },
         {
          "age": 85,
          "gender": "Male",
          "people": 0.371123,
          "sex": 1,
          "year": 1970
         },
         {
          "age": 85,
          "gender": "Female",
          "people": 0.658511,
          "sex": 2,
          "year": 1970
         },
         {
          "age": 90,
          "gender": "Male",
          "people": 0.186502,
          "sex": 1,
          "year": 1970
         },
         {
          "age": 90,
          "gender": "Female",
          "people": 0.314929,
          "sex": 2,
          "year": 1970
         },
         {
          "age": 0,
          "gender": "Male",
          "people": 8.439366,
          "sex": 1,
          "year": 1980
         },
         {
          "age": 0,
          "gender": "Female",
          "people": 8.081854,
          "sex": 2,
          "year": 1980
         },
         {
          "age": 5,
          "gender": "Male",
          "people": 8.68073,
          "sex": 1,
          "year": 1980
         },
         {
          "age": 5,
          "gender": "Female",
          "people": 8.275881,
          "sex": 2,
          "year": 1980
         },
         {
          "age": 10,
          "gender": "Male",
          "people": 9.452338,
          "sex": 1,
          "year": 1980
         },
         {
          "age": 10,
          "gender": "Female",
          "people": 9.048483,
          "sex": 2,
          "year": 1980
         },
         {
          "age": 15,
          "gender": "Male",
          "people": 10.698856,
          "sex": 1,
          "year": 1980
         },
         {
          "age": 15,
          "gender": "Female",
          "people": 10.410271,
          "sex": 2,
          "year": 1980
         },
         {
          "age": 20,
          "gender": "Male",
          "people": 10.486776,
          "sex": 1,
          "year": 1980
         },
         {
          "age": 20,
          "gender": "Female",
          "people": 10.614947,
          "sex": 2,
          "year": 1980
         },
         {
          "age": 25,
          "gender": "Male",
          "people": 9.624053,
          "sex": 1,
          "year": 1980
         },
         {
          "age": 25,
          "gender": "Female",
          "people": 9.827903,
          "sex": 2,
          "year": 1980
         },
         {
          "age": 30,
          "gender": "Male",
          "people": 8.705835,
          "sex": 1,
          "year": 1980
         },
         {
          "age": 30,
          "gender": "Female",
          "people": 8.955225,
          "sex": 2,
          "year": 1980
         },
         {
          "age": 35,
          "gender": "Male",
          "people": 6.852069,
          "sex": 1,
          "year": 1980
         },
         {
          "age": 35,
          "gender": "Female",
          "people": 7.134239,
          "sex": 2,
          "year": 1980
         },
         {
          "age": 40,
          "gender": "Male",
          "people": 5.692148,
          "sex": 1,
          "year": 1980
         },
         {
          "age": 40,
          "gender": "Female",
          "people": 5.95391,
          "sex": 2,
          "year": 1980
         },
         {
          "age": 45,
          "gender": "Male",
          "people": 5.342469,
          "sex": 1,
          "year": 1980
         },
         {
          "age": 45,
          "gender": "Female",
          "people": 5.697543,
          "sex": 2,
          "year": 1980
         },
         {
          "age": 50,
          "gender": "Male",
          "people": 5.603709,
          "sex": 1,
          "year": 1980
         },
         {
          "age": 50,
          "gender": "Female",
          "people": 6.110117,
          "sex": 2,
          "year": 1980
         },
         {
          "age": 55,
          "gender": "Male",
          "people": 5.485098,
          "sex": 1,
          "year": 1980
         },
         {
          "age": 55,
          "gender": "Female",
          "people": 6.160229,
          "sex": 2,
          "year": 1980
         },
         {
          "age": 60,
          "gender": "Male",
          "people": 4.69614,
          "sex": 1,
          "year": 1980
         },
         {
          "age": 60,
          "gender": "Female",
          "people": 5.456885,
          "sex": 2,
          "year": 1980
         },
         {
          "age": 65,
          "gender": "Male",
          "people": 3.89351,
          "sex": 1,
          "year": 1980
         },
         {
          "age": 65,
          "gender": "Female",
          "people": 4.896947,
          "sex": 2,
          "year": 1980
         },
         {
          "age": 70,
          "gender": "Male",
          "people": 2.857774,
          "sex": 1,
          "year": 1980
         },
         {
          "age": 70,
          "gender": "Female",
          "people": 3.963441,
          "sex": 2,
          "year": 1980
         },
         {
          "age": 75,
          "gender": "Male",
          "people": 1.840438,
          "sex": 1,
          "year": 1980
         },
         {
          "age": 75,
          "gender": "Female",
          "people": 2.951759,
          "sex": 2,
          "year": 1980
         },
         {
          "age": 80,
          "gender": "Male",
          "people": 1.012886,
          "sex": 1,
          "year": 1980
         },
         {
          "age": 80,
          "gender": "Female",
          "people": 1.919292,
          "sex": 2,
          "year": 1980
         },
         {
          "age": 85,
          "gender": "Male",
          "people": 0.472338,
          "sex": 1,
          "year": 1980
         },
         {
          "age": 85,
          "gender": "Female",
          "people": 1.023115,
          "sex": 2,
          "year": 1980
         },
         {
          "age": 90,
          "gender": "Male",
          "people": 0.204148,
          "sex": 1,
          "year": 1980
         },
         {
          "age": 90,
          "gender": "Female",
          "people": 0.499046,
          "sex": 2,
          "year": 1980
         },
         {
          "age": 0,
          "gender": "Male",
          "people": 9.307465,
          "sex": 1,
          "year": 1990
         },
         {
          "age": 0,
          "gender": "Female",
          "people": 8.894007,
          "sex": 2,
          "year": 1990
         },
         {
          "age": 5,
          "gender": "Male",
          "people": 9.274732,
          "sex": 1,
          "year": 1990
         },
         {
          "age": 5,
          "gender": "Female",
          "people": 8.799955,
          "sex": 2,
          "year": 1990
         },
         {
          "age": 10,
          "gender": "Male",
          "people": 8.782542,
          "sex": 1,
          "year": 1990
         },
         {
          "age": 10,
          "gender": "Female",
          "people": 8.337284,
          "sex": 2,
          "year": 1990
         },
         {
          "age": 15,
          "gender": "Male",
          "people": 9.020572,
          "sex": 1,
          "year": 1990
         },
         {
          "age": 15,
          "gender": "Female",
          "people": 8.590991,
          "sex": 2,
          "year": 1990
         },
         {
          "age": 20,
          "gender": "Male",
          "people": 9.436188,
          "sex": 1,
          "year": 1990
         },
         {
          "age": 20,
          "gender": "Female",
          "people": 9.152644,
          "sex": 2,
          "year": 1990
         },
         {
          "age": 25,
          "gender": "Male",
          "people": 10.658027,
          "sex": 1,
          "year": 1990
         },
         {
          "age": 25,
          "gender": "Female",
          "people": 10.587292,
          "sex": 2,
          "year": 1990
         },
         {
          "age": 30,
          "gender": "Male",
          "people": 11.028712,
          "sex": 1,
          "year": 1990
         },
         {
          "age": 30,
          "gender": "Female",
          "people": 11.10575,
          "sex": 2,
          "year": 1990
         },
         {
          "age": 35,
          "gender": "Male",
          "people": 9.853933,
          "sex": 1,
          "year": 1990
         },
         {
          "age": 35,
          "gender": "Female",
          "people": 10.038644,
          "sex": 2,
          "year": 1990
         },
         {
          "age": 40,
          "gender": "Male",
          "people": 8.712632,
          "sex": 1,
          "year": 1990
         },
         {
          "age": 40,
          "gender": "Female",
          "people": 8.928252,
          "sex": 2,
          "year": 1990
         },
         {
          "age": 45,
          "gender": "Male",
          "people": 6.848082,
          "sex": 1,
          "year": 1990
         },
         {
          "age": 45,
          "gender": "Female",
          "people": 7.115129,
          "sex": 2,
          "year": 1990
         },
         {
          "age": 50,
          "gender": "Male",
          "people": 5.553992,
          "sex": 1,
          "year": 1990
         },
         {
          "age": 50,
          "gender": "Female",
          "people": 5.899925,
          "sex": 2,
          "year": 1990
         },
         {
          "age": 55,
          "gender": "Male",
          "people": 4.98167,
          "sex": 1,
          "year": 1990
         },
         {
          "age": 55,
          "gender": "Female",
          "people": 5.460506,
          "sex": 2,
          "year": 1990
         },
         {
          "age": 60,
          "gender": "Male",
          "people": 4.953822,
          "sex": 1,
          "year": 1990
         },
         {
          "age": 60,
          "gender": "Female",
          "people": 5.663205,
          "sex": 2,
          "year": 1990
         },
         {
          "age": 65,
          "gender": "Male",
          "people": 4.538398,
          "sex": 1,
          "year": 1990
         },
         {
          "age": 65,
          "gender": "Female",
          "people": 5.594108,
          "sex": 2,
          "year": 1990
         },
         {
          "age": 70,
          "gender": "Male",
          "people": 3.42942,
          "sex": 1,
          "year": 1990
         },
         {
          "age": 70,
          "gender": "Female",
          "people": 4.610222,
          "sex": 2,
          "year": 1990
         },
         {
          "age": 75,
          "gender": "Male",
          "people": 2.344932,
          "sex": 1,
          "year": 1990
         },
         {
          "age": 75,
          "gender": "Female",
          "people": 3.72398,
          "sex": 2,
          "year": 1990
         },
         {
          "age": 80,
          "gender": "Male",
          "people": 1.342996,
          "sex": 1,
          "year": 1990
         },
         {
          "age": 80,
          "gender": "Female",
          "people": 2.54573,
          "sex": 2,
          "year": 1990
         },
         {
          "age": 85,
          "gender": "Male",
          "people": 0.58879,
          "sex": 1,
          "year": 1990
         },
         {
          "age": 85,
          "gender": "Female",
          "people": 1.419494,
          "sex": 2,
          "year": 1990
         },
         {
          "age": 90,
          "gender": "Male",
          "people": 0.238459,
          "sex": 1,
          "year": 1990
         },
         {
          "age": 90,
          "gender": "Female",
          "people": 0.745146,
          "sex": 2,
          "year": 1990
         },
         {
          "age": 0,
          "gender": "Male",
          "people": 9.73538,
          "sex": 1,
          "year": 2000
         },
         {
          "age": 0,
          "gender": "Female",
          "people": 9.310714,
          "sex": 2,
          "year": 2000
         },
         {
          "age": 5,
          "gender": "Male",
          "people": 10.552146,
          "sex": 1,
          "year": 2000
         },
         {
          "age": 5,
          "gender": "Female",
          "people": 10.069564,
          "sex": 2,
          "year": 2000
         },
         {
          "age": 10,
          "gender": "Male",
          "people": 10.563233,
          "sex": 1,
          "year": 2000
         },
         {
          "age": 10,
          "gender": "Female",
          "people": 10.022524,
          "sex": 2,
          "year": 2000
         },
         {
          "age": 15,
          "gender": "Male",
          "people": 10.237419,
          "sex": 1,
          "year": 2000
         },
         {
          "age": 15,
          "gender": "Female",
          "people": 9.692669,
          "sex": 2,
          "year": 2000
         },
         {
          "age": 20,
          "gender": "Male",
          "people": 9.731315,
          "sex": 1,
          "year": 2000
         },
         {
          "age": 20,
          "gender": "Female",
          "people": 9.324244,
          "sex": 2,
          "year": 2000
         },
         {
          "age": 25,
          "gender": "Male",
          "people": 9.659493,
          "sex": 1,
          "year": 2000
         },
         {
          "age": 25,
          "gender": "Female",
          "people": 9.518507,
          "sex": 2,
          "year": 2000
         },
         {
          "age": 30,
          "gender": "Male",
          "people": 10.205879,
          "sex": 1,
          "year": 2000
         },
         {
          "age": 30,
          "gender": "Female",
          "people": 10.119296,
          "sex": 2,
          "year": 2000
         },
         {
          "age": 35,
          "gender": "Male",
          "people": 11.475182,
          "sex": 1,
          "year": 2000
         },
         {
          "age": 35,
          "gender": "Female",
          "people": 11.635647,
          "sex": 2,
          "year": 2000
         },
         {
          "age": 40,
          "gender": "Male",
          "people": 11.320252,
          "sex": 1,
          "year": 2000
         },
         {
          "age": 40,
          "gender": "Female",
          "people": 11.488578,
          "sex": 2,
          "year": 2000
         },
         {
          "age": 45,
          "gender": "Male",
          "people": 9.925006,
          "sex": 1,
          "year": 2000
         },
         {
          "age": 45,
          "gender": "Female",
          "people": 10.261253,
          "sex": 2,
          "year": 2000
         },
         {
          "age": 50,
          "gender": "Male",
          "people": 8.507934,
          "sex": 1,
          "year": 2000
         },
         {
          "age": 50,
          "gender": "Female",
          "people": 8.911133,
          "sex": 2,
          "year": 2000
         },
         {
          "age": 55,
          "gender": "Male",
          "people": 6.459082,
          "sex": 1,
          "year": 2000
         },
         {
          "age": 55,
          "gender": "Female",
          "people": 6.921268,
          "sex": 2,
          "year": 2000
         },
         {
          "age": 60,
          "gender": "Male",
          "people": 5.123399,
          "sex": 1,
          "year": 2000
         },
         {
          "age": 60,
          "gender": "Female",
          "people": 5.668961,
          "sex": 2,
          "year": 2000
         },
         {
          "age": 65,
          "gender": "Male",
          "people": 4.453623,
          "sex": 1,
          "year": 2000
         },
         {
          "age": 65,
          "gender": "Female",
          "people": 4.804784,
          "sex": 2,
          "year": 2000
         },
         {
          "age": 70,
          "gender": "Male",
          "people": 3.792145,
          "sex": 1,
          "year": 2000
         },
         {
          "age": 70,
          "gender": "Female",
          "people": 5.184855,
          "sex": 2,
          "year": 2000
         },
         {
          "age": 75,
          "gender": "Male",
          "people": 2.912655,
          "sex": 1,
          "year": 2000
         },
         {
          "age": 75,
          "gender": "Female",
          "people": 4.355644,
          "sex": 2,
          "year": 2000
         },
         {
          "age": 80,
          "gender": "Male",
          "people": 1.902638,
          "sex": 1,
          "year": 2000
         },
         {
          "age": 80,
          "gender": "Female",
          "people": 3.221898,
          "sex": 2,
          "year": 2000
         },
         {
          "age": 85,
          "gender": "Male",
          "people": 0.970357,
          "sex": 1,
          "year": 2000
         },
         {
          "age": 85,
          "gender": "Female",
          "people": 1.981156,
          "sex": 2,
          "year": 2000
         },
         {
          "age": 90,
          "gender": "Male",
          "people": 0.336303,
          "sex": 1,
          "year": 2000
         },
         {
          "age": 90,
          "gender": "Female",
          "people": 1.064581,
          "sex": 2,
          "year": 2000
         }
        ]
       },
       "encoding": {
        "color": {
         "field": "gender",
         "type": "nominal"
        },
        "x": {
         "aggregate": "sum",
         "axis": {
          "title": "Population in Millions"
         },
         "field": "people",
         "scale": {
          "domain": [
           0,
           44
          ]
         },
         "type": "quantitative"
        },
        "y": {
         "axis": {
          "title": "Age Group"
         },
         "bin": true,
         "field": "age",
         "type": "quantitative"
        }
       },
       "height": 300,
       "mark": {
        "opacity": 0.9,
        "type": "bar"
       },
       "selection": {
        "Select": {
         "bind": {
          "input": "range",
          "max": 2000,
          "min": 1850,
          "step": 10
         },
         "empty": "none",
         "fields": [
          "year"
         ],
         "on": "click",
         "resolve": "global",
         "type": "single"
        }
       },
       "transform": [
        {
         "filter": {
          "selection": "Select"
         }
        }
       ],
       "width": 500
      },
      "image/png": "[encoded data removed]",
      "text/plain": [
       "<VegaLite 2 object>\n",
       "\n",
       "If you see this message, it means the renderer has not been properly enabled\n",
       "for the frontend that you are using. For more information, see\n",
       "https://altair-viz.github.io/user_guide/troubleshooting.html\n"
      ]
     },
     "execution_count": 27,
     "metadata": {},
     "output_type": "execute_result"
    }
   ],
   "source": [
    "population = data.population()\n",
    "population.head()\n",
    "\n",
    "slider = alt.binding_range(min=population.year.min(), \n",
    "                           max=population.year.max(), \n",
    "                           step=10)\n",
    "\n",
    "year = alt.selection_single(name=\"Select\",\n",
    "                            fields=['year'], \n",
    "                            bind=slider,\n",
    "                            empty='none')\n",
    "\n",
    "\n",
    "(alt\n",
    " .Chart(data=(population\n",
    "              .assign(gender=lambda fr: fr['sex'].map(lambda i: 'Female' if i == 2 else 'Male'))\n",
    "              .assign(people=lambda fr: fr['people']/10**6)              \n",
    "             ),\n",
    "        height=300, \n",
    "        width=500)\n",
    " .mark_bar(opacity=0.9)\n",
    " .encode(alt.X('sum(people):Q', axis=alt.Axis(title='Population in Millions'), scale=alt.Scale(domain=(0, 44))),\n",
    "         alt.Y('age', bin=True, axis=alt.Axis(title='Age Group')),\n",
    "         alt.Color('gender:N')) \n",
    " .properties(selection=year)\n",
    " .transform_filter(year.ref())\n",
    ")"
   ]
  },
  {
   "cell_type": "code",
   "execution_count": 29,
   "metadata": {},
   "outputs": [
    {
     "data": {
      "application/vnd.vegalite.v2+json": {
       "$schema": "https://vega.github.io/schema/vega-lite/v2.4.1.json",
       "config": {
        "view": {
         "height": 300,
         "width": 400
        }
       },
       "data": {
        "values": [
         {
          "cluster": 0,
          "country": "Afghanistan",
          "fertility": 7.7,
          "life_expect": 30.332,
          "pop": 8891209,
          "year": 1955
         },
         {
          "cluster": 0,
          "country": "Afghanistan",
          "fertility": 7.7,
          "life_expect": 31.997,
          "pop": 9829450,
          "year": 1960
         },
         {
          "cluster": 0,
          "country": "Afghanistan",
          "fertility": 7.7,
          "life_expect": 34.02,
          "pop": 10997885,
          "year": 1965
         },
         {
          "cluster": 0,
          "country": "Afghanistan",
          "fertility": 7.7,
          "life_expect": 36.088,
          "pop": 12430623,
          "year": 1970
         },
         {
          "cluster": 0,
          "country": "Afghanistan",
          "fertility": 7.7,
          "life_expect": 38.438,
          "pop": 14132019,
          "year": 1975
         },
         {
          "cluster": 0,
          "country": "Afghanistan",
          "fertility": 7.8,
          "life_expect": 39.854,
          "pop": 15112149,
          "year": 1980
         },
         {
          "cluster": 0,
          "country": "Afghanistan",
          "fertility": 7.9,
          "life_expect": 40.822,
          "pop": 13796928,
          "year": 1985
         },
         {
          "cluster": 0,
          "country": "Afghanistan",
          "fertility": 8,
          "life_expect": 41.674,
          "pop": 14669339,
          "year": 1990
         },
         {
          "cluster": 0,
          "country": "Afghanistan",
          "fertility": 8,
          "life_expect": 41.763,
          "pop": 20881480,
          "year": 1995
         },
         {
          "cluster": 0,
          "country": "Afghanistan",
          "fertility": 7.4792,
          "life_expect": 42.129,
          "pop": 23898198,
          "year": 2000
         },
         {
          "cluster": 0,
          "country": "Afghanistan",
          "fertility": 7.0685,
          "life_expect": 43.828,
          "pop": 29928987,
          "year": 2005
         },
         {
          "cluster": 3,
          "country": "Argentina",
          "fertility": 3.1265,
          "life_expect": 64.399,
          "pop": 18927821,
          "year": 1955
         },
         {
          "cluster": 3,
          "country": "Argentina",
          "fertility": 3.0895,
          "life_expect": 65.142,
          "pop": 20616009,
          "year": 1960
         },
         {
          "cluster": 3,
          "country": "Argentina",
          "fertility": 3.049,
          "life_expect": 65.634,
          "pop": 22283100,
          "year": 1965
         },
         {
          "cluster": 3,
          "country": "Argentina",
          "fertility": 3.1455,
          "life_expect": 67.065,
          "pop": 23962313,
          "year": 1970
         },
         {
          "cluster": 3,
          "country": "Argentina",
          "fertility": 3.44,
          "life_expect": 68.481,
          "pop": 26081880,
          "year": 1975
         },
         {
          "cluster": 3,
          "country": "Argentina",
          "fertility": 3.15,
          "life_expect": 69.942,
          "pop": 28369799,
          "year": 1980
         },
         {
          "cluster": 3,
          "country": "Argentina",
          "fertility": 3.053,
          "life_expect": 70.774,
          "pop": 30675059,
          "year": 1985
         },
         {
          "cluster": 3,
          "country": "Argentina",
          "fertility": 2.9,
          "life_expect": 71.868,
          "pop": 33022202,
          "year": 1990
         },
         {
          "cluster": 3,
          "country": "Argentina",
          "fertility": 2.63,
          "life_expect": 73.275,
          "pop": 35311049,
          "year": 1995
         },
         {
          "cluster": 3,
          "country": "Argentina",
          "fertility": 2.35,
          "life_expect": 74.34,
          "pop": 37497728,
          "year": 2000
         },
         {
          "cluster": 3,
          "country": "Argentina",
          "fertility": 2.254,
          "life_expect": 75.32,
          "pop": 39537943,
          "year": 2005
         },
         {
          "cluster": 3,
          "country": "Aruba",
          "fertility": 5.15,
          "life_expect": 64.381,
          "pop": 53865,
          "year": 1955
         },
         {
          "cluster": 3,
          "country": "Aruba",
          "fertility": 4.399,
          "life_expect": 66.606,
          "pop": 57203,
          "year": 1960
         },
         {
          "cluster": 3,
          "country": "Aruba",
          "fertility": 3.301,
          "life_expect": 68.336,
          "pop": 59020,
          "year": 1965
         },
         {
          "cluster": 3,
          "country": "Aruba",
          "fertility": 2.651,
          "life_expect": 70.941,
          "pop": 59039,
          "year": 1970
         },
         {
          "cluster": 3,
          "country": "Aruba",
          "fertility": 2.45,
          "life_expect": 71.83,
          "pop": 59390,
          "year": 1975
         },
         {
          "cluster": 3,
          "country": "Aruba",
          "fertility": 2.358,
          "life_expect": 74.116,
          "pop": 60266,
          "year": 1980
         },
         {
          "cluster": 3,
          "country": "Aruba",
          "fertility": 2.3,
          "life_expect": 74.494,
          "pop": 64129,
          "year": 1985
         },
         {
          "cluster": 3,
          "country": "Aruba",
          "fertility": 2.2800000000000002,
          "life_expect": 74.108,
          "pop": 66653,
          "year": 1990
         },
         {
          "cluster": 3,
          "country": "Aruba",
          "fertility": 2.208,
          "life_expect": 73.011,
          "pop": 67836,
          "year": 1995
         },
         {
          "cluster": 3,
          "country": "Aruba",
          "fertility": 2.124,
          "life_expect": 73.451,
          "pop": 69539,
          "year": 2000
         },
         {
          "cluster": 3,
          "country": "Aruba",
          "fertility": 2.04,
          "life_expect": 74.239,
          "pop": 71566,
          "year": 2005
         },
         {
          "cluster": 4,
          "country": "Australia",
          "fertility": 3.406,
          "life_expect": 70.33,
          "pop": 9277087,
          "year": 1955
         },
         {
          "cluster": 4,
          "country": "Australia",
          "fertility": 3.274,
          "life_expect": 70.93,
          "pop": 10361273,
          "year": 1960
         },
         {
          "cluster": 4,
          "country": "Australia",
          "fertility": 2.871,
          "life_expect": 71.1,
          "pop": 11439384,
          "year": 1965
         },
         {
          "cluster": 4,
          "country": "Australia",
          "fertility": 2.535,
          "life_expect": 71.93,
          "pop": 12660160,
          "year": 1970
         },
         {
          "cluster": 4,
          "country": "Australia",
          "fertility": 1.9889999999999999,
          "life_expect": 73.49,
          "pop": 13771400,
          "year": 1975
         },
         {
          "cluster": 4,
          "country": "Australia",
          "fertility": 1.907,
          "life_expect": 74.74,
          "pop": 14615900,
          "year": 1980
         },
         {
          "cluster": 4,
          "country": "Australia",
          "fertility": 1.859,
          "life_expect": 76.32,
          "pop": 15788300,
          "year": 1985
         },
         {
          "cluster": 4,
          "country": "Australia",
          "fertility": 1.8599999999999999,
          "life_expect": 77.56,
          "pop": 17022133,
          "year": 1990
         },
         {
          "cluster": 4,
          "country": "Australia",
          "fertility": 1.776,
          "life_expect": 78.83,
          "pop": 18116171,
          "year": 1995
         },
         {
          "cluster": 4,
          "country": "Australia",
          "fertility": 1.756,
          "life_expect": 80.37,
          "pop": 19164620,
          "year": 2000
         },
         {
          "cluster": 4,
          "country": "Australia",
          "fertility": 1.788,
          "life_expect": 81.235,
          "pop": 20090437,
          "year": 2005
         },
         {
          "cluster": 1,
          "country": "Austria",
          "fertility": 2.52,
          "life_expect": 67.48,
          "pop": 6946885,
          "year": 1955
         },
         {
          "cluster": 1,
          "country": "Austria",
          "fertility": 2.7800000000000002,
          "life_expect": 69.54,
          "pop": 7047437,
          "year": 1960
         },
         {
          "cluster": 1,
          "country": "Austria",
          "fertility": 2.5300000000000002,
          "life_expect": 70.14,
          "pop": 7270889,
          "year": 1965
         },
         {
          "cluster": 1,
          "country": "Austria",
          "fertility": 2.02,
          "life_expect": 70.63,
          "pop": 7467086,
          "year": 1970
         },
         {
          "cluster": 1,
          "country": "Austria",
          "fertility": 1.6400000000000001,
          "life_expect": 72.17,
          "pop": 7578903,
          "year": 1975
         },
         {
          "cluster": 1,
          "country": "Austria",
          "fertility": 1.62,
          "life_expect": 73.18,
          "pop": 7549433,
          "year": 1980
         },
         {
          "cluster": 1,
          "country": "Austria",
          "fertility": 1.45,
          "life_expect": 74.94,
          "pop": 7559776,
          "year": 1985
         },
         {
          "cluster": 1,
          "country": "Austria",
          "fertility": 1.47,
          "life_expect": 76.04,
          "pop": 7722953,
          "year": 1990
         },
         {
          "cluster": 1,
          "country": "Austria",
          "fertility": 1.388,
          "life_expect": 77.51,
          "pop": 8047433,
          "year": 1995
         },
         {
          "cluster": 1,
          "country": "Austria",
          "fertility": 1.3820000000000001,
          "life_expect": 78.98,
          "pop": 8113413,
          "year": 2000
         },
         {
          "cluster": 1,
          "country": "Austria",
          "fertility": 1.42,
          "life_expect": 79.829,
          "pop": 8184691,
          "year": 2005
         },
         {
          "cluster": 3,
          "country": "Bahamas",
          "fertility": 4.305,
          "life_expect": 62.405,
          "pop": 87138,
          "year": 1955
         },
         {
          "cluster": 3,
          "country": "Bahamas",
          "fertility": 4.503,
          "life_expect": 64.209,
          "pop": 112234,
          "year": 1960
         },
         {
          "cluster": 3,
          "country": "Bahamas",
          "fertility": 3.794,
          "life_expect": 65.795,
          "pop": 139205,
          "year": 1965
         },
         {
          "cluster": 3,
          "country": "Bahamas",
          "fertility": 3.444,
          "life_expect": 66.515,
          "pop": 170323,
          "year": 1970
         },
         {
          "cluster": 3,
          "country": "Bahamas",
          "fertility": 3.221,
          "life_expect": 67.199,
          "pop": 189139,
          "year": 1975
         },
         {
          "cluster": 3,
          "country": "Bahamas",
          "fertility": 3.16,
          "life_expect": 67.874,
          "pop": 209944,
          "year": 1980
         },
         {
          "cluster": 3,
          "country": "Bahamas",
          "fertility": 2.62,
          "life_expect": 69.524,
          "pop": 234988,
          "year": 1985
         },
         {
          "cluster": 3,
          "country": "Bahamas",
          "fertility": 2.6,
          "life_expect": 69.171,
          "pop": 257253,
          "year": 1990
         },
         {
          "cluster": 3,
          "country": "Bahamas",
          "fertility": 2.4,
          "life_expect": 68.472,
          "pop": 275303,
          "year": 1995
         },
         {
          "cluster": 3,
          "country": "Bahamas",
          "fertility": 2.1111,
          "life_expect": 71.068,
          "pop": 290075,
          "year": 2000
         },
         {
          "cluster": 3,
          "country": "Bahamas",
          "fertility": 2.0221,
          "life_expect": 73.495,
          "pop": 301790,
          "year": 2005
         },
         {
          "cluster": 0,
          "country": "Bangladesh",
          "fertility": 6.76,
          "life_expect": 39.348,
          "pop": 49601520,
          "year": 1955
         },
         {
          "cluster": 0,
          "country": "Bangladesh",
          "fertility": 6.85,
          "life_expect": 41.216,
          "pop": 54621538,
          "year": 1960
         },
         {
          "cluster": 0,
          "country": "Bangladesh",
          "fertility": 6.6,
          "life_expect": 43.453,
          "pop": 60332117,
          "year": 1965
         },
         {
          "cluster": 0,
          "country": "Bangladesh",
          "fertility": 6.15,
          "life_expect": 45.252,
          "pop": 67402621,
          "year": 1970
         },
         {
          "cluster": 0,
          "country": "Bangladesh",
          "fertility": 5.6,
          "life_expect": 46.923,
          "pop": 76253310,
          "year": 1975
         },
         {
          "cluster": 0,
          "country": "Bangladesh",
          "fertility": 5.25,
          "life_expect": 50.009,
          "pop": 88076996,
          "year": 1980
         },
         {
          "cluster": 0,
          "country": "Bangladesh",
          "fertility": 4.629,
          "life_expect": 52.819,
          "pop": 99752733,
          "year": 1985
         },
         {
          "cluster": 0,
          "country": "Bangladesh",
          "fertility": 4.117,
          "life_expect": 56.018,
          "pop": 109896945,
          "year": 1990
         },
         {
          "cluster": 0,
          "country": "Bangladesh",
          "fertility": 3.5042999999999997,
          "life_expect": 59.412,
          "pop": 119186448,
          "year": 1995
         },
         {
          "cluster": 0,
          "country": "Bangladesh",
          "fertility": 3.224,
          "life_expect": 62.013,
          "pop": 130406594,
          "year": 2000
         },
         {
          "cluster": 0,
          "country": "Bangladesh",
          "fertility": 2.826,
          "life_expect": 64.062,
          "pop": 144319628,
          "year": 2005
         },
         {
          "cluster": 3,
          "country": "Barbados",
          "fertility": 4.67,
          "life_expect": 62.57,
          "pop": 227255,
          "year": 1955
         },
         {
          "cluster": 3,
          "country": "Barbados",
          "fertility": 4.26,
          "life_expect": 65.87,
          "pop": 232339,
          "year": 1960
         },
         {
          "cluster": 3,
          "country": "Barbados",
          "fertility": 3.45,
          "life_expect": 67.62,
          "pop": 234980,
          "year": 1965
         },
         {
          "cluster": 3,
          "country": "Barbados",
          "fertility": 2.74,
          "life_expect": 69.42,
          "pop": 238756,
          "year": 1970
         },
         {
          "cluster": 3,
          "country": "Barbados",
          "fertility": 2.19,
          "life_expect": 71.27,
          "pop": 247147,
          "year": 1975
         },
         {
          "cluster": 3,
          "country": "Barbados",
          "fertility": 1.92,
          "life_expect": 72.695,
          "pop": 251966,
          "year": 1980
         },
         {
          "cluster": 3,
          "country": "Barbados",
          "fertility": 1.75,
          "life_expect": 74.027,
          "pop": 257446,
          "year": 1985
         },
         {
          "cluster": 3,
          "country": "Barbados",
          "fertility": 1.6,
          "life_expect": 74.894,
          "pop": 262624,
          "year": 1990
         },
         {
          "cluster": 3,
          "country": "Barbados",
          "fertility": 1.5,
          "life_expect": 74.912,
          "pop": 267907,
          "year": 1995
         },
         {
          "cluster": 3,
          "country": "Barbados",
          "fertility": 1.5,
          "life_expect": 75.97,
          "pop": 273483,
          "year": 2000
         },
         {
          "cluster": 3,
          "country": "Barbados",
          "fertility": 1.5,
          "life_expect": 77.296,
          "pop": 278870,
          "year": 2005
         },
         {
          "cluster": 1,
          "country": "Belgium",
          "fertility": 2.496,
          "life_expect": 69.24,
          "pop": 8868475,
          "year": 1955
         },
         {
          "cluster": 1,
          "country": "Belgium",
          "fertility": 2.644,
          "life_expect": 70.25,
          "pop": 9118700,
          "year": 1960
         },
         {
          "cluster": 1,
          "country": "Belgium",
          "fertility": 2.392,
          "life_expect": 70.94,
          "pop": 9448100,
          "year": 1965
         },
         {
          "cluster": 1,
          "country": "Belgium",
          "fertility": 2.015,
          "life_expect": 71.44,
          "pop": 9637800,
          "year": 1970
         },
         {
          "cluster": 1,
          "country": "Belgium",
          "fertility": 1.705,
          "life_expect": 72.8,
          "pop": 9794800,
          "year": 1975
         },
         {
          "cluster": 1,
          "country": "Belgium",
          "fertility": 1.595,
          "life_expect": 73.93,
          "pop": 9846800,
          "year": 1980
         },
         {
          "cluster": 1,
          "country": "Belgium",
          "fertility": 1.5590000000000002,
          "life_expect": 75.35,
          "pop": 9858200,
          "year": 1985
         },
         {
          "cluster": 1,
          "country": "Belgium",
          "fertility": 1.613,
          "life_expect": 76.46,
          "pop": 9969310,
          "year": 1990
         },
         {
          "cluster": 1,
          "country": "Belgium",
          "fertility": 1.604,
          "life_expect": 77.53,
          "pop": 10155459,
          "year": 1995
         },
         {
          "cluster": 1,
          "country": "Belgium",
          "fertility": 1.638,
          "life_expect": 78.32,
          "pop": 10263618,
          "year": 2000
         },
         {
          "cluster": 1,
          "country": "Belgium",
          "fertility": 1.646,
          "life_expect": 79.441,
          "pop": 10364388,
          "year": 2005
         },
         {
          "cluster": 3,
          "country": "Bolivia",
          "fertility": 6.75,
          "life_expect": 41.89,
          "pop": 3074311,
          "year": 1955
         },
         {
          "cluster": 3,
          "country": "Bolivia",
          "fertility": 6.63,
          "life_expect": 43.428,
          "pop": 3434073,
          "year": 1960
         },
         {
          "cluster": 3,
          "country": "Bolivia",
          "fertility": 6.5600000000000005,
          "life_expect": 45.032,
          "pop": 3853315,
          "year": 1965
         },
         {
          "cluster": 3,
          "country": "Bolivia",
          "fertility": 6.5,
          "life_expect": 46.714,
          "pop": 4346218,
          "year": 1970
         },
         {
          "cluster": 3,
          "country": "Bolivia",
          "fertility": 5.8,
          "life_expect": 50.023,
          "pop": 4914316,
          "year": 1975
         },
         {
          "cluster": 3,
          "country": "Bolivia",
          "fertility": 5.2995,
          "life_expect": 53.859,
          "pop": 5441298,
          "year": 1980
         },
         {
          "cluster": 3,
          "country": "Bolivia",
          "fertility": 5,
          "life_expect": 57.251,
          "pop": 5934935,
          "year": 1985
         },
         {
          "cluster": 3,
          "country": "Bolivia",
          "fertility": 4.8,
          "life_expect": 59.957,
          "pop": 6573900,
          "year": 1990
         },
         {
          "cluster": 3,
          "country": "Bolivia",
          "fertility": 4.324,
          "life_expect": 62.05,
          "pop": 7376582,
          "year": 1995
         },
         {
          "cluster": 3,
          "country": "Bolivia",
          "fertility": 3.9585,
          "life_expect": 63.883,
          "pop": 8152620,
          "year": 2000
         },
         {
          "cluster": 3,
          "country": "Bolivia",
          "fertility": 3.5,
          "life_expect": 65.554,
          "pop": 8857870,
          "year": 2005
         },
         {
          "cluster": 3,
          "country": "Brazil",
          "fertility": 6.1501,
          "life_expect": 53.285,
          "pop": 61773546,
          "year": 1955
         },
         {
          "cluster": 3,
          "country": "Brazil",
          "fertility": 6.1501,
          "life_expect": 55.665,
          "pop": 71694810,
          "year": 1960
         },
         {
          "cluster": 3,
          "country": "Brazil",
          "fertility": 5.38,
          "life_expect": 57.632,
          "pop": 83092908,
          "year": 1965
         },
         {
          "cluster": 3,
          "country": "Brazil",
          "fertility": 4.7175,
          "life_expect": 59.504,
          "pop": 95684297,
          "year": 1970
         },
         {
          "cluster": 3,
          "country": "Brazil",
          "fertility": 4.305,
          "life_expect": 61.489,
          "pop": 108823732,
          "year": 1975
         },
         {
          "cluster": 3,
          "country": "Brazil",
          "fertility": 3.8,
          "life_expect": 63.336,
          "pop": 122958132,
          "year": 1980
         },
         {
          "cluster": 3,
          "country": "Brazil",
          "fertility": 3.1,
          "life_expect": 65.205,
          "pop": 137302933,
          "year": 1985
         },
         {
          "cluster": 3,
          "country": "Brazil",
          "fertility": 2.6,
          "life_expect": 67.057,
          "pop": 151083809,
          "year": 1990
         },
         {
          "cluster": 3,
          "country": "Brazil",
          "fertility": 2.45,
          "life_expect": 69.388,
          "pop": 163542501,
          "year": 1995
         },
         {
          "cluster": 3,
          "country": "Brazil",
          "fertility": 2.345,
          "life_expect": 71.006,
          "pop": 175552771,
          "year": 2000
         },
         {
          "cluster": 3,
          "country": "Brazil",
          "fertility": 2.245,
          "life_expect": 72.39,
          "pop": 186112794,
          "year": 2005
         },
         {
          "cluster": 3,
          "country": "Canada",
          "fertility": 3.882,
          "life_expect": 69.96,
          "pop": 16050356,
          "year": 1955
         },
         {
          "cluster": 3,
          "country": "Canada",
          "fertility": 3.675,
          "life_expect": 71.3,
          "pop": 18266765,
          "year": 1960
         },
         {
          "cluster": 3,
          "country": "Canada",
          "fertility": 2.61,
          "life_expect": 72.13,
          "pop": 20071104,
          "year": 1965
         },
         {
          "cluster": 3,
          "country": "Canada",
          "fertility": 1.976,
          "life_expect": 72.88,
          "pop": 21749986,
          "year": 1970
         },
         {
          "cluster": 3,
          "country": "Canada",
          "fertility": 1.734,
          "life_expect": 74.21,
          "pop": 23209200,
          "year": 1975
         },
         {
          "cluster": 3,
          "country": "Canada",
          "fertility": 1.634,
          "life_expect": 75.76,
          "pop": 24593300,
          "year": 1980
         },
         {
          "cluster": 3,
          "country": "Canada",
          "fertility": 1.616,
          "life_expect": 76.86,
          "pop": 25941600,
          "year": 1985
         },
         {
          "cluster": 3,
          "country": "Canada",
          "fertility": 1.694,
          "life_expect": 77.95,
          "pop": 27790600,
          "year": 1990
         },
         {
          "cluster": 3,
          "country": "Canada",
          "fertility": 1.564,
          "life_expect": 78.61,
          "pop": 29619002,
          "year": 1995
         },
         {
          "cluster": 3,
          "country": "Canada",
          "fertility": 1.522,
          "life_expect": 79.77,
          "pop": 31278097,
          "year": 2000
         },
         {
          "cluster": 3,
          "country": "Canada",
          "fertility": 1.5270000000000001,
          "life_expect": 80.653,
          "pop": 32805041,
          "year": 2005
         },
         {
          "cluster": 3,
          "country": "Chile",
          "fertility": 5.486,
          "life_expect": 56.074,
          "pop": 6743269,
          "year": 1955
         },
         {
          "cluster": 3,
          "country": "Chile",
          "fertility": 5.4385,
          "life_expect": 57.924,
          "pop": 7585349,
          "year": 1960
         },
         {
          "cluster": 3,
          "country": "Chile",
          "fertility": 4.4405,
          "life_expect": 60.523,
          "pop": 8509950,
          "year": 1965
         },
         {
          "cluster": 3,
          "country": "Chile",
          "fertility": 3.63,
          "life_expect": 63.441,
          "pop": 9368558,
          "year": 1970
         },
         {
          "cluster": 3,
          "country": "Chile",
          "fertility": 2.803,
          "life_expect": 67.052,
          "pop": 10251542,
          "year": 1975
         },
         {
          "cluster": 3,
          "country": "Chile",
          "fertility": 2.6710000000000003,
          "life_expect": 70.565,
          "pop": 11093718,
          "year": 1980
         },
         {
          "cluster": 3,
          "country": "Chile",
          "fertility": 2.65,
          "life_expect": 72.492,
          "pop": 12066701,
          "year": 1985
         },
         {
          "cluster": 3,
          "country": "Chile",
          "fertility": 2.55,
          "life_expect": 74.126,
          "pop": 13127760,
          "year": 1990
         },
         {
          "cluster": 3,
          "country": "Chile",
          "fertility": 2.21,
          "life_expect": 75.816,
          "pop": 14205449,
          "year": 1995
         },
         {
          "cluster": 3,
          "country": "Chile",
          "fertility": 2,
          "life_expect": 77.86,
          "pop": 15153450,
          "year": 2000
         },
         {
          "cluster": 3,
          "country": "Chile",
          "fertility": 1.944,
          "life_expect": 78.553,
          "pop": 15980912,
          "year": 2005
         },
         {
          "cluster": 4,
          "country": "China",
          "fertility": 5.59,
          "life_expect": 50.54896,
          "pop": 608655000,
          "year": 1955
         },
         {
          "cluster": 4,
          "country": "China",
          "fertility": 5.72,
          "life_expect": 44.50136,
          "pop": 667070000,
          "year": 1960
         },
         {
          "cluster": 4,
          "country": "China",
          "fertility": 6.06,
          "life_expect": 58.38112,
          "pop": 715185000,
          "year": 1965
         },
         {
          "cluster": 4,
          "country": "China",
          "fertility": 4.86,
          "life_expect": 63.11888,
          "pop": 818315000,
          "year": 1970
         },
         {
          "cluster": 4,
          "country": "China",
          "fertility": 3.32,
          "life_expect": 63.96736,
          "pop": 916395000,
          "year": 1975
         },
         {
          "cluster": 4,
          "country": "China",
          "fertility": 2.55,
          "life_expect": 65.525,
          "pop": 981235000,
          "year": 1980
         },
         {
          "cluster": 4,
          "country": "China",
          "fertility": 2.46,
          "life_expect": 67.274,
          "pop": 1051040000,
          "year": 1985
         },
         {
          "cluster": 4,
          "country": "China",
          "fertility": 1.92,
          "life_expect": 68.69,
          "pop": 1135185000,
          "year": 1990
         },
         {
          "cluster": 4,
          "country": "China",
          "fertility": 1.7810000000000001,
          "life_expect": 70.426,
          "pop": 1204855000,
          "year": 1995
         },
         {
          "cluster": 4,
          "country": "China",
          "fertility": 1.7000000000000002,
          "life_expect": 72.028,
          "pop": 1262645000,
          "year": 2000
         },
         {
          "cluster": 4,
          "country": "China",
          "fertility": 1.725,
          "life_expect": 72.961,
          "pop": 1303182268,
          "year": 2005
         },
         {
          "cluster": 3,
          "country": "Colombia",
          "fertility": 6.76,
          "life_expect": 55.118,
          "pop": 13588405,
          "year": 1955
         },
         {
          "cluster": 3,
          "country": "Colombia",
          "fertility": 6.76,
          "life_expect": 57.863,
          "pop": 15952727,
          "year": 1960
         },
         {
          "cluster": 3,
          "country": "Colombia",
          "fertility": 6.18,
          "life_expect": 59.963,
          "pop": 18646175,
          "year": 1965
         },
         {
          "cluster": 3,
          "country": "Colombia",
          "fertility": 5.0005,
          "life_expect": 61.623,
          "pop": 21429658,
          "year": 1970
         },
         {
          "cluster": 3,
          "country": "Colombia",
          "fertility": 4.3385,
          "life_expect": 63.837,
          "pop": 24114177,
          "year": 1975
         },
         {
          "cluster": 3,
          "country": "Colombia",
          "fertility": 3.685,
          "life_expect": 66.653,
          "pop": 26582811,
          "year": 1980
         },
         {
          "cluster": 3,
          "country": "Colombia",
          "fertility": 3.172,
          "life_expect": 67.768,
          "pop": 29678395,
          "year": 1985
         },
         {
          "cluster": 3,
          "country": "Colombia",
          "fertility": 2.93005,
          "life_expect": 68.421,
          "pop": 32858579,
          "year": 1990
         },
         {
          "cluster": 3,
          "country": "Colombia",
          "fertility": 2.7,
          "life_expect": 70.313,
          "pop": 36280883,
          "year": 1995
         },
         {
          "cluster": 3,
          "country": "Colombia",
          "fertility": 2.4705,
          "life_expect": 71.682,
          "pop": 39685655,
          "year": 2000
         },
         {
          "cluster": 3,
          "country": "Colombia",
          "fertility": 2.2205,
          "life_expect": 72.889,
          "pop": 42954279,
          "year": 2005
         },
         {
          "cluster": 3,
          "country": "Costa Rica",
          "fertility": 7.1135,
          "life_expect": 60.026,
          "pop": 1031782,
          "year": 1955
         },
         {
          "cluster": 3,
          "country": "Costa Rica",
          "fertility": 7.2245,
          "life_expect": 62.842,
          "pop": 1248022,
          "year": 1960
         },
         {
          "cluster": 3,
          "country": "Costa Rica",
          "fertility": 5.801,
          "life_expect": 65.424,
          "pop": 1487605,
          "year": 1965
         },
         {
          "cluster": 3,
          "country": "Costa Rica",
          "fertility": 4.346,
          "life_expect": 67.849,
          "pop": 1735523,
          "year": 1970
         },
         {
          "cluster": 3,
          "country": "Costa Rica",
          "fertility": 3.7755,
          "life_expect": 70.75,
          "pop": 1991580,
          "year": 1975
         },
         {
          "cluster": 3,
          "country": "Costa Rica",
          "fertility": 3.527,
          "life_expect": 73.45,
          "pop": 2299124,
          "year": 1980
         },
         {
          "cluster": 3,
          "country": "Costa Rica",
          "fertility": 3.374,
          "life_expect": 74.752,
          "pop": 2643808,
          "year": 1985
         },
         {
          "cluster": 3,
          "country": "Costa Rica",
          "fertility": 2.9450000000000003,
          "life_expect": 75.713,
          "pop": 3027175,
          "year": 1990
         },
         {
          "cluster": 3,
          "country": "Costa Rica",
          "fertility": 2.5835,
          "life_expect": 77.26,
          "pop": 3383786,
          "year": 1995
         },
         {
          "cluster": 3,
          "country": "Costa Rica",
          "fertility": 2.2815,
          "life_expect": 78.123,
          "pop": 3710558,
          "year": 2000
         },
         {
          "cluster": 3,
          "country": "Costa Rica",
          "fertility": 2.0985,
          "life_expect": 78.782,
          "pop": 4016173,
          "year": 2005
         },
         {
          "cluster": 1,
          "country": "Croatia",
          "fertility": 2.42,
          "life_expect": 64.77,
          "pop": 3955526,
          "year": 1955
         },
         {
          "cluster": 1,
          "country": "Croatia",
          "fertility": 2.27,
          "life_expect": 67.13,
          "pop": 4036145,
          "year": 1960
         },
         {
          "cluster": 1,
          "country": "Croatia",
          "fertility": 2.09,
          "life_expect": 68.5,
          "pop": 4133313,
          "year": 1965
         },
         {
          "cluster": 1,
          "country": "Croatia",
          "fertility": 1.96,
          "life_expect": 69.61,
          "pop": 4205389,
          "year": 1970
         },
         {
          "cluster": 1,
          "country": "Croatia",
          "fertility": 2.02,
          "life_expect": 70.64,
          "pop": 4255000,
          "year": 1975
         },
         {
          "cluster": 1,
          "country": "Croatia",
          "fertility": 1.96,
          "life_expect": 70.46,
          "pop": 4383000,
          "year": 1980
         },
         {
          "cluster": 1,
          "country": "Croatia",
          "fertility": 1.8399999999999999,
          "life_expect": 71.52,
          "pop": 4457874,
          "year": 1985
         },
         {
          "cluster": 1,
          "country": "Croatia",
          "fertility": 1.52,
          "life_expect": 72.527,
          "pop": 4508347,
          "year": 1990
         },
         {
          "cluster": 1,
          "country": "Croatia",
          "fertility": 1.537,
          "life_expect": 73.68,
          "pop": 4496683,
          "year": 1995
         },
         {
          "cluster": 1,
          "country": "Croatia",
          "fertility": 1.348,
          "life_expect": 74.876,
          "pop": 4410830,
          "year": 2000
         },
         {
          "cluster": 1,
          "country": "Croatia",
          "fertility": 1.346,
          "life_expect": 75.748,
          "pop": 4495904,
          "year": 2005
         },
         {
          "cluster": 3,
          "country": "Cuba",
          "fertility": 3.6995,
          "life_expect": 62.325,
          "pop": 6381106,
          "year": 1955
         },
         {
          "cluster": 3,
          "country": "Cuba",
          "fertility": 4.6805,
          "life_expect": 65.246,
          "pop": 7027210,
          "year": 1960
         },
         {
          "cluster": 3,
          "country": "Cuba",
          "fertility": 4.3,
          "life_expect": 68.29,
          "pop": 7809916,
          "year": 1965
         },
         {
          "cluster": 3,
          "country": "Cuba",
          "fertility": 3.6,
          "life_expect": 70.723,
          "pop": 8542746,
          "year": 1970
         },
         {
          "cluster": 3,
          "country": "Cuba",
          "fertility": 2.15,
          "life_expect": 72.649,
          "pop": 9290074,
          "year": 1975
         },
         {
          "cluster": 3,
          "country": "Cuba",
          "fertility": 1.8495,
          "life_expect": 73.717,
          "pop": 9652975,
          "year": 1980
         },
         {
          "cluster": 3,
          "country": "Cuba",
          "fertility": 1.8495,
          "life_expect": 74.174,
          "pop": 10078658,
          "year": 1985
         },
         {
          "cluster": 3,
          "country": "Cuba",
          "fertility": 1.6505,
          "life_expect": 74.414,
          "pop": 10544793,
          "year": 1990
         },
         {
          "cluster": 3,
          "country": "Cuba",
          "fertility": 1.6095000000000002,
          "life_expect": 76.151,
          "pop": 10896802,
          "year": 1995
         },
         {
          "cluster": 3,
          "country": "Cuba",
          "fertility": 1.63,
          "life_expect": 77.158,
          "pop": 11134273,
          "year": 2000
         },
         {
          "cluster": 3,
          "country": "Cuba",
          "fertility": 1.49,
          "life_expect": 78.273,
          "pop": 11346670,
          "year": 2005
         },
         {
          "cluster": 3,
          "country": "Dominican Republic",
          "fertility": 7.6405,
          "life_expect": 49.828,
          "pop": 2737257,
          "year": 1955
         },
         {
          "cluster": 3,
          "country": "Dominican Republic",
          "fertility": 7.3505,
          "life_expect": 53.459,
          "pop": 3231488,
          "year": 1960
         },
         {
          "cluster": 3,
          "country": "Dominican Republic",
          "fertility": 6.6495,
          "life_expect": 56.751,
          "pop": 3805881,
          "year": 1965
         },
         {
          "cluster": 3,
          "country": "Dominican Republic",
          "fertility": 5.71,
          "life_expect": 59.631,
          "pop": 4422755,
          "year": 1970
         },
         {
          "cluster": 3,
          "country": "Dominican Republic",
          "fertility": 4.76,
          "life_expect": 61.788,
          "pop": 5048499,
          "year": 1975
         },
         {
          "cluster": 3,
          "country": "Dominican Republic",
          "fertility": 4,
          "life_expect": 63.727,
          "pop": 5696855,
          "year": 1980
         },
         {
          "cluster": 3,
          "country": "Dominican Republic",
          "fertility": 3.47,
          "life_expect": 66.046,
          "pop": 6377765,
          "year": 1985
         },
         {
          "cluster": 3,
          "country": "Dominican Republic",
          "fertility": 3.1995,
          "life_expect": 68.457,
          "pop": 7077651,
          "year": 1990
         },
         {
          "cluster": 3,
          "country": "Dominican Republic",
          "fertility": 3.05,
          "life_expect": 69.957,
          "pop": 7730224,
          "year": 1995
         },
         {
          "cluster": 3,
          "country": "Dominican Republic",
          "fertility": 2.95,
          "life_expect": 70.847,
          "pop": 8385828,
          "year": 2000
         },
         {
          "cluster": 3,
          "country": "Dominican Republic",
          "fertility": 2.81,
          "life_expect": 72.235,
          "pop": 9049595,
          "year": 2005
         },
         {
          "cluster": 3,
          "country": "Ecuador",
          "fertility": 6.7,
          "life_expect": 51.356,
          "pop": 3842399,
          "year": 1955
         },
         {
          "cluster": 3,
          "country": "Ecuador",
          "fertility": 6.7,
          "life_expect": 54.64,
          "pop": 4415956,
          "year": 1960
         },
         {
          "cluster": 3,
          "country": "Ecuador",
          "fertility": 6.5,
          "life_expect": 56.678,
          "pop": 5117779,
          "year": 1965
         },
         {
          "cluster": 3,
          "country": "Ecuador",
          "fertility": 6.0005,
          "life_expect": 58.796,
          "pop": 5939246,
          "year": 1970
         },
         {
          "cluster": 3,
          "country": "Ecuador",
          "fertility": 5.4005,
          "life_expect": 61.31,
          "pop": 6871698,
          "year": 1975
         },
         {
          "cluster": 3,
          "country": "Ecuador",
          "fertility": 4.7005,
          "life_expect": 64.342,
          "pop": 7920499,
          "year": 1980
         },
         {
          "cluster": 3,
          "country": "Ecuador",
          "fertility": 4,
          "life_expect": 67.231,
          "pop": 9061664,
          "year": 1985
         },
         {
          "cluster": 3,
          "country": "Ecuador",
          "fertility": 3.4005,
          "life_expect": 69.613,
          "pop": 10318036,
          "year": 1990
         },
         {
          "cluster": 3,
          "country": "Ecuador",
          "fertility": 3.1,
          "life_expect": 72.312,
          "pop": 11438004,
          "year": 1995
         },
         {
          "cluster": 3,
          "country": "Ecuador",
          "fertility": 2.8175,
          "life_expect": 74.173,
          "pop": 12505204,
          "year": 2000
         },
         {
          "cluster": 3,
          "country": "Ecuador",
          "fertility": 2.578,
          "life_expect": 74.994,
          "pop": 13363593,
          "year": 2005
         },
         {
          "cluster": 5,
          "country": "Egypt",
          "fertility": 6.97,
          "life_expect": 44.444,
          "pop": 23855527,
          "year": 1955
         },
         {
          "cluster": 5,
          "country": "Egypt",
          "fertility": 7.073,
          "life_expect": 46.992,
          "pop": 26846610,
          "year": 1960
         },
         {
          "cluster": 5,
          "country": "Egypt",
          "fertility": 6.5600000000000005,
          "life_expect": 49.293,
          "pop": 30265148,
          "year": 1965
         },
         {
          "cluster": 5,
          "country": "Egypt",
          "fertility": 5.855,
          "life_expect": 51.137,
          "pop": 33574026,
          "year": 1970
         },
         {
          "cluster": 5,
          "country": "Egypt",
          "fertility": 5.609,
          "life_expect": 53.319,
          "pop": 36952499,
          "year": 1975
         },
         {
          "cluster": 5,
          "country": "Egypt",
          "fertility": 5.332,
          "life_expect": 56.006,
          "pop": 42634215,
          "year": 1980
         },
         {
          "cluster": 5,
          "country": "Egypt",
          "fertility": 4.833,
          "life_expect": 59.797,
          "pop": 50052381,
          "year": 1985
         },
         {
          "cluster": 5,
          "country": "Egypt",
          "fertility": 3.908,
          "life_expect": 63.674,
          "pop": 56694413,
          "year": 1990
         },
         {
          "cluster": 5,
          "country": "Egypt",
          "fertility": 3.5,
          "life_expect": 67.217,
          "pop": 63321615,
          "year": 1995
         },
         {
          "cluster": 5,
          "country": "Egypt",
          "fertility": 3.174,
          "life_expect": 69.806,
          "pop": 70492342,
          "year": 2000
         },
         {
          "cluster": 5,
          "country": "Egypt",
          "fertility": 2.891,
          "life_expect": 71.338,
          "pop": 77505756,
          "year": 2005
         },
         {
          "cluster": 3,
          "country": "El Salvador",
          "fertility": 6.8065,
          "life_expect": 48.57,
          "pop": 2221139,
          "year": 1955
         },
         {
          "cluster": 3,
          "country": "El Salvador",
          "fertility": 6.8469999999999995,
          "life_expect": 52.307,
          "pop": 2581583,
          "year": 1960
         },
         {
          "cluster": 3,
          "country": "El Salvador",
          "fertility": 6.621,
          "life_expect": 55.855,
          "pop": 3017852,
          "year": 1965
         },
         {
          "cluster": 3,
          "country": "El Salvador",
          "fertility": 6.0995,
          "life_expect": 58.207,
          "pop": 3603907,
          "year": 1970
         },
         {
          "cluster": 3,
          "country": "El Salvador",
          "fertility": 5.5996,
          "life_expect": 56.696,
          "pop": 4071179,
          "year": 1975
         },
         {
          "cluster": 3,
          "country": "El Salvador",
          "fertility": 4.5,
          "life_expect": 56.604,
          "pop": 4566199,
          "year": 1980
         },
         {
          "cluster": 3,
          "country": "El Salvador",
          "fertility": 3.901,
          "life_expect": 63.154,
          "pop": 4664361,
          "year": 1985
         },
         {
          "cluster": 3,
          "country": "El Salvador",
          "fertility": 3.52,
          "life_expect": 66.798,
          "pop": 5099884,
          "year": 1990
         },
         {
          "cluster": 3,
          "country": "El Salvador",
          "fertility": 3.17,
          "life_expect": 69.535,
          "pop": 5568437,
          "year": 1995
         },
         {
          "cluster": 3,
          "country": "El Salvador",
          "fertility": 2.883,
          "life_expect": 70.734,
          "pop": 6122515,
          "year": 2000
         },
         {
          "cluster": 3,
          "country": "El Salvador",
          "fertility": 2.6825,
          "life_expect": 71.878,
          "pop": 6704932,
          "year": 2005
         },
         {
          "cluster": 1,
          "country": "Finland",
          "fertility": 2.769,
          "life_expect": 67.49,
          "pop": 4234900,
          "year": 1955
         },
         {
          "cluster": 1,
          "country": "Finland",
          "fertility": 2.66,
          "life_expect": 68.75,
          "pop": 4429600,
          "year": 1960
         },
         {
          "cluster": 1,
          "country": "Finland",
          "fertility": 2.191,
          "life_expect": 69.83,
          "pop": 4563732,
          "year": 1965
         },
         {
          "cluster": 1,
          "country": "Finland",
          "fertility": 1.623,
          "life_expect": 70.87,
          "pop": 4606307,
          "year": 1970
         },
         {
          "cluster": 1,
          "country": "Finland",
          "fertility": 1.663,
          "life_expect": 72.52,
          "pop": 4711439,
          "year": 1975
         },
         {
          "cluster": 1,
          "country": "Finland",
          "fertility": 1.685,
          "life_expect": 74.55,
          "pop": 4779535,
          "year": 1980
         },
         {
          "cluster": 1,
          "country": "Finland",
          "fertility": 1.6600000000000001,
          "life_expect": 74.83,
          "pop": 4901783,
          "year": 1985
         },
         {
          "cluster": 1,
          "country": "Finland",
          "fertility": 1.819,
          "life_expect": 75.7,
          "pop": 4986431,
          "year": 1990
         },
         {
          "cluster": 1,
          "country": "Finland",
          "fertility": 1.7429999999999999,
          "life_expect": 77.13,
          "pop": 5104654,
          "year": 1995
         },
         {
          "cluster": 1,
          "country": "Finland",
          "fertility": 1.754,
          "life_expect": 78.37,
          "pop": 5168595,
          "year": 2000
         },
         {
          "cluster": 1,
          "country": "Finland",
          "fertility": 1.8250000000000002,
          "life_expect": 79.313,
          "pop": 5223442,
          "year": 2005
         },
         {
          "cluster": 1,
          "country": "France",
          "fertility": 2.7119999999999997,
          "life_expect": 68.93,
          "pop": 43427669,
          "year": 1955
         },
         {
          "cluster": 1,
          "country": "France",
          "fertility": 2.85,
          "life_expect": 70.51,
          "pop": 45670000,
          "year": 1960
         },
         {
          "cluster": 1,
          "country": "France",
          "fertility": 2.607,
          "life_expect": 71.55,
          "pop": 48763000,
          "year": 1965
         },
         {
          "cluster": 1,
          "country": "France",
          "fertility": 2.31,
          "life_expect": 72.38,
          "pop": 50787000,
          "year": 1970
         },
         {
          "cluster": 1,
          "country": "France",
          "fertility": 1.862,
          "life_expect": 73.83,
          "pop": 52758427,
          "year": 1975
         },
         {
          "cluster": 1,
          "country": "France",
          "fertility": 1.866,
          "life_expect": 74.89,
          "pop": 53869743,
          "year": 1980
         },
         {
          "cluster": 1,
          "country": "France",
          "fertility": 1.8050000000000002,
          "life_expect": 76.34,
          "pop": 55171224,
          "year": 1985
         },
         {
          "cluster": 1,
          "country": "France",
          "fertility": 1.713,
          "life_expect": 77.46,
          "pop": 56735161,
          "year": 1990
         },
         {
          "cluster": 1,
          "country": "France",
          "fertility": 1.7624,
          "life_expect": 78.64,
          "pop": 58149727,
          "year": 1995
         },
         {
          "cluster": 1,
          "country": "France",
          "fertility": 1.8833000000000002,
          "life_expect": 79.59,
          "pop": 59381628,
          "year": 2000
         },
         {
          "cluster": 1,
          "country": "France",
          "fertility": 1.8916,
          "life_expect": 80.657,
          "pop": 60656178,
          "year": 2005
         },
         {
          "cluster": 1,
          "country": "Georgia",
          "fertility": 2.909,
          "life_expect": 62.625,
          "pop": 3827154,
          "year": 1955
         },
         {
          "cluster": 1,
          "country": "Georgia",
          "fertility": 2.979,
          "life_expect": 64.644,
          "pop": 4146570,
          "year": 1960
         },
         {
          "cluster": 1,
          "country": "Georgia",
          "fertility": 2.6109999999999998,
          "life_expect": 66.654,
          "pop": 4464959,
          "year": 1965
         },
         {
          "cluster": 1,
          "country": "Georgia",
          "fertility": 2.601,
          "life_expect": 68.158,
          "pop": 4694491,
          "year": 1970
         },
         {
          "cluster": 1,
          "country": "Georgia",
          "fertility": 2.39,
          "life_expect": 69.634,
          "pop": 4897656,
          "year": 1975
         },
         {
          "cluster": 1,
          "country": "Georgia",
          "fertility": 2.269,
          "life_expect": 69.638,
          "pop": 5045697,
          "year": 1980
         },
         {
          "cluster": 1,
          "country": "Georgia",
          "fertility": 2.263,
          "life_expect": 70.45,
          "pop": 5192957,
          "year": 1985
         },
         {
          "cluster": 1,
          "country": "Georgia",
          "fertility": 1.9500000000000002,
          "life_expect": 70.465,
          "pop": 5426207,
          "year": 1990
         },
         {
          "cluster": 1,
          "country": "Georgia",
          "fertility": 1.58,
          "life_expect": 70.49,
          "pop": 5012952,
          "year": 1995
         },
         {
          "cluster": 1,
          "country": "Georgia",
          "fertility": 1.478,
          "life_expect": 70.476,
          "pop": 4777209,
          "year": 2000
         },
         {
          "cluster": 1,
          "country": "Georgia",
          "fertility": 1.407,
          "life_expect": 70.987,
          "pop": 4677401,
          "year": 2005
         },
         {
          "cluster": 1,
          "country": "Germany",
          "fertility": 2.3,
          "life_expect": 69.1,
          "pop": 70195612,
          "year": 1955
         },
         {
          "cluster": 1,
          "country": "Germany",
          "fertility": 2.49,
          "life_expect": 70.3,
          "pop": 72480869,
          "year": 1960
         },
         {
          "cluster": 1,
          "country": "Germany",
          "fertility": 2.32,
          "life_expect": 70.8,
          "pop": 75638851,
          "year": 1965
         },
         {
          "cluster": 1,
          "country": "Germany",
          "fertility": 1.6400000000000001,
          "life_expect": 71,
          "pop": 77783164,
          "year": 1970
         },
         {
          "cluster": 1,
          "country": "Germany",
          "fertility": 1.52,
          "life_expect": 72.5,
          "pop": 78682325,
          "year": 1975
         },
         {
          "cluster": 1,
          "country": "Germany",
          "fertility": 1.46,
          "life_expect": 73.8,
          "pop": 78297904,
          "year": 1980
         },
         {
          "cluster": 1,
          "country": "Germany",
          "fertility": 1.43,
          "life_expect": 74.847,
          "pop": 77684907,
          "year": 1985
         },
         {
          "cluster": 1,
          "country": "Germany",
          "fertility": 1.31,
          "life_expect": 76.07,
          "pop": 79380394,
          "year": 1990
         },
         {
          "cluster": 1,
          "country": "Germany",
          "fertility": 1.34,
          "life_expect": 77.34,
          "pop": 81653702,
          "year": 1995
         },
         {
          "cluster": 1,
          "country": "Germany",
          "fertility": 1.346,
          "life_expect": 78.67,
          "pop": 82187909,
          "year": 2000
         },
         {
          "cluster": 1,
          "country": "Germany",
          "fertility": 1.3599999999999999,
          "life_expect": 79.406,
          "pop": 82431390,
          "year": 2005
         },
         {
          "cluster": 1,
          "country": "Greece",
          "fertility": 2.27,
          "life_expect": 67.86,
          "pop": 7965538,
          "year": 1955
         },
         {
          "cluster": 1,
          "country": "Greece",
          "fertility": 2.2,
          "life_expect": 69.51,
          "pop": 8327405,
          "year": 1960
         },
         {
          "cluster": 1,
          "country": "Greece",
          "fertility": 2.38,
          "life_expect": 71,
          "pop": 8550333,
          "year": 1965
         },
         {
          "cluster": 1,
          "country": "Greece",
          "fertility": 2.32,
          "life_expect": 72.34,
          "pop": 8792806,
          "year": 1970
         },
         {
          "cluster": 1,
          "country": "Greece",
          "fertility": 2.32,
          "life_expect": 73.68,
          "pop": 9046542,
          "year": 1975
         },
         {
          "cluster": 1,
          "country": "Greece",
          "fertility": 1.96,
          "life_expect": 75.24,
          "pop": 9642505,
          "year": 1980
         },
         {
          "cluster": 1,
          "country": "Greece",
          "fertility": 1.53,
          "life_expect": 76.67,
          "pop": 9923253,
          "year": 1985
         },
         {
          "cluster": 1,
          "country": "Greece",
          "fertility": 1.37,
          "life_expect": 77.03,
          "pop": 10129603,
          "year": 1990
         },
         {
          "cluster": 1,
          "country": "Greece",
          "fertility": 1.296,
          "life_expect": 77.869,
          "pop": 10457554,
          "year": 1995
         },
         {
          "cluster": 1,
          "country": "Greece",
          "fertility": 1.2770000000000001,
          "life_expect": 78.256,
          "pop": 10559110,
          "year": 2000
         },
         {
          "cluster": 1,
          "country": "Greece",
          "fertility": 1.325,
          "life_expect": 79.483,
          "pop": 10668354,
          "year": 2005
         },
         {
          "cluster": 3,
          "country": "Grenada",
          "fertility": 6.7,
          "life_expect": 63.114,
          "pop": 84621,
          "year": 1955
         },
         {
          "cluster": 3,
          "country": "Grenada",
          "fertility": 6.4,
          "life_expect": 63.608,
          "pop": 90148,
          "year": 1960
         },
         {
          "cluster": 3,
          "country": "Grenada",
          "fertility": 4.8,
          "life_expect": 64.091,
          "pop": 93290,
          "year": 1965
         },
         {
          "cluster": 3,
          "country": "Grenada",
          "fertility": 4.6,
          "life_expect": 64.577,
          "pop": 95410,
          "year": 1970
         },
         {
          "cluster": 3,
          "country": "Grenada",
          "fertility": 4.3,
          "life_expect": 65.035,
          "pop": 95819,
          "year": 1975
         },
         {
          "cluster": 3,
          "country": "Grenada",
          "fertility": 4.23,
          "life_expect": 65.503,
          "pop": 90164,
          "year": 1980
         },
         {
          "cluster": 3,
          "country": "Grenada",
          "fertility": 4.14,
          "life_expect": 66.002,
          "pop": 92203,
          "year": 1985
         },
         {
          "cluster": 3,
          "country": "Grenada",
          "fertility": 3.26,
          "life_expect": 66.469,
          "pop": 92360,
          "year": 1990
         },
         {
          "cluster": 3,
          "country": "Grenada",
          "fertility": 2.814,
          "life_expect": 66.986,
          "pop": 90603,
          "year": 1995
         },
         {
          "cluster": 3,
          "country": "Grenada",
          "fertility": 2.429,
          "life_expect": 67.746,
          "pop": 89312,
          "year": 2000
         },
         {
          "cluster": 3,
          "country": "Grenada",
          "fertility": 2.302,
          "life_expect": 68.724,
          "pop": 89502,
          "year": 2005
         },
         {
          "cluster": 3,
          "country": "Haiti",
          "fertility": 6.3,
          "life_expect": 40.696,
          "pop": 3376419,
          "year": 1955
         },
         {
          "cluster": 3,
          "country": "Haiti",
          "fertility": 6.3,
          "life_expect": 43.59,
          "pop": 3722743,
          "year": 1960
         },
         {
          "cluster": 3,
          "country": "Haiti",
          "fertility": 6,
          "life_expect": 46.243,
          "pop": 4137405,
          "year": 1965
         },
         {
          "cluster": 3,
          "country": "Haiti",
          "fertility": 5.6005,
          "life_expect": 48.042,
          "pop": 4604915,
          "year": 1970
         },
         {
          "cluster": 3,
          "country": "Haiti",
          "fertility": 5.8,
          "life_expect": 49.923,
          "pop": 4828338,
          "year": 1975
         },
         {
          "cluster": 3,
          "country": "Haiti",
          "fertility": 6.2099,
          "life_expect": 51.461,
          "pop": 5029725,
          "year": 1980
         },
         {
          "cluster": 3,
          "country": "Haiti",
          "fertility": 5.69985,
          "life_expect": 53.636,
          "pop": 5517977,
          "year": 1985
         },
         {
          "cluster": 3,
          "country": "Haiti",
          "fertility": 5.14985,
          "life_expect": 55.089,
          "pop": 6126101,
          "year": 1990
         },
         {
          "cluster": 3,
          "country": "Haiti",
          "fertility": 4.61995,
          "life_expect": 56.671,
          "pop": 6675578,
          "year": 1995
         },
         {
          "cluster": 3,
          "country": "Haiti",
          "fertility": 4,
          "life_expect": 58.137,
          "pop": 7306302,
          "year": 2000
         },
         {
          "cluster": 3,
          "country": "Haiti",
          "fertility": 3.5445,
          "life_expect": 60.916,
          "pop": 8121622,
          "year": 2005
         },
         {
          "cluster": 4,
          "country": "Hong Kong",
          "fertility": 4.72,
          "life_expect": 64.75,
          "pop": 2490400,
          "year": 1955
         },
         {
          "cluster": 4,
          "country": "Hong Kong",
          "fertility": 5.31,
          "life_expect": 67.65,
          "pop": 3075300,
          "year": 1960
         },
         {
          "cluster": 4,
          "country": "Hong Kong",
          "fertility": 4.02,
          "life_expect": 70,
          "pop": 3597900,
          "year": 1965
         },
         {
          "cluster": 4,
          "country": "Hong Kong",
          "fertility": 2.89,
          "life_expect": 72,
          "pop": 3959000,
          "year": 1970
         },
         {
          "cluster": 4,
          "country": "Hong Kong",
          "fertility": 2.32,
          "life_expect": 73.6,
          "pop": 4395800,
          "year": 1975
         },
         {
          "cluster": 4,
          "country": "Hong Kong",
          "fertility": 1.8,
          "life_expect": 75.45,
          "pop": 5063100,
          "year": 1980
         },
         {
          "cluster": 4,
          "country": "Hong Kong",
          "fertility": 1.31,
          "life_expect": 76.2,
          "pop": 5456200,
          "year": 1985
         },
         {
          "cluster": 4,
          "country": "Hong Kong",
          "fertility": 1.288,
          "life_expect": 77.601,
          "pop": 5687959,
          "year": 1990
         },
         {
          "cluster": 4,
          "country": "Hong Kong",
          "fertility": 1.08,
          "life_expect": 80,
          "pop": 6225347,
          "year": 1995
         },
         {
          "cluster": 4,
          "country": "Hong Kong",
          "fertility": 0.9400000000000001,
          "life_expect": 81.495,
          "pop": 6658720,
          "year": 2000
         },
         {
          "cluster": 4,
          "country": "Hong Kong",
          "fertility": 0.966,
          "life_expect": 82.208,
          "pop": 6898686,
          "year": 2005
         },
         {
          "cluster": 1,
          "country": "Iceland",
          "fertility": 4.023,
          "life_expect": 73.47,
          "pop": 158044,
          "year": 1955
         },
         {
          "cluster": 1,
          "country": "Iceland",
          "fertility": 3.943,
          "life_expect": 73.68,
          "pop": 175860,
          "year": 1960
         },
         {
          "cluster": 1,
          "country": "Iceland",
          "fertility": 3.154,
          "life_expect": 73.73,
          "pop": 192288,
          "year": 1965
         },
         {
          "cluster": 1,
          "country": "Iceland",
          "fertility": 2.843,
          "life_expect": 74.46,
          "pop": 204104,
          "year": 1970
         },
         {
          "cluster": 1,
          "country": "Iceland",
          "fertility": 2.287,
          "life_expect": 76.11,
          "pop": 218031,
          "year": 1975
         },
         {
          "cluster": 1,
          "country": "Iceland",
          "fertility": 2.248,
          "life_expect": 76.99,
          "pop": 228161,
          "year": 1980
         },
         {
          "cluster": 1,
          "country": "Iceland",
          "fertility": 2.116,
          "life_expect": 77.23,
          "pop": 241403,
          "year": 1985
         },
         {
          "cluster": 1,
          "country": "Iceland",
          "fertility": 2.194,
          "life_expect": 78.77,
          "pop": 254719,
          "year": 1990
         },
         {
          "cluster": 1,
          "country": "Iceland",
          "fertility": 2.056,
          "life_expect": 78.95,
          "pop": 267527,
          "year": 1995
         },
         {
          "cluster": 1,
          "country": "Iceland",
          "fertility": 1.9929999999999999,
          "life_expect": 80.5,
          "pop": 281043,
          "year": 2000
         },
         {
          "cluster": 1,
          "country": "Iceland",
          "fertility": 2.052,
          "life_expect": 81.757,
          "pop": 296737,
          "year": 2005
         },
         {
          "cluster": 0,
          "country": "India",
          "fertility": 5.8961,
          "life_expect": 40.249,
          "pop": 393000000,
          "year": 1955
         },
         {
          "cluster": 0,
          "country": "India",
          "fertility": 5.8216,
          "life_expect": 43.605,
          "pop": 434000000,
          "year": 1960
         },
         {
          "cluster": 0,
          "country": "India",
          "fertility": 5.6058,
          "life_expect": 47.193,
          "pop": 485000000,
          "year": 1965
         },
         {
          "cluster": 0,
          "country": "India",
          "fertility": 5.264,
          "life_expect": 50.651,
          "pop": 541000000,
          "year": 1970
         },
         {
          "cluster": 0,
          "country": "India",
          "fertility": 4.8888,
          "life_expect": 54.208,
          "pop": 607000000,
          "year": 1975
         },
         {
          "cluster": 0,
          "country": "India",
          "fertility": 4.4975,
          "life_expect": 56.596,
          "pop": 679000000,
          "year": 1980
         },
         {
          "cluster": 0,
          "country": "India",
          "fertility": 4.15,
          "life_expect": 58.553,
          "pop": 755000000,
          "year": 1985
         },
         {
          "cluster": 0,
          "country": "India",
          "fertility": 3.8648,
          "life_expect": 60.223,
          "pop": 839000000,
          "year": 1990
         },
         {
          "cluster": 0,
          "country": "India",
          "fertility": 3.4551,
          "life_expect": 61.765,
          "pop": 927000000,
          "year": 1995
         },
         {
          "cluster": 0,
          "country": "India",
          "fertility": 3.1132,
          "life_expect": 62.879,
          "pop": 1007702000,
          "year": 2000
         },
         {
          "cluster": 0,
          "country": "India",
          "fertility": 2.8073,
          "life_expect": 64.698,
          "pop": 1080264388,
          "year": 2005
         },
         {
          "cluster": 4,
          "country": "Indonesia",
          "fertility": 5.672,
          "life_expect": 39.918,
          "pop": 86807000,
          "year": 1955
         },
         {
          "cluster": 4,
          "country": "Indonesia",
          "fertility": 5.62,
          "life_expect": 42.518,
          "pop": 95254000,
          "year": 1960
         },
         {
          "cluster": 4,
          "country": "Indonesia",
          "fertility": 5.568,
          "life_expect": 45.964,
          "pop": 105093000,
          "year": 1965
         },
         {
          "cluster": 4,
          "country": "Indonesia",
          "fertility": 5.3,
          "life_expect": 49.203,
          "pop": 116044000,
          "year": 1970
         },
         {
          "cluster": 4,
          "country": "Indonesia",
          "fertility": 4.73,
          "life_expect": 52.702,
          "pop": 130297000,
          "year": 1975
         },
         {
          "cluster": 4,
          "country": "Indonesia",
          "fertility": 4.109,
          "life_expect": 56.159,
          "pop": 146995000,
          "year": 1980
         },
         {
          "cluster": 4,
          "country": "Indonesia",
          "fertility": 3.4,
          "life_expect": 60.137,
          "pop": 163403000,
          "year": 1985
         },
         {
          "cluster": 4,
          "country": "Indonesia",
          "fertility": 2.9,
          "life_expect": 62.681,
          "pop": 178500000,
          "year": 1990
         },
         {
          "cluster": 4,
          "country": "Indonesia",
          "fertility": 2.55,
          "life_expect": 66.041,
          "pop": 194755000,
          "year": 1995
         },
         {
          "cluster": 4,
          "country": "Indonesia",
          "fertility": 2.3761,
          "life_expect": 68.588,
          "pop": 206265000,
          "year": 2000
         },
         {
          "cluster": 4,
          "country": "Indonesia",
          "fertility": 2.182,
          "life_expect": 70.65,
          "pop": 218465000,
          "year": 2005
         },
         {
          "cluster": 5,
          "country": "Iran",
          "fertility": 7,
          "life_expect": 47.181,
          "pop": 18729000,
          "year": 1955
         },
         {
          "cluster": 5,
          "country": "Iran",
          "fertility": 7,
          "life_expect": 49.325,
          "pop": 21577000,
          "year": 1960
         },
         {
          "cluster": 5,
          "country": "Iran",
          "fertility": 6.8,
          "life_expect": 52.469,
          "pop": 25000000,
          "year": 1965
         },
         {
          "cluster": 5,
          "country": "Iran",
          "fertility": 6.4,
          "life_expect": 55.234,
          "pop": 28933000,
          "year": 1970
         },
         {
          "cluster": 5,
          "country": "Iran",
          "fertility": 6.5,
          "life_expect": 57.702,
          "pop": 33379000,
          "year": 1975
         },
         {
          "cluster": 5,
          "country": "Iran",
          "fertility": 6.63,
          "life_expect": 59.62,
          "pop": 39583397,
          "year": 1980
         },
         {
          "cluster": 5,
          "country": "Iran",
          "fertility": 5.62,
          "life_expect": 63.04,
          "pop": 48439952,
          "year": 1985
         },
         {
          "cluster": 5,
          "country": "Iran",
          "fertility": 4.328,
          "life_expect": 65.742,
          "pop": 57035717,
          "year": 1990
         },
         {
          "cluster": 5,
          "country": "Iran",
          "fertility": 2.534,
          "life_expect": 68.042,
          "pop": 61628116,
          "year": 1995
         },
         {
          "cluster": 5,
          "country": "Iran",
          "fertility": 2.124,
          "life_expect": 69.451,
          "pop": 65660289,
          "year": 2000
         },
         {
          "cluster": 5,
          "country": "Iran",
          "fertility": 2.04,
          "life_expect": 70.964,
          "pop": 68017860,
          "year": 2005
         },
         {
          "cluster": 5,
          "country": "Iraq",
          "fertility": 7.3,
          "life_expect": 48.437,
          "pop": 5903253,
          "year": 1955
         },
         {
          "cluster": 5,
          "country": "Iraq",
          "fertility": 7.25,
          "life_expect": 51.457,
          "pop": 6822030,
          "year": 1960
         },
         {
          "cluster": 5,
          "country": "Iraq",
          "fertility": 7.2,
          "life_expect": 54.459,
          "pop": 7970746,
          "year": 1965
         },
         {
          "cluster": 5,
          "country": "Iraq",
          "fertility": 7.15,
          "life_expect": 56.95,
          "pop": 9413671,
          "year": 1970
         },
         {
          "cluster": 5,
          "country": "Iraq",
          "fertility": 6.8,
          "life_expect": 60.413,
          "pop": 11117804,
          "year": 1975
         },
         {
          "cluster": 5,
          "country": "Iraq",
          "fertility": 6.35,
          "life_expect": 62.038,
          "pop": 13232839,
          "year": 1980
         },
         {
          "cluster": 5,
          "country": "Iraq",
          "fertility": 6.15,
          "life_expect": 65.044,
          "pop": 15693620,
          "year": 1985
         },
         {
          "cluster": 5,
          "country": "Iraq",
          "fertility": 5.7,
          "life_expect": 59.461,
          "pop": 18134702,
          "year": 1990
         },
         {
          "cluster": 5,
          "country": "Iraq",
          "fertility": 5.37,
          "life_expect": 58.811,
          "pop": 19557247,
          "year": 1995
         },
         {
          "cluster": 5,
          "country": "Iraq",
          "fertility": 4.858,
          "life_expect": 57.046,
          "pop": 22675617,
          "year": 2000
         },
         {
          "cluster": 5,
          "country": "Iraq",
          "fertility": 4.264,
          "life_expect": 59.545,
          "pop": 26074906,
          "year": 2005
         },
         {
          "cluster": 1,
          "country": "Ireland",
          "fertility": 3.68,
          "life_expect": 68.9,
          "pop": 2916133,
          "year": 1955
         },
         {
          "cluster": 1,
          "country": "Ireland",
          "fertility": 3.979,
          "life_expect": 70.29,
          "pop": 2832000,
          "year": 1960
         },
         {
          "cluster": 1,
          "country": "Ireland",
          "fertility": 3.873,
          "life_expect": 71.08,
          "pop": 2876000,
          "year": 1965
         },
         {
          "cluster": 1,
          "country": "Ireland",
          "fertility": 3.815,
          "life_expect": 71.28,
          "pop": 2950100,
          "year": 1970
         },
         {
          "cluster": 1,
          "country": "Ireland",
          "fertility": 3.478,
          "life_expect": 72.03,
          "pop": 3177300,
          "year": 1975
         },
         {
          "cluster": 1,
          "country": "Ireland",
          "fertility": 2.877,
          "life_expect": 73.1,
          "pop": 3401000,
          "year": 1980
         },
         {
          "cluster": 1,
          "country": "Ireland",
          "fertility": 2.287,
          "life_expect": 74.36,
          "pop": 3540000,
          "year": 1985
         },
         {
          "cluster": 1,
          "country": "Ireland",
          "fertility": 1.9689999999999999,
          "life_expect": 75.467,
          "pop": 3508200,
          "year": 1990
         },
         {
          "cluster": 1,
          "country": "Ireland",
          "fertility": 1.9,
          "life_expect": 76.122,
          "pop": 3613890,
          "year": 1995
         },
         {
          "cluster": 1,
          "country": "Ireland",
          "fertility": 1.9689999999999999,
          "life_expect": 77.783,
          "pop": 3791690,
          "year": 2000
         },
         {
          "cluster": 1,
          "country": "Ireland",
          "fertility": 1.964,
          "life_expect": 78.885,
          "pop": 4015676,
          "year": 2005
         },
         {
          "cluster": 5,
          "country": "Israel",
          "fertility": 3.893,
          "life_expect": 67.84,
          "pop": 1772032,
          "year": 1955
         },
         {
          "cluster": 5,
          "country": "Israel",
          "fertility": 3.852,
          "life_expect": 69.39,
          "pop": 2141495,
          "year": 1960
         },
         {
          "cluster": 5,
          "country": "Israel",
          "fertility": 3.79,
          "life_expect": 70.75,
          "pop": 2578184,
          "year": 1965
         },
         {
          "cluster": 5,
          "country": "Israel",
          "fertility": 3.77,
          "life_expect": 71.63,
          "pop": 2903434,
          "year": 1970
         },
         {
          "cluster": 5,
          "country": "Israel",
          "fertility": 3.409,
          "life_expect": 73.06,
          "pop": 3354242,
          "year": 1975
         },
         {
          "cluster": 5,
          "country": "Israel",
          "fertility": 3.125,
          "life_expect": 74.45,
          "pop": 3737473,
          "year": 1980
         },
         {
          "cluster": 5,
          "country": "Israel",
          "fertility": 3.051,
          "life_expect": 75.6,
          "pop": 4074965,
          "year": 1985
         },
         {
          "cluster": 5,
          "country": "Israel",
          "fertility": 2.933,
          "life_expect": 76.93,
          "pop": 4512068,
          "year": 1990
         },
         {
          "cluster": 5,
          "country": "Israel",
          "fertility": 2.942,
          "life_expect": 78.269,
          "pop": 5305120,
          "year": 1995
         },
         {
          "cluster": 5,
          "country": "Israel",
          "fertility": 2.906,
          "life_expect": 79.696,
          "pop": 5842454,
          "year": 2000
         },
         {
          "cluster": 5,
          "country": "Israel",
          "fertility": 2.75,
          "life_expect": 80.745,
          "pop": 6276883,
          "year": 2005
         },
         {
          "cluster": 1,
          "country": "Italy",
          "fertility": 2.35,
          "life_expect": 67.81,
          "pop": 48633000,
          "year": 1955
         },
         {
          "cluster": 1,
          "country": "Italy",
          "fertility": 2.498,
          "life_expect": 69.24,
          "pop": 50197600,
          "year": 1960
         },
         {
          "cluster": 1,
          "country": "Italy",
          "fertility": 2.493,
          "life_expect": 71.06,
          "pop": 51987100,
          "year": 1965
         },
         {
          "cluster": 1,
          "country": "Italy",
          "fertility": 2.325,
          "life_expect": 72.19,
          "pop": 53661100,
          "year": 1970
         },
         {
          "cluster": 1,
          "country": "Italy",
          "fertility": 1.889,
          "life_expect": 73.48,
          "pop": 55571894,
          "year": 1975
         },
         {
          "cluster": 1,
          "country": "Italy",
          "fertility": 1.53,
          "life_expect": 74.98,
          "pop": 56451247,
          "year": 1980
         },
         {
          "cluster": 1,
          "country": "Italy",
          "fertility": 1.349,
          "life_expect": 76.42,
          "pop": 56731215,
          "year": 1985
         },
         {
          "cluster": 1,
          "country": "Italy",
          "fertility": 1.275,
          "life_expect": 77.44,
          "pop": 56742886,
          "year": 1990
         },
         {
          "cluster": 1,
          "country": "Italy",
          "fertility": 1.213,
          "life_expect": 78.82,
          "pop": 57274531,
          "year": 1995
         },
         {
          "cluster": 1,
          "country": "Italy",
          "fertility": 1.286,
          "life_expect": 80.24,
          "pop": 57719337,
          "year": 2000
         },
         {
          "cluster": 1,
          "country": "Italy",
          "fertility": 1.379,
          "life_expect": 80.546,
          "pop": 58103033,
          "year": 2005
         },
         {
          "cluster": 3,
          "country": "Jamaica",
          "fertility": 5.08,
          "life_expect": 62.61,
          "pop": 1488805,
          "year": 1955
         },
         {
          "cluster": 3,
          "country": "Jamaica",
          "fertility": 5.64,
          "life_expect": 65.61,
          "pop": 1631784,
          "year": 1960
         },
         {
          "cluster": 3,
          "country": "Jamaica",
          "fertility": 5.78,
          "life_expect": 67.51,
          "pop": 1777397,
          "year": 1965
         },
         {
          "cluster": 3,
          "country": "Jamaica",
          "fertility": 5,
          "life_expect": 69,
          "pop": 1943787,
          "year": 1970
         },
         {
          "cluster": 3,
          "country": "Jamaica",
          "fertility": 4,
          "life_expect": 70.11,
          "pop": 2104879,
          "year": 1975
         },
         {
          "cluster": 3,
          "country": "Jamaica",
          "fertility": 3.55,
          "life_expect": 71.21,
          "pop": 2228803,
          "year": 1980
         },
         {
          "cluster": 3,
          "country": "Jamaica",
          "fertility": 3.1,
          "life_expect": 71.77,
          "pop": 2318652,
          "year": 1985
         },
         {
          "cluster": 3,
          "country": "Jamaica",
          "fertility": 2.84,
          "life_expect": 71.766,
          "pop": 2347922,
          "year": 1990
         },
         {
          "cluster": 3,
          "country": "Jamaica",
          "fertility": 2.67,
          "life_expect": 72.262,
          "pop": 2469389,
          "year": 1995
         },
         {
          "cluster": 3,
          "country": "Jamaica",
          "fertility": 2.628,
          "life_expect": 72.047,
          "pop": 2615467,
          "year": 2000
         },
         {
          "cluster": 3,
          "country": "Jamaica",
          "fertility": 2.4289,
          "life_expect": 72.567,
          "pop": 2735520,
          "year": 2005
         },
         {
          "cluster": 4,
          "country": "Japan",
          "fertility": 2.08,
          "life_expect": 65.5,
          "pop": 89815060,
          "year": 1955
         },
         {
          "cluster": 4,
          "country": "Japan",
          "fertility": 2.02,
          "life_expect": 68.73,
          "pop": 94091638,
          "year": 1960
         },
         {
          "cluster": 4,
          "country": "Japan",
          "fertility": 2,
          "life_expect": 71.43,
          "pop": 98882534,
          "year": 1965
         },
         {
          "cluster": 4,
          "country": "Japan",
          "fertility": 2.07,
          "life_expect": 73.42,
          "pop": 104344973,
          "year": 1970
         },
         {
          "cluster": 4,
          "country": "Japan",
          "fertility": 1.81,
          "life_expect": 75.38,
          "pop": 111573116,
          "year": 1975
         },
         {
          "cluster": 4,
          "country": "Japan",
          "fertility": 1.76,
          "life_expect": 77.11,
          "pop": 116807309,
          "year": 1980
         },
         {
          "cluster": 4,
          "country": "Japan",
          "fertility": 1.6600000000000001,
          "life_expect": 78.67,
          "pop": 120754335,
          "year": 1985
         },
         {
          "cluster": 4,
          "country": "Japan",
          "fertility": 1.49,
          "life_expect": 79.36,
          "pop": 123537399,
          "year": 1990
         },
         {
          "cluster": 4,
          "country": "Japan",
          "fertility": 1.3900000000000001,
          "life_expect": 80.69,
          "pop": 125341354,
          "year": 1995
         },
         {
          "cluster": 4,
          "country": "Japan",
          "fertility": 1.291,
          "life_expect": 82,
          "pop": 126699784,
          "year": 2000
         },
         {
          "cluster": 4,
          "country": "Japan",
          "fertility": 1.27,
          "life_expect": 82.603,
          "pop": 127417244,
          "year": 2005
         },
         {
          "cluster": 2,
          "country": "Kenya",
          "fertility": 7.816,
          "life_expect": 44.686,
          "pop": 7033999,
          "year": 1955
         },
         {
          "cluster": 2,
          "country": "Kenya",
          "fertility": 8.12,
          "life_expect": 47.949,
          "pop": 8156827,
          "year": 1960
         },
         {
          "cluster": 2,
          "country": "Kenya",
          "fertility": 8.12,
          "life_expect": 50.654,
          "pop": 9549179,
          "year": 1965
         },
         {
          "cluster": 2,
          "country": "Kenya",
          "fertility": 8,
          "life_expect": 53.559,
          "pop": 11247182,
          "year": 1970
         },
         {
          "cluster": 2,
          "country": "Kenya",
          "fertility": 7.6,
          "life_expect": 56.155,
          "pop": 13433414,
          "year": 1975
         },
         {
          "cluster": 2,
          "country": "Kenya",
          "fertility": 7.2,
          "life_expect": 58.766,
          "pop": 16331401,
          "year": 1980
         },
         {
          "cluster": 2,
          "country": "Kenya",
          "fertility": 6.5,
          "life_expect": 59.339,
          "pop": 19763285,
          "year": 1985
         },
         {
          "cluster": 2,
          "country": "Kenya",
          "fertility": 5.4,
          "life_expect": 59.285,
          "pop": 23358413,
          "year": 1990
         },
         {
          "cluster": 2,
          "country": "Kenya",
          "fertility": 5,
          "life_expect": 54.407,
          "pop": 27060142,
          "year": 1995
         },
         {
          "cluster": 2,
          "country": "Kenya",
          "fertility": 5,
          "life_expect": 50.992,
          "pop": 29985839,
          "year": 2000
         },
         {
          "cluster": 2,
          "country": "Kenya",
          "fertility": 4.959,
          "life_expect": 54.11,
          "pop": 33829590,
          "year": 2005
         },
         {
          "cluster": 4,
          "country": "South Korea",
          "fertility": 3.8,
          "life_expect": 54.081,
          "pop": 8839427,
          "year": 1955
         },
         {
          "cluster": 4,
          "country": "South Korea",
          "fertility": 3.41,
          "life_expect": 56.656,
          "pop": 10391909,
          "year": 1960
         },
         {
          "cluster": 4,
          "country": "South Korea",
          "fertility": 4.09,
          "life_expect": 59.942,
          "pop": 11868751,
          "year": 1965
         },
         {
          "cluster": 4,
          "country": "South Korea",
          "fertility": 3.7199999999999998,
          "life_expect": 63.983,
          "pop": 13911902,
          "year": 1970
         },
         {
          "cluster": 4,
          "country": "South Korea",
          "fertility": 2.58,
          "life_expect": 67.159,
          "pop": 15801308,
          "year": 1975
         },
         {
          "cluster": 4,
          "country": "South Korea",
          "fertility": 2.93,
          "life_expect": 69.1,
          "pop": 17113626,
          "year": 1980
         },
         {
          "cluster": 4,
          "country": "South Korea",
          "fertility": 2.45,
          "life_expect": 70.647,
          "pop": 18481420,
          "year": 1985
         },
         {
          "cluster": 4,
          "country": "South Korea",
          "fertility": 2.35,
          "life_expect": 69.978,
          "pop": 20018546,
          "year": 1990
         },
         {
          "cluster": 4,
          "country": "South Korea",
          "fertility": 2.0938,
          "life_expect": 67.727,
          "pop": 21561856,
          "year": 1995
         },
         {
          "cluster": 4,
          "country": "South Korea",
          "fertility": 1.9173,
          "life_expect": 66.662,
          "pop": 21647682,
          "year": 2000
         },
         {
          "cluster": 4,
          "country": "South Korea",
          "fertility": 1.85,
          "life_expect": 67.297,
          "pop": 22912177,
          "year": 2005
         },
         {
          "cluster": 4,
          "country": "North Korea",
          "fertility": 6.332,
          "life_expect": 52.681,
          "pop": 21551834,
          "year": 1955
         },
         {
          "cluster": 4,
          "country": "North Korea",
          "fertility": 5.63,
          "life_expect": 55.292,
          "pop": 24784140,
          "year": 1960
         },
         {
          "cluster": 4,
          "country": "North Korea",
          "fertility": 4.708,
          "life_expect": 57.716,
          "pop": 28705000,
          "year": 1965
         },
         {
          "cluster": 4,
          "country": "North Korea",
          "fertility": 4.281,
          "life_expect": 62.612,
          "pop": 32241000,
          "year": 1970
         },
         {
          "cluster": 4,
          "country": "North Korea",
          "fertility": 2.919,
          "life_expect": 64.766,
          "pop": 35281000,
          "year": 1975
         },
         {
          "cluster": 4,
          "country": "North Korea",
          "fertility": 2.234,
          "life_expect": 67.123,
          "pop": 38124000,
          "year": 1980
         },
         {
          "cluster": 4,
          "country": "North Korea",
          "fertility": 1.601,
          "life_expect": 69.81,
          "pop": 40806000,
          "year": 1985
         },
         {
          "cluster": 4,
          "country": "North Korea",
          "fertility": 1.6960000000000002,
          "life_expect": 72.244,
          "pop": 42869000,
          "year": 1990
         },
         {
          "cluster": 4,
          "country": "North Korea",
          "fertility": 1.514,
          "life_expect": 74.647,
          "pop": 45264146,
          "year": 1995
         },
         {
          "cluster": 4,
          "country": "North Korea",
          "fertility": 1.242,
          "life_expect": 77.045,
          "pop": 47351083,
          "year": 2000
         },
         {
          "cluster": 4,
          "country": "North Korea",
          "fertility": 1.21,
          "life_expect": 78.623,
          "pop": 48640671,
          "year": 2005
         },
         {
          "cluster": 5,
          "country": "Lebanon",
          "fertility": 5.72,
          "life_expect": 59.489,
          "pop": 1560985,
          "year": 1955
         },
         {
          "cluster": 5,
          "country": "Lebanon",
          "fertility": 5.689,
          "life_expect": 62.094,
          "pop": 1786235,
          "year": 1960
         },
         {
          "cluster": 5,
          "country": "Lebanon",
          "fertility": 5.336,
          "life_expect": 63.87,
          "pop": 2057945,
          "year": 1965
         },
         {
          "cluster": 5,
          "country": "Lebanon",
          "fertility": 4.78,
          "life_expect": 65.421,
          "pop": 2383029,
          "year": 1970
         },
         {
          "cluster": 5,
          "country": "Lebanon",
          "fertility": 4.311,
          "life_expect": 66.099,
          "pop": 3098159,
          "year": 1975
         },
         {
          "cluster": 5,
          "country": "Lebanon",
          "fertility": 3.895,
          "life_expect": 66.983,
          "pop": 3085876,
          "year": 1980
         },
         {
          "cluster": 5,
          "country": "Lebanon",
          "fertility": 3.313,
          "life_expect": 67.926,
          "pop": 3088235,
          "year": 1985
         },
         {
          "cluster": 5,
          "country": "Lebanon",
          "fertility": 3,
          "life_expect": 69.292,
          "pop": 3147267,
          "year": 1990
         },
         {
          "cluster": 5,
          "country": "Lebanon",
          "fertility": 2.6950000000000003,
          "life_expect": 70.265,
          "pop": 3334733,
          "year": 1995
         },
         {
          "cluster": 5,
          "country": "Lebanon",
          "fertility": 2.319,
          "life_expect": 71.028,
          "pop": 3578036,
          "year": 2000
         },
         {
          "cluster": 5,
          "country": "Lebanon",
          "fertility": 2.209,
          "life_expect": 71.993,
          "pop": 3826018,
          "year": 2005
         },
         {
          "cluster": 3,
          "country": "Mexico",
          "fertility": 6.8,
          "life_expect": 55.19,
          "pop": 32929914,
          "year": 1955
         },
         {
          "cluster": 3,
          "country": "Mexico",
          "fertility": 6.7495,
          "life_expect": 58.299,
          "pop": 38578505,
          "year": 1960
         },
         {
          "cluster": 3,
          "country": "Mexico",
          "fertility": 6.7495,
          "life_expect": 60.11,
          "pop": 45142399,
          "year": 1965
         },
         {
          "cluster": 3,
          "country": "Mexico",
          "fertility": 6.5,
          "life_expect": 62.361,
          "pop": 52775158,
          "year": 1970
         },
         {
          "cluster": 3,
          "country": "Mexico",
          "fertility": 5.2505,
          "life_expect": 65.032,
          "pop": 60678045,
          "year": 1975
         },
         {
          "cluster": 3,
          "country": "Mexico",
          "fertility": 4.25,
          "life_expect": 67.405,
          "pop": 68347479,
          "year": 1980
         },
         {
          "cluster": 3,
          "country": "Mexico",
          "fertility": 3.6295,
          "life_expect": 69.498,
          "pop": 76767225,
          "year": 1985
         },
         {
          "cluster": 3,
          "country": "Mexico",
          "fertility": 3.1905,
          "life_expect": 71.455,
          "pop": 84913652,
          "year": 1990
         },
         {
          "cluster": 3,
          "country": "Mexico",
          "fertility": 2.6705,
          "life_expect": 73.67,
          "pop": 92880353,
          "year": 1995
         },
         {
          "cluster": 3,
          "country": "Mexico",
          "fertility": 2.4005,
          "life_expect": 74.902,
          "pop": 99926620,
          "year": 2000
         },
         {
          "cluster": 3,
          "country": "Mexico",
          "fertility": 2.211,
          "life_expect": 76.195,
          "pop": 106202903,
          "year": 2005
         },
         {
          "cluster": 1,
          "country": "Netherlands",
          "fertility": 3.095,
          "life_expect": 72.99,
          "pop": 10750842,
          "year": 1955
         },
         {
          "cluster": 1,
          "country": "Netherlands",
          "fertility": 3.168,
          "life_expect": 73.23,
          "pop": 11486000,
          "year": 1960
         },
         {
          "cluster": 1,
          "country": "Netherlands",
          "fertility": 2.797,
          "life_expect": 73.82,
          "pop": 12292000,
          "year": 1965
         },
         {
          "cluster": 1,
          "country": "Netherlands",
          "fertility": 2.059,
          "life_expect": 73.75,
          "pop": 13032335,
          "year": 1970
         },
         {
          "cluster": 1,
          "country": "Netherlands",
          "fertility": 1.596,
          "life_expect": 75.24,
          "pop": 13653438,
          "year": 1975
         },
         {
          "cluster": 1,
          "country": "Netherlands",
          "fertility": 1.5150000000000001,
          "life_expect": 76.05,
          "pop": 14143901,
          "year": 1980
         },
         {
          "cluster": 1,
          "country": "Netherlands",
          "fertility": 1.5550000000000002,
          "life_expect": 76.83,
          "pop": 14491380,
          "year": 1985
         },
         {
          "cluster": 1,
          "country": "Netherlands",
          "fertility": 1.583,
          "life_expect": 77.42,
          "pop": 14951510,
          "year": 1990
         },
         {
          "cluster": 1,
          "country": "Netherlands",
          "fertility": 1.6,
          "life_expect": 78.03,
          "pop": 15459054,
          "year": 1995
         },
         {
          "cluster": 1,
          "country": "Netherlands",
          "fertility": 1.726,
          "life_expect": 78.53,
          "pop": 15907853,
          "year": 2000
         },
         {
          "cluster": 1,
          "country": "Netherlands",
          "fertility": 1.721,
          "life_expect": 79.762,
          "pop": 16407491,
          "year": 2005
         },
         {
          "cluster": 4,
          "country": "New Zealand",
          "fertility": 4.07,
          "life_expect": 70.26,
          "pop": 2136168,
          "year": 1955
         },
         {
          "cluster": 4,
          "country": "New Zealand",
          "fertility": 4.022,
          "life_expect": 71.24,
          "pop": 2371746,
          "year": 1960
         },
         {
          "cluster": 4,
          "country": "New Zealand",
          "fertility": 3.348,
          "life_expect": 71.52,
          "pop": 2640400,
          "year": 1965
         },
         {
          "cluster": 4,
          "country": "New Zealand",
          "fertility": 2.843,
          "life_expect": 71.89,
          "pop": 2828050,
          "year": 1970
         },
         {
          "cluster": 4,
          "country": "New Zealand",
          "fertility": 2.178,
          "life_expect": 72.22,
          "pop": 3117800,
          "year": 1975
         },
         {
          "cluster": 4,
          "country": "New Zealand",
          "fertility": 1.963,
          "life_expect": 73.84,
          "pop": 3170150,
          "year": 1980
         },
         {
          "cluster": 4,
          "country": "New Zealand",
          "fertility": 2.053,
          "life_expect": 74.32,
          "pop": 3298050,
          "year": 1985
         },
         {
          "cluster": 4,
          "country": "New Zealand",
          "fertility": 2.061,
          "life_expect": 76.33,
          "pop": 3359604,
          "year": 1990
         },
         {
          "cluster": 4,
          "country": "New Zealand",
          "fertility": 1.952,
          "life_expect": 77.55,
          "pop": 3565990,
          "year": 1995
         },
         {
          "cluster": 4,
          "country": "New Zealand",
          "fertility": 1.964,
          "life_expect": 79.11,
          "pop": 3819762,
          "year": 2000
         },
         {
          "cluster": 4,
          "country": "New Zealand",
          "fertility": 1.994,
          "life_expect": 80.204,
          "pop": 4035461,
          "year": 2005
         },
         {
          "cluster": 2,
          "country": "Nigeria",
          "fertility": 6.9,
          "life_expect": 37.802,
          "pop": 35458978,
          "year": 1955
         },
         {
          "cluster": 2,
          "country": "Nigeria",
          "fertility": 6.9,
          "life_expect": 39.36,
          "pop": 39914593,
          "year": 1960
         },
         {
          "cluster": 2,
          "country": "Nigeria",
          "fertility": 6.9,
          "life_expect": 41.04,
          "pop": 45020052,
          "year": 1965
         },
         {
          "cluster": 2,
          "country": "Nigeria",
          "fertility": 6.9,
          "life_expect": 42.821,
          "pop": 51027516,
          "year": 1970
         },
         {
          "cluster": 2,
          "country": "Nigeria",
          "fertility": 6.9,
          "life_expect": 44.514,
          "pop": 58522112,
          "year": 1975
         },
         {
          "cluster": 2,
          "country": "Nigeria",
          "fertility": 6.9,
          "life_expect": 45.826,
          "pop": 68550274,
          "year": 1980
         },
         {
          "cluster": 2,
          "country": "Nigeria",
          "fertility": 6.834,
          "life_expect": 46.886,
          "pop": 77573154,
          "year": 1985
         },
         {
          "cluster": 2,
          "country": "Nigeria",
          "fertility": 6.635,
          "life_expect": 47.472,
          "pop": 88510354,
          "year": 1990
         },
         {
          "cluster": 2,
          "country": "Nigeria",
          "fertility": 6.246,
          "life_expect": 47.464,
          "pop": 100960105,
          "year": 1995
         },
         {
          "cluster": 2,
          "country": "Nigeria",
          "fertility": 5.845,
          "life_expect": 46.608,
          "pop": 114306700,
          "year": 2000
         },
         {
          "cluster": 2,
          "country": "Nigeria",
          "fertility": 5.322,
          "life_expect": 46.859,
          "pop": 128765768,
          "year": 2005
         },
         {
          "cluster": 1,
          "country": "Norway",
          "fertility": 2.8369999999999997,
          "life_expect": 73.44,
          "pop": 3427409,
          "year": 1955
         },
         {
          "cluster": 1,
          "country": "Norway",
          "fertility": 2.898,
          "life_expect": 73.47,
          "pop": 3581239,
          "year": 1960
         },
         {
          "cluster": 1,
          "country": "Norway",
          "fertility": 2.719,
          "life_expect": 74.08,
          "pop": 3723153,
          "year": 1965
         },
         {
          "cluster": 1,
          "country": "Norway",
          "fertility": 2.248,
          "life_expect": 74.34,
          "pop": 3877386,
          "year": 1970
         },
         {
          "cluster": 1,
          "country": "Norway",
          "fertility": 1.81,
          "life_expect": 75.37,
          "pop": 4007313,
          "year": 1975
         },
         {
          "cluster": 1,
          "country": "Norway",
          "fertility": 1.687,
          "life_expect": 75.97,
          "pop": 4085620,
          "year": 1980
         },
         {
          "cluster": 1,
          "country": "Norway",
          "fertility": 1.8,
          "life_expect": 75.89,
          "pop": 4152419,
          "year": 1985
         },
         {
          "cluster": 1,
          "country": "Norway",
          "fertility": 1.8860000000000001,
          "life_expect": 77.32,
          "pop": 4242006,
          "year": 1990
         },
         {
          "cluster": 1,
          "country": "Norway",
          "fertility": 1.853,
          "life_expect": 78.32,
          "pop": 4359101,
          "year": 1995
         },
         {
          "cluster": 1,
          "country": "Norway",
          "fertility": 1.8010000000000002,
          "life_expect": 79.05,
          "pop": 4492400,
          "year": 2000
         },
         {
          "cluster": 1,
          "country": "Norway",
          "fertility": 1.8479999999999999,
          "life_expect": 80.196,
          "pop": 4593041,
          "year": 2005
         },
         {
          "cluster": 0,
          "country": "Pakistan",
          "fertility": 6.6,
          "life_expect": 45.557,
          "pop": 44434445,
          "year": 1955
         },
         {
          "cluster": 0,
          "country": "Pakistan",
          "fertility": 6.6,
          "life_expect": 47.67,
          "pop": 50386898,
          "year": 1960
         },
         {
          "cluster": 0,
          "country": "Pakistan",
          "fertility": 6.6,
          "life_expect": 49.8,
          "pop": 57494940,
          "year": 1965
         },
         {
          "cluster": 0,
          "country": "Pakistan",
          "fertility": 6.6,
          "life_expect": 51.929,
          "pop": 65705964,
          "year": 1970
         },
         {
          "cluster": 0,
          "country": "Pakistan",
          "fertility": 6.6,
          "life_expect": 54.043,
          "pop": 74711541,
          "year": 1975
         },
         {
          "cluster": 0,
          "country": "Pakistan",
          "fertility": 6.6,
          "life_expect": 56.158,
          "pop": 85219117,
          "year": 1980
         },
         {
          "cluster": 0,
          "country": "Pakistan",
          "fertility": 6.66,
          "life_expect": 58.245,
          "pop": 99060352,
          "year": 1985
         },
         {
          "cluster": 0,
          "country": "Pakistan",
          "fertility": 5.8,
          "life_expect": 60.838,
          "pop": 114578478,
          "year": 1990
         },
         {
          "cluster": 0,
          "country": "Pakistan",
          "fertility": 4.9596,
          "life_expect": 61.818,
          "pop": 128690285,
          "year": 1995
         },
         {
          "cluster": 0,
          "country": "Pakistan",
          "fertility": 3.9936,
          "life_expect": 63.61,
          "pop": 146342958,
          "year": 2000
         },
         {
          "cluster": 0,
          "country": "Pakistan",
          "fertility": 3.5211,
          "life_expect": 65.483,
          "pop": 162419946,
          "year": 2005
         },
         {
          "cluster": 3,
          "country": "Peru",
          "fertility": 6.853,
          "life_expect": 46.263,
          "pop": 8671500,
          "year": 1955
         },
         {
          "cluster": 3,
          "country": "Peru",
          "fertility": 6.853,
          "life_expect": 49.096,
          "pop": 9931000,
          "year": 1960
         },
         {
          "cluster": 3,
          "country": "Peru",
          "fertility": 6.5600000000000005,
          "life_expect": 51.445,
          "pop": 11467300,
          "year": 1965
         },
         {
          "cluster": 3,
          "country": "Peru",
          "fertility": 6,
          "life_expect": 55.448,
          "pop": 13192800,
          "year": 1970
         },
         {
          "cluster": 3,
          "country": "Peru",
          "fertility": 5.378,
          "life_expect": 58.447,
          "pop": 15161199,
          "year": 1975
         },
         {
          "cluster": 3,
          "country": "Peru",
          "fertility": 4.65,
          "life_expect": 61.406,
          "pop": 17295298,
          "year": 1980
         },
         {
          "cluster": 3,
          "country": "Peru",
          "fertility": 4.1,
          "life_expect": 64.134,
          "pop": 19348926,
          "year": 1985
         },
         {
          "cluster": 3,
          "country": "Peru",
          "fertility": 3.7,
          "life_expect": 66.458,
          "pop": 21511443,
          "year": 1990
         },
         {
          "cluster": 3,
          "country": "Peru",
          "fertility": 3.0995,
          "life_expect": 68.386,
          "pop": 23846388,
          "year": 1995
         },
         {
          "cluster": 3,
          "country": "Peru",
          "fertility": 2.7005,
          "life_expect": 69.906,
          "pop": 25979722,
          "year": 2000
         },
         {
          "cluster": 3,
          "country": "Peru",
          "fertility": 2.5065,
          "life_expect": 71.421,
          "pop": 27925628,
          "year": 2005
         },
         {
          "cluster": 4,
          "country": "Philippines",
          "fertility": 7.13,
          "life_expect": 51.334,
          "pop": 24553055,
          "year": 1955
         },
         {
          "cluster": 4,
          "country": "Philippines",
          "fertility": 6.85,
          "life_expect": 54.757,
          "pop": 28528939,
          "year": 1960
         },
         {
          "cluster": 4,
          "country": "Philippines",
          "fertility": 6.5,
          "life_expect": 56.393,
          "pop": 33267569,
          "year": 1965
         },
         {
          "cluster": 4,
          "country": "Philippines",
          "fertility": 6,
          "life_expect": 58.065,
          "pop": 38603696,
          "year": 1970
         },
         {
          "cluster": 4,
          "country": "Philippines",
          "fertility": 5.5,
          "life_expect": 60.06,
          "pop": 44336842,
          "year": 1975
         },
         {
          "cluster": 4,
          "country": "Philippines",
          "fertility": 4.95,
          "life_expect": 62.082,
          "pop": 50940182,
          "year": 1980
         },
         {
          "cluster": 4,
          "country": "Philippines",
          "fertility": 4.55,
          "life_expect": 64.151,
          "pop": 57288037,
          "year": 1985
         },
         {
          "cluster": 4,
          "country": "Philippines",
          "fertility": 4.143,
          "life_expect": 66.458,
          "pop": 64318120,
          "year": 1990
         },
         {
          "cluster": 4,
          "country": "Philippines",
          "fertility": 3.7248,
          "life_expect": 68.564,
          "pop": 71717437,
          "year": 1995
         },
         {
          "cluster": 4,
          "country": "Philippines",
          "fertility": 3.5436,
          "life_expect": 70.303,
          "pop": 79739825,
          "year": 2000
         },
         {
          "cluster": 4,
          "country": "Philippines",
          "fertility": 3.2327,
          "life_expect": 71.688,
          "pop": 87857473,
          "year": 2005
         },
         {
          "cluster": 1,
          "country": "Poland",
          "fertility": 3.29,
          "life_expect": 65.77,
          "pop": 27220668,
          "year": 1955
         },
         {
          "cluster": 1,
          "country": "Poland",
          "fertility": 2.65,
          "life_expect": 67.64,
          "pop": 29589842,
          "year": 1960
         },
         {
          "cluster": 1,
          "country": "Poland",
          "fertility": 2.27,
          "life_expect": 69.61,
          "pop": 31262358,
          "year": 1965
         },
         {
          "cluster": 1,
          "country": "Poland",
          "fertility": 2.25,
          "life_expect": 70.85,
          "pop": 32526000,
          "year": 1970
         },
         {
          "cluster": 1,
          "country": "Poland",
          "fertility": 2.26,
          "life_expect": 70.67,
          "pop": 33969240,
          "year": 1975
         },
         {
          "cluster": 1,
          "country": "Poland",
          "fertility": 2.33,
          "life_expect": 71.32,
          "pop": 35578016,
          "year": 1980
         },
         {
          "cluster": 1,
          "country": "Poland",
          "fertility": 2.15,
          "life_expect": 70.98,
          "pop": 37225792,
          "year": 1985
         },
         {
          "cluster": 1,
          "country": "Poland",
          "fertility": 1.8900000000000001,
          "life_expect": 70.99,
          "pop": 38119408,
          "year": 1990
         },
         {
          "cluster": 1,
          "country": "Poland",
          "fertility": 1.478,
          "life_expect": 72.75,
          "pop": 38600642,
          "year": 1995
         },
         {
          "cluster": 1,
          "country": "Poland",
          "fertility": 1.251,
          "life_expect": 74.67,
          "pop": 38654164,
          "year": 2000
         },
         {
          "cluster": 1,
          "country": "Poland",
          "fertility": 1.227,
          "life_expect": 75.563,
          "pop": 38557984,
          "year": 2005
         },
         {
          "cluster": 1,
          "country": "Portugal",
          "fertility": 3.03,
          "life_expect": 61.51,
          "pop": 8692600,
          "year": 1955
         },
         {
          "cluster": 1,
          "country": "Portugal",
          "fertility": 3.074,
          "life_expect": 64.39,
          "pop": 9036700,
          "year": 1960
         },
         {
          "cluster": 1,
          "country": "Portugal",
          "fertility": 2.849,
          "life_expect": 66.6,
          "pop": 9128850,
          "year": 1965
         },
         {
          "cluster": 1,
          "country": "Portugal",
          "fertility": 2.748,
          "life_expect": 69.26,
          "pop": 9044200,
          "year": 1970
         },
         {
          "cluster": 1,
          "country": "Portugal",
          "fertility": 2.41,
          "life_expect": 70.41,
          "pop": 9411090,
          "year": 1975
         },
         {
          "cluster": 1,
          "country": "Portugal",
          "fertility": 1.982,
          "life_expect": 72.77,
          "pop": 9777800,
          "year": 1980
         },
         {
          "cluster": 1,
          "country": "Portugal",
          "fertility": 1.5939999999999999,
          "life_expect": 74.06,
          "pop": 9897192,
          "year": 1985
         },
         {
          "cluster": 1,
          "country": "Portugal",
          "fertility": 1.516,
          "life_expect": 74.86,
          "pop": 9922689,
          "year": 1990
         },
         {
          "cluster": 1,
          "country": "Portugal",
          "fertility": 1.475,
          "life_expect": 75.97,
          "pop": 10065543,
          "year": 1995
         },
         {
          "cluster": 1,
          "country": "Portugal",
          "fertility": 1.454,
          "life_expect": 77.29,
          "pop": 10335597,
          "year": 2000
         },
         {
          "cluster": 1,
          "country": "Portugal",
          "fertility": 1.455,
          "life_expect": 78.098,
          "pop": 10566212,
          "year": 2005
         },
         {
          "cluster": 2,
          "country": "Rwanda",
          "fertility": 8,
          "life_expect": 41.5,
          "pop": 2698272,
          "year": 1955
         },
         {
          "cluster": 2,
          "country": "Rwanda",
          "fertility": 8.1,
          "life_expect": 43,
          "pop": 3031804,
          "year": 1960
         },
         {
          "cluster": 2,
          "country": "Rwanda",
          "fertility": 8.2,
          "life_expect": 44.1,
          "pop": 3264640,
          "year": 1965
         },
         {
          "cluster": 2,
          "country": "Rwanda",
          "fertility": 8.29,
          "life_expect": 44.6,
          "pop": 3769171,
          "year": 1970
         },
         {
          "cluster": 2,
          "country": "Rwanda",
          "fertility": 8.492,
          "life_expect": 45,
          "pop": 4356863,
          "year": 1975
         },
         {
          "cluster": 2,
          "country": "Rwanda",
          "fertility": 8.5,
          "life_expect": 46.218,
          "pop": 5138689,
          "year": 1980
         },
         {
          "cluster": 2,
          "country": "Rwanda",
          "fertility": 8.25,
          "life_expect": 44.02,
          "pop": 6009833,
          "year": 1985
         },
         {
          "cluster": 2,
          "country": "Rwanda",
          "fertility": 6.9,
          "life_expect": 23.599,
          "pop": 6923738,
          "year": 1990
         },
         {
          "cluster": 2,
          "country": "Rwanda",
          "fertility": 6.0993,
          "life_expect": 36.087,
          "pop": 5706501,
          "year": 1995
         },
         {
          "cluster": 2,
          "country": "Rwanda",
          "fertility": 6.01,
          "life_expect": 43.413,
          "pop": 7507056,
          "year": 2000
         },
         {
          "cluster": 2,
          "country": "Rwanda",
          "fertility": 5.9169,
          "life_expect": 46.242,
          "pop": 8440820,
          "year": 2005
         },
         {
          "cluster": 5,
          "country": "Saudi Arabia",
          "fertility": 7.175,
          "life_expect": 42.868,
          "pop": 4243218,
          "year": 1955
         },
         {
          "cluster": 5,
          "country": "Saudi Arabia",
          "fertility": 7.257,
          "life_expect": 45.914,
          "pop": 4718301,
          "year": 1960
         },
         {
          "cluster": 5,
          "country": "Saudi Arabia",
          "fertility": 7.257,
          "life_expect": 49.901,
          "pop": 5327432,
          "year": 1965
         },
         {
          "cluster": 5,
          "country": "Saudi Arabia",
          "fertility": 7.298,
          "life_expect": 53.886,
          "pop": 6109051,
          "year": 1970
         },
         {
          "cluster": 5,
          "country": "Saudi Arabia",
          "fertility": 7.2780000000000005,
          "life_expect": 58.69,
          "pop": 7204820,
          "year": 1975
         },
         {
          "cluster": 5,
          "country": "Saudi Arabia",
          "fertility": 7.015,
          "life_expect": 63.012,
          "pop": 9999161,
          "year": 1980
         },
         {
          "cluster": 5,
          "country": "Saudi Arabia",
          "fertility": 6.217,
          "life_expect": 66.295,
          "pop": 13330067,
          "year": 1985
         },
         {
          "cluster": 5,
          "country": "Saudi Arabia",
          "fertility": 5.446,
          "life_expect": 68.768,
          "pop": 16060761,
          "year": 1990
         },
         {
          "cluster": 5,
          "country": "Saudi Arabia",
          "fertility": 4.621,
          "life_expect": 70.533,
          "pop": 19966998,
          "year": 1995
         },
         {
          "cluster": 5,
          "country": "Saudi Arabia",
          "fertility": 3.81,
          "life_expect": 71.626,
          "pop": 23153090,
          "year": 2000
         },
         {
          "cluster": 5,
          "country": "Saudi Arabia",
          "fertility": 3.352,
          "life_expect": 72.777,
          "pop": 26417599,
          "year": 2005
         },
         {
          "cluster": 2,
          "country": "South Africa",
          "fertility": 6.5,
          "life_expect": 47.985,
          "pop": 15368551,
          "year": 1955
         },
         {
          "cluster": 2,
          "country": "South Africa",
          "fertility": 6.3,
          "life_expect": 49.951,
          "pop": 17416653,
          "year": 1960
         },
         {
          "cluster": 2,
          "country": "South Africa",
          "fertility": 5.7,
          "life_expect": 51.927,
          "pop": 19898242,
          "year": 1965
         },
         {
          "cluster": 2,
          "country": "South Africa",
          "fertility": 5.47,
          "life_expect": 53.696,
          "pop": 22739921,
          "year": 1970
         },
         {
          "cluster": 2,
          "country": "South Africa",
          "fertility": 5,
          "life_expect": 55.527,
          "pop": 25815144,
          "year": 1975
         },
         {
          "cluster": 2,
          "country": "South Africa",
          "fertility": 4.556,
          "life_expect": 58.161,
          "pop": 29251588,
          "year": 1980
         },
         {
          "cluster": 2,
          "country": "South Africa",
          "fertility": 3.85,
          "life_expect": 60.834,
          "pop": 34254092,
          "year": 1985
         },
         {
          "cluster": 2,
          "country": "South Africa",
          "fertility": 3.343,
          "life_expect": 61.888,
          "pop": 38391094,
          "year": 1990
         },
         {
          "cluster": 2,
          "country": "South Africa",
          "fertility": 2.954,
          "life_expect": 60.236,
          "pop": 41779149,
          "year": 1995
         },
         {
          "cluster": 2,
          "country": "South Africa",
          "fertility": 2.802,
          "life_expect": 53.365,
          "pop": 44066197,
          "year": 2000
         },
         {
          "cluster": 2,
          "country": "South Africa",
          "fertility": 2.637,
          "life_expect": 49.339,
          "pop": 44344136,
          "year": 2005
         },
         {
          "cluster": 1,
          "country": "Spain",
          "fertility": 2.75,
          "life_expect": 66.66,
          "pop": 29318745,
          "year": 1955
         },
         {
          "cluster": 1,
          "country": "Spain",
          "fertility": 2.89,
          "life_expect": 69.69,
          "pop": 30641187,
          "year": 1960
         },
         {
          "cluster": 1,
          "country": "Spain",
          "fertility": 2.92,
          "life_expect": 71.44,
          "pop": 32084511,
          "year": 1965
         },
         {
          "cluster": 1,
          "country": "Spain",
          "fertility": 2.86,
          "life_expect": 73.06,
          "pop": 33876479,
          "year": 1970
         },
         {
          "cluster": 1,
          "country": "Spain",
          "fertility": 2.5700000000000003,
          "life_expect": 74.39,
          "pop": 35563535,
          "year": 1975
         },
         {
          "cluster": 1,
          "country": "Spain",
          "fertility": 1.8900000000000001,
          "life_expect": 76.3,
          "pop": 37488360,
          "year": 1980
         },
         {
          "cluster": 1,
          "country": "Spain",
          "fertility": 1.48,
          "life_expect": 76.9,
          "pop": 38534853,
          "year": 1985
         },
         {
          "cluster": 1,
          "country": "Spain",
          "fertility": 1.27,
          "life_expect": 77.57,
          "pop": 39350769,
          "year": 1990
         },
         {
          "cluster": 1,
          "country": "Spain",
          "fertility": 1.182,
          "life_expect": 78.77,
          "pop": 39749715,
          "year": 1995
         },
         {
          "cluster": 1,
          "country": "Spain",
          "fertility": 1.287,
          "life_expect": 79.78,
          "pop": 40016081,
          "year": 2000
         },
         {
          "cluster": 1,
          "country": "Spain",
          "fertility": 1.409,
          "life_expect": 80.941,
          "pop": 40341462,
          "year": 2005
         },
         {
          "cluster": 1,
          "country": "Switzerland",
          "fertility": 2.34,
          "life_expect": 70.56,
          "pop": 4980000,
          "year": 1955
         },
         {
          "cluster": 1,
          "country": "Switzerland",
          "fertility": 2.51,
          "life_expect": 71.32,
          "pop": 5362000,
          "year": 1960
         },
         {
          "cluster": 1,
          "country": "Switzerland",
          "fertility": 2.27,
          "life_expect": 72.77,
          "pop": 5943000,
          "year": 1965
         },
         {
          "cluster": 1,
          "country": "Switzerland",
          "fertility": 1.82,
          "life_expect": 73.78,
          "pop": 6267000,
          "year": 1970
         },
         {
          "cluster": 1,
          "country": "Switzerland",
          "fertility": 1.53,
          "life_expect": 75.39,
          "pop": 6403500,
          "year": 1975
         },
         {
          "cluster": 1,
          "country": "Switzerland",
          "fertility": 1.53,
          "life_expect": 76.21,
          "pop": 6385229,
          "year": 1980
         },
         {
          "cluster": 1,
          "country": "Switzerland",
          "fertility": 1.53,
          "life_expect": 77.41,
          "pop": 6563770,
          "year": 1985
         },
         {
          "cluster": 1,
          "country": "Switzerland",
          "fertility": 1.54,
          "life_expect": 78.03,
          "pop": 6836626,
          "year": 1990
         },
         {
          "cluster": 1,
          "country": "Switzerland",
          "fertility": 1.47,
          "life_expect": 79.37,
          "pop": 7157106,
          "year": 1995
         },
         {
          "cluster": 1,
          "country": "Switzerland",
          "fertility": 1.415,
          "life_expect": 80.62,
          "pop": 7266920,
          "year": 2000
         },
         {
          "cluster": 1,
          "country": "Switzerland",
          "fertility": 1.42,
          "life_expect": 81.701,
          "pop": 7489370,
          "year": 2005
         },
         {
          "cluster": 1,
          "country": "Turkey",
          "fertility": 6.6,
          "life_expect": 48.079,
          "pop": 24144571,
          "year": 1955
         },
         {
          "cluster": 1,
          "country": "Turkey",
          "fertility": 6.19,
          "life_expect": 52.098,
          "pop": 28217122,
          "year": 1960
         },
         {
          "cluster": 1,
          "country": "Turkey",
          "fertility": 5.7,
          "life_expect": 54.336,
          "pop": 31950718,
          "year": 1965
         },
         {
          "cluster": 1,
          "country": "Turkey",
          "fertility": 5.3,
          "life_expect": 57.005,
          "pop": 35758382,
          "year": 1970
         },
         {
          "cluster": 1,
          "country": "Turkey",
          "fertility": 4.715,
          "life_expect": 59.507,
          "pop": 40529798,
          "year": 1975
         },
         {
          "cluster": 1,
          "country": "Turkey",
          "fertility": 4.15,
          "life_expect": 61.036,
          "pop": 45120802,
          "year": 1980
         },
         {
          "cluster": 1,
          "country": "Turkey",
          "fertility": 3.276,
          "life_expect": 63.108,
          "pop": 50669003,
          "year": 1985
         },
         {
          "cluster": 1,
          "country": "Turkey",
          "fertility": 2.904,
          "life_expect": 66.146,
          "pop": 56084632,
          "year": 1990
         },
         {
          "cluster": 1,
          "country": "Turkey",
          "fertility": 2.574,
          "life_expect": 68.835,
          "pop": 61188984,
          "year": 1995
         },
         {
          "cluster": 1,
          "country": "Turkey",
          "fertility": 2.23,
          "life_expect": 70.845,
          "pop": 65666677,
          "year": 2000
         },
         {
          "cluster": 1,
          "country": "Turkey",
          "fertility": 2.143,
          "life_expect": 71.777,
          "pop": 69660559,
          "year": 2005
         },
         {
          "cluster": 1,
          "country": "United Kingdom",
          "fertility": 2.49,
          "life_expect": 70.42,
          "pop": 50946000,
          "year": 1955
         },
         {
          "cluster": 1,
          "country": "United Kingdom",
          "fertility": 2.81,
          "life_expect": 70.76,
          "pop": 52372000,
          "year": 1960
         },
         {
          "cluster": 1,
          "country": "United Kingdom",
          "fertility": 2.52,
          "life_expect": 71.36,
          "pop": 54350000,
          "year": 1965
         },
         {
          "cluster": 1,
          "country": "United Kingdom",
          "fertility": 2.04,
          "life_expect": 72.01,
          "pop": 55632000,
          "year": 1970
         },
         {
          "cluster": 1,
          "country": "United Kingdom",
          "fertility": 1.72,
          "life_expect": 72.76,
          "pop": 56215000,
          "year": 1975
         },
         {
          "cluster": 1,
          "country": "United Kingdom",
          "fertility": 1.8,
          "life_expect": 74.04,
          "pop": 56314000,
          "year": 1980
         },
         {
          "cluster": 1,
          "country": "United Kingdom",
          "fertility": 1.81,
          "life_expect": 75.007,
          "pop": 56620240,
          "year": 1985
         },
         {
          "cluster": 1,
          "country": "United Kingdom",
          "fertility": 1.78,
          "life_expect": 76.42,
          "pop": 57493307,
          "year": 1990
         },
         {
          "cluster": 1,
          "country": "United Kingdom",
          "fertility": 1.7000000000000002,
          "life_expect": 77.218,
          "pop": 58426014,
          "year": 1995
         },
         {
          "cluster": 1,
          "country": "United Kingdom",
          "fertility": 1.695,
          "life_expect": 78.471,
          "pop": 59522468,
          "year": 2000
         },
         {
          "cluster": 1,
          "country": "United Kingdom",
          "fertility": 1.815,
          "life_expect": 79.425,
          "pop": 60441457,
          "year": 2005
         },
         {
          "cluster": 3,
          "country": "United States",
          "fertility": 3.706,
          "life_expect": 69.49,
          "pop": 165931000,
          "year": 1955
         },
         {
          "cluster": 3,
          "country": "United States",
          "fertility": 3.314,
          "life_expect": 70.21,
          "pop": 180671000,
          "year": 1960
         },
         {
          "cluster": 3,
          "country": "United States",
          "fertility": 2.545,
          "life_expect": 70.76,
          "pop": 194303000,
          "year": 1965
         },
         {
          "cluster": 3,
          "country": "United States",
          "fertility": 2.016,
          "life_expect": 71.34,
          "pop": 205052000,
          "year": 1970
         },
         {
          "cluster": 3,
          "country": "United States",
          "fertility": 1.788,
          "life_expect": 73.38,
          "pop": 215973000,
          "year": 1975
         },
         {
          "cluster": 3,
          "country": "United States",
          "fertility": 1.8250000000000002,
          "life_expect": 74.65,
          "pop": 227726463,
          "year": 1980
         },
         {
          "cluster": 3,
          "country": "United States",
          "fertility": 1.924,
          "life_expect": 75.02,
          "pop": 238466283,
          "year": 1985
         },
         {
          "cluster": 3,
          "country": "United States",
          "fertility": 2.025,
          "life_expect": 76.09,
          "pop": 250131894,
          "year": 1990
         },
         {
          "cluster": 3,
          "country": "United States",
          "fertility": 1.994,
          "life_expect": 76.81,
          "pop": 266557091,
          "year": 1995
         },
         {
          "cluster": 3,
          "country": "United States",
          "fertility": 2.038,
          "life_expect": 77.31,
          "pop": 282338631,
          "year": 2000
         },
         {
          "cluster": 3,
          "country": "United States",
          "fertility": 2.054,
          "life_expect": 78.242,
          "pop": 295734134,
          "year": 2005
         },
         {
          "cluster": 3,
          "country": "Venezuela",
          "fertility": 6.4585,
          "life_expect": 57.907,
          "pop": 6170497,
          "year": 1955
         },
         {
          "cluster": 3,
          "country": "Venezuela",
          "fertility": 6.657,
          "life_expect": 60.77,
          "pop": 7556483,
          "year": 1960
         },
         {
          "cluster": 3,
          "country": "Venezuela",
          "fertility": 5.9045000000000005,
          "life_expect": 63.479,
          "pop": 9067735,
          "year": 1965
         },
         {
          "cluster": 3,
          "country": "Venezuela",
          "fertility": 4.941,
          "life_expect": 65.712,
          "pop": 10758017,
          "year": 1970
         },
         {
          "cluster": 3,
          "country": "Venezuela",
          "fertility": 4.4685,
          "life_expect": 67.456,
          "pop": 12674987,
          "year": 1975
         },
         {
          "cluster": 3,
          "country": "Venezuela",
          "fertility": 3.957,
          "life_expect": 68.557,
          "pop": 14767890,
          "year": 1980
         },
         {
          "cluster": 3,
          "country": "Venezuela",
          "fertility": 3.6485000000000003,
          "life_expect": 70.19,
          "pop": 16997509,
          "year": 1985
         },
         {
          "cluster": 3,
          "country": "Venezuela",
          "fertility": 3.25,
          "life_expect": 71.15,
          "pop": 19325222,
          "year": 1990
         },
         {
          "cluster": 3,
          "country": "Venezuela",
          "fertility": 2.9415,
          "life_expect": 72.146,
          "pop": 21555902,
          "year": 1995
         },
         {
          "cluster": 3,
          "country": "Venezuela",
          "fertility": 2.723,
          "life_expect": 72.766,
          "pop": 23542649,
          "year": 2000
         },
         {
          "cluster": 3,
          "country": "Venezuela",
          "fertility": 2.547,
          "life_expect": 73.747,
          "pop": 25375281,
          "year": 2005
         }
        ]
       },
       "encoding": {
        "color": {
         "field": "cluster",
         "type": "nominal"
        },
        "size": {
         "field": "pop",
         "type": "quantitative"
        },
        "tooltip": {
         "field": "country",
         "type": "nominal"
        },
        "x": {
         "axis": {
          "title": "Life Expectancy (Years)"
         },
         "field": "life_expect",
         "scale": {
          "clamp": true,
          "domain": [
           30,
           85
          ],
          "zero": false
         },
         "type": "quantitative"
        },
        "y": {
         "axis": {
          "title": "No. of Children Per Woman"
         },
         "field": "fertility",
         "scale": {
          "clamp": true,
          "domain": [
           1,
           8
          ],
          "zero": false
         },
         "type": "quantitative"
        }
       },
       "mark": "circle",
       "selection": {
        "Select": {
         "bind": {
          "input": "range",
          "max": 2005,
          "min": 1955,
          "step": 5
         },
         "empty": "none",
         "fields": [
          "year"
         ],
         "on": "click",
         "resolve": "global",
         "type": "single"
        }
       },
       "transform": [
        {
         "filter": {
          "selection": "Select"
         }
        }
       ],
       "width": 500
      },
      "image/png": "[encoded data removed]",
      "text/plain": [
       "<VegaLite 2 object>\n",
       "\n",
       "If you see this message, it means the renderer has not been properly enabled\n",
       "for the frontend that you are using. For more information, see\n",
       "https://altair-viz.github.io/user_guide/troubleshooting.html\n"
      ]
     },
     "execution_count": 29,
     "metadata": {},
     "output_type": "execute_result"
    }
   ],
   "source": [
    "gapminder = data.gapminder()\n",
    "\n",
    "slider = alt.binding_range(min=1955, \n",
    "                           max=2005, \n",
    "                           step=5)\n",
    "\n",
    "year = alt.selection_single(name=\"Select\",\n",
    "                            fields=['year'], \n",
    "                            bind=slider,\n",
    "                           empty='none')\n",
    "\n",
    "(alt\n",
    " .Chart(data=gapminder, width=500)\n",
    " .mark_circle()\n",
    " .encode(alt.X('life_expect:Q', \n",
    "               scale=alt.Scale(zero=False, domain=(30, 85), clamp=True),\n",
    "               axis=alt.Axis(title='Life Expectancy (Years)')),\n",
    "         alt.Y('fertility:Q',\n",
    "               scale=alt.Scale(zero=False, domain=(1, 8), clamp=True),\n",
    "               axis=alt.Axis(title='No. of Children Per Woman')),\n",
    "         color='cluster:N',\n",
    "         size='pop',\n",
    "         tooltip='country:N')\n",
    " .properties(selection=year)\n",
    " .transform_filter(year.ref())\n",
    ")"
   ]
  },
  {
   "cell_type": "code",
   "execution_count": 32,
   "metadata": {},
   "outputs": [
    {
     "data": {
      "text/html": [
       "<div>\n",
       "<style scoped>\n",
       "    .dataframe tbody tr th:only-of-type {\n",
       "        vertical-align: middle;\n",
       "    }\n",
       "\n",
       "    .dataframe tbody tr th {\n",
       "        vertical-align: top;\n",
       "    }\n",
       "\n",
       "    .dataframe thead th {\n",
       "        text-align: right;\n",
       "    }\n",
       "</style>\n",
       "<table border=\"1\" class=\"dataframe\">\n",
       "  <thead>\n",
       "    <tr style=\"text-align: right;\">\n",
       "      <th></th>\n",
       "      <th>Creative_Type</th>\n",
       "      <th>Director</th>\n",
       "      <th>Distributor</th>\n",
       "      <th>IMDB_Rating</th>\n",
       "      <th>IMDB_Votes</th>\n",
       "      <th>MPAA_Rating</th>\n",
       "      <th>Major_Genre</th>\n",
       "      <th>Production_Budget</th>\n",
       "      <th>Release_Date</th>\n",
       "      <th>Rotten_Tomatoes_Rating</th>\n",
       "      <th>Running_Time_min</th>\n",
       "      <th>Source</th>\n",
       "      <th>Title</th>\n",
       "      <th>US_DVD_Sales</th>\n",
       "      <th>US_Gross</th>\n",
       "      <th>Worldwide_Gross</th>\n",
       "    </tr>\n",
       "  </thead>\n",
       "  <tbody>\n",
       "    <tr>\n",
       "      <th>0</th>\n",
       "      <td>None</td>\n",
       "      <td>None</td>\n",
       "      <td>Gramercy</td>\n",
       "      <td>6.1</td>\n",
       "      <td>1071.0</td>\n",
       "      <td>R</td>\n",
       "      <td>None</td>\n",
       "      <td>8000000.0</td>\n",
       "      <td>12-Jun-98</td>\n",
       "      <td>NaN</td>\n",
       "      <td>NaN</td>\n",
       "      <td>None</td>\n",
       "      <td>The Land Girls</td>\n",
       "      <td>NaN</td>\n",
       "      <td>146083.0</td>\n",
       "      <td>146083.0</td>\n",
       "    </tr>\n",
       "    <tr>\n",
       "      <th>1</th>\n",
       "      <td>None</td>\n",
       "      <td>None</td>\n",
       "      <td>Strand</td>\n",
       "      <td>6.9</td>\n",
       "      <td>207.0</td>\n",
       "      <td>R</td>\n",
       "      <td>Drama</td>\n",
       "      <td>300000.0</td>\n",
       "      <td>7-Aug-98</td>\n",
       "      <td>NaN</td>\n",
       "      <td>NaN</td>\n",
       "      <td>None</td>\n",
       "      <td>First Love, Last Rites</td>\n",
       "      <td>NaN</td>\n",
       "      <td>10876.0</td>\n",
       "      <td>10876.0</td>\n",
       "    </tr>\n",
       "    <tr>\n",
       "      <th>2</th>\n",
       "      <td>None</td>\n",
       "      <td>None</td>\n",
       "      <td>Lionsgate</td>\n",
       "      <td>6.8</td>\n",
       "      <td>865.0</td>\n",
       "      <td>None</td>\n",
       "      <td>Comedy</td>\n",
       "      <td>250000.0</td>\n",
       "      <td>28-Aug-98</td>\n",
       "      <td>NaN</td>\n",
       "      <td>NaN</td>\n",
       "      <td>None</td>\n",
       "      <td>I Married a Strange Person</td>\n",
       "      <td>NaN</td>\n",
       "      <td>203134.0</td>\n",
       "      <td>203134.0</td>\n",
       "    </tr>\n",
       "    <tr>\n",
       "      <th>3</th>\n",
       "      <td>None</td>\n",
       "      <td>None</td>\n",
       "      <td>Fine Line</td>\n",
       "      <td>NaN</td>\n",
       "      <td>NaN</td>\n",
       "      <td>None</td>\n",
       "      <td>Comedy</td>\n",
       "      <td>300000.0</td>\n",
       "      <td>11-Sep-98</td>\n",
       "      <td>13.0</td>\n",
       "      <td>NaN</td>\n",
       "      <td>None</td>\n",
       "      <td>Let's Talk About Sex</td>\n",
       "      <td>NaN</td>\n",
       "      <td>373615.0</td>\n",
       "      <td>373615.0</td>\n",
       "    </tr>\n",
       "    <tr>\n",
       "      <th>4</th>\n",
       "      <td>Contemporary Fiction</td>\n",
       "      <td>None</td>\n",
       "      <td>Trimark</td>\n",
       "      <td>3.4</td>\n",
       "      <td>165.0</td>\n",
       "      <td>R</td>\n",
       "      <td>Drama</td>\n",
       "      <td>1000000.0</td>\n",
       "      <td>9-Oct-98</td>\n",
       "      <td>62.0</td>\n",
       "      <td>NaN</td>\n",
       "      <td>Original Screenplay</td>\n",
       "      <td>Slam</td>\n",
       "      <td>NaN</td>\n",
       "      <td>1009819.0</td>\n",
       "      <td>1087521.0</td>\n",
       "    </tr>\n",
       "  </tbody>\n",
       "</table>\n",
       "</div>"
      ],
      "text/plain": [
       "          Creative_Type Director       ...          US_Gross  Worldwide_Gross\n",
       "0                  None     None       ...          146083.0         146083.0\n",
       "1                  None     None       ...           10876.0          10876.0\n",
       "2                  None     None       ...          203134.0         203134.0\n",
       "3                  None     None       ...          373615.0         373615.0\n",
       "4  Contemporary Fiction     None       ...         1009819.0        1087521.0\n",
       "\n",
       "[5 rows x 16 columns]"
      ]
     },
     "execution_count": 32,
     "metadata": {},
     "output_type": "execute_result"
    }
   ],
   "source": [
    "movies = data.movies()\n",
    "movies.head()"
   ]
  },
  {
   "cell_type": "code",
   "execution_count": 36,
   "metadata": {},
   "outputs": [
    {
     "data": {
      "text/plain": [
       "['IMDB_Rating', 'MPAA_Rating', 'Rotten_Tomatoes_Rating']"
      ]
     },
     "execution_count": 36,
     "metadata": {},
     "output_type": "execute_result"
    }
   ],
   "source": [
    "[x for x in movies.columns if 'rating' in x.lower()]"
   ]
  },
  {
   "cell_type": "code",
   "execution_count": 35,
   "metadata": {},
   "outputs": [
    {
     "data": {
      "text/plain": [
       "(1874, 3)"
      ]
     },
     "execution_count": 35,
     "metadata": {},
     "output_type": "execute_result"
    }
   ],
   "source": [
    "movies[[x for x in movies.columns if 'rating' in x.lower()]].dropna()"
   ]
  },
  {
   "cell_type": "code",
   "execution_count": null,
   "metadata": {},
   "outputs": [],
   "source": []
  }
 ],
 "metadata": {
  "kernelspec": {
   "display_name": "Python 3",
   "language": "python",
   "name": "python3"
  },
  "language_info": {
   "codemirror_mode": {
    "name": "ipython",
    "version": 3
   },
   "file_extension": ".py",
   "mimetype": "text/x-python",
   "name": "python",
   "nbconvert_exporter": "python",
   "pygments_lexer": "ipython3",
   "version": "3.6.5"
  }
 },
 "nbformat": 4,
 "nbformat_minor": 2
}
