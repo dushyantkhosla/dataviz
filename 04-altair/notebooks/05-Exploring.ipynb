{
 "cells": [
  {
   "cell_type": "markdown",
   "metadata": {},
   "source": [
    "# Exploring a DataSet\n",
    "\n",
    "Now that we have seen the basic pieces of Altair's API, it's time to practice using it to explore a new dataset.\n",
    "With your partner, choose one of the following three datasets, detailed below.\n",
    "\n",
    "As you explore the data, recall the building blocks we've discussed:\n",
    "\n",
    "- various marks: ``mark_point()``, ``mark_line()``, ``mark_tick()``, ``mark_bar()``, ``mark_area()``, ``mark_rect()``, etc.\n",
    "- various encodings: ``x``, ``y``, ``color``, ``shape``, ``size``, ``row``, ``column``, ``text``, ``tooltip``, etc.\n",
    "- binning and aggregations: a [List of available aggregations](https://altair-viz.github.io/user_guide/encoding.html#binning-and-aggregation) can be found in Altair's documentation\n",
    "- stacking and layering (``alt.layer`` <-> ``+``, ``alt.hconcat`` <-> ``|``, ``alt.vconcat`` <-> ``&``)\n",
    "\n",
    "Start simple and build from there. Which encodings work best with quantitative data? With categorical data?\n",
    "What can you learn about your dataset using these tools?\n",
    "\n",
    "We'll set aside about 20 minutes for you to work on this with your partner."
   ]
  },
  {
   "cell_type": "code",
   "execution_count": 1,
   "metadata": {},
   "outputs": [],
   "source": [
    "import altair as alt\n",
    "from vega_datasets import data"
   ]
  },
  {
   "cell_type": "markdown",
   "metadata": {},
   "source": [
    "## Seattle Weather\n",
    "\n",
    "This data includes daily precipitation, temperature range, wind speed, and weather type as a function of date between 2012 and 2015 in Seattle."
   ]
  },
  {
   "cell_type": "code",
   "execution_count": 2,
   "metadata": {},
   "outputs": [
    {
     "data": {
      "text/html": [
       "<div>\n",
       "<style scoped>\n",
       "    .dataframe tbody tr th:only-of-type {\n",
       "        vertical-align: middle;\n",
       "    }\n",
       "\n",
       "    .dataframe tbody tr th {\n",
       "        vertical-align: top;\n",
       "    }\n",
       "\n",
       "    .dataframe thead th {\n",
       "        text-align: right;\n",
       "    }\n",
       "</style>\n",
       "<table border=\"1\" class=\"dataframe\">\n",
       "  <thead>\n",
       "    <tr style=\"text-align: right;\">\n",
       "      <th></th>\n",
       "      <th>date</th>\n",
       "      <th>precipitation</th>\n",
       "      <th>temp_max</th>\n",
       "      <th>temp_min</th>\n",
       "      <th>wind</th>\n",
       "      <th>weather</th>\n",
       "    </tr>\n",
       "  </thead>\n",
       "  <tbody>\n",
       "    <tr>\n",
       "      <th>0</th>\n",
       "      <td>2012-01-01</td>\n",
       "      <td>0.0</td>\n",
       "      <td>12.8</td>\n",
       "      <td>5.0</td>\n",
       "      <td>4.7</td>\n",
       "      <td>drizzle</td>\n",
       "    </tr>\n",
       "    <tr>\n",
       "      <th>1</th>\n",
       "      <td>2012-01-02</td>\n",
       "      <td>10.9</td>\n",
       "      <td>10.6</td>\n",
       "      <td>2.8</td>\n",
       "      <td>4.5</td>\n",
       "      <td>rain</td>\n",
       "    </tr>\n",
       "    <tr>\n",
       "      <th>2</th>\n",
       "      <td>2012-01-03</td>\n",
       "      <td>0.8</td>\n",
       "      <td>11.7</td>\n",
       "      <td>7.2</td>\n",
       "      <td>2.3</td>\n",
       "      <td>rain</td>\n",
       "    </tr>\n",
       "    <tr>\n",
       "      <th>3</th>\n",
       "      <td>2012-01-04</td>\n",
       "      <td>20.3</td>\n",
       "      <td>12.2</td>\n",
       "      <td>5.6</td>\n",
       "      <td>4.7</td>\n",
       "      <td>rain</td>\n",
       "    </tr>\n",
       "    <tr>\n",
       "      <th>4</th>\n",
       "      <td>2012-01-05</td>\n",
       "      <td>1.3</td>\n",
       "      <td>8.9</td>\n",
       "      <td>2.8</td>\n",
       "      <td>6.1</td>\n",
       "      <td>rain</td>\n",
       "    </tr>\n",
       "  </tbody>\n",
       "</table>\n",
       "</div>"
      ],
      "text/plain": [
       "        date  precipitation  temp_max  temp_min  wind  weather\n",
       "0 2012-01-01            0.0      12.8       5.0   4.7  drizzle\n",
       "1 2012-01-02           10.9      10.6       2.8   4.5     rain\n",
       "2 2012-01-03            0.8      11.7       7.2   2.3     rain\n",
       "3 2012-01-04           20.3      12.2       5.6   4.7     rain\n",
       "4 2012-01-05            1.3       8.9       2.8   6.1     rain"
      ]
     },
     "execution_count": 2,
     "metadata": {},
     "output_type": "execute_result"
    }
   ],
   "source": [
    "weather = data.seattle_weather()\n",
    "weather.head()"
   ]
  },
  {
   "cell_type": "code",
   "execution_count": 3,
   "metadata": {},
   "outputs": [
    {
     "data": {
      "application/vnd.vegalite.v2+json": {
       "$schema": "https://vega.github.io/schema/vega-lite/v2.4.1.json",
       "config": {
        "view": {
         "height": 300,
         "width": 400
        }
       },
       "data": {
        "values": [
         {
          "date": "2012-01-01",
          "precipitation": 0,
          "temp_max": 12.8,
          "temp_min": 5,
          "weather": "drizzle",
          "wind": 4.7
         },
         {
          "date": "2012-01-02",
          "precipitation": 10.9,
          "temp_max": 10.6,
          "temp_min": 2.8,
          "weather": "rain",
          "wind": 4.5
         },
         {
          "date": "2012-01-03",
          "precipitation": 0.8,
          "temp_max": 11.7,
          "temp_min": 7.2,
          "weather": "rain",
          "wind": 2.3
         },
         {
          "date": "2012-01-04",
          "precipitation": 20.3,
          "temp_max": 12.2,
          "temp_min": 5.6,
          "weather": "rain",
          "wind": 4.7
         },
         {
          "date": "2012-01-05",
          "precipitation": 1.3,
          "temp_max": 8.9,
          "temp_min": 2.8,
          "weather": "rain",
          "wind": 6.1
         },
         {
          "date": "2012-01-06",
          "precipitation": 2.5,
          "temp_max": 4.4,
          "temp_min": 2.2,
          "weather": "rain",
          "wind": 2.2
         },
         {
          "date": "2012-01-07",
          "precipitation": 0,
          "temp_max": 7.2,
          "temp_min": 2.8,
          "weather": "rain",
          "wind": 2.3
         },
         {
          "date": "2012-01-08",
          "precipitation": 0,
          "temp_max": 10,
          "temp_min": 2.8,
          "weather": "sun",
          "wind": 2
         },
         {
          "date": "2012-01-09",
          "precipitation": 4.3,
          "temp_max": 9.4,
          "temp_min": 5,
          "weather": "rain",
          "wind": 3.4
         },
         {
          "date": "2012-01-10",
          "precipitation": 1,
          "temp_max": 6.1,
          "temp_min": 0.6,
          "weather": "rain",
          "wind": 3.4
         },
         {
          "date": "2012-01-11",
          "precipitation": 0,
          "temp_max": 6.1,
          "temp_min": -1.1,
          "weather": "sun",
          "wind": 5.1
         },
         {
          "date": "2012-01-12",
          "precipitation": 0,
          "temp_max": 6.1,
          "temp_min": -1.7,
          "weather": "sun",
          "wind": 1.9
         },
         {
          "date": "2012-01-13",
          "precipitation": 0,
          "temp_max": 5,
          "temp_min": -2.8,
          "weather": "sun",
          "wind": 1.3
         },
         {
          "date": "2012-01-14",
          "precipitation": 4.1,
          "temp_max": 4.4,
          "temp_min": 0.6,
          "weather": "snow",
          "wind": 5.3
         },
         {
          "date": "2012-01-15",
          "precipitation": 5.3,
          "temp_max": 1.1,
          "temp_min": -3.3,
          "weather": "snow",
          "wind": 3.2
         },
         {
          "date": "2012-01-16",
          "precipitation": 2.5,
          "temp_max": 1.7,
          "temp_min": -2.8,
          "weather": "snow",
          "wind": 5
         },
         {
          "date": "2012-01-17",
          "precipitation": 8.1,
          "temp_max": 3.3,
          "temp_min": 0,
          "weather": "snow",
          "wind": 5.6
         },
         {
          "date": "2012-01-18",
          "precipitation": 19.8,
          "temp_max": 0,
          "temp_min": -2.8,
          "weather": "snow",
          "wind": 5
         },
         {
          "date": "2012-01-19",
          "precipitation": 15.2,
          "temp_max": -1.1,
          "temp_min": -2.8,
          "weather": "snow",
          "wind": 1.6
         },
         {
          "date": "2012-01-20",
          "precipitation": 13.5,
          "temp_max": 7.2,
          "temp_min": -1.1,
          "weather": "snow",
          "wind": 2.3
         },
         {
          "date": "2012-01-21",
          "precipitation": 3,
          "temp_max": 8.3,
          "temp_min": 3.3,
          "weather": "rain",
          "wind": 8.2
         },
         {
          "date": "2012-01-22",
          "precipitation": 6.1,
          "temp_max": 6.7,
          "temp_min": 2.2,
          "weather": "rain",
          "wind": 4.8
         },
         {
          "date": "2012-01-23",
          "precipitation": 0,
          "temp_max": 8.3,
          "temp_min": 1.1,
          "weather": "rain",
          "wind": 3.6
         },
         {
          "date": "2012-01-24",
          "precipitation": 8.6,
          "temp_max": 10,
          "temp_min": 2.2,
          "weather": "rain",
          "wind": 5.1
         },
         {
          "date": "2012-01-25",
          "precipitation": 8.1,
          "temp_max": 8.9,
          "temp_min": 4.4,
          "weather": "rain",
          "wind": 5.4
         },
         {
          "date": "2012-01-26",
          "precipitation": 4.8,
          "temp_max": 8.9,
          "temp_min": 1.1,
          "weather": "rain",
          "wind": 4.8
         },
         {
          "date": "2012-01-27",
          "precipitation": 0,
          "temp_max": 6.7,
          "temp_min": -2.2,
          "weather": "drizzle",
          "wind": 1.4
         },
         {
          "date": "2012-01-28",
          "precipitation": 0,
          "temp_max": 6.7,
          "temp_min": 0.6,
          "weather": "rain",
          "wind": 2.2
         },
         {
          "date": "2012-01-29",
          "precipitation": 27.7,
          "temp_max": 9.4,
          "temp_min": 3.9,
          "weather": "rain",
          "wind": 4.5
         },
         {
          "date": "2012-01-30",
          "precipitation": 3.6,
          "temp_max": 8.3,
          "temp_min": 6.1,
          "weather": "rain",
          "wind": 5.1
         },
         {
          "date": "2012-01-31",
          "precipitation": 1.8,
          "temp_max": 9.4,
          "temp_min": 6.1,
          "weather": "rain",
          "wind": 3.9
         },
         {
          "date": "2012-02-01",
          "precipitation": 13.5,
          "temp_max": 8.9,
          "temp_min": 3.3,
          "weather": "rain",
          "wind": 2.7
         },
         {
          "date": "2012-02-02",
          "precipitation": 0,
          "temp_max": 8.3,
          "temp_min": 1.7,
          "weather": "sun",
          "wind": 2.6
         },
         {
          "date": "2012-02-03",
          "precipitation": 0,
          "temp_max": 14.4,
          "temp_min": 2.2,
          "weather": "sun",
          "wind": 5.3
         },
         {
          "date": "2012-02-04",
          "precipitation": 0,
          "temp_max": 15.6,
          "temp_min": 5,
          "weather": "sun",
          "wind": 4.3
         },
         {
          "date": "2012-02-05",
          "precipitation": 0,
          "temp_max": 13.9,
          "temp_min": 1.7,
          "weather": "sun",
          "wind": 2.9
         },
         {
          "date": "2012-02-06",
          "precipitation": 0,
          "temp_max": 16.1,
          "temp_min": 1.7,
          "weather": "sun",
          "wind": 5
         },
         {
          "date": "2012-02-07",
          "precipitation": 0.3,
          "temp_max": 15.6,
          "temp_min": 7.8,
          "weather": "rain",
          "wind": 5.3
         },
         {
          "date": "2012-02-08",
          "precipitation": 2.8,
          "temp_max": 10,
          "temp_min": 5,
          "weather": "rain",
          "wind": 2.7
         },
         {
          "date": "2012-02-09",
          "precipitation": 2.5,
          "temp_max": 11.1,
          "temp_min": 7.8,
          "weather": "rain",
          "wind": 2.4
         },
         {
          "date": "2012-02-10",
          "precipitation": 2.5,
          "temp_max": 12.8,
          "temp_min": 6.7,
          "weather": "rain",
          "wind": 3
         },
         {
          "date": "2012-02-11",
          "precipitation": 0.8,
          "temp_max": 8.9,
          "temp_min": 5.6,
          "weather": "rain",
          "wind": 3.4
         },
         {
          "date": "2012-02-12",
          "precipitation": 1,
          "temp_max": 8.3,
          "temp_min": 5,
          "weather": "rain",
          "wind": 1.3
         },
         {
          "date": "2012-02-13",
          "precipitation": 11.4,
          "temp_max": 7.2,
          "temp_min": 4.4,
          "weather": "rain",
          "wind": 1.4
         },
         {
          "date": "2012-02-14",
          "precipitation": 2.5,
          "temp_max": 6.7,
          "temp_min": 1.1,
          "weather": "rain",
          "wind": 3.1
         },
         {
          "date": "2012-02-15",
          "precipitation": 0,
          "temp_max": 7.2,
          "temp_min": 0.6,
          "weather": "drizzle",
          "wind": 1.8
         },
         {
          "date": "2012-02-16",
          "precipitation": 1.8,
          "temp_max": 7.2,
          "temp_min": 3.3,
          "weather": "rain",
          "wind": 2.1
         },
         {
          "date": "2012-02-17",
          "precipitation": 17.3,
          "temp_max": 10,
          "temp_min": 4.4,
          "weather": "rain",
          "wind": 3.4
         },
         {
          "date": "2012-02-18",
          "precipitation": 6.4,
          "temp_max": 6.7,
          "temp_min": 3.9,
          "weather": "rain",
          "wind": 8.1
         },
         {
          "date": "2012-02-19",
          "precipitation": 0,
          "temp_max": 6.7,
          "temp_min": 2.2,
          "weather": "sun",
          "wind": 4.7
         },
         {
          "date": "2012-02-20",
          "precipitation": 3,
          "temp_max": 7.8,
          "temp_min": 1.7,
          "weather": "rain",
          "wind": 2.9
         },
         {
          "date": "2012-02-21",
          "precipitation": 0.8,
          "temp_max": 10,
          "temp_min": 7.8,
          "weather": "rain",
          "wind": 7.5
         },
         {
          "date": "2012-02-22",
          "precipitation": 8.6,
          "temp_max": 10,
          "temp_min": 2.8,
          "weather": "rain",
          "wind": 5.9
         },
         {
          "date": "2012-02-23",
          "precipitation": 0,
          "temp_max": 8.3,
          "temp_min": 2.8,
          "weather": "sun",
          "wind": 3.9
         },
         {
          "date": "2012-02-24",
          "precipitation": 11.4,
          "temp_max": 6.7,
          "temp_min": 4.4,
          "weather": "rain",
          "wind": 3.5
         },
         {
          "date": "2012-02-25",
          "precipitation": 0,
          "temp_max": 7.2,
          "temp_min": 2.8,
          "weather": "rain",
          "wind": 6.4
         },
         {
          "date": "2012-02-26",
          "precipitation": 1.3,
          "temp_max": 5,
          "temp_min": -1.1,
          "weather": "snow",
          "wind": 3.4
         },
         {
          "date": "2012-02-27",
          "precipitation": 0,
          "temp_max": 6.7,
          "temp_min": -2.2,
          "weather": "sun",
          "wind": 3
         },
         {
          "date": "2012-02-28",
          "precipitation": 3.6,
          "temp_max": 6.7,
          "temp_min": -0.6,
          "weather": "snow",
          "wind": 4.2
         },
         {
          "date": "2012-02-29",
          "precipitation": 0.8,
          "temp_max": 5,
          "temp_min": 1.1,
          "weather": "snow",
          "wind": 7
         },
         {
          "date": "2012-03-01",
          "precipitation": 0,
          "temp_max": 6.1,
          "temp_min": 1.1,
          "weather": "sun",
          "wind": 3.1
         },
         {
          "date": "2012-03-02",
          "precipitation": 2,
          "temp_max": 6.7,
          "temp_min": 3.9,
          "weather": "rain",
          "wind": 5.1
         },
         {
          "date": "2012-03-03",
          "precipitation": 0,
          "temp_max": 12.2,
          "temp_min": 6.7,
          "weather": "sun",
          "wind": 7
         },
         {
          "date": "2012-03-04",
          "precipitation": 0,
          "temp_max": 10.6,
          "temp_min": 6.7,
          "weather": "rain",
          "wind": 5.6
         },
         {
          "date": "2012-03-05",
          "precipitation": 6.9,
          "temp_max": 7.8,
          "temp_min": 1.1,
          "weather": "rain",
          "wind": 6.2
         },
         {
          "date": "2012-03-06",
          "precipitation": 0.5,
          "temp_max": 6.7,
          "temp_min": 0,
          "weather": "snow",
          "wind": 2.7
         },
         {
          "date": "2012-03-07",
          "precipitation": 0,
          "temp_max": 8.9,
          "temp_min": -1.7,
          "weather": "sun",
          "wind": 2.7
         },
         {
          "date": "2012-03-08",
          "precipitation": 0,
          "temp_max": 15.6,
          "temp_min": 0.6,
          "weather": "sun",
          "wind": 2.5
         },
         {
          "date": "2012-03-09",
          "precipitation": 3.6,
          "temp_max": 9.4,
          "temp_min": 5,
          "weather": "rain",
          "wind": 2.8
         },
         {
          "date": "2012-03-10",
          "precipitation": 10.4,
          "temp_max": 7.2,
          "temp_min": 6.1,
          "weather": "rain",
          "wind": 3.4
         },
         {
          "date": "2012-03-11",
          "precipitation": 13.7,
          "temp_max": 6.7,
          "temp_min": 2.8,
          "weather": "rain",
          "wind": 5.8
         },
         {
          "date": "2012-03-12",
          "precipitation": 19.3,
          "temp_max": 8.3,
          "temp_min": 0.6,
          "weather": "snow",
          "wind": 6.2
         },
         {
          "date": "2012-03-13",
          "precipitation": 9.4,
          "temp_max": 5.6,
          "temp_min": 0.6,
          "weather": "snow",
          "wind": 5.3
         },
         {
          "date": "2012-03-14",
          "precipitation": 8.6,
          "temp_max": 7.8,
          "temp_min": 1.1,
          "weather": "rain",
          "wind": 4.7
         },
         {
          "date": "2012-03-15",
          "precipitation": 23.9,
          "temp_max": 11.1,
          "temp_min": 5.6,
          "weather": "snow",
          "wind": 5.8
         },
         {
          "date": "2012-03-16",
          "precipitation": 8.4,
          "temp_max": 8.9,
          "temp_min": 3.9,
          "weather": "rain",
          "wind": 5.1
         },
         {
          "date": "2012-03-17",
          "precipitation": 9.4,
          "temp_max": 10,
          "temp_min": 0.6,
          "weather": "snow",
          "wind": 3.8
         },
         {
          "date": "2012-03-18",
          "precipitation": 3.6,
          "temp_max": 5,
          "temp_min": -0.6,
          "weather": "rain",
          "wind": 2.7
         },
         {
          "date": "2012-03-19",
          "precipitation": 2,
          "temp_max": 7.2,
          "temp_min": -1.1,
          "weather": "rain",
          "wind": 3
         },
         {
          "date": "2012-03-20",
          "precipitation": 3.6,
          "temp_max": 7.8,
          "temp_min": 2.2,
          "weather": "rain",
          "wind": 6.4
         },
         {
          "date": "2012-03-21",
          "precipitation": 1.3,
          "temp_max": 8.9,
          "temp_min": 1.1,
          "weather": "rain",
          "wind": 2.5
         },
         {
          "date": "2012-03-22",
          "precipitation": 4.1,
          "temp_max": 10,
          "temp_min": 1.7,
          "weather": "rain",
          "wind": 2.1
         },
         {
          "date": "2012-03-23",
          "precipitation": 0,
          "temp_max": 12.2,
          "temp_min": 0.6,
          "weather": "sun",
          "wind": 2.8
         },
         {
          "date": "2012-03-24",
          "precipitation": 0,
          "temp_max": 15,
          "temp_min": 3.3,
          "weather": "sun",
          "wind": 5.2
         },
         {
          "date": "2012-03-25",
          "precipitation": 0,
          "temp_max": 13.3,
          "temp_min": 2.2,
          "weather": "rain",
          "wind": 2.7
         },
         {
          "date": "2012-03-26",
          "precipitation": 0,
          "temp_max": 12.8,
          "temp_min": 6.1,
          "weather": "drizzle",
          "wind": 4.3
         },
         {
          "date": "2012-03-27",
          "precipitation": 4.8,
          "temp_max": 14.4,
          "temp_min": 6.7,
          "weather": "rain",
          "wind": 3.8
         },
         {
          "date": "2012-03-28",
          "precipitation": 1.3,
          "temp_max": 10.6,
          "temp_min": 7.2,
          "weather": "rain",
          "wind": 5.9
         },
         {
          "date": "2012-03-29",
          "precipitation": 27.4,
          "temp_max": 10,
          "temp_min": 6.1,
          "weather": "rain",
          "wind": 4.4
         },
         {
          "date": "2012-03-30",
          "precipitation": 5.6,
          "temp_max": 9.4,
          "temp_min": 5,
          "weather": "rain",
          "wind": 4.7
         },
         {
          "date": "2012-03-31",
          "precipitation": 13.2,
          "temp_max": 10,
          "temp_min": 2.8,
          "weather": "rain",
          "wind": 3.4
         },
         {
          "date": "2012-04-01",
          "precipitation": 1.5,
          "temp_max": 8.9,
          "temp_min": 4.4,
          "weather": "rain",
          "wind": 6.8
         },
         {
          "date": "2012-04-02",
          "precipitation": 0,
          "temp_max": 16.7,
          "temp_min": 4.4,
          "weather": "sun",
          "wind": 3.1
         },
         {
          "date": "2012-04-03",
          "precipitation": 1.5,
          "temp_max": 11.7,
          "temp_min": 3.3,
          "weather": "rain",
          "wind": 3.1
         },
         {
          "date": "2012-04-04",
          "precipitation": 0,
          "temp_max": 10.6,
          "temp_min": 2.8,
          "weather": "sun",
          "wind": 2.1
         },
         {
          "date": "2012-04-05",
          "precipitation": 4.6,
          "temp_max": 9.4,
          "temp_min": 2.8,
          "weather": "snow",
          "wind": 1.8
         },
         {
          "date": "2012-04-06",
          "precipitation": 0.3,
          "temp_max": 11.1,
          "temp_min": 3.3,
          "weather": "rain",
          "wind": 2.6
         },
         {
          "date": "2012-04-07",
          "precipitation": 0,
          "temp_max": 16.1,
          "temp_min": 1.7,
          "weather": "sun",
          "wind": 4.3
         },
         {
          "date": "2012-04-08",
          "precipitation": 0,
          "temp_max": 21.1,
          "temp_min": 7.2,
          "weather": "sun",
          "wind": 4.1
         },
         {
          "date": "2012-04-09",
          "precipitation": 0,
          "temp_max": 20,
          "temp_min": 6.1,
          "weather": "sun",
          "wind": 2.1
         },
         {
          "date": "2012-04-10",
          "precipitation": 0,
          "temp_max": 17.8,
          "temp_min": 8.9,
          "weather": "rain",
          "wind": 3.2
         },
         {
          "date": "2012-04-11",
          "precipitation": 2.3,
          "temp_max": 11.1,
          "temp_min": 7.2,
          "weather": "rain",
          "wind": 2.6
         },
         {
          "date": "2012-04-12",
          "precipitation": 0.5,
          "temp_max": 13.9,
          "temp_min": 5.6,
          "weather": "rain",
          "wind": 2.6
         },
         {
          "date": "2012-04-13",
          "precipitation": 0,
          "temp_max": 15,
          "temp_min": 3.9,
          "weather": "drizzle",
          "wind": 4
         },
         {
          "date": "2012-04-14",
          "precipitation": 0,
          "temp_max": 15.6,
          "temp_min": 3.3,
          "weather": "sun",
          "wind": 3
         },
         {
          "date": "2012-04-15",
          "precipitation": 0,
          "temp_max": 16.1,
          "temp_min": 7.2,
          "weather": "rain",
          "wind": 2.9
         },
         {
          "date": "2012-04-16",
          "precipitation": 8.1,
          "temp_max": 13.3,
          "temp_min": 6.7,
          "weather": "rain",
          "wind": 5.8
         },
         {
          "date": "2012-04-17",
          "precipitation": 1.8,
          "temp_max": 10,
          "temp_min": 4.4,
          "weather": "rain",
          "wind": 2
         },
         {
          "date": "2012-04-18",
          "precipitation": 1.8,
          "temp_max": 13.3,
          "temp_min": 7.2,
          "weather": "rain",
          "wind": 3.9
         },
         {
          "date": "2012-04-19",
          "precipitation": 10.9,
          "temp_max": 13.9,
          "temp_min": 5,
          "weather": "rain",
          "wind": 2.6
         },
         {
          "date": "2012-04-20",
          "precipitation": 6.6,
          "temp_max": 13.3,
          "temp_min": 6.7,
          "weather": "rain",
          "wind": 2.7
         },
         {
          "date": "2012-04-21",
          "precipitation": 0,
          "temp_max": 20,
          "temp_min": 4.4,
          "weather": "sun",
          "wind": 2.3
         },
         {
          "date": "2012-04-22",
          "precipitation": 0,
          "temp_max": 23.3,
          "temp_min": 8.3,
          "weather": "rain",
          "wind": 2.6
         },
         {
          "date": "2012-04-23",
          "precipitation": 0,
          "temp_max": 21.7,
          "temp_min": 8.9,
          "weather": "sun",
          "wind": 3.5
         },
         {
          "date": "2012-04-24",
          "precipitation": 4.3,
          "temp_max": 13.9,
          "temp_min": 10,
          "weather": "rain",
          "wind": 2.8
         },
         {
          "date": "2012-04-25",
          "precipitation": 10.7,
          "temp_max": 16.7,
          "temp_min": 8.9,
          "weather": "rain",
          "wind": 2.6
         },
         {
          "date": "2012-04-26",
          "precipitation": 3.8,
          "temp_max": 13.9,
          "temp_min": 6.7,
          "weather": "rain",
          "wind": 5.2
         },
         {
          "date": "2012-04-27",
          "precipitation": 0.8,
          "temp_max": 13.3,
          "temp_min": 6.1,
          "weather": "rain",
          "wind": 4.8
         },
         {
          "date": "2012-04-28",
          "precipitation": 0,
          "temp_max": 16.1,
          "temp_min": 8.3,
          "weather": "drizzle",
          "wind": 2.5
         },
         {
          "date": "2012-04-29",
          "precipitation": 4.3,
          "temp_max": 15.6,
          "temp_min": 8.9,
          "weather": "rain",
          "wind": 1.6
         },
         {
          "date": "2012-04-30",
          "precipitation": 4.3,
          "temp_max": 12.8,
          "temp_min": 7.2,
          "weather": "rain",
          "wind": 8
         },
         {
          "date": "2012-05-01",
          "precipitation": 0.5,
          "temp_max": 11.7,
          "temp_min": 6.1,
          "weather": "rain",
          "wind": 6.4
         },
         {
          "date": "2012-05-02",
          "precipitation": 0.5,
          "temp_max": 13.3,
          "temp_min": 5.6,
          "weather": "rain",
          "wind": 2.5
         },
         {
          "date": "2012-05-03",
          "precipitation": 18.5,
          "temp_max": 11.1,
          "temp_min": 7.2,
          "weather": "rain",
          "wind": 3.4
         },
         {
          "date": "2012-05-04",
          "precipitation": 1.8,
          "temp_max": 12.2,
          "temp_min": 6.1,
          "weather": "rain",
          "wind": 4.6
         },
         {
          "date": "2012-05-05",
          "precipitation": 0,
          "temp_max": 13.3,
          "temp_min": 5,
          "weather": "sun",
          "wind": 2.3
         },
         {
          "date": "2012-05-06",
          "precipitation": 0,
          "temp_max": 17.8,
          "temp_min": 5,
          "weather": "sun",
          "wind": 2.4
         },
         {
          "date": "2012-05-07",
          "precipitation": 0,
          "temp_max": 23.9,
          "temp_min": 6.1,
          "weather": "sun",
          "wind": 2.2
         },
         {
          "date": "2012-05-08",
          "precipitation": 0,
          "temp_max": 18.3,
          "temp_min": 9.4,
          "weather": "sun",
          "wind": 3
         },
         {
          "date": "2012-05-09",
          "precipitation": 0,
          "temp_max": 13.3,
          "temp_min": 6.7,
          "weather": "rain",
          "wind": 3.9
         },
         {
          "date": "2012-05-10",
          "precipitation": 0,
          "temp_max": 14.4,
          "temp_min": 3.9,
          "weather": "sun",
          "wind": 3
         },
         {
          "date": "2012-05-11",
          "precipitation": 0,
          "temp_max": 18.3,
          "temp_min": 4.4,
          "weather": "sun",
          "wind": 4.3
         },
         {
          "date": "2012-05-12",
          "precipitation": 0,
          "temp_max": 24.4,
          "temp_min": 6.7,
          "weather": "sun",
          "wind": 3.4
         },
         {
          "date": "2012-05-13",
          "precipitation": 0,
          "temp_max": 25.6,
          "temp_min": 9.4,
          "weather": "sun",
          "wind": 4.2
         },
         {
          "date": "2012-05-14",
          "precipitation": 0,
          "temp_max": 26.7,
          "temp_min": 12.8,
          "weather": "sun",
          "wind": 3.8
         },
         {
          "date": "2012-05-15",
          "precipitation": 0,
          "temp_max": 24.4,
          "temp_min": 9.4,
          "weather": "drizzle",
          "wind": 4.1
         },
         {
          "date": "2012-05-16",
          "precipitation": 0,
          "temp_max": 19.4,
          "temp_min": 9.4,
          "weather": "sun",
          "wind": 3.5
         },
         {
          "date": "2012-05-17",
          "precipitation": 0,
          "temp_max": 17.8,
          "temp_min": 6.7,
          "weather": "rain",
          "wind": 2.9
         },
         {
          "date": "2012-05-18",
          "precipitation": 0,
          "temp_max": 15.6,
          "temp_min": 7.8,
          "weather": "rain",
          "wind": 3.1
         },
         {
          "date": "2012-05-19",
          "precipitation": 0,
          "temp_max": 19.4,
          "temp_min": 7.2,
          "weather": "sun",
          "wind": 1.5
         },
         {
          "date": "2012-05-20",
          "precipitation": 6.4,
          "temp_max": 14.4,
          "temp_min": 11.7,
          "weather": "rain",
          "wind": 1.3
         },
         {
          "date": "2012-05-21",
          "precipitation": 14,
          "temp_max": 16.7,
          "temp_min": 10,
          "weather": "rain",
          "wind": 4
         },
         {
          "date": "2012-05-22",
          "precipitation": 6.1,
          "temp_max": 12.8,
          "temp_min": 8.9,
          "weather": "rain",
          "wind": 4.8
         },
         {
          "date": "2012-05-23",
          "precipitation": 0.3,
          "temp_max": 14.4,
          "temp_min": 8.9,
          "weather": "rain",
          "wind": 6.3
         },
         {
          "date": "2012-05-24",
          "precipitation": 0,
          "temp_max": 17.2,
          "temp_min": 8.9,
          "weather": "rain",
          "wind": 3.3
         },
         {
          "date": "2012-05-25",
          "precipitation": 0,
          "temp_max": 22.2,
          "temp_min": 8.9,
          "weather": "rain",
          "wind": 3.1
         },
         {
          "date": "2012-05-26",
          "precipitation": 0,
          "temp_max": 22.2,
          "temp_min": 8.9,
          "weather": "sun",
          "wind": 3.6
         },
         {
          "date": "2012-05-27",
          "precipitation": 0,
          "temp_max": 17.2,
          "temp_min": 11.7,
          "weather": "sun",
          "wind": 3.7
         },
         {
          "date": "2012-05-28",
          "precipitation": 0,
          "temp_max": 16.7,
          "temp_min": 10,
          "weather": "rain",
          "wind": 3.4
         },
         {
          "date": "2012-05-29",
          "precipitation": 0,
          "temp_max": 16.1,
          "temp_min": 7.8,
          "weather": "sun",
          "wind": 1.8
         },
         {
          "date": "2012-05-30",
          "precipitation": 0.3,
          "temp_max": 18.9,
          "temp_min": 11.1,
          "weather": "rain",
          "wind": 1.5
         },
         {
          "date": "2012-05-31",
          "precipitation": 3.8,
          "temp_max": 17.8,
          "temp_min": 12.2,
          "weather": "rain",
          "wind": 2.7
         },
         {
          "date": "2012-06-01",
          "precipitation": 6.6,
          "temp_max": 20,
          "temp_min": 12.8,
          "weather": "rain",
          "wind": 3.7
         },
         {
          "date": "2012-06-02",
          "precipitation": 0.3,
          "temp_max": 18.9,
          "temp_min": 10.6,
          "weather": "rain",
          "wind": 3.7
         },
         {
          "date": "2012-06-03",
          "precipitation": 0,
          "temp_max": 17.2,
          "temp_min": 9.4,
          "weather": "sun",
          "wind": 2.9
         },
         {
          "date": "2012-06-04",
          "precipitation": 1.3,
          "temp_max": 12.8,
          "temp_min": 8.9,
          "weather": "rain",
          "wind": 3.1
         },
         {
          "date": "2012-06-05",
          "precipitation": 16,
          "temp_max": 13.3,
          "temp_min": 8.3,
          "weather": "rain",
          "wind": 3.3
         },
         {
          "date": "2012-06-06",
          "precipitation": 0,
          "temp_max": 16.1,
          "temp_min": 6.1,
          "weather": "sun",
          "wind": 3.4
         },
         {
          "date": "2012-06-07",
          "precipitation": 16.5,
          "temp_max": 16.1,
          "temp_min": 8.9,
          "weather": "rain",
          "wind": 3.5
         },
         {
          "date": "2012-06-08",
          "precipitation": 1.5,
          "temp_max": 15,
          "temp_min": 8.3,
          "weather": "rain",
          "wind": 3
         },
         {
          "date": "2012-06-09",
          "precipitation": 0,
          "temp_max": 17.2,
          "temp_min": 8.3,
          "weather": "rain",
          "wind": 4.7
         },
         {
          "date": "2012-06-10",
          "precipitation": 0,
          "temp_max": 18.9,
          "temp_min": 10,
          "weather": "sun",
          "wind": 2.9
         },
         {
          "date": "2012-06-11",
          "precipitation": 0,
          "temp_max": 23.3,
          "temp_min": 10,
          "weather": "rain",
          "wind": 1.8
         },
         {
          "date": "2012-06-12",
          "precipitation": 0.8,
          "temp_max": 18.3,
          "temp_min": 12.8,
          "weather": "rain",
          "wind": 3.9
         },
         {
          "date": "2012-06-13",
          "precipitation": 0,
          "temp_max": 16.1,
          "temp_min": 11.1,
          "weather": "sun",
          "wind": 4.3
         },
         {
          "date": "2012-06-14",
          "precipitation": 0,
          "temp_max": 17.2,
          "temp_min": 10,
          "weather": "sun",
          "wind": 2.7
         },
         {
          "date": "2012-06-15",
          "precipitation": 0,
          "temp_max": 22.2,
          "temp_min": 9.4,
          "weather": "sun",
          "wind": 1.7
         },
         {
          "date": "2012-06-16",
          "precipitation": 0,
          "temp_max": 21.1,
          "temp_min": 15,
          "weather": "rain",
          "wind": 4.1
         },
         {
          "date": "2012-06-17",
          "precipitation": 0,
          "temp_max": 18.9,
          "temp_min": 11.7,
          "weather": "sun",
          "wind": 6.4
         },
         {
          "date": "2012-06-18",
          "precipitation": 3,
          "temp_max": 17.2,
          "temp_min": 10,
          "weather": "rain",
          "wind": 3.8
         },
         {
          "date": "2012-06-19",
          "precipitation": 1,
          "temp_max": 19.4,
          "temp_min": 10,
          "weather": "rain",
          "wind": 3
         },
         {
          "date": "2012-06-20",
          "precipitation": 0,
          "temp_max": 24.4,
          "temp_min": 10,
          "weather": "sun",
          "wind": 3
         },
         {
          "date": "2012-06-21",
          "precipitation": 0,
          "temp_max": 23.9,
          "temp_min": 11.7,
          "weather": "sun",
          "wind": 2.1
         },
         {
          "date": "2012-06-22",
          "precipitation": 15.7,
          "temp_max": 13.9,
          "temp_min": 11.7,
          "weather": "rain",
          "wind": 1.9
         },
         {
          "date": "2012-06-23",
          "precipitation": 8.6,
          "temp_max": 15.6,
          "temp_min": 9.4,
          "weather": "rain",
          "wind": 2.5
         },
         {
          "date": "2012-06-24",
          "precipitation": 0,
          "temp_max": 19.4,
          "temp_min": 9.4,
          "weather": "drizzle",
          "wind": 2
         },
         {
          "date": "2012-06-25",
          "precipitation": 0.5,
          "temp_max": 19.4,
          "temp_min": 11.1,
          "weather": "rain",
          "wind": 3.1
         },
         {
          "date": "2012-06-26",
          "precipitation": 0,
          "temp_max": 18.3,
          "temp_min": 10.6,
          "weather": "rain",
          "wind": 3.4
         },
         {
          "date": "2012-06-27",
          "precipitation": 0,
          "temp_max": 22.8,
          "temp_min": 8.9,
          "weather": "sun",
          "wind": 1.8
         },
         {
          "date": "2012-06-28",
          "precipitation": 0,
          "temp_max": 22.2,
          "temp_min": 11.7,
          "weather": "rain",
          "wind": 2.5
         },
         {
          "date": "2012-06-29",
          "precipitation": 0.3,
          "temp_max": 21.7,
          "temp_min": 15,
          "weather": "rain",
          "wind": 1.9
         },
         {
          "date": "2012-06-30",
          "precipitation": 3,
          "temp_max": 20,
          "temp_min": 13.3,
          "weather": "rain",
          "wind": 2.4
         },
         {
          "date": "2012-07-01",
          "precipitation": 0,
          "temp_max": 20,
          "temp_min": 12.2,
          "weather": "rain",
          "wind": 2.3
         },
         {
          "date": "2012-07-02",
          "precipitation": 2,
          "temp_max": 18.9,
          "temp_min": 11.7,
          "weather": "rain",
          "wind": 2.1
         },
         {
          "date": "2012-07-03",
          "precipitation": 5.8,
          "temp_max": 18.3,
          "temp_min": 10.6,
          "weather": "rain",
          "wind": 6
         },
         {
          "date": "2012-07-04",
          "precipitation": 0,
          "temp_max": 20.6,
          "temp_min": 9.4,
          "weather": "sun",
          "wind": 3.8
         },
         {
          "date": "2012-07-05",
          "precipitation": 0,
          "temp_max": 24.4,
          "temp_min": 10.6,
          "weather": "drizzle",
          "wind": 3.1
         },
         {
          "date": "2012-07-06",
          "precipitation": 0,
          "temp_max": 25,
          "temp_min": 11.1,
          "weather": "sun",
          "wind": 2.1
         },
         {
          "date": "2012-07-07",
          "precipitation": 0,
          "temp_max": 26.7,
          "temp_min": 12.8,
          "weather": "sun",
          "wind": 3.8
         },
         {
          "date": "2012-07-08",
          "precipitation": 0,
          "temp_max": 28.3,
          "temp_min": 14.4,
          "weather": "rain",
          "wind": 2.8
         },
         {
          "date": "2012-07-09",
          "precipitation": 1.5,
          "temp_max": 25,
          "temp_min": 12.8,
          "weather": "rain",
          "wind": 2
         },
         {
          "date": "2012-07-10",
          "precipitation": 0,
          "temp_max": 23.9,
          "temp_min": 11.1,
          "weather": "drizzle",
          "wind": 2.3
         },
         {
          "date": "2012-07-11",
          "precipitation": 0,
          "temp_max": 27.8,
          "temp_min": 13.3,
          "weather": "fog",
          "wind": 2.9
         },
         {
          "date": "2012-07-12",
          "precipitation": 0,
          "temp_max": 25.6,
          "temp_min": 13.3,
          "weather": "drizzle",
          "wind": 2.7
         },
         {
          "date": "2012-07-13",
          "precipitation": 0.5,
          "temp_max": 23.3,
          "temp_min": 13.9,
          "weather": "rain",
          "wind": 2.2
         },
         {
          "date": "2012-07-14",
          "precipitation": 0,
          "temp_max": 25,
          "temp_min": 15,
          "weather": "rain",
          "wind": 2.2
         },
         {
          "date": "2012-07-15",
          "precipitation": 0,
          "temp_max": 18.9,
          "temp_min": 13.3,
          "weather": "rain",
          "wind": 3.8
         },
         {
          "date": "2012-07-16",
          "precipitation": 0.3,
          "temp_max": 26.1,
          "temp_min": 13.3,
          "weather": "rain",
          "wind": 2.5
         },
         {
          "date": "2012-07-17",
          "precipitation": 0,
          "temp_max": 21.7,
          "temp_min": 15,
          "weather": "sun",
          "wind": 2.6
         },
         {
          "date": "2012-07-18",
          "precipitation": 0,
          "temp_max": 21.1,
          "temp_min": 14.4,
          "weather": "sun",
          "wind": 2.9
         },
         {
          "date": "2012-07-19",
          "precipitation": 0,
          "temp_max": 25,
          "temp_min": 14.4,
          "weather": "sun",
          "wind": 2.2
         },
         {
          "date": "2012-07-20",
          "precipitation": 15.2,
          "temp_max": 19.4,
          "temp_min": 13.9,
          "weather": "rain",
          "wind": 4
         },
         {
          "date": "2012-07-21",
          "precipitation": 0,
          "temp_max": 23.9,
          "temp_min": 13.9,
          "weather": "sun",
          "wind": 2.3
         },
         {
          "date": "2012-07-22",
          "precipitation": 1,
          "temp_max": 20.6,
          "temp_min": 12.2,
          "weather": "rain",
          "wind": 3.9
         },
         {
          "date": "2012-07-23",
          "precipitation": 0,
          "temp_max": 18.9,
          "temp_min": 11.1,
          "weather": "rain",
          "wind": 3.3
         },
         {
          "date": "2012-07-24",
          "precipitation": 0,
          "temp_max": 23.3,
          "temp_min": 12.2,
          "weather": "sun",
          "wind": 4.3
         },
         {
          "date": "2012-07-25",
          "precipitation": 0,
          "temp_max": 26.7,
          "temp_min": 12.8,
          "weather": "sun",
          "wind": 2.6
         },
         {
          "date": "2012-07-26",
          "precipitation": 0,
          "temp_max": 25.6,
          "temp_min": 12.8,
          "weather": "drizzle",
          "wind": 2.2
         },
         {
          "date": "2012-07-27",
          "precipitation": 0,
          "temp_max": 18.9,
          "temp_min": 13.9,
          "weather": "drizzle",
          "wind": 2.8
         },
         {
          "date": "2012-07-28",
          "precipitation": 0,
          "temp_max": 22.2,
          "temp_min": 13.3,
          "weather": "drizzle",
          "wind": 1.7
         },
         {
          "date": "2012-07-29",
          "precipitation": 0,
          "temp_max": 22.8,
          "temp_min": 15,
          "weather": "sun",
          "wind": 2
         },
         {
          "date": "2012-07-30",
          "precipitation": 0,
          "temp_max": 19.4,
          "temp_min": 13.3,
          "weather": "sun",
          "wind": 3
         },
         {
          "date": "2012-07-31",
          "precipitation": 0,
          "temp_max": 22.8,
          "temp_min": 13.9,
          "weather": "sun",
          "wind": 2.8
         },
         {
          "date": "2012-08-01",
          "precipitation": 0,
          "temp_max": 23.9,
          "temp_min": 13.3,
          "weather": "drizzle",
          "wind": 2.2
         },
         {
          "date": "2012-08-02",
          "precipitation": 0,
          "temp_max": 23.3,
          "temp_min": 12.2,
          "weather": "sun",
          "wind": 2.5
         },
         {
          "date": "2012-08-03",
          "precipitation": 0,
          "temp_max": 27.2,
          "temp_min": 12.8,
          "weather": "sun",
          "wind": 3.9
         },
         {
          "date": "2012-08-04",
          "precipitation": 0,
          "temp_max": 33.9,
          "temp_min": 16.7,
          "weather": "sun",
          "wind": 3.7
         },
         {
          "date": "2012-08-05",
          "precipitation": 0,
          "temp_max": 33.9,
          "temp_min": 17.8,
          "weather": "sun",
          "wind": 1.9
         },
         {
          "date": "2012-08-06",
          "precipitation": 0,
          "temp_max": 28.3,
          "temp_min": 15.6,
          "weather": "rain",
          "wind": 2.5
         },
         {
          "date": "2012-08-07",
          "precipitation": 0,
          "temp_max": 21.1,
          "temp_min": 15,
          "weather": "drizzle",
          "wind": 2.6
         },
         {
          "date": "2012-08-08",
          "precipitation": 0,
          "temp_max": 22.2,
          "temp_min": 15,
          "weather": "sun",
          "wind": 3.1
         },
         {
          "date": "2012-08-09",
          "precipitation": 0,
          "temp_max": 24.4,
          "temp_min": 14.4,
          "weather": "drizzle",
          "wind": 3.8
         },
         {
          "date": "2012-08-10",
          "precipitation": 0,
          "temp_max": 25.6,
          "temp_min": 12.2,
          "weather": "sun",
          "wind": 2.3
         },
         {
          "date": "2012-08-11",
          "precipitation": 0,
          "temp_max": 28.3,
          "temp_min": 13.3,
          "weather": "sun",
          "wind": 2.5
         },
         {
          "date": "2012-08-12",
          "precipitation": 0,
          "temp_max": 30.6,
          "temp_min": 15,
          "weather": "sun",
          "wind": 3
         },
         {
          "date": "2012-08-13",
          "precipitation": 0,
          "temp_max": 30.6,
          "temp_min": 15,
          "weather": "sun",
          "wind": 2.8
         },
         {
          "date": "2012-08-14",
          "precipitation": 0,
          "temp_max": 28.9,
          "temp_min": 13.9,
          "weather": "sun",
          "wind": 2.8
         },
         {
          "date": "2012-08-15",
          "precipitation": 0,
          "temp_max": 31.1,
          "temp_min": 16.7,
          "weather": "sun",
          "wind": 4.7
         },
         {
          "date": "2012-08-16",
          "precipitation": 0,
          "temp_max": 34.4,
          "temp_min": 18.3,
          "weather": "sun",
          "wind": 2.8
         },
         {
          "date": "2012-08-17",
          "precipitation": 0,
          "temp_max": 32.8,
          "temp_min": 16.1,
          "weather": "sun",
          "wind": 1.8
         },
         {
          "date": "2012-08-18",
          "precipitation": 0,
          "temp_max": 21.7,
          "temp_min": 14.4,
          "weather": "drizzle",
          "wind": 3
         },
         {
          "date": "2012-08-19",
          "precipitation": 0,
          "temp_max": 23.3,
          "temp_min": 15,
          "weather": "drizzle",
          "wind": 2.7
         },
         {
          "date": "2012-08-20",
          "precipitation": 0,
          "temp_max": 25.6,
          "temp_min": 15,
          "weather": "sun",
          "wind": 1.9
         },
         {
          "date": "2012-08-21",
          "precipitation": 0,
          "temp_max": 23.3,
          "temp_min": 13.3,
          "weather": "rain",
          "wind": 3
         },
         {
          "date": "2012-08-22",
          "precipitation": 0,
          "temp_max": 22.2,
          "temp_min": 13.3,
          "weather": "sun",
          "wind": 2.3
         },
         {
          "date": "2012-08-23",
          "precipitation": 0,
          "temp_max": 21.1,
          "temp_min": 13.9,
          "weather": "sun",
          "wind": 3.8
         },
         {
          "date": "2012-08-24",
          "precipitation": 0,
          "temp_max": 22.2,
          "temp_min": 10,
          "weather": "sun",
          "wind": 3.3
         },
         {
          "date": "2012-08-25",
          "precipitation": 0,
          "temp_max": 26.1,
          "temp_min": 11.7,
          "weather": "sun",
          "wind": 3.2
         },
         {
          "date": "2012-08-26",
          "precipitation": 0,
          "temp_max": 21.1,
          "temp_min": 12.2,
          "weather": "sun",
          "wind": 3.4
         },
         {
          "date": "2012-08-27",
          "precipitation": 0,
          "temp_max": 23.9,
          "temp_min": 13.3,
          "weather": "sun",
          "wind": 1.8
         },
         {
          "date": "2012-08-28",
          "precipitation": 0,
          "temp_max": 22.8,
          "temp_min": 12.2,
          "weather": "sun",
          "wind": 3.2
         },
         {
          "date": "2012-08-29",
          "precipitation": 0,
          "temp_max": 22.8,
          "temp_min": 13.3,
          "weather": "sun",
          "wind": 2.4
         },
         {
          "date": "2012-08-30",
          "precipitation": 0,
          "temp_max": 22.8,
          "temp_min": 12.8,
          "weather": "sun",
          "wind": 1.9
         },
         {
          "date": "2012-08-31",
          "precipitation": 0,
          "temp_max": 22.2,
          "temp_min": 10.6,
          "weather": "sun",
          "wind": 2.9
         },
         {
          "date": "2012-09-01",
          "precipitation": 0,
          "temp_max": 21.7,
          "temp_min": 10.6,
          "weather": "sun",
          "wind": 2.1
         },
         {
          "date": "2012-09-02",
          "precipitation": 0,
          "temp_max": 21.1,
          "temp_min": 10,
          "weather": "sun",
          "wind": 2
         },
         {
          "date": "2012-09-03",
          "precipitation": 0,
          "temp_max": 22.8,
          "temp_min": 12.8,
          "weather": "sun",
          "wind": 3.3
         },
         {
          "date": "2012-09-04",
          "precipitation": 0,
          "temp_max": 24.4,
          "temp_min": 11.1,
          "weather": "sun",
          "wind": 3.1
         },
         {
          "date": "2012-09-05",
          "precipitation": 0,
          "temp_max": 26.1,
          "temp_min": 11.7,
          "weather": "sun",
          "wind": 2.6
         },
         {
          "date": "2012-09-06",
          "precipitation": 0,
          "temp_max": 28.3,
          "temp_min": 14.4,
          "weather": "sun",
          "wind": 4.2
         },
         {
          "date": "2012-09-07",
          "precipitation": 0,
          "temp_max": 32.2,
          "temp_min": 13.3,
          "weather": "sun",
          "wind": 3.1
         },
         {
          "date": "2012-09-08",
          "precipitation": 0,
          "temp_max": 25,
          "temp_min": 13.3,
          "weather": "sun",
          "wind": 3
         },
         {
          "date": "2012-09-09",
          "precipitation": 0.3,
          "temp_max": 18.9,
          "temp_min": 13.9,
          "weather": "rain",
          "wind": 5
         },
         {
          "date": "2012-09-10",
          "precipitation": 0.3,
          "temp_max": 20,
          "temp_min": 11.7,
          "weather": "rain",
          "wind": 3.9
         },
         {
          "date": "2012-09-11",
          "precipitation": 0,
          "temp_max": 20,
          "temp_min": 8.9,
          "weather": "sun",
          "wind": 4.2
         },
         {
          "date": "2012-09-12",
          "precipitation": 0,
          "temp_max": 22.2,
          "temp_min": 10,
          "weather": "sun",
          "wind": 5.6
         },
         {
          "date": "2012-09-13",
          "precipitation": 0,
          "temp_max": 27.8,
          "temp_min": 11.7,
          "weather": "sun",
          "wind": 3.6
         },
         {
          "date": "2012-09-14",
          "precipitation": 0,
          "temp_max": 26.1,
          "temp_min": 11.1,
          "weather": "sun",
          "wind": 1.5
         },
         {
          "date": "2012-09-15",
          "precipitation": 0,
          "temp_max": 22.2,
          "temp_min": 11.1,
          "weather": "sun",
          "wind": 1.9
         },
         {
          "date": "2012-09-16",
          "precipitation": 0,
          "temp_max": 24.4,
          "temp_min": 9.4,
          "weather": "sun",
          "wind": 2.3
         },
         {
          "date": "2012-09-17",
          "precipitation": 0,
          "temp_max": 27.8,
          "temp_min": 11.7,
          "weather": "fog",
          "wind": 2.2
         },
         {
          "date": "2012-09-18",
          "precipitation": 0,
          "temp_max": 27.8,
          "temp_min": 11.7,
          "weather": "sun",
          "wind": 1.4
         },
         {
          "date": "2012-09-19",
          "precipitation": 0,
          "temp_max": 23.9,
          "temp_min": 11.7,
          "weather": "drizzle",
          "wind": 1.9
         },
         {
          "date": "2012-09-20",
          "precipitation": 0,
          "temp_max": 19.4,
          "temp_min": 10,
          "weather": "drizzle",
          "wind": 2.5
         },
         {
          "date": "2012-09-21",
          "precipitation": 0,
          "temp_max": 16.1,
          "temp_min": 12.8,
          "weather": "drizzle",
          "wind": 2.1
         },
         {
          "date": "2012-09-22",
          "precipitation": 0.3,
          "temp_max": 19.4,
          "temp_min": 11.7,
          "weather": "rain",
          "wind": 1.1
         },
         {
          "date": "2012-09-23",
          "precipitation": 0,
          "temp_max": 19.4,
          "temp_min": 10,
          "weather": "fog",
          "wind": 1.4
         },
         {
          "date": "2012-09-24",
          "precipitation": 0,
          "temp_max": 21.1,
          "temp_min": 10,
          "weather": "fog",
          "wind": 1.8
         },
         {
          "date": "2012-09-25",
          "precipitation": 0,
          "temp_max": 19.4,
          "temp_min": 11.1,
          "weather": "sun",
          "wind": 1.7
         },
         {
          "date": "2012-09-26",
          "precipitation": 0,
          "temp_max": 19.4,
          "temp_min": 9.4,
          "weather": "drizzle",
          "wind": 1.7
         },
         {
          "date": "2012-09-27",
          "precipitation": 0,
          "temp_max": 22.8,
          "temp_min": 10,
          "weather": "drizzle",
          "wind": 1.7
         },
         {
          "date": "2012-09-28",
          "precipitation": 0,
          "temp_max": 25,
          "temp_min": 12.2,
          "weather": "rain",
          "wind": 1.1
         },
         {
          "date": "2012-09-29",
          "precipitation": 0,
          "temp_max": 20.6,
          "temp_min": 12.2,
          "weather": "sun",
          "wind": 4.3
         },
         {
          "date": "2012-09-30",
          "precipitation": 0,
          "temp_max": 21.1,
          "temp_min": 7.8,
          "weather": "sun",
          "wind": 3.1
         },
         {
          "date": "2012-10-01",
          "precipitation": 0,
          "temp_max": 23.3,
          "temp_min": 8.9,
          "weather": "sun",
          "wind": 3
         },
         {
          "date": "2012-10-02",
          "precipitation": 0,
          "temp_max": 17.8,
          "temp_min": 10,
          "weather": "sun",
          "wind": 4.1
         },
         {
          "date": "2012-10-03",
          "precipitation": 0,
          "temp_max": 18.9,
          "temp_min": 7.8,
          "weather": "sun",
          "wind": 7.3
         },
         {
          "date": "2012-10-04",
          "precipitation": 0,
          "temp_max": 18.9,
          "temp_min": 8.3,
          "weather": "sun",
          "wind": 6.5
         },
         {
          "date": "2012-10-05",
          "precipitation": 0,
          "temp_max": 21.7,
          "temp_min": 8.9,
          "weather": "sun",
          "wind": 5.7
         },
         {
          "date": "2012-10-06",
          "precipitation": 0,
          "temp_max": 23.9,
          "temp_min": 7.8,
          "weather": "sun",
          "wind": 5.1
         },
         {
          "date": "2012-10-07",
          "precipitation": 0,
          "temp_max": 23.9,
          "temp_min": 7.8,
          "weather": "sun",
          "wind": 1.3
         },
         {
          "date": "2012-10-08",
          "precipitation": 0,
          "temp_max": 21.1,
          "temp_min": 7.8,
          "weather": "sun",
          "wind": 1.9
         },
         {
          "date": "2012-10-09",
          "precipitation": 0,
          "temp_max": 16.1,
          "temp_min": 8.9,
          "weather": "drizzle",
          "wind": 1.6
         },
         {
          "date": "2012-10-10",
          "precipitation": 0,
          "temp_max": 12.2,
          "temp_min": 8.3,
          "weather": "drizzle",
          "wind": 1.4
         },
         {
          "date": "2012-10-11",
          "precipitation": 0,
          "temp_max": 13.9,
          "temp_min": 7.2,
          "weather": "drizzle",
          "wind": 1.3
         },
         {
          "date": "2012-10-12",
          "precipitation": 2,
          "temp_max": 13.9,
          "temp_min": 8.9,
          "weather": "rain",
          "wind": 4.6
         },
         {
          "date": "2012-10-13",
          "precipitation": 4.8,
          "temp_max": 15.6,
          "temp_min": 12.2,
          "weather": "rain",
          "wind": 3.9
         },
         {
          "date": "2012-10-14",
          "precipitation": 16.5,
          "temp_max": 17.8,
          "temp_min": 13.3,
          "weather": "rain",
          "wind": 3.4
         },
         {
          "date": "2012-10-15",
          "precipitation": 7.9,
          "temp_max": 17.2,
          "temp_min": 11.1,
          "weather": "rain",
          "wind": 4.6
         },
         {
          "date": "2012-10-16",
          "precipitation": 0,
          "temp_max": 16.1,
          "temp_min": 8.3,
          "weather": "sun",
          "wind": 5.5
         },
         {
          "date": "2012-10-17",
          "precipitation": 0,
          "temp_max": 14.4,
          "temp_min": 6.1,
          "weather": "sun",
          "wind": 1.6
         },
         {
          "date": "2012-10-18",
          "precipitation": 20.8,
          "temp_max": 17.8,
          "temp_min": 6.7,
          "weather": "rain",
          "wind": 2
         },
         {
          "date": "2012-10-19",
          "precipitation": 4.8,
          "temp_max": 15,
          "temp_min": 9.4,
          "weather": "rain",
          "wind": 5.3
         },
         {
          "date": "2012-10-20",
          "precipitation": 0.5,
          "temp_max": 11.1,
          "temp_min": 6.1,
          "weather": "rain",
          "wind": 5.7
         },
         {
          "date": "2012-10-21",
          "precipitation": 6.4,
          "temp_max": 11.7,
          "temp_min": 4.4,
          "weather": "rain",
          "wind": 2.7
         },
         {
          "date": "2012-10-22",
          "precipitation": 8.9,
          "temp_max": 7.8,
          "temp_min": 3.3,
          "weather": "rain",
          "wind": 2.6
         },
         {
          "date": "2012-10-23",
          "precipitation": 0,
          "temp_max": 11.1,
          "temp_min": 5.6,
          "weather": "rain",
          "wind": 3
         },
         {
          "date": "2012-10-24",
          "precipitation": 7.1,
          "temp_max": 11.7,
          "temp_min": 6.1,
          "weather": "rain",
          "wind": 2.1
         },
         {
          "date": "2012-10-25",
          "precipitation": 0,
          "temp_max": 11.7,
          "temp_min": 6.7,
          "weather": "sun",
          "wind": 1.5
         },
         {
          "date": "2012-10-26",
          "precipitation": 1.5,
          "temp_max": 11.1,
          "temp_min": 7.2,
          "weather": "rain",
          "wind": 2.5
         },
         {
          "date": "2012-10-27",
          "precipitation": 23.1,
          "temp_max": 14.4,
          "temp_min": 9.4,
          "weather": "rain",
          "wind": 5.1
         },
         {
          "date": "2012-10-28",
          "precipitation": 6.1,
          "temp_max": 14.4,
          "temp_min": 10,
          "weather": "rain",
          "wind": 3.8
         },
         {
          "date": "2012-10-29",
          "precipitation": 10.9,
          "temp_max": 15.6,
          "temp_min": 10,
          "weather": "rain",
          "wind": 4.9
         },
         {
          "date": "2012-10-30",
          "precipitation": 34.5,
          "temp_max": 15,
          "temp_min": 12.2,
          "weather": "rain",
          "wind": 2.8
         },
         {
          "date": "2012-10-31",
          "precipitation": 14.5,
          "temp_max": 15.6,
          "temp_min": 11.1,
          "weather": "rain",
          "wind": 2.7
         },
         {
          "date": "2012-11-01",
          "precipitation": 9.7,
          "temp_max": 15,
          "temp_min": 10.6,
          "weather": "rain",
          "wind": 3
         },
         {
          "date": "2012-11-02",
          "precipitation": 5.6,
          "temp_max": 15,
          "temp_min": 10.6,
          "weather": "rain",
          "wind": 1
         },
         {
          "date": "2012-11-03",
          "precipitation": 0.5,
          "temp_max": 15.6,
          "temp_min": 11.1,
          "weather": "rain",
          "wind": 3.6
         },
         {
          "date": "2012-11-04",
          "precipitation": 8.1,
          "temp_max": 17.8,
          "temp_min": 12.8,
          "weather": "rain",
          "wind": 3.8
         },
         {
          "date": "2012-11-05",
          "precipitation": 0.8,
          "temp_max": 15,
          "temp_min": 7.8,
          "weather": "rain",
          "wind": 4
         },
         {
          "date": "2012-11-06",
          "precipitation": 0.3,
          "temp_max": 12.8,
          "temp_min": 6.7,
          "weather": "rain",
          "wind": 3.5
         },
         {
          "date": "2012-11-07",
          "precipitation": 0,
          "temp_max": 12.2,
          "temp_min": 3.9,
          "weather": "rain",
          "wind": 3.4
         },
         {
          "date": "2012-11-08",
          "precipitation": 0,
          "temp_max": 10,
          "temp_min": 1.1,
          "weather": "rain",
          "wind": 3.4
         },
         {
          "date": "2012-11-09",
          "precipitation": 0,
          "temp_max": 8.9,
          "temp_min": 1.1,
          "weather": "rain",
          "wind": 2
         },
         {
          "date": "2012-11-10",
          "precipitation": 0,
          "temp_max": 7.8,
          "temp_min": -0.6,
          "weather": "sun",
          "wind": 2.2
         },
         {
          "date": "2012-11-11",
          "precipitation": 15.2,
          "temp_max": 8.9,
          "temp_min": 1.1,
          "weather": "rain",
          "wind": 3
         },
         {
          "date": "2012-11-12",
          "precipitation": 3.6,
          "temp_max": 12.8,
          "temp_min": 6.1,
          "weather": "rain",
          "wind": 3
         },
         {
          "date": "2012-11-13",
          "precipitation": 5.3,
          "temp_max": 11.1,
          "temp_min": 7.8,
          "weather": "rain",
          "wind": 2.5
         },
         {
          "date": "2012-11-14",
          "precipitation": 0.8,
          "temp_max": 11.1,
          "temp_min": 5,
          "weather": "rain",
          "wind": 2.6
         },
         {
          "date": "2012-11-15",
          "precipitation": 0,
          "temp_max": 9.4,
          "temp_min": 2.8,
          "weather": "drizzle",
          "wind": 2.4
         },
         {
          "date": "2012-11-16",
          "precipitation": 5.6,
          "temp_max": 9.4,
          "temp_min": 2.2,
          "weather": "rain",
          "wind": 1.6
         },
         {
          "date": "2012-11-17",
          "precipitation": 6.1,
          "temp_max": 12.2,
          "temp_min": 6.1,
          "weather": "rain",
          "wind": 5.3
         },
         {
          "date": "2012-11-18",
          "precipitation": 7.9,
          "temp_max": 10,
          "temp_min": 6.1,
          "weather": "rain",
          "wind": 4.9
         },
         {
          "date": "2012-11-19",
          "precipitation": 54.1,
          "temp_max": 13.3,
          "temp_min": 8.3,
          "weather": "rain",
          "wind": 6
         },
         {
          "date": "2012-11-20",
          "precipitation": 3.8,
          "temp_max": 11.1,
          "temp_min": 7.2,
          "weather": "rain",
          "wind": 4.2
         },
         {
          "date": "2012-11-21",
          "precipitation": 11.2,
          "temp_max": 8.3,
          "temp_min": 3.9,
          "weather": "rain",
          "wind": 5.5
         },
         {
          "date": "2012-11-22",
          "precipitation": 0,
          "temp_max": 8.9,
          "temp_min": 2.8,
          "weather": "rain",
          "wind": 1.5
         },
         {
          "date": "2012-11-23",
          "precipitation": 32,
          "temp_max": 9.4,
          "temp_min": 6.1,
          "weather": "rain",
          "wind": 2.4
         },
         {
          "date": "2012-11-24",
          "precipitation": 0,
          "temp_max": 8.9,
          "temp_min": 3.9,
          "weather": "rain",
          "wind": 1.2
         },
         {
          "date": "2012-11-25",
          "precipitation": 0,
          "temp_max": 8.3,
          "temp_min": 1.1,
          "weather": "drizzle",
          "wind": 3.6
         },
         {
          "date": "2012-11-26",
          "precipitation": 0,
          "temp_max": 9.4,
          "temp_min": 1.7,
          "weather": "fog",
          "wind": 3.8
         },
         {
          "date": "2012-11-27",
          "precipitation": 0,
          "temp_max": 10,
          "temp_min": 1.7,
          "weather": "sun",
          "wind": 1.5
         },
         {
          "date": "2012-11-28",
          "precipitation": 2.8,
          "temp_max": 9.4,
          "temp_min": 2.2,
          "weather": "rain",
          "wind": 2.9
         },
         {
          "date": "2012-11-29",
          "precipitation": 1.5,
          "temp_max": 12.8,
          "temp_min": 7.8,
          "weather": "rain",
          "wind": 4.2
         },
         {
          "date": "2012-11-30",
          "precipitation": 35.6,
          "temp_max": 15,
          "temp_min": 7.8,
          "weather": "rain",
          "wind": 4.6
         },
         {
          "date": "2012-12-01",
          "precipitation": 4.1,
          "temp_max": 13.3,
          "temp_min": 8.3,
          "weather": "rain",
          "wind": 5.5
         },
         {
          "date": "2012-12-02",
          "precipitation": 19.6,
          "temp_max": 8.3,
          "temp_min": 7.2,
          "weather": "rain",
          "wind": 6.2
         },
         {
          "date": "2012-12-03",
          "precipitation": 13,
          "temp_max": 9.4,
          "temp_min": 7.2,
          "weather": "rain",
          "wind": 4.4
         },
         {
          "date": "2012-12-04",
          "precipitation": 14.2,
          "temp_max": 11.7,
          "temp_min": 7.2,
          "weather": "rain",
          "wind": 6.2
         },
         {
          "date": "2012-12-05",
          "precipitation": 1.5,
          "temp_max": 8.9,
          "temp_min": 4.4,
          "weather": "rain",
          "wind": 5
         },
         {
          "date": "2012-12-06",
          "precipitation": 1.5,
          "temp_max": 7.2,
          "temp_min": 6.1,
          "weather": "rain",
          "wind": 5.1
         },
         {
          "date": "2012-12-07",
          "precipitation": 1,
          "temp_max": 7.8,
          "temp_min": 3.3,
          "weather": "rain",
          "wind": 4.6
         },
         {
          "date": "2012-12-08",
          "precipitation": 0,
          "temp_max": 6.7,
          "temp_min": 3.3,
          "weather": "sun",
          "wind": 2
         },
         {
          "date": "2012-12-09",
          "precipitation": 1.5,
          "temp_max": 6.7,
          "temp_min": 2.8,
          "weather": "rain",
          "wind": 2.1
         },
         {
          "date": "2012-12-10",
          "precipitation": 0.5,
          "temp_max": 7.2,
          "temp_min": 5.6,
          "weather": "rain",
          "wind": 1.8
         },
         {
          "date": "2012-12-11",
          "precipitation": 3,
          "temp_max": 7.8,
          "temp_min": 5.6,
          "weather": "rain",
          "wind": 4.5
         },
         {
          "date": "2012-12-12",
          "precipitation": 8.1,
          "temp_max": 6.7,
          "temp_min": 4.4,
          "weather": "rain",
          "wind": 2
         },
         {
          "date": "2012-12-13",
          "precipitation": 2.3,
          "temp_max": 7.2,
          "temp_min": 3.3,
          "weather": "rain",
          "wind": 2.8
         },
         {
          "date": "2012-12-14",
          "precipitation": 7.9,
          "temp_max": 6.1,
          "temp_min": 1.1,
          "weather": "rain",
          "wind": 1.7
         },
         {
          "date": "2012-12-15",
          "precipitation": 5.3,
          "temp_max": 4.4,
          "temp_min": 0.6,
          "weather": "snow",
          "wind": 5.1
         },
         {
          "date": "2012-12-16",
          "precipitation": 22.6,
          "temp_max": 6.7,
          "temp_min": 3.3,
          "weather": "snow",
          "wind": 5.5
         },
         {
          "date": "2012-12-17",
          "precipitation": 2,
          "temp_max": 8.3,
          "temp_min": 1.7,
          "weather": "rain",
          "wind": 9.5
         },
         {
          "date": "2012-12-18",
          "precipitation": 3.3,
          "temp_max": 3.9,
          "temp_min": 0.6,
          "weather": "snow",
          "wind": 5.3
         },
         {
          "date": "2012-12-19",
          "precipitation": 13.7,
          "temp_max": 8.3,
          "temp_min": 1.7,
          "weather": "snow",
          "wind": 5.8
         },
         {
          "date": "2012-12-20",
          "precipitation": 13.2,
          "temp_max": 7.2,
          "temp_min": 0.6,
          "weather": "rain",
          "wind": 3.7
         },
         {
          "date": "2012-12-21",
          "precipitation": 1.8,
          "temp_max": 8.3,
          "temp_min": -1.7,
          "weather": "rain",
          "wind": 1.7
         },
         {
          "date": "2012-12-22",
          "precipitation": 3.3,
          "temp_max": 8.3,
          "temp_min": 3.9,
          "weather": "rain",
          "wind": 3.5
         },
         {
          "date": "2012-12-23",
          "precipitation": 6.6,
          "temp_max": 7.2,
          "temp_min": 3.3,
          "weather": "rain",
          "wind": 2.5
         },
         {
          "date": "2012-12-24",
          "precipitation": 0.3,
          "temp_max": 5.6,
          "temp_min": 2.8,
          "weather": "rain",
          "wind": 2.8
         },
         {
          "date": "2012-12-25",
          "precipitation": 13.5,
          "temp_max": 5.6,
          "temp_min": 2.8,
          "weather": "snow",
          "wind": 4.2
         },
         {
          "date": "2012-12-26",
          "precipitation": 4.6,
          "temp_max": 6.7,
          "temp_min": 3.3,
          "weather": "rain",
          "wind": 4.9
         },
         {
          "date": "2012-12-27",
          "precipitation": 4.1,
          "temp_max": 7.8,
          "temp_min": 3.3,
          "weather": "rain",
          "wind": 3.2
         },
         {
          "date": "2012-12-28",
          "precipitation": 0,
          "temp_max": 8.3,
          "temp_min": 3.9,
          "weather": "rain",
          "wind": 1.7
         },
         {
          "date": "2012-12-29",
          "precipitation": 1.5,
          "temp_max": 5,
          "temp_min": 3.3,
          "weather": "rain",
          "wind": 1.7
         },
         {
          "date": "2012-12-30",
          "precipitation": 0,
          "temp_max": 4.4,
          "temp_min": 0,
          "weather": "drizzle",
          "wind": 1.8
         },
         {
          "date": "2012-12-31",
          "precipitation": 0,
          "temp_max": 3.3,
          "temp_min": -1.1,
          "weather": "drizzle",
          "wind": 2
         },
         {
          "date": "2013-01-01",
          "precipitation": 0,
          "temp_max": 5,
          "temp_min": -2.8,
          "weather": "sun",
          "wind": 2.7
         },
         {
          "date": "2013-01-02",
          "precipitation": 0,
          "temp_max": 6.1,
          "temp_min": -1.1,
          "weather": "sun",
          "wind": 3.2
         },
         {
          "date": "2013-01-03",
          "precipitation": 4.1,
          "temp_max": 6.7,
          "temp_min": -1.7,
          "weather": "rain",
          "wind": 3
         },
         {
          "date": "2013-01-04",
          "precipitation": 2.5,
          "temp_max": 10,
          "temp_min": 2.2,
          "weather": "rain",
          "wind": 2.8
         },
         {
          "date": "2013-01-05",
          "precipitation": 3,
          "temp_max": 6.7,
          "temp_min": 4.4,
          "weather": "rain",
          "wind": 3.1
         },
         {
          "date": "2013-01-06",
          "precipitation": 2,
          "temp_max": 7.2,
          "temp_min": 2.8,
          "weather": "rain",
          "wind": 3
         },
         {
          "date": "2013-01-07",
          "precipitation": 2.3,
          "temp_max": 10,
          "temp_min": 4.4,
          "weather": "rain",
          "wind": 7.3
         },
         {
          "date": "2013-01-08",
          "precipitation": 16.3,
          "temp_max": 11.7,
          "temp_min": 5.6,
          "weather": "rain",
          "wind": 6.3
         },
         {
          "date": "2013-01-09",
          "precipitation": 38.4,
          "temp_max": 10,
          "temp_min": 1.7,
          "weather": "rain",
          "wind": 5.1
         },
         {
          "date": "2013-01-10",
          "precipitation": 0.3,
          "temp_max": 3.3,
          "temp_min": -0.6,
          "weather": "snow",
          "wind": 2.1
         },
         {
          "date": "2013-01-11",
          "precipitation": 0,
          "temp_max": 2.8,
          "temp_min": -2.8,
          "weather": "drizzle",
          "wind": 1.9
         },
         {
          "date": "2013-01-12",
          "precipitation": 0,
          "temp_max": 2.8,
          "temp_min": -3.9,
          "weather": "sun",
          "wind": 2
         },
         {
          "date": "2013-01-13",
          "precipitation": 0,
          "temp_max": 2.2,
          "temp_min": -4.4,
          "weather": "sun",
          "wind": 1.5
         },
         {
          "date": "2013-01-14",
          "precipitation": 0,
          "temp_max": 3.3,
          "temp_min": -2.2,
          "weather": "sun",
          "wind": 1.3
         },
         {
          "date": "2013-01-15",
          "precipitation": 0,
          "temp_max": 6.7,
          "temp_min": -0.6,
          "weather": "sun",
          "wind": 2.3
         },
         {
          "date": "2013-01-16",
          "precipitation": 0,
          "temp_max": 6.1,
          "temp_min": -3.9,
          "weather": "drizzle",
          "wind": 1.8
         },
         {
          "date": "2013-01-17",
          "precipitation": 0,
          "temp_max": 3.9,
          "temp_min": -2.8,
          "weather": "drizzle",
          "wind": 1
         },
         {
          "date": "2013-01-18",
          "precipitation": 0,
          "temp_max": 3.3,
          "temp_min": -1.1,
          "weather": "drizzle",
          "wind": 1.3
         },
         {
          "date": "2013-01-19",
          "precipitation": 0,
          "temp_max": 1.1,
          "temp_min": -0.6,
          "weather": "drizzle",
          "wind": 1.9
         },
         {
          "date": "2013-01-20",
          "precipitation": 0,
          "temp_max": 3.3,
          "temp_min": -0.6,
          "weather": "drizzle",
          "wind": 2.1
         },
         {
          "date": "2013-01-21",
          "precipitation": 0,
          "temp_max": 2.2,
          "temp_min": -1.7,
          "weather": "drizzle",
          "wind": 1.1
         },
         {
          "date": "2013-01-22",
          "precipitation": 0,
          "temp_max": 3.3,
          "temp_min": -1.7,
          "weather": "drizzle",
          "wind": 0.6
         },
         {
          "date": "2013-01-23",
          "precipitation": 5.1,
          "temp_max": 7.2,
          "temp_min": 2.2,
          "weather": "rain",
          "wind": 3.1
         },
         {
          "date": "2013-01-24",
          "precipitation": 5.8,
          "temp_max": 7.2,
          "temp_min": 1.1,
          "weather": "rain",
          "wind": 2.6
         },
         {
          "date": "2013-01-25",
          "precipitation": 3,
          "temp_max": 10.6,
          "temp_min": 2.8,
          "weather": "rain",
          "wind": 2.1
         },
         {
          "date": "2013-01-26",
          "precipitation": 2.3,
          "temp_max": 8.3,
          "temp_min": 3.9,
          "weather": "rain",
          "wind": 4.5
         },
         {
          "date": "2013-01-27",
          "precipitation": 1.8,
          "temp_max": 5.6,
          "temp_min": 3.9,
          "weather": "rain",
          "wind": 4.5
         },
         {
          "date": "2013-01-28",
          "precipitation": 7.9,
          "temp_max": 6.1,
          "temp_min": 3.3,
          "weather": "rain",
          "wind": 3.2
         },
         {
          "date": "2013-01-29",
          "precipitation": 4.3,
          "temp_max": 8.3,
          "temp_min": 5,
          "weather": "rain",
          "wind": 3.9
         },
         {
          "date": "2013-01-30",
          "precipitation": 3.6,
          "temp_max": 8.9,
          "temp_min": 6.7,
          "weather": "rain",
          "wind": 3.9
         },
         {
          "date": "2013-01-31",
          "precipitation": 3,
          "temp_max": 9.4,
          "temp_min": 7.2,
          "weather": "rain",
          "wind": 4
         },
         {
          "date": "2013-02-01",
          "precipitation": 0.3,
          "temp_max": 11.7,
          "temp_min": 5,
          "weather": "rain",
          "wind": 2.9
         },
         {
          "date": "2013-02-02",
          "precipitation": 0,
          "temp_max": 6.1,
          "temp_min": 2.8,
          "weather": "drizzle",
          "wind": 2
         },
         {
          "date": "2013-02-03",
          "precipitation": 2.3,
          "temp_max": 8.9,
          "temp_min": 2.8,
          "weather": "rain",
          "wind": 2.9
         },
         {
          "date": "2013-02-04",
          "precipitation": 0,
          "temp_max": 10.6,
          "temp_min": 6.7,
          "weather": "rain",
          "wind": 2.6
         },
         {
          "date": "2013-02-05",
          "precipitation": 3.3,
          "temp_max": 10,
          "temp_min": 6.7,
          "weather": "rain",
          "wind": 5.1
         },
         {
          "date": "2013-02-06",
          "precipitation": 1,
          "temp_max": 10.6,
          "temp_min": 6.1,
          "weather": "rain",
          "wind": 4.5
         },
         {
          "date": "2013-02-07",
          "precipitation": 1.3,
          "temp_max": 9.4,
          "temp_min": 3.3,
          "weather": "rain",
          "wind": 4.1
         },
         {
          "date": "2013-02-08",
          "precipitation": 0,
          "temp_max": 7.8,
          "temp_min": 2.2,
          "weather": "sun",
          "wind": 1.3
         },
         {
          "date": "2013-02-09",
          "precipitation": 0.3,
          "temp_max": 8.3,
          "temp_min": 4.4,
          "weather": "rain",
          "wind": 1.3
         },
         {
          "date": "2013-02-10",
          "precipitation": 0,
          "temp_max": 8.9,
          "temp_min": 1.7,
          "weather": "drizzle",
          "wind": 2
         },
         {
          "date": "2013-02-11",
          "precipitation": 0.3,
          "temp_max": 8.3,
          "temp_min": 4.4,
          "weather": "rain",
          "wind": 1.4
         },
         {
          "date": "2013-02-12",
          "precipitation": 1,
          "temp_max": 11.1,
          "temp_min": 7.2,
          "weather": "rain",
          "wind": 5.6
         },
         {
          "date": "2013-02-13",
          "precipitation": 2.3,
          "temp_max": 9.4,
          "temp_min": 7.2,
          "weather": "rain",
          "wind": 4.1
         },
         {
          "date": "2013-02-14",
          "precipitation": 1,
          "temp_max": 9.4,
          "temp_min": 5.6,
          "weather": "rain",
          "wind": 2.2
         },
         {
          "date": "2013-02-15",
          "precipitation": 0,
          "temp_max": 13.3,
          "temp_min": 5,
          "weather": "drizzle",
          "wind": 2.4
         },
         {
          "date": "2013-02-16",
          "precipitation": 0,
          "temp_max": 11.1,
          "temp_min": 3.9,
          "weather": "rain",
          "wind": 5.6
         },
         {
          "date": "2013-02-17",
          "precipitation": 0,
          "temp_max": 9.4,
          "temp_min": 4.4,
          "weather": "rain",
          "wind": 3.4
         },
         {
          "date": "2013-02-18",
          "precipitation": 0,
          "temp_max": 7.8,
          "temp_min": 3.9,
          "weather": "rain",
          "wind": 1.9
         },
         {
          "date": "2013-02-19",
          "precipitation": 0,
          "temp_max": 10.6,
          "temp_min": 1.7,
          "weather": "sun",
          "wind": 3.4
         },
         {
          "date": "2013-02-20",
          "precipitation": 1.5,
          "temp_max": 7.8,
          "temp_min": 1.1,
          "weather": "rain",
          "wind": 2.1
         },
         {
          "date": "2013-02-21",
          "precipitation": 0.5,
          "temp_max": 6.7,
          "temp_min": 3.9,
          "weather": "rain",
          "wind": 6.2
         },
         {
          "date": "2013-02-22",
          "precipitation": 9.4,
          "temp_max": 7.8,
          "temp_min": 3.9,
          "weather": "rain",
          "wind": 8.1
         },
         {
          "date": "2013-02-23",
          "precipitation": 0.3,
          "temp_max": 10,
          "temp_min": 3.9,
          "weather": "rain",
          "wind": 4.6
         },
         {
          "date": "2013-02-24",
          "precipitation": 0,
          "temp_max": 8.9,
          "temp_min": 5,
          "weather": "rain",
          "wind": 5.5
         },
         {
          "date": "2013-02-25",
          "precipitation": 2.3,
          "temp_max": 10.6,
          "temp_min": 3.3,
          "weather": "rain",
          "wind": 7.1
         },
         {
          "date": "2013-02-26",
          "precipitation": 0.5,
          "temp_max": 8.9,
          "temp_min": 3.9,
          "weather": "rain",
          "wind": 3.8
         },
         {
          "date": "2013-02-27",
          "precipitation": 4.6,
          "temp_max": 10,
          "temp_min": 4.4,
          "weather": "rain",
          "wind": 1.8
         },
         {
          "date": "2013-02-28",
          "precipitation": 8.1,
          "temp_max": 11.7,
          "temp_min": 6.7,
          "weather": "rain",
          "wind": 3.8
         },
         {
          "date": "2013-03-01",
          "precipitation": 4.1,
          "temp_max": 15,
          "temp_min": 11.1,
          "weather": "rain",
          "wind": 5.4
         },
         {
          "date": "2013-03-02",
          "precipitation": 0.8,
          "temp_max": 13.9,
          "temp_min": 5,
          "weather": "rain",
          "wind": 4.5
         },
         {
          "date": "2013-03-03",
          "precipitation": 0,
          "temp_max": 11.1,
          "temp_min": 2.2,
          "weather": "sun",
          "wind": 2.8
         },
         {
          "date": "2013-03-04",
          "precipitation": 0,
          "temp_max": 13.3,
          "temp_min": 0,
          "weather": "sun",
          "wind": 3.9
         },
         {
          "date": "2013-03-05",
          "precipitation": 0,
          "temp_max": 9.4,
          "temp_min": 6.1,
          "weather": "rain",
          "wind": 2.4
         },
         {
          "date": "2013-03-06",
          "precipitation": 11.9,
          "temp_max": 7.2,
          "temp_min": 5,
          "weather": "rain",
          "wind": 4.1
         },
         {
          "date": "2013-03-07",
          "precipitation": 7.4,
          "temp_max": 12.2,
          "temp_min": 5,
          "weather": "rain",
          "wind": 2.5
         },
         {
          "date": "2013-03-08",
          "precipitation": 0,
          "temp_max": 11.7,
          "temp_min": 2.2,
          "weather": "drizzle",
          "wind": 2.6
         },
         {
          "date": "2013-03-09",
          "precipitation": 0,
          "temp_max": 12.8,
          "temp_min": 1.1,
          "weather": "fog",
          "wind": 1.3
         },
         {
          "date": "2013-03-10",
          "precipitation": 0.8,
          "temp_max": 7.8,
          "temp_min": 3.9,
          "weather": "rain",
          "wind": 1.6
         },
         {
          "date": "2013-03-11",
          "precipitation": 1.3,
          "temp_max": 10.6,
          "temp_min": 6.1,
          "weather": "rain",
          "wind": 1.1
         },
         {
          "date": "2013-03-12",
          "precipitation": 2,
          "temp_max": 12.8,
          "temp_min": 10,
          "weather": "rain",
          "wind": 5.7
         },
         {
          "date": "2013-03-13",
          "precipitation": 2.3,
          "temp_max": 11.7,
          "temp_min": 9.4,
          "weather": "rain",
          "wind": 3.7
         },
         {
          "date": "2013-03-14",
          "precipitation": 2.8,
          "temp_max": 11.7,
          "temp_min": 9.4,
          "weather": "rain",
          "wind": 3
         },
         {
          "date": "2013-03-15",
          "precipitation": 0,
          "temp_max": 14.4,
          "temp_min": 8.9,
          "weather": "rain",
          "wind": 4.3
         },
         {
          "date": "2013-03-16",
          "precipitation": 4.3,
          "temp_max": 10.6,
          "temp_min": 4.4,
          "weather": "rain",
          "wind": 6.4
         },
         {
          "date": "2013-03-17",
          "precipitation": 0,
          "temp_max": 8.9,
          "temp_min": 3.9,
          "weather": "sun",
          "wind": 6.1
         },
         {
          "date": "2013-03-18",
          "precipitation": 0,
          "temp_max": 11.7,
          "temp_min": 3.9,
          "weather": "rain",
          "wind": 5.9
         },
         {
          "date": "2013-03-19",
          "precipitation": 11.7,
          "temp_max": 12.8,
          "temp_min": 1.7,
          "weather": "rain",
          "wind": 3.4
         },
         {
          "date": "2013-03-20",
          "precipitation": 9.9,
          "temp_max": 11.1,
          "temp_min": 4.4,
          "weather": "rain",
          "wind": 7.6
         },
         {
          "date": "2013-03-21",
          "precipitation": 8.1,
          "temp_max": 10,
          "temp_min": 2.2,
          "weather": "snow",
          "wind": 4.9
         },
         {
          "date": "2013-03-22",
          "precipitation": 0,
          "temp_max": 9.4,
          "temp_min": 0.6,
          "weather": "sun",
          "wind": 2.2
         },
         {
          "date": "2013-03-23",
          "precipitation": 0,
          "temp_max": 10,
          "temp_min": 1.1,
          "weather": "sun",
          "wind": 2.6
         },
         {
          "date": "2013-03-24",
          "precipitation": 0,
          "temp_max": 12.2,
          "temp_min": 0.6,
          "weather": "sun",
          "wind": 2.1
         },
         {
          "date": "2013-03-25",
          "precipitation": 0,
          "temp_max": 16.7,
          "temp_min": 4.4,
          "weather": "sun",
          "wind": 2.8
         },
         {
          "date": "2013-03-26",
          "precipitation": 0,
          "temp_max": 16.7,
          "temp_min": 6.1,
          "weather": "sun",
          "wind": 1.7
         },
         {
          "date": "2013-03-27",
          "precipitation": 0.3,
          "temp_max": 13.3,
          "temp_min": 7.2,
          "weather": "rain",
          "wind": 1.6
         },
         {
          "date": "2013-03-28",
          "precipitation": 2,
          "temp_max": 16.1,
          "temp_min": 8.3,
          "weather": "rain",
          "wind": 1.3
         },
         {
          "date": "2013-03-29",
          "precipitation": 0,
          "temp_max": 18.3,
          "temp_min": 7.8,
          "weather": "rain",
          "wind": 2.5
         },
         {
          "date": "2013-03-30",
          "precipitation": 0,
          "temp_max": 20,
          "temp_min": 5.6,
          "weather": "drizzle",
          "wind": 4.4
         },
         {
          "date": "2013-03-31",
          "precipitation": 0,
          "temp_max": 20.6,
          "temp_min": 6.7,
          "weather": "sun",
          "wind": 2.9
         },
         {
          "date": "2013-04-01",
          "precipitation": 0,
          "temp_max": 17.2,
          "temp_min": 8.3,
          "weather": "sun",
          "wind": 3.6
         },
         {
          "date": "2013-04-02",
          "precipitation": 0,
          "temp_max": 13.9,
          "temp_min": 8.9,
          "weather": "sun",
          "wind": 2.2
         },
         {
          "date": "2013-04-03",
          "precipitation": 0,
          "temp_max": 16.7,
          "temp_min": 7.8,
          "weather": "sun",
          "wind": 1.6
         },
         {
          "date": "2013-04-04",
          "precipitation": 8.4,
          "temp_max": 14.4,
          "temp_min": 10,
          "weather": "fog",
          "wind": 3
         },
         {
          "date": "2013-04-05",
          "precipitation": 18.5,
          "temp_max": 13.9,
          "temp_min": 10,
          "weather": "fog",
          "wind": 5.6
         },
         {
          "date": "2013-04-06",
          "precipitation": 12.7,
          "temp_max": 12.2,
          "temp_min": 7.2,
          "weather": "fog",
          "wind": 5
         },
         {
          "date": "2013-04-07",
          "precipitation": 39.1,
          "temp_max": 8.3,
          "temp_min": 5,
          "weather": "fog",
          "wind": 3.9
         },
         {
          "date": "2013-04-08",
          "precipitation": 0.8,
          "temp_max": 13.3,
          "temp_min": 6.1,
          "weather": "fog",
          "wind": 3.1
         },
         {
          "date": "2013-04-09",
          "precipitation": 0,
          "temp_max": 12.2,
          "temp_min": 6.1,
          "weather": "sun",
          "wind": 2.4
         },
         {
          "date": "2013-04-10",
          "precipitation": 9.4,
          "temp_max": 15,
          "temp_min": 8.9,
          "weather": "sun",
          "wind": 6.4
         },
         {
          "date": "2013-04-11",
          "precipitation": 1.5,
          "temp_max": 12.2,
          "temp_min": 6.7,
          "weather": "fog",
          "wind": 3.8
         },
         {
          "date": "2013-04-12",
          "precipitation": 9.7,
          "temp_max": 7.8,
          "temp_min": 4.4,
          "weather": "fog",
          "wind": 4.6
         },
         {
          "date": "2013-04-13",
          "precipitation": 9.4,
          "temp_max": 10.6,
          "temp_min": 3.3,
          "weather": "fog",
          "wind": 5.7
         },
         {
          "date": "2013-04-14",
          "precipitation": 5.8,
          "temp_max": 12.8,
          "temp_min": 4.4,
          "weather": "fog",
          "wind": 2.3
         },
         {
          "date": "2013-04-15",
          "precipitation": 0,
          "temp_max": 13.9,
          "temp_min": 4.4,
          "weather": "fog",
          "wind": 2.4
         },
         {
          "date": "2013-04-16",
          "precipitation": 0.3,
          "temp_max": 13.9,
          "temp_min": 3.3,
          "weather": "sun",
          "wind": 2.6
         },
         {
          "date": "2013-04-17",
          "precipitation": 0,
          "temp_max": 15,
          "temp_min": 3.9,
          "weather": "drizzle",
          "wind": 3.3
         },
         {
          "date": "2013-04-18",
          "precipitation": 5.3,
          "temp_max": 11.7,
          "temp_min": 6.7,
          "weather": "fog",
          "wind": 4
         },
         {
          "date": "2013-04-19",
          "precipitation": 20.6,
          "temp_max": 13.3,
          "temp_min": 9.4,
          "weather": "fog",
          "wind": 4.9
         },
         {
          "date": "2013-04-20",
          "precipitation": 0,
          "temp_max": 13.9,
          "temp_min": 8.3,
          "weather": "sun",
          "wind": 5.8
         },
         {
          "date": "2013-04-21",
          "precipitation": 3.3,
          "temp_max": 12.2,
          "temp_min": 6.7,
          "weather": "sun",
          "wind": 4.1
         },
         {
          "date": "2013-04-22",
          "precipitation": 0,
          "temp_max": 16.1,
          "temp_min": 5,
          "weather": "sun",
          "wind": 4.3
         },
         {
          "date": "2013-04-23",
          "precipitation": 0,
          "temp_max": 17.8,
          "temp_min": 3.9,
          "weather": "sun",
          "wind": 2.8
         },
         {
          "date": "2013-04-24",
          "precipitation": 0,
          "temp_max": 21.1,
          "temp_min": 6.1,
          "weather": "sun",
          "wind": 3
         },
         {
          "date": "2013-04-25",
          "precipitation": 0,
          "temp_max": 21.7,
          "temp_min": 6.7,
          "weather": "sun",
          "wind": 1.1
         },
         {
          "date": "2013-04-26",
          "precipitation": 0,
          "temp_max": 20.6,
          "temp_min": 8.3,
          "weather": "fog",
          "wind": 2.2
         },
         {
          "date": "2013-04-27",
          "precipitation": 0,
          "temp_max": 13.9,
          "temp_min": 10.6,
          "weather": "sun",
          "wind": 5.9
         },
         {
          "date": "2013-04-28",
          "precipitation": 1,
          "temp_max": 15,
          "temp_min": 9.4,
          "weather": "drizzle",
          "wind": 5.2
         },
         {
          "date": "2013-04-29",
          "precipitation": 3.8,
          "temp_max": 13.9,
          "temp_min": 6.7,
          "weather": "fog",
          "wind": 4.2
         },
         {
          "date": "2013-04-30",
          "precipitation": 0,
          "temp_max": 12.8,
          "temp_min": 4.4,
          "weather": "sun",
          "wind": 2.4
         },
         {
          "date": "2013-05-01",
          "precipitation": 0,
          "temp_max": 18.3,
          "temp_min": 3.3,
          "weather": "sun",
          "wind": 3.1
         },
         {
          "date": "2013-05-02",
          "precipitation": 0,
          "temp_max": 20.6,
          "temp_min": 6.7,
          "weather": "sun",
          "wind": 4
         },
         {
          "date": "2013-05-03",
          "precipitation": 0,
          "temp_max": 21.7,
          "temp_min": 9.4,
          "weather": "sun",
          "wind": 4.9
         },
         {
          "date": "2013-05-04",
          "precipitation": 0,
          "temp_max": 25,
          "temp_min": 11.1,
          "weather": "sun",
          "wind": 6.5
         },
         {
          "date": "2013-05-05",
          "precipitation": 0,
          "temp_max": 28.9,
          "temp_min": 11.7,
          "weather": "sun",
          "wind": 5.3
         },
         {
          "date": "2013-05-06",
          "precipitation": 0,
          "temp_max": 30.6,
          "temp_min": 12.2,
          "weather": "sun",
          "wind": 2
         },
         {
          "date": "2013-05-07",
          "precipitation": 0,
          "temp_max": 20.6,
          "temp_min": 11.1,
          "weather": "sun",
          "wind": 3.3
         },
         {
          "date": "2013-05-08",
          "precipitation": 0,
          "temp_max": 19.4,
          "temp_min": 11.1,
          "weather": "sun",
          "wind": 1.9
         },
         {
          "date": "2013-05-09",
          "precipitation": 0,
          "temp_max": 22.8,
          "temp_min": 10,
          "weather": "sun",
          "wind": 1.3
         },
         {
          "date": "2013-05-10",
          "precipitation": 0,
          "temp_max": 26.1,
          "temp_min": 9.4,
          "weather": "sun",
          "wind": 1
         },
         {
          "date": "2013-05-11",
          "precipitation": 0,
          "temp_max": 27.2,
          "temp_min": 12.2,
          "weather": "sun",
          "wind": 2.6
         },
         {
          "date": "2013-05-12",
          "precipitation": 6.6,
          "temp_max": 21.7,
          "temp_min": 13.9,
          "weather": "fog",
          "wind": 3.9
         },
         {
          "date": "2013-05-13",
          "precipitation": 3.3,
          "temp_max": 18.9,
          "temp_min": 9.4,
          "weather": "sun",
          "wind": 5
         },
         {
          "date": "2013-05-14",
          "precipitation": 0,
          "temp_max": 18.3,
          "temp_min": 7.8,
          "weather": "sun",
          "wind": 2.4
         },
         {
          "date": "2013-05-15",
          "precipitation": 1,
          "temp_max": 17.2,
          "temp_min": 8.9,
          "weather": "fog",
          "wind": 2.3
         },
         {
          "date": "2013-05-16",
          "precipitation": 0,
          "temp_max": 21.7,
          "temp_min": 12.2,
          "weather": "fog",
          "wind": 2.7
         },
         {
          "date": "2013-05-17",
          "precipitation": 0.5,
          "temp_max": 17.2,
          "temp_min": 11.7,
          "weather": "sun",
          "wind": 3.7
         },
         {
          "date": "2013-05-18",
          "precipitation": 0,
          "temp_max": 16.7,
          "temp_min": 11.1,
          "weather": "sun",
          "wind": 2.9
         },
         {
          "date": "2013-05-19",
          "precipitation": 0,
          "temp_max": 18.3,
          "temp_min": 10.6,
          "weather": "sun",
          "wind": 2.3
         },
         {
          "date": "2013-05-20",
          "precipitation": 0,
          "temp_max": 19.4,
          "temp_min": 9.4,
          "weather": "sun",
          "wind": 1.8
         },
         {
          "date": "2013-05-21",
          "precipitation": 13.7,
          "temp_max": 15.6,
          "temp_min": 8.3,
          "weather": "fog",
          "wind": 4.8
         },
         {
          "date": "2013-05-22",
          "precipitation": 13.7,
          "temp_max": 11.1,
          "temp_min": 7.2,
          "weather": "fog",
          "wind": 3
         },
         {
          "date": "2013-05-23",
          "precipitation": 4.1,
          "temp_max": 12.2,
          "temp_min": 6.7,
          "weather": "fog",
          "wind": 1.9
         },
         {
          "date": "2013-05-24",
          "precipitation": 0.3,
          "temp_max": 16.7,
          "temp_min": 8.9,
          "weather": "sun",
          "wind": 2.7
         },
         {
          "date": "2013-05-25",
          "precipitation": 0,
          "temp_max": 17.8,
          "temp_min": 10,
          "weather": "sun",
          "wind": 2.7
         },
         {
          "date": "2013-05-26",
          "precipitation": 1.5,
          "temp_max": 18.3,
          "temp_min": 10.6,
          "weather": "fog",
          "wind": 2.2
         },
         {
          "date": "2013-05-27",
          "precipitation": 9.7,
          "temp_max": 16.7,
          "temp_min": 11.1,
          "weather": "fog",
          "wind": 3.1
         },
         {
          "date": "2013-05-28",
          "precipitation": 0.5,
          "temp_max": 17.2,
          "temp_min": 11.7,
          "weather": "fog",
          "wind": 2.8
         },
         {
          "date": "2013-05-29",
          "precipitation": 5.6,
          "temp_max": 16.1,
          "temp_min": 9.4,
          "weather": "fog",
          "wind": 4
         },
         {
          "date": "2013-05-30",
          "precipitation": 0,
          "temp_max": 16.7,
          "temp_min": 9.4,
          "weather": "sun",
          "wind": 5.3
         },
         {
          "date": "2013-05-31",
          "precipitation": 0,
          "temp_max": 19.4,
          "temp_min": 11.1,
          "weather": "sun",
          "wind": 2.5
         },
         {
          "date": "2013-06-01",
          "precipitation": 0,
          "temp_max": 22.8,
          "temp_min": 12.2,
          "weather": "sun",
          "wind": 2.5
         },
         {
          "date": "2013-06-02",
          "precipitation": 1,
          "temp_max": 20.6,
          "temp_min": 12.2,
          "weather": "sun",
          "wind": 3.1
         },
         {
          "date": "2013-06-03",
          "precipitation": 0,
          "temp_max": 22.2,
          "temp_min": 11.1,
          "weather": "sun",
          "wind": 2.9
         },
         {
          "date": "2013-06-04",
          "precipitation": 0,
          "temp_max": 26.1,
          "temp_min": 12.2,
          "weather": "sun",
          "wind": 3.4
         },
         {
          "date": "2013-06-05",
          "precipitation": 0,
          "temp_max": 26.7,
          "temp_min": 14.4,
          "weather": "sun",
          "wind": 3.1
         },
         {
          "date": "2013-06-06",
          "precipitation": 0,
          "temp_max": 26.7,
          "temp_min": 12.2,
          "weather": "sun",
          "wind": 2.5
         },
         {
          "date": "2013-06-07",
          "precipitation": 0,
          "temp_max": 21.7,
          "temp_min": 13.3,
          "weather": "sun",
          "wind": 3.2
         },
         {
          "date": "2013-06-08",
          "precipitation": 0,
          "temp_max": 20.6,
          "temp_min": 12.8,
          "weather": "sun",
          "wind": 3.1
         },
         {
          "date": "2013-06-09",
          "precipitation": 0,
          "temp_max": 20.6,
          "temp_min": 11.1,
          "weather": "sun",
          "wind": 3.7
         },
         {
          "date": "2013-06-10",
          "precipitation": 0,
          "temp_max": 21.7,
          "temp_min": 11.7,
          "weather": "sun",
          "wind": 3.2
         },
         {
          "date": "2013-06-11",
          "precipitation": 0,
          "temp_max": 20,
          "temp_min": 10,
          "weather": "sun",
          "wind": 5.7
         },
         {
          "date": "2013-06-12",
          "precipitation": 0.3,
          "temp_max": 20.6,
          "temp_min": 11.7,
          "weather": "sun",
          "wind": 4.2
         },
         {
          "date": "2013-06-13",
          "precipitation": 0,
          "temp_max": 21.1,
          "temp_min": 11.7,
          "weather": "sun",
          "wind": 2.6
         },
         {
          "date": "2013-06-14",
          "precipitation": 0,
          "temp_max": 20,
          "temp_min": 12.2,
          "weather": "sun",
          "wind": 3.7
         },
         {
          "date": "2013-06-15",
          "precipitation": 0,
          "temp_max": 25.6,
          "temp_min": 10,
          "weather": "sun",
          "wind": 2.9
         },
         {
          "date": "2013-06-16",
          "precipitation": 0,
          "temp_max": 23.9,
          "temp_min": 12.8,
          "weather": "sun",
          "wind": 3.4
         },
         {
          "date": "2013-06-17",
          "precipitation": 0,
          "temp_max": 25.6,
          "temp_min": 13.9,
          "weather": "sun",
          "wind": 3
         },
         {
          "date": "2013-06-18",
          "precipitation": 0.3,
          "temp_max": 23.3,
          "temp_min": 13.3,
          "weather": "fog",
          "wind": 3.4
         },
         {
          "date": "2013-06-19",
          "precipitation": 0,
          "temp_max": 20,
          "temp_min": 12.8,
          "weather": "sun",
          "wind": 3.7
         },
         {
          "date": "2013-06-20",
          "precipitation": 3,
          "temp_max": 17.2,
          "temp_min": 12.8,
          "weather": "sun",
          "wind": 5
         },
         {
          "date": "2013-06-21",
          "precipitation": 0.3,
          "temp_max": 20.6,
          "temp_min": 12.2,
          "weather": "sun",
          "wind": 1.5
         },
         {
          "date": "2013-06-22",
          "precipitation": 0,
          "temp_max": 25.6,
          "temp_min": 11.7,
          "weather": "sun",
          "wind": 1.7
         },
         {
          "date": "2013-06-23",
          "precipitation": 7.9,
          "temp_max": 22.2,
          "temp_min": 15,
          "weather": "fog",
          "wind": 2.1
         },
         {
          "date": "2013-06-24",
          "precipitation": 4.8,
          "temp_max": 21.1,
          "temp_min": 13.9,
          "weather": "fog",
          "wind": 3.7
         },
         {
          "date": "2013-06-25",
          "precipitation": 9.9,
          "temp_max": 23.3,
          "temp_min": 14.4,
          "weather": "sun",
          "wind": 2.8
         },
         {
          "date": "2013-06-26",
          "precipitation": 2,
          "temp_max": 22.2,
          "temp_min": 15,
          "weather": "fog",
          "wind": 2.3
         },
         {
          "date": "2013-06-27",
          "precipitation": 3.6,
          "temp_max": 21.1,
          "temp_min": 16.7,
          "weather": "fog",
          "wind": 1.3
         },
         {
          "date": "2013-06-28",
          "precipitation": 0,
          "temp_max": 30.6,
          "temp_min": 16.1,
          "weather": "sun",
          "wind": 2.2
         },
         {
          "date": "2013-06-29",
          "precipitation": 0,
          "temp_max": 30,
          "temp_min": 18.3,
          "weather": "sun",
          "wind": 1.7
         },
         {
          "date": "2013-06-30",
          "precipitation": 0,
          "temp_max": 33.9,
          "temp_min": 17.2,
          "weather": "sun",
          "wind": 2.5
         },
         {
          "date": "2013-07-01",
          "precipitation": 0,
          "temp_max": 31.7,
          "temp_min": 18.3,
          "weather": "sun",
          "wind": 2.3
         },
         {
          "date": "2013-07-02",
          "precipitation": 0,
          "temp_max": 28.3,
          "temp_min": 15.6,
          "weather": "sun",
          "wind": 3
         },
         {
          "date": "2013-07-03",
          "precipitation": 0,
          "temp_max": 26.1,
          "temp_min": 16.7,
          "weather": "sun",
          "wind": 3.2
         },
         {
          "date": "2013-07-04",
          "precipitation": 0,
          "temp_max": 21.7,
          "temp_min": 13.9,
          "weather": "fog",
          "wind": 2.2
         },
         {
          "date": "2013-07-05",
          "precipitation": 0,
          "temp_max": 23.3,
          "temp_min": 13.9,
          "weather": "sun",
          "wind": 2.6
         },
         {
          "date": "2013-07-06",
          "precipitation": 0,
          "temp_max": 26.1,
          "temp_min": 13.3,
          "weather": "sun",
          "wind": 2.2
         },
         {
          "date": "2013-07-07",
          "precipitation": 0,
          "temp_max": 23.9,
          "temp_min": 13.9,
          "weather": "sun",
          "wind": 2.9
         },
         {
          "date": "2013-07-08",
          "precipitation": 0,
          "temp_max": 26.7,
          "temp_min": 13.3,
          "weather": "sun",
          "wind": 2.8
         },
         {
          "date": "2013-07-09",
          "precipitation": 0,
          "temp_max": 30,
          "temp_min": 15,
          "weather": "sun",
          "wind": 2.5
         },
         {
          "date": "2013-07-10",
          "precipitation": 0,
          "temp_max": 22.2,
          "temp_min": 13.9,
          "weather": "sun",
          "wind": 2.6
         },
         {
          "date": "2013-07-11",
          "precipitation": 0,
          "temp_max": 22.8,
          "temp_min": 12.2,
          "weather": "sun",
          "wind": 3
         },
         {
          "date": "2013-07-12",
          "precipitation": 0,
          "temp_max": 19.4,
          "temp_min": 13.3,
          "weather": "sun",
          "wind": 2.2
         },
         {
          "date": "2013-07-13",
          "precipitation": 0,
          "temp_max": 26.1,
          "temp_min": 11.1,
          "weather": "sun",
          "wind": 3.1
         },
         {
          "date": "2013-07-14",
          "precipitation": 0,
          "temp_max": 27.8,
          "temp_min": 12.8,
          "weather": "sun",
          "wind": 3
         },
         {
          "date": "2013-07-15",
          "precipitation": 0,
          "temp_max": 27.8,
          "temp_min": 14.4,
          "weather": "sun",
          "wind": 4.6
         },
         {
          "date": "2013-07-16",
          "precipitation": 0,
          "temp_max": 31.1,
          "temp_min": 18.3,
          "weather": "sun",
          "wind": 4.1
         },
         {
          "date": "2013-07-17",
          "precipitation": 0,
          "temp_max": 22.2,
          "temp_min": 15,
          "weather": "rain",
          "wind": 3.7
         },
         {
          "date": "2013-07-18",
          "precipitation": 0,
          "temp_max": 26.1,
          "temp_min": 13.9,
          "weather": "sun",
          "wind": 2
         },
         {
          "date": "2013-07-19",
          "precipitation": 0,
          "temp_max": 27.8,
          "temp_min": 13.3,
          "weather": "sun",
          "wind": 1.9
         },
         {
          "date": "2013-07-20",
          "precipitation": 0,
          "temp_max": 25,
          "temp_min": 13.3,
          "weather": "sun",
          "wind": 2
         },
         {
          "date": "2013-07-21",
          "precipitation": 0,
          "temp_max": 23.9,
          "temp_min": 12.8,
          "weather": "sun",
          "wind": 2.3
         },
         {
          "date": "2013-07-22",
          "precipitation": 0,
          "temp_max": 26.1,
          "temp_min": 13.3,
          "weather": "fog",
          "wind": 2.4
         },
         {
          "date": "2013-07-23",
          "precipitation": 0,
          "temp_max": 31.1,
          "temp_min": 13.9,
          "weather": "sun",
          "wind": 3
         },
         {
          "date": "2013-07-24",
          "precipitation": 0,
          "temp_max": 31.1,
          "temp_min": 14.4,
          "weather": "sun",
          "wind": 2.5
         },
         {
          "date": "2013-07-25",
          "precipitation": 0,
          "temp_max": 31.1,
          "temp_min": 12.8,
          "weather": "sun",
          "wind": 2.3
         },
         {
          "date": "2013-07-26",
          "precipitation": 0,
          "temp_max": 31.1,
          "temp_min": 14.4,
          "weather": "sun",
          "wind": 2.9
         },
         {
          "date": "2013-07-27",
          "precipitation": 0,
          "temp_max": 25.6,
          "temp_min": 12.8,
          "weather": "sun",
          "wind": 2.6
         },
         {
          "date": "2013-07-28",
          "precipitation": 0,
          "temp_max": 21.1,
          "temp_min": 12.2,
          "weather": "fog",
          "wind": 3.4
         },
         {
          "date": "2013-07-29",
          "precipitation": 0,
          "temp_max": 25,
          "temp_min": 13.3,
          "weather": "sun",
          "wind": 1.4
         },
         {
          "date": "2013-07-30",
          "precipitation": 0,
          "temp_max": 25,
          "temp_min": 13.3,
          "weather": "sun",
          "wind": 2.8
         },
         {
          "date": "2013-07-31",
          "precipitation": 0,
          "temp_max": 21.7,
          "temp_min": 13.3,
          "weather": "sun",
          "wind": 1.8
         },
         {
          "date": "2013-08-01",
          "precipitation": 0,
          "temp_max": 20.6,
          "temp_min": 13.3,
          "weather": "sun",
          "wind": 3.9
         },
         {
          "date": "2013-08-02",
          "precipitation": 2,
          "temp_max": 17.2,
          "temp_min": 15,
          "weather": "sun",
          "wind": 2
         },
         {
          "date": "2013-08-03",
          "precipitation": 0,
          "temp_max": 25,
          "temp_min": 15.6,
          "weather": "fog",
          "wind": 2.4
         },
         {
          "date": "2013-08-04",
          "precipitation": 0,
          "temp_max": 28.9,
          "temp_min": 15,
          "weather": "sun",
          "wind": 3.4
         },
         {
          "date": "2013-08-05",
          "precipitation": 0,
          "temp_max": 30,
          "temp_min": 15,
          "weather": "sun",
          "wind": 2.1
         },
         {
          "date": "2013-08-06",
          "precipitation": 0,
          "temp_max": 30.6,
          "temp_min": 13.9,
          "weather": "sun",
          "wind": 1.4
         },
         {
          "date": "2013-08-07",
          "precipitation": 0,
          "temp_max": 31.1,
          "temp_min": 13.9,
          "weather": "sun",
          "wind": 1.9
         },
         {
          "date": "2013-08-08",
          "precipitation": 0,
          "temp_max": 28.3,
          "temp_min": 14.4,
          "weather": "sun",
          "wind": 2.5
         },
         {
          "date": "2013-08-09",
          "precipitation": 0,
          "temp_max": 28.3,
          "temp_min": 14.4,
          "weather": "rain",
          "wind": 2.1
         },
         {
          "date": "2013-08-10",
          "precipitation": 2.3,
          "temp_max": 25.6,
          "temp_min": 15,
          "weather": "sun",
          "wind": 2.9
         },
         {
          "date": "2013-08-11",
          "precipitation": 0,
          "temp_max": 25,
          "temp_min": 14.4,
          "weather": "sun",
          "wind": 2.9
         },
         {
          "date": "2013-08-12",
          "precipitation": 0,
          "temp_max": 25.6,
          "temp_min": 16.1,
          "weather": "sun",
          "wind": 1.9
         },
         {
          "date": "2013-08-13",
          "precipitation": 0,
          "temp_max": 27.8,
          "temp_min": 15,
          "weather": "sun",
          "wind": 1.8
         },
         {
          "date": "2013-08-14",
          "precipitation": 0.8,
          "temp_max": 27.2,
          "temp_min": 15,
          "weather": "sun",
          "wind": 2
         },
         {
          "date": "2013-08-15",
          "precipitation": 1.8,
          "temp_max": 21.1,
          "temp_min": 17.2,
          "weather": "sun",
          "wind": 1
         },
         {
          "date": "2013-08-16",
          "precipitation": 0,
          "temp_max": 28.9,
          "temp_min": 16.1,
          "weather": "fog",
          "wind": 2.2
         },
         {
          "date": "2013-08-17",
          "precipitation": 0,
          "temp_max": 25.6,
          "temp_min": 17.2,
          "weather": "sun",
          "wind": 3
         },
         {
          "date": "2013-08-18",
          "precipitation": 0,
          "temp_max": 26.1,
          "temp_min": 15.6,
          "weather": "sun",
          "wind": 3.1
         },
         {
          "date": "2013-08-19",
          "precipitation": 0,
          "temp_max": 26.7,
          "temp_min": 15.6,
          "weather": "sun",
          "wind": 3
         },
         {
          "date": "2013-08-20",
          "precipitation": 0,
          "temp_max": 25.6,
          "temp_min": 16.1,
          "weather": "sun",
          "wind": 4.6
         },
         {
          "date": "2013-08-21",
          "precipitation": 0,
          "temp_max": 27.8,
          "temp_min": 15,
          "weather": "sun",
          "wind": 4.3
         },
         {
          "date": "2013-08-22",
          "precipitation": 0,
          "temp_max": 28.9,
          "temp_min": 15,
          "weather": "sun",
          "wind": 1.9
         },
         {
          "date": "2013-08-23",
          "precipitation": 0,
          "temp_max": 25,
          "temp_min": 16.1,
          "weather": "sun",
          "wind": 4.1
         },
         {
          "date": "2013-08-24",
          "precipitation": 0,
          "temp_max": 25,
          "temp_min": 16.7,
          "weather": "sun",
          "wind": 2.7
         },
         {
          "date": "2013-08-25",
          "precipitation": 0.3,
          "temp_max": 22.2,
          "temp_min": 16.1,
          "weather": "sun",
          "wind": 2.6
         },
         {
          "date": "2013-08-26",
          "precipitation": 1,
          "temp_max": 24.4,
          "temp_min": 16.1,
          "weather": "sun",
          "wind": 1.9
         },
         {
          "date": "2013-08-27",
          "precipitation": 1.3,
          "temp_max": 26.7,
          "temp_min": 17.2,
          "weather": "sun",
          "wind": 1.4
         },
         {
          "date": "2013-08-28",
          "precipitation": 5.6,
          "temp_max": 26.7,
          "temp_min": 15.6,
          "weather": "fog",
          "wind": 1.3
         },
         {
          "date": "2013-08-29",
          "precipitation": 19.3,
          "temp_max": 23.9,
          "temp_min": 18.3,
          "weather": "sun",
          "wind": 3
         },
         {
          "date": "2013-08-30",
          "precipitation": 0,
          "temp_max": 26.1,
          "temp_min": 16.1,
          "weather": "sun",
          "wind": 2.9
         },
         {
          "date": "2013-08-31",
          "precipitation": 0,
          "temp_max": 27.8,
          "temp_min": 13.9,
          "weather": "sun",
          "wind": 2.6
         },
         {
          "date": "2013-09-01",
          "precipitation": 0,
          "temp_max": 27.8,
          "temp_min": 15.6,
          "weather": "sun",
          "wind": 2.5
         },
         {
          "date": "2013-09-02",
          "precipitation": 0,
          "temp_max": 27.8,
          "temp_min": 17.2,
          "weather": "sun",
          "wind": 2.1
         },
         {
          "date": "2013-09-03",
          "precipitation": 2.3,
          "temp_max": 25,
          "temp_min": 16.7,
          "weather": "fog",
          "wind": 1.7
         },
         {
          "date": "2013-09-04",
          "precipitation": 0.3,
          "temp_max": 22.8,
          "temp_min": 16.1,
          "weather": "fog",
          "wind": 2.4
         },
         {
          "date": "2013-09-05",
          "precipitation": 27.7,
          "temp_max": 20,
          "temp_min": 15.6,
          "weather": "sun",
          "wind": 2.5
         },
         {
          "date": "2013-09-06",
          "precipitation": 21.3,
          "temp_max": 21.7,
          "temp_min": 16.1,
          "weather": "fog",
          "wind": 2.6
         },
         {
          "date": "2013-09-07",
          "precipitation": 0,
          "temp_max": 23.3,
          "temp_min": 17.2,
          "weather": "sun",
          "wind": 2
         },
         {
          "date": "2013-09-08",
          "precipitation": 0,
          "temp_max": 26.7,
          "temp_min": 14.4,
          "weather": "fog",
          "wind": 1.5
         },
         {
          "date": "2013-09-09",
          "precipitation": 0,
          "temp_max": 26.1,
          "temp_min": 13.9,
          "weather": "sun",
          "wind": 2.1
         },
         {
          "date": "2013-09-10",
          "precipitation": 0,
          "temp_max": 26.7,
          "temp_min": 15,
          "weather": "sun",
          "wind": 3.7
         },
         {
          "date": "2013-09-11",
          "precipitation": 0,
          "temp_max": 33.9,
          "temp_min": 16.1,
          "weather": "sun",
          "wind": 2.4
         },
         {
          "date": "2013-09-12",
          "precipitation": 0,
          "temp_max": 25.6,
          "temp_min": 15,
          "weather": "sun",
          "wind": 1.7
         },
         {
          "date": "2013-09-13",
          "precipitation": 0,
          "temp_max": 18.9,
          "temp_min": 15.6,
          "weather": "sun",
          "wind": 2
         },
         {
          "date": "2013-09-14",
          "precipitation": 0,
          "temp_max": 21.7,
          "temp_min": 15.6,
          "weather": "fog",
          "wind": 1.4
         },
         {
          "date": "2013-09-15",
          "precipitation": 3.3,
          "temp_max": 18.9,
          "temp_min": 14.4,
          "weather": "sun",
          "wind": 2.2
         },
         {
          "date": "2013-09-16",
          "precipitation": 0.3,
          "temp_max": 21.7,
          "temp_min": 15,
          "weather": "fog",
          "wind": 4.3
         },
         {
          "date": "2013-09-17",
          "precipitation": 0,
          "temp_max": 17.8,
          "temp_min": 13.9,
          "weather": "sun",
          "wind": 2.3
         },
         {
          "date": "2013-09-18",
          "precipitation": 0,
          "temp_max": 21.1,
          "temp_min": 13.3,
          "weather": "sun",
          "wind": 2.5
         },
         {
          "date": "2013-09-19",
          "precipitation": 0,
          "temp_max": 25.6,
          "temp_min": 10,
          "weather": "sun",
          "wind": 1.5
         },
         {
          "date": "2013-09-20",
          "precipitation": 3.6,
          "temp_max": 23.3,
          "temp_min": 13.3,
          "weather": "fog",
          "wind": 3
         },
         {
          "date": "2013-09-21",
          "precipitation": 0,
          "temp_max": 21.1,
          "temp_min": 13.3,
          "weather": "sun",
          "wind": 2.5
         },
         {
          "date": "2013-09-22",
          "precipitation": 13.5,
          "temp_max": 17.2,
          "temp_min": 13.3,
          "weather": "fog",
          "wind": 5.5
         },
         {
          "date": "2013-09-23",
          "precipitation": 2.8,
          "temp_max": 16.1,
          "temp_min": 11.1,
          "weather": "fog",
          "wind": 4.5
         },
         {
          "date": "2013-09-24",
          "precipitation": 0,
          "temp_max": 17.8,
          "temp_min": 10,
          "weather": "sun",
          "wind": 2.6
         },
         {
          "date": "2013-09-25",
          "precipitation": 2,
          "temp_max": 16.1,
          "temp_min": 9.4,
          "weather": "fog",
          "wind": 3
         },
         {
          "date": "2013-09-26",
          "precipitation": 0,
          "temp_max": 17.2,
          "temp_min": 7.2,
          "weather": "sun",
          "wind": 2.2
         },
         {
          "date": "2013-09-27",
          "precipitation": 1,
          "temp_max": 13.9,
          "temp_min": 10.6,
          "weather": "fog",
          "wind": 4.3
         },
         {
          "date": "2013-09-28",
          "precipitation": 43.4,
          "temp_max": 16.7,
          "temp_min": 11.7,
          "weather": "fog",
          "wind": 6
         },
         {
          "date": "2013-09-29",
          "precipitation": 16.8,
          "temp_max": 14.4,
          "temp_min": 11.1,
          "weather": "sun",
          "wind": 7.1
         },
         {
          "date": "2013-09-30",
          "precipitation": 18.5,
          "temp_max": 13.9,
          "temp_min": 10,
          "weather": "fog",
          "wind": 6.3
         },
         {
          "date": "2013-10-01",
          "precipitation": 7.9,
          "temp_max": 14.4,
          "temp_min": 8.9,
          "weather": "fog",
          "wind": 4.7
         },
         {
          "date": "2013-10-02",
          "precipitation": 5.3,
          "temp_max": 12.8,
          "temp_min": 9.4,
          "weather": "fog",
          "wind": 2.4
         },
         {
          "date": "2013-10-03",
          "precipitation": 0.8,
          "temp_max": 14.4,
          "temp_min": 8.9,
          "weather": "fog",
          "wind": 0.9
         },
         {
          "date": "2013-10-04",
          "precipitation": 0,
          "temp_max": 17.8,
          "temp_min": 5.6,
          "weather": "sun",
          "wind": 1.1
         },
         {
          "date": "2013-10-05",
          "precipitation": 0,
          "temp_max": 20,
          "temp_min": 8.3,
          "weather": "sun",
          "wind": 1.6
         },
         {
          "date": "2013-10-06",
          "precipitation": 4.1,
          "temp_max": 22.8,
          "temp_min": 7.8,
          "weather": "fog",
          "wind": 2.6
         },
         {
          "date": "2013-10-07",
          "precipitation": 0.5,
          "temp_max": 16.1,
          "temp_min": 11.7,
          "weather": "fog",
          "wind": 6.3
         },
         {
          "date": "2013-10-08",
          "precipitation": 6.9,
          "temp_max": 13.9,
          "temp_min": 7.8,
          "weather": "rain",
          "wind": 3
         },
         {
          "date": "2013-10-09",
          "precipitation": 0,
          "temp_max": 15,
          "temp_min": 5.6,
          "weather": "sun",
          "wind": 1.6
         },
         {
          "date": "2013-10-10",
          "precipitation": 1,
          "temp_max": 14.4,
          "temp_min": 8.3,
          "weather": "fog",
          "wind": 1.7
         },
         {
          "date": "2013-10-11",
          "precipitation": 9.1,
          "temp_max": 13.9,
          "temp_min": 10.6,
          "weather": "sun",
          "wind": 1
         },
         {
          "date": "2013-10-12",
          "precipitation": 1,
          "temp_max": 14.4,
          "temp_min": 8.9,
          "weather": "fog",
          "wind": 2.2
         },
         {
          "date": "2013-10-13",
          "precipitation": 0,
          "temp_max": 15,
          "temp_min": 6.7,
          "weather": "fog",
          "wind": 1.8
         },
         {
          "date": "2013-10-14",
          "precipitation": 0,
          "temp_max": 15.6,
          "temp_min": 3.9,
          "weather": "sun",
          "wind": 1.6
         },
         {
          "date": "2013-10-15",
          "precipitation": 0,
          "temp_max": 15.6,
          "temp_min": 5,
          "weather": "sun",
          "wind": 0.9
         },
         {
          "date": "2013-10-16",
          "precipitation": 0,
          "temp_max": 12.8,
          "temp_min": 8.9,
          "weather": "fog",
          "wind": 2.7
         },
         {
          "date": "2013-10-17",
          "precipitation": 0,
          "temp_max": 14.4,
          "temp_min": 8.9,
          "weather": "fog",
          "wind": 1.7
         },
         {
          "date": "2013-10-18",
          "precipitation": 0,
          "temp_max": 12.8,
          "temp_min": 7.2,
          "weather": "sun",
          "wind": 1.2
         },
         {
          "date": "2013-10-19",
          "precipitation": 0,
          "temp_max": 10.6,
          "temp_min": 7.8,
          "weather": "sun",
          "wind": 1.4
         },
         {
          "date": "2013-10-20",
          "precipitation": 0,
          "temp_max": 10.6,
          "temp_min": 7.8,
          "weather": "sun",
          "wind": 2.4
         },
         {
          "date": "2013-10-21",
          "precipitation": 0,
          "temp_max": 11.7,
          "temp_min": 8.3,
          "weather": "sun",
          "wind": 2.5
         },
         {
          "date": "2013-10-22",
          "precipitation": 0,
          "temp_max": 14.4,
          "temp_min": 7.2,
          "weather": "sun",
          "wind": 1.9
         },
         {
          "date": "2013-10-23",
          "precipitation": 0,
          "temp_max": 12.8,
          "temp_min": 6.1,
          "weather": "sun",
          "wind": 0.4
         },
         {
          "date": "2013-10-24",
          "precipitation": 0,
          "temp_max": 10,
          "temp_min": 6.1,
          "weather": "sun",
          "wind": 0.6
         },
         {
          "date": "2013-10-25",
          "precipitation": 0,
          "temp_max": 12.2,
          "temp_min": 7.8,
          "weather": "sun",
          "wind": 1.8
         },
         {
          "date": "2013-10-26",
          "precipitation": 0,
          "temp_max": 11.7,
          "temp_min": 8.3,
          "weather": "sun",
          "wind": 2.7
         },
         {
          "date": "2013-10-27",
          "precipitation": 1.8,
          "temp_max": 13.9,
          "temp_min": 8.3,
          "weather": "fog",
          "wind": 4.4
         },
         {
          "date": "2013-10-28",
          "precipitation": 0,
          "temp_max": 14.4,
          "temp_min": 7.2,
          "weather": "sun",
          "wind": 5.1
         },
         {
          "date": "2013-10-29",
          "precipitation": 0,
          "temp_max": 13.3,
          "temp_min": 3.3,
          "weather": "sun",
          "wind": 2.2
         },
         {
          "date": "2013-10-30",
          "precipitation": 0.5,
          "temp_max": 15,
          "temp_min": 5.6,
          "weather": "sun",
          "wind": 3.9
         },
         {
          "date": "2013-10-31",
          "precipitation": 0.3,
          "temp_max": 14.4,
          "temp_min": 10.6,
          "weather": "fog",
          "wind": 2.2
         },
         {
          "date": "2013-11-01",
          "precipitation": 1.3,
          "temp_max": 17.8,
          "temp_min": 11.7,
          "weather": "sun",
          "wind": 1.4
         },
         {
          "date": "2013-11-02",
          "precipitation": 12.7,
          "temp_max": 14.4,
          "temp_min": 8.3,
          "weather": "fog",
          "wind": 7.9
         },
         {
          "date": "2013-11-03",
          "precipitation": 0.5,
          "temp_max": 12.2,
          "temp_min": 4.4,
          "weather": "sun",
          "wind": 2.4
         },
         {
          "date": "2013-11-04",
          "precipitation": 0,
          "temp_max": 10.6,
          "temp_min": 3.9,
          "weather": "drizzle",
          "wind": 1.6
         },
         {
          "date": "2013-11-05",
          "precipitation": 2.5,
          "temp_max": 13.3,
          "temp_min": 7.2,
          "weather": "fog",
          "wind": 3.1
         },
         {
          "date": "2013-11-06",
          "precipitation": 3.8,
          "temp_max": 12.8,
          "temp_min": 7.8,
          "weather": "sun",
          "wind": 1.7
         },
         {
          "date": "2013-11-07",
          "precipitation": 30,
          "temp_max": 11.1,
          "temp_min": 10,
          "weather": "fog",
          "wind": 7.2
         },
         {
          "date": "2013-11-08",
          "precipitation": 0,
          "temp_max": 13.3,
          "temp_min": 7.2,
          "weather": "sun",
          "wind": 4.1
         },
         {
          "date": "2013-11-09",
          "precipitation": 1.8,
          "temp_max": 11.1,
          "temp_min": 5,
          "weather": "sun",
          "wind": 1.4
         },
         {
          "date": "2013-11-10",
          "precipitation": 0,
          "temp_max": 11.1,
          "temp_min": 8.3,
          "weather": "sun",
          "wind": 4.4
         },
         {
          "date": "2013-11-11",
          "precipitation": 0,
          "temp_max": 16.1,
          "temp_min": 6.1,
          "weather": "fog",
          "wind": 2.6
         },
         {
          "date": "2013-11-12",
          "precipitation": 4.1,
          "temp_max": 15.6,
          "temp_min": 8.9,
          "weather": "fog",
          "wind": 2.2
         },
         {
          "date": "2013-11-13",
          "precipitation": 0,
          "temp_max": 13.9,
          "temp_min": 10.6,
          "weather": "sun",
          "wind": 3.8
         },
         {
          "date": "2013-11-14",
          "precipitation": 1.3,
          "temp_max": 11.1,
          "temp_min": 6.1,
          "weather": "fog",
          "wind": 1.1
         },
         {
          "date": "2013-11-15",
          "precipitation": 3,
          "temp_max": 10.6,
          "temp_min": 7.2,
          "weather": "sun",
          "wind": 6
         },
         {
          "date": "2013-11-16",
          "precipitation": 0,
          "temp_max": 10,
          "temp_min": 5,
          "weather": "sun",
          "wind": 4.6
         },
         {
          "date": "2013-11-17",
          "precipitation": 5.3,
          "temp_max": 11.7,
          "temp_min": 7.2,
          "weather": "fog",
          "wind": 5.4
         },
         {
          "date": "2013-11-18",
          "precipitation": 26.2,
          "temp_max": 12.8,
          "temp_min": 9.4,
          "weather": "fog",
          "wind": 3.9
         },
         {
          "date": "2013-11-19",
          "precipitation": 1,
          "temp_max": 13.3,
          "temp_min": 4.4,
          "weather": "fog",
          "wind": 5.1
         },
         {
          "date": "2013-11-20",
          "precipitation": 0,
          "temp_max": 7.8,
          "temp_min": 1.7,
          "weather": "sun",
          "wind": 4.3
         },
         {
          "date": "2013-11-21",
          "precipitation": 0,
          "temp_max": 7.8,
          "temp_min": -0.5,
          "weather": "sun",
          "wind": 3.6
         },
         {
          "date": "2013-11-22",
          "precipitation": 0,
          "temp_max": 9.4,
          "temp_min": 0,
          "weather": "sun",
          "wind": 4.6
         },
         {
          "date": "2013-11-23",
          "precipitation": 0,
          "temp_max": 11.1,
          "temp_min": 1.1,
          "weather": "sun",
          "wind": 2.6
         },
         {
          "date": "2013-11-24",
          "precipitation": 0,
          "temp_max": 11.7,
          "temp_min": 0.6,
          "weather": "fog",
          "wind": 0.9
         },
         {
          "date": "2013-11-25",
          "precipitation": 0,
          "temp_max": 12.2,
          "temp_min": 2.2,
          "weather": "sun",
          "wind": 0.5
         },
         {
          "date": "2013-11-26",
          "precipitation": 0,
          "temp_max": 12.2,
          "temp_min": 2.8,
          "weather": "sun",
          "wind": 1
         },
         {
          "date": "2013-11-27",
          "precipitation": 0,
          "temp_max": 14.4,
          "temp_min": 5.6,
          "weather": "sun",
          "wind": 1.3
         },
         {
          "date": "2013-11-28",
          "precipitation": 0,
          "temp_max": 11.7,
          "temp_min": 3.3,
          "weather": "sun",
          "wind": 0.7
         },
         {
          "date": "2013-11-29",
          "precipitation": 0.5,
          "temp_max": 9.4,
          "temp_min": 5,
          "weather": "fog",
          "wind": 2.1
         },
         {
          "date": "2013-11-30",
          "precipitation": 2.3,
          "temp_max": 11.1,
          "temp_min": 7.2,
          "weather": "fog",
          "wind": 3.9
         },
         {
          "date": "2013-12-01",
          "precipitation": 3,
          "temp_max": 13.3,
          "temp_min": 7.8,
          "weather": "fog",
          "wind": 8.8
         },
         {
          "date": "2013-12-02",
          "precipitation": 4.6,
          "temp_max": 7.8,
          "temp_min": 1.7,
          "weather": "sun",
          "wind": 3.5
         },
         {
          "date": "2013-12-03",
          "precipitation": 0,
          "temp_max": 5,
          "temp_min": -0.5,
          "weather": "sun",
          "wind": 5.6
         },
         {
          "date": "2013-12-04",
          "precipitation": 0,
          "temp_max": 4.4,
          "temp_min": -2.1,
          "weather": "sun",
          "wind": 1.6
         },
         {
          "date": "2013-12-05",
          "precipitation": 0,
          "temp_max": 1.1,
          "temp_min": -4.9,
          "weather": "sun",
          "wind": 2.6
         },
         {
          "date": "2013-12-06",
          "precipitation": 0,
          "temp_max": 1.1,
          "temp_min": -4.3,
          "weather": "sun",
          "wind": 4.7
         },
         {
          "date": "2013-12-07",
          "precipitation": 0,
          "temp_max": 0,
          "temp_min": -7.1,
          "weather": "sun",
          "wind": 3.1
         },
         {
          "date": "2013-12-08",
          "precipitation": 0,
          "temp_max": 2.2,
          "temp_min": -6.6,
          "weather": "sun",
          "wind": 2.2
         },
         {
          "date": "2013-12-09",
          "precipitation": 0,
          "temp_max": 1.1,
          "temp_min": -4.9,
          "weather": "sun",
          "wind": 1.3
         },
         {
          "date": "2013-12-10",
          "precipitation": 0,
          "temp_max": 5.6,
          "temp_min": 0.6,
          "weather": "sun",
          "wind": 1.5
         },
         {
          "date": "2013-12-11",
          "precipitation": 0,
          "temp_max": 5,
          "temp_min": -1.6,
          "weather": "sun",
          "wind": 0.8
         },
         {
          "date": "2013-12-12",
          "precipitation": 6.9,
          "temp_max": 5.6,
          "temp_min": -0.5,
          "weather": "sun",
          "wind": 2.3
         },
         {
          "date": "2013-12-13",
          "precipitation": 0.5,
          "temp_max": 9.4,
          "temp_min": 5.6,
          "weather": "fog",
          "wind": 2.9
         },
         {
          "date": "2013-12-14",
          "precipitation": 0,
          "temp_max": 9.4,
          "temp_min": 6.1,
          "weather": "sun",
          "wind": 3.7
         },
         {
          "date": "2013-12-15",
          "precipitation": 1.3,
          "temp_max": 11.7,
          "temp_min": 8.3,
          "weather": "fog",
          "wind": 3.9
         },
         {
          "date": "2013-12-16",
          "precipitation": 0.3,
          "temp_max": 10,
          "temp_min": 4.4,
          "weather": "sun",
          "wind": 1
         },
         {
          "date": "2013-12-17",
          "precipitation": 0,
          "temp_max": 8.3,
          "temp_min": 4.4,
          "weather": "sun",
          "wind": 2.7
         },
         {
          "date": "2013-12-18",
          "precipitation": 1.3,
          "temp_max": 7.8,
          "temp_min": 2.2,
          "weather": "fog",
          "wind": 2.8
         },
         {
          "date": "2013-12-19",
          "precipitation": 0,
          "temp_max": 5,
          "temp_min": 0,
          "weather": "sun",
          "wind": 2.1
         },
         {
          "date": "2013-12-20",
          "precipitation": 5.6,
          "temp_max": 8.3,
          "temp_min": 0.6,
          "weather": "fog",
          "wind": 3.7
         },
         {
          "date": "2013-12-21",
          "precipitation": 5.6,
          "temp_max": 8.9,
          "temp_min": 5.6,
          "weather": "fog",
          "wind": 2.3
         },
         {
          "date": "2013-12-22",
          "precipitation": 10.7,
          "temp_max": 10.6,
          "temp_min": 8.3,
          "weather": "fog",
          "wind": 4
         },
         {
          "date": "2013-12-23",
          "precipitation": 1.5,
          "temp_max": 11.7,
          "temp_min": 6.1,
          "weather": "fog",
          "wind": 5.9
         },
         {
          "date": "2013-12-24",
          "precipitation": 0,
          "temp_max": 8.3,
          "temp_min": 2.8,
          "weather": "sun",
          "wind": 1.7
         },
         {
          "date": "2013-12-25",
          "precipitation": 0,
          "temp_max": 6.7,
          "temp_min": 1.7,
          "weather": "sun",
          "wind": 0.8
         },
         {
          "date": "2013-12-26",
          "precipitation": 0,
          "temp_max": 6.7,
          "temp_min": 0.6,
          "weather": "sun",
          "wind": 0.5
         },
         {
          "date": "2013-12-27",
          "precipitation": 0.3,
          "temp_max": 8.9,
          "temp_min": 0,
          "weather": "fog",
          "wind": 2.1
         },
         {
          "date": "2013-12-28",
          "precipitation": 0,
          "temp_max": 9.4,
          "temp_min": 3.3,
          "weather": "sun",
          "wind": 1.3
         },
         {
          "date": "2013-12-29",
          "precipitation": 0,
          "temp_max": 7.2,
          "temp_min": 1.7,
          "weather": "sun",
          "wind": 1.1
         },
         {
          "date": "2013-12-30",
          "precipitation": 0.3,
          "temp_max": 8.9,
          "temp_min": 4.4,
          "weather": "sun",
          "wind": 2.6
         },
         {
          "date": "2013-12-31",
          "precipitation": 0.5,
          "temp_max": 8.3,
          "temp_min": 5,
          "weather": "sun",
          "wind": 1.7
         },
         {
          "date": "2014-01-01",
          "precipitation": 0,
          "temp_max": 7.2,
          "temp_min": 3.3,
          "weather": "sun",
          "wind": 1.2
         },
         {
          "date": "2014-01-02",
          "precipitation": 4.1,
          "temp_max": 10.6,
          "temp_min": 6.1,
          "weather": "sun",
          "wind": 3.2
         },
         {
          "date": "2014-01-03",
          "precipitation": 1.5,
          "temp_max": 8.9,
          "temp_min": 2.8,
          "weather": "fog",
          "wind": 2.6
         },
         {
          "date": "2014-01-04",
          "precipitation": 0,
          "temp_max": 7.8,
          "temp_min": 0.6,
          "weather": "fog",
          "wind": 2.7
         },
         {
          "date": "2014-01-05",
          "precipitation": 0,
          "temp_max": 8.3,
          "temp_min": -0.5,
          "weather": "sun",
          "wind": 3.7
         },
         {
          "date": "2014-01-06",
          "precipitation": 0.3,
          "temp_max": 7.8,
          "temp_min": -0.5,
          "weather": "fog",
          "wind": 2.6
         },
         {
          "date": "2014-01-07",
          "precipitation": 12.2,
          "temp_max": 8.3,
          "temp_min": 5,
          "weather": "sun",
          "wind": 1.6
         },
         {
          "date": "2014-01-08",
          "precipitation": 9.7,
          "temp_max": 10,
          "temp_min": 7.2,
          "weather": "fog",
          "wind": 4.6
         },
         {
          "date": "2014-01-09",
          "precipitation": 5.8,
          "temp_max": 9.4,
          "temp_min": 5.6,
          "weather": "fog",
          "wind": 6.3
         },
         {
          "date": "2014-01-10",
          "precipitation": 4.3,
          "temp_max": 12.8,
          "temp_min": 8.3,
          "weather": "sun",
          "wind": 7
         },
         {
          "date": "2014-01-11",
          "precipitation": 21.3,
          "temp_max": 14.4,
          "temp_min": 7.2,
          "weather": "fog",
          "wind": 8.8
         },
         {
          "date": "2014-01-12",
          "precipitation": 1.5,
          "temp_max": 11.1,
          "temp_min": 5.6,
          "weather": "fog",
          "wind": 8.1
         },
         {
          "date": "2014-01-13",
          "precipitation": 0,
          "temp_max": 10.6,
          "temp_min": 10,
          "weather": "sun",
          "wind": 7.1
         },
         {
          "date": "2014-01-14",
          "precipitation": 0,
          "temp_max": 11.1,
          "temp_min": 7.2,
          "weather": "sun",
          "wind": 1.3
         },
         {
          "date": "2014-01-15",
          "precipitation": 0,
          "temp_max": 11.1,
          "temp_min": 5.6,
          "weather": "sun",
          "wind": 2.5
         },
         {
          "date": "2014-01-16",
          "precipitation": 0,
          "temp_max": 6.7,
          "temp_min": 4.4,
          "weather": "sun",
          "wind": 2.7
         },
         {
          "date": "2014-01-17",
          "precipitation": 0,
          "temp_max": 5.6,
          "temp_min": 2.8,
          "weather": "sun",
          "wind": 2.3
         },
         {
          "date": "2014-01-18",
          "precipitation": 0,
          "temp_max": 9.4,
          "temp_min": 0.6,
          "weather": "sun",
          "wind": 2.2
         },
         {
          "date": "2014-01-19",
          "precipitation": 0,
          "temp_max": 6.1,
          "temp_min": 3.3,
          "weather": "sun",
          "wind": 2.5
         },
         {
          "date": "2014-01-20",
          "precipitation": 0,
          "temp_max": 10,
          "temp_min": 2.8,
          "weather": "sun",
          "wind": 2.2
         },
         {
          "date": "2014-01-21",
          "precipitation": 0,
          "temp_max": 10,
          "temp_min": 1.7,
          "weather": "sun",
          "wind": 1.5
         },
         {
          "date": "2014-01-22",
          "precipitation": 0.5,
          "temp_max": 9.4,
          "temp_min": 5.6,
          "weather": "sun",
          "wind": 2.6
         },
         {
          "date": "2014-01-23",
          "precipitation": 0,
          "temp_max": 10,
          "temp_min": 2.8,
          "weather": "fog",
          "wind": 5.2
         },
         {
          "date": "2014-01-24",
          "precipitation": 0,
          "temp_max": 12.8,
          "temp_min": 1.1,
          "weather": "sun",
          "wind": 1.9
         },
         {
          "date": "2014-01-25",
          "precipitation": 0,
          "temp_max": 12.2,
          "temp_min": 1.1,
          "weather": "sun",
          "wind": 0.8
         },
         {
          "date": "2014-01-26",
          "precipitation": 0,
          "temp_max": 8.3,
          "temp_min": 0.6,
          "weather": "sun",
          "wind": 1.3
         },
         {
          "date": "2014-01-27",
          "precipitation": 0,
          "temp_max": 9.4,
          "temp_min": 1.7,
          "weather": "sun",
          "wind": 1.3
         },
         {
          "date": "2014-01-28",
          "precipitation": 8.9,
          "temp_max": 11.1,
          "temp_min": 6.1,
          "weather": "fog",
          "wind": 1.6
         },
         {
          "date": "2014-01-29",
          "precipitation": 21.6,
          "temp_max": 11.1,
          "temp_min": 7.2,
          "weather": "fog",
          "wind": 3.4
         },
         {
          "date": "2014-01-30",
          "precipitation": 0,
          "temp_max": 8.3,
          "temp_min": 6.1,
          "weather": "sun",
          "wind": 6.4
         },
         {
          "date": "2014-01-31",
          "precipitation": 2.3,
          "temp_max": 7.8,
          "temp_min": 5.6,
          "weather": "fog",
          "wind": 2.6
         },
         {
          "date": "2014-02-01",
          "precipitation": 2,
          "temp_max": 7.8,
          "temp_min": 2.8,
          "weather": "sun",
          "wind": 0.8
         },
         {
          "date": "2014-02-02",
          "precipitation": 0,
          "temp_max": 8.9,
          "temp_min": 1.1,
          "weather": "sun",
          "wind": 2.5
         },
         {
          "date": "2014-02-03",
          "precipitation": 0,
          "temp_max": 5,
          "temp_min": 0,
          "weather": "sun",
          "wind": 4.3
         },
         {
          "date": "2014-02-04",
          "precipitation": 0,
          "temp_max": 2.8,
          "temp_min": -2.1,
          "weather": "sun",
          "wind": 4.7
         },
         {
          "date": "2014-02-05",
          "precipitation": 0,
          "temp_max": -0.5,
          "temp_min": -5.5,
          "weather": "sun",
          "wind": 6.6
         },
         {
          "date": "2014-02-06",
          "precipitation": 0,
          "temp_max": -1.6,
          "temp_min": -6,
          "weather": "sun",
          "wind": 4.5
         },
         {
          "date": "2014-02-07",
          "precipitation": 0,
          "temp_max": 3.3,
          "temp_min": -4.9,
          "weather": "sun",
          "wind": 4.2
         },
         {
          "date": "2014-02-08",
          "precipitation": 5.1,
          "temp_max": 5.6,
          "temp_min": -0.5,
          "weather": "fog",
          "wind": 4.6
         },
         {
          "date": "2014-02-09",
          "precipitation": 0.5,
          "temp_max": 3.9,
          "temp_min": 0,
          "weather": "fog",
          "wind": 2.4
         },
         {
          "date": "2014-02-10",
          "precipitation": 18.3,
          "temp_max": 10,
          "temp_min": 2.2,
          "weather": "fog",
          "wind": 4.7
         },
         {
          "date": "2014-02-11",
          "precipitation": 17,
          "temp_max": 12.2,
          "temp_min": 5.6,
          "weather": "fog",
          "wind": 3.8
         },
         {
          "date": "2014-02-12",
          "precipitation": 4.6,
          "temp_max": 12.2,
          "temp_min": 7.2,
          "weather": "fog",
          "wind": 6.4
         },
         {
          "date": "2014-02-13",
          "precipitation": 1.8,
          "temp_max": 12.8,
          "temp_min": 7.8,
          "weather": "fog",
          "wind": 6.3
         },
         {
          "date": "2014-02-14",
          "precipitation": 9.4,
          "temp_max": 11.7,
          "temp_min": 6.1,
          "weather": "fog",
          "wind": 6.4
         },
         {
          "date": "2014-02-15",
          "precipitation": 11.7,
          "temp_max": 11.1,
          "temp_min": 5,
          "weather": "fog",
          "wind": 5.1
         },
         {
          "date": "2014-02-16",
          "precipitation": 26.4,
          "temp_max": 9.4,
          "temp_min": 3.9,
          "weather": "fog",
          "wind": 7.9
         },
         {
          "date": "2014-02-17",
          "precipitation": 14.5,
          "temp_max": 8.3,
          "temp_min": 4.4,
          "weather": "fog",
          "wind": 5.5
         },
         {
          "date": "2014-02-18",
          "precipitation": 15.2,
          "temp_max": 8.9,
          "temp_min": 5,
          "weather": "fog",
          "wind": 6.2
         },
         {
          "date": "2014-02-19",
          "precipitation": 1,
          "temp_max": 8.3,
          "temp_min": 3.9,
          "weather": "sun",
          "wind": 6
         },
         {
          "date": "2014-02-20",
          "precipitation": 3,
          "temp_max": 10,
          "temp_min": 5.6,
          "weather": "fog",
          "wind": 6.9
         },
         {
          "date": "2014-02-21",
          "precipitation": 2.8,
          "temp_max": 6.7,
          "temp_min": 3.9,
          "weather": "fog",
          "wind": 2.9
         },
         {
          "date": "2014-02-22",
          "precipitation": 2.5,
          "temp_max": 5.6,
          "temp_min": 2.8,
          "weather": "fog",
          "wind": 3.1
         },
         {
          "date": "2014-02-23",
          "precipitation": 6.1,
          "temp_max": 7.2,
          "temp_min": 3.9,
          "weather": "fog",
          "wind": 2.6
         },
         {
          "date": "2014-02-24",
          "precipitation": 13,
          "temp_max": 6.7,
          "temp_min": 3.3,
          "weather": "fog",
          "wind": 3.2
         },
         {
          "date": "2014-02-25",
          "precipitation": 0.3,
          "temp_max": 12.2,
          "temp_min": 3.9,
          "weather": "fog",
          "wind": 4.5
         },
         {
          "date": "2014-02-26",
          "precipitation": 0,
          "temp_max": 13.9,
          "temp_min": 5.6,
          "weather": "sun",
          "wind": 2.5
         },
         {
          "date": "2014-02-27",
          "precipitation": 0,
          "temp_max": 12.8,
          "temp_min": 4.4,
          "weather": "sun",
          "wind": 2.3
         },
         {
          "date": "2014-02-28",
          "precipitation": 0,
          "temp_max": 14.4,
          "temp_min": 4.4,
          "weather": "sun",
          "wind": 5.9
         },
         {
          "date": "2014-03-01",
          "precipitation": 0.5,
          "temp_max": 7.2,
          "temp_min": 4.4,
          "weather": "sun",
          "wind": 4.7
         },
         {
          "date": "2014-03-02",
          "precipitation": 19.1,
          "temp_max": 11.1,
          "temp_min": 2.8,
          "weather": "fog",
          "wind": 5.7
         },
         {
          "date": "2014-03-03",
          "precipitation": 10.7,
          "temp_max": 14.4,
          "temp_min": 8.9,
          "weather": "fog",
          "wind": 5.1
         },
         {
          "date": "2014-03-04",
          "precipitation": 16.5,
          "temp_max": 13.9,
          "temp_min": 7.8,
          "weather": "fog",
          "wind": 3.9
         },
         {
          "date": "2014-03-05",
          "precipitation": 46.7,
          "temp_max": 15.6,
          "temp_min": 10.6,
          "weather": "fog",
          "wind": 3.9
         },
         {
          "date": "2014-03-06",
          "precipitation": 3,
          "temp_max": 13.3,
          "temp_min": 10,
          "weather": "fog",
          "wind": 6.2
         },
         {
          "date": "2014-03-07",
          "precipitation": 0,
          "temp_max": 15.6,
          "temp_min": 8.9,
          "weather": "sun",
          "wind": 4.2
         },
         {
          "date": "2014-03-08",
          "precipitation": 32.3,
          "temp_max": 12.8,
          "temp_min": 6.7,
          "weather": "fog",
          "wind": 2.7
         },
         {
          "date": "2014-03-09",
          "precipitation": 4.3,
          "temp_max": 15,
          "temp_min": 9.4,
          "weather": "fog",
          "wind": 4.3
         },
         {
          "date": "2014-03-10",
          "precipitation": 18.8,
          "temp_max": 12.2,
          "temp_min": 6.1,
          "weather": "fog",
          "wind": 2.2
         },
         {
          "date": "2014-03-11",
          "precipitation": 0,
          "temp_max": 14.4,
          "temp_min": 4.4,
          "weather": "fog",
          "wind": 2.3
         },
         {
          "date": "2014-03-12",
          "precipitation": 0,
          "temp_max": 16.1,
          "temp_min": 3.3,
          "weather": "fog",
          "wind": 1.9
         },
         {
          "date": "2014-03-13",
          "precipitation": 0.5,
          "temp_max": 13.9,
          "temp_min": 5,
          "weather": "fog",
          "wind": 2.5
         },
         {
          "date": "2014-03-14",
          "precipitation": 6.9,
          "temp_max": 14.4,
          "temp_min": 8.3,
          "weather": "fog",
          "wind": 6.1
         },
         {
          "date": "2014-03-15",
          "precipitation": 8.1,
          "temp_max": 16.7,
          "temp_min": 4.4,
          "weather": "fog",
          "wind": 3
         },
         {
          "date": "2014-03-16",
          "precipitation": 27.7,
          "temp_max": 10.6,
          "temp_min": 4.4,
          "weather": "fog",
          "wind": 3.8
         },
         {
          "date": "2014-03-17",
          "precipitation": 0.3,
          "temp_max": 10,
          "temp_min": 2.8,
          "weather": "fog",
          "wind": 3.2
         },
         {
          "date": "2014-03-18",
          "precipitation": 0,
          "temp_max": 10,
          "temp_min": 3.3,
          "weather": "sun",
          "wind": 1.6
         },
         {
          "date": "2014-03-19",
          "precipitation": 0.5,
          "temp_max": 11.1,
          "temp_min": 3.3,
          "weather": "sun",
          "wind": 5.1
         },
         {
          "date": "2014-03-20",
          "precipitation": 0,
          "temp_max": 11.1,
          "temp_min": 1.7,
          "weather": "sun",
          "wind": 3
         },
         {
          "date": "2014-03-21",
          "precipitation": 0,
          "temp_max": 10.6,
          "temp_min": 2.8,
          "weather": "sun",
          "wind": 3.8
         },
         {
          "date": "2014-03-22",
          "precipitation": 0,
          "temp_max": 11.1,
          "temp_min": 1.1,
          "weather": "sun",
          "wind": 1.8
         },
         {
          "date": "2014-03-23",
          "precipitation": 0,
          "temp_max": 12.8,
          "temp_min": 4.4,
          "weather": "sun",
          "wind": 3.3
         },
         {
          "date": "2014-03-24",
          "precipitation": 0,
          "temp_max": 18.9,
          "temp_min": 2.8,
          "weather": "sun",
          "wind": 2.2
         },
         {
          "date": "2014-03-25",
          "precipitation": 4.1,
          "temp_max": 13.9,
          "temp_min": 6.7,
          "weather": "fog",
          "wind": 4.4
         },
         {
          "date": "2014-03-26",
          "precipitation": 3.6,
          "temp_max": 11.1,
          "temp_min": 5.6,
          "weather": "fog",
          "wind": 2.4
         },
         {
          "date": "2014-03-27",
          "precipitation": 0.3,
          "temp_max": 12.2,
          "temp_min": 6.7,
          "weather": "fog",
          "wind": 2.8
         },
         {
          "date": "2014-03-28",
          "precipitation": 22.1,
          "temp_max": 11.7,
          "temp_min": 7.2,
          "weather": "fog",
          "wind": 3.9
         },
         {
          "date": "2014-03-29",
          "precipitation": 14,
          "temp_max": 11.7,
          "temp_min": 7.2,
          "weather": "fog",
          "wind": 5.1
         },
         {
          "date": "2014-03-30",
          "precipitation": 0,
          "temp_max": 11.1,
          "temp_min": 5,
          "weather": "sun",
          "wind": 5.1
         },
         {
          "date": "2014-03-31",
          "precipitation": 0,
          "temp_max": 15.6,
          "temp_min": 2.2,
          "weather": "sun",
          "wind": 3.8
         },
         {
          "date": "2014-04-01",
          "precipitation": 0,
          "temp_max": 14.4,
          "temp_min": 6.7,
          "weather": "sun",
          "wind": 2.8
         },
         {
          "date": "2014-04-02",
          "precipitation": 0,
          "temp_max": 14.4,
          "temp_min": 5.6,
          "weather": "sun",
          "wind": 4.2
         },
         {
          "date": "2014-04-03",
          "precipitation": 2.5,
          "temp_max": 13.3,
          "temp_min": 6.1,
          "weather": "sun",
          "wind": 3.9
         },
         {
          "date": "2014-04-04",
          "precipitation": 0,
          "temp_max": 12.8,
          "temp_min": 6.1,
          "weather": "sun",
          "wind": 4.7
         },
         {
          "date": "2014-04-05",
          "precipitation": 4.6,
          "temp_max": 11.7,
          "temp_min": 7.8,
          "weather": "fog",
          "wind": 4.3
         },
         {
          "date": "2014-04-06",
          "precipitation": 0,
          "temp_max": 13.9,
          "temp_min": 8.3,
          "weather": "sun",
          "wind": 2.6
         },
         {
          "date": "2014-04-07",
          "precipitation": 0,
          "temp_max": 21.1,
          "temp_min": 9.4,
          "weather": "sun",
          "wind": 2.5
         },
         {
          "date": "2014-04-08",
          "precipitation": 4.6,
          "temp_max": 15.6,
          "temp_min": 8.3,
          "weather": "fog",
          "wind": 4.2
         },
         {
          "date": "2014-04-09",
          "precipitation": 0,
          "temp_max": 14.4,
          "temp_min": 6.7,
          "weather": "sun",
          "wind": 2.9
         },
         {
          "date": "2014-04-10",
          "precipitation": 0,
          "temp_max": 15,
          "temp_min": 6.7,
          "weather": "sun",
          "wind": 3.6
         },
         {
          "date": "2014-04-11",
          "precipitation": 0,
          "temp_max": 17.2,
          "temp_min": 5,
          "weather": "sun",
          "wind": 2.8
         },
         {
          "date": "2014-04-12",
          "precipitation": 0,
          "temp_max": 16.1,
          "temp_min": 7.8,
          "weather": "sun",
          "wind": 4.4
         },
         {
          "date": "2014-04-13",
          "precipitation": 0,
          "temp_max": 20.6,
          "temp_min": 5.6,
          "weather": "sun",
          "wind": 3.1
         },
         {
          "date": "2014-04-14",
          "precipitation": 0,
          "temp_max": 20,
          "temp_min": 5.6,
          "weather": "sun",
          "wind": 2.6
         },
         {
          "date": "2014-04-15",
          "precipitation": 0.5,
          "temp_max": 14.4,
          "temp_min": 7.8,
          "weather": "sun",
          "wind": 4
         },
         {
          "date": "2014-04-16",
          "precipitation": 10.9,
          "temp_max": 11.1,
          "temp_min": 8.9,
          "weather": "fog",
          "wind": 4.6
         },
         {
          "date": "2014-04-17",
          "precipitation": 18.5,
          "temp_max": 11.7,
          "temp_min": 7.2,
          "weather": "fog",
          "wind": 4.7
         },
         {
          "date": "2014-04-18",
          "precipitation": 0,
          "temp_max": 14.4,
          "temp_min": 5.6,
          "weather": "sun",
          "wind": 3.8
         },
         {
          "date": "2014-04-19",
          "precipitation": 13.7,
          "temp_max": 11.7,
          "temp_min": 5.6,
          "weather": "fog",
          "wind": 4.7
         },
         {
          "date": "2014-04-20",
          "precipitation": 0,
          "temp_max": 15.6,
          "temp_min": 5.6,
          "weather": "sun",
          "wind": 2.7
         },
         {
          "date": "2014-04-21",
          "precipitation": 5.1,
          "temp_max": 17.2,
          "temp_min": 7.8,
          "weather": "fog",
          "wind": 2.5
         },
         {
          "date": "2014-04-22",
          "precipitation": 14.2,
          "temp_max": 12.2,
          "temp_min": 5,
          "weather": "fog",
          "wind": 4.2
         },
         {
          "date": "2014-04-23",
          "precipitation": 8.9,
          "temp_max": 11.7,
          "temp_min": 6.1,
          "weather": "fog",
          "wind": 5
         },
         {
          "date": "2014-04-24",
          "precipitation": 12.4,
          "temp_max": 13.9,
          "temp_min": 6.1,
          "weather": "fog",
          "wind": 5.3
         },
         {
          "date": "2014-04-25",
          "precipitation": 0,
          "temp_max": 14.4,
          "temp_min": 5.6,
          "weather": "sun",
          "wind": 2.3
         },
         {
          "date": "2014-04-26",
          "precipitation": 3.3,
          "temp_max": 15,
          "temp_min": 5.6,
          "weather": "sun",
          "wind": 3.9
         },
         {
          "date": "2014-04-27",
          "precipitation": 6.9,
          "temp_max": 11.1,
          "temp_min": 6.1,
          "weather": "fog",
          "wind": 5.8
         },
         {
          "date": "2014-04-28",
          "precipitation": 0,
          "temp_max": 16.1,
          "temp_min": 4.4,
          "weather": "sun",
          "wind": 2.6
         },
         {
          "date": "2014-04-29",
          "precipitation": 0,
          "temp_max": 25,
          "temp_min": 9.4,
          "weather": "sun",
          "wind": 2.3
         },
         {
          "date": "2014-04-30",
          "precipitation": 0,
          "temp_max": 27.8,
          "temp_min": 9.4,
          "weather": "sun",
          "wind": 3.9
         },
         {
          "date": "2014-05-01",
          "precipitation": 0,
          "temp_max": 29.4,
          "temp_min": 11.1,
          "weather": "sun",
          "wind": 3
         },
         {
          "date": "2014-05-02",
          "precipitation": 0,
          "temp_max": 18.3,
          "temp_min": 10.6,
          "weather": "sun",
          "wind": 4.7
         },
         {
          "date": "2014-05-03",
          "precipitation": 33.3,
          "temp_max": 15,
          "temp_min": 8.9,
          "weather": "fog",
          "wind": 3.4
         },
         {
          "date": "2014-05-04",
          "precipitation": 16,
          "temp_max": 14.4,
          "temp_min": 8.9,
          "weather": "fog",
          "wind": 4.2
         },
         {
          "date": "2014-05-05",
          "precipitation": 5.1,
          "temp_max": 15.6,
          "temp_min": 9.4,
          "weather": "fog",
          "wind": 3.8
         },
         {
          "date": "2014-05-06",
          "precipitation": 0,
          "temp_max": 16.7,
          "temp_min": 8.3,
          "weather": "sun",
          "wind": 2.6
         },
         {
          "date": "2014-05-07",
          "precipitation": 0,
          "temp_max": 18.3,
          "temp_min": 7.2,
          "weather": "sun",
          "wind": 1.7
         },
         {
          "date": "2014-05-08",
          "precipitation": 13.7,
          "temp_max": 13.9,
          "temp_min": 9.4,
          "weather": "fog",
          "wind": 3.4
         },
         {
          "date": "2014-05-09",
          "precipitation": 2,
          "temp_max": 13.3,
          "temp_min": 7.2,
          "weather": "sun",
          "wind": 5.6
         },
         {
          "date": "2014-05-10",
          "precipitation": 0.5,
          "temp_max": 15.6,
          "temp_min": 7.2,
          "weather": "fog",
          "wind": 2.1
         },
         {
          "date": "2014-05-11",
          "precipitation": 0,
          "temp_max": 18.9,
          "temp_min": 8.3,
          "weather": "sun",
          "wind": 1.7
         },
         {
          "date": "2014-05-12",
          "precipitation": 0,
          "temp_max": 24.4,
          "temp_min": 9.4,
          "weather": "sun",
          "wind": 2.7
         },
         {
          "date": "2014-05-13",
          "precipitation": 0,
          "temp_max": 26.7,
          "temp_min": 12.8,
          "weather": "sun",
          "wind": 3.8
         },
         {
          "date": "2014-05-14",
          "precipitation": 0,
          "temp_max": 27.8,
          "temp_min": 13.3,
          "weather": "sun",
          "wind": 3.3
         },
         {
          "date": "2014-05-15",
          "precipitation": 0,
          "temp_max": 26.7,
          "temp_min": 12.8,
          "weather": "sun",
          "wind": 3
         },
         {
          "date": "2014-05-16",
          "precipitation": 0,
          "temp_max": 20,
          "temp_min": 11.7,
          "weather": "sun",
          "wind": 4.1
         },
         {
          "date": "2014-05-17",
          "precipitation": 0,
          "temp_max": 20,
          "temp_min": 11.7,
          "weather": "sun",
          "wind": 3.2
         },
         {
          "date": "2014-05-18",
          "precipitation": 0,
          "temp_max": 20,
          "temp_min": 10.6,
          "weather": "sun",
          "wind": 3.2
         },
         {
          "date": "2014-05-19",
          "precipitation": 0,
          "temp_max": 21.1,
          "temp_min": 10,
          "weather": "sun",
          "wind": 2.2
         },
         {
          "date": "2014-05-20",
          "precipitation": 0,
          "temp_max": 22.2,
          "temp_min": 10,
          "weather": "sun",
          "wind": 2.7
         },
         {
          "date": "2014-05-21",
          "precipitation": 0,
          "temp_max": 20,
          "temp_min": 10.6,
          "weather": "sun",
          "wind": 1.7
         },
         {
          "date": "2014-05-22",
          "precipitation": 0,
          "temp_max": 24.4,
          "temp_min": 11.7,
          "weather": "sun",
          "wind": 2.5
         },
         {
          "date": "2014-05-23",
          "precipitation": 3.8,
          "temp_max": 20,
          "temp_min": 12.8,
          "weather": "fog",
          "wind": 4
         },
         {
          "date": "2014-05-24",
          "precipitation": 0,
          "temp_max": 18.3,
          "temp_min": 11.1,
          "weather": "sun",
          "wind": 2.4
         },
         {
          "date": "2014-05-25",
          "precipitation": 5.6,
          "temp_max": 15,
          "temp_min": 10.6,
          "weather": "fog",
          "wind": 1.4
         },
         {
          "date": "2014-05-26",
          "precipitation": 0,
          "temp_max": 18.3,
          "temp_min": 11.1,
          "weather": "sun",
          "wind": 4.5
         },
         {
          "date": "2014-05-27",
          "precipitation": 0,
          "temp_max": 20,
          "temp_min": 10,
          "weather": "sun",
          "wind": 2.5
         },
         {
          "date": "2014-05-28",
          "precipitation": 0,
          "temp_max": 18.9,
          "temp_min": 10,
          "weather": "sun",
          "wind": 3.4
         },
         {
          "date": "2014-05-29",
          "precipitation": 0,
          "temp_max": 18.9,
          "temp_min": 11.1,
          "weather": "sun",
          "wind": 4.3
         },
         {
          "date": "2014-05-30",
          "precipitation": 0,
          "temp_max": 20.6,
          "temp_min": 8.9,
          "weather": "sun",
          "wind": 4.5
         },
         {
          "date": "2014-05-31",
          "precipitation": 0,
          "temp_max": 23.3,
          "temp_min": 10,
          "weather": "sun",
          "wind": 2.2
         },
         {
          "date": "2014-06-01",
          "precipitation": 0,
          "temp_max": 22.2,
          "temp_min": 10.6,
          "weather": "sun",
          "wind": 2.3
         },
         {
          "date": "2014-06-02",
          "precipitation": 0,
          "temp_max": 23.3,
          "temp_min": 11.1,
          "weather": "sun",
          "wind": 2.4
         },
         {
          "date": "2014-06-03",
          "precipitation": 0,
          "temp_max": 18.3,
          "temp_min": 11.1,
          "weather": "sun",
          "wind": 3.2
         },
         {
          "date": "2014-06-04",
          "precipitation": 0,
          "temp_max": 19.4,
          "temp_min": 10,
          "weather": "sun",
          "wind": 2.6
         },
         {
          "date": "2014-06-05",
          "precipitation": 0,
          "temp_max": 22.2,
          "temp_min": 10,
          "weather": "sun",
          "wind": 2.4
         },
         {
          "date": "2014-06-06",
          "precipitation": 0,
          "temp_max": 25,
          "temp_min": 10.6,
          "weather": "sun",
          "wind": 3.2
         },
         {
          "date": "2014-06-07",
          "precipitation": 0,
          "temp_max": 24.4,
          "temp_min": 13.3,
          "weather": "sun",
          "wind": 3.1
         },
         {
          "date": "2014-06-08",
          "precipitation": 0,
          "temp_max": 23.3,
          "temp_min": 12.2,
          "weather": "sun",
          "wind": 2.1
         },
         {
          "date": "2014-06-09",
          "precipitation": 0,
          "temp_max": 21.1,
          "temp_min": 13.3,
          "weather": "sun",
          "wind": 3.6
         },
         {
          "date": "2014-06-10",
          "precipitation": 0,
          "temp_max": 20,
          "temp_min": 12.2,
          "weather": "sun",
          "wind": 2.9
         },
         {
          "date": "2014-06-11",
          "precipitation": 0,
          "temp_max": 23.9,
          "temp_min": 11.1,
          "weather": "sun",
          "wind": 2.7
         },
         {
          "date": "2014-06-12",
          "precipitation": 1.8,
          "temp_max": 21.7,
          "temp_min": 12.2,
          "weather": "sun",
          "wind": 4
         },
         {
          "date": "2014-06-13",
          "precipitation": 6.4,
          "temp_max": 15.6,
          "temp_min": 11.1,
          "weather": "fog",
          "wind": 5
         },
         {
          "date": "2014-06-14",
          "precipitation": 0,
          "temp_max": 17.8,
          "temp_min": 11.7,
          "weather": "sun",
          "wind": 3.2
         },
         {
          "date": "2014-06-15",
          "precipitation": 0.5,
          "temp_max": 18.3,
          "temp_min": 10,
          "weather": "fog",
          "wind": 3.6
         },
         {
          "date": "2014-06-16",
          "precipitation": 3.6,
          "temp_max": 17.8,
          "temp_min": 8.9,
          "weather": "fog",
          "wind": 2.4
         },
         {
          "date": "2014-06-17",
          "precipitation": 1.3,
          "temp_max": 17.8,
          "temp_min": 10,
          "weather": "fog",
          "wind": 3
         },
         {
          "date": "2014-06-18",
          "precipitation": 0,
          "temp_max": 18.9,
          "temp_min": 11.1,
          "weather": "sun",
          "wind": 2.7
         },
         {
          "date": "2014-06-19",
          "precipitation": 0.8,
          "temp_max": 25.6,
          "temp_min": 11.7,
          "weather": "sun",
          "wind": 3.7
         },
         {
          "date": "2014-06-20",
          "precipitation": 0.3,
          "temp_max": 20,
          "temp_min": 10,
          "weather": "sun",
          "wind": 3.4
         },
         {
          "date": "2014-06-21",
          "precipitation": 0,
          "temp_max": 22.2,
          "temp_min": 10.6,
          "weather": "sun",
          "wind": 3.6
         },
         {
          "date": "2014-06-22",
          "precipitation": 0,
          "temp_max": 25,
          "temp_min": 11.1,
          "weather": "sun",
          "wind": 2.7
         },
         {
          "date": "2014-06-23",
          "precipitation": 0,
          "temp_max": 25,
          "temp_min": 13.3,
          "weather": "sun",
          "wind": 2.5
         },
         {
          "date": "2014-06-24",
          "precipitation": 0,
          "temp_max": 24.4,
          "temp_min": 14.4,
          "weather": "sun",
          "wind": 2.5
         },
         {
          "date": "2014-06-25",
          "precipitation": 0,
          "temp_max": 26.1,
          "temp_min": 13.9,
          "weather": "sun",
          "wind": 2.4
         },
         {
          "date": "2014-06-26",
          "precipitation": 0,
          "temp_max": 21.1,
          "temp_min": 14.4,
          "weather": "sun",
          "wind": 4.1
         },
         {
          "date": "2014-06-27",
          "precipitation": 1.8,
          "temp_max": 21.1,
          "temp_min": 13.9,
          "weather": "fog",
          "wind": 4.5
         },
         {
          "date": "2014-06-28",
          "precipitation": 2.3,
          "temp_max": 20,
          "temp_min": 13.3,
          "weather": "fog",
          "wind": 4.3
         },
         {
          "date": "2014-06-29",
          "precipitation": 0,
          "temp_max": 20.6,
          "temp_min": 12.8,
          "weather": "sun",
          "wind": 3.2
         },
         {
          "date": "2014-06-30",
          "precipitation": 0,
          "temp_max": 25.6,
          "temp_min": 12.8,
          "weather": "sun",
          "wind": 4.4
         },
         {
          "date": "2014-07-01",
          "precipitation": 0,
          "temp_max": 34.4,
          "temp_min": 15.6,
          "weather": "sun",
          "wind": 3.5
         },
         {
          "date": "2014-07-02",
          "precipitation": 0,
          "temp_max": 27.2,
          "temp_min": 14.4,
          "weather": "sun",
          "wind": 3.6
         },
         {
          "date": "2014-07-03",
          "precipitation": 0,
          "temp_max": 21.7,
          "temp_min": 13.9,
          "weather": "sun",
          "wind": 3.1
         },
         {
          "date": "2014-07-04",
          "precipitation": 0,
          "temp_max": 23.9,
          "temp_min": 13.9,
          "weather": "sun",
          "wind": 3.6
         },
         {
          "date": "2014-07-05",
          "precipitation": 0,
          "temp_max": 24.4,
          "temp_min": 13.3,
          "weather": "fog",
          "wind": 2.2
         },
         {
          "date": "2014-07-06",
          "precipitation": 0,
          "temp_max": 28.9,
          "temp_min": 15,
          "weather": "sun",
          "wind": 3
         },
         {
          "date": "2014-07-07",
          "precipitation": 0,
          "temp_max": 27.2,
          "temp_min": 17.8,
          "weather": "fog",
          "wind": 4.1
         },
         {
          "date": "2014-07-08",
          "precipitation": 0,
          "temp_max": 30,
          "temp_min": 15.6,
          "weather": "sun",
          "wind": 3.5
         },
         {
          "date": "2014-07-09",
          "precipitation": 0,
          "temp_max": 26.7,
          "temp_min": 13.9,
          "weather": "sun",
          "wind": 2.3
         },
         {
          "date": "2014-07-10",
          "precipitation": 0,
          "temp_max": 28.9,
          "temp_min": 12.8,
          "weather": "fog",
          "wind": 2.2
         },
         {
          "date": "2014-07-11",
          "precipitation": 0,
          "temp_max": 31.1,
          "temp_min": 15,
          "weather": "sun",
          "wind": 2.2
         },
         {
          "date": "2014-07-12",
          "precipitation": 0,
          "temp_max": 32.2,
          "temp_min": 16.7,
          "weather": "sun",
          "wind": 2.2
         },
         {
          "date": "2014-07-13",
          "precipitation": 0,
          "temp_max": 29.4,
          "temp_min": 15,
          "weather": "rain",
          "wind": 2.6
         },
         {
          "date": "2014-07-14",
          "precipitation": 0,
          "temp_max": 27.8,
          "temp_min": 15,
          "weather": "sun",
          "wind": 2.8
         },
         {
          "date": "2014-07-15",
          "precipitation": 0,
          "temp_max": 31.1,
          "temp_min": 13.9,
          "weather": "sun",
          "wind": 2.3
         },
         {
          "date": "2014-07-16",
          "precipitation": 0,
          "temp_max": 31.1,
          "temp_min": 14.4,
          "weather": "sun",
          "wind": 2.4
         },
         {
          "date": "2014-07-17",
          "precipitation": 0,
          "temp_max": 26.7,
          "temp_min": 13.9,
          "weather": "sun",
          "wind": 3.7
         },
         {
          "date": "2014-07-18",
          "precipitation": 0,
          "temp_max": 23.9,
          "temp_min": 11.7,
          "weather": "sun",
          "wind": 2.8
         },
         {
          "date": "2014-07-19",
          "precipitation": 0,
          "temp_max": 25.6,
          "temp_min": 15,
          "weather": "fog",
          "wind": 5.4
         },
         {
          "date": "2014-07-20",
          "precipitation": 0,
          "temp_max": 19.4,
          "temp_min": 14.4,
          "weather": "sun",
          "wind": 2.8
         },
         {
          "date": "2014-07-21",
          "precipitation": 0,
          "temp_max": 23.9,
          "temp_min": 13.3,
          "weather": "sun",
          "wind": 2.2
         },
         {
          "date": "2014-07-22",
          "precipitation": 0.3,
          "temp_max": 21.1,
          "temp_min": 13.3,
          "weather": "fog",
          "wind": 1.1
         },
         {
          "date": "2014-07-23",
          "precipitation": 19.3,
          "temp_max": 18.9,
          "temp_min": 13.3,
          "weather": "sun",
          "wind": 3.3
         },
         {
          "date": "2014-07-24",
          "precipitation": 0,
          "temp_max": 20.6,
          "temp_min": 12.8,
          "weather": "sun",
          "wind": 4.7
         },
         {
          "date": "2014-07-25",
          "precipitation": 0,
          "temp_max": 22.8,
          "temp_min": 12.2,
          "weather": "sun",
          "wind": 2.7
         },
         {
          "date": "2014-07-26",
          "precipitation": 0,
          "temp_max": 26.1,
          "temp_min": 13.3,
          "weather": "sun",
          "wind": 3.6
         },
         {
          "date": "2014-07-27",
          "precipitation": 0,
          "temp_max": 28.3,
          "temp_min": 15,
          "weather": "sun",
          "wind": 4.1
         },
         {
          "date": "2014-07-28",
          "precipitation": 0,
          "temp_max": 30.6,
          "temp_min": 15,
          "weather": "sun",
          "wind": 3.7
         },
         {
          "date": "2014-07-29",
          "precipitation": 0,
          "temp_max": 30,
          "temp_min": 15.6,
          "weather": "sun",
          "wind": 2.8
         },
         {
          "date": "2014-07-30",
          "precipitation": 0,
          "temp_max": 29.4,
          "temp_min": 14.4,
          "weather": "sun",
          "wind": 3.4
         },
         {
          "date": "2014-07-31",
          "precipitation": 0,
          "temp_max": 30.6,
          "temp_min": 17.8,
          "weather": "sun",
          "wind": 4.1
         },
         {
          "date": "2014-08-01",
          "precipitation": 0,
          "temp_max": 28.9,
          "temp_min": 15,
          "weather": "sun",
          "wind": 3.3
         },
         {
          "date": "2014-08-02",
          "precipitation": 0.5,
          "temp_max": 29.4,
          "temp_min": 15.6,
          "weather": "sun",
          "wind": 1.7
         },
         {
          "date": "2014-08-03",
          "precipitation": 0,
          "temp_max": 31.7,
          "temp_min": 14.4,
          "weather": "sun",
          "wind": 2.6
         },
         {
          "date": "2014-08-04",
          "precipitation": 0,
          "temp_max": 32.8,
          "temp_min": 16.1,
          "weather": "sun",
          "wind": 2.6
         },
         {
          "date": "2014-08-05",
          "precipitation": 0,
          "temp_max": 25,
          "temp_min": 13.9,
          "weather": "sun",
          "wind": 2.7
         },
         {
          "date": "2014-08-06",
          "precipitation": 0,
          "temp_max": 26.1,
          "temp_min": 15,
          "weather": "fog",
          "wind": 2.2
         },
         {
          "date": "2014-08-07",
          "precipitation": 0,
          "temp_max": 25.6,
          "temp_min": 13.3,
          "weather": "fog",
          "wind": 2.4
         },
         {
          "date": "2014-08-08",
          "precipitation": 0,
          "temp_max": 25.6,
          "temp_min": 13.3,
          "weather": "sun",
          "wind": 2.9
         },
         {
          "date": "2014-08-09",
          "precipitation": 0,
          "temp_max": 27.2,
          "temp_min": 15.6,
          "weather": "sun",
          "wind": 4.1
         },
         {
          "date": "2014-08-10",
          "precipitation": 0,
          "temp_max": 30.6,
          "temp_min": 13.9,
          "weather": "sun",
          "wind": 3.4
         },
         {
          "date": "2014-08-11",
          "precipitation": 0.5,
          "temp_max": 35.6,
          "temp_min": 17.8,
          "weather": "rain",
          "wind": 2.6
         },
         {
          "date": "2014-08-12",
          "precipitation": 12.7,
          "temp_max": 27.2,
          "temp_min": 17.2,
          "weather": "fog",
          "wind": 3.1
         },
         {
          "date": "2014-08-13",
          "precipitation": 21.6,
          "temp_max": 23.3,
          "temp_min": 15,
          "weather": "fog",
          "wind": 2.7
         },
         {
          "date": "2014-08-14",
          "precipitation": 0,
          "temp_max": 21.1,
          "temp_min": 17.2,
          "weather": "sun",
          "wind": 0.6
         },
         {
          "date": "2014-08-15",
          "precipitation": 1,
          "temp_max": 24.4,
          "temp_min": 16.7,
          "weather": "fog",
          "wind": 1.5
         },
         {
          "date": "2014-08-16",
          "precipitation": 0,
          "temp_max": 25.6,
          "temp_min": 15.6,
          "weather": "sun",
          "wind": 2.2
         },
         {
          "date": "2014-08-17",
          "precipitation": 0,
          "temp_max": 27.8,
          "temp_min": 15,
          "weather": "sun",
          "wind": 2.8
         },
         {
          "date": "2014-08-18",
          "precipitation": 0,
          "temp_max": 29.4,
          "temp_min": 15.6,
          "weather": "sun",
          "wind": 3.3
         },
         {
          "date": "2014-08-19",
          "precipitation": 0,
          "temp_max": 27.2,
          "temp_min": 15.6,
          "weather": "sun",
          "wind": 2.4
         },
         {
          "date": "2014-08-20",
          "precipitation": 0,
          "temp_max": 21.7,
          "temp_min": 13.9,
          "weather": "sun",
          "wind": 3.6
         },
         {
          "date": "2014-08-21",
          "precipitation": 0,
          "temp_max": 21.1,
          "temp_min": 11.1,
          "weather": "sun",
          "wind": 1.7
         },
         {
          "date": "2014-08-22",
          "precipitation": 0,
          "temp_max": 23.9,
          "temp_min": 13.3,
          "weather": "sun",
          "wind": 2.9
         },
         {
          "date": "2014-08-23",
          "precipitation": 0,
          "temp_max": 27.8,
          "temp_min": 13.9,
          "weather": "sun",
          "wind": 2
         },
         {
          "date": "2014-08-24",
          "precipitation": 0,
          "temp_max": 25,
          "temp_min": 13.3,
          "weather": "sun",
          "wind": 2.3
         },
         {
          "date": "2014-08-25",
          "precipitation": 0,
          "temp_max": 28.9,
          "temp_min": 14.4,
          "weather": "sun",
          "wind": 2
         },
         {
          "date": "2014-08-26",
          "precipitation": 0,
          "temp_max": 31.1,
          "temp_min": 15.6,
          "weather": "sun",
          "wind": 1.8
         },
         {
          "date": "2014-08-27",
          "precipitation": 0,
          "temp_max": 28.9,
          "temp_min": 16.1,
          "weather": "sun",
          "wind": 1.6
         },
         {
          "date": "2014-08-28",
          "precipitation": 0,
          "temp_max": 23.3,
          "temp_min": 14.4,
          "weather": "sun",
          "wind": 2.3
         },
         {
          "date": "2014-08-29",
          "precipitation": 0,
          "temp_max": 22.8,
          "temp_min": 15,
          "weather": "sun",
          "wind": 3.4
         },
         {
          "date": "2014-08-30",
          "precipitation": 8.4,
          "temp_max": 17.8,
          "temp_min": 15,
          "weather": "fog",
          "wind": 2.2
         },
         {
          "date": "2014-08-31",
          "precipitation": 1.3,
          "temp_max": 21.1,
          "temp_min": 13.9,
          "weather": "fog",
          "wind": 1.9
         },
         {
          "date": "2014-09-01",
          "precipitation": 0,
          "temp_max": 23.3,
          "temp_min": 12.8,
          "weather": "sun",
          "wind": 2.5
         },
         {
          "date": "2014-09-02",
          "precipitation": 3,
          "temp_max": 20,
          "temp_min": 13.9,
          "weather": "fog",
          "wind": 4.3
         },
         {
          "date": "2014-09-03",
          "precipitation": 0,
          "temp_max": 20.6,
          "temp_min": 12.8,
          "weather": "sun",
          "wind": 2.7
         },
         {
          "date": "2014-09-04",
          "precipitation": 0,
          "temp_max": 23.9,
          "temp_min": 11.1,
          "weather": "fog",
          "wind": 3.1
         },
         {
          "date": "2014-09-05",
          "precipitation": 0,
          "temp_max": 27.8,
          "temp_min": 13.9,
          "weather": "fog",
          "wind": 6.5
         },
         {
          "date": "2014-09-06",
          "precipitation": 0,
          "temp_max": 32.2,
          "temp_min": 15,
          "weather": "sun",
          "wind": 2.9
         },
         {
          "date": "2014-09-07",
          "precipitation": 0,
          "temp_max": 28.3,
          "temp_min": 13.3,
          "weather": "sun",
          "wind": 2.1
         },
         {
          "date": "2014-09-08",
          "precipitation": 0,
          "temp_max": 21.1,
          "temp_min": 13.3,
          "weather": "sun",
          "wind": 2.8
         },
         {
          "date": "2014-09-09",
          "precipitation": 0,
          "temp_max": 21.7,
          "temp_min": 13.3,
          "weather": "sun",
          "wind": 2.3
         },
         {
          "date": "2014-09-10",
          "precipitation": 0,
          "temp_max": 22.2,
          "temp_min": 12.2,
          "weather": "sun",
          "wind": 3.9
         },
         {
          "date": "2014-09-11",
          "precipitation": 0,
          "temp_max": 24.4,
          "temp_min": 12.8,
          "weather": "sun",
          "wind": 5.3
         },
         {
          "date": "2014-09-12",
          "precipitation": 0,
          "temp_max": 24.4,
          "temp_min": 12.8,
          "weather": "sun",
          "wind": 5.9
         },
         {
          "date": "2014-09-13",
          "precipitation": 0,
          "temp_max": 28.3,
          "temp_min": 10,
          "weather": "sun",
          "wind": 4.2
         },
         {
          "date": "2014-09-14",
          "precipitation": 0,
          "temp_max": 30,
          "temp_min": 11.7,
          "weather": "sun",
          "wind": 1.8
         },
         {
          "date": "2014-09-15",
          "precipitation": 0,
          "temp_max": 30.6,
          "temp_min": 12.2,
          "weather": "sun",
          "wind": 1.2
         },
         {
          "date": "2014-09-16",
          "precipitation": 0,
          "temp_max": 22.2,
          "temp_min": 13.9,
          "weather": "sun",
          "wind": 2.8
         },
         {
          "date": "2014-09-17",
          "precipitation": 0.5,
          "temp_max": 22.8,
          "temp_min": 14.4,
          "weather": "sun",
          "wind": 2.3
         },
         {
          "date": "2014-09-18",
          "precipitation": 0.3,
          "temp_max": 19.4,
          "temp_min": 15,
          "weather": "fog",
          "wind": 3.1
         },
         {
          "date": "2014-09-19",
          "precipitation": 0,
          "temp_max": 23.9,
          "temp_min": 16.1,
          "weather": "sun",
          "wind": 2.8
         },
         {
          "date": "2014-09-20",
          "precipitation": 0,
          "temp_max": 24.4,
          "temp_min": 14.4,
          "weather": "fog",
          "wind": 4.4
         },
         {
          "date": "2014-09-21",
          "precipitation": 0,
          "temp_max": 26.1,
          "temp_min": 12.8,
          "weather": "sun",
          "wind": 3
         },
         {
          "date": "2014-09-22",
          "precipitation": 0.3,
          "temp_max": 22.2,
          "temp_min": 15,
          "weather": "fog",
          "wind": 2.1
         },
         {
          "date": "2014-09-23",
          "precipitation": 18.3,
          "temp_max": 18.9,
          "temp_min": 14.4,
          "weather": "fog",
          "wind": 2.5
         },
         {
          "date": "2014-09-24",
          "precipitation": 20.3,
          "temp_max": 18.9,
          "temp_min": 14.4,
          "weather": "fog",
          "wind": 2.7
         },
         {
          "date": "2014-09-25",
          "precipitation": 4.3,
          "temp_max": 21.7,
          "temp_min": 14.4,
          "weather": "fog",
          "wind": 2.5
         },
         {
          "date": "2014-09-26",
          "precipitation": 8.9,
          "temp_max": 20,
          "temp_min": 13.9,
          "weather": "fog",
          "wind": 3.3
         },
         {
          "date": "2014-09-27",
          "precipitation": 0,
          "temp_max": 20.6,
          "temp_min": 11.7,
          "weather": "fog",
          "wind": 3.2
         },
         {
          "date": "2014-09-28",
          "precipitation": 0,
          "temp_max": 18.9,
          "temp_min": 12.2,
          "weather": "fog",
          "wind": 2
         },
         {
          "date": "2014-09-29",
          "precipitation": 0.8,
          "temp_max": 16.7,
          "temp_min": 11.1,
          "weather": "fog",
          "wind": 3.5
         },
         {
          "date": "2014-09-30",
          "precipitation": 0,
          "temp_max": 19.4,
          "temp_min": 12.2,
          "weather": "sun",
          "wind": 2.6
         },
         {
          "date": "2014-10-01",
          "precipitation": 0,
          "temp_max": 18.3,
          "temp_min": 11.1,
          "weather": "sun",
          "wind": 2.1
         },
         {
          "date": "2014-10-02",
          "precipitation": 0,
          "temp_max": 19.4,
          "temp_min": 10,
          "weather": "sun",
          "wind": 2
         },
         {
          "date": "2014-10-03",
          "precipitation": 0,
          "temp_max": 22.2,
          "temp_min": 8.9,
          "weather": "sun",
          "wind": 1
         },
         {
          "date": "2014-10-04",
          "precipitation": 0,
          "temp_max": 21.7,
          "temp_min": 12.2,
          "weather": "sun",
          "wind": 1.2
         },
         {
          "date": "2014-10-05",
          "precipitation": 0,
          "temp_max": 23.9,
          "temp_min": 11.7,
          "weather": "fog",
          "wind": 1.4
         },
         {
          "date": "2014-10-06",
          "precipitation": 0,
          "temp_max": 25.6,
          "temp_min": 13.3,
          "weather": "fog",
          "wind": 2.5
         },
         {
          "date": "2014-10-07",
          "precipitation": 0,
          "temp_max": 18.9,
          "temp_min": 13.9,
          "weather": "fog",
          "wind": 1
         },
         {
          "date": "2014-10-08",
          "precipitation": 0,
          "temp_max": 20.6,
          "temp_min": 12.8,
          "weather": "fog",
          "wind": 1.8
         },
         {
          "date": "2014-10-09",
          "precipitation": 0,
          "temp_max": 17.2,
          "temp_min": 11.1,
          "weather": "fog",
          "wind": 1
         },
         {
          "date": "2014-10-10",
          "precipitation": 0.3,
          "temp_max": 18.3,
          "temp_min": 10,
          "weather": "fog",
          "wind": 3.8
         },
         {
          "date": "2014-10-11",
          "precipitation": 7.4,
          "temp_max": 18.3,
          "temp_min": 11.7,
          "weather": "rain",
          "wind": 3.5
         },
         {
          "date": "2014-10-12",
          "precipitation": 0,
          "temp_max": 17.8,
          "temp_min": 11.7,
          "weather": "sun",
          "wind": 2.1
         },
         {
          "date": "2014-10-13",
          "precipitation": 7.6,
          "temp_max": 21.1,
          "temp_min": 10,
          "weather": "fog",
          "wind": 3.1
         },
         {
          "date": "2014-10-14",
          "precipitation": 7.1,
          "temp_max": 16.7,
          "temp_min": 11.7,
          "weather": "fog",
          "wind": 2.2
         },
         {
          "date": "2014-10-15",
          "precipitation": 8.6,
          "temp_max": 16.1,
          "temp_min": 11.7,
          "weather": "fog",
          "wind": 4.7
         },
         {
          "date": "2014-10-16",
          "precipitation": 0,
          "temp_max": 20.6,
          "temp_min": 11.1,
          "weather": "sun",
          "wind": 3.3
         },
         {
          "date": "2014-10-17",
          "precipitation": 3.3,
          "temp_max": 16.7,
          "temp_min": 11.7,
          "weather": "fog",
          "wind": 3
         },
         {
          "date": "2014-10-18",
          "precipitation": 15,
          "temp_max": 19.4,
          "temp_min": 13.9,
          "weather": "fog",
          "wind": 1.9
         },
         {
          "date": "2014-10-19",
          "precipitation": 0,
          "temp_max": 22.2,
          "temp_min": 12.8,
          "weather": "sun",
          "wind": 3.2
         },
         {
          "date": "2014-10-20",
          "precipitation": 11.7,
          "temp_max": 16.1,
          "temp_min": 12.2,
          "weather": "fog",
          "wind": 3.1
         },
         {
          "date": "2014-10-21",
          "precipitation": 1,
          "temp_max": 16.1,
          "temp_min": 11.7,
          "weather": "sun",
          "wind": 4.7
         },
         {
          "date": "2014-10-22",
          "precipitation": 32,
          "temp_max": 15.6,
          "temp_min": 11.7,
          "weather": "fog",
          "wind": 5
         },
         {
          "date": "2014-10-23",
          "precipitation": 9.4,
          "temp_max": 14.4,
          "temp_min": 8.3,
          "weather": "sun",
          "wind": 4.6
         },
         {
          "date": "2014-10-24",
          "precipitation": 4.1,
          "temp_max": 14.4,
          "temp_min": 8.9,
          "weather": "sun",
          "wind": 3.2
         },
         {
          "date": "2014-10-25",
          "precipitation": 6.1,
          "temp_max": 16.7,
          "temp_min": 8.3,
          "weather": "fog",
          "wind": 5.4
         },
         {
          "date": "2014-10-26",
          "precipitation": 1.5,
          "temp_max": 12.8,
          "temp_min": 7.8,
          "weather": "fog",
          "wind": 5
         },
         {
          "date": "2014-10-27",
          "precipitation": 0.8,
          "temp_max": 15.6,
          "temp_min": 6.7,
          "weather": "sun",
          "wind": 2.4
         },
         {
          "date": "2014-10-28",
          "precipitation": 12.7,
          "temp_max": 15,
          "temp_min": 9.4,
          "weather": "fog",
          "wind": 3.9
         },
         {
          "date": "2014-10-29",
          "precipitation": 0.5,
          "temp_max": 16.7,
          "temp_min": 11.7,
          "weather": "fog",
          "wind": 3.1
         },
         {
          "date": "2014-10-30",
          "precipitation": 25.4,
          "temp_max": 15.6,
          "temp_min": 11.1,
          "weather": "fog",
          "wind": 3.2
         },
         {
          "date": "2014-10-31",
          "precipitation": 17,
          "temp_max": 12.8,
          "temp_min": 8.3,
          "weather": "fog",
          "wind": 2
         },
         {
          "date": "2014-11-01",
          "precipitation": 0,
          "temp_max": 11.1,
          "temp_min": 7.2,
          "weather": "fog",
          "wind": 1.2
         },
         {
          "date": "2014-11-02",
          "precipitation": 1.8,
          "temp_max": 13.3,
          "temp_min": 7.2,
          "weather": "fog",
          "wind": 2.9
         },
         {
          "date": "2014-11-03",
          "precipitation": 10.9,
          "temp_max": 13.9,
          "temp_min": 11.1,
          "weather": "fog",
          "wind": 4.8
         },
         {
          "date": "2014-11-04",
          "precipitation": 4.1,
          "temp_max": 14.4,
          "temp_min": 10.6,
          "weather": "fog",
          "wind": 3.3
         },
         {
          "date": "2014-11-05",
          "precipitation": 4.8,
          "temp_max": 15,
          "temp_min": 10.6,
          "weather": "fog",
          "wind": 2.1
         },
         {
          "date": "2014-11-06",
          "precipitation": 4.1,
          "temp_max": 16.7,
          "temp_min": 10.6,
          "weather": "fog",
          "wind": 6.7
         },
         {
          "date": "2014-11-07",
          "precipitation": 0,
          "temp_max": 14.4,
          "temp_min": 7.2,
          "weather": "sun",
          "wind": 2.3
         },
         {
          "date": "2014-11-08",
          "precipitation": 0,
          "temp_max": 12.8,
          "temp_min": 3.9,
          "weather": "fog",
          "wind": 0.8
         },
         {
          "date": "2014-11-09",
          "precipitation": 5.1,
          "temp_max": 13.3,
          "temp_min": 7.8,
          "weather": "fog",
          "wind": 3
         },
         {
          "date": "2014-11-10",
          "precipitation": 0,
          "temp_max": 11.1,
          "temp_min": 5.6,
          "weather": "sun",
          "wind": 3.9
         },
         {
          "date": "2014-11-11",
          "precipitation": 0,
          "temp_max": 7.8,
          "temp_min": 1.1,
          "weather": "sun",
          "wind": 7.7
         },
         {
          "date": "2014-11-12",
          "precipitation": 0,
          "temp_max": 6.7,
          "temp_min": 0,
          "weather": "sun",
          "wind": 7.6
         },
         {
          "date": "2014-11-13",
          "precipitation": 0,
          "temp_max": 7.2,
          "temp_min": 0.6,
          "weather": "sun",
          "wind": 4.7
         },
         {
          "date": "2014-11-14",
          "precipitation": 0,
          "temp_max": 7.2,
          "temp_min": -2.1,
          "weather": "sun",
          "wind": 4.5
         },
         {
          "date": "2014-11-15",
          "precipitation": 0,
          "temp_max": 8.3,
          "temp_min": -1.6,
          "weather": "sun",
          "wind": 4.2
         },
         {
          "date": "2014-11-16",
          "precipitation": 0,
          "temp_max": 9.4,
          "temp_min": -2.1,
          "weather": "sun",
          "wind": 4.2
         },
         {
          "date": "2014-11-17",
          "precipitation": 0,
          "temp_max": 10.6,
          "temp_min": -2.1,
          "weather": "sun",
          "wind": 1.9
         },
         {
          "date": "2014-11-18",
          "precipitation": 0,
          "temp_max": 7.2,
          "temp_min": -0.5,
          "weather": "sun",
          "wind": 0.9
         },
         {
          "date": "2014-11-19",
          "precipitation": 0,
          "temp_max": 11.1,
          "temp_min": 2.2,
          "weather": "sun",
          "wind": 1.9
         },
         {
          "date": "2014-11-20",
          "precipitation": 3.6,
          "temp_max": 11.1,
          "temp_min": 5.6,
          "weather": "fog",
          "wind": 2.1
         },
         {
          "date": "2014-11-21",
          "precipitation": 15.2,
          "temp_max": 11.1,
          "temp_min": 8.3,
          "weather": "fog",
          "wind": 4.7
         },
         {
          "date": "2014-11-22",
          "precipitation": 0.5,
          "temp_max": 9.4,
          "temp_min": 6.7,
          "weather": "sun",
          "wind": 4.7
         },
         {
          "date": "2014-11-23",
          "precipitation": 11.9,
          "temp_max": 12.8,
          "temp_min": 5.6,
          "weather": "fog",
          "wind": 5.1
         },
         {
          "date": "2014-11-24",
          "precipitation": 1.3,
          "temp_max": 11.7,
          "temp_min": 4.4,
          "weather": "fog",
          "wind": 3.8
         },
         {
          "date": "2014-11-25",
          "precipitation": 18.3,
          "temp_max": 13.9,
          "temp_min": 9.4,
          "weather": "fog",
          "wind": 4.5
         },
         {
          "date": "2014-11-26",
          "precipitation": 0.3,
          "temp_max": 15,
          "temp_min": 12.2,
          "weather": "sun",
          "wind": 3.9
         },
         {
          "date": "2014-11-27",
          "precipitation": 3.3,
          "temp_max": 14.4,
          "temp_min": 11.7,
          "weather": "fog",
          "wind": 6.6
         },
         {
          "date": "2014-11-28",
          "precipitation": 34.3,
          "temp_max": 12.8,
          "temp_min": 3.3,
          "weather": "fog",
          "wind": 5.8
         },
         {
          "date": "2014-11-29",
          "precipitation": 3.6,
          "temp_max": 4.4,
          "temp_min": -4.3,
          "weather": "fog",
          "wind": 5.3
         },
         {
          "date": "2014-11-30",
          "precipitation": 0,
          "temp_max": 2.8,
          "temp_min": -4.9,
          "weather": "sun",
          "wind": 4.4
         },
         {
          "date": "2014-12-01",
          "precipitation": 0,
          "temp_max": 4.4,
          "temp_min": -3.2,
          "weather": "sun",
          "wind": 2.2
         },
         {
          "date": "2014-12-02",
          "precipitation": 0,
          "temp_max": 5.6,
          "temp_min": -3.2,
          "weather": "fog",
          "wind": 5.7
         },
         {
          "date": "2014-12-03",
          "precipitation": 0,
          "temp_max": 10,
          "temp_min": 0,
          "weather": "sun",
          "wind": 3.6
         },
         {
          "date": "2014-12-04",
          "precipitation": 0.8,
          "temp_max": 8.3,
          "temp_min": 3.9,
          "weather": "fog",
          "wind": 1.1
         },
         {
          "date": "2014-12-05",
          "precipitation": 3,
          "temp_max": 12.8,
          "temp_min": 6.7,
          "weather": "fog",
          "wind": 3.1
         },
         {
          "date": "2014-12-06",
          "precipitation": 7.4,
          "temp_max": 11.7,
          "temp_min": 7.8,
          "weather": "fog",
          "wind": 3.6
         },
         {
          "date": "2014-12-07",
          "precipitation": 0,
          "temp_max": 14.4,
          "temp_min": 6.1,
          "weather": "sun",
          "wind": 2.8
         },
         {
          "date": "2014-12-08",
          "precipitation": 9.1,
          "temp_max": 14.4,
          "temp_min": 8.9,
          "weather": "fog",
          "wind": 4.2
         },
         {
          "date": "2014-12-09",
          "precipitation": 9.9,
          "temp_max": 16.1,
          "temp_min": 10.6,
          "weather": "fog",
          "wind": 5.1
         },
         {
          "date": "2014-12-10",
          "precipitation": 13,
          "temp_max": 18.9,
          "temp_min": 10,
          "weather": "fog",
          "wind": 6.7
         },
         {
          "date": "2014-12-11",
          "precipitation": 6.9,
          "temp_max": 14.4,
          "temp_min": 8.3,
          "weather": "fog",
          "wind": 6.4
         },
         {
          "date": "2014-12-12",
          "precipitation": 0,
          "temp_max": 11.1,
          "temp_min": 7.2,
          "weather": "sun",
          "wind": 3.7
         },
         {
          "date": "2014-12-13",
          "precipitation": 0,
          "temp_max": 10,
          "temp_min": 3.9,
          "weather": "fog",
          "wind": 1.1
         },
         {
          "date": "2014-12-14",
          "precipitation": 0,
          "temp_max": 12.8,
          "temp_min": 1.7,
          "weather": "fog",
          "wind": 3.5
         },
         {
          "date": "2014-12-15",
          "precipitation": 0,
          "temp_max": 12.2,
          "temp_min": 6.7,
          "weather": "sun",
          "wind": 5.9
         },
         {
          "date": "2014-12-16",
          "precipitation": 0,
          "temp_max": 10,
          "temp_min": 8.3,
          "weather": "sun",
          "wind": 4
         },
         {
          "date": "2014-12-17",
          "precipitation": 2.8,
          "temp_max": 8.9,
          "temp_min": 6.1,
          "weather": "fog",
          "wind": 1.6
         },
         {
          "date": "2014-12-18",
          "precipitation": 13,
          "temp_max": 9.4,
          "temp_min": 6.7,
          "weather": "fog",
          "wind": 3.1
         },
         {
          "date": "2014-12-19",
          "precipitation": 3,
          "temp_max": 11.1,
          "temp_min": 7.2,
          "weather": "sun",
          "wind": 4.3
         },
         {
          "date": "2014-12-20",
          "precipitation": 19.6,
          "temp_max": 12.8,
          "temp_min": 6.7,
          "weather": "fog",
          "wind": 5.5
         },
         {
          "date": "2014-12-21",
          "precipitation": 0,
          "temp_max": 12.8,
          "temp_min": 10,
          "weather": "sun",
          "wind": 5.2
         },
         {
          "date": "2014-12-22",
          "precipitation": 0,
          "temp_max": 10.6,
          "temp_min": 6.1,
          "weather": "sun",
          "wind": 1.5
         },
         {
          "date": "2014-12-23",
          "precipitation": 20.6,
          "temp_max": 12.2,
          "temp_min": 5,
          "weather": "fog",
          "wind": 3.8
         },
         {
          "date": "2014-12-24",
          "precipitation": 5.3,
          "temp_max": 7.2,
          "temp_min": 3.9,
          "weather": "fog",
          "wind": 1.8
         },
         {
          "date": "2014-12-25",
          "precipitation": 0,
          "temp_max": 7.8,
          "temp_min": 2.8,
          "weather": "fog",
          "wind": 2.2
         },
         {
          "date": "2014-12-26",
          "precipitation": 0,
          "temp_max": 5.6,
          "temp_min": 1.7,
          "weather": "fog",
          "wind": 1.2
         },
         {
          "date": "2014-12-27",
          "precipitation": 3.3,
          "temp_max": 9.4,
          "temp_min": 4.4,
          "weather": "fog",
          "wind": 4.9
         },
         {
          "date": "2014-12-28",
          "precipitation": 4.1,
          "temp_max": 6.7,
          "temp_min": 2.8,
          "weather": "fog",
          "wind": 1.8
         },
         {
          "date": "2014-12-29",
          "precipitation": 0,
          "temp_max": 6.1,
          "temp_min": 0.6,
          "weather": "fog",
          "wind": 4.3
         },
         {
          "date": "2014-12-30",
          "precipitation": 0,
          "temp_max": 3.3,
          "temp_min": -2.1,
          "weather": "sun",
          "wind": 3.6
         },
         {
          "date": "2014-12-31",
          "precipitation": 0,
          "temp_max": 3.3,
          "temp_min": -2.7,
          "weather": "sun",
          "wind": 3
         },
         {
          "date": "2015-01-01",
          "precipitation": 0,
          "temp_max": 5.6,
          "temp_min": -3.2,
          "weather": "sun",
          "wind": 1.2
         },
         {
          "date": "2015-01-02",
          "precipitation": 1.5,
          "temp_max": 5.6,
          "temp_min": 0,
          "weather": "fog",
          "wind": 2.3
         },
         {
          "date": "2015-01-03",
          "precipitation": 0,
          "temp_max": 5,
          "temp_min": 1.7,
          "weather": "fog",
          "wind": 1.7
         },
         {
          "date": "2015-01-04",
          "precipitation": 10.2,
          "temp_max": 10.6,
          "temp_min": 3.3,
          "weather": "fog",
          "wind": 4.5
         },
         {
          "date": "2015-01-05",
          "precipitation": 8.1,
          "temp_max": 12.2,
          "temp_min": 9.4,
          "weather": "fog",
          "wind": 6.4
         },
         {
          "date": "2015-01-06",
          "precipitation": 0,
          "temp_max": 12.2,
          "temp_min": 6.1,
          "weather": "fog",
          "wind": 1.3
         },
         {
          "date": "2015-01-07",
          "precipitation": 0,
          "temp_max": 7.8,
          "temp_min": 5.6,
          "weather": "fog",
          "wind": 1.6
         },
         {
          "date": "2015-01-08",
          "precipitation": 0,
          "temp_max": 7.8,
          "temp_min": 1.7,
          "weather": "fog",
          "wind": 2.6
         },
         {
          "date": "2015-01-09",
          "precipitation": 0.3,
          "temp_max": 10,
          "temp_min": 3.3,
          "weather": "fog",
          "wind": 0.6
         },
         {
          "date": "2015-01-10",
          "precipitation": 5.8,
          "temp_max": 7.8,
          "temp_min": 6.1,
          "weather": "fog",
          "wind": 0.5
         },
         {
          "date": "2015-01-11",
          "precipitation": 1.5,
          "temp_max": 9.4,
          "temp_min": 7.2,
          "weather": "fog",
          "wind": 1.1
         },
         {
          "date": "2015-01-12",
          "precipitation": 0,
          "temp_max": 11.1,
          "temp_min": 4.4,
          "weather": "fog",
          "wind": 1.6
         },
         {
          "date": "2015-01-13",
          "precipitation": 0,
          "temp_max": 9.4,
          "temp_min": 2.8,
          "weather": "fog",
          "wind": 2.7
         },
         {
          "date": "2015-01-14",
          "precipitation": 0,
          "temp_max": 6.1,
          "temp_min": 0.6,
          "weather": "fog",
          "wind": 2.8
         },
         {
          "date": "2015-01-15",
          "precipitation": 9.7,
          "temp_max": 7.8,
          "temp_min": 1.1,
          "weather": "fog",
          "wind": 3.2
         },
         {
          "date": "2015-01-16",
          "precipitation": 0,
          "temp_max": 11.7,
          "temp_min": 5.6,
          "weather": "fog",
          "wind": 4.5
         },
         {
          "date": "2015-01-17",
          "precipitation": 26.2,
          "temp_max": 13.3,
          "temp_min": 3.3,
          "weather": "fog",
          "wind": 2.8
         },
         {
          "date": "2015-01-18",
          "precipitation": 21.3,
          "temp_max": 13.9,
          "temp_min": 7.2,
          "weather": "rain",
          "wind": 6.6
         },
         {
          "date": "2015-01-19",
          "precipitation": 0.5,
          "temp_max": 10,
          "temp_min": 6.1,
          "weather": "sun",
          "wind": 2.8
         },
         {
          "date": "2015-01-20",
          "precipitation": 0,
          "temp_max": 10,
          "temp_min": 3.3,
          "weather": "fog",
          "wind": 3
         },
         {
          "date": "2015-01-21",
          "precipitation": 0,
          "temp_max": 7.2,
          "temp_min": -0.5,
          "weather": "fog",
          "wind": 1.3
         },
         {
          "date": "2015-01-22",
          "precipitation": 0.8,
          "temp_max": 9.4,
          "temp_min": 6.1,
          "weather": "fog",
          "wind": 1.3
         },
         {
          "date": "2015-01-23",
          "precipitation": 5.8,
          "temp_max": 12.2,
          "temp_min": 8.3,
          "weather": "fog",
          "wind": 2.6
         },
         {
          "date": "2015-01-24",
          "precipitation": 0.5,
          "temp_max": 14.4,
          "temp_min": 11.1,
          "weather": "fog",
          "wind": 3.3
         },
         {
          "date": "2015-01-25",
          "precipitation": 0,
          "temp_max": 17.2,
          "temp_min": 7.2,
          "weather": "fog",
          "wind": 1.4
         },
         {
          "date": "2015-01-26",
          "precipitation": 0,
          "temp_max": 16.1,
          "temp_min": 6.1,
          "weather": "fog",
          "wind": 2.2
         },
         {
          "date": "2015-01-27",
          "precipitation": 0.8,
          "temp_max": 11.1,
          "temp_min": 8.3,
          "weather": "fog",
          "wind": 2
         },
         {
          "date": "2015-01-28",
          "precipitation": 0,
          "temp_max": 12.2,
          "temp_min": 5,
          "weather": "fog",
          "wind": 1.8
         },
         {
          "date": "2015-01-29",
          "precipitation": 0,
          "temp_max": 12.2,
          "temp_min": 3.3,
          "weather": "sun",
          "wind": 2.9
         },
         {
          "date": "2015-01-30",
          "precipitation": 0,
          "temp_max": 8.3,
          "temp_min": 1.1,
          "weather": "fog",
          "wind": 0.8
         },
         {
          "date": "2015-01-31",
          "precipitation": 0,
          "temp_max": 7.2,
          "temp_min": 3.3,
          "weather": "fog",
          "wind": 1.9
         },
         {
          "date": "2015-02-01",
          "precipitation": 1.5,
          "temp_max": 9.4,
          "temp_min": 4.4,
          "weather": "fog",
          "wind": 2.6
         },
         {
          "date": "2015-02-02",
          "precipitation": 7.4,
          "temp_max": 11.1,
          "temp_min": 5,
          "weather": "fog",
          "wind": 4
         },
         {
          "date": "2015-02-03",
          "precipitation": 1.3,
          "temp_max": 10,
          "temp_min": 5.6,
          "weather": "fog",
          "wind": 1.9
         },
         {
          "date": "2015-02-04",
          "precipitation": 8.4,
          "temp_max": 10.6,
          "temp_min": 4.4,
          "weather": "fog",
          "wind": 1.7
         },
         {
          "date": "2015-02-05",
          "precipitation": 26.2,
          "temp_max": 13.3,
          "temp_min": 8.3,
          "weather": "fog",
          "wind": 4.6
         },
         {
          "date": "2015-02-06",
          "precipitation": 17.3,
          "temp_max": 14.4,
          "temp_min": 10,
          "weather": "fog",
          "wind": 4.5
         },
         {
          "date": "2015-02-07",
          "precipitation": 23.6,
          "temp_max": 12.2,
          "temp_min": 9.4,
          "weather": "fog",
          "wind": 4.6
         },
         {
          "date": "2015-02-08",
          "precipitation": 3.6,
          "temp_max": 15,
          "temp_min": 8.3,
          "weather": "fog",
          "wind": 3.9
         },
         {
          "date": "2015-02-09",
          "precipitation": 6.1,
          "temp_max": 13.3,
          "temp_min": 8.3,
          "weather": "fog",
          "wind": 2.5
         },
         {
          "date": "2015-02-10",
          "precipitation": 0.3,
          "temp_max": 12.8,
          "temp_min": 8.3,
          "weather": "fog",
          "wind": 4
         },
         {
          "date": "2015-02-11",
          "precipitation": 0,
          "temp_max": 12.8,
          "temp_min": 5.6,
          "weather": "fog",
          "wind": 1
         },
         {
          "date": "2015-02-12",
          "precipitation": 1,
          "temp_max": 16.7,
          "temp_min": 9.4,
          "weather": "sun",
          "wind": 2.1
         },
         {
          "date": "2015-02-13",
          "precipitation": 0,
          "temp_max": 15.6,
          "temp_min": 6.7,
          "weather": "fog",
          "wind": 1.7
         },
         {
          "date": "2015-02-14",
          "precipitation": 0.3,
          "temp_max": 14.4,
          "temp_min": 6.7,
          "weather": "fog",
          "wind": 2.9
         },
         {
          "date": "2015-02-15",
          "precipitation": 0,
          "temp_max": 12.2,
          "temp_min": 3.9,
          "weather": "sun",
          "wind": 4.8
         },
         {
          "date": "2015-02-16",
          "precipitation": 0,
          "temp_max": 15,
          "temp_min": 5.6,
          "weather": "fog",
          "wind": 6.6
         },
         {
          "date": "2015-02-17",
          "precipitation": 0,
          "temp_max": 16.1,
          "temp_min": 4.4,
          "weather": "sun",
          "wind": 4
         },
         {
          "date": "2015-02-18",
          "precipitation": 0,
          "temp_max": 12.2,
          "temp_min": 4.4,
          "weather": "sun",
          "wind": 2.6
         },
         {
          "date": "2015-02-19",
          "precipitation": 4.6,
          "temp_max": 10.6,
          "temp_min": 8.3,
          "weather": "fog",
          "wind": 2.2
         },
         {
          "date": "2015-02-20",
          "precipitation": 0.8,
          "temp_max": 11.1,
          "temp_min": 7.2,
          "weather": "fog",
          "wind": 0.9
         },
         {
          "date": "2015-02-21",
          "precipitation": 0,
          "temp_max": 12.2,
          "temp_min": 5.6,
          "weather": "sun",
          "wind": 4.5
         },
         {
          "date": "2015-02-22",
          "precipitation": 0,
          "temp_max": 11.7,
          "temp_min": 3.3,
          "weather": "sun",
          "wind": 4.2
         },
         {
          "date": "2015-02-23",
          "precipitation": 0,
          "temp_max": 12.8,
          "temp_min": 0.6,
          "weather": "sun",
          "wind": 1.4
         },
         {
          "date": "2015-02-24",
          "precipitation": 0,
          "temp_max": 11.1,
          "temp_min": 2.2,
          "weather": "sun",
          "wind": 1.5
         },
         {
          "date": "2015-02-25",
          "precipitation": 4.1,
          "temp_max": 10,
          "temp_min": 6.7,
          "weather": "fog",
          "wind": 1
         },
         {
          "date": "2015-02-26",
          "precipitation": 9.4,
          "temp_max": 11.7,
          "temp_min": 7.8,
          "weather": "fog",
          "wind": 1.4
         },
         {
          "date": "2015-02-27",
          "precipitation": 18.3,
          "temp_max": 10,
          "temp_min": 6.7,
          "weather": "fog",
          "wind": 4
         },
         {
          "date": "2015-02-28",
          "precipitation": 0,
          "temp_max": 12.2,
          "temp_min": 3.3,
          "weather": "sun",
          "wind": 5.1
         },
         {
          "date": "2015-03-01",
          "precipitation": 0,
          "temp_max": 11.1,
          "temp_min": 1.1,
          "weather": "sun",
          "wind": 2.2
         },
         {
          "date": "2015-03-02",
          "precipitation": 0,
          "temp_max": 11.1,
          "temp_min": 4.4,
          "weather": "sun",
          "wind": 4.8
         },
         {
          "date": "2015-03-03",
          "precipitation": 0,
          "temp_max": 10.6,
          "temp_min": 0,
          "weather": "sun",
          "wind": 2.1
         },
         {
          "date": "2015-03-04",
          "precipitation": 0,
          "temp_max": 12.8,
          "temp_min": -0.5,
          "weather": "sun",
          "wind": 1.8
         },
         {
          "date": "2015-03-05",
          "precipitation": 0,
          "temp_max": 13.3,
          "temp_min": 2.8,
          "weather": "sun",
          "wind": 1.3
         },
         {
          "date": "2015-03-06",
          "precipitation": 0,
          "temp_max": 15,
          "temp_min": 3.3,
          "weather": "sun",
          "wind": 1.4
         },
         {
          "date": "2015-03-07",
          "precipitation": 0,
          "temp_max": 16.7,
          "temp_min": 3.9,
          "weather": "fog",
          "wind": 2.7
         },
         {
          "date": "2015-03-08",
          "precipitation": 0,
          "temp_max": 17.2,
          "temp_min": 3.9,
          "weather": "fog",
          "wind": 1.7
         },
         {
          "date": "2015-03-09",
          "precipitation": 0,
          "temp_max": 14.4,
          "temp_min": 4.4,
          "weather": "fog",
          "wind": 1.8
         },
         {
          "date": "2015-03-10",
          "precipitation": 0.8,
          "temp_max": 13.3,
          "temp_min": 5,
          "weather": "fog",
          "wind": 2.6
         },
         {
          "date": "2015-03-11",
          "precipitation": 2.5,
          "temp_max": 14.4,
          "temp_min": 8.9,
          "weather": "fog",
          "wind": 3.1
         },
         {
          "date": "2015-03-12",
          "precipitation": 0,
          "temp_max": 17.8,
          "temp_min": 9.4,
          "weather": "sun",
          "wind": 3.2
         },
         {
          "date": "2015-03-13",
          "precipitation": 2,
          "temp_max": 17.2,
          "temp_min": 7.8,
          "weather": "sun",
          "wind": 2.2
         },
         {
          "date": "2015-03-14",
          "precipitation": 17,
          "temp_max": 13.9,
          "temp_min": 9.4,
          "weather": "fog",
          "wind": 3.8
         },
         {
          "date": "2015-03-15",
          "precipitation": 55.9,
          "temp_max": 10.6,
          "temp_min": 6.1,
          "weather": "fog",
          "wind": 4.2
         },
         {
          "date": "2015-03-16",
          "precipitation": 1,
          "temp_max": 13.9,
          "temp_min": 6.1,
          "weather": "fog",
          "wind": 3
         },
         {
          "date": "2015-03-17",
          "precipitation": 0.8,
          "temp_max": 13.3,
          "temp_min": 4.4,
          "weather": "sun",
          "wind": 2.6
         },
         {
          "date": "2015-03-18",
          "precipitation": 0,
          "temp_max": 15.6,
          "temp_min": 7.2,
          "weather": "sun",
          "wind": 2.5
         },
         {
          "date": "2015-03-19",
          "precipitation": 0,
          "temp_max": 15.6,
          "temp_min": 8.3,
          "weather": "sun",
          "wind": 1.9
         },
         {
          "date": "2015-03-20",
          "precipitation": 4.1,
          "temp_max": 13.9,
          "temp_min": 8.9,
          "weather": "sun",
          "wind": 1.9
         },
         {
          "date": "2015-03-21",
          "precipitation": 3.8,
          "temp_max": 13.3,
          "temp_min": 8.3,
          "weather": "fog",
          "wind": 4.7
         },
         {
          "date": "2015-03-22",
          "precipitation": 1,
          "temp_max": 11.7,
          "temp_min": 6.1,
          "weather": "sun",
          "wind": 2.3
         },
         {
          "date": "2015-03-23",
          "precipitation": 8.1,
          "temp_max": 11.1,
          "temp_min": 5.6,
          "weather": "fog",
          "wind": 2.8
         },
         {
          "date": "2015-03-24",
          "precipitation": 7.6,
          "temp_max": 12.8,
          "temp_min": 6.1,
          "weather": "fog",
          "wind": 3.9
         },
         {
          "date": "2015-03-25",
          "precipitation": 5.1,
          "temp_max": 14.4,
          "temp_min": 7.2,
          "weather": "fog",
          "wind": 4.4
         },
         {
          "date": "2015-03-26",
          "precipitation": 0,
          "temp_max": 20.6,
          "temp_min": 10,
          "weather": "sun",
          "wind": 2.2
         },
         {
          "date": "2015-03-27",
          "precipitation": 1,
          "temp_max": 18.3,
          "temp_min": 8.9,
          "weather": "fog",
          "wind": 4
         },
         {
          "date": "2015-03-28",
          "precipitation": 0,
          "temp_max": 15.6,
          "temp_min": 9.4,
          "weather": "sun",
          "wind": 5.7
         },
         {
          "date": "2015-03-29",
          "precipitation": 0,
          "temp_max": 15.6,
          "temp_min": 8.9,
          "weather": "sun",
          "wind": 3
         },
         {
          "date": "2015-03-30",
          "precipitation": 1.8,
          "temp_max": 17.8,
          "temp_min": 10.6,
          "weather": "fog",
          "wind": 2.9
         },
         {
          "date": "2015-03-31",
          "precipitation": 1,
          "temp_max": 12.8,
          "temp_min": 6.1,
          "weather": "fog",
          "wind": 4.2
         },
         {
          "date": "2015-04-01",
          "precipitation": 5.1,
          "temp_max": 12.8,
          "temp_min": 5.6,
          "weather": "rain",
          "wind": 3.2
         },
         {
          "date": "2015-04-02",
          "precipitation": 0,
          "temp_max": 13.3,
          "temp_min": 5.6,
          "weather": "sun",
          "wind": 2.4
         },
         {
          "date": "2015-04-03",
          "precipitation": 1.5,
          "temp_max": 11.1,
          "temp_min": 5,
          "weather": "fog",
          "wind": 3.6
         },
         {
          "date": "2015-04-04",
          "precipitation": 0,
          "temp_max": 12.8,
          "temp_min": 3.9,
          "weather": "sun",
          "wind": 1.7
         },
         {
          "date": "2015-04-05",
          "precipitation": 0,
          "temp_max": 16.7,
          "temp_min": 2.8,
          "weather": "sun",
          "wind": 2.4
         },
         {
          "date": "2015-04-06",
          "precipitation": 1,
          "temp_max": 13.9,
          "temp_min": 6.7,
          "weather": "sun",
          "wind": 3.5
         },
         {
          "date": "2015-04-07",
          "precipitation": 0.5,
          "temp_max": 14.4,
          "temp_min": 6.7,
          "weather": "sun",
          "wind": 3.9
         },
         {
          "date": "2015-04-08",
          "precipitation": 0,
          "temp_max": 17.2,
          "temp_min": 6.1,
          "weather": "sun",
          "wind": 1.7
         },
         {
          "date": "2015-04-09",
          "precipitation": 0,
          "temp_max": 17.2,
          "temp_min": 6.1,
          "weather": "sun",
          "wind": 2.3
         },
         {
          "date": "2015-04-10",
          "precipitation": 10.9,
          "temp_max": 13.9,
          "temp_min": 7.8,
          "weather": "fog",
          "wind": 4.6
         },
         {
          "date": "2015-04-11",
          "precipitation": 0,
          "temp_max": 11.7,
          "temp_min": 5.6,
          "weather": "sun",
          "wind": 6.5
         },
         {
          "date": "2015-04-12",
          "precipitation": 0,
          "temp_max": 13.3,
          "temp_min": 5.6,
          "weather": "sun",
          "wind": 3.6
         },
         {
          "date": "2015-04-13",
          "precipitation": 14,
          "temp_max": 11.7,
          "temp_min": 3.9,
          "weather": "fog",
          "wind": 3.6
         },
         {
          "date": "2015-04-14",
          "precipitation": 3.3,
          "temp_max": 11.7,
          "temp_min": 2.8,
          "weather": "sun",
          "wind": 3.3
         },
         {
          "date": "2015-04-15",
          "precipitation": 0,
          "temp_max": 13.9,
          "temp_min": 3.3,
          "weather": "sun",
          "wind": 2.4
         },
         {
          "date": "2015-04-16",
          "precipitation": 0,
          "temp_max": 17.8,
          "temp_min": 3.9,
          "weather": "sun",
          "wind": 3.1
         },
         {
          "date": "2015-04-17",
          "precipitation": 0,
          "temp_max": 18.9,
          "temp_min": 6.1,
          "weather": "sun",
          "wind": 3.6
         },
         {
          "date": "2015-04-18",
          "precipitation": 0,
          "temp_max": 18.9,
          "temp_min": 8.3,
          "weather": "sun",
          "wind": 3.9
         },
         {
          "date": "2015-04-19",
          "precipitation": 0,
          "temp_max": 21.1,
          "temp_min": 8.3,
          "weather": "sun",
          "wind": 3.6
         },
         {
          "date": "2015-04-20",
          "precipitation": 0,
          "temp_max": 22.8,
          "temp_min": 7.8,
          "weather": "sun",
          "wind": 2.6
         },
         {
          "date": "2015-04-21",
          "precipitation": 5.6,
          "temp_max": 17.2,
          "temp_min": 6.7,
          "weather": "fog",
          "wind": 3.4
         },
         {
          "date": "2015-04-22",
          "precipitation": 0,
          "temp_max": 15.6,
          "temp_min": 5,
          "weather": "sun",
          "wind": 2.3
         },
         {
          "date": "2015-04-23",
          "precipitation": 3,
          "temp_max": 12.2,
          "temp_min": 6.7,
          "weather": "fog",
          "wind": 4.1
         },
         {
          "date": "2015-04-24",
          "precipitation": 3.3,
          "temp_max": 12.2,
          "temp_min": 6.1,
          "weather": "fog",
          "wind": 5
         },
         {
          "date": "2015-04-25",
          "precipitation": 1.3,
          "temp_max": 13.3,
          "temp_min": 5.6,
          "weather": "fog",
          "wind": 3
         },
         {
          "date": "2015-04-26",
          "precipitation": 0,
          "temp_max": 15.6,
          "temp_min": 4.4,
          "weather": "fog",
          "wind": 2.7
         },
         {
          "date": "2015-04-27",
          "precipitation": 0.3,
          "temp_max": 25,
          "temp_min": 10.6,
          "weather": "fog",
          "wind": 2.3
         },
         {
          "date": "2015-04-28",
          "precipitation": 1.8,
          "temp_max": 15.6,
          "temp_min": 8.9,
          "weather": "fog",
          "wind": 4.3
         },
         {
          "date": "2015-04-29",
          "precipitation": 0,
          "temp_max": 16.1,
          "temp_min": 7.2,
          "weather": "sun",
          "wind": 4.7
         },
         {
          "date": "2015-04-30",
          "precipitation": 0,
          "temp_max": 17.2,
          "temp_min": 7.8,
          "weather": "sun",
          "wind": 2.1
         },
         {
          "date": "2015-05-01",
          "precipitation": 0,
          "temp_max": 18.3,
          "temp_min": 8.9,
          "weather": "sun",
          "wind": 3.7
         },
         {
          "date": "2015-05-02",
          "precipitation": 0,
          "temp_max": 18.3,
          "temp_min": 7.8,
          "weather": "sun",
          "wind": 3.7
         },
         {
          "date": "2015-05-03",
          "precipitation": 0,
          "temp_max": 20.6,
          "temp_min": 7.8,
          "weather": "sun",
          "wind": 2.6
         },
         {
          "date": "2015-05-04",
          "precipitation": 0,
          "temp_max": 17.2,
          "temp_min": 7.2,
          "weather": "sun",
          "wind": 5.2
         },
         {
          "date": "2015-05-05",
          "precipitation": 6.1,
          "temp_max": 14.4,
          "temp_min": 7.2,
          "weather": "fog",
          "wind": 5.1
         },
         {
          "date": "2015-05-06",
          "precipitation": 0,
          "temp_max": 16.7,
          "temp_min": 7.2,
          "weather": "fog",
          "wind": 2.6
         },
         {
          "date": "2015-05-07",
          "precipitation": 0,
          "temp_max": 20.6,
          "temp_min": 6.1,
          "weather": "sun",
          "wind": 3
         },
         {
          "date": "2015-05-08",
          "precipitation": 0,
          "temp_max": 23.9,
          "temp_min": 8.3,
          "weather": "sun",
          "wind": 3
         },
         {
          "date": "2015-05-09",
          "precipitation": 0,
          "temp_max": 26.7,
          "temp_min": 9.4,
          "weather": "sun",
          "wind": 2.6
         },
         {
          "date": "2015-05-10",
          "precipitation": 0,
          "temp_max": 19.4,
          "temp_min": 11.1,
          "weather": "sun",
          "wind": 2.8
         },
         {
          "date": "2015-05-11",
          "precipitation": 0,
          "temp_max": 13.9,
          "temp_min": 10,
          "weather": "fog",
          "wind": 2.5
         },
         {
          "date": "2015-05-12",
          "precipitation": 4.3,
          "temp_max": 15.6,
          "temp_min": 10.6,
          "weather": "fog",
          "wind": 3.3
         },
         {
          "date": "2015-05-13",
          "precipitation": 4.1,
          "temp_max": 12.2,
          "temp_min": 10,
          "weather": "fog",
          "wind": 2.8
         },
         {
          "date": "2015-05-14",
          "precipitation": 0.3,
          "temp_max": 17.8,
          "temp_min": 9.4,
          "weather": "fog",
          "wind": 2
         },
         {
          "date": "2015-05-15",
          "precipitation": 0,
          "temp_max": 20,
          "temp_min": 9.4,
          "weather": "fog",
          "wind": 2.8
         },
         {
          "date": "2015-05-16",
          "precipitation": 0,
          "temp_max": 15.6,
          "temp_min": 11.1,
          "weather": "sun",
          "wind": 3
         },
         {
          "date": "2015-05-17",
          "precipitation": 0,
          "temp_max": 19.4,
          "temp_min": 10.6,
          "weather": "sun",
          "wind": 2.1
         },
         {
          "date": "2015-05-18",
          "precipitation": 0,
          "temp_max": 25.6,
          "temp_min": 12.2,
          "weather": "sun",
          "wind": 3
         },
         {
          "date": "2015-05-19",
          "precipitation": 0,
          "temp_max": 21.7,
          "temp_min": 11.7,
          "weather": "sun",
          "wind": 2.6
         },
         {
          "date": "2015-05-20",
          "precipitation": 0,
          "temp_max": 23.3,
          "temp_min": 10.6,
          "weather": "fog",
          "wind": 1.8
         },
         {
          "date": "2015-05-21",
          "precipitation": 0,
          "temp_max": 25.6,
          "temp_min": 11.7,
          "weather": "sun",
          "wind": 2.1
         },
         {
          "date": "2015-05-22",
          "precipitation": 0,
          "temp_max": 16.7,
          "temp_min": 11.7,
          "weather": "sun",
          "wind": 3.7
         },
         {
          "date": "2015-05-23",
          "precipitation": 0,
          "temp_max": 16.1,
          "temp_min": 11.7,
          "weather": "sun",
          "wind": 2.6
         },
         {
          "date": "2015-05-24",
          "precipitation": 0,
          "temp_max": 17.8,
          "temp_min": 11.1,
          "weather": "sun",
          "wind": 2.7
         },
         {
          "date": "2015-05-25",
          "precipitation": 0,
          "temp_max": 15.6,
          "temp_min": 11.1,
          "weather": "sun",
          "wind": 2.7
         },
         {
          "date": "2015-05-26",
          "precipitation": 0,
          "temp_max": 21.7,
          "temp_min": 11.7,
          "weather": "sun",
          "wind": 2.1
         },
         {
          "date": "2015-05-27",
          "precipitation": 0,
          "temp_max": 24.4,
          "temp_min": 11.7,
          "weather": "sun",
          "wind": 1.8
         },
         {
          "date": "2015-05-28",
          "precipitation": 0,
          "temp_max": 27.8,
          "temp_min": 12.2,
          "weather": "sun",
          "wind": 2.1
         },
         {
          "date": "2015-05-29",
          "precipitation": 0,
          "temp_max": 26.1,
          "temp_min": 12.8,
          "weather": "sun",
          "wind": 2.5
         },
         {
          "date": "2015-05-30",
          "precipitation": 0,
          "temp_max": 22.8,
          "temp_min": 10,
          "weather": "sun",
          "wind": 2.5
         },
         {
          "date": "2015-05-31",
          "precipitation": 0,
          "temp_max": 25,
          "temp_min": 11.7,
          "weather": "sun",
          "wind": 2.2
         },
         {
          "date": "2015-06-01",
          "precipitation": 4.6,
          "temp_max": 16.1,
          "temp_min": 11.7,
          "weather": "fog",
          "wind": 3.4
         },
         {
          "date": "2015-06-02",
          "precipitation": 0.5,
          "temp_max": 17.8,
          "temp_min": 12.8,
          "weather": "sun",
          "wind": 5
         },
         {
          "date": "2015-06-03",
          "precipitation": 0,
          "temp_max": 20,
          "temp_min": 11.7,
          "weather": "sun",
          "wind": 3
         },
         {
          "date": "2015-06-04",
          "precipitation": 0,
          "temp_max": 22.8,
          "temp_min": 11.7,
          "weather": "sun",
          "wind": 3.9
         },
         {
          "date": "2015-06-05",
          "precipitation": 0,
          "temp_max": 26.7,
          "temp_min": 12.8,
          "weather": "sun",
          "wind": 4.3
         },
         {
          "date": "2015-06-06",
          "precipitation": 0,
          "temp_max": 29.4,
          "temp_min": 13.3,
          "weather": "sun",
          "wind": 2.6
         },
         {
          "date": "2015-06-07",
          "precipitation": 0,
          "temp_max": 31.1,
          "temp_min": 15.6,
          "weather": "sun",
          "wind": 3.2
         },
         {
          "date": "2015-06-08",
          "precipitation": 0,
          "temp_max": 30.6,
          "temp_min": 14.4,
          "weather": "sun",
          "wind": 3.5
         },
         {
          "date": "2015-06-09",
          "precipitation": 0,
          "temp_max": 28.9,
          "temp_min": 14.4,
          "weather": "sun",
          "wind": 2.7
         },
         {
          "date": "2015-06-10",
          "precipitation": 0,
          "temp_max": 25.6,
          "temp_min": 11.1,
          "weather": "sun",
          "wind": 3
         },
         {
          "date": "2015-06-11",
          "precipitation": 0,
          "temp_max": 24.4,
          "temp_min": 11.1,
          "weather": "sun",
          "wind": 3.5
         },
         {
          "date": "2015-06-12",
          "precipitation": 0,
          "temp_max": 20,
          "temp_min": 11.7,
          "weather": "sun",
          "wind": 2.3
         },
         {
          "date": "2015-06-13",
          "precipitation": 0,
          "temp_max": 23.9,
          "temp_min": 9.4,
          "weather": "sun",
          "wind": 2.6
         },
         {
          "date": "2015-06-14",
          "precipitation": 0,
          "temp_max": 27.8,
          "temp_min": 11.7,
          "weather": "sun",
          "wind": 3.7
         },
         {
          "date": "2015-06-15",
          "precipitation": 0,
          "temp_max": 30,
          "temp_min": 16.1,
          "weather": "drizzle",
          "wind": 3.5
         },
         {
          "date": "2015-06-16",
          "precipitation": 0,
          "temp_max": 22.8,
          "temp_min": 11.1,
          "weather": "sun",
          "wind": 3
         },
         {
          "date": "2015-06-17",
          "precipitation": 0,
          "temp_max": 25,
          "temp_min": 11.1,
          "weather": "sun",
          "wind": 3.1
         },
         {
          "date": "2015-06-18",
          "precipitation": 0,
          "temp_max": 24.4,
          "temp_min": 13.9,
          "weather": "sun",
          "wind": 3
         },
         {
          "date": "2015-06-19",
          "precipitation": 0.5,
          "temp_max": 23.9,
          "temp_min": 13.3,
          "weather": "fog",
          "wind": 3.2
         },
         {
          "date": "2015-06-20",
          "precipitation": 0,
          "temp_max": 25,
          "temp_min": 12.8,
          "weather": "sun",
          "wind": 4.3
         },
         {
          "date": "2015-06-21",
          "precipitation": 0,
          "temp_max": 25.6,
          "temp_min": 13.9,
          "weather": "sun",
          "wind": 3.4
         },
         {
          "date": "2015-06-22",
          "precipitation": 0,
          "temp_max": 25,
          "temp_min": 12.8,
          "weather": "sun",
          "wind": 2.4
         },
         {
          "date": "2015-06-23",
          "precipitation": 0,
          "temp_max": 26.1,
          "temp_min": 11.7,
          "weather": "sun",
          "wind": 2.4
         },
         {
          "date": "2015-06-24",
          "precipitation": 0,
          "temp_max": 25.6,
          "temp_min": 16.1,
          "weather": "sun",
          "wind": 2.6
         },
         {
          "date": "2015-06-25",
          "precipitation": 0,
          "temp_max": 30.6,
          "temp_min": 15.6,
          "weather": "sun",
          "wind": 3
         },
         {
          "date": "2015-06-26",
          "precipitation": 0,
          "temp_max": 31.7,
          "temp_min": 17.8,
          "weather": "sun",
          "wind": 4.7
         },
         {
          "date": "2015-06-27",
          "precipitation": 0,
          "temp_max": 33.3,
          "temp_min": 17.2,
          "weather": "sun",
          "wind": 3.9
         },
         {
          "date": "2015-06-28",
          "precipitation": 0.3,
          "temp_max": 28.3,
          "temp_min": 18.3,
          "weather": "sun",
          "wind": 2.1
         },
         {
          "date": "2015-06-29",
          "precipitation": 0,
          "temp_max": 28.9,
          "temp_min": 17.2,
          "weather": "sun",
          "wind": 2.7
         },
         {
          "date": "2015-06-30",
          "precipitation": 0,
          "temp_max": 30.6,
          "temp_min": 15,
          "weather": "fog",
          "wind": 3.4
         },
         {
          "date": "2015-07-01",
          "precipitation": 0,
          "temp_max": 32.2,
          "temp_min": 17.2,
          "weather": "sun",
          "wind": 4.3
         },
         {
          "date": "2015-07-02",
          "precipitation": 0,
          "temp_max": 33.9,
          "temp_min": 17.8,
          "weather": "sun",
          "wind": 3.4
         },
         {
          "date": "2015-07-03",
          "precipitation": 0,
          "temp_max": 33.3,
          "temp_min": 17.8,
          "weather": "sun",
          "wind": 2.6
         },
         {
          "date": "2015-07-04",
          "precipitation": 0,
          "temp_max": 33.3,
          "temp_min": 15,
          "weather": "sun",
          "wind": 2.9
         },
         {
          "date": "2015-07-05",
          "precipitation": 0,
          "temp_max": 32.8,
          "temp_min": 16.7,
          "weather": "sun",
          "wind": 2.1
         },
         {
          "date": "2015-07-06",
          "precipitation": 0,
          "temp_max": 29.4,
          "temp_min": 15.6,
          "weather": "drizzle",
          "wind": 3.2
         },
         {
          "date": "2015-07-07",
          "precipitation": 0,
          "temp_max": 27.2,
          "temp_min": 13.9,
          "weather": "sun",
          "wind": 2.4
         },
         {
          "date": "2015-07-08",
          "precipitation": 0,
          "temp_max": 30,
          "temp_min": 14.4,
          "weather": "drizzle",
          "wind": 1.9
         },
         {
          "date": "2015-07-09",
          "precipitation": 0,
          "temp_max": 28.9,
          "temp_min": 14.4,
          "weather": "sun",
          "wind": 3.4
         },
         {
          "date": "2015-07-10",
          "precipitation": 0,
          "temp_max": 21.1,
          "temp_min": 16.7,
          "weather": "sun",
          "wind": 3.7
         },
         {
          "date": "2015-07-11",
          "precipitation": 0,
          "temp_max": 22.2,
          "temp_min": 16.7,
          "weather": "sun",
          "wind": 3
         },
         {
          "date": "2015-07-12",
          "precipitation": 0,
          "temp_max": 26.1,
          "temp_min": 16.7,
          "weather": "sun",
          "wind": 2.2
         },
         {
          "date": "2015-07-13",
          "precipitation": 0,
          "temp_max": 25.6,
          "temp_min": 16.1,
          "weather": "sun",
          "wind": 3.1
         },
         {
          "date": "2015-07-14",
          "precipitation": 0,
          "temp_max": 27.8,
          "temp_min": 16.1,
          "weather": "sun",
          "wind": 3.3
         },
         {
          "date": "2015-07-15",
          "precipitation": 0,
          "temp_max": 26.1,
          "temp_min": 14.4,
          "weather": "sun",
          "wind": 3.2
         },
         {
          "date": "2015-07-16",
          "precipitation": 0,
          "temp_max": 26.1,
          "temp_min": 15,
          "weather": "sun",
          "wind": 2.8
         },
         {
          "date": "2015-07-17",
          "precipitation": 0,
          "temp_max": 27.8,
          "temp_min": 13.9,
          "weather": "sun",
          "wind": 3.3
         },
         {
          "date": "2015-07-18",
          "precipitation": 0,
          "temp_max": 33.3,
          "temp_min": 17.8,
          "weather": "sun",
          "wind": 3.4
         },
         {
          "date": "2015-07-19",
          "precipitation": 0,
          "temp_max": 35,
          "temp_min": 17.2,
          "weather": "sun",
          "wind": 3.3
         },
         {
          "date": "2015-07-20",
          "precipitation": 0,
          "temp_max": 26.7,
          "temp_min": 16.7,
          "weather": "sun",
          "wind": 3.9
         },
         {
          "date": "2015-07-21",
          "precipitation": 0,
          "temp_max": 23.9,
          "temp_min": 15,
          "weather": "sun",
          "wind": 2.4
         },
         {
          "date": "2015-07-22",
          "precipitation": 0,
          "temp_max": 23.9,
          "temp_min": 13.9,
          "weather": "sun",
          "wind": 2.8
         },
         {
          "date": "2015-07-23",
          "precipitation": 0,
          "temp_max": 26.1,
          "temp_min": 14.4,
          "weather": "sun",
          "wind": 1.9
         },
         {
          "date": "2015-07-24",
          "precipitation": 0.3,
          "temp_max": 22.8,
          "temp_min": 13.3,
          "weather": "fog",
          "wind": 3.8
         },
         {
          "date": "2015-07-25",
          "precipitation": 0,
          "temp_max": 21.1,
          "temp_min": 14.4,
          "weather": "fog",
          "wind": 2.4
         },
         {
          "date": "2015-07-26",
          "precipitation": 2,
          "temp_max": 22.2,
          "temp_min": 13.9,
          "weather": "fog",
          "wind": 2.6
         },
         {
          "date": "2015-07-27",
          "precipitation": 0,
          "temp_max": 23.3,
          "temp_min": 12.2,
          "weather": "fog",
          "wind": 1.9
         },
         {
          "date": "2015-07-28",
          "precipitation": 0,
          "temp_max": 27.8,
          "temp_min": 13.9,
          "weather": "sun",
          "wind": 3.4
         },
         {
          "date": "2015-07-29",
          "precipitation": 0,
          "temp_max": 32.2,
          "temp_min": 14.4,
          "weather": "sun",
          "wind": 3.8
         },
         {
          "date": "2015-07-30",
          "precipitation": 0,
          "temp_max": 34.4,
          "temp_min": 17.2,
          "weather": "sun",
          "wind": 3.5
         },
         {
          "date": "2015-07-31",
          "precipitation": 0,
          "temp_max": 34.4,
          "temp_min": 17.8,
          "weather": "sun",
          "wind": 2.6
         },
         {
          "date": "2015-08-01",
          "precipitation": 0,
          "temp_max": 33.3,
          "temp_min": 15.6,
          "weather": "sun",
          "wind": 3.1
         },
         {
          "date": "2015-08-02",
          "precipitation": 0,
          "temp_max": 30.6,
          "temp_min": 16.1,
          "weather": "sun",
          "wind": 2
         },
         {
          "date": "2015-08-03",
          "precipitation": 0,
          "temp_max": 28.3,
          "temp_min": 17.2,
          "weather": "sun",
          "wind": 2.3
         },
         {
          "date": "2015-08-04",
          "precipitation": 0,
          "temp_max": 26.1,
          "temp_min": 14.4,
          "weather": "fog",
          "wind": 2.6
         },
         {
          "date": "2015-08-05",
          "precipitation": 0,
          "temp_max": 23.3,
          "temp_min": 12.2,
          "weather": "sun",
          "wind": 3.5
         },
         {
          "date": "2015-08-06",
          "precipitation": 0,
          "temp_max": 25,
          "temp_min": 15,
          "weather": "sun",
          "wind": 2.9
         },
         {
          "date": "2015-08-07",
          "precipitation": 0,
          "temp_max": 28.3,
          "temp_min": 15.6,
          "weather": "sun",
          "wind": 3.7
         },
         {
          "date": "2015-08-08",
          "precipitation": 0,
          "temp_max": 25,
          "temp_min": 15.6,
          "weather": "fog",
          "wind": 3.6
         },
         {
          "date": "2015-08-09",
          "precipitation": 0,
          "temp_max": 28.3,
          "temp_min": 15,
          "weather": "sun",
          "wind": 2.2
         },
         {
          "date": "2015-08-10",
          "precipitation": 0,
          "temp_max": 28.9,
          "temp_min": 16.1,
          "weather": "sun",
          "wind": 2.4
         },
         {
          "date": "2015-08-11",
          "precipitation": 0,
          "temp_max": 30,
          "temp_min": 16.7,
          "weather": "sun",
          "wind": 4.4
         },
         {
          "date": "2015-08-12",
          "precipitation": 7.6,
          "temp_max": 28.3,
          "temp_min": 16.7,
          "weather": "rain",
          "wind": 2.7
         },
         {
          "date": "2015-08-13",
          "precipitation": 0,
          "temp_max": 28.3,
          "temp_min": 15.6,
          "weather": "sun",
          "wind": 2.2
         },
         {
          "date": "2015-08-14",
          "precipitation": 30.5,
          "temp_max": 18.3,
          "temp_min": 15,
          "weather": "rain",
          "wind": 5.2
         },
         {
          "date": "2015-08-15",
          "precipitation": 0,
          "temp_max": 21.7,
          "temp_min": 13.9,
          "weather": "sun",
          "wind": 3.7
         },
         {
          "date": "2015-08-16",
          "precipitation": 0,
          "temp_max": 25,
          "temp_min": 14.4,
          "weather": "sun",
          "wind": 3.7
         },
         {
          "date": "2015-08-17",
          "precipitation": 0,
          "temp_max": 27.2,
          "temp_min": 13.9,
          "weather": "sun",
          "wind": 3
         },
         {
          "date": "2015-08-18",
          "precipitation": 0,
          "temp_max": 30,
          "temp_min": 15,
          "weather": "sun",
          "wind": 3
         },
         {
          "date": "2015-08-19",
          "precipitation": 0,
          "temp_max": 31.7,
          "temp_min": 16.1,
          "weather": "drizzle",
          "wind": 2.1
         },
         {
          "date": "2015-08-20",
          "precipitation": 2,
          "temp_max": 22.8,
          "temp_min": 14.4,
          "weather": "fog",
          "wind": 4.2
         },
         {
          "date": "2015-08-21",
          "precipitation": 0,
          "temp_max": 22.2,
          "temp_min": 14.4,
          "weather": "sun",
          "wind": 2.6
         },
         {
          "date": "2015-08-22",
          "precipitation": 0,
          "temp_max": 26.7,
          "temp_min": 12.2,
          "weather": "drizzle",
          "wind": 2.5
         },
         {
          "date": "2015-08-23",
          "precipitation": 0,
          "temp_max": 27.8,
          "temp_min": 13.9,
          "weather": "drizzle",
          "wind": 1.8
         },
         {
          "date": "2015-08-24",
          "precipitation": 0,
          "temp_max": 23.9,
          "temp_min": 12.2,
          "weather": "sun",
          "wind": 2.3
         },
         {
          "date": "2015-08-25",
          "precipitation": 0,
          "temp_max": 25.6,
          "temp_min": 12.2,
          "weather": "sun",
          "wind": 3.4
         },
         {
          "date": "2015-08-26",
          "precipitation": 0,
          "temp_max": 28.3,
          "temp_min": 13.9,
          "weather": "sun",
          "wind": 1.7
         },
         {
          "date": "2015-08-27",
          "precipitation": 0,
          "temp_max": 29.4,
          "temp_min": 14.4,
          "weather": "sun",
          "wind": 2.1
         },
         {
          "date": "2015-08-28",
          "precipitation": 0.5,
          "temp_max": 23.3,
          "temp_min": 15.6,
          "weather": "fog",
          "wind": 2.6
         },
         {
          "date": "2015-08-29",
          "precipitation": 32.5,
          "temp_max": 22.2,
          "temp_min": 13.3,
          "weather": "fog",
          "wind": 5.8
         },
         {
          "date": "2015-08-30",
          "precipitation": 10.2,
          "temp_max": 20,
          "temp_min": 12.8,
          "weather": "fog",
          "wind": 4.7
         },
         {
          "date": "2015-08-31",
          "precipitation": 0,
          "temp_max": 18.9,
          "temp_min": 16.1,
          "weather": "sun",
          "wind": 5.8
         },
         {
          "date": "2015-09-01",
          "precipitation": 5.8,
          "temp_max": 19.4,
          "temp_min": 13.9,
          "weather": "fog",
          "wind": 5
         },
         {
          "date": "2015-09-02",
          "precipitation": 0,
          "temp_max": 19.4,
          "temp_min": 11.1,
          "weather": "sun",
          "wind": 3.8
         },
         {
          "date": "2015-09-03",
          "precipitation": 0,
          "temp_max": 18.3,
          "temp_min": 10.6,
          "weather": "sun",
          "wind": 2.9
         },
         {
          "date": "2015-09-04",
          "precipitation": 0,
          "temp_max": 18.3,
          "temp_min": 10,
          "weather": "sun",
          "wind": 2.9
         },
         {
          "date": "2015-09-05",
          "precipitation": 0.3,
          "temp_max": 20.6,
          "temp_min": 8.9,
          "weather": "sun",
          "wind": 3.5
         },
         {
          "date": "2015-09-06",
          "precipitation": 5.3,
          "temp_max": 16.1,
          "temp_min": 11.7,
          "weather": "fog",
          "wind": 2.4
         },
         {
          "date": "2015-09-07",
          "precipitation": 0.3,
          "temp_max": 21.1,
          "temp_min": 13.3,
          "weather": "fog",
          "wind": 1.5
         },
         {
          "date": "2015-09-08",
          "precipitation": 0,
          "temp_max": 22.8,
          "temp_min": 13.3,
          "weather": "sun",
          "wind": 2.4
         },
         {
          "date": "2015-09-09",
          "precipitation": 0,
          "temp_max": 24.4,
          "temp_min": 13.9,
          "weather": "sun",
          "wind": 3.3
         },
         {
          "date": "2015-09-10",
          "precipitation": 0,
          "temp_max": 25,
          "temp_min": 14.4,
          "weather": "fog",
          "wind": 3.6
         },
         {
          "date": "2015-09-11",
          "precipitation": 0,
          "temp_max": 27.2,
          "temp_min": 15,
          "weather": "sun",
          "wind": 3.1
         },
         {
          "date": "2015-09-12",
          "precipitation": 0,
          "temp_max": 26.7,
          "temp_min": 14.4,
          "weather": "sun",
          "wind": 2.1
         },
         {
          "date": "2015-09-13",
          "precipitation": 0.5,
          "temp_max": 20.6,
          "temp_min": 12.8,
          "weather": "fog",
          "wind": 3
         },
         {
          "date": "2015-09-14",
          "precipitation": 0,
          "temp_max": 16.7,
          "temp_min": 10.6,
          "weather": "sun",
          "wind": 3.4
         },
         {
          "date": "2015-09-15",
          "precipitation": 0,
          "temp_max": 17.8,
          "temp_min": 10,
          "weather": "sun",
          "wind": 2.8
         },
         {
          "date": "2015-09-16",
          "precipitation": 1,
          "temp_max": 20,
          "temp_min": 10,
          "weather": "sun",
          "wind": 1.9
         },
         {
          "date": "2015-09-17",
          "precipitation": 1.8,
          "temp_max": 18.3,
          "temp_min": 12.8,
          "weather": "fog",
          "wind": 3.8
         },
         {
          "date": "2015-09-18",
          "precipitation": 0,
          "temp_max": 19.4,
          "temp_min": 12.8,
          "weather": "sun",
          "wind": 2.6
         },
         {
          "date": "2015-09-19",
          "precipitation": 0,
          "temp_max": 21.1,
          "temp_min": 14.4,
          "weather": "sun",
          "wind": 4.3
         },
         {
          "date": "2015-09-20",
          "precipitation": 4.1,
          "temp_max": 22.8,
          "temp_min": 12.2,
          "weather": "fog",
          "wind": 6.8
         },
         {
          "date": "2015-09-21",
          "precipitation": 0,
          "temp_max": 18.3,
          "temp_min": 9.4,
          "weather": "fog",
          "wind": 2.7
         },
         {
          "date": "2015-09-22",
          "precipitation": 0,
          "temp_max": 18.9,
          "temp_min": 7.8,
          "weather": "sun",
          "wind": 2
         },
         {
          "date": "2015-09-23",
          "precipitation": 0,
          "temp_max": 20.6,
          "temp_min": 8.3,
          "weather": "sun",
          "wind": 1.8
         },
         {
          "date": "2015-09-24",
          "precipitation": 0,
          "temp_max": 22.2,
          "temp_min": 11.1,
          "weather": "fog",
          "wind": 2.5
         },
         {
          "date": "2015-09-25",
          "precipitation": 2,
          "temp_max": 15.6,
          "temp_min": 12.8,
          "weather": "fog",
          "wind": 2.6
         },
         {
          "date": "2015-09-26",
          "precipitation": 0,
          "temp_max": 18.3,
          "temp_min": 10,
          "weather": "sun",
          "wind": 2.7
         },
         {
          "date": "2015-09-27",
          "precipitation": 0,
          "temp_max": 17.8,
          "temp_min": 7.2,
          "weather": "sun",
          "wind": 3.8
         },
         {
          "date": "2015-09-28",
          "precipitation": 0,
          "temp_max": 21.1,
          "temp_min": 9.4,
          "weather": "sun",
          "wind": 5.1
         },
         {
          "date": "2015-09-29",
          "precipitation": 0,
          "temp_max": 21.7,
          "temp_min": 8.9,
          "weather": "sun",
          "wind": 1.9
         },
         {
          "date": "2015-09-30",
          "precipitation": 0,
          "temp_max": 18.3,
          "temp_min": 10,
          "weather": "fog",
          "wind": 1.3
         },
         {
          "date": "2015-10-01",
          "precipitation": 0,
          "temp_max": 21.1,
          "temp_min": 9.4,
          "weather": "fog",
          "wind": 1.3
         },
         {
          "date": "2015-10-02",
          "precipitation": 0,
          "temp_max": 15.6,
          "temp_min": 10,
          "weather": "fog",
          "wind": 2.9
         },
         {
          "date": "2015-10-03",
          "precipitation": 0,
          "temp_max": 19.4,
          "temp_min": 11.1,
          "weather": "sun",
          "wind": 4.8
         },
         {
          "date": "2015-10-04",
          "precipitation": 0,
          "temp_max": 22.8,
          "temp_min": 10,
          "weather": "sun",
          "wind": 3.7
         },
         {
          "date": "2015-10-05",
          "precipitation": 0,
          "temp_max": 23.3,
          "temp_min": 9.4,
          "weather": "sun",
          "wind": 1.6
         },
         {
          "date": "2015-10-06",
          "precipitation": 0,
          "temp_max": 18.3,
          "temp_min": 10,
          "weather": "drizzle",
          "wind": 2.6
         },
         {
          "date": "2015-10-07",
          "precipitation": 9.9,
          "temp_max": 16.1,
          "temp_min": 13.9,
          "weather": "fog",
          "wind": 2.2
         },
         {
          "date": "2015-10-08",
          "precipitation": 0,
          "temp_max": 18.9,
          "temp_min": 13.3,
          "weather": "fog",
          "wind": 1.1
         },
         {
          "date": "2015-10-09",
          "precipitation": 0.3,
          "temp_max": 19.4,
          "temp_min": 12.2,
          "weather": "fog",
          "wind": 2.6
         },
         {
          "date": "2015-10-10",
          "precipitation": 28.7,
          "temp_max": 21.1,
          "temp_min": 13.3,
          "weather": "fog",
          "wind": 4.7
         },
         {
          "date": "2015-10-11",
          "precipitation": 0,
          "temp_max": 17.8,
          "temp_min": 10.6,
          "weather": "sun",
          "wind": 2.6
         },
         {
          "date": "2015-10-12",
          "precipitation": 4.6,
          "temp_max": 18.3,
          "temp_min": 10.6,
          "weather": "fog",
          "wind": 2.8
         },
         {
          "date": "2015-10-13",
          "precipitation": 1.3,
          "temp_max": 16.7,
          "temp_min": 9.4,
          "weather": "fog",
          "wind": 3.2
         },
         {
          "date": "2015-10-14",
          "precipitation": 0,
          "temp_max": 15,
          "temp_min": 10,
          "weather": "fog",
          "wind": 5
         },
         {
          "date": "2015-10-15",
          "precipitation": 0,
          "temp_max": 21.1,
          "temp_min": 9.4,
          "weather": "fog",
          "wind": 3.4
         },
         {
          "date": "2015-10-16",
          "precipitation": 0,
          "temp_max": 20,
          "temp_min": 8.9,
          "weather": "sun",
          "wind": 1.3
         },
         {
          "date": "2015-10-17",
          "precipitation": 0.3,
          "temp_max": 19.4,
          "temp_min": 11.7,
          "weather": "fog",
          "wind": 1.3
         },
         {
          "date": "2015-10-18",
          "precipitation": 3.8,
          "temp_max": 15,
          "temp_min": 12.8,
          "weather": "fog",
          "wind": 2
         },
         {
          "date": "2015-10-19",
          "precipitation": 0.3,
          "temp_max": 17.2,
          "temp_min": 12.2,
          "weather": "fog",
          "wind": 2.6
         },
         {
          "date": "2015-10-20",
          "precipitation": 0,
          "temp_max": 17.8,
          "temp_min": 10.6,
          "weather": "fog",
          "wind": 1.8
         },
         {
          "date": "2015-10-21",
          "precipitation": 0,
          "temp_max": 16.1,
          "temp_min": 8.3,
          "weather": "fog",
          "wind": 1.3
         },
         {
          "date": "2015-10-22",
          "precipitation": 0,
          "temp_max": 16.1,
          "temp_min": 8.9,
          "weather": "fog",
          "wind": 2.7
         },
         {
          "date": "2015-10-23",
          "precipitation": 0,
          "temp_max": 12.8,
          "temp_min": 7.2,
          "weather": "fog",
          "wind": 2.6
         },
         {
          "date": "2015-10-24",
          "precipitation": 0,
          "temp_max": 15,
          "temp_min": 8.9,
          "weather": "fog",
          "wind": 2.9
         },
         {
          "date": "2015-10-25",
          "precipitation": 8.9,
          "temp_max": 19.4,
          "temp_min": 8.9,
          "weather": "rain",
          "wind": 3.4
         },
         {
          "date": "2015-10-26",
          "precipitation": 6.9,
          "temp_max": 12.2,
          "temp_min": 10,
          "weather": "fog",
          "wind": 4.6
         },
         {
          "date": "2015-10-27",
          "precipitation": 0,
          "temp_max": 16.1,
          "temp_min": 7.8,
          "weather": "fog",
          "wind": 1.7
         },
         {
          "date": "2015-10-28",
          "precipitation": 3.3,
          "temp_max": 13.9,
          "temp_min": 11.1,
          "weather": "fog",
          "wind": 2.8
         },
         {
          "date": "2015-10-29",
          "precipitation": 1.8,
          "temp_max": 15,
          "temp_min": 12.2,
          "weather": "fog",
          "wind": 4.7
         },
         {
          "date": "2015-10-30",
          "precipitation": 19.3,
          "temp_max": 17.2,
          "temp_min": 11.7,
          "weather": "fog",
          "wind": 6.7
         },
         {
          "date": "2015-10-31",
          "precipitation": 33,
          "temp_max": 15.6,
          "temp_min": 11.7,
          "weather": "fog",
          "wind": 7.2
         },
         {
          "date": "2015-11-01",
          "precipitation": 26.2,
          "temp_max": 12.2,
          "temp_min": 8.9,
          "weather": "fog",
          "wind": 6
         },
         {
          "date": "2015-11-02",
          "precipitation": 0.3,
          "temp_max": 11.1,
          "temp_min": 7.2,
          "weather": "fog",
          "wind": 2.8
         },
         {
          "date": "2015-11-03",
          "precipitation": 0.8,
          "temp_max": 10.6,
          "temp_min": 5,
          "weather": "fog",
          "wind": 1.4
         },
         {
          "date": "2015-11-04",
          "precipitation": 0,
          "temp_max": 10,
          "temp_min": 3.3,
          "weather": "sun",
          "wind": 2.2
         },
         {
          "date": "2015-11-05",
          "precipitation": 1.3,
          "temp_max": 11.7,
          "temp_min": 7.8,
          "weather": "fog",
          "wind": 2.3
         },
         {
          "date": "2015-11-06",
          "precipitation": 0,
          "temp_max": 15.6,
          "temp_min": 8.3,
          "weather": "fog",
          "wind": 2.7
         },
         {
          "date": "2015-11-07",
          "precipitation": 12.7,
          "temp_max": 12.2,
          "temp_min": 9.4,
          "weather": "fog",
          "wind": 3
         },
         {
          "date": "2015-11-08",
          "precipitation": 6.6,
          "temp_max": 11.1,
          "temp_min": 7.8,
          "weather": "fog",
          "wind": 1.8
         },
         {
          "date": "2015-11-09",
          "precipitation": 3.3,
          "temp_max": 10,
          "temp_min": 5,
          "weather": "fog",
          "wind": 1.3
         },
         {
          "date": "2015-11-10",
          "precipitation": 1.3,
          "temp_max": 11.1,
          "temp_min": 3.9,
          "weather": "fog",
          "wind": 3.9
         },
         {
          "date": "2015-11-11",
          "precipitation": 1.5,
          "temp_max": 11.1,
          "temp_min": 6.1,
          "weather": "sun",
          "wind": 4.6
         },
         {
          "date": "2015-11-12",
          "precipitation": 9.9,
          "temp_max": 11.1,
          "temp_min": 5,
          "weather": "fog",
          "wind": 5.1
         },
         {
          "date": "2015-11-13",
          "precipitation": 33.5,
          "temp_max": 13.3,
          "temp_min": 9.4,
          "weather": "fog",
          "wind": 6.5
         },
         {
          "date": "2015-11-14",
          "precipitation": 47.2,
          "temp_max": 9.4,
          "temp_min": 6.1,
          "weather": "fog",
          "wind": 4.5
         },
         {
          "date": "2015-11-15",
          "precipitation": 22.4,
          "temp_max": 8.9,
          "temp_min": 2.2,
          "weather": "fog",
          "wind": 4.1
         },
         {
          "date": "2015-11-16",
          "precipitation": 2,
          "temp_max": 8.9,
          "temp_min": 1.7,
          "weather": "fog",
          "wind": 4
         },
         {
          "date": "2015-11-17",
          "precipitation": 29.5,
          "temp_max": 13.3,
          "temp_min": 6.7,
          "weather": "fog",
          "wind": 8
         },
         {
          "date": "2015-11-18",
          "precipitation": 1.5,
          "temp_max": 8.9,
          "temp_min": 3.3,
          "weather": "sun",
          "wind": 3.8
         },
         {
          "date": "2015-11-19",
          "precipitation": 2,
          "temp_max": 8.9,
          "temp_min": 2.8,
          "weather": "sun",
          "wind": 4.2
         },
         {
          "date": "2015-11-20",
          "precipitation": 0,
          "temp_max": 8.3,
          "temp_min": 0.6,
          "weather": "fog",
          "wind": 4
         },
         {
          "date": "2015-11-21",
          "precipitation": 0,
          "temp_max": 8.9,
          "temp_min": 0.6,
          "weather": "sun",
          "wind": 4.7
         },
         {
          "date": "2015-11-22",
          "precipitation": 0,
          "temp_max": 10,
          "temp_min": 1.7,
          "weather": "fog",
          "wind": 3.1
         },
         {
          "date": "2015-11-23",
          "precipitation": 3,
          "temp_max": 6.7,
          "temp_min": 0,
          "weather": "fog",
          "wind": 1.3
         },
         {
          "date": "2015-11-24",
          "precipitation": 7.1,
          "temp_max": 6.7,
          "temp_min": 2.8,
          "weather": "fog",
          "wind": 4.5
         },
         {
          "date": "2015-11-25",
          "precipitation": 0,
          "temp_max": 7.2,
          "temp_min": 0,
          "weather": "sun",
          "wind": 5.7
         },
         {
          "date": "2015-11-26",
          "precipitation": 0,
          "temp_max": 9.4,
          "temp_min": -1,
          "weather": "sun",
          "wind": 4.3
         },
         {
          "date": "2015-11-27",
          "precipitation": 0,
          "temp_max": 9.4,
          "temp_min": -1.6,
          "weather": "sun",
          "wind": 3
         },
         {
          "date": "2015-11-28",
          "precipitation": 0,
          "temp_max": 7.2,
          "temp_min": -2.7,
          "weather": "sun",
          "wind": 1
         },
         {
          "date": "2015-11-29",
          "precipitation": 0,
          "temp_max": 1.7,
          "temp_min": -2.1,
          "weather": "fog",
          "wind": 0.9
         },
         {
          "date": "2015-11-30",
          "precipitation": 0.5,
          "temp_max": 5.6,
          "temp_min": -3.8,
          "weather": "fog",
          "wind": 1.7
         },
         {
          "date": "2015-12-01",
          "precipitation": 12.2,
          "temp_max": 10,
          "temp_min": 3.9,
          "weather": "fog",
          "wind": 3.5
         },
         {
          "date": "2015-12-02",
          "precipitation": 2.5,
          "temp_max": 10.6,
          "temp_min": 4.4,
          "weather": "fog",
          "wind": 5
         },
         {
          "date": "2015-12-03",
          "precipitation": 12.7,
          "temp_max": 15.6,
          "temp_min": 7.8,
          "weather": "fog",
          "wind": 5.9
         },
         {
          "date": "2015-12-04",
          "precipitation": 2,
          "temp_max": 10.6,
          "temp_min": 6.1,
          "weather": "fog",
          "wind": 4.7
         },
         {
          "date": "2015-12-05",
          "precipitation": 15.7,
          "temp_max": 10,
          "temp_min": 6.1,
          "weather": "fog",
          "wind": 4
         },
         {
          "date": "2015-12-06",
          "precipitation": 11.2,
          "temp_max": 12.8,
          "temp_min": 7.2,
          "weather": "fog",
          "wind": 5.9
         },
         {
          "date": "2015-12-07",
          "precipitation": 27.4,
          "temp_max": 11.1,
          "temp_min": 8.3,
          "weather": "fog",
          "wind": 3.4
         },
         {
          "date": "2015-12-08",
          "precipitation": 54.1,
          "temp_max": 15.6,
          "temp_min": 10,
          "weather": "fog",
          "wind": 6.2
         },
         {
          "date": "2015-12-09",
          "precipitation": 13.5,
          "temp_max": 12.2,
          "temp_min": 7.8,
          "weather": "fog",
          "wind": 6.3
         },
         {
          "date": "2015-12-10",
          "precipitation": 9.4,
          "temp_max": 11.7,
          "temp_min": 6.1,
          "weather": "fog",
          "wind": 7.5
         },
         {
          "date": "2015-12-11",
          "precipitation": 0.3,
          "temp_max": 9.4,
          "temp_min": 4.4,
          "weather": "sun",
          "wind": 2.8
         },
         {
          "date": "2015-12-12",
          "precipitation": 16,
          "temp_max": 8.9,
          "temp_min": 5.6,
          "weather": "fog",
          "wind": 5.6
         },
         {
          "date": "2015-12-13",
          "precipitation": 1.3,
          "temp_max": 7.8,
          "temp_min": 6.1,
          "weather": "sun",
          "wind": 6.1
         },
         {
          "date": "2015-12-14",
          "precipitation": 0,
          "temp_max": 7.8,
          "temp_min": 1.7,
          "weather": "sun",
          "wind": 1.7
         },
         {
          "date": "2015-12-15",
          "precipitation": 1.5,
          "temp_max": 6.7,
          "temp_min": 1.1,
          "weather": "fog",
          "wind": 2.9
         },
         {
          "date": "2015-12-16",
          "precipitation": 3.6,
          "temp_max": 6.1,
          "temp_min": 2.8,
          "weather": "fog",
          "wind": 2.3
         },
         {
          "date": "2015-12-17",
          "precipitation": 21.8,
          "temp_max": 6.7,
          "temp_min": 3.9,
          "weather": "fog",
          "wind": 6
         },
         {
          "date": "2015-12-18",
          "precipitation": 18.5,
          "temp_max": 8.9,
          "temp_min": 4.4,
          "weather": "fog",
          "wind": 5.1
         },
         {
          "date": "2015-12-19",
          "precipitation": 0,
          "temp_max": 8.3,
          "temp_min": 2.8,
          "weather": "fog",
          "wind": 4.1
         },
         {
          "date": "2015-12-20",
          "precipitation": 4.3,
          "temp_max": 7.8,
          "temp_min": 4.4,
          "weather": "fog",
          "wind": 6.7
         },
         {
          "date": "2015-12-21",
          "precipitation": 27.4,
          "temp_max": 5.6,
          "temp_min": 2.8,
          "weather": "fog",
          "wind": 4.3
         },
         {
          "date": "2015-12-22",
          "precipitation": 4.6,
          "temp_max": 7.8,
          "temp_min": 2.8,
          "weather": "fog",
          "wind": 5
         },
         {
          "date": "2015-12-23",
          "precipitation": 6.1,
          "temp_max": 5,
          "temp_min": 2.8,
          "weather": "fog",
          "wind": 7.6
         },
         {
          "date": "2015-12-24",
          "precipitation": 2.5,
          "temp_max": 5.6,
          "temp_min": 2.2,
          "weather": "fog",
          "wind": 4.3
         },
         {
          "date": "2015-12-25",
          "precipitation": 5.8,
          "temp_max": 5,
          "temp_min": 2.2,
          "weather": "fog",
          "wind": 1.5
         },
         {
          "date": "2015-12-26",
          "precipitation": 0,
          "temp_max": 4.4,
          "temp_min": 0,
          "weather": "sun",
          "wind": 2.5
         },
         {
          "date": "2015-12-27",
          "precipitation": 8.6,
          "temp_max": 4.4,
          "temp_min": 1.7,
          "weather": "fog",
          "wind": 2.9
         },
         {
          "date": "2015-12-28",
          "precipitation": 1.5,
          "temp_max": 5,
          "temp_min": 1.7,
          "weather": "fog",
          "wind": 1.3
         },
         {
          "date": "2015-12-29",
          "precipitation": 0,
          "temp_max": 7.2,
          "temp_min": 0.6,
          "weather": "fog",
          "wind": 2.6
         },
         {
          "date": "2015-12-30",
          "precipitation": 0,
          "temp_max": 5.6,
          "temp_min": -1,
          "weather": "sun",
          "wind": 3.4
         },
         {
          "date": "2015-12-31",
          "precipitation": 0,
          "temp_max": 5.6,
          "temp_min": -2.1,
          "weather": "sun",
          "wind": 3.5
         }
        ]
       },
       "encoding": {
        "color": {
         "aggregate": "mean",
         "field": "temp_max",
         "type": "quantitative"
        },
        "x": {
         "field": "date",
         "timeUnit": "date",
         "type": "ordinal"
        },
        "y": {
         "field": "date",
         "timeUnit": "month",
         "type": "ordinal"
        }
       },
       "height": 400,
       "mark": "bar",
       "width": 900
      },
      "image/png": "[encoded data removed]",
      "text/plain": [
       "<VegaLite 2 object>\n",
       "\n",
       "If you see this message, it means the renderer has not been properly enabled\n",
       "for the frontend that you are using. For more information, see\n",
       "https://altair-viz.github.io/user_guide/troubleshooting.html\n"
      ]
     },
     "execution_count": 3,
     "metadata": {},
     "output_type": "execute_result"
    }
   ],
   "source": [
    "(alt\n",
    " .Chart(data=weather,\n",
    "        height=400, width=900)\n",
    " .mark_bar()\n",
    " .encode(alt.X('date:O', timeUnit='date'),\n",
    "         alt.Y('date:O', timeUnit='month'),\n",
    "         alt.Color('mean(temp_max):Q')\n",
    " )\n",
    ")"
   ]
  },
  {
   "cell_type": "markdown",
   "metadata": {},
   "source": [
    "## Gapminder\n",
    "\n",
    "This data consists of population, fertility, and life expectancy over time in a number of countries around the world.\n",
    "\n",
    "Note that, while you may be tempted to use a temporal encoding for the year, here the year is simply a number, not a date stamp, and so temporal encoding is not the best choice here."
   ]
  },
  {
   "cell_type": "code",
   "execution_count": 6,
   "metadata": {},
   "outputs": [
    {
     "data": {
      "application/vnd.vegalite.v2+json": {
       "$schema": "https://vega.github.io/schema/vega-lite/v2.4.1.json",
       "config": {
        "view": {
         "height": 300,
         "width": 400
        }
       },
       "data": {
        "values": [
         {
          "cluster": 0,
          "country": "Afghanistan",
          "fertility": 7.7,
          "life_expect": 30.332,
          "pop": 8891209,
          "year": 1955
         },
         {
          "cluster": 0,
          "country": "Afghanistan",
          "fertility": 7.7,
          "life_expect": 31.997,
          "pop": 9829450,
          "year": 1960
         },
         {
          "cluster": 0,
          "country": "Afghanistan",
          "fertility": 7.7,
          "life_expect": 34.02,
          "pop": 10997885,
          "year": 1965
         },
         {
          "cluster": 0,
          "country": "Afghanistan",
          "fertility": 7.7,
          "life_expect": 36.088,
          "pop": 12430623,
          "year": 1970
         },
         {
          "cluster": 0,
          "country": "Afghanistan",
          "fertility": 7.7,
          "life_expect": 38.438,
          "pop": 14132019,
          "year": 1975
         },
         {
          "cluster": 0,
          "country": "Afghanistan",
          "fertility": 7.8,
          "life_expect": 39.854,
          "pop": 15112149,
          "year": 1980
         },
         {
          "cluster": 0,
          "country": "Afghanistan",
          "fertility": 7.9,
          "life_expect": 40.822,
          "pop": 13796928,
          "year": 1985
         },
         {
          "cluster": 0,
          "country": "Afghanistan",
          "fertility": 8,
          "life_expect": 41.674,
          "pop": 14669339,
          "year": 1990
         },
         {
          "cluster": 0,
          "country": "Afghanistan",
          "fertility": 8,
          "life_expect": 41.763,
          "pop": 20881480,
          "year": 1995
         },
         {
          "cluster": 0,
          "country": "Afghanistan",
          "fertility": 7.4792,
          "life_expect": 42.129,
          "pop": 23898198,
          "year": 2000
         },
         {
          "cluster": 0,
          "country": "Afghanistan",
          "fertility": 7.0685,
          "life_expect": 43.828,
          "pop": 29928987,
          "year": 2005
         },
         {
          "cluster": 3,
          "country": "Argentina",
          "fertility": 3.1265,
          "life_expect": 64.399,
          "pop": 18927821,
          "year": 1955
         },
         {
          "cluster": 3,
          "country": "Argentina",
          "fertility": 3.0895,
          "life_expect": 65.142,
          "pop": 20616009,
          "year": 1960
         },
         {
          "cluster": 3,
          "country": "Argentina",
          "fertility": 3.049,
          "life_expect": 65.634,
          "pop": 22283100,
          "year": 1965
         },
         {
          "cluster": 3,
          "country": "Argentina",
          "fertility": 3.1455,
          "life_expect": 67.065,
          "pop": 23962313,
          "year": 1970
         },
         {
          "cluster": 3,
          "country": "Argentina",
          "fertility": 3.44,
          "life_expect": 68.481,
          "pop": 26081880,
          "year": 1975
         },
         {
          "cluster": 3,
          "country": "Argentina",
          "fertility": 3.15,
          "life_expect": 69.942,
          "pop": 28369799,
          "year": 1980
         },
         {
          "cluster": 3,
          "country": "Argentina",
          "fertility": 3.053,
          "life_expect": 70.774,
          "pop": 30675059,
          "year": 1985
         },
         {
          "cluster": 3,
          "country": "Argentina",
          "fertility": 2.9,
          "life_expect": 71.868,
          "pop": 33022202,
          "year": 1990
         },
         {
          "cluster": 3,
          "country": "Argentina",
          "fertility": 2.63,
          "life_expect": 73.275,
          "pop": 35311049,
          "year": 1995
         },
         {
          "cluster": 3,
          "country": "Argentina",
          "fertility": 2.35,
          "life_expect": 74.34,
          "pop": 37497728,
          "year": 2000
         },
         {
          "cluster": 3,
          "country": "Argentina",
          "fertility": 2.254,
          "life_expect": 75.32,
          "pop": 39537943,
          "year": 2005
         },
         {
          "cluster": 3,
          "country": "Aruba",
          "fertility": 5.15,
          "life_expect": 64.381,
          "pop": 53865,
          "year": 1955
         },
         {
          "cluster": 3,
          "country": "Aruba",
          "fertility": 4.399,
          "life_expect": 66.606,
          "pop": 57203,
          "year": 1960
         },
         {
          "cluster": 3,
          "country": "Aruba",
          "fertility": 3.301,
          "life_expect": 68.336,
          "pop": 59020,
          "year": 1965
         },
         {
          "cluster": 3,
          "country": "Aruba",
          "fertility": 2.651,
          "life_expect": 70.941,
          "pop": 59039,
          "year": 1970
         },
         {
          "cluster": 3,
          "country": "Aruba",
          "fertility": 2.45,
          "life_expect": 71.83,
          "pop": 59390,
          "year": 1975
         },
         {
          "cluster": 3,
          "country": "Aruba",
          "fertility": 2.358,
          "life_expect": 74.116,
          "pop": 60266,
          "year": 1980
         },
         {
          "cluster": 3,
          "country": "Aruba",
          "fertility": 2.3,
          "life_expect": 74.494,
          "pop": 64129,
          "year": 1985
         },
         {
          "cluster": 3,
          "country": "Aruba",
          "fertility": 2.2800000000000002,
          "life_expect": 74.108,
          "pop": 66653,
          "year": 1990
         },
         {
          "cluster": 3,
          "country": "Aruba",
          "fertility": 2.208,
          "life_expect": 73.011,
          "pop": 67836,
          "year": 1995
         },
         {
          "cluster": 3,
          "country": "Aruba",
          "fertility": 2.124,
          "life_expect": 73.451,
          "pop": 69539,
          "year": 2000
         },
         {
          "cluster": 3,
          "country": "Aruba",
          "fertility": 2.04,
          "life_expect": 74.239,
          "pop": 71566,
          "year": 2005
         },
         {
          "cluster": 4,
          "country": "Australia",
          "fertility": 3.406,
          "life_expect": 70.33,
          "pop": 9277087,
          "year": 1955
         },
         {
          "cluster": 4,
          "country": "Australia",
          "fertility": 3.274,
          "life_expect": 70.93,
          "pop": 10361273,
          "year": 1960
         },
         {
          "cluster": 4,
          "country": "Australia",
          "fertility": 2.871,
          "life_expect": 71.1,
          "pop": 11439384,
          "year": 1965
         },
         {
          "cluster": 4,
          "country": "Australia",
          "fertility": 2.535,
          "life_expect": 71.93,
          "pop": 12660160,
          "year": 1970
         },
         {
          "cluster": 4,
          "country": "Australia",
          "fertility": 1.9889999999999999,
          "life_expect": 73.49,
          "pop": 13771400,
          "year": 1975
         },
         {
          "cluster": 4,
          "country": "Australia",
          "fertility": 1.907,
          "life_expect": 74.74,
          "pop": 14615900,
          "year": 1980
         },
         {
          "cluster": 4,
          "country": "Australia",
          "fertility": 1.859,
          "life_expect": 76.32,
          "pop": 15788300,
          "year": 1985
         },
         {
          "cluster": 4,
          "country": "Australia",
          "fertility": 1.8599999999999999,
          "life_expect": 77.56,
          "pop": 17022133,
          "year": 1990
         },
         {
          "cluster": 4,
          "country": "Australia",
          "fertility": 1.776,
          "life_expect": 78.83,
          "pop": 18116171,
          "year": 1995
         },
         {
          "cluster": 4,
          "country": "Australia",
          "fertility": 1.756,
          "life_expect": 80.37,
          "pop": 19164620,
          "year": 2000
         },
         {
          "cluster": 4,
          "country": "Australia",
          "fertility": 1.788,
          "life_expect": 81.235,
          "pop": 20090437,
          "year": 2005
         },
         {
          "cluster": 1,
          "country": "Austria",
          "fertility": 2.52,
          "life_expect": 67.48,
          "pop": 6946885,
          "year": 1955
         },
         {
          "cluster": 1,
          "country": "Austria",
          "fertility": 2.7800000000000002,
          "life_expect": 69.54,
          "pop": 7047437,
          "year": 1960
         },
         {
          "cluster": 1,
          "country": "Austria",
          "fertility": 2.5300000000000002,
          "life_expect": 70.14,
          "pop": 7270889,
          "year": 1965
         },
         {
          "cluster": 1,
          "country": "Austria",
          "fertility": 2.02,
          "life_expect": 70.63,
          "pop": 7467086,
          "year": 1970
         },
         {
          "cluster": 1,
          "country": "Austria",
          "fertility": 1.6400000000000001,
          "life_expect": 72.17,
          "pop": 7578903,
          "year": 1975
         },
         {
          "cluster": 1,
          "country": "Austria",
          "fertility": 1.62,
          "life_expect": 73.18,
          "pop": 7549433,
          "year": 1980
         },
         {
          "cluster": 1,
          "country": "Austria",
          "fertility": 1.45,
          "life_expect": 74.94,
          "pop": 7559776,
          "year": 1985
         },
         {
          "cluster": 1,
          "country": "Austria",
          "fertility": 1.47,
          "life_expect": 76.04,
          "pop": 7722953,
          "year": 1990
         },
         {
          "cluster": 1,
          "country": "Austria",
          "fertility": 1.388,
          "life_expect": 77.51,
          "pop": 8047433,
          "year": 1995
         },
         {
          "cluster": 1,
          "country": "Austria",
          "fertility": 1.3820000000000001,
          "life_expect": 78.98,
          "pop": 8113413,
          "year": 2000
         },
         {
          "cluster": 1,
          "country": "Austria",
          "fertility": 1.42,
          "life_expect": 79.829,
          "pop": 8184691,
          "year": 2005
         },
         {
          "cluster": 3,
          "country": "Bahamas",
          "fertility": 4.305,
          "life_expect": 62.405,
          "pop": 87138,
          "year": 1955
         },
         {
          "cluster": 3,
          "country": "Bahamas",
          "fertility": 4.503,
          "life_expect": 64.209,
          "pop": 112234,
          "year": 1960
         },
         {
          "cluster": 3,
          "country": "Bahamas",
          "fertility": 3.794,
          "life_expect": 65.795,
          "pop": 139205,
          "year": 1965
         },
         {
          "cluster": 3,
          "country": "Bahamas",
          "fertility": 3.444,
          "life_expect": 66.515,
          "pop": 170323,
          "year": 1970
         },
         {
          "cluster": 3,
          "country": "Bahamas",
          "fertility": 3.221,
          "life_expect": 67.199,
          "pop": 189139,
          "year": 1975
         },
         {
          "cluster": 3,
          "country": "Bahamas",
          "fertility": 3.16,
          "life_expect": 67.874,
          "pop": 209944,
          "year": 1980
         },
         {
          "cluster": 3,
          "country": "Bahamas",
          "fertility": 2.62,
          "life_expect": 69.524,
          "pop": 234988,
          "year": 1985
         },
         {
          "cluster": 3,
          "country": "Bahamas",
          "fertility": 2.6,
          "life_expect": 69.171,
          "pop": 257253,
          "year": 1990
         },
         {
          "cluster": 3,
          "country": "Bahamas",
          "fertility": 2.4,
          "life_expect": 68.472,
          "pop": 275303,
          "year": 1995
         },
         {
          "cluster": 3,
          "country": "Bahamas",
          "fertility": 2.1111,
          "life_expect": 71.068,
          "pop": 290075,
          "year": 2000
         },
         {
          "cluster": 3,
          "country": "Bahamas",
          "fertility": 2.0221,
          "life_expect": 73.495,
          "pop": 301790,
          "year": 2005
         },
         {
          "cluster": 0,
          "country": "Bangladesh",
          "fertility": 6.76,
          "life_expect": 39.348,
          "pop": 49601520,
          "year": 1955
         },
         {
          "cluster": 0,
          "country": "Bangladesh",
          "fertility": 6.85,
          "life_expect": 41.216,
          "pop": 54621538,
          "year": 1960
         },
         {
          "cluster": 0,
          "country": "Bangladesh",
          "fertility": 6.6,
          "life_expect": 43.453,
          "pop": 60332117,
          "year": 1965
         },
         {
          "cluster": 0,
          "country": "Bangladesh",
          "fertility": 6.15,
          "life_expect": 45.252,
          "pop": 67402621,
          "year": 1970
         },
         {
          "cluster": 0,
          "country": "Bangladesh",
          "fertility": 5.6,
          "life_expect": 46.923,
          "pop": 76253310,
          "year": 1975
         },
         {
          "cluster": 0,
          "country": "Bangladesh",
          "fertility": 5.25,
          "life_expect": 50.009,
          "pop": 88076996,
          "year": 1980
         },
         {
          "cluster": 0,
          "country": "Bangladesh",
          "fertility": 4.629,
          "life_expect": 52.819,
          "pop": 99752733,
          "year": 1985
         },
         {
          "cluster": 0,
          "country": "Bangladesh",
          "fertility": 4.117,
          "life_expect": 56.018,
          "pop": 109896945,
          "year": 1990
         },
         {
          "cluster": 0,
          "country": "Bangladesh",
          "fertility": 3.5042999999999997,
          "life_expect": 59.412,
          "pop": 119186448,
          "year": 1995
         },
         {
          "cluster": 0,
          "country": "Bangladesh",
          "fertility": 3.224,
          "life_expect": 62.013,
          "pop": 130406594,
          "year": 2000
         },
         {
          "cluster": 0,
          "country": "Bangladesh",
          "fertility": 2.826,
          "life_expect": 64.062,
          "pop": 144319628,
          "year": 2005
         },
         {
          "cluster": 3,
          "country": "Barbados",
          "fertility": 4.67,
          "life_expect": 62.57,
          "pop": 227255,
          "year": 1955
         },
         {
          "cluster": 3,
          "country": "Barbados",
          "fertility": 4.26,
          "life_expect": 65.87,
          "pop": 232339,
          "year": 1960
         },
         {
          "cluster": 3,
          "country": "Barbados",
          "fertility": 3.45,
          "life_expect": 67.62,
          "pop": 234980,
          "year": 1965
         },
         {
          "cluster": 3,
          "country": "Barbados",
          "fertility": 2.74,
          "life_expect": 69.42,
          "pop": 238756,
          "year": 1970
         },
         {
          "cluster": 3,
          "country": "Barbados",
          "fertility": 2.19,
          "life_expect": 71.27,
          "pop": 247147,
          "year": 1975
         },
         {
          "cluster": 3,
          "country": "Barbados",
          "fertility": 1.92,
          "life_expect": 72.695,
          "pop": 251966,
          "year": 1980
         },
         {
          "cluster": 3,
          "country": "Barbados",
          "fertility": 1.75,
          "life_expect": 74.027,
          "pop": 257446,
          "year": 1985
         },
         {
          "cluster": 3,
          "country": "Barbados",
          "fertility": 1.6,
          "life_expect": 74.894,
          "pop": 262624,
          "year": 1990
         },
         {
          "cluster": 3,
          "country": "Barbados",
          "fertility": 1.5,
          "life_expect": 74.912,
          "pop": 267907,
          "year": 1995
         },
         {
          "cluster": 3,
          "country": "Barbados",
          "fertility": 1.5,
          "life_expect": 75.97,
          "pop": 273483,
          "year": 2000
         },
         {
          "cluster": 3,
          "country": "Barbados",
          "fertility": 1.5,
          "life_expect": 77.296,
          "pop": 278870,
          "year": 2005
         },
         {
          "cluster": 1,
          "country": "Belgium",
          "fertility": 2.496,
          "life_expect": 69.24,
          "pop": 8868475,
          "year": 1955
         },
         {
          "cluster": 1,
          "country": "Belgium",
          "fertility": 2.644,
          "life_expect": 70.25,
          "pop": 9118700,
          "year": 1960
         },
         {
          "cluster": 1,
          "country": "Belgium",
          "fertility": 2.392,
          "life_expect": 70.94,
          "pop": 9448100,
          "year": 1965
         },
         {
          "cluster": 1,
          "country": "Belgium",
          "fertility": 2.015,
          "life_expect": 71.44,
          "pop": 9637800,
          "year": 1970
         },
         {
          "cluster": 1,
          "country": "Belgium",
          "fertility": 1.705,
          "life_expect": 72.8,
          "pop": 9794800,
          "year": 1975
         },
         {
          "cluster": 1,
          "country": "Belgium",
          "fertility": 1.595,
          "life_expect": 73.93,
          "pop": 9846800,
          "year": 1980
         },
         {
          "cluster": 1,
          "country": "Belgium",
          "fertility": 1.5590000000000002,
          "life_expect": 75.35,
          "pop": 9858200,
          "year": 1985
         },
         {
          "cluster": 1,
          "country": "Belgium",
          "fertility": 1.613,
          "life_expect": 76.46,
          "pop": 9969310,
          "year": 1990
         },
         {
          "cluster": 1,
          "country": "Belgium",
          "fertility": 1.604,
          "life_expect": 77.53,
          "pop": 10155459,
          "year": 1995
         },
         {
          "cluster": 1,
          "country": "Belgium",
          "fertility": 1.638,
          "life_expect": 78.32,
          "pop": 10263618,
          "year": 2000
         },
         {
          "cluster": 1,
          "country": "Belgium",
          "fertility": 1.646,
          "life_expect": 79.441,
          "pop": 10364388,
          "year": 2005
         },
         {
          "cluster": 3,
          "country": "Bolivia",
          "fertility": 6.75,
          "life_expect": 41.89,
          "pop": 3074311,
          "year": 1955
         },
         {
          "cluster": 3,
          "country": "Bolivia",
          "fertility": 6.63,
          "life_expect": 43.428,
          "pop": 3434073,
          "year": 1960
         },
         {
          "cluster": 3,
          "country": "Bolivia",
          "fertility": 6.5600000000000005,
          "life_expect": 45.032,
          "pop": 3853315,
          "year": 1965
         },
         {
          "cluster": 3,
          "country": "Bolivia",
          "fertility": 6.5,
          "life_expect": 46.714,
          "pop": 4346218,
          "year": 1970
         },
         {
          "cluster": 3,
          "country": "Bolivia",
          "fertility": 5.8,
          "life_expect": 50.023,
          "pop": 4914316,
          "year": 1975
         },
         {
          "cluster": 3,
          "country": "Bolivia",
          "fertility": 5.2995,
          "life_expect": 53.859,
          "pop": 5441298,
          "year": 1980
         },
         {
          "cluster": 3,
          "country": "Bolivia",
          "fertility": 5,
          "life_expect": 57.251,
          "pop": 5934935,
          "year": 1985
         },
         {
          "cluster": 3,
          "country": "Bolivia",
          "fertility": 4.8,
          "life_expect": 59.957,
          "pop": 6573900,
          "year": 1990
         },
         {
          "cluster": 3,
          "country": "Bolivia",
          "fertility": 4.324,
          "life_expect": 62.05,
          "pop": 7376582,
          "year": 1995
         },
         {
          "cluster": 3,
          "country": "Bolivia",
          "fertility": 3.9585,
          "life_expect": 63.883,
          "pop": 8152620,
          "year": 2000
         },
         {
          "cluster": 3,
          "country": "Bolivia",
          "fertility": 3.5,
          "life_expect": 65.554,
          "pop": 8857870,
          "year": 2005
         },
         {
          "cluster": 3,
          "country": "Brazil",
          "fertility": 6.1501,
          "life_expect": 53.285,
          "pop": 61773546,
          "year": 1955
         },
         {
          "cluster": 3,
          "country": "Brazil",
          "fertility": 6.1501,
          "life_expect": 55.665,
          "pop": 71694810,
          "year": 1960
         },
         {
          "cluster": 3,
          "country": "Brazil",
          "fertility": 5.38,
          "life_expect": 57.632,
          "pop": 83092908,
          "year": 1965
         },
         {
          "cluster": 3,
          "country": "Brazil",
          "fertility": 4.7175,
          "life_expect": 59.504,
          "pop": 95684297,
          "year": 1970
         },
         {
          "cluster": 3,
          "country": "Brazil",
          "fertility": 4.305,
          "life_expect": 61.489,
          "pop": 108823732,
          "year": 1975
         },
         {
          "cluster": 3,
          "country": "Brazil",
          "fertility": 3.8,
          "life_expect": 63.336,
          "pop": 122958132,
          "year": 1980
         },
         {
          "cluster": 3,
          "country": "Brazil",
          "fertility": 3.1,
          "life_expect": 65.205,
          "pop": 137302933,
          "year": 1985
         },
         {
          "cluster": 3,
          "country": "Brazil",
          "fertility": 2.6,
          "life_expect": 67.057,
          "pop": 151083809,
          "year": 1990
         },
         {
          "cluster": 3,
          "country": "Brazil",
          "fertility": 2.45,
          "life_expect": 69.388,
          "pop": 163542501,
          "year": 1995
         },
         {
          "cluster": 3,
          "country": "Brazil",
          "fertility": 2.345,
          "life_expect": 71.006,
          "pop": 175552771,
          "year": 2000
         },
         {
          "cluster": 3,
          "country": "Brazil",
          "fertility": 2.245,
          "life_expect": 72.39,
          "pop": 186112794,
          "year": 2005
         },
         {
          "cluster": 3,
          "country": "Canada",
          "fertility": 3.882,
          "life_expect": 69.96,
          "pop": 16050356,
          "year": 1955
         },
         {
          "cluster": 3,
          "country": "Canada",
          "fertility": 3.675,
          "life_expect": 71.3,
          "pop": 18266765,
          "year": 1960
         },
         {
          "cluster": 3,
          "country": "Canada",
          "fertility": 2.61,
          "life_expect": 72.13,
          "pop": 20071104,
          "year": 1965
         },
         {
          "cluster": 3,
          "country": "Canada",
          "fertility": 1.976,
          "life_expect": 72.88,
          "pop": 21749986,
          "year": 1970
         },
         {
          "cluster": 3,
          "country": "Canada",
          "fertility": 1.734,
          "life_expect": 74.21,
          "pop": 23209200,
          "year": 1975
         },
         {
          "cluster": 3,
          "country": "Canada",
          "fertility": 1.634,
          "life_expect": 75.76,
          "pop": 24593300,
          "year": 1980
         },
         {
          "cluster": 3,
          "country": "Canada",
          "fertility": 1.616,
          "life_expect": 76.86,
          "pop": 25941600,
          "year": 1985
         },
         {
          "cluster": 3,
          "country": "Canada",
          "fertility": 1.694,
          "life_expect": 77.95,
          "pop": 27790600,
          "year": 1990
         },
         {
          "cluster": 3,
          "country": "Canada",
          "fertility": 1.564,
          "life_expect": 78.61,
          "pop": 29619002,
          "year": 1995
         },
         {
          "cluster": 3,
          "country": "Canada",
          "fertility": 1.522,
          "life_expect": 79.77,
          "pop": 31278097,
          "year": 2000
         },
         {
          "cluster": 3,
          "country": "Canada",
          "fertility": 1.5270000000000001,
          "life_expect": 80.653,
          "pop": 32805041,
          "year": 2005
         },
         {
          "cluster": 3,
          "country": "Chile",
          "fertility": 5.486,
          "life_expect": 56.074,
          "pop": 6743269,
          "year": 1955
         },
         {
          "cluster": 3,
          "country": "Chile",
          "fertility": 5.4385,
          "life_expect": 57.924,
          "pop": 7585349,
          "year": 1960
         },
         {
          "cluster": 3,
          "country": "Chile",
          "fertility": 4.4405,
          "life_expect": 60.523,
          "pop": 8509950,
          "year": 1965
         },
         {
          "cluster": 3,
          "country": "Chile",
          "fertility": 3.63,
          "life_expect": 63.441,
          "pop": 9368558,
          "year": 1970
         },
         {
          "cluster": 3,
          "country": "Chile",
          "fertility": 2.803,
          "life_expect": 67.052,
          "pop": 10251542,
          "year": 1975
         },
         {
          "cluster": 3,
          "country": "Chile",
          "fertility": 2.6710000000000003,
          "life_expect": 70.565,
          "pop": 11093718,
          "year": 1980
         },
         {
          "cluster": 3,
          "country": "Chile",
          "fertility": 2.65,
          "life_expect": 72.492,
          "pop": 12066701,
          "year": 1985
         },
         {
          "cluster": 3,
          "country": "Chile",
          "fertility": 2.55,
          "life_expect": 74.126,
          "pop": 13127760,
          "year": 1990
         },
         {
          "cluster": 3,
          "country": "Chile",
          "fertility": 2.21,
          "life_expect": 75.816,
          "pop": 14205449,
          "year": 1995
         },
         {
          "cluster": 3,
          "country": "Chile",
          "fertility": 2,
          "life_expect": 77.86,
          "pop": 15153450,
          "year": 2000
         },
         {
          "cluster": 3,
          "country": "Chile",
          "fertility": 1.944,
          "life_expect": 78.553,
          "pop": 15980912,
          "year": 2005
         },
         {
          "cluster": 4,
          "country": "China",
          "fertility": 5.59,
          "life_expect": 50.54896,
          "pop": 608655000,
          "year": 1955
         },
         {
          "cluster": 4,
          "country": "China",
          "fertility": 5.72,
          "life_expect": 44.50136,
          "pop": 667070000,
          "year": 1960
         },
         {
          "cluster": 4,
          "country": "China",
          "fertility": 6.06,
          "life_expect": 58.38112,
          "pop": 715185000,
          "year": 1965
         },
         {
          "cluster": 4,
          "country": "China",
          "fertility": 4.86,
          "life_expect": 63.11888,
          "pop": 818315000,
          "year": 1970
         },
         {
          "cluster": 4,
          "country": "China",
          "fertility": 3.32,
          "life_expect": 63.96736,
          "pop": 916395000,
          "year": 1975
         },
         {
          "cluster": 4,
          "country": "China",
          "fertility": 2.55,
          "life_expect": 65.525,
          "pop": 981235000,
          "year": 1980
         },
         {
          "cluster": 4,
          "country": "China",
          "fertility": 2.46,
          "life_expect": 67.274,
          "pop": 1051040000,
          "year": 1985
         },
         {
          "cluster": 4,
          "country": "China",
          "fertility": 1.92,
          "life_expect": 68.69,
          "pop": 1135185000,
          "year": 1990
         },
         {
          "cluster": 4,
          "country": "China",
          "fertility": 1.7810000000000001,
          "life_expect": 70.426,
          "pop": 1204855000,
          "year": 1995
         },
         {
          "cluster": 4,
          "country": "China",
          "fertility": 1.7000000000000002,
          "life_expect": 72.028,
          "pop": 1262645000,
          "year": 2000
         },
         {
          "cluster": 4,
          "country": "China",
          "fertility": 1.725,
          "life_expect": 72.961,
          "pop": 1303182268,
          "year": 2005
         },
         {
          "cluster": 3,
          "country": "Colombia",
          "fertility": 6.76,
          "life_expect": 55.118,
          "pop": 13588405,
          "year": 1955
         },
         {
          "cluster": 3,
          "country": "Colombia",
          "fertility": 6.76,
          "life_expect": 57.863,
          "pop": 15952727,
          "year": 1960
         },
         {
          "cluster": 3,
          "country": "Colombia",
          "fertility": 6.18,
          "life_expect": 59.963,
          "pop": 18646175,
          "year": 1965
         },
         {
          "cluster": 3,
          "country": "Colombia",
          "fertility": 5.0005,
          "life_expect": 61.623,
          "pop": 21429658,
          "year": 1970
         },
         {
          "cluster": 3,
          "country": "Colombia",
          "fertility": 4.3385,
          "life_expect": 63.837,
          "pop": 24114177,
          "year": 1975
         },
         {
          "cluster": 3,
          "country": "Colombia",
          "fertility": 3.685,
          "life_expect": 66.653,
          "pop": 26582811,
          "year": 1980
         },
         {
          "cluster": 3,
          "country": "Colombia",
          "fertility": 3.172,
          "life_expect": 67.768,
          "pop": 29678395,
          "year": 1985
         },
         {
          "cluster": 3,
          "country": "Colombia",
          "fertility": 2.93005,
          "life_expect": 68.421,
          "pop": 32858579,
          "year": 1990
         },
         {
          "cluster": 3,
          "country": "Colombia",
          "fertility": 2.7,
          "life_expect": 70.313,
          "pop": 36280883,
          "year": 1995
         },
         {
          "cluster": 3,
          "country": "Colombia",
          "fertility": 2.4705,
          "life_expect": 71.682,
          "pop": 39685655,
          "year": 2000
         },
         {
          "cluster": 3,
          "country": "Colombia",
          "fertility": 2.2205,
          "life_expect": 72.889,
          "pop": 42954279,
          "year": 2005
         },
         {
          "cluster": 3,
          "country": "Costa Rica",
          "fertility": 7.1135,
          "life_expect": 60.026,
          "pop": 1031782,
          "year": 1955
         },
         {
          "cluster": 3,
          "country": "Costa Rica",
          "fertility": 7.2245,
          "life_expect": 62.842,
          "pop": 1248022,
          "year": 1960
         },
         {
          "cluster": 3,
          "country": "Costa Rica",
          "fertility": 5.801,
          "life_expect": 65.424,
          "pop": 1487605,
          "year": 1965
         },
         {
          "cluster": 3,
          "country": "Costa Rica",
          "fertility": 4.346,
          "life_expect": 67.849,
          "pop": 1735523,
          "year": 1970
         },
         {
          "cluster": 3,
          "country": "Costa Rica",
          "fertility": 3.7755,
          "life_expect": 70.75,
          "pop": 1991580,
          "year": 1975
         },
         {
          "cluster": 3,
          "country": "Costa Rica",
          "fertility": 3.527,
          "life_expect": 73.45,
          "pop": 2299124,
          "year": 1980
         },
         {
          "cluster": 3,
          "country": "Costa Rica",
          "fertility": 3.374,
          "life_expect": 74.752,
          "pop": 2643808,
          "year": 1985
         },
         {
          "cluster": 3,
          "country": "Costa Rica",
          "fertility": 2.9450000000000003,
          "life_expect": 75.713,
          "pop": 3027175,
          "year": 1990
         },
         {
          "cluster": 3,
          "country": "Costa Rica",
          "fertility": 2.5835,
          "life_expect": 77.26,
          "pop": 3383786,
          "year": 1995
         },
         {
          "cluster": 3,
          "country": "Costa Rica",
          "fertility": 2.2815,
          "life_expect": 78.123,
          "pop": 3710558,
          "year": 2000
         },
         {
          "cluster": 3,
          "country": "Costa Rica",
          "fertility": 2.0985,
          "life_expect": 78.782,
          "pop": 4016173,
          "year": 2005
         },
         {
          "cluster": 1,
          "country": "Croatia",
          "fertility": 2.42,
          "life_expect": 64.77,
          "pop": 3955526,
          "year": 1955
         },
         {
          "cluster": 1,
          "country": "Croatia",
          "fertility": 2.27,
          "life_expect": 67.13,
          "pop": 4036145,
          "year": 1960
         },
         {
          "cluster": 1,
          "country": "Croatia",
          "fertility": 2.09,
          "life_expect": 68.5,
          "pop": 4133313,
          "year": 1965
         },
         {
          "cluster": 1,
          "country": "Croatia",
          "fertility": 1.96,
          "life_expect": 69.61,
          "pop": 4205389,
          "year": 1970
         },
         {
          "cluster": 1,
          "country": "Croatia",
          "fertility": 2.02,
          "life_expect": 70.64,
          "pop": 4255000,
          "year": 1975
         },
         {
          "cluster": 1,
          "country": "Croatia",
          "fertility": 1.96,
          "life_expect": 70.46,
          "pop": 4383000,
          "year": 1980
         },
         {
          "cluster": 1,
          "country": "Croatia",
          "fertility": 1.8399999999999999,
          "life_expect": 71.52,
          "pop": 4457874,
          "year": 1985
         },
         {
          "cluster": 1,
          "country": "Croatia",
          "fertility": 1.52,
          "life_expect": 72.527,
          "pop": 4508347,
          "year": 1990
         },
         {
          "cluster": 1,
          "country": "Croatia",
          "fertility": 1.537,
          "life_expect": 73.68,
          "pop": 4496683,
          "year": 1995
         },
         {
          "cluster": 1,
          "country": "Croatia",
          "fertility": 1.348,
          "life_expect": 74.876,
          "pop": 4410830,
          "year": 2000
         },
         {
          "cluster": 1,
          "country": "Croatia",
          "fertility": 1.346,
          "life_expect": 75.748,
          "pop": 4495904,
          "year": 2005
         },
         {
          "cluster": 3,
          "country": "Cuba",
          "fertility": 3.6995,
          "life_expect": 62.325,
          "pop": 6381106,
          "year": 1955
         },
         {
          "cluster": 3,
          "country": "Cuba",
          "fertility": 4.6805,
          "life_expect": 65.246,
          "pop": 7027210,
          "year": 1960
         },
         {
          "cluster": 3,
          "country": "Cuba",
          "fertility": 4.3,
          "life_expect": 68.29,
          "pop": 7809916,
          "year": 1965
         },
         {
          "cluster": 3,
          "country": "Cuba",
          "fertility": 3.6,
          "life_expect": 70.723,
          "pop": 8542746,
          "year": 1970
         },
         {
          "cluster": 3,
          "country": "Cuba",
          "fertility": 2.15,
          "life_expect": 72.649,
          "pop": 9290074,
          "year": 1975
         },
         {
          "cluster": 3,
          "country": "Cuba",
          "fertility": 1.8495,
          "life_expect": 73.717,
          "pop": 9652975,
          "year": 1980
         },
         {
          "cluster": 3,
          "country": "Cuba",
          "fertility": 1.8495,
          "life_expect": 74.174,
          "pop": 10078658,
          "year": 1985
         },
         {
          "cluster": 3,
          "country": "Cuba",
          "fertility": 1.6505,
          "life_expect": 74.414,
          "pop": 10544793,
          "year": 1990
         },
         {
          "cluster": 3,
          "country": "Cuba",
          "fertility": 1.6095000000000002,
          "life_expect": 76.151,
          "pop": 10896802,
          "year": 1995
         },
         {
          "cluster": 3,
          "country": "Cuba",
          "fertility": 1.63,
          "life_expect": 77.158,
          "pop": 11134273,
          "year": 2000
         },
         {
          "cluster": 3,
          "country": "Cuba",
          "fertility": 1.49,
          "life_expect": 78.273,
          "pop": 11346670,
          "year": 2005
         },
         {
          "cluster": 3,
          "country": "Dominican Republic",
          "fertility": 7.6405,
          "life_expect": 49.828,
          "pop": 2737257,
          "year": 1955
         },
         {
          "cluster": 3,
          "country": "Dominican Republic",
          "fertility": 7.3505,
          "life_expect": 53.459,
          "pop": 3231488,
          "year": 1960
         },
         {
          "cluster": 3,
          "country": "Dominican Republic",
          "fertility": 6.6495,
          "life_expect": 56.751,
          "pop": 3805881,
          "year": 1965
         },
         {
          "cluster": 3,
          "country": "Dominican Republic",
          "fertility": 5.71,
          "life_expect": 59.631,
          "pop": 4422755,
          "year": 1970
         },
         {
          "cluster": 3,
          "country": "Dominican Republic",
          "fertility": 4.76,
          "life_expect": 61.788,
          "pop": 5048499,
          "year": 1975
         },
         {
          "cluster": 3,
          "country": "Dominican Republic",
          "fertility": 4,
          "life_expect": 63.727,
          "pop": 5696855,
          "year": 1980
         },
         {
          "cluster": 3,
          "country": "Dominican Republic",
          "fertility": 3.47,
          "life_expect": 66.046,
          "pop": 6377765,
          "year": 1985
         },
         {
          "cluster": 3,
          "country": "Dominican Republic",
          "fertility": 3.1995,
          "life_expect": 68.457,
          "pop": 7077651,
          "year": 1990
         },
         {
          "cluster": 3,
          "country": "Dominican Republic",
          "fertility": 3.05,
          "life_expect": 69.957,
          "pop": 7730224,
          "year": 1995
         },
         {
          "cluster": 3,
          "country": "Dominican Republic",
          "fertility": 2.95,
          "life_expect": 70.847,
          "pop": 8385828,
          "year": 2000
         },
         {
          "cluster": 3,
          "country": "Dominican Republic",
          "fertility": 2.81,
          "life_expect": 72.235,
          "pop": 9049595,
          "year": 2005
         },
         {
          "cluster": 3,
          "country": "Ecuador",
          "fertility": 6.7,
          "life_expect": 51.356,
          "pop": 3842399,
          "year": 1955
         },
         {
          "cluster": 3,
          "country": "Ecuador",
          "fertility": 6.7,
          "life_expect": 54.64,
          "pop": 4415956,
          "year": 1960
         },
         {
          "cluster": 3,
          "country": "Ecuador",
          "fertility": 6.5,
          "life_expect": 56.678,
          "pop": 5117779,
          "year": 1965
         },
         {
          "cluster": 3,
          "country": "Ecuador",
          "fertility": 6.0005,
          "life_expect": 58.796,
          "pop": 5939246,
          "year": 1970
         },
         {
          "cluster": 3,
          "country": "Ecuador",
          "fertility": 5.4005,
          "life_expect": 61.31,
          "pop": 6871698,
          "year": 1975
         },
         {
          "cluster": 3,
          "country": "Ecuador",
          "fertility": 4.7005,
          "life_expect": 64.342,
          "pop": 7920499,
          "year": 1980
         },
         {
          "cluster": 3,
          "country": "Ecuador",
          "fertility": 4,
          "life_expect": 67.231,
          "pop": 9061664,
          "year": 1985
         },
         {
          "cluster": 3,
          "country": "Ecuador",
          "fertility": 3.4005,
          "life_expect": 69.613,
          "pop": 10318036,
          "year": 1990
         },
         {
          "cluster": 3,
          "country": "Ecuador",
          "fertility": 3.1,
          "life_expect": 72.312,
          "pop": 11438004,
          "year": 1995
         },
         {
          "cluster": 3,
          "country": "Ecuador",
          "fertility": 2.8175,
          "life_expect": 74.173,
          "pop": 12505204,
          "year": 2000
         },
         {
          "cluster": 3,
          "country": "Ecuador",
          "fertility": 2.578,
          "life_expect": 74.994,
          "pop": 13363593,
          "year": 2005
         },
         {
          "cluster": 5,
          "country": "Egypt",
          "fertility": 6.97,
          "life_expect": 44.444,
          "pop": 23855527,
          "year": 1955
         },
         {
          "cluster": 5,
          "country": "Egypt",
          "fertility": 7.073,
          "life_expect": 46.992,
          "pop": 26846610,
          "year": 1960
         },
         {
          "cluster": 5,
          "country": "Egypt",
          "fertility": 6.5600000000000005,
          "life_expect": 49.293,
          "pop": 30265148,
          "year": 1965
         },
         {
          "cluster": 5,
          "country": "Egypt",
          "fertility": 5.855,
          "life_expect": 51.137,
          "pop": 33574026,
          "year": 1970
         },
         {
          "cluster": 5,
          "country": "Egypt",
          "fertility": 5.609,
          "life_expect": 53.319,
          "pop": 36952499,
          "year": 1975
         },
         {
          "cluster": 5,
          "country": "Egypt",
          "fertility": 5.332,
          "life_expect": 56.006,
          "pop": 42634215,
          "year": 1980
         },
         {
          "cluster": 5,
          "country": "Egypt",
          "fertility": 4.833,
          "life_expect": 59.797,
          "pop": 50052381,
          "year": 1985
         },
         {
          "cluster": 5,
          "country": "Egypt",
          "fertility": 3.908,
          "life_expect": 63.674,
          "pop": 56694413,
          "year": 1990
         },
         {
          "cluster": 5,
          "country": "Egypt",
          "fertility": 3.5,
          "life_expect": 67.217,
          "pop": 63321615,
          "year": 1995
         },
         {
          "cluster": 5,
          "country": "Egypt",
          "fertility": 3.174,
          "life_expect": 69.806,
          "pop": 70492342,
          "year": 2000
         },
         {
          "cluster": 5,
          "country": "Egypt",
          "fertility": 2.891,
          "life_expect": 71.338,
          "pop": 77505756,
          "year": 2005
         },
         {
          "cluster": 3,
          "country": "El Salvador",
          "fertility": 6.8065,
          "life_expect": 48.57,
          "pop": 2221139,
          "year": 1955
         },
         {
          "cluster": 3,
          "country": "El Salvador",
          "fertility": 6.8469999999999995,
          "life_expect": 52.307,
          "pop": 2581583,
          "year": 1960
         },
         {
          "cluster": 3,
          "country": "El Salvador",
          "fertility": 6.621,
          "life_expect": 55.855,
          "pop": 3017852,
          "year": 1965
         },
         {
          "cluster": 3,
          "country": "El Salvador",
          "fertility": 6.0995,
          "life_expect": 58.207,
          "pop": 3603907,
          "year": 1970
         },
         {
          "cluster": 3,
          "country": "El Salvador",
          "fertility": 5.5996,
          "life_expect": 56.696,
          "pop": 4071179,
          "year": 1975
         },
         {
          "cluster": 3,
          "country": "El Salvador",
          "fertility": 4.5,
          "life_expect": 56.604,
          "pop": 4566199,
          "year": 1980
         },
         {
          "cluster": 3,
          "country": "El Salvador",
          "fertility": 3.901,
          "life_expect": 63.154,
          "pop": 4664361,
          "year": 1985
         },
         {
          "cluster": 3,
          "country": "El Salvador",
          "fertility": 3.52,
          "life_expect": 66.798,
          "pop": 5099884,
          "year": 1990
         },
         {
          "cluster": 3,
          "country": "El Salvador",
          "fertility": 3.17,
          "life_expect": 69.535,
          "pop": 5568437,
          "year": 1995
         },
         {
          "cluster": 3,
          "country": "El Salvador",
          "fertility": 2.883,
          "life_expect": 70.734,
          "pop": 6122515,
          "year": 2000
         },
         {
          "cluster": 3,
          "country": "El Salvador",
          "fertility": 2.6825,
          "life_expect": 71.878,
          "pop": 6704932,
          "year": 2005
         },
         {
          "cluster": 1,
          "country": "Finland",
          "fertility": 2.769,
          "life_expect": 67.49,
          "pop": 4234900,
          "year": 1955
         },
         {
          "cluster": 1,
          "country": "Finland",
          "fertility": 2.66,
          "life_expect": 68.75,
          "pop": 4429600,
          "year": 1960
         },
         {
          "cluster": 1,
          "country": "Finland",
          "fertility": 2.191,
          "life_expect": 69.83,
          "pop": 4563732,
          "year": 1965
         },
         {
          "cluster": 1,
          "country": "Finland",
          "fertility": 1.623,
          "life_expect": 70.87,
          "pop": 4606307,
          "year": 1970
         },
         {
          "cluster": 1,
          "country": "Finland",
          "fertility": 1.663,
          "life_expect": 72.52,
          "pop": 4711439,
          "year": 1975
         },
         {
          "cluster": 1,
          "country": "Finland",
          "fertility": 1.685,
          "life_expect": 74.55,
          "pop": 4779535,
          "year": 1980
         },
         {
          "cluster": 1,
          "country": "Finland",
          "fertility": 1.6600000000000001,
          "life_expect": 74.83,
          "pop": 4901783,
          "year": 1985
         },
         {
          "cluster": 1,
          "country": "Finland",
          "fertility": 1.819,
          "life_expect": 75.7,
          "pop": 4986431,
          "year": 1990
         },
         {
          "cluster": 1,
          "country": "Finland",
          "fertility": 1.7429999999999999,
          "life_expect": 77.13,
          "pop": 5104654,
          "year": 1995
         },
         {
          "cluster": 1,
          "country": "Finland",
          "fertility": 1.754,
          "life_expect": 78.37,
          "pop": 5168595,
          "year": 2000
         },
         {
          "cluster": 1,
          "country": "Finland",
          "fertility": 1.8250000000000002,
          "life_expect": 79.313,
          "pop": 5223442,
          "year": 2005
         },
         {
          "cluster": 1,
          "country": "France",
          "fertility": 2.7119999999999997,
          "life_expect": 68.93,
          "pop": 43427669,
          "year": 1955
         },
         {
          "cluster": 1,
          "country": "France",
          "fertility": 2.85,
          "life_expect": 70.51,
          "pop": 45670000,
          "year": 1960
         },
         {
          "cluster": 1,
          "country": "France",
          "fertility": 2.607,
          "life_expect": 71.55,
          "pop": 48763000,
          "year": 1965
         },
         {
          "cluster": 1,
          "country": "France",
          "fertility": 2.31,
          "life_expect": 72.38,
          "pop": 50787000,
          "year": 1970
         },
         {
          "cluster": 1,
          "country": "France",
          "fertility": 1.862,
          "life_expect": 73.83,
          "pop": 52758427,
          "year": 1975
         },
         {
          "cluster": 1,
          "country": "France",
          "fertility": 1.866,
          "life_expect": 74.89,
          "pop": 53869743,
          "year": 1980
         },
         {
          "cluster": 1,
          "country": "France",
          "fertility": 1.8050000000000002,
          "life_expect": 76.34,
          "pop": 55171224,
          "year": 1985
         },
         {
          "cluster": 1,
          "country": "France",
          "fertility": 1.713,
          "life_expect": 77.46,
          "pop": 56735161,
          "year": 1990
         },
         {
          "cluster": 1,
          "country": "France",
          "fertility": 1.7624,
          "life_expect": 78.64,
          "pop": 58149727,
          "year": 1995
         },
         {
          "cluster": 1,
          "country": "France",
          "fertility": 1.8833000000000002,
          "life_expect": 79.59,
          "pop": 59381628,
          "year": 2000
         },
         {
          "cluster": 1,
          "country": "France",
          "fertility": 1.8916,
          "life_expect": 80.657,
          "pop": 60656178,
          "year": 2005
         },
         {
          "cluster": 1,
          "country": "Georgia",
          "fertility": 2.909,
          "life_expect": 62.625,
          "pop": 3827154,
          "year": 1955
         },
         {
          "cluster": 1,
          "country": "Georgia",
          "fertility": 2.979,
          "life_expect": 64.644,
          "pop": 4146570,
          "year": 1960
         },
         {
          "cluster": 1,
          "country": "Georgia",
          "fertility": 2.6109999999999998,
          "life_expect": 66.654,
          "pop": 4464959,
          "year": 1965
         },
         {
          "cluster": 1,
          "country": "Georgia",
          "fertility": 2.601,
          "life_expect": 68.158,
          "pop": 4694491,
          "year": 1970
         },
         {
          "cluster": 1,
          "country": "Georgia",
          "fertility": 2.39,
          "life_expect": 69.634,
          "pop": 4897656,
          "year": 1975
         },
         {
          "cluster": 1,
          "country": "Georgia",
          "fertility": 2.269,
          "life_expect": 69.638,
          "pop": 5045697,
          "year": 1980
         },
         {
          "cluster": 1,
          "country": "Georgia",
          "fertility": 2.263,
          "life_expect": 70.45,
          "pop": 5192957,
          "year": 1985
         },
         {
          "cluster": 1,
          "country": "Georgia",
          "fertility": 1.9500000000000002,
          "life_expect": 70.465,
          "pop": 5426207,
          "year": 1990
         },
         {
          "cluster": 1,
          "country": "Georgia",
          "fertility": 1.58,
          "life_expect": 70.49,
          "pop": 5012952,
          "year": 1995
         },
         {
          "cluster": 1,
          "country": "Georgia",
          "fertility": 1.478,
          "life_expect": 70.476,
          "pop": 4777209,
          "year": 2000
         },
         {
          "cluster": 1,
          "country": "Georgia",
          "fertility": 1.407,
          "life_expect": 70.987,
          "pop": 4677401,
          "year": 2005
         },
         {
          "cluster": 1,
          "country": "Germany",
          "fertility": 2.3,
          "life_expect": 69.1,
          "pop": 70195612,
          "year": 1955
         },
         {
          "cluster": 1,
          "country": "Germany",
          "fertility": 2.49,
          "life_expect": 70.3,
          "pop": 72480869,
          "year": 1960
         },
         {
          "cluster": 1,
          "country": "Germany",
          "fertility": 2.32,
          "life_expect": 70.8,
          "pop": 75638851,
          "year": 1965
         },
         {
          "cluster": 1,
          "country": "Germany",
          "fertility": 1.6400000000000001,
          "life_expect": 71,
          "pop": 77783164,
          "year": 1970
         },
         {
          "cluster": 1,
          "country": "Germany",
          "fertility": 1.52,
          "life_expect": 72.5,
          "pop": 78682325,
          "year": 1975
         },
         {
          "cluster": 1,
          "country": "Germany",
          "fertility": 1.46,
          "life_expect": 73.8,
          "pop": 78297904,
          "year": 1980
         },
         {
          "cluster": 1,
          "country": "Germany",
          "fertility": 1.43,
          "life_expect": 74.847,
          "pop": 77684907,
          "year": 1985
         },
         {
          "cluster": 1,
          "country": "Germany",
          "fertility": 1.31,
          "life_expect": 76.07,
          "pop": 79380394,
          "year": 1990
         },
         {
          "cluster": 1,
          "country": "Germany",
          "fertility": 1.34,
          "life_expect": 77.34,
          "pop": 81653702,
          "year": 1995
         },
         {
          "cluster": 1,
          "country": "Germany",
          "fertility": 1.346,
          "life_expect": 78.67,
          "pop": 82187909,
          "year": 2000
         },
         {
          "cluster": 1,
          "country": "Germany",
          "fertility": 1.3599999999999999,
          "life_expect": 79.406,
          "pop": 82431390,
          "year": 2005
         },
         {
          "cluster": 1,
          "country": "Greece",
          "fertility": 2.27,
          "life_expect": 67.86,
          "pop": 7965538,
          "year": 1955
         },
         {
          "cluster": 1,
          "country": "Greece",
          "fertility": 2.2,
          "life_expect": 69.51,
          "pop": 8327405,
          "year": 1960
         },
         {
          "cluster": 1,
          "country": "Greece",
          "fertility": 2.38,
          "life_expect": 71,
          "pop": 8550333,
          "year": 1965
         },
         {
          "cluster": 1,
          "country": "Greece",
          "fertility": 2.32,
          "life_expect": 72.34,
          "pop": 8792806,
          "year": 1970
         },
         {
          "cluster": 1,
          "country": "Greece",
          "fertility": 2.32,
          "life_expect": 73.68,
          "pop": 9046542,
          "year": 1975
         },
         {
          "cluster": 1,
          "country": "Greece",
          "fertility": 1.96,
          "life_expect": 75.24,
          "pop": 9642505,
          "year": 1980
         },
         {
          "cluster": 1,
          "country": "Greece",
          "fertility": 1.53,
          "life_expect": 76.67,
          "pop": 9923253,
          "year": 1985
         },
         {
          "cluster": 1,
          "country": "Greece",
          "fertility": 1.37,
          "life_expect": 77.03,
          "pop": 10129603,
          "year": 1990
         },
         {
          "cluster": 1,
          "country": "Greece",
          "fertility": 1.296,
          "life_expect": 77.869,
          "pop": 10457554,
          "year": 1995
         },
         {
          "cluster": 1,
          "country": "Greece",
          "fertility": 1.2770000000000001,
          "life_expect": 78.256,
          "pop": 10559110,
          "year": 2000
         },
         {
          "cluster": 1,
          "country": "Greece",
          "fertility": 1.325,
          "life_expect": 79.483,
          "pop": 10668354,
          "year": 2005
         },
         {
          "cluster": 3,
          "country": "Grenada",
          "fertility": 6.7,
          "life_expect": 63.114,
          "pop": 84621,
          "year": 1955
         },
         {
          "cluster": 3,
          "country": "Grenada",
          "fertility": 6.4,
          "life_expect": 63.608,
          "pop": 90148,
          "year": 1960
         },
         {
          "cluster": 3,
          "country": "Grenada",
          "fertility": 4.8,
          "life_expect": 64.091,
          "pop": 93290,
          "year": 1965
         },
         {
          "cluster": 3,
          "country": "Grenada",
          "fertility": 4.6,
          "life_expect": 64.577,
          "pop": 95410,
          "year": 1970
         },
         {
          "cluster": 3,
          "country": "Grenada",
          "fertility": 4.3,
          "life_expect": 65.035,
          "pop": 95819,
          "year": 1975
         },
         {
          "cluster": 3,
          "country": "Grenada",
          "fertility": 4.23,
          "life_expect": 65.503,
          "pop": 90164,
          "year": 1980
         },
         {
          "cluster": 3,
          "country": "Grenada",
          "fertility": 4.14,
          "life_expect": 66.002,
          "pop": 92203,
          "year": 1985
         },
         {
          "cluster": 3,
          "country": "Grenada",
          "fertility": 3.26,
          "life_expect": 66.469,
          "pop": 92360,
          "year": 1990
         },
         {
          "cluster": 3,
          "country": "Grenada",
          "fertility": 2.814,
          "life_expect": 66.986,
          "pop": 90603,
          "year": 1995
         },
         {
          "cluster": 3,
          "country": "Grenada",
          "fertility": 2.429,
          "life_expect": 67.746,
          "pop": 89312,
          "year": 2000
         },
         {
          "cluster": 3,
          "country": "Grenada",
          "fertility": 2.302,
          "life_expect": 68.724,
          "pop": 89502,
          "year": 2005
         },
         {
          "cluster": 3,
          "country": "Haiti",
          "fertility": 6.3,
          "life_expect": 40.696,
          "pop": 3376419,
          "year": 1955
         },
         {
          "cluster": 3,
          "country": "Haiti",
          "fertility": 6.3,
          "life_expect": 43.59,
          "pop": 3722743,
          "year": 1960
         },
         {
          "cluster": 3,
          "country": "Haiti",
          "fertility": 6,
          "life_expect": 46.243,
          "pop": 4137405,
          "year": 1965
         },
         {
          "cluster": 3,
          "country": "Haiti",
          "fertility": 5.6005,
          "life_expect": 48.042,
          "pop": 4604915,
          "year": 1970
         },
         {
          "cluster": 3,
          "country": "Haiti",
          "fertility": 5.8,
          "life_expect": 49.923,
          "pop": 4828338,
          "year": 1975
         },
         {
          "cluster": 3,
          "country": "Haiti",
          "fertility": 6.2099,
          "life_expect": 51.461,
          "pop": 5029725,
          "year": 1980
         },
         {
          "cluster": 3,
          "country": "Haiti",
          "fertility": 5.69985,
          "life_expect": 53.636,
          "pop": 5517977,
          "year": 1985
         },
         {
          "cluster": 3,
          "country": "Haiti",
          "fertility": 5.14985,
          "life_expect": 55.089,
          "pop": 6126101,
          "year": 1990
         },
         {
          "cluster": 3,
          "country": "Haiti",
          "fertility": 4.61995,
          "life_expect": 56.671,
          "pop": 6675578,
          "year": 1995
         },
         {
          "cluster": 3,
          "country": "Haiti",
          "fertility": 4,
          "life_expect": 58.137,
          "pop": 7306302,
          "year": 2000
         },
         {
          "cluster": 3,
          "country": "Haiti",
          "fertility": 3.5445,
          "life_expect": 60.916,
          "pop": 8121622,
          "year": 2005
         },
         {
          "cluster": 4,
          "country": "Hong Kong",
          "fertility": 4.72,
          "life_expect": 64.75,
          "pop": 2490400,
          "year": 1955
         },
         {
          "cluster": 4,
          "country": "Hong Kong",
          "fertility": 5.31,
          "life_expect": 67.65,
          "pop": 3075300,
          "year": 1960
         },
         {
          "cluster": 4,
          "country": "Hong Kong",
          "fertility": 4.02,
          "life_expect": 70,
          "pop": 3597900,
          "year": 1965
         },
         {
          "cluster": 4,
          "country": "Hong Kong",
          "fertility": 2.89,
          "life_expect": 72,
          "pop": 3959000,
          "year": 1970
         },
         {
          "cluster": 4,
          "country": "Hong Kong",
          "fertility": 2.32,
          "life_expect": 73.6,
          "pop": 4395800,
          "year": 1975
         },
         {
          "cluster": 4,
          "country": "Hong Kong",
          "fertility": 1.8,
          "life_expect": 75.45,
          "pop": 5063100,
          "year": 1980
         },
         {
          "cluster": 4,
          "country": "Hong Kong",
          "fertility": 1.31,
          "life_expect": 76.2,
          "pop": 5456200,
          "year": 1985
         },
         {
          "cluster": 4,
          "country": "Hong Kong",
          "fertility": 1.288,
          "life_expect": 77.601,
          "pop": 5687959,
          "year": 1990
         },
         {
          "cluster": 4,
          "country": "Hong Kong",
          "fertility": 1.08,
          "life_expect": 80,
          "pop": 6225347,
          "year": 1995
         },
         {
          "cluster": 4,
          "country": "Hong Kong",
          "fertility": 0.9400000000000001,
          "life_expect": 81.495,
          "pop": 6658720,
          "year": 2000
         },
         {
          "cluster": 4,
          "country": "Hong Kong",
          "fertility": 0.966,
          "life_expect": 82.208,
          "pop": 6898686,
          "year": 2005
         },
         {
          "cluster": 1,
          "country": "Iceland",
          "fertility": 4.023,
          "life_expect": 73.47,
          "pop": 158044,
          "year": 1955
         },
         {
          "cluster": 1,
          "country": "Iceland",
          "fertility": 3.943,
          "life_expect": 73.68,
          "pop": 175860,
          "year": 1960
         },
         {
          "cluster": 1,
          "country": "Iceland",
          "fertility": 3.154,
          "life_expect": 73.73,
          "pop": 192288,
          "year": 1965
         },
         {
          "cluster": 1,
          "country": "Iceland",
          "fertility": 2.843,
          "life_expect": 74.46,
          "pop": 204104,
          "year": 1970
         },
         {
          "cluster": 1,
          "country": "Iceland",
          "fertility": 2.287,
          "life_expect": 76.11,
          "pop": 218031,
          "year": 1975
         },
         {
          "cluster": 1,
          "country": "Iceland",
          "fertility": 2.248,
          "life_expect": 76.99,
          "pop": 228161,
          "year": 1980
         },
         {
          "cluster": 1,
          "country": "Iceland",
          "fertility": 2.116,
          "life_expect": 77.23,
          "pop": 241403,
          "year": 1985
         },
         {
          "cluster": 1,
          "country": "Iceland",
          "fertility": 2.194,
          "life_expect": 78.77,
          "pop": 254719,
          "year": 1990
         },
         {
          "cluster": 1,
          "country": "Iceland",
          "fertility": 2.056,
          "life_expect": 78.95,
          "pop": 267527,
          "year": 1995
         },
         {
          "cluster": 1,
          "country": "Iceland",
          "fertility": 1.9929999999999999,
          "life_expect": 80.5,
          "pop": 281043,
          "year": 2000
         },
         {
          "cluster": 1,
          "country": "Iceland",
          "fertility": 2.052,
          "life_expect": 81.757,
          "pop": 296737,
          "year": 2005
         },
         {
          "cluster": 0,
          "country": "India",
          "fertility": 5.8961,
          "life_expect": 40.249,
          "pop": 393000000,
          "year": 1955
         },
         {
          "cluster": 0,
          "country": "India",
          "fertility": 5.8216,
          "life_expect": 43.605,
          "pop": 434000000,
          "year": 1960
         },
         {
          "cluster": 0,
          "country": "India",
          "fertility": 5.6058,
          "life_expect": 47.193,
          "pop": 485000000,
          "year": 1965
         },
         {
          "cluster": 0,
          "country": "India",
          "fertility": 5.264,
          "life_expect": 50.651,
          "pop": 541000000,
          "year": 1970
         },
         {
          "cluster": 0,
          "country": "India",
          "fertility": 4.8888,
          "life_expect": 54.208,
          "pop": 607000000,
          "year": 1975
         },
         {
          "cluster": 0,
          "country": "India",
          "fertility": 4.4975,
          "life_expect": 56.596,
          "pop": 679000000,
          "year": 1980
         },
         {
          "cluster": 0,
          "country": "India",
          "fertility": 4.15,
          "life_expect": 58.553,
          "pop": 755000000,
          "year": 1985
         },
         {
          "cluster": 0,
          "country": "India",
          "fertility": 3.8648,
          "life_expect": 60.223,
          "pop": 839000000,
          "year": 1990
         },
         {
          "cluster": 0,
          "country": "India",
          "fertility": 3.4551,
          "life_expect": 61.765,
          "pop": 927000000,
          "year": 1995
         },
         {
          "cluster": 0,
          "country": "India",
          "fertility": 3.1132,
          "life_expect": 62.879,
          "pop": 1007702000,
          "year": 2000
         },
         {
          "cluster": 0,
          "country": "India",
          "fertility": 2.8073,
          "life_expect": 64.698,
          "pop": 1080264388,
          "year": 2005
         },
         {
          "cluster": 4,
          "country": "Indonesia",
          "fertility": 5.672,
          "life_expect": 39.918,
          "pop": 86807000,
          "year": 1955
         },
         {
          "cluster": 4,
          "country": "Indonesia",
          "fertility": 5.62,
          "life_expect": 42.518,
          "pop": 95254000,
          "year": 1960
         },
         {
          "cluster": 4,
          "country": "Indonesia",
          "fertility": 5.568,
          "life_expect": 45.964,
          "pop": 105093000,
          "year": 1965
         },
         {
          "cluster": 4,
          "country": "Indonesia",
          "fertility": 5.3,
          "life_expect": 49.203,
          "pop": 116044000,
          "year": 1970
         },
         {
          "cluster": 4,
          "country": "Indonesia",
          "fertility": 4.73,
          "life_expect": 52.702,
          "pop": 130297000,
          "year": 1975
         },
         {
          "cluster": 4,
          "country": "Indonesia",
          "fertility": 4.109,
          "life_expect": 56.159,
          "pop": 146995000,
          "year": 1980
         },
         {
          "cluster": 4,
          "country": "Indonesia",
          "fertility": 3.4,
          "life_expect": 60.137,
          "pop": 163403000,
          "year": 1985
         },
         {
          "cluster": 4,
          "country": "Indonesia",
          "fertility": 2.9,
          "life_expect": 62.681,
          "pop": 178500000,
          "year": 1990
         },
         {
          "cluster": 4,
          "country": "Indonesia",
          "fertility": 2.55,
          "life_expect": 66.041,
          "pop": 194755000,
          "year": 1995
         },
         {
          "cluster": 4,
          "country": "Indonesia",
          "fertility": 2.3761,
          "life_expect": 68.588,
          "pop": 206265000,
          "year": 2000
         },
         {
          "cluster": 4,
          "country": "Indonesia",
          "fertility": 2.182,
          "life_expect": 70.65,
          "pop": 218465000,
          "year": 2005
         },
         {
          "cluster": 5,
          "country": "Iran",
          "fertility": 7,
          "life_expect": 47.181,
          "pop": 18729000,
          "year": 1955
         },
         {
          "cluster": 5,
          "country": "Iran",
          "fertility": 7,
          "life_expect": 49.325,
          "pop": 21577000,
          "year": 1960
         },
         {
          "cluster": 5,
          "country": "Iran",
          "fertility": 6.8,
          "life_expect": 52.469,
          "pop": 25000000,
          "year": 1965
         },
         {
          "cluster": 5,
          "country": "Iran",
          "fertility": 6.4,
          "life_expect": 55.234,
          "pop": 28933000,
          "year": 1970
         },
         {
          "cluster": 5,
          "country": "Iran",
          "fertility": 6.5,
          "life_expect": 57.702,
          "pop": 33379000,
          "year": 1975
         },
         {
          "cluster": 5,
          "country": "Iran",
          "fertility": 6.63,
          "life_expect": 59.62,
          "pop": 39583397,
          "year": 1980
         },
         {
          "cluster": 5,
          "country": "Iran",
          "fertility": 5.62,
          "life_expect": 63.04,
          "pop": 48439952,
          "year": 1985
         },
         {
          "cluster": 5,
          "country": "Iran",
          "fertility": 4.328,
          "life_expect": 65.742,
          "pop": 57035717,
          "year": 1990
         },
         {
          "cluster": 5,
          "country": "Iran",
          "fertility": 2.534,
          "life_expect": 68.042,
          "pop": 61628116,
          "year": 1995
         },
         {
          "cluster": 5,
          "country": "Iran",
          "fertility": 2.124,
          "life_expect": 69.451,
          "pop": 65660289,
          "year": 2000
         },
         {
          "cluster": 5,
          "country": "Iran",
          "fertility": 2.04,
          "life_expect": 70.964,
          "pop": 68017860,
          "year": 2005
         },
         {
          "cluster": 5,
          "country": "Iraq",
          "fertility": 7.3,
          "life_expect": 48.437,
          "pop": 5903253,
          "year": 1955
         },
         {
          "cluster": 5,
          "country": "Iraq",
          "fertility": 7.25,
          "life_expect": 51.457,
          "pop": 6822030,
          "year": 1960
         },
         {
          "cluster": 5,
          "country": "Iraq",
          "fertility": 7.2,
          "life_expect": 54.459,
          "pop": 7970746,
          "year": 1965
         },
         {
          "cluster": 5,
          "country": "Iraq",
          "fertility": 7.15,
          "life_expect": 56.95,
          "pop": 9413671,
          "year": 1970
         },
         {
          "cluster": 5,
          "country": "Iraq",
          "fertility": 6.8,
          "life_expect": 60.413,
          "pop": 11117804,
          "year": 1975
         },
         {
          "cluster": 5,
          "country": "Iraq",
          "fertility": 6.35,
          "life_expect": 62.038,
          "pop": 13232839,
          "year": 1980
         },
         {
          "cluster": 5,
          "country": "Iraq",
          "fertility": 6.15,
          "life_expect": 65.044,
          "pop": 15693620,
          "year": 1985
         },
         {
          "cluster": 5,
          "country": "Iraq",
          "fertility": 5.7,
          "life_expect": 59.461,
          "pop": 18134702,
          "year": 1990
         },
         {
          "cluster": 5,
          "country": "Iraq",
          "fertility": 5.37,
          "life_expect": 58.811,
          "pop": 19557247,
          "year": 1995
         },
         {
          "cluster": 5,
          "country": "Iraq",
          "fertility": 4.858,
          "life_expect": 57.046,
          "pop": 22675617,
          "year": 2000
         },
         {
          "cluster": 5,
          "country": "Iraq",
          "fertility": 4.264,
          "life_expect": 59.545,
          "pop": 26074906,
          "year": 2005
         },
         {
          "cluster": 1,
          "country": "Ireland",
          "fertility": 3.68,
          "life_expect": 68.9,
          "pop": 2916133,
          "year": 1955
         },
         {
          "cluster": 1,
          "country": "Ireland",
          "fertility": 3.979,
          "life_expect": 70.29,
          "pop": 2832000,
          "year": 1960
         },
         {
          "cluster": 1,
          "country": "Ireland",
          "fertility": 3.873,
          "life_expect": 71.08,
          "pop": 2876000,
          "year": 1965
         },
         {
          "cluster": 1,
          "country": "Ireland",
          "fertility": 3.815,
          "life_expect": 71.28,
          "pop": 2950100,
          "year": 1970
         },
         {
          "cluster": 1,
          "country": "Ireland",
          "fertility": 3.478,
          "life_expect": 72.03,
          "pop": 3177300,
          "year": 1975
         },
         {
          "cluster": 1,
          "country": "Ireland",
          "fertility": 2.877,
          "life_expect": 73.1,
          "pop": 3401000,
          "year": 1980
         },
         {
          "cluster": 1,
          "country": "Ireland",
          "fertility": 2.287,
          "life_expect": 74.36,
          "pop": 3540000,
          "year": 1985
         },
         {
          "cluster": 1,
          "country": "Ireland",
          "fertility": 1.9689999999999999,
          "life_expect": 75.467,
          "pop": 3508200,
          "year": 1990
         },
         {
          "cluster": 1,
          "country": "Ireland",
          "fertility": 1.9,
          "life_expect": 76.122,
          "pop": 3613890,
          "year": 1995
         },
         {
          "cluster": 1,
          "country": "Ireland",
          "fertility": 1.9689999999999999,
          "life_expect": 77.783,
          "pop": 3791690,
          "year": 2000
         },
         {
          "cluster": 1,
          "country": "Ireland",
          "fertility": 1.964,
          "life_expect": 78.885,
          "pop": 4015676,
          "year": 2005
         },
         {
          "cluster": 5,
          "country": "Israel",
          "fertility": 3.893,
          "life_expect": 67.84,
          "pop": 1772032,
          "year": 1955
         },
         {
          "cluster": 5,
          "country": "Israel",
          "fertility": 3.852,
          "life_expect": 69.39,
          "pop": 2141495,
          "year": 1960
         },
         {
          "cluster": 5,
          "country": "Israel",
          "fertility": 3.79,
          "life_expect": 70.75,
          "pop": 2578184,
          "year": 1965
         },
         {
          "cluster": 5,
          "country": "Israel",
          "fertility": 3.77,
          "life_expect": 71.63,
          "pop": 2903434,
          "year": 1970
         },
         {
          "cluster": 5,
          "country": "Israel",
          "fertility": 3.409,
          "life_expect": 73.06,
          "pop": 3354242,
          "year": 1975
         },
         {
          "cluster": 5,
          "country": "Israel",
          "fertility": 3.125,
          "life_expect": 74.45,
          "pop": 3737473,
          "year": 1980
         },
         {
          "cluster": 5,
          "country": "Israel",
          "fertility": 3.051,
          "life_expect": 75.6,
          "pop": 4074965,
          "year": 1985
         },
         {
          "cluster": 5,
          "country": "Israel",
          "fertility": 2.933,
          "life_expect": 76.93,
          "pop": 4512068,
          "year": 1990
         },
         {
          "cluster": 5,
          "country": "Israel",
          "fertility": 2.942,
          "life_expect": 78.269,
          "pop": 5305120,
          "year": 1995
         },
         {
          "cluster": 5,
          "country": "Israel",
          "fertility": 2.906,
          "life_expect": 79.696,
          "pop": 5842454,
          "year": 2000
         },
         {
          "cluster": 5,
          "country": "Israel",
          "fertility": 2.75,
          "life_expect": 80.745,
          "pop": 6276883,
          "year": 2005
         },
         {
          "cluster": 1,
          "country": "Italy",
          "fertility": 2.35,
          "life_expect": 67.81,
          "pop": 48633000,
          "year": 1955
         },
         {
          "cluster": 1,
          "country": "Italy",
          "fertility": 2.498,
          "life_expect": 69.24,
          "pop": 50197600,
          "year": 1960
         },
         {
          "cluster": 1,
          "country": "Italy",
          "fertility": 2.493,
          "life_expect": 71.06,
          "pop": 51987100,
          "year": 1965
         },
         {
          "cluster": 1,
          "country": "Italy",
          "fertility": 2.325,
          "life_expect": 72.19,
          "pop": 53661100,
          "year": 1970
         },
         {
          "cluster": 1,
          "country": "Italy",
          "fertility": 1.889,
          "life_expect": 73.48,
          "pop": 55571894,
          "year": 1975
         },
         {
          "cluster": 1,
          "country": "Italy",
          "fertility": 1.53,
          "life_expect": 74.98,
          "pop": 56451247,
          "year": 1980
         },
         {
          "cluster": 1,
          "country": "Italy",
          "fertility": 1.349,
          "life_expect": 76.42,
          "pop": 56731215,
          "year": 1985
         },
         {
          "cluster": 1,
          "country": "Italy",
          "fertility": 1.275,
          "life_expect": 77.44,
          "pop": 56742886,
          "year": 1990
         },
         {
          "cluster": 1,
          "country": "Italy",
          "fertility": 1.213,
          "life_expect": 78.82,
          "pop": 57274531,
          "year": 1995
         },
         {
          "cluster": 1,
          "country": "Italy",
          "fertility": 1.286,
          "life_expect": 80.24,
          "pop": 57719337,
          "year": 2000
         },
         {
          "cluster": 1,
          "country": "Italy",
          "fertility": 1.379,
          "life_expect": 80.546,
          "pop": 58103033,
          "year": 2005
         },
         {
          "cluster": 3,
          "country": "Jamaica",
          "fertility": 5.08,
          "life_expect": 62.61,
          "pop": 1488805,
          "year": 1955
         },
         {
          "cluster": 3,
          "country": "Jamaica",
          "fertility": 5.64,
          "life_expect": 65.61,
          "pop": 1631784,
          "year": 1960
         },
         {
          "cluster": 3,
          "country": "Jamaica",
          "fertility": 5.78,
          "life_expect": 67.51,
          "pop": 1777397,
          "year": 1965
         },
         {
          "cluster": 3,
          "country": "Jamaica",
          "fertility": 5,
          "life_expect": 69,
          "pop": 1943787,
          "year": 1970
         },
         {
          "cluster": 3,
          "country": "Jamaica",
          "fertility": 4,
          "life_expect": 70.11,
          "pop": 2104879,
          "year": 1975
         },
         {
          "cluster": 3,
          "country": "Jamaica",
          "fertility": 3.55,
          "life_expect": 71.21,
          "pop": 2228803,
          "year": 1980
         },
         {
          "cluster": 3,
          "country": "Jamaica",
          "fertility": 3.1,
          "life_expect": 71.77,
          "pop": 2318652,
          "year": 1985
         },
         {
          "cluster": 3,
          "country": "Jamaica",
          "fertility": 2.84,
          "life_expect": 71.766,
          "pop": 2347922,
          "year": 1990
         },
         {
          "cluster": 3,
          "country": "Jamaica",
          "fertility": 2.67,
          "life_expect": 72.262,
          "pop": 2469389,
          "year": 1995
         },
         {
          "cluster": 3,
          "country": "Jamaica",
          "fertility": 2.628,
          "life_expect": 72.047,
          "pop": 2615467,
          "year": 2000
         },
         {
          "cluster": 3,
          "country": "Jamaica",
          "fertility": 2.4289,
          "life_expect": 72.567,
          "pop": 2735520,
          "year": 2005
         },
         {
          "cluster": 4,
          "country": "Japan",
          "fertility": 2.08,
          "life_expect": 65.5,
          "pop": 89815060,
          "year": 1955
         },
         {
          "cluster": 4,
          "country": "Japan",
          "fertility": 2.02,
          "life_expect": 68.73,
          "pop": 94091638,
          "year": 1960
         },
         {
          "cluster": 4,
          "country": "Japan",
          "fertility": 2,
          "life_expect": 71.43,
          "pop": 98882534,
          "year": 1965
         },
         {
          "cluster": 4,
          "country": "Japan",
          "fertility": 2.07,
          "life_expect": 73.42,
          "pop": 104344973,
          "year": 1970
         },
         {
          "cluster": 4,
          "country": "Japan",
          "fertility": 1.81,
          "life_expect": 75.38,
          "pop": 111573116,
          "year": 1975
         },
         {
          "cluster": 4,
          "country": "Japan",
          "fertility": 1.76,
          "life_expect": 77.11,
          "pop": 116807309,
          "year": 1980
         },
         {
          "cluster": 4,
          "country": "Japan",
          "fertility": 1.6600000000000001,
          "life_expect": 78.67,
          "pop": 120754335,
          "year": 1985
         },
         {
          "cluster": 4,
          "country": "Japan",
          "fertility": 1.49,
          "life_expect": 79.36,
          "pop": 123537399,
          "year": 1990
         },
         {
          "cluster": 4,
          "country": "Japan",
          "fertility": 1.3900000000000001,
          "life_expect": 80.69,
          "pop": 125341354,
          "year": 1995
         },
         {
          "cluster": 4,
          "country": "Japan",
          "fertility": 1.291,
          "life_expect": 82,
          "pop": 126699784,
          "year": 2000
         },
         {
          "cluster": 4,
          "country": "Japan",
          "fertility": 1.27,
          "life_expect": 82.603,
          "pop": 127417244,
          "year": 2005
         },
         {
          "cluster": 2,
          "country": "Kenya",
          "fertility": 7.816,
          "life_expect": 44.686,
          "pop": 7033999,
          "year": 1955
         },
         {
          "cluster": 2,
          "country": "Kenya",
          "fertility": 8.12,
          "life_expect": 47.949,
          "pop": 8156827,
          "year": 1960
         },
         {
          "cluster": 2,
          "country": "Kenya",
          "fertility": 8.12,
          "life_expect": 50.654,
          "pop": 9549179,
          "year": 1965
         },
         {
          "cluster": 2,
          "country": "Kenya",
          "fertility": 8,
          "life_expect": 53.559,
          "pop": 11247182,
          "year": 1970
         },
         {
          "cluster": 2,
          "country": "Kenya",
          "fertility": 7.6,
          "life_expect": 56.155,
          "pop": 13433414,
          "year": 1975
         },
         {
          "cluster": 2,
          "country": "Kenya",
          "fertility": 7.2,
          "life_expect": 58.766,
          "pop": 16331401,
          "year": 1980
         },
         {
          "cluster": 2,
          "country": "Kenya",
          "fertility": 6.5,
          "life_expect": 59.339,
          "pop": 19763285,
          "year": 1985
         },
         {
          "cluster": 2,
          "country": "Kenya",
          "fertility": 5.4,
          "life_expect": 59.285,
          "pop": 23358413,
          "year": 1990
         },
         {
          "cluster": 2,
          "country": "Kenya",
          "fertility": 5,
          "life_expect": 54.407,
          "pop": 27060142,
          "year": 1995
         },
         {
          "cluster": 2,
          "country": "Kenya",
          "fertility": 5,
          "life_expect": 50.992,
          "pop": 29985839,
          "year": 2000
         },
         {
          "cluster": 2,
          "country": "Kenya",
          "fertility": 4.959,
          "life_expect": 54.11,
          "pop": 33829590,
          "year": 2005
         },
         {
          "cluster": 4,
          "country": "South Korea",
          "fertility": 3.8,
          "life_expect": 54.081,
          "pop": 8839427,
          "year": 1955
         },
         {
          "cluster": 4,
          "country": "South Korea",
          "fertility": 3.41,
          "life_expect": 56.656,
          "pop": 10391909,
          "year": 1960
         },
         {
          "cluster": 4,
          "country": "South Korea",
          "fertility": 4.09,
          "life_expect": 59.942,
          "pop": 11868751,
          "year": 1965
         },
         {
          "cluster": 4,
          "country": "South Korea",
          "fertility": 3.7199999999999998,
          "life_expect": 63.983,
          "pop": 13911902,
          "year": 1970
         },
         {
          "cluster": 4,
          "country": "South Korea",
          "fertility": 2.58,
          "life_expect": 67.159,
          "pop": 15801308,
          "year": 1975
         },
         {
          "cluster": 4,
          "country": "South Korea",
          "fertility": 2.93,
          "life_expect": 69.1,
          "pop": 17113626,
          "year": 1980
         },
         {
          "cluster": 4,
          "country": "South Korea",
          "fertility": 2.45,
          "life_expect": 70.647,
          "pop": 18481420,
          "year": 1985
         },
         {
          "cluster": 4,
          "country": "South Korea",
          "fertility": 2.35,
          "life_expect": 69.978,
          "pop": 20018546,
          "year": 1990
         },
         {
          "cluster": 4,
          "country": "South Korea",
          "fertility": 2.0938,
          "life_expect": 67.727,
          "pop": 21561856,
          "year": 1995
         },
         {
          "cluster": 4,
          "country": "South Korea",
          "fertility": 1.9173,
          "life_expect": 66.662,
          "pop": 21647682,
          "year": 2000
         },
         {
          "cluster": 4,
          "country": "South Korea",
          "fertility": 1.85,
          "life_expect": 67.297,
          "pop": 22912177,
          "year": 2005
         },
         {
          "cluster": 4,
          "country": "North Korea",
          "fertility": 6.332,
          "life_expect": 52.681,
          "pop": 21551834,
          "year": 1955
         },
         {
          "cluster": 4,
          "country": "North Korea",
          "fertility": 5.63,
          "life_expect": 55.292,
          "pop": 24784140,
          "year": 1960
         },
         {
          "cluster": 4,
          "country": "North Korea",
          "fertility": 4.708,
          "life_expect": 57.716,
          "pop": 28705000,
          "year": 1965
         },
         {
          "cluster": 4,
          "country": "North Korea",
          "fertility": 4.281,
          "life_expect": 62.612,
          "pop": 32241000,
          "year": 1970
         },
         {
          "cluster": 4,
          "country": "North Korea",
          "fertility": 2.919,
          "life_expect": 64.766,
          "pop": 35281000,
          "year": 1975
         },
         {
          "cluster": 4,
          "country": "North Korea",
          "fertility": 2.234,
          "life_expect": 67.123,
          "pop": 38124000,
          "year": 1980
         },
         {
          "cluster": 4,
          "country": "North Korea",
          "fertility": 1.601,
          "life_expect": 69.81,
          "pop": 40806000,
          "year": 1985
         },
         {
          "cluster": 4,
          "country": "North Korea",
          "fertility": 1.6960000000000002,
          "life_expect": 72.244,
          "pop": 42869000,
          "year": 1990
         },
         {
          "cluster": 4,
          "country": "North Korea",
          "fertility": 1.514,
          "life_expect": 74.647,
          "pop": 45264146,
          "year": 1995
         },
         {
          "cluster": 4,
          "country": "North Korea",
          "fertility": 1.242,
          "life_expect": 77.045,
          "pop": 47351083,
          "year": 2000
         },
         {
          "cluster": 4,
          "country": "North Korea",
          "fertility": 1.21,
          "life_expect": 78.623,
          "pop": 48640671,
          "year": 2005
         },
         {
          "cluster": 5,
          "country": "Lebanon",
          "fertility": 5.72,
          "life_expect": 59.489,
          "pop": 1560985,
          "year": 1955
         },
         {
          "cluster": 5,
          "country": "Lebanon",
          "fertility": 5.689,
          "life_expect": 62.094,
          "pop": 1786235,
          "year": 1960
         },
         {
          "cluster": 5,
          "country": "Lebanon",
          "fertility": 5.336,
          "life_expect": 63.87,
          "pop": 2057945,
          "year": 1965
         },
         {
          "cluster": 5,
          "country": "Lebanon",
          "fertility": 4.78,
          "life_expect": 65.421,
          "pop": 2383029,
          "year": 1970
         },
         {
          "cluster": 5,
          "country": "Lebanon",
          "fertility": 4.311,
          "life_expect": 66.099,
          "pop": 3098159,
          "year": 1975
         },
         {
          "cluster": 5,
          "country": "Lebanon",
          "fertility": 3.895,
          "life_expect": 66.983,
          "pop": 3085876,
          "year": 1980
         },
         {
          "cluster": 5,
          "country": "Lebanon",
          "fertility": 3.313,
          "life_expect": 67.926,
          "pop": 3088235,
          "year": 1985
         },
         {
          "cluster": 5,
          "country": "Lebanon",
          "fertility": 3,
          "life_expect": 69.292,
          "pop": 3147267,
          "year": 1990
         },
         {
          "cluster": 5,
          "country": "Lebanon",
          "fertility": 2.6950000000000003,
          "life_expect": 70.265,
          "pop": 3334733,
          "year": 1995
         },
         {
          "cluster": 5,
          "country": "Lebanon",
          "fertility": 2.319,
          "life_expect": 71.028,
          "pop": 3578036,
          "year": 2000
         },
         {
          "cluster": 5,
          "country": "Lebanon",
          "fertility": 2.209,
          "life_expect": 71.993,
          "pop": 3826018,
          "year": 2005
         },
         {
          "cluster": 3,
          "country": "Mexico",
          "fertility": 6.8,
          "life_expect": 55.19,
          "pop": 32929914,
          "year": 1955
         },
         {
          "cluster": 3,
          "country": "Mexico",
          "fertility": 6.7495,
          "life_expect": 58.299,
          "pop": 38578505,
          "year": 1960
         },
         {
          "cluster": 3,
          "country": "Mexico",
          "fertility": 6.7495,
          "life_expect": 60.11,
          "pop": 45142399,
          "year": 1965
         },
         {
          "cluster": 3,
          "country": "Mexico",
          "fertility": 6.5,
          "life_expect": 62.361,
          "pop": 52775158,
          "year": 1970
         },
         {
          "cluster": 3,
          "country": "Mexico",
          "fertility": 5.2505,
          "life_expect": 65.032,
          "pop": 60678045,
          "year": 1975
         },
         {
          "cluster": 3,
          "country": "Mexico",
          "fertility": 4.25,
          "life_expect": 67.405,
          "pop": 68347479,
          "year": 1980
         },
         {
          "cluster": 3,
          "country": "Mexico",
          "fertility": 3.6295,
          "life_expect": 69.498,
          "pop": 76767225,
          "year": 1985
         },
         {
          "cluster": 3,
          "country": "Mexico",
          "fertility": 3.1905,
          "life_expect": 71.455,
          "pop": 84913652,
          "year": 1990
         },
         {
          "cluster": 3,
          "country": "Mexico",
          "fertility": 2.6705,
          "life_expect": 73.67,
          "pop": 92880353,
          "year": 1995
         },
         {
          "cluster": 3,
          "country": "Mexico",
          "fertility": 2.4005,
          "life_expect": 74.902,
          "pop": 99926620,
          "year": 2000
         },
         {
          "cluster": 3,
          "country": "Mexico",
          "fertility": 2.211,
          "life_expect": 76.195,
          "pop": 106202903,
          "year": 2005
         },
         {
          "cluster": 1,
          "country": "Netherlands",
          "fertility": 3.095,
          "life_expect": 72.99,
          "pop": 10750842,
          "year": 1955
         },
         {
          "cluster": 1,
          "country": "Netherlands",
          "fertility": 3.168,
          "life_expect": 73.23,
          "pop": 11486000,
          "year": 1960
         },
         {
          "cluster": 1,
          "country": "Netherlands",
          "fertility": 2.797,
          "life_expect": 73.82,
          "pop": 12292000,
          "year": 1965
         },
         {
          "cluster": 1,
          "country": "Netherlands",
          "fertility": 2.059,
          "life_expect": 73.75,
          "pop": 13032335,
          "year": 1970
         },
         {
          "cluster": 1,
          "country": "Netherlands",
          "fertility": 1.596,
          "life_expect": 75.24,
          "pop": 13653438,
          "year": 1975
         },
         {
          "cluster": 1,
          "country": "Netherlands",
          "fertility": 1.5150000000000001,
          "life_expect": 76.05,
          "pop": 14143901,
          "year": 1980
         },
         {
          "cluster": 1,
          "country": "Netherlands",
          "fertility": 1.5550000000000002,
          "life_expect": 76.83,
          "pop": 14491380,
          "year": 1985
         },
         {
          "cluster": 1,
          "country": "Netherlands",
          "fertility": 1.583,
          "life_expect": 77.42,
          "pop": 14951510,
          "year": 1990
         },
         {
          "cluster": 1,
          "country": "Netherlands",
          "fertility": 1.6,
          "life_expect": 78.03,
          "pop": 15459054,
          "year": 1995
         },
         {
          "cluster": 1,
          "country": "Netherlands",
          "fertility": 1.726,
          "life_expect": 78.53,
          "pop": 15907853,
          "year": 2000
         },
         {
          "cluster": 1,
          "country": "Netherlands",
          "fertility": 1.721,
          "life_expect": 79.762,
          "pop": 16407491,
          "year": 2005
         },
         {
          "cluster": 4,
          "country": "New Zealand",
          "fertility": 4.07,
          "life_expect": 70.26,
          "pop": 2136168,
          "year": 1955
         },
         {
          "cluster": 4,
          "country": "New Zealand",
          "fertility": 4.022,
          "life_expect": 71.24,
          "pop": 2371746,
          "year": 1960
         },
         {
          "cluster": 4,
          "country": "New Zealand",
          "fertility": 3.348,
          "life_expect": 71.52,
          "pop": 2640400,
          "year": 1965
         },
         {
          "cluster": 4,
          "country": "New Zealand",
          "fertility": 2.843,
          "life_expect": 71.89,
          "pop": 2828050,
          "year": 1970
         },
         {
          "cluster": 4,
          "country": "New Zealand",
          "fertility": 2.178,
          "life_expect": 72.22,
          "pop": 3117800,
          "year": 1975
         },
         {
          "cluster": 4,
          "country": "New Zealand",
          "fertility": 1.963,
          "life_expect": 73.84,
          "pop": 3170150,
          "year": 1980
         },
         {
          "cluster": 4,
          "country": "New Zealand",
          "fertility": 2.053,
          "life_expect": 74.32,
          "pop": 3298050,
          "year": 1985
         },
         {
          "cluster": 4,
          "country": "New Zealand",
          "fertility": 2.061,
          "life_expect": 76.33,
          "pop": 3359604,
          "year": 1990
         },
         {
          "cluster": 4,
          "country": "New Zealand",
          "fertility": 1.952,
          "life_expect": 77.55,
          "pop": 3565990,
          "year": 1995
         },
         {
          "cluster": 4,
          "country": "New Zealand",
          "fertility": 1.964,
          "life_expect": 79.11,
          "pop": 3819762,
          "year": 2000
         },
         {
          "cluster": 4,
          "country": "New Zealand",
          "fertility": 1.994,
          "life_expect": 80.204,
          "pop": 4035461,
          "year": 2005
         },
         {
          "cluster": 2,
          "country": "Nigeria",
          "fertility": 6.9,
          "life_expect": 37.802,
          "pop": 35458978,
          "year": 1955
         },
         {
          "cluster": 2,
          "country": "Nigeria",
          "fertility": 6.9,
          "life_expect": 39.36,
          "pop": 39914593,
          "year": 1960
         },
         {
          "cluster": 2,
          "country": "Nigeria",
          "fertility": 6.9,
          "life_expect": 41.04,
          "pop": 45020052,
          "year": 1965
         },
         {
          "cluster": 2,
          "country": "Nigeria",
          "fertility": 6.9,
          "life_expect": 42.821,
          "pop": 51027516,
          "year": 1970
         },
         {
          "cluster": 2,
          "country": "Nigeria",
          "fertility": 6.9,
          "life_expect": 44.514,
          "pop": 58522112,
          "year": 1975
         },
         {
          "cluster": 2,
          "country": "Nigeria",
          "fertility": 6.9,
          "life_expect": 45.826,
          "pop": 68550274,
          "year": 1980
         },
         {
          "cluster": 2,
          "country": "Nigeria",
          "fertility": 6.834,
          "life_expect": 46.886,
          "pop": 77573154,
          "year": 1985
         },
         {
          "cluster": 2,
          "country": "Nigeria",
          "fertility": 6.635,
          "life_expect": 47.472,
          "pop": 88510354,
          "year": 1990
         },
         {
          "cluster": 2,
          "country": "Nigeria",
          "fertility": 6.246,
          "life_expect": 47.464,
          "pop": 100960105,
          "year": 1995
         },
         {
          "cluster": 2,
          "country": "Nigeria",
          "fertility": 5.845,
          "life_expect": 46.608,
          "pop": 114306700,
          "year": 2000
         },
         {
          "cluster": 2,
          "country": "Nigeria",
          "fertility": 5.322,
          "life_expect": 46.859,
          "pop": 128765768,
          "year": 2005
         },
         {
          "cluster": 1,
          "country": "Norway",
          "fertility": 2.8369999999999997,
          "life_expect": 73.44,
          "pop": 3427409,
          "year": 1955
         },
         {
          "cluster": 1,
          "country": "Norway",
          "fertility": 2.898,
          "life_expect": 73.47,
          "pop": 3581239,
          "year": 1960
         },
         {
          "cluster": 1,
          "country": "Norway",
          "fertility": 2.719,
          "life_expect": 74.08,
          "pop": 3723153,
          "year": 1965
         },
         {
          "cluster": 1,
          "country": "Norway",
          "fertility": 2.248,
          "life_expect": 74.34,
          "pop": 3877386,
          "year": 1970
         },
         {
          "cluster": 1,
          "country": "Norway",
          "fertility": 1.81,
          "life_expect": 75.37,
          "pop": 4007313,
          "year": 1975
         },
         {
          "cluster": 1,
          "country": "Norway",
          "fertility": 1.687,
          "life_expect": 75.97,
          "pop": 4085620,
          "year": 1980
         },
         {
          "cluster": 1,
          "country": "Norway",
          "fertility": 1.8,
          "life_expect": 75.89,
          "pop": 4152419,
          "year": 1985
         },
         {
          "cluster": 1,
          "country": "Norway",
          "fertility": 1.8860000000000001,
          "life_expect": 77.32,
          "pop": 4242006,
          "year": 1990
         },
         {
          "cluster": 1,
          "country": "Norway",
          "fertility": 1.853,
          "life_expect": 78.32,
          "pop": 4359101,
          "year": 1995
         },
         {
          "cluster": 1,
          "country": "Norway",
          "fertility": 1.8010000000000002,
          "life_expect": 79.05,
          "pop": 4492400,
          "year": 2000
         },
         {
          "cluster": 1,
          "country": "Norway",
          "fertility": 1.8479999999999999,
          "life_expect": 80.196,
          "pop": 4593041,
          "year": 2005
         },
         {
          "cluster": 0,
          "country": "Pakistan",
          "fertility": 6.6,
          "life_expect": 45.557,
          "pop": 44434445,
          "year": 1955
         },
         {
          "cluster": 0,
          "country": "Pakistan",
          "fertility": 6.6,
          "life_expect": 47.67,
          "pop": 50386898,
          "year": 1960
         },
         {
          "cluster": 0,
          "country": "Pakistan",
          "fertility": 6.6,
          "life_expect": 49.8,
          "pop": 57494940,
          "year": 1965
         },
         {
          "cluster": 0,
          "country": "Pakistan",
          "fertility": 6.6,
          "life_expect": 51.929,
          "pop": 65705964,
          "year": 1970
         },
         {
          "cluster": 0,
          "country": "Pakistan",
          "fertility": 6.6,
          "life_expect": 54.043,
          "pop": 74711541,
          "year": 1975
         },
         {
          "cluster": 0,
          "country": "Pakistan",
          "fertility": 6.6,
          "life_expect": 56.158,
          "pop": 85219117,
          "year": 1980
         },
         {
          "cluster": 0,
          "country": "Pakistan",
          "fertility": 6.66,
          "life_expect": 58.245,
          "pop": 99060352,
          "year": 1985
         },
         {
          "cluster": 0,
          "country": "Pakistan",
          "fertility": 5.8,
          "life_expect": 60.838,
          "pop": 114578478,
          "year": 1990
         },
         {
          "cluster": 0,
          "country": "Pakistan",
          "fertility": 4.9596,
          "life_expect": 61.818,
          "pop": 128690285,
          "year": 1995
         },
         {
          "cluster": 0,
          "country": "Pakistan",
          "fertility": 3.9936,
          "life_expect": 63.61,
          "pop": 146342958,
          "year": 2000
         },
         {
          "cluster": 0,
          "country": "Pakistan",
          "fertility": 3.5211,
          "life_expect": 65.483,
          "pop": 162419946,
          "year": 2005
         },
         {
          "cluster": 3,
          "country": "Peru",
          "fertility": 6.853,
          "life_expect": 46.263,
          "pop": 8671500,
          "year": 1955
         },
         {
          "cluster": 3,
          "country": "Peru",
          "fertility": 6.853,
          "life_expect": 49.096,
          "pop": 9931000,
          "year": 1960
         },
         {
          "cluster": 3,
          "country": "Peru",
          "fertility": 6.5600000000000005,
          "life_expect": 51.445,
          "pop": 11467300,
          "year": 1965
         },
         {
          "cluster": 3,
          "country": "Peru",
          "fertility": 6,
          "life_expect": 55.448,
          "pop": 13192800,
          "year": 1970
         },
         {
          "cluster": 3,
          "country": "Peru",
          "fertility": 5.378,
          "life_expect": 58.447,
          "pop": 15161199,
          "year": 1975
         },
         {
          "cluster": 3,
          "country": "Peru",
          "fertility": 4.65,
          "life_expect": 61.406,
          "pop": 17295298,
          "year": 1980
         },
         {
          "cluster": 3,
          "country": "Peru",
          "fertility": 4.1,
          "life_expect": 64.134,
          "pop": 19348926,
          "year": 1985
         },
         {
          "cluster": 3,
          "country": "Peru",
          "fertility": 3.7,
          "life_expect": 66.458,
          "pop": 21511443,
          "year": 1990
         },
         {
          "cluster": 3,
          "country": "Peru",
          "fertility": 3.0995,
          "life_expect": 68.386,
          "pop": 23846388,
          "year": 1995
         },
         {
          "cluster": 3,
          "country": "Peru",
          "fertility": 2.7005,
          "life_expect": 69.906,
          "pop": 25979722,
          "year": 2000
         },
         {
          "cluster": 3,
          "country": "Peru",
          "fertility": 2.5065,
          "life_expect": 71.421,
          "pop": 27925628,
          "year": 2005
         },
         {
          "cluster": 4,
          "country": "Philippines",
          "fertility": 7.13,
          "life_expect": 51.334,
          "pop": 24553055,
          "year": 1955
         },
         {
          "cluster": 4,
          "country": "Philippines",
          "fertility": 6.85,
          "life_expect": 54.757,
          "pop": 28528939,
          "year": 1960
         },
         {
          "cluster": 4,
          "country": "Philippines",
          "fertility": 6.5,
          "life_expect": 56.393,
          "pop": 33267569,
          "year": 1965
         },
         {
          "cluster": 4,
          "country": "Philippines",
          "fertility": 6,
          "life_expect": 58.065,
          "pop": 38603696,
          "year": 1970
         },
         {
          "cluster": 4,
          "country": "Philippines",
          "fertility": 5.5,
          "life_expect": 60.06,
          "pop": 44336842,
          "year": 1975
         },
         {
          "cluster": 4,
          "country": "Philippines",
          "fertility": 4.95,
          "life_expect": 62.082,
          "pop": 50940182,
          "year": 1980
         },
         {
          "cluster": 4,
          "country": "Philippines",
          "fertility": 4.55,
          "life_expect": 64.151,
          "pop": 57288037,
          "year": 1985
         },
         {
          "cluster": 4,
          "country": "Philippines",
          "fertility": 4.143,
          "life_expect": 66.458,
          "pop": 64318120,
          "year": 1990
         },
         {
          "cluster": 4,
          "country": "Philippines",
          "fertility": 3.7248,
          "life_expect": 68.564,
          "pop": 71717437,
          "year": 1995
         },
         {
          "cluster": 4,
          "country": "Philippines",
          "fertility": 3.5436,
          "life_expect": 70.303,
          "pop": 79739825,
          "year": 2000
         },
         {
          "cluster": 4,
          "country": "Philippines",
          "fertility": 3.2327,
          "life_expect": 71.688,
          "pop": 87857473,
          "year": 2005
         },
         {
          "cluster": 1,
          "country": "Poland",
          "fertility": 3.29,
          "life_expect": 65.77,
          "pop": 27220668,
          "year": 1955
         },
         {
          "cluster": 1,
          "country": "Poland",
          "fertility": 2.65,
          "life_expect": 67.64,
          "pop": 29589842,
          "year": 1960
         },
         {
          "cluster": 1,
          "country": "Poland",
          "fertility": 2.27,
          "life_expect": 69.61,
          "pop": 31262358,
          "year": 1965
         },
         {
          "cluster": 1,
          "country": "Poland",
          "fertility": 2.25,
          "life_expect": 70.85,
          "pop": 32526000,
          "year": 1970
         },
         {
          "cluster": 1,
          "country": "Poland",
          "fertility": 2.26,
          "life_expect": 70.67,
          "pop": 33969240,
          "year": 1975
         },
         {
          "cluster": 1,
          "country": "Poland",
          "fertility": 2.33,
          "life_expect": 71.32,
          "pop": 35578016,
          "year": 1980
         },
         {
          "cluster": 1,
          "country": "Poland",
          "fertility": 2.15,
          "life_expect": 70.98,
          "pop": 37225792,
          "year": 1985
         },
         {
          "cluster": 1,
          "country": "Poland",
          "fertility": 1.8900000000000001,
          "life_expect": 70.99,
          "pop": 38119408,
          "year": 1990
         },
         {
          "cluster": 1,
          "country": "Poland",
          "fertility": 1.478,
          "life_expect": 72.75,
          "pop": 38600642,
          "year": 1995
         },
         {
          "cluster": 1,
          "country": "Poland",
          "fertility": 1.251,
          "life_expect": 74.67,
          "pop": 38654164,
          "year": 2000
         },
         {
          "cluster": 1,
          "country": "Poland",
          "fertility": 1.227,
          "life_expect": 75.563,
          "pop": 38557984,
          "year": 2005
         },
         {
          "cluster": 1,
          "country": "Portugal",
          "fertility": 3.03,
          "life_expect": 61.51,
          "pop": 8692600,
          "year": 1955
         },
         {
          "cluster": 1,
          "country": "Portugal",
          "fertility": 3.074,
          "life_expect": 64.39,
          "pop": 9036700,
          "year": 1960
         },
         {
          "cluster": 1,
          "country": "Portugal",
          "fertility": 2.849,
          "life_expect": 66.6,
          "pop": 9128850,
          "year": 1965
         },
         {
          "cluster": 1,
          "country": "Portugal",
          "fertility": 2.748,
          "life_expect": 69.26,
          "pop": 9044200,
          "year": 1970
         },
         {
          "cluster": 1,
          "country": "Portugal",
          "fertility": 2.41,
          "life_expect": 70.41,
          "pop": 9411090,
          "year": 1975
         },
         {
          "cluster": 1,
          "country": "Portugal",
          "fertility": 1.982,
          "life_expect": 72.77,
          "pop": 9777800,
          "year": 1980
         },
         {
          "cluster": 1,
          "country": "Portugal",
          "fertility": 1.5939999999999999,
          "life_expect": 74.06,
          "pop": 9897192,
          "year": 1985
         },
         {
          "cluster": 1,
          "country": "Portugal",
          "fertility": 1.516,
          "life_expect": 74.86,
          "pop": 9922689,
          "year": 1990
         },
         {
          "cluster": 1,
          "country": "Portugal",
          "fertility": 1.475,
          "life_expect": 75.97,
          "pop": 10065543,
          "year": 1995
         },
         {
          "cluster": 1,
          "country": "Portugal",
          "fertility": 1.454,
          "life_expect": 77.29,
          "pop": 10335597,
          "year": 2000
         },
         {
          "cluster": 1,
          "country": "Portugal",
          "fertility": 1.455,
          "life_expect": 78.098,
          "pop": 10566212,
          "year": 2005
         },
         {
          "cluster": 2,
          "country": "Rwanda",
          "fertility": 8,
          "life_expect": 41.5,
          "pop": 2698272,
          "year": 1955
         },
         {
          "cluster": 2,
          "country": "Rwanda",
          "fertility": 8.1,
          "life_expect": 43,
          "pop": 3031804,
          "year": 1960
         },
         {
          "cluster": 2,
          "country": "Rwanda",
          "fertility": 8.2,
          "life_expect": 44.1,
          "pop": 3264640,
          "year": 1965
         },
         {
          "cluster": 2,
          "country": "Rwanda",
          "fertility": 8.29,
          "life_expect": 44.6,
          "pop": 3769171,
          "year": 1970
         },
         {
          "cluster": 2,
          "country": "Rwanda",
          "fertility": 8.492,
          "life_expect": 45,
          "pop": 4356863,
          "year": 1975
         },
         {
          "cluster": 2,
          "country": "Rwanda",
          "fertility": 8.5,
          "life_expect": 46.218,
          "pop": 5138689,
          "year": 1980
         },
         {
          "cluster": 2,
          "country": "Rwanda",
          "fertility": 8.25,
          "life_expect": 44.02,
          "pop": 6009833,
          "year": 1985
         },
         {
          "cluster": 2,
          "country": "Rwanda",
          "fertility": 6.9,
          "life_expect": 23.599,
          "pop": 6923738,
          "year": 1990
         },
         {
          "cluster": 2,
          "country": "Rwanda",
          "fertility": 6.0993,
          "life_expect": 36.087,
          "pop": 5706501,
          "year": 1995
         },
         {
          "cluster": 2,
          "country": "Rwanda",
          "fertility": 6.01,
          "life_expect": 43.413,
          "pop": 7507056,
          "year": 2000
         },
         {
          "cluster": 2,
          "country": "Rwanda",
          "fertility": 5.9169,
          "life_expect": 46.242,
          "pop": 8440820,
          "year": 2005
         },
         {
          "cluster": 5,
          "country": "Saudi Arabia",
          "fertility": 7.175,
          "life_expect": 42.868,
          "pop": 4243218,
          "year": 1955
         },
         {
          "cluster": 5,
          "country": "Saudi Arabia",
          "fertility": 7.257,
          "life_expect": 45.914,
          "pop": 4718301,
          "year": 1960
         },
         {
          "cluster": 5,
          "country": "Saudi Arabia",
          "fertility": 7.257,
          "life_expect": 49.901,
          "pop": 5327432,
          "year": 1965
         },
         {
          "cluster": 5,
          "country": "Saudi Arabia",
          "fertility": 7.298,
          "life_expect": 53.886,
          "pop": 6109051,
          "year": 1970
         },
         {
          "cluster": 5,
          "country": "Saudi Arabia",
          "fertility": 7.2780000000000005,
          "life_expect": 58.69,
          "pop": 7204820,
          "year": 1975
         },
         {
          "cluster": 5,
          "country": "Saudi Arabia",
          "fertility": 7.015,
          "life_expect": 63.012,
          "pop": 9999161,
          "year": 1980
         },
         {
          "cluster": 5,
          "country": "Saudi Arabia",
          "fertility": 6.217,
          "life_expect": 66.295,
          "pop": 13330067,
          "year": 1985
         },
         {
          "cluster": 5,
          "country": "Saudi Arabia",
          "fertility": 5.446,
          "life_expect": 68.768,
          "pop": 16060761,
          "year": 1990
         },
         {
          "cluster": 5,
          "country": "Saudi Arabia",
          "fertility": 4.621,
          "life_expect": 70.533,
          "pop": 19966998,
          "year": 1995
         },
         {
          "cluster": 5,
          "country": "Saudi Arabia",
          "fertility": 3.81,
          "life_expect": 71.626,
          "pop": 23153090,
          "year": 2000
         },
         {
          "cluster": 5,
          "country": "Saudi Arabia",
          "fertility": 3.352,
          "life_expect": 72.777,
          "pop": 26417599,
          "year": 2005
         },
         {
          "cluster": 2,
          "country": "South Africa",
          "fertility": 6.5,
          "life_expect": 47.985,
          "pop": 15368551,
          "year": 1955
         },
         {
          "cluster": 2,
          "country": "South Africa",
          "fertility": 6.3,
          "life_expect": 49.951,
          "pop": 17416653,
          "year": 1960
         },
         {
          "cluster": 2,
          "country": "South Africa",
          "fertility": 5.7,
          "life_expect": 51.927,
          "pop": 19898242,
          "year": 1965
         },
         {
          "cluster": 2,
          "country": "South Africa",
          "fertility": 5.47,
          "life_expect": 53.696,
          "pop": 22739921,
          "year": 1970
         },
         {
          "cluster": 2,
          "country": "South Africa",
          "fertility": 5,
          "life_expect": 55.527,
          "pop": 25815144,
          "year": 1975
         },
         {
          "cluster": 2,
          "country": "South Africa",
          "fertility": 4.556,
          "life_expect": 58.161,
          "pop": 29251588,
          "year": 1980
         },
         {
          "cluster": 2,
          "country": "South Africa",
          "fertility": 3.85,
          "life_expect": 60.834,
          "pop": 34254092,
          "year": 1985
         },
         {
          "cluster": 2,
          "country": "South Africa",
          "fertility": 3.343,
          "life_expect": 61.888,
          "pop": 38391094,
          "year": 1990
         },
         {
          "cluster": 2,
          "country": "South Africa",
          "fertility": 2.954,
          "life_expect": 60.236,
          "pop": 41779149,
          "year": 1995
         },
         {
          "cluster": 2,
          "country": "South Africa",
          "fertility": 2.802,
          "life_expect": 53.365,
          "pop": 44066197,
          "year": 2000
         },
         {
          "cluster": 2,
          "country": "South Africa",
          "fertility": 2.637,
          "life_expect": 49.339,
          "pop": 44344136,
          "year": 2005
         },
         {
          "cluster": 1,
          "country": "Spain",
          "fertility": 2.75,
          "life_expect": 66.66,
          "pop": 29318745,
          "year": 1955
         },
         {
          "cluster": 1,
          "country": "Spain",
          "fertility": 2.89,
          "life_expect": 69.69,
          "pop": 30641187,
          "year": 1960
         },
         {
          "cluster": 1,
          "country": "Spain",
          "fertility": 2.92,
          "life_expect": 71.44,
          "pop": 32084511,
          "year": 1965
         },
         {
          "cluster": 1,
          "country": "Spain",
          "fertility": 2.86,
          "life_expect": 73.06,
          "pop": 33876479,
          "year": 1970
         },
         {
          "cluster": 1,
          "country": "Spain",
          "fertility": 2.5700000000000003,
          "life_expect": 74.39,
          "pop": 35563535,
          "year": 1975
         },
         {
          "cluster": 1,
          "country": "Spain",
          "fertility": 1.8900000000000001,
          "life_expect": 76.3,
          "pop": 37488360,
          "year": 1980
         },
         {
          "cluster": 1,
          "country": "Spain",
          "fertility": 1.48,
          "life_expect": 76.9,
          "pop": 38534853,
          "year": 1985
         },
         {
          "cluster": 1,
          "country": "Spain",
          "fertility": 1.27,
          "life_expect": 77.57,
          "pop": 39350769,
          "year": 1990
         },
         {
          "cluster": 1,
          "country": "Spain",
          "fertility": 1.182,
          "life_expect": 78.77,
          "pop": 39749715,
          "year": 1995
         },
         {
          "cluster": 1,
          "country": "Spain",
          "fertility": 1.287,
          "life_expect": 79.78,
          "pop": 40016081,
          "year": 2000
         },
         {
          "cluster": 1,
          "country": "Spain",
          "fertility": 1.409,
          "life_expect": 80.941,
          "pop": 40341462,
          "year": 2005
         },
         {
          "cluster": 1,
          "country": "Switzerland",
          "fertility": 2.34,
          "life_expect": 70.56,
          "pop": 4980000,
          "year": 1955
         },
         {
          "cluster": 1,
          "country": "Switzerland",
          "fertility": 2.51,
          "life_expect": 71.32,
          "pop": 5362000,
          "year": 1960
         },
         {
          "cluster": 1,
          "country": "Switzerland",
          "fertility": 2.27,
          "life_expect": 72.77,
          "pop": 5943000,
          "year": 1965
         },
         {
          "cluster": 1,
          "country": "Switzerland",
          "fertility": 1.82,
          "life_expect": 73.78,
          "pop": 6267000,
          "year": 1970
         },
         {
          "cluster": 1,
          "country": "Switzerland",
          "fertility": 1.53,
          "life_expect": 75.39,
          "pop": 6403500,
          "year": 1975
         },
         {
          "cluster": 1,
          "country": "Switzerland",
          "fertility": 1.53,
          "life_expect": 76.21,
          "pop": 6385229,
          "year": 1980
         },
         {
          "cluster": 1,
          "country": "Switzerland",
          "fertility": 1.53,
          "life_expect": 77.41,
          "pop": 6563770,
          "year": 1985
         },
         {
          "cluster": 1,
          "country": "Switzerland",
          "fertility": 1.54,
          "life_expect": 78.03,
          "pop": 6836626,
          "year": 1990
         },
         {
          "cluster": 1,
          "country": "Switzerland",
          "fertility": 1.47,
          "life_expect": 79.37,
          "pop": 7157106,
          "year": 1995
         },
         {
          "cluster": 1,
          "country": "Switzerland",
          "fertility": 1.415,
          "life_expect": 80.62,
          "pop": 7266920,
          "year": 2000
         },
         {
          "cluster": 1,
          "country": "Switzerland",
          "fertility": 1.42,
          "life_expect": 81.701,
          "pop": 7489370,
          "year": 2005
         },
         {
          "cluster": 1,
          "country": "Turkey",
          "fertility": 6.6,
          "life_expect": 48.079,
          "pop": 24144571,
          "year": 1955
         },
         {
          "cluster": 1,
          "country": "Turkey",
          "fertility": 6.19,
          "life_expect": 52.098,
          "pop": 28217122,
          "year": 1960
         },
         {
          "cluster": 1,
          "country": "Turkey",
          "fertility": 5.7,
          "life_expect": 54.336,
          "pop": 31950718,
          "year": 1965
         },
         {
          "cluster": 1,
          "country": "Turkey",
          "fertility": 5.3,
          "life_expect": 57.005,
          "pop": 35758382,
          "year": 1970
         },
         {
          "cluster": 1,
          "country": "Turkey",
          "fertility": 4.715,
          "life_expect": 59.507,
          "pop": 40529798,
          "year": 1975
         },
         {
          "cluster": 1,
          "country": "Turkey",
          "fertility": 4.15,
          "life_expect": 61.036,
          "pop": 45120802,
          "year": 1980
         },
         {
          "cluster": 1,
          "country": "Turkey",
          "fertility": 3.276,
          "life_expect": 63.108,
          "pop": 50669003,
          "year": 1985
         },
         {
          "cluster": 1,
          "country": "Turkey",
          "fertility": 2.904,
          "life_expect": 66.146,
          "pop": 56084632,
          "year": 1990
         },
         {
          "cluster": 1,
          "country": "Turkey",
          "fertility": 2.574,
          "life_expect": 68.835,
          "pop": 61188984,
          "year": 1995
         },
         {
          "cluster": 1,
          "country": "Turkey",
          "fertility": 2.23,
          "life_expect": 70.845,
          "pop": 65666677,
          "year": 2000
         },
         {
          "cluster": 1,
          "country": "Turkey",
          "fertility": 2.143,
          "life_expect": 71.777,
          "pop": 69660559,
          "year": 2005
         },
         {
          "cluster": 1,
          "country": "United Kingdom",
          "fertility": 2.49,
          "life_expect": 70.42,
          "pop": 50946000,
          "year": 1955
         },
         {
          "cluster": 1,
          "country": "United Kingdom",
          "fertility": 2.81,
          "life_expect": 70.76,
          "pop": 52372000,
          "year": 1960
         },
         {
          "cluster": 1,
          "country": "United Kingdom",
          "fertility": 2.52,
          "life_expect": 71.36,
          "pop": 54350000,
          "year": 1965
         },
         {
          "cluster": 1,
          "country": "United Kingdom",
          "fertility": 2.04,
          "life_expect": 72.01,
          "pop": 55632000,
          "year": 1970
         },
         {
          "cluster": 1,
          "country": "United Kingdom",
          "fertility": 1.72,
          "life_expect": 72.76,
          "pop": 56215000,
          "year": 1975
         },
         {
          "cluster": 1,
          "country": "United Kingdom",
          "fertility": 1.8,
          "life_expect": 74.04,
          "pop": 56314000,
          "year": 1980
         },
         {
          "cluster": 1,
          "country": "United Kingdom",
          "fertility": 1.81,
          "life_expect": 75.007,
          "pop": 56620240,
          "year": 1985
         },
         {
          "cluster": 1,
          "country": "United Kingdom",
          "fertility": 1.78,
          "life_expect": 76.42,
          "pop": 57493307,
          "year": 1990
         },
         {
          "cluster": 1,
          "country": "United Kingdom",
          "fertility": 1.7000000000000002,
          "life_expect": 77.218,
          "pop": 58426014,
          "year": 1995
         },
         {
          "cluster": 1,
          "country": "United Kingdom",
          "fertility": 1.695,
          "life_expect": 78.471,
          "pop": 59522468,
          "year": 2000
         },
         {
          "cluster": 1,
          "country": "United Kingdom",
          "fertility": 1.815,
          "life_expect": 79.425,
          "pop": 60441457,
          "year": 2005
         },
         {
          "cluster": 3,
          "country": "United States",
          "fertility": 3.706,
          "life_expect": 69.49,
          "pop": 165931000,
          "year": 1955
         },
         {
          "cluster": 3,
          "country": "United States",
          "fertility": 3.314,
          "life_expect": 70.21,
          "pop": 180671000,
          "year": 1960
         },
         {
          "cluster": 3,
          "country": "United States",
          "fertility": 2.545,
          "life_expect": 70.76,
          "pop": 194303000,
          "year": 1965
         },
         {
          "cluster": 3,
          "country": "United States",
          "fertility": 2.016,
          "life_expect": 71.34,
          "pop": 205052000,
          "year": 1970
         },
         {
          "cluster": 3,
          "country": "United States",
          "fertility": 1.788,
          "life_expect": 73.38,
          "pop": 215973000,
          "year": 1975
         },
         {
          "cluster": 3,
          "country": "United States",
          "fertility": 1.8250000000000002,
          "life_expect": 74.65,
          "pop": 227726463,
          "year": 1980
         },
         {
          "cluster": 3,
          "country": "United States",
          "fertility": 1.924,
          "life_expect": 75.02,
          "pop": 238466283,
          "year": 1985
         },
         {
          "cluster": 3,
          "country": "United States",
          "fertility": 2.025,
          "life_expect": 76.09,
          "pop": 250131894,
          "year": 1990
         },
         {
          "cluster": 3,
          "country": "United States",
          "fertility": 1.994,
          "life_expect": 76.81,
          "pop": 266557091,
          "year": 1995
         },
         {
          "cluster": 3,
          "country": "United States",
          "fertility": 2.038,
          "life_expect": 77.31,
          "pop": 282338631,
          "year": 2000
         },
         {
          "cluster": 3,
          "country": "United States",
          "fertility": 2.054,
          "life_expect": 78.242,
          "pop": 295734134,
          "year": 2005
         },
         {
          "cluster": 3,
          "country": "Venezuela",
          "fertility": 6.4585,
          "life_expect": 57.907,
          "pop": 6170497,
          "year": 1955
         },
         {
          "cluster": 3,
          "country": "Venezuela",
          "fertility": 6.657,
          "life_expect": 60.77,
          "pop": 7556483,
          "year": 1960
         },
         {
          "cluster": 3,
          "country": "Venezuela",
          "fertility": 5.9045000000000005,
          "life_expect": 63.479,
          "pop": 9067735,
          "year": 1965
         },
         {
          "cluster": 3,
          "country": "Venezuela",
          "fertility": 4.941,
          "life_expect": 65.712,
          "pop": 10758017,
          "year": 1970
         },
         {
          "cluster": 3,
          "country": "Venezuela",
          "fertility": 4.4685,
          "life_expect": 67.456,
          "pop": 12674987,
          "year": 1975
         },
         {
          "cluster": 3,
          "country": "Venezuela",
          "fertility": 3.957,
          "life_expect": 68.557,
          "pop": 14767890,
          "year": 1980
         },
         {
          "cluster": 3,
          "country": "Venezuela",
          "fertility": 3.6485000000000003,
          "life_expect": 70.19,
          "pop": 16997509,
          "year": 1985
         },
         {
          "cluster": 3,
          "country": "Venezuela",
          "fertility": 3.25,
          "life_expect": 71.15,
          "pop": 19325222,
          "year": 1990
         },
         {
          "cluster": 3,
          "country": "Venezuela",
          "fertility": 2.9415,
          "life_expect": 72.146,
          "pop": 21555902,
          "year": 1995
         },
         {
          "cluster": 3,
          "country": "Venezuela",
          "fertility": 2.723,
          "life_expect": 72.766,
          "pop": 23542649,
          "year": 2000
         },
         {
          "cluster": 3,
          "country": "Venezuela",
          "fertility": 2.547,
          "life_expect": 73.747,
          "pop": 25375281,
          "year": 2005
         }
        ]
       },
       "encoding": {
        "color": {
         "field": "cluster",
         "type": "nominal"
        },
        "size": {
         "field": "pop",
         "type": "quantitative"
        },
        "tooltip": {
         "field": "country",
         "type": "nominal"
        },
        "x": {
         "axis": {
          "title": "Life Expectancy (Years)"
         },
         "field": "life_expect",
         "scale": {
          "clamp": true,
          "domain": [
           30,
           85
          ],
          "zero": false
         },
         "type": "quantitative"
        },
        "y": {
         "axis": {
          "title": "No. of Children Per Woman"
         },
         "field": "fertility",
         "scale": {
          "clamp": true,
          "domain": [
           1,
           8
          ],
          "zero": false
         },
         "type": "quantitative"
        }
       },
       "mark": "circle",
       "selection": {
        "Select": {
         "bind": {
          "input": "range",
          "max": 2005,
          "min": 1955,
          "step": 5
         },
         "empty": "none",
         "fields": [
          "year"
         ],
         "on": "click",
         "resolve": "global",
         "type": "single"
        }
       },
       "transform": [
        {
         "filter": {
          "selection": "Select"
         }
        }
       ],
       "width": 500
      },
      "image/png": "[encoded data removed]",
      "text/plain": [
       "<VegaLite 2 object>\n",
       "\n",
       "If you see this message, it means the renderer has not been properly enabled\n",
       "for the frontend that you are using. For more information, see\n",
       "https://altair-viz.github.io/user_guide/troubleshooting.html\n"
      ]
     },
     "execution_count": 6,
     "metadata": {},
     "output_type": "execute_result"
    }
   ],
   "source": [
    "gapminder = data.gapminder()\n",
    "gapminder.head()\n",
    "\n",
    "slider = alt.binding_range(min=1955, \n",
    "                           max=2005, \n",
    "                           step=5)\n",
    "\n",
    "year = alt.selection_single(name=\"Select\",\n",
    "                            fields=['year'], \n",
    "                            bind=slider,\n",
    "                           empty='none')\n",
    "\n",
    "(alt\n",
    " .Chart(data=gapminder, width=500)\n",
    " .mark_circle()\n",
    " .encode(alt.X('life_expect:Q', \n",
    "               scale=alt.Scale(zero=False, domain=(30, 85), clamp=True),\n",
    "               axis=alt.Axis(title='Life Expectancy (Years)')),\n",
    "         alt.Y('fertility:Q',\n",
    "               scale=alt.Scale(zero=False, domain=(1, 8), clamp=True),\n",
    "               axis=alt.Axis(title='No. of Children Per Woman')),\n",
    "         color='cluster:N',\n",
    "         size='pop',\n",
    "         tooltip='country:N')\n",
    " .properties(selection=year)\n",
    " .transform_filter(year.ref())\n",
    ")"
   ]
  },
  {
   "cell_type": "markdown",
   "metadata": {},
   "source": [
    "## Population\n",
    "\n",
    "This data contains the US population sub-divided by age and sex every decade from 1850 to near the present.\n",
    "\n",
    "Note that, while you may be tempted to use a temporal encoding for the year, here the year is simply a number, not a date stamp, and so temporal encoding is not the best choice."
   ]
  },
  {
   "cell_type": "code",
   "execution_count": 7,
   "metadata": {},
   "outputs": [
    {
     "data": {
      "application/vnd.vegalite.v2+json": {
       "$schema": "https://vega.github.io/schema/vega-lite/v2.4.1.json",
       "config": {
        "view": {
         "height": 300,
         "width": 400
        }
       },
       "data": {
        "values": [
         {
          "age": 0,
          "gender": "Male",
          "people": 1.483789,
          "sex": 1,
          "year": 1850
         },
         {
          "age": 0,
          "gender": "Female",
          "people": 1.450376,
          "sex": 2,
          "year": 1850
         },
         {
          "age": 5,
          "gender": "Male",
          "people": 1.411067,
          "sex": 1,
          "year": 1850
         },
         {
          "age": 5,
          "gender": "Female",
          "people": 1.359668,
          "sex": 2,
          "year": 1850
         },
         {
          "age": 10,
          "gender": "Male",
          "people": 1.260099,
          "sex": 1,
          "year": 1850
         },
         {
          "age": 10,
          "gender": "Female",
          "people": 1.216114,
          "sex": 2,
          "year": 1850
         },
         {
          "age": 15,
          "gender": "Male",
          "people": 1.077133,
          "sex": 1,
          "year": 1850
         },
         {
          "age": 15,
          "gender": "Female",
          "people": 1.110619,
          "sex": 2,
          "year": 1850
         },
         {
          "age": 20,
          "gender": "Male",
          "people": 1.017281,
          "sex": 1,
          "year": 1850
         },
         {
          "age": 20,
          "gender": "Female",
          "people": 1.003841,
          "sex": 2,
          "year": 1850
         },
         {
          "age": 25,
          "gender": "Male",
          "people": 0.862547,
          "sex": 1,
          "year": 1850
         },
         {
          "age": 25,
          "gender": "Female",
          "people": 0.799482,
          "sex": 2,
          "year": 1850
         },
         {
          "age": 30,
          "gender": "Male",
          "people": 0.730638,
          "sex": 1,
          "year": 1850
         },
         {
          "age": 30,
          "gender": "Female",
          "people": 0.639636,
          "sex": 2,
          "year": 1850
         },
         {
          "age": 35,
          "gender": "Male",
          "people": 0.588487,
          "sex": 1,
          "year": 1850
         },
         {
          "age": 35,
          "gender": "Female",
          "people": 0.505012,
          "sex": 2,
          "year": 1850
         },
         {
          "age": 40,
          "gender": "Male",
          "people": 0.475911,
          "sex": 1,
          "year": 1850
         },
         {
          "age": 40,
          "gender": "Female",
          "people": 0.428185,
          "sex": 2,
          "year": 1850
         },
         {
          "age": 45,
          "gender": "Male",
          "people": 0.384211,
          "sex": 1,
          "year": 1850
         },
         {
          "age": 45,
          "gender": "Female",
          "people": 0.341254,
          "sex": 2,
          "year": 1850
         },
         {
          "age": 50,
          "gender": "Male",
          "people": 0.321343,
          "sex": 1,
          "year": 1850
         },
         {
          "age": 50,
          "gender": "Female",
          "people": 0.28658,
          "sex": 2,
          "year": 1850
         },
         {
          "age": 55,
          "gender": "Male",
          "people": 0.19408,
          "sex": 1,
          "year": 1850
         },
         {
          "age": 55,
          "gender": "Female",
          "people": 0.187208,
          "sex": 2,
          "year": 1850
         },
         {
          "age": 60,
          "gender": "Male",
          "people": 0.174976,
          "sex": 1,
          "year": 1850
         },
         {
          "age": 60,
          "gender": "Female",
          "people": 0.162236,
          "sex": 2,
          "year": 1850
         },
         {
          "age": 65,
          "gender": "Male",
          "people": 0.106827,
          "sex": 1,
          "year": 1850
         },
         {
          "age": 65,
          "gender": "Female",
          "people": 0.105534,
          "sex": 2,
          "year": 1850
         },
         {
          "age": 70,
          "gender": "Male",
          "people": 0.073677,
          "sex": 1,
          "year": 1850
         },
         {
          "age": 70,
          "gender": "Female",
          "people": 0.071762,
          "sex": 2,
          "year": 1850
         },
         {
          "age": 75,
          "gender": "Male",
          "people": 0.040834,
          "sex": 1,
          "year": 1850
         },
         {
          "age": 75,
          "gender": "Female",
          "people": 0.040229,
          "sex": 2,
          "year": 1850
         },
         {
          "age": 80,
          "gender": "Male",
          "people": 0.023449,
          "sex": 1,
          "year": 1850
         },
         {
          "age": 80,
          "gender": "Female",
          "people": 0.022949,
          "sex": 2,
          "year": 1850
         },
         {
          "age": 85,
          "gender": "Male",
          "people": 0.008186,
          "sex": 1,
          "year": 1850
         },
         {
          "age": 85,
          "gender": "Female",
          "people": 0.010511,
          "sex": 2,
          "year": 1850
         },
         {
          "age": 90,
          "gender": "Male",
          "people": 0.005259,
          "sex": 1,
          "year": 1850
         },
         {
          "age": 90,
          "gender": "Female",
          "people": 0.006569,
          "sex": 2,
          "year": 1850
         },
         {
          "age": 0,
          "gender": "Male",
          "people": 2.120846,
          "sex": 1,
          "year": 1860
         },
         {
          "age": 0,
          "gender": "Female",
          "people": 2.092162,
          "sex": 2,
          "year": 1860
         },
         {
          "age": 5,
          "gender": "Male",
          "people": 1.804467,
          "sex": 1,
          "year": 1860
         },
         {
          "age": 5,
          "gender": "Female",
          "people": 1.778772,
          "sex": 2,
          "year": 1860
         },
         {
          "age": 10,
          "gender": "Male",
          "people": 1.61264,
          "sex": 1,
          "year": 1860
         },
         {
          "age": 10,
          "gender": "Female",
          "people": 1.54035,
          "sex": 2,
          "year": 1860
         },
         {
          "age": 15,
          "gender": "Male",
          "people": 1.438094,
          "sex": 1,
          "year": 1860
         },
         {
          "age": 15,
          "gender": "Female",
          "people": 1.495999,
          "sex": 2,
          "year": 1860
         },
         {
          "age": 20,
          "gender": "Male",
          "people": 1.351121,
          "sex": 1,
          "year": 1860
         },
         {
          "age": 20,
          "gender": "Female",
          "people": 1.370462,
          "sex": 2,
          "year": 1860
         },
         {
          "age": 25,
          "gender": "Male",
          "people": 1.217615,
          "sex": 1,
          "year": 1860
         },
         {
          "age": 25,
          "gender": "Female",
          "people": 1.116373,
          "sex": 2,
          "year": 1860
         },
         {
          "age": 30,
          "gender": "Male",
          "people": 1.043174,
          "sex": 1,
          "year": 1860
         },
         {
          "age": 30,
          "gender": "Female",
          "people": 0.936055,
          "sex": 2,
          "year": 1860
         },
         {
          "age": 35,
          "gender": "Male",
          "people": 0.86691,
          "sex": 1,
          "year": 1860
         },
         {
          "age": 35,
          "gender": "Female",
          "people": 0.737136,
          "sex": 2,
          "year": 1860
         },
         {
          "age": 40,
          "gender": "Male",
          "people": 0.699434,
          "sex": 1,
          "year": 1860
         },
         {
          "age": 40,
          "gender": "Female",
          "people": 0.616826,
          "sex": 2,
          "year": 1860
         },
         {
          "age": 45,
          "gender": "Male",
          "people": 0.552404,
          "sex": 1,
          "year": 1860
         },
         {
          "age": 45,
          "gender": "Female",
          "people": 0.461739,
          "sex": 2,
          "year": 1860
         },
         {
          "age": 50,
          "gender": "Male",
          "people": 0.456176,
          "sex": 1,
          "year": 1860
         },
         {
          "age": 50,
          "gender": "Female",
          "people": 0.407305,
          "sex": 2,
          "year": 1860
         },
         {
          "age": 55,
          "gender": "Male",
          "people": 0.292417,
          "sex": 1,
          "year": 1860
         },
         {
          "age": 55,
          "gender": "Female",
          "people": 0.267224,
          "sex": 2,
          "year": 1860
         },
         {
          "age": 60,
          "gender": "Male",
          "people": 0.260887,
          "sex": 1,
          "year": 1860
         },
         {
          "age": 60,
          "gender": "Female",
          "people": 0.249735,
          "sex": 2,
          "year": 1860
         },
         {
          "age": 65,
          "gender": "Male",
          "people": 0.149331,
          "sex": 1,
          "year": 1860
         },
         {
          "age": 65,
          "gender": "Female",
          "people": 0.141405,
          "sex": 2,
          "year": 1860
         },
         {
          "age": 70,
          "gender": "Male",
          "people": 0.098465,
          "sex": 1,
          "year": 1860
         },
         {
          "age": 70,
          "gender": "Female",
          "people": 0.101778,
          "sex": 2,
          "year": 1860
         },
         {
          "age": 75,
          "gender": "Male",
          "people": 0.056699,
          "sex": 1,
          "year": 1860
         },
         {
          "age": 75,
          "gender": "Female",
          "people": 0.057597,
          "sex": 2,
          "year": 1860
         },
         {
          "age": 80,
          "gender": "Male",
          "people": 0.029007,
          "sex": 1,
          "year": 1860
         },
         {
          "age": 80,
          "gender": "Female",
          "people": 0.029506,
          "sex": 2,
          "year": 1860
         },
         {
          "age": 85,
          "gender": "Male",
          "people": 0.010434,
          "sex": 1,
          "year": 1860
         },
         {
          "age": 85,
          "gender": "Female",
          "people": 0.014053,
          "sex": 2,
          "year": 1860
         },
         {
          "age": 90,
          "gender": "Male",
          "people": 0.007232,
          "sex": 1,
          "year": 1860
         },
         {
          "age": 90,
          "gender": "Female",
          "people": 0.006622,
          "sex": 2,
          "year": 1860
         },
         {
          "age": 0,
          "gender": "Male",
          "people": 2.800083,
          "sex": 1,
          "year": 1870
         },
         {
          "age": 0,
          "gender": "Female",
          "people": 2.717102,
          "sex": 2,
          "year": 1870
         },
         {
          "age": 5,
          "gender": "Male",
          "people": 2.428469,
          "sex": 1,
          "year": 1870
         },
         {
          "age": 5,
          "gender": "Female",
          "people": 2.39368,
          "sex": 2,
          "year": 1870
         },
         {
          "age": 10,
          "gender": "Male",
          "people": 2.427341,
          "sex": 1,
          "year": 1870
         },
         {
          "age": 10,
          "gender": "Female",
          "people": 2.34267,
          "sex": 2,
          "year": 1870
         },
         {
          "age": 15,
          "gender": "Male",
          "people": 1.95839,
          "sex": 1,
          "year": 1870
         },
         {
          "age": 15,
          "gender": "Female",
          "people": 2.077248,
          "sex": 2,
          "year": 1870
         },
         {
          "age": 20,
          "gender": "Male",
          "people": 1.805303,
          "sex": 1,
          "year": 1870
         },
         {
          "age": 20,
          "gender": "Female",
          "people": 1.909382,
          "sex": 2,
          "year": 1870
         },
         {
          "age": 25,
          "gender": "Male",
          "people": 1.509059,
          "sex": 1,
          "year": 1870
         },
         {
          "age": 25,
          "gender": "Female",
          "people": 1.574285,
          "sex": 2,
          "year": 1870
         },
         {
          "age": 30,
          "gender": "Male",
          "people": 1.251534,
          "sex": 1,
          "year": 1870
         },
         {
          "age": 30,
          "gender": "Female",
          "people": 1.275629,
          "sex": 2,
          "year": 1870
         },
         {
          "age": 35,
          "gender": "Male",
          "people": 1.185336,
          "sex": 1,
          "year": 1870
         },
         {
          "age": 35,
          "gender": "Female",
          "people": 1.13749,
          "sex": 2,
          "year": 1870
         },
         {
          "age": 40,
          "gender": "Male",
          "people": 0.968861,
          "sex": 1,
          "year": 1870
         },
         {
          "age": 40,
          "gender": "Female",
          "people": 0.944401,
          "sex": 2,
          "year": 1870
         },
         {
          "age": 45,
          "gender": "Male",
          "people": 0.852672,
          "sex": 1,
          "year": 1870
         },
         {
          "age": 45,
          "gender": "Female",
          "people": 0.747916,
          "sex": 2,
          "year": 1870
         },
         {
          "age": 50,
          "gender": "Male",
          "people": 0.736387,
          "sex": 1,
          "year": 1870
         },
         {
          "age": 50,
          "gender": "Female",
          "people": 0.637801,
          "sex": 2,
          "year": 1870
         },
         {
          "age": 55,
          "gender": "Male",
          "people": 0.486036,
          "sex": 1,
          "year": 1870
         },
         {
          "age": 55,
          "gender": "Female",
          "people": 0.407819,
          "sex": 2,
          "year": 1870
         },
         {
          "age": 60,
          "gender": "Male",
          "people": 0.399264,
          "sex": 1,
          "year": 1870
         },
         {
          "age": 60,
          "gender": "Female",
          "people": 0.374801,
          "sex": 2,
          "year": 1870
         },
         {
          "age": 65,
          "gender": "Male",
          "people": 0.260829,
          "sex": 1,
          "year": 1870
         },
         {
          "age": 65,
          "gender": "Female",
          "people": 0.23908,
          "sex": 2,
          "year": 1870
         },
         {
          "age": 70,
          "gender": "Male",
          "people": 0.173364,
          "sex": 1,
          "year": 1870
         },
         {
          "age": 70,
          "gender": "Female",
          "people": 0.165501,
          "sex": 2,
          "year": 1870
         },
         {
          "age": 75,
          "gender": "Male",
          "people": 0.086929,
          "sex": 1,
          "year": 1870
         },
         {
          "age": 75,
          "gender": "Female",
          "people": 0.08954,
          "sex": 2,
          "year": 1870
         },
         {
          "age": 80,
          "gender": "Male",
          "people": 0.047427,
          "sex": 1,
          "year": 1870
         },
         {
          "age": 80,
          "gender": "Female",
          "people": 0.05419,
          "sex": 2,
          "year": 1870
         },
         {
          "age": 85,
          "gender": "Male",
          "people": 0.015891,
          "sex": 1,
          "year": 1870
         },
         {
          "age": 85,
          "gender": "Female",
          "people": 0.019302,
          "sex": 2,
          "year": 1870
         },
         {
          "age": 90,
          "gender": "Male",
          "people": 0.008649,
          "sex": 1,
          "year": 1870
         },
         {
          "age": 90,
          "gender": "Female",
          "people": 0.013068,
          "sex": 2,
          "year": 1870
         },
         {
          "age": 0,
          "gender": "Male",
          "people": 3.533662,
          "sex": 1,
          "year": 1880
         },
         {
          "age": 0,
          "gender": "Female",
          "people": 3.421597,
          "sex": 2,
          "year": 1880
         },
         {
          "age": 5,
          "gender": "Male",
          "people": 3.297503,
          "sex": 1,
          "year": 1880
         },
         {
          "age": 5,
          "gender": "Female",
          "people": 3.179142,
          "sex": 2,
          "year": 1880
         },
         {
          "age": 10,
          "gender": "Male",
          "people": 2.911924,
          "sex": 1,
          "year": 1880
         },
         {
          "age": 10,
          "gender": "Female",
          "people": 2.81355,
          "sex": 2,
          "year": 1880
         },
         {
          "age": 15,
          "gender": "Male",
          "people": 2.457734,
          "sex": 1,
          "year": 1880
         },
         {
          "age": 15,
          "gender": "Female",
          "people": 2.527818,
          "sex": 2,
          "year": 1880
         },
         {
          "age": 20,
          "gender": "Male",
          "people": 2.54778,
          "sex": 1,
          "year": 1880
         },
         {
          "age": 20,
          "gender": "Female",
          "people": 2.512803,
          "sex": 2,
          "year": 1880
         },
         {
          "age": 25,
          "gender": "Male",
          "people": 2.119393,
          "sex": 1,
          "year": 1880
         },
         {
          "age": 25,
          "gender": "Female",
          "people": 1.974241,
          "sex": 2,
          "year": 1880
         },
         {
          "age": 30,
          "gender": "Male",
          "people": 1.749107,
          "sex": 1,
          "year": 1880
         },
         {
          "age": 30,
          "gender": "Female",
          "people": 1.596772,
          "sex": 2,
          "year": 1880
         },
         {
          "age": 35,
          "gender": "Male",
          "people": 1.540772,
          "sex": 1,
          "year": 1880
         },
         {
          "age": 35,
          "gender": "Female",
          "people": 1.483717,
          "sex": 2,
          "year": 1880
         },
         {
          "age": 40,
          "gender": "Male",
          "people": 1.237347,
          "sex": 1,
          "year": 1880
         },
         {
          "age": 40,
          "gender": "Female",
          "people": 1.239435,
          "sex": 2,
          "year": 1880
         },
         {
          "age": 45,
          "gender": "Male",
          "people": 1.065973,
          "sex": 1,
          "year": 1880
         },
         {
          "age": 45,
          "gender": "Female",
          "people": 1.003711,
          "sex": 2,
          "year": 1880
         },
         {
          "age": 50,
          "gender": "Male",
          "people": 0.964484,
          "sex": 1,
          "year": 1880
         },
         {
          "age": 50,
          "gender": "Female",
          "people": 0.863012,
          "sex": 2,
          "year": 1880
         },
         {
          "age": 55,
          "gender": "Male",
          "people": 0.679147,
          "sex": 1,
          "year": 1880
         },
         {
          "age": 55,
          "gender": "Female",
          "people": 0.594843,
          "sex": 2,
          "year": 1880
         },
         {
          "age": 60,
          "gender": "Male",
          "people": 0.580298,
          "sex": 1,
          "year": 1880
         },
         {
          "age": 60,
          "gender": "Female",
          "people": 0.526956,
          "sex": 2,
          "year": 1880
         },
         {
          "age": 65,
          "gender": "Male",
          "people": 0.369398,
          "sex": 1,
          "year": 1880
         },
         {
          "age": 65,
          "gender": "Female",
          "people": 0.346303,
          "sex": 2,
          "year": 1880
         },
         {
          "age": 70,
          "gender": "Male",
          "people": 0.255422,
          "sex": 1,
          "year": 1880
         },
         {
          "age": 70,
          "gender": "Female",
          "people": 0.25186,
          "sex": 2,
          "year": 1880
         },
         {
          "age": 75,
          "gender": "Male",
          "people": 0.141628,
          "sex": 1,
          "year": 1880
         },
         {
          "age": 75,
          "gender": "Female",
          "people": 0.143513,
          "sex": 2,
          "year": 1880
         },
         {
          "age": 80,
          "gender": "Male",
          "people": 0.067526,
          "sex": 1,
          "year": 1880
         },
         {
          "age": 80,
          "gender": "Female",
          "people": 0.07729,
          "sex": 2,
          "year": 1880
         },
         {
          "age": 85,
          "gender": "Male",
          "people": 0.022437,
          "sex": 1,
          "year": 1880
         },
         {
          "age": 85,
          "gender": "Female",
          "people": 0.031227,
          "sex": 2,
          "year": 1880
         },
         {
          "age": 90,
          "gender": "Male",
          "people": 0.010272,
          "sex": 1,
          "year": 1880
         },
         {
          "age": 90,
          "gender": "Female",
          "people": 0.015451,
          "sex": 2,
          "year": 1880
         },
         {
          "age": 0,
          "gender": "Male",
          "people": 4.619544,
          "sex": 1,
          "year": 1900
         },
         {
          "age": 0,
          "gender": "Female",
          "people": 4.589196,
          "sex": 2,
          "year": 1900
         },
         {
          "age": 5,
          "gender": "Male",
          "people": 4.465783,
          "sex": 1,
          "year": 1900
         },
         {
          "age": 5,
          "gender": "Female",
          "people": 4.390483,
          "sex": 2,
          "year": 1900
         },
         {
          "age": 10,
          "gender": "Male",
          "people": 4.057669,
          "sex": 1,
          "year": 1900
         },
         {
          "age": 10,
          "gender": "Female",
          "people": 4.001749,
          "sex": 2,
          "year": 1900
         },
         {
          "age": 15,
          "gender": "Male",
          "people": 3.774846,
          "sex": 1,
          "year": 1900
         },
         {
          "age": 15,
          "gender": "Female",
          "people": 3.801743,
          "sex": 2,
          "year": 1900
         },
         {
          "age": 20,
          "gender": "Male",
          "people": 3.694038,
          "sex": 1,
          "year": 1900
         },
         {
          "age": 20,
          "gender": "Female",
          "people": 3.751061,
          "sex": 2,
          "year": 1900
         },
         {
          "age": 25,
          "gender": "Male",
          "people": 3.38928,
          "sex": 1,
          "year": 1900
         },
         {
          "age": 25,
          "gender": "Female",
          "people": 3.236056,
          "sex": 2,
          "year": 1900
         },
         {
          "age": 30,
          "gender": "Male",
          "people": 2.918964,
          "sex": 1,
          "year": 1900
         },
         {
          "age": 30,
          "gender": "Female",
          "people": 2.665174,
          "sex": 2,
          "year": 1900
         },
         {
          "age": 35,
          "gender": "Male",
          "people": 2.633883,
          "sex": 1,
          "year": 1900
         },
         {
          "age": 35,
          "gender": "Female",
          "people": 2.347737,
          "sex": 2,
          "year": 1900
         },
         {
          "age": 40,
          "gender": "Male",
          "people": 2.26107,
          "sex": 1,
          "year": 1900
         },
         {
          "age": 40,
          "gender": "Female",
          "people": 2.004987,
          "sex": 2,
          "year": 1900
         },
         {
          "age": 45,
          "gender": "Male",
          "people": 1.868413,
          "sex": 1,
          "year": 1900
         },
         {
          "age": 45,
          "gender": "Female",
          "people": 1.648025,
          "sex": 2,
          "year": 1900
         },
         {
          "age": 50,
          "gender": "Male",
          "people": 1.571038,
          "sex": 1,
          "year": 1900
         },
         {
          "age": 50,
          "gender": "Female",
          "people": 1.411981,
          "sex": 2,
          "year": 1900
         },
         {
          "age": 55,
          "gender": "Male",
          "people": 1.161908,
          "sex": 1,
          "year": 1900
         },
         {
          "age": 55,
          "gender": "Female",
          "people": 1.064632,
          "sex": 2,
          "year": 1900
         },
         {
          "age": 60,
          "gender": "Male",
          "people": 0.916571,
          "sex": 1,
          "year": 1900
         },
         {
          "age": 60,
          "gender": "Female",
          "people": 0.887508,
          "sex": 2,
          "year": 1900
         },
         {
          "age": 65,
          "gender": "Male",
          "people": 0.672663,
          "sex": 1,
          "year": 1900
         },
         {
          "age": 65,
          "gender": "Female",
          "people": 0.640212,
          "sex": 2,
          "year": 1900
         },
         {
          "age": 70,
          "gender": "Male",
          "people": 0.454747,
          "sex": 1,
          "year": 1900
         },
         {
          "age": 70,
          "gender": "Female",
          "people": 0.440007,
          "sex": 2,
          "year": 1900
         },
         {
          "age": 75,
          "gender": "Male",
          "people": 0.268211,
          "sex": 1,
          "year": 1900
         },
         {
          "age": 75,
          "gender": "Female",
          "people": 0.265879,
          "sex": 2,
          "year": 1900
         },
         {
          "age": 80,
          "gender": "Male",
          "people": 0.127435,
          "sex": 1,
          "year": 1900
         },
         {
          "age": 80,
          "gender": "Female",
          "people": 0.132449,
          "sex": 2,
          "year": 1900
         },
         {
          "age": 85,
          "gender": "Male",
          "people": 0.044008,
          "sex": 1,
          "year": 1900
         },
         {
          "age": 85,
          "gender": "Female",
          "people": 0.048614,
          "sex": 2,
          "year": 1900
         },
         {
          "age": 90,
          "gender": "Male",
          "people": 0.015164,
          "sex": 1,
          "year": 1900
         },
         {
          "age": 90,
          "gender": "Female",
          "people": 0.020093,
          "sex": 2,
          "year": 1900
         },
         {
          "age": 0,
          "gender": "Male",
          "people": 5.296823,
          "sex": 1,
          "year": 1910
         },
         {
          "age": 0,
          "gender": "Female",
          "people": 5.287477,
          "sex": 2,
          "year": 1910
         },
         {
          "age": 5,
          "gender": "Male",
          "people": 4.991803,
          "sex": 1,
          "year": 1910
         },
         {
          "age": 5,
          "gender": "Female",
          "people": 4.866139,
          "sex": 2,
          "year": 1910
         },
         {
          "age": 10,
          "gender": "Male",
          "people": 4.650747,
          "sex": 1,
          "year": 1910
         },
         {
          "age": 10,
          "gender": "Female",
          "people": 4.471887,
          "sex": 2,
          "year": 1910
         },
         {
          "age": 15,
          "gender": "Male",
          "people": 4.566154,
          "sex": 1,
          "year": 1910
         },
         {
          "age": 15,
          "gender": "Female",
          "people": 4.592269,
          "sex": 2,
          "year": 1910
         },
         {
          "age": 20,
          "gender": "Male",
          "people": 4.637632,
          "sex": 1,
          "year": 1910
         },
         {
          "age": 20,
          "gender": "Female",
          "people": 4.447683,
          "sex": 2,
          "year": 1910
         },
         {
          "age": 25,
          "gender": "Male",
          "people": 4.257755,
          "sex": 1,
          "year": 1910
         },
         {
          "age": 25,
          "gender": "Female",
          "people": 3.946153,
          "sex": 2,
          "year": 1910
         },
         {
          "age": 30,
          "gender": "Male",
          "people": 3.658125,
          "sex": 1,
          "year": 1910
         },
         {
          "age": 30,
          "gender": "Female",
          "people": 3.29522,
          "sex": 2,
          "year": 1910
         },
         {
          "age": 35,
          "gender": "Male",
          "people": 3.427518,
          "sex": 1,
          "year": 1910
         },
         {
          "age": 35,
          "gender": "Female",
          "people": 3.08899,
          "sex": 2,
          "year": 1910
         },
         {
          "age": 40,
          "gender": "Male",
          "people": 2.860229,
          "sex": 1,
          "year": 1910
         },
         {
          "age": 40,
          "gender": "Female",
          "people": 2.471267,
          "sex": 2,
          "year": 1910
         },
         {
          "age": 45,
          "gender": "Male",
          "people": 2.363801,
          "sex": 1,
          "year": 1910
         },
         {
          "age": 45,
          "gender": "Female",
          "people": 2.11493,
          "sex": 2,
          "year": 1910
         },
         {
          "age": 50,
          "gender": "Male",
          "people": 2.126516,
          "sex": 1,
          "year": 1910
         },
         {
          "age": 50,
          "gender": "Female",
          "people": 1.773592,
          "sex": 2,
          "year": 1910
         },
         {
          "age": 55,
          "gender": "Male",
          "people": 1.508358,
          "sex": 1,
          "year": 1910
         },
         {
          "age": 55,
          "gender": "Female",
          "people": 1.317651,
          "sex": 2,
          "year": 1910
         },
         {
          "age": 60,
          "gender": "Male",
          "people": 1.189421,
          "sex": 1,
          "year": 1910
         },
         {
          "age": 60,
          "gender": "Female",
          "people": 1.090697,
          "sex": 2,
          "year": 1910
         },
         {
          "age": 65,
          "gender": "Male",
          "people": 0.850159,
          "sex": 1,
          "year": 1910
         },
         {
          "age": 65,
          "gender": "Female",
          "people": 0.813868,
          "sex": 2,
          "year": 1910
         },
         {
          "age": 70,
          "gender": "Male",
          "people": 0.557936,
          "sex": 1,
          "year": 1910
         },
         {
          "age": 70,
          "gender": "Female",
          "people": 0.547623,
          "sex": 2,
          "year": 1910
         },
         {
          "age": 75,
          "gender": "Male",
          "people": 0.322679,
          "sex": 1,
          "year": 1910
         },
         {
          "age": 75,
          "gender": "Female",
          "people": 0.3509,
          "sex": 2,
          "year": 1910
         },
         {
          "age": 80,
          "gender": "Male",
          "people": 0.161715,
          "sex": 1,
          "year": 1910
         },
         {
          "age": 80,
          "gender": "Female",
          "people": 0.174315,
          "sex": 2,
          "year": 1910
         },
         {
          "age": 85,
          "gender": "Male",
          "people": 0.059699,
          "sex": 1,
          "year": 1910
         },
         {
          "age": 85,
          "gender": "Female",
          "people": 0.062725,
          "sex": 2,
          "year": 1910
         },
         {
          "age": 90,
          "gender": "Male",
          "people": 0.023929,
          "sex": 1,
          "year": 1910
         },
         {
          "age": 90,
          "gender": "Female",
          "people": 0.028965,
          "sex": 2,
          "year": 1910
         },
         {
          "age": 0,
          "gender": "Male",
          "people": 5.934792,
          "sex": 1,
          "year": 1920
         },
         {
          "age": 0,
          "gender": "Female",
          "people": 5.694244,
          "sex": 2,
          "year": 1920
         },
         {
          "age": 5,
          "gender": "Male",
          "people": 5.789008,
          "sex": 1,
          "year": 1920
         },
         {
          "age": 5,
          "gender": "Female",
          "people": 5.69396,
          "sex": 2,
          "year": 1920
         },
         {
          "age": 10,
          "gender": "Male",
          "people": 5.401156,
          "sex": 1,
          "year": 1920
         },
         {
          "age": 10,
          "gender": "Female",
          "people": 5.293057,
          "sex": 2,
          "year": 1920
         },
         {
          "age": 15,
          "gender": "Male",
          "people": 4.724365,
          "sex": 1,
          "year": 1920
         },
         {
          "age": 15,
          "gender": "Female",
          "people": 4.779936,
          "sex": 2,
          "year": 1920
         },
         {
          "age": 20,
          "gender": "Male",
          "people": 4.549411,
          "sex": 1,
          "year": 1920
         },
         {
          "age": 20,
          "gender": "Female",
          "people": 4.742632,
          "sex": 2,
          "year": 1920
         },
         {
          "age": 25,
          "gender": "Male",
          "people": 4.565066,
          "sex": 1,
          "year": 1920
         },
         {
          "age": 25,
          "gender": "Female",
          "people": 4.529382,
          "sex": 2,
          "year": 1920
         },
         {
          "age": 30,
          "gender": "Male",
          "people": 4.110771,
          "sex": 1,
          "year": 1920
         },
         {
          "age": 30,
          "gender": "Female",
          "people": 3.982426,
          "sex": 2,
          "year": 1920
         },
         {
          "age": 35,
          "gender": "Male",
          "people": 4.081543,
          "sex": 1,
          "year": 1920
         },
         {
          "age": 35,
          "gender": "Female",
          "people": 3.71381,
          "sex": 2,
          "year": 1920
         },
         {
          "age": 40,
          "gender": "Male",
          "people": 3.321923,
          "sex": 1,
          "year": 1920
         },
         {
          "age": 40,
          "gender": "Female",
          "people": 3.059757,
          "sex": 2,
          "year": 1920
         },
         {
          "age": 45,
          "gender": "Male",
          "people": 3.143891,
          "sex": 1,
          "year": 1920
         },
         {
          "age": 45,
          "gender": "Female",
          "people": 2.669089,
          "sex": 2,
          "year": 1920
         },
         {
          "age": 50,
          "gender": "Male",
          "people": 2.546035,
          "sex": 1,
          "year": 1920
         },
         {
          "age": 50,
          "gender": "Female",
          "people": 2.200491,
          "sex": 2,
          "year": 1920
         },
         {
          "age": 55,
          "gender": "Male",
          "people": 1.880975,
          "sex": 1,
          "year": 1920
         },
         {
          "age": 55,
          "gender": "Female",
          "people": 1.674672,
          "sex": 2,
          "year": 1920
         },
         {
          "age": 60,
          "gender": "Male",
          "people": 1.587549,
          "sex": 1,
          "year": 1920
         },
         {
          "age": 60,
          "gender": "Female",
          "people": 1.382877,
          "sex": 2,
          "year": 1920
         },
         {
          "age": 65,
          "gender": "Male",
          "people": 1.095956,
          "sex": 1,
          "year": 1920
         },
         {
          "age": 65,
          "gender": "Female",
          "people": 0.989901,
          "sex": 2,
          "year": 1920
         },
         {
          "age": 70,
          "gender": "Male",
          "people": 0.714618,
          "sex": 1,
          "year": 1920
         },
         {
          "age": 70,
          "gender": "Female",
          "people": 0.690097,
          "sex": 2,
          "year": 1920
         },
         {
          "age": 75,
          "gender": "Male",
          "people": 0.417292,
          "sex": 1,
          "year": 1920
         },
         {
          "age": 75,
          "gender": "Female",
          "people": 0.439465,
          "sex": 2,
          "year": 1920
         },
         {
          "age": 80,
          "gender": "Male",
          "people": 0.187,
          "sex": 1,
          "year": 1920
         },
         {
          "age": 80,
          "gender": "Female",
          "people": 0.21111,
          "sex": 2,
          "year": 1920
         },
         {
          "age": 85,
          "gender": "Male",
          "people": 0.075991,
          "sex": 1,
          "year": 1920
         },
         {
          "age": 85,
          "gender": "Female",
          "people": 0.092829,
          "sex": 2,
          "year": 1920
         },
         {
          "age": 90,
          "gender": "Male",
          "people": 0.022398,
          "sex": 1,
          "year": 1920
         },
         {
          "age": 90,
          "gender": "Female",
          "people": 0.032085,
          "sex": 2,
          "year": 1920
         },
         {
          "age": 0,
          "gender": "Male",
          "people": 5.87525,
          "sex": 1,
          "year": 1930
         },
         {
          "age": 0,
          "gender": "Female",
          "people": 5.66253,
          "sex": 2,
          "year": 1930
         },
         {
          "age": 5,
          "gender": "Male",
          "people": 6.542592,
          "sex": 1,
          "year": 1930
         },
         {
          "age": 5,
          "gender": "Female",
          "people": 6.129561,
          "sex": 2,
          "year": 1930
         },
         {
          "age": 10,
          "gender": "Male",
          "people": 6.06482,
          "sex": 1,
          "year": 1930
         },
         {
          "age": 10,
          "gender": "Female",
          "people": 5.986529,
          "sex": 2,
          "year": 1930
         },
         {
          "age": 15,
          "gender": "Male",
          "people": 5.709452,
          "sex": 1,
          "year": 1930
         },
         {
          "age": 15,
          "gender": "Female",
          "people": 5.769587,
          "sex": 2,
          "year": 1930
         },
         {
          "age": 20,
          "gender": "Male",
          "people": 5.305992,
          "sex": 1,
          "year": 1930
         },
         {
          "age": 20,
          "gender": "Female",
          "people": 5.565382,
          "sex": 2,
          "year": 1930
         },
         {
          "age": 25,
          "gender": "Male",
          "people": 4.929853,
          "sex": 1,
          "year": 1930
         },
         {
          "age": 25,
          "gender": "Female",
          "people": 5.050229,
          "sex": 2,
          "year": 1930
         },
         {
          "age": 30,
          "gender": "Male",
          "people": 4.424408,
          "sex": 1,
          "year": 1930
         },
         {
          "age": 30,
          "gender": "Female",
          "people": 4.455213,
          "sex": 2,
          "year": 1930
         },
         {
          "age": 35,
          "gender": "Male",
          "people": 4.576531,
          "sex": 1,
          "year": 1930
         },
         {
          "age": 35,
          "gender": "Female",
          "people": 4.593776,
          "sex": 2,
          "year": 1930
         },
         {
          "age": 40,
          "gender": "Male",
          "people": 4.075139,
          "sex": 1,
          "year": 1930
         },
         {
          "age": 40,
          "gender": "Female",
          "people": 3.754022,
          "sex": 2,
          "year": 1930
         },
         {
          "age": 45,
          "gender": "Male",
          "people": 3.633152,
          "sex": 1,
          "year": 1930
         },
         {
          "age": 45,
          "gender": "Female",
          "people": 3.396558,
          "sex": 2,
          "year": 1930
         },
         {
          "age": 50,
          "gender": "Male",
          "people": 3.128108,
          "sex": 1,
          "year": 1930
         },
         {
          "age": 50,
          "gender": "Female",
          "people": 2.809191,
          "sex": 2,
          "year": 1930
         },
         {
          "age": 55,
          "gender": "Male",
          "people": 2.434077,
          "sex": 1,
          "year": 1930
         },
         {
          "age": 55,
          "gender": "Female",
          "people": 2.298614,
          "sex": 2,
          "year": 1930
         },
         {
          "age": 60,
          "gender": "Male",
          "people": 1.927564,
          "sex": 1,
          "year": 1930
         },
         {
          "age": 60,
          "gender": "Female",
          "people": 1.783515,
          "sex": 2,
          "year": 1930
         },
         {
          "age": 65,
          "gender": "Male",
          "people": 1.397275,
          "sex": 1,
          "year": 1930
         },
         {
          "age": 65,
          "gender": "Female",
          "people": 1.307312,
          "sex": 2,
          "year": 1930
         },
         {
          "age": 70,
          "gender": "Male",
          "people": 0.919045,
          "sex": 1,
          "year": 1930
         },
         {
          "age": 70,
          "gender": "Female",
          "people": 0.918509,
          "sex": 2,
          "year": 1930
         },
         {
          "age": 75,
          "gender": "Male",
          "people": 0.536375,
          "sex": 1,
          "year": 1930
         },
         {
          "age": 75,
          "gender": "Female",
          "people": 0.522716,
          "sex": 2,
          "year": 1930
         },
         {
          "age": 80,
          "gender": "Male",
          "people": 0.246708,
          "sex": 1,
          "year": 1930
         },
         {
          "age": 80,
          "gender": "Female",
          "people": 0.283579,
          "sex": 2,
          "year": 1930
         },
         {
          "age": 85,
          "gender": "Male",
          "people": 0.088978,
          "sex": 1,
          "year": 1930
         },
         {
          "age": 85,
          "gender": "Female",
          "people": 0.10921,
          "sex": 2,
          "year": 1930
         },
         {
          "age": 90,
          "gender": "Male",
          "people": 0.030338,
          "sex": 1,
          "year": 1930
         },
         {
          "age": 90,
          "gender": "Female",
          "people": 0.043483,
          "sex": 2,
          "year": 1930
         },
         {
          "age": 0,
          "gender": "Male",
          "people": 5.294628,
          "sex": 1,
          "year": 1940
         },
         {
          "age": 0,
          "gender": "Female",
          "people": 5.124653,
          "sex": 2,
          "year": 1940
         },
         {
          "age": 5,
          "gender": "Male",
          "people": 5.468378,
          "sex": 1,
          "year": 1940
         },
         {
          "age": 5,
          "gender": "Female",
          "people": 5.359099,
          "sex": 2,
          "year": 1940
         },
         {
          "age": 10,
          "gender": "Male",
          "people": 5.960416,
          "sex": 1,
          "year": 1940
         },
         {
          "age": 10,
          "gender": "Female",
          "people": 5.868532,
          "sex": 2,
          "year": 1940
         },
         {
          "age": 15,
          "gender": "Male",
          "people": 6.165109,
          "sex": 1,
          "year": 1940
         },
         {
          "age": 15,
          "gender": "Female",
          "people": 6.193701,
          "sex": 2,
          "year": 1940
         },
         {
          "age": 20,
          "gender": "Male",
          "people": 5.682414,
          "sex": 1,
          "year": 1940
         },
         {
          "age": 20,
          "gender": "Female",
          "people": 5.896002,
          "sex": 2,
          "year": 1940
         },
         {
          "age": 25,
          "gender": "Male",
          "people": 5.438166,
          "sex": 1,
          "year": 1940
         },
         {
          "age": 25,
          "gender": "Female",
          "people": 5.664244,
          "sex": 2,
          "year": 1940
         },
         {
          "age": 30,
          "gender": "Male",
          "people": 5.040048,
          "sex": 1,
          "year": 1940
         },
         {
          "age": 30,
          "gender": "Female",
          "people": 5.171522,
          "sex": 2,
          "year": 1940
         },
         {
          "age": 35,
          "gender": "Male",
          "people": 4.724804,
          "sex": 1,
          "year": 1940
         },
         {
          "age": 35,
          "gender": "Female",
          "people": 4.791809,
          "sex": 2,
          "year": 1940
         },
         {
          "age": 40,
          "gender": "Male",
          "people": 4.437392,
          "sex": 1,
          "year": 1940
         },
         {
          "age": 40,
          "gender": "Female",
          "people": 4.394061,
          "sex": 2,
          "year": 1940
         },
         {
          "age": 45,
          "gender": "Male",
          "people": 4.190187,
          "sex": 1,
          "year": 1940
         },
         {
          "age": 45,
          "gender": "Female",
          "people": 4.05029,
          "sex": 2,
          "year": 1940
         },
         {
          "age": 50,
          "gender": "Male",
          "people": 3.785735,
          "sex": 1,
          "year": 1940
         },
         {
          "age": 50,
          "gender": "Female",
          "people": 3.488396,
          "sex": 2,
          "year": 1940
         },
         {
          "age": 55,
          "gender": "Male",
          "people": 2.972069,
          "sex": 1,
          "year": 1940
         },
         {
          "age": 55,
          "gender": "Female",
          "people": 2.81,
          "sex": 2,
          "year": 1940
         },
         {
          "age": 60,
          "gender": "Male",
          "people": 2.370232,
          "sex": 1,
          "year": 1940
         },
         {
          "age": 60,
          "gender": "Female",
          "people": 2.31779,
          "sex": 2,
          "year": 1940
         },
         {
          "age": 65,
          "gender": "Male",
          "people": 1.897678,
          "sex": 1,
          "year": 1940
         },
         {
          "age": 65,
          "gender": "Female",
          "people": 1.911117,
          "sex": 2,
          "year": 1940
         },
         {
          "age": 70,
          "gender": "Male",
          "people": 1.280023,
          "sex": 1,
          "year": 1940
         },
         {
          "age": 70,
          "gender": "Female",
          "people": 1.287711,
          "sex": 2,
          "year": 1940
         },
         {
          "age": 75,
          "gender": "Male",
          "people": 0.713875,
          "sex": 1,
          "year": 1940
         },
         {
          "age": 75,
          "gender": "Female",
          "people": 0.764915,
          "sex": 2,
          "year": 1940
         },
         {
          "age": 80,
          "gender": "Male",
          "people": 0.359418,
          "sex": 1,
          "year": 1940
         },
         {
          "age": 80,
          "gender": "Female",
          "people": 0.414761,
          "sex": 2,
          "year": 1940
         },
         {
          "age": 85,
          "gender": "Male",
          "people": 0.127303,
          "sex": 1,
          "year": 1940
         },
         {
          "age": 85,
          "gender": "Female",
          "people": 0.152131,
          "sex": 2,
          "year": 1940
         },
         {
          "age": 90,
          "gender": "Male",
          "people": 0.042263,
          "sex": 1,
          "year": 1940
         },
         {
          "age": 90,
          "gender": "Female",
          "people": 0.058119,
          "sex": 2,
          "year": 1940
         },
         {
          "age": 0,
          "gender": "Male",
          "people": 8.211806,
          "sex": 1,
          "year": 1950
         },
         {
          "age": 0,
          "gender": "Female",
          "people": 7.862267,
          "sex": 2,
          "year": 1950
         },
         {
          "age": 5,
          "gender": "Male",
          "people": 6.706601,
          "sex": 1,
          "year": 1950
         },
         {
          "age": 5,
          "gender": "Female",
          "people": 6.450863,
          "sex": 2,
          "year": 1950
         },
         {
          "age": 10,
          "gender": "Male",
          "people": 5.629744,
          "sex": 1,
          "year": 1950
         },
         {
          "age": 10,
          "gender": "Female",
          "people": 5.430835,
          "sex": 2,
          "year": 1950
         },
         {
          "age": 15,
          "gender": "Male",
          "people": 5.264129,
          "sex": 1,
          "year": 1950
         },
         {
          "age": 15,
          "gender": "Female",
          "people": 5.288742,
          "sex": 2,
          "year": 1950
         },
         {
          "age": 20,
          "gender": "Male",
          "people": 5.573308,
          "sex": 1,
          "year": 1950
         },
         {
          "age": 20,
          "gender": "Female",
          "people": 5.854227,
          "sex": 2,
          "year": 1950
         },
         {
          "age": 25,
          "gender": "Male",
          "people": 6.007254,
          "sex": 1,
          "year": 1950
         },
         {
          "age": 25,
          "gender": "Female",
          "people": 6.317332,
          "sex": 2,
          "year": 1950
         },
         {
          "age": 30,
          "gender": "Male",
          "people": 5.676022,
          "sex": 1,
          "year": 1950
         },
         {
          "age": 30,
          "gender": "Female",
          "people": 5.895178,
          "sex": 2,
          "year": 1950
         },
         {
          "age": 35,
          "gender": "Male",
          "people": 5.511364,
          "sex": 1,
          "year": 1950
         },
         {
          "age": 35,
          "gender": "Female",
          "people": 5.696261,
          "sex": 2,
          "year": 1950
         },
         {
          "age": 40,
          "gender": "Male",
          "people": 5.076985,
          "sex": 1,
          "year": 1950
         },
         {
          "age": 40,
          "gender": "Female",
          "people": 5.199224,
          "sex": 2,
          "year": 1950
         },
         {
          "age": 45,
          "gender": "Male",
          "people": 4.533177,
          "sex": 1,
          "year": 1950
         },
         {
          "age": 45,
          "gender": "Female",
          "people": 4.595842,
          "sex": 2,
          "year": 1950
         },
         {
          "age": 50,
          "gender": "Male",
          "people": 4.199164,
          "sex": 1,
          "year": 1950
         },
         {
          "age": 50,
          "gender": "Female",
          "people": 4.147295,
          "sex": 2,
          "year": 1950
         },
         {
          "age": 55,
          "gender": "Male",
          "people": 3.667351,
          "sex": 1,
          "year": 1950
         },
         {
          "age": 55,
          "gender": "Female",
          "people": 3.595158,
          "sex": 2,
          "year": 1950
         },
         {
          "age": 60,
          "gender": "Male",
          "people": 3.035038,
          "sex": 1,
          "year": 1950
         },
         {
          "age": 60,
          "gender": "Female",
          "people": 3.009768,
          "sex": 2,
          "year": 1950
         },
         {
          "age": 65,
          "gender": "Male",
          "people": 2.421234,
          "sex": 1,
          "year": 1950
         },
         {
          "age": 65,
          "gender": "Female",
          "people": 2.54825,
          "sex": 2,
          "year": 1950
         },
         {
          "age": 70,
          "gender": "Male",
          "people": 1.62792,
          "sex": 1,
          "year": 1950
         },
         {
          "age": 70,
          "gender": "Female",
          "people": 1.786831,
          "sex": 2,
          "year": 1950
         },
         {
          "age": 75,
          "gender": "Male",
          "people": 1.00653,
          "sex": 1,
          "year": 1950
         },
         {
          "age": 75,
          "gender": "Female",
          "people": 1.148469,
          "sex": 2,
          "year": 1950
         },
         {
          "age": 80,
          "gender": "Male",
          "people": 0.511727,
          "sex": 1,
          "year": 1950
         },
         {
          "age": 80,
          "gender": "Female",
          "people": 0.637717,
          "sex": 2,
          "year": 1950
         },
         {
          "age": 85,
          "gender": "Male",
          "people": 0.182821,
          "sex": 1,
          "year": 1950
         },
         {
          "age": 85,
          "gender": "Female",
          "people": 0.242798,
          "sex": 2,
          "year": 1950
         },
         {
          "age": 90,
          "gender": "Male",
          "people": 0.054836,
          "sex": 1,
          "year": 1950
         },
         {
          "age": 90,
          "gender": "Female",
          "people": 0.090766,
          "sex": 2,
          "year": 1950
         },
         {
          "age": 0,
          "gender": "Male",
          "people": 10.374975,
          "sex": 1,
          "year": 1960
         },
         {
          "age": 0,
          "gender": "Female",
          "people": 10.146999,
          "sex": 2,
          "year": 1960
         },
         {
          "age": 5,
          "gender": "Male",
          "people": 9.495503,
          "sex": 1,
          "year": 1960
         },
         {
          "age": 5,
          "gender": "Female",
          "people": 9.250741,
          "sex": 2,
          "year": 1960
         },
         {
          "age": 10,
          "gender": "Male",
          "people": 8.5637,
          "sex": 1,
          "year": 1960
         },
         {
          "age": 10,
          "gender": "Female",
          "people": 8.310764,
          "sex": 2,
          "year": 1960
         },
         {
          "age": 15,
          "gender": "Male",
          "people": 6.620902,
          "sex": 1,
          "year": 1960
         },
         {
          "age": 15,
          "gender": "Female",
          "people": 6.617493,
          "sex": 2,
          "year": 1960
         },
         {
          "age": 20,
          "gender": "Male",
          "people": 5.268384,
          "sex": 1,
          "year": 1960
         },
         {
          "age": 20,
          "gender": "Female",
          "people": 5.513495,
          "sex": 2,
          "year": 1960
         },
         {
          "age": 25,
          "gender": "Male",
          "people": 5.311805,
          "sex": 1,
          "year": 1960
         },
         {
          "age": 25,
          "gender": "Female",
          "people": 5.548259,
          "sex": 2,
          "year": 1960
         },
         {
          "age": 30,
          "gender": "Male",
          "people": 5.801342,
          "sex": 1,
          "year": 1960
         },
         {
          "age": 30,
          "gender": "Female",
          "people": 6.090862,
          "sex": 2,
          "year": 1960
         },
         {
          "age": 35,
          "gender": "Male",
          "people": 6.063063,
          "sex": 1,
          "year": 1960
         },
         {
          "age": 35,
          "gender": "Female",
          "people": 6.431337,
          "sex": 2,
          "year": 1960
         },
         {
          "age": 40,
          "gender": "Male",
          "people": 5.657943,
          "sex": 1,
          "year": 1960
         },
         {
          "age": 40,
          "gender": "Female",
          "people": 5.94052,
          "sex": 2,
          "year": 1960
         },
         {
          "age": 45,
          "gender": "Male",
          "people": 5.345658,
          "sex": 1,
          "year": 1960
         },
         {
          "age": 45,
          "gender": "Female",
          "people": 5.516028,
          "sex": 2,
          "year": 1960
         },
         {
          "age": 50,
          "gender": "Male",
          "people": 4.763364,
          "sex": 1,
          "year": 1960
         },
         {
          "age": 50,
          "gender": "Female",
          "people": 4.928844,
          "sex": 2,
          "year": 1960
         },
         {
          "age": 55,
          "gender": "Male",
          "people": 4.170581,
          "sex": 1,
          "year": 1960
         },
         {
          "age": 55,
          "gender": "Female",
          "people": 4.402878,
          "sex": 2,
          "year": 1960
         },
         {
          "age": 60,
          "gender": "Male",
          "people": 3.405293,
          "sex": 1,
          "year": 1960
         },
         {
          "age": 60,
          "gender": "Female",
          "people": 3.723839,
          "sex": 2,
          "year": 1960
         },
         {
          "age": 65,
          "gender": "Male",
          "people": 2.859371,
          "sex": 1,
          "year": 1960
         },
         {
          "age": 65,
          "gender": "Female",
          "people": 3.268699,
          "sex": 2,
          "year": 1960
         },
         {
          "age": 70,
          "gender": "Male",
          "people": 2.115763,
          "sex": 1,
          "year": 1960
         },
         {
          "age": 70,
          "gender": "Female",
          "people": 2.516479,
          "sex": 2,
          "year": 1960
         },
         {
          "age": 75,
          "gender": "Male",
          "people": 1.308913,
          "sex": 1,
          "year": 1960
         },
         {
          "age": 75,
          "gender": "Female",
          "people": 1.641371,
          "sex": 2,
          "year": 1960
         },
         {
          "age": 80,
          "gender": "Male",
          "people": 0.619923,
          "sex": 1,
          "year": 1960
         },
         {
          "age": 80,
          "gender": "Female",
          "people": 0.856952,
          "sex": 2,
          "year": 1960
         },
         {
          "age": 85,
          "gender": "Male",
          "people": 0.253245,
          "sex": 1,
          "year": 1960
         },
         {
          "age": 85,
          "gender": "Female",
          "people": 0.384572,
          "sex": 2,
          "year": 1960
         },
         {
          "age": 90,
          "gender": "Male",
          "people": 0.075908,
          "sex": 1,
          "year": 1960
         },
         {
          "age": 90,
          "gender": "Female",
          "people": 0.135774,
          "sex": 2,
          "year": 1960
         },
         {
          "age": 0,
          "gender": "Male",
          "people": 8.685121,
          "sex": 1,
          "year": 1970
         },
         {
          "age": 0,
          "gender": "Female",
          "people": 8.326887,
          "sex": 2,
          "year": 1970
         },
         {
          "age": 5,
          "gender": "Male",
          "people": 10.411131,
          "sex": 1,
          "year": 1970
         },
         {
          "age": 5,
          "gender": "Female",
          "people": 10.003293,
          "sex": 2,
          "year": 1970
         },
         {
          "age": 10,
          "gender": "Male",
          "people": 10.756403,
          "sex": 1,
          "year": 1970
         },
         {
          "age": 10,
          "gender": "Female",
          "people": 10.343538,
          "sex": 2,
          "year": 1970
         },
         {
          "age": 15,
          "gender": "Male",
          "people": 9.605399,
          "sex": 1,
          "year": 1970
         },
         {
          "age": 15,
          "gender": "Female",
          "people": 9.414284,
          "sex": 2,
          "year": 1970
         },
         {
          "age": 20,
          "gender": "Male",
          "people": 7.729202,
          "sex": 1,
          "year": 1970
         },
         {
          "age": 20,
          "gender": "Female",
          "people": 8.34183,
          "sex": 2,
          "year": 1970
         },
         {
          "age": 25,
          "gender": "Male",
          "people": 6.539301,
          "sex": 1,
          "year": 1970
         },
         {
          "age": 25,
          "gender": "Female",
          "people": 6.903041,
          "sex": 2,
          "year": 1970
         },
         {
          "age": 30,
          "gender": "Male",
          "people": 5.519879,
          "sex": 1,
          "year": 1970
         },
         {
          "age": 30,
          "gender": "Female",
          "people": 5.851441,
          "sex": 2,
          "year": 1970
         },
         {
          "age": 35,
          "gender": "Male",
          "people": 5.396732,
          "sex": 1,
          "year": 1970
         },
         {
          "age": 35,
          "gender": "Female",
          "people": 5.708021,
          "sex": 2,
          "year": 1970
         },
         {
          "age": 40,
          "gender": "Male",
          "people": 5.718538,
          "sex": 1,
          "year": 1970
         },
         {
          "age": 40,
          "gender": "Female",
          "people": 6.129319,
          "sex": 2,
          "year": 1970
         },
         {
          "age": 45,
          "gender": "Male",
          "people": 5.79412,
          "sex": 1,
          "year": 1970
         },
         {
          "age": 45,
          "gender": "Female",
          "people": 6.198742,
          "sex": 2,
          "year": 1970
         },
         {
          "age": 50,
          "gender": "Male",
          "people": 5.298312,
          "sex": 1,
          "year": 1970
         },
         {
          "age": 50,
          "gender": "Female",
          "people": 5.783817,
          "sex": 2,
          "year": 1970
         },
         {
          "age": 55,
          "gender": "Male",
          "people": 4.762911,
          "sex": 1,
          "year": 1970
         },
         {
          "age": 55,
          "gender": "Female",
          "people": 5.222164,
          "sex": 2,
          "year": 1970
         },
         {
          "age": 60,
          "gender": "Male",
          "people": 4.037643,
          "sex": 1,
          "year": 1970
         },
         {
          "age": 60,
          "gender": "Female",
          "people": 4.577251,
          "sex": 2,
          "year": 1970
         },
         {
          "age": 65,
          "gender": "Male",
          "people": 3.142606,
          "sex": 1,
          "year": 1970
         },
         {
          "age": 65,
          "gender": "Female",
          "people": 3.894827,
          "sex": 2,
          "year": 1970
         },
         {
          "age": 70,
          "gender": "Male",
          "people": 2.340826,
          "sex": 1,
          "year": 1970
         },
         {
          "age": 70,
          "gender": "Female",
          "people": 3.138009,
          "sex": 2,
          "year": 1970
         },
         {
          "age": 75,
          "gender": "Male",
          "people": 1.599269,
          "sex": 1,
          "year": 1970
         },
         {
          "age": 75,
          "gender": "Female",
          "people": 2.293376,
          "sex": 2,
          "year": 1970
         },
         {
          "age": 80,
          "gender": "Male",
          "people": 0.886155,
          "sex": 1,
          "year": 1970
         },
         {
          "age": 80,
          "gender": "Female",
          "people": 1.417553,
          "sex": 2,
          "year": 1970
         },
         {
          "age": 85,
          "gender": "Male",
          "people": 0.371123,
          "sex": 1,
          "year": 1970
         },
         {
          "age": 85,
          "gender": "Female",
          "people": 0.658511,
          "sex": 2,
          "year": 1970
         },
         {
          "age": 90,
          "gender": "Male",
          "people": 0.186502,
          "sex": 1,
          "year": 1970
         },
         {
          "age": 90,
          "gender": "Female",
          "people": 0.314929,
          "sex": 2,
          "year": 1970
         },
         {
          "age": 0,
          "gender": "Male",
          "people": 8.439366,
          "sex": 1,
          "year": 1980
         },
         {
          "age": 0,
          "gender": "Female",
          "people": 8.081854,
          "sex": 2,
          "year": 1980
         },
         {
          "age": 5,
          "gender": "Male",
          "people": 8.68073,
          "sex": 1,
          "year": 1980
         },
         {
          "age": 5,
          "gender": "Female",
          "people": 8.275881,
          "sex": 2,
          "year": 1980
         },
         {
          "age": 10,
          "gender": "Male",
          "people": 9.452338,
          "sex": 1,
          "year": 1980
         },
         {
          "age": 10,
          "gender": "Female",
          "people": 9.048483,
          "sex": 2,
          "year": 1980
         },
         {
          "age": 15,
          "gender": "Male",
          "people": 10.698856,
          "sex": 1,
          "year": 1980
         },
         {
          "age": 15,
          "gender": "Female",
          "people": 10.410271,
          "sex": 2,
          "year": 1980
         },
         {
          "age": 20,
          "gender": "Male",
          "people": 10.486776,
          "sex": 1,
          "year": 1980
         },
         {
          "age": 20,
          "gender": "Female",
          "people": 10.614947,
          "sex": 2,
          "year": 1980
         },
         {
          "age": 25,
          "gender": "Male",
          "people": 9.624053,
          "sex": 1,
          "year": 1980
         },
         {
          "age": 25,
          "gender": "Female",
          "people": 9.827903,
          "sex": 2,
          "year": 1980
         },
         {
          "age": 30,
          "gender": "Male",
          "people": 8.705835,
          "sex": 1,
          "year": 1980
         },
         {
          "age": 30,
          "gender": "Female",
          "people": 8.955225,
          "sex": 2,
          "year": 1980
         },
         {
          "age": 35,
          "gender": "Male",
          "people": 6.852069,
          "sex": 1,
          "year": 1980
         },
         {
          "age": 35,
          "gender": "Female",
          "people": 7.134239,
          "sex": 2,
          "year": 1980
         },
         {
          "age": 40,
          "gender": "Male",
          "people": 5.692148,
          "sex": 1,
          "year": 1980
         },
         {
          "age": 40,
          "gender": "Female",
          "people": 5.95391,
          "sex": 2,
          "year": 1980
         },
         {
          "age": 45,
          "gender": "Male",
          "people": 5.342469,
          "sex": 1,
          "year": 1980
         },
         {
          "age": 45,
          "gender": "Female",
          "people": 5.697543,
          "sex": 2,
          "year": 1980
         },
         {
          "age": 50,
          "gender": "Male",
          "people": 5.603709,
          "sex": 1,
          "year": 1980
         },
         {
          "age": 50,
          "gender": "Female",
          "people": 6.110117,
          "sex": 2,
          "year": 1980
         },
         {
          "age": 55,
          "gender": "Male",
          "people": 5.485098,
          "sex": 1,
          "year": 1980
         },
         {
          "age": 55,
          "gender": "Female",
          "people": 6.160229,
          "sex": 2,
          "year": 1980
         },
         {
          "age": 60,
          "gender": "Male",
          "people": 4.69614,
          "sex": 1,
          "year": 1980
         },
         {
          "age": 60,
          "gender": "Female",
          "people": 5.456885,
          "sex": 2,
          "year": 1980
         },
         {
          "age": 65,
          "gender": "Male",
          "people": 3.89351,
          "sex": 1,
          "year": 1980
         },
         {
          "age": 65,
          "gender": "Female",
          "people": 4.896947,
          "sex": 2,
          "year": 1980
         },
         {
          "age": 70,
          "gender": "Male",
          "people": 2.857774,
          "sex": 1,
          "year": 1980
         },
         {
          "age": 70,
          "gender": "Female",
          "people": 3.963441,
          "sex": 2,
          "year": 1980
         },
         {
          "age": 75,
          "gender": "Male",
          "people": 1.840438,
          "sex": 1,
          "year": 1980
         },
         {
          "age": 75,
          "gender": "Female",
          "people": 2.951759,
          "sex": 2,
          "year": 1980
         },
         {
          "age": 80,
          "gender": "Male",
          "people": 1.012886,
          "sex": 1,
          "year": 1980
         },
         {
          "age": 80,
          "gender": "Female",
          "people": 1.919292,
          "sex": 2,
          "year": 1980
         },
         {
          "age": 85,
          "gender": "Male",
          "people": 0.472338,
          "sex": 1,
          "year": 1980
         },
         {
          "age": 85,
          "gender": "Female",
          "people": 1.023115,
          "sex": 2,
          "year": 1980
         },
         {
          "age": 90,
          "gender": "Male",
          "people": 0.204148,
          "sex": 1,
          "year": 1980
         },
         {
          "age": 90,
          "gender": "Female",
          "people": 0.499046,
          "sex": 2,
          "year": 1980
         },
         {
          "age": 0,
          "gender": "Male",
          "people": 9.307465,
          "sex": 1,
          "year": 1990
         },
         {
          "age": 0,
          "gender": "Female",
          "people": 8.894007,
          "sex": 2,
          "year": 1990
         },
         {
          "age": 5,
          "gender": "Male",
          "people": 9.274732,
          "sex": 1,
          "year": 1990
         },
         {
          "age": 5,
          "gender": "Female",
          "people": 8.799955,
          "sex": 2,
          "year": 1990
         },
         {
          "age": 10,
          "gender": "Male",
          "people": 8.782542,
          "sex": 1,
          "year": 1990
         },
         {
          "age": 10,
          "gender": "Female",
          "people": 8.337284,
          "sex": 2,
          "year": 1990
         },
         {
          "age": 15,
          "gender": "Male",
          "people": 9.020572,
          "sex": 1,
          "year": 1990
         },
         {
          "age": 15,
          "gender": "Female",
          "people": 8.590991,
          "sex": 2,
          "year": 1990
         },
         {
          "age": 20,
          "gender": "Male",
          "people": 9.436188,
          "sex": 1,
          "year": 1990
         },
         {
          "age": 20,
          "gender": "Female",
          "people": 9.152644,
          "sex": 2,
          "year": 1990
         },
         {
          "age": 25,
          "gender": "Male",
          "people": 10.658027,
          "sex": 1,
          "year": 1990
         },
         {
          "age": 25,
          "gender": "Female",
          "people": 10.587292,
          "sex": 2,
          "year": 1990
         },
         {
          "age": 30,
          "gender": "Male",
          "people": 11.028712,
          "sex": 1,
          "year": 1990
         },
         {
          "age": 30,
          "gender": "Female",
          "people": 11.10575,
          "sex": 2,
          "year": 1990
         },
         {
          "age": 35,
          "gender": "Male",
          "people": 9.853933,
          "sex": 1,
          "year": 1990
         },
         {
          "age": 35,
          "gender": "Female",
          "people": 10.038644,
          "sex": 2,
          "year": 1990
         },
         {
          "age": 40,
          "gender": "Male",
          "people": 8.712632,
          "sex": 1,
          "year": 1990
         },
         {
          "age": 40,
          "gender": "Female",
          "people": 8.928252,
          "sex": 2,
          "year": 1990
         },
         {
          "age": 45,
          "gender": "Male",
          "people": 6.848082,
          "sex": 1,
          "year": 1990
         },
         {
          "age": 45,
          "gender": "Female",
          "people": 7.115129,
          "sex": 2,
          "year": 1990
         },
         {
          "age": 50,
          "gender": "Male",
          "people": 5.553992,
          "sex": 1,
          "year": 1990
         },
         {
          "age": 50,
          "gender": "Female",
          "people": 5.899925,
          "sex": 2,
          "year": 1990
         },
         {
          "age": 55,
          "gender": "Male",
          "people": 4.98167,
          "sex": 1,
          "year": 1990
         },
         {
          "age": 55,
          "gender": "Female",
          "people": 5.460506,
          "sex": 2,
          "year": 1990
         },
         {
          "age": 60,
          "gender": "Male",
          "people": 4.953822,
          "sex": 1,
          "year": 1990
         },
         {
          "age": 60,
          "gender": "Female",
          "people": 5.663205,
          "sex": 2,
          "year": 1990
         },
         {
          "age": 65,
          "gender": "Male",
          "people": 4.538398,
          "sex": 1,
          "year": 1990
         },
         {
          "age": 65,
          "gender": "Female",
          "people": 5.594108,
          "sex": 2,
          "year": 1990
         },
         {
          "age": 70,
          "gender": "Male",
          "people": 3.42942,
          "sex": 1,
          "year": 1990
         },
         {
          "age": 70,
          "gender": "Female",
          "people": 4.610222,
          "sex": 2,
          "year": 1990
         },
         {
          "age": 75,
          "gender": "Male",
          "people": 2.344932,
          "sex": 1,
          "year": 1990
         },
         {
          "age": 75,
          "gender": "Female",
          "people": 3.72398,
          "sex": 2,
          "year": 1990
         },
         {
          "age": 80,
          "gender": "Male",
          "people": 1.342996,
          "sex": 1,
          "year": 1990
         },
         {
          "age": 80,
          "gender": "Female",
          "people": 2.54573,
          "sex": 2,
          "year": 1990
         },
         {
          "age": 85,
          "gender": "Male",
          "people": 0.58879,
          "sex": 1,
          "year": 1990
         },
         {
          "age": 85,
          "gender": "Female",
          "people": 1.419494,
          "sex": 2,
          "year": 1990
         },
         {
          "age": 90,
          "gender": "Male",
          "people": 0.238459,
          "sex": 1,
          "year": 1990
         },
         {
          "age": 90,
          "gender": "Female",
          "people": 0.745146,
          "sex": 2,
          "year": 1990
         },
         {
          "age": 0,
          "gender": "Male",
          "people": 9.73538,
          "sex": 1,
          "year": 2000
         },
         {
          "age": 0,
          "gender": "Female",
          "people": 9.310714,
          "sex": 2,
          "year": 2000
         },
         {
          "age": 5,
          "gender": "Male",
          "people": 10.552146,
          "sex": 1,
          "year": 2000
         },
         {
          "age": 5,
          "gender": "Female",
          "people": 10.069564,
          "sex": 2,
          "year": 2000
         },
         {
          "age": 10,
          "gender": "Male",
          "people": 10.563233,
          "sex": 1,
          "year": 2000
         },
         {
          "age": 10,
          "gender": "Female",
          "people": 10.022524,
          "sex": 2,
          "year": 2000
         },
         {
          "age": 15,
          "gender": "Male",
          "people": 10.237419,
          "sex": 1,
          "year": 2000
         },
         {
          "age": 15,
          "gender": "Female",
          "people": 9.692669,
          "sex": 2,
          "year": 2000
         },
         {
          "age": 20,
          "gender": "Male",
          "people": 9.731315,
          "sex": 1,
          "year": 2000
         },
         {
          "age": 20,
          "gender": "Female",
          "people": 9.324244,
          "sex": 2,
          "year": 2000
         },
         {
          "age": 25,
          "gender": "Male",
          "people": 9.659493,
          "sex": 1,
          "year": 2000
         },
         {
          "age": 25,
          "gender": "Female",
          "people": 9.518507,
          "sex": 2,
          "year": 2000
         },
         {
          "age": 30,
          "gender": "Male",
          "people": 10.205879,
          "sex": 1,
          "year": 2000
         },
         {
          "age": 30,
          "gender": "Female",
          "people": 10.119296,
          "sex": 2,
          "year": 2000
         },
         {
          "age": 35,
          "gender": "Male",
          "people": 11.475182,
          "sex": 1,
          "year": 2000
         },
         {
          "age": 35,
          "gender": "Female",
          "people": 11.635647,
          "sex": 2,
          "year": 2000
         },
         {
          "age": 40,
          "gender": "Male",
          "people": 11.320252,
          "sex": 1,
          "year": 2000
         },
         {
          "age": 40,
          "gender": "Female",
          "people": 11.488578,
          "sex": 2,
          "year": 2000
         },
         {
          "age": 45,
          "gender": "Male",
          "people": 9.925006,
          "sex": 1,
          "year": 2000
         },
         {
          "age": 45,
          "gender": "Female",
          "people": 10.261253,
          "sex": 2,
          "year": 2000
         },
         {
          "age": 50,
          "gender": "Male",
          "people": 8.507934,
          "sex": 1,
          "year": 2000
         },
         {
          "age": 50,
          "gender": "Female",
          "people": 8.911133,
          "sex": 2,
          "year": 2000
         },
         {
          "age": 55,
          "gender": "Male",
          "people": 6.459082,
          "sex": 1,
          "year": 2000
         },
         {
          "age": 55,
          "gender": "Female",
          "people": 6.921268,
          "sex": 2,
          "year": 2000
         },
         {
          "age": 60,
          "gender": "Male",
          "people": 5.123399,
          "sex": 1,
          "year": 2000
         },
         {
          "age": 60,
          "gender": "Female",
          "people": 5.668961,
          "sex": 2,
          "year": 2000
         },
         {
          "age": 65,
          "gender": "Male",
          "people": 4.453623,
          "sex": 1,
          "year": 2000
         },
         {
          "age": 65,
          "gender": "Female",
          "people": 4.804784,
          "sex": 2,
          "year": 2000
         },
         {
          "age": 70,
          "gender": "Male",
          "people": 3.792145,
          "sex": 1,
          "year": 2000
         },
         {
          "age": 70,
          "gender": "Female",
          "people": 5.184855,
          "sex": 2,
          "year": 2000
         },
         {
          "age": 75,
          "gender": "Male",
          "people": 2.912655,
          "sex": 1,
          "year": 2000
         },
         {
          "age": 75,
          "gender": "Female",
          "people": 4.355644,
          "sex": 2,
          "year": 2000
         },
         {
          "age": 80,
          "gender": "Male",
          "people": 1.902638,
          "sex": 1,
          "year": 2000
         },
         {
          "age": 80,
          "gender": "Female",
          "people": 3.221898,
          "sex": 2,
          "year": 2000
         },
         {
          "age": 85,
          "gender": "Male",
          "people": 0.970357,
          "sex": 1,
          "year": 2000
         },
         {
          "age": 85,
          "gender": "Female",
          "people": 1.981156,
          "sex": 2,
          "year": 2000
         },
         {
          "age": 90,
          "gender": "Male",
          "people": 0.336303,
          "sex": 1,
          "year": 2000
         },
         {
          "age": 90,
          "gender": "Female",
          "people": 1.064581,
          "sex": 2,
          "year": 2000
         }
        ]
       },
       "encoding": {
        "color": {
         "field": "gender",
         "type": "nominal"
        },
        "x": {
         "aggregate": "sum",
         "axis": {
          "title": "Population in Millions"
         },
         "field": "people",
         "scale": {
          "domain": [
           0,
           44
          ]
         },
         "type": "quantitative"
        },
        "y": {
         "axis": {
          "title": "Age Group"
         },
         "bin": true,
         "field": "age",
         "type": "quantitative"
        }
       },
       "height": 300,
       "mark": {
        "opacity": 0.9,
        "type": "bar"
       },
       "selection": {
        "Select": {
         "bind": {
          "input": "range",
          "max": 2000,
          "min": 1850,
          "step": 10
         },
         "empty": "none",
         "fields": [
          "year"
         ],
         "on": "click",
         "resolve": "global",
         "type": "single"
        }
       },
       "transform": [
        {
         "filter": {
          "selection": "Select"
         }
        }
       ],
       "width": 500
      },
      "image/png": "[encoded data removed]",
      "text/plain": [
       "<VegaLite 2 object>\n",
       "\n",
       "If you see this message, it means the renderer has not been properly enabled\n",
       "for the frontend that you are using. For more information, see\n",
       "https://altair-viz.github.io/user_guide/troubleshooting.html\n"
      ]
     },
     "execution_count": 7,
     "metadata": {},
     "output_type": "execute_result"
    }
   ],
   "source": [
    "population = data.population()\n",
    "population.head()\n",
    "\n",
    "slider = alt.binding_range(min=population.year.min(), \n",
    "                           max=population.year.max(), \n",
    "                           step=10)\n",
    "\n",
    "year = alt.selection_single(name=\"Select\",\n",
    "                            fields=['year'], \n",
    "                            bind=slider,\n",
    "                            empty='none')\n",
    "\n",
    "\n",
    "(alt\n",
    " .Chart(data=(population\n",
    "              .assign(gender=lambda fr: fr['sex'].map(lambda i: 'Female' if i == 2 else 'Male'))\n",
    "              .assign(people=lambda fr: fr['people']/10**6)              \n",
    "             ),\n",
    "        height=300, \n",
    "        width=500)\n",
    " .mark_bar(opacity=0.9)\n",
    " .encode(alt.X('sum(people):Q', axis=alt.Axis(title='Population in Millions'), scale=alt.Scale(domain=(0, 44))),\n",
    "         alt.Y('age', bin=True, axis=alt.Axis(title='Age Group')),\n",
    "         alt.Color('gender:N')) \n",
    " .properties(selection=year)\n",
    " .transform_filter(year.ref())\n",
    ")"
   ]
  },
  {
   "cell_type": "markdown",
   "metadata": {},
   "source": [
    "## Movies\n",
    "\n",
    "The movies dataset has data on 3200 movies, including release date, budget, and ratings on IMDB and Rotten Tomatoes."
   ]
  },
  {
   "cell_type": "code",
   "execution_count": 43,
   "metadata": {},
   "outputs": [
    {
     "data": {
      "text/html": [
       "<div>\n",
       "<style scoped>\n",
       "    .dataframe tbody tr th:only-of-type {\n",
       "        vertical-align: middle;\n",
       "    }\n",
       "\n",
       "    .dataframe tbody tr th {\n",
       "        vertical-align: top;\n",
       "    }\n",
       "\n",
       "    .dataframe thead th {\n",
       "        text-align: right;\n",
       "    }\n",
       "</style>\n",
       "<table border=\"1\" class=\"dataframe\">\n",
       "  <thead>\n",
       "    <tr style=\"text-align: right;\">\n",
       "      <th></th>\n",
       "      <th>Creative_Type</th>\n",
       "      <th>Director</th>\n",
       "      <th>Distributor</th>\n",
       "      <th>IMDB_Rating</th>\n",
       "      <th>IMDB_Votes</th>\n",
       "      <th>MPAA_Rating</th>\n",
       "      <th>Major_Genre</th>\n",
       "      <th>Production_Budget</th>\n",
       "      <th>Release_Date</th>\n",
       "      <th>Rotten_Tomatoes_Rating</th>\n",
       "      <th>Running_Time_min</th>\n",
       "      <th>Source</th>\n",
       "      <th>Title</th>\n",
       "      <th>US_DVD_Sales</th>\n",
       "      <th>US_Gross</th>\n",
       "      <th>Worldwide_Gross</th>\n",
       "    </tr>\n",
       "  </thead>\n",
       "  <tbody>\n",
       "    <tr>\n",
       "      <th>0</th>\n",
       "      <td>None</td>\n",
       "      <td>None</td>\n",
       "      <td>Gramercy</td>\n",
       "      <td>6.1</td>\n",
       "      <td>1071.0</td>\n",
       "      <td>R</td>\n",
       "      <td>None</td>\n",
       "      <td>8000000.0</td>\n",
       "      <td>12-Jun-98</td>\n",
       "      <td>NaN</td>\n",
       "      <td>NaN</td>\n",
       "      <td>None</td>\n",
       "      <td>The Land Girls</td>\n",
       "      <td>NaN</td>\n",
       "      <td>146083.0</td>\n",
       "      <td>146083.0</td>\n",
       "    </tr>\n",
       "    <tr>\n",
       "      <th>1</th>\n",
       "      <td>None</td>\n",
       "      <td>None</td>\n",
       "      <td>Strand</td>\n",
       "      <td>6.9</td>\n",
       "      <td>207.0</td>\n",
       "      <td>R</td>\n",
       "      <td>Drama</td>\n",
       "      <td>300000.0</td>\n",
       "      <td>7-Aug-98</td>\n",
       "      <td>NaN</td>\n",
       "      <td>NaN</td>\n",
       "      <td>None</td>\n",
       "      <td>First Love, Last Rites</td>\n",
       "      <td>NaN</td>\n",
       "      <td>10876.0</td>\n",
       "      <td>10876.0</td>\n",
       "    </tr>\n",
       "    <tr>\n",
       "      <th>2</th>\n",
       "      <td>None</td>\n",
       "      <td>None</td>\n",
       "      <td>Lionsgate</td>\n",
       "      <td>6.8</td>\n",
       "      <td>865.0</td>\n",
       "      <td>None</td>\n",
       "      <td>Comedy</td>\n",
       "      <td>250000.0</td>\n",
       "      <td>28-Aug-98</td>\n",
       "      <td>NaN</td>\n",
       "      <td>NaN</td>\n",
       "      <td>None</td>\n",
       "      <td>I Married a Strange Person</td>\n",
       "      <td>NaN</td>\n",
       "      <td>203134.0</td>\n",
       "      <td>203134.0</td>\n",
       "    </tr>\n",
       "    <tr>\n",
       "      <th>3</th>\n",
       "      <td>None</td>\n",
       "      <td>None</td>\n",
       "      <td>Fine Line</td>\n",
       "      <td>NaN</td>\n",
       "      <td>NaN</td>\n",
       "      <td>None</td>\n",
       "      <td>Comedy</td>\n",
       "      <td>300000.0</td>\n",
       "      <td>11-Sep-98</td>\n",
       "      <td>13.0</td>\n",
       "      <td>NaN</td>\n",
       "      <td>None</td>\n",
       "      <td>Let's Talk About Sex</td>\n",
       "      <td>NaN</td>\n",
       "      <td>373615.0</td>\n",
       "      <td>373615.0</td>\n",
       "    </tr>\n",
       "    <tr>\n",
       "      <th>4</th>\n",
       "      <td>Contemporary Fiction</td>\n",
       "      <td>None</td>\n",
       "      <td>Trimark</td>\n",
       "      <td>3.4</td>\n",
       "      <td>165.0</td>\n",
       "      <td>R</td>\n",
       "      <td>Drama</td>\n",
       "      <td>1000000.0</td>\n",
       "      <td>9-Oct-98</td>\n",
       "      <td>62.0</td>\n",
       "      <td>NaN</td>\n",
       "      <td>Original Screenplay</td>\n",
       "      <td>Slam</td>\n",
       "      <td>NaN</td>\n",
       "      <td>1009819.0</td>\n",
       "      <td>1087521.0</td>\n",
       "    </tr>\n",
       "  </tbody>\n",
       "</table>\n",
       "</div>"
      ],
      "text/plain": [
       "          Creative_Type Director Distributor  IMDB_Rating  IMDB_Votes  \\\n",
       "0                  None     None    Gramercy          6.1      1071.0   \n",
       "1                  None     None      Strand          6.9       207.0   \n",
       "2                  None     None   Lionsgate          6.8       865.0   \n",
       "3                  None     None   Fine Line          NaN         NaN   \n",
       "4  Contemporary Fiction     None     Trimark          3.4       165.0   \n",
       "\n",
       "  MPAA_Rating Major_Genre  Production_Budget Release_Date  \\\n",
       "0           R        None          8000000.0    12-Jun-98   \n",
       "1           R       Drama           300000.0     7-Aug-98   \n",
       "2        None      Comedy           250000.0    28-Aug-98   \n",
       "3        None      Comedy           300000.0    11-Sep-98   \n",
       "4           R       Drama          1000000.0     9-Oct-98   \n",
       "\n",
       "   Rotten_Tomatoes_Rating  Running_Time_min               Source  \\\n",
       "0                     NaN               NaN                 None   \n",
       "1                     NaN               NaN                 None   \n",
       "2                     NaN               NaN                 None   \n",
       "3                    13.0               NaN                 None   \n",
       "4                    62.0               NaN  Original Screenplay   \n",
       "\n",
       "                        Title  US_DVD_Sales   US_Gross  Worldwide_Gross  \n",
       "0              The Land Girls           NaN   146083.0         146083.0  \n",
       "1      First Love, Last Rites           NaN    10876.0          10876.0  \n",
       "2  I Married a Strange Person           NaN   203134.0         203134.0  \n",
       "3        Let's Talk About Sex           NaN   373615.0         373615.0  \n",
       "4                        Slam           NaN  1009819.0        1087521.0  "
      ]
     },
     "execution_count": 43,
     "metadata": {},
     "output_type": "execute_result"
    }
   ],
   "source": [
    "movies = data.movies()\n",
    "movies.head()"
   ]
  },
  {
   "cell_type": "code",
   "execution_count": null,
   "metadata": {},
   "outputs": [],
   "source": []
  }
 ],
 "metadata": {
  "kernelspec": {
   "display_name": "Python 3",
   "language": "python",
   "name": "python3"
  },
  "language_info": {
   "codemirror_mode": {
    "name": "ipython",
    "version": 3
   },
   "file_extension": ".py",
   "mimetype": "text/x-python",
   "name": "python",
   "nbconvert_exporter": "python",
   "pygments_lexer": "ipython3",
   "version": "3.6.6"
  }
 },
 "nbformat": 4,
 "nbformat_minor": 2
}
