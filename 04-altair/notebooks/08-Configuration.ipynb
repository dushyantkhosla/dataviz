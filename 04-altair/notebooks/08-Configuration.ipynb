{
 "cells": [
  {
   "cell_type": "markdown",
   "metadata": {},
   "source": [
    "# Chart Configuration\n",
    "\n",
    "Altair provides a number of hooks to configure the look of your chart; we don't have time to go into all the available options here, but it is useful to know where and how such configuration settings can be accessed and explored.\n",
    "\n",
    "In general, there are two or three places where the look of a chart can be controlled, each with a greater priority than the last.\n",
    "\n",
    "1. **Top Level Chart Config**. At the top level of an Altair chart, you can specify configuration settings that will apply to every panel or layer in the chart.\n",
    "\n",
    "2. **Local Configuration Settings**. The top-level settings can be over-ridden locally, by specifying local configuration\n",
    "\n",
    "3. **Encoding Values**. If an encoding value is specified, it will take highest precedance, and override the other options.\n",
    "\n",
    "Let's see an example."
   ]
  },
  {
   "cell_type": "code",
   "execution_count": 1,
   "metadata": {},
   "outputs": [],
   "source": [
    "import altair as alt\n",
    "\n",
    "# Altair plots render by default in JupyterLab and nteract\n",
    "\n",
    "# Uncomment/run this line to enable Altair in the classic notebook (not in JupyterLab)\n",
    "# alt.renderers.enable('notebook')\n",
    "\n",
    "# Uncomment/run this line to enable Altair in Colab\n",
    "# alt.renderers.enable('colab')"
   ]
  },
  {
   "cell_type": "code",
   "execution_count": 2,
   "metadata": {},
   "outputs": [],
   "source": [
    "import numpy as np\n",
    "import pandas as pd\n",
    "np.random.seed(42)\n",
    "\n",
    "data = pd.DataFrame(np.random.randn(100, 2), columns=['x', 'y'])"
   ]
  },
  {
   "cell_type": "markdown",
   "metadata": {},
   "source": [
    "## Example 1: Controlling Marker Properties\n",
    "\n",
    "Suppose you would like to control the color of the markers in a scatter plot: let's see each of the three options for doing this. We'll use a simple datasets of normally-distributed points:"
   ]
  },
  {
   "cell_type": "code",
   "execution_count": 3,
   "metadata": {},
   "outputs": [
    {
     "data": {
      "application/vnd.vegalite.v2+json": {
       "$schema": "https://vega.github.io/schema/vega-lite/v2.4.1.json",
       "config": {
        "view": {
         "height": 300,
         "width": 400
        }
       },
       "data": {
        "values": [
         {
          "x": 0.4967141530112327,
          "y": -0.13826430117118466
         },
         {
          "x": 0.6476885381006925,
          "y": 1.5230298564080254
         },
         {
          "x": -0.23415337472333597,
          "y": -0.23413695694918055
         },
         {
          "x": 1.5792128155073915,
          "y": 0.7674347291529088
         },
         {
          "x": -0.4694743859349521,
          "y": 0.5425600435859647
         },
         {
          "x": -0.46341769281246226,
          "y": -0.46572975357025687
         },
         {
          "x": 0.24196227156603412,
          "y": -1.913280244657798
         },
         {
          "x": -1.7249178325130328,
          "y": -0.5622875292409727
         },
         {
          "x": -1.0128311203344238,
          "y": 0.3142473325952739
         },
         {
          "x": -0.9080240755212109,
          "y": -1.4123037013352915
         },
         {
          "x": 1.465648768921554,
          "y": -0.22577630048653566
         },
         {
          "x": 0.06752820468792384,
          "y": -1.4247481862134568
         },
         {
          "x": -0.5443827245251827,
          "y": 0.11092258970986608
         },
         {
          "x": -1.1509935774223028,
          "y": 0.37569801834567196
         },
         {
          "x": -0.600638689918805,
          "y": -0.2916937497932768
         },
         {
          "x": -0.6017066122293969,
          "y": 1.8522781845089378
         },
         {
          "x": -0.013497224737933921,
          "y": -1.0577109289559004
         },
         {
          "x": 0.822544912103189,
          "y": -1.2208436499710222
         },
         {
          "x": 0.2088635950047554,
          "y": -1.9596701238797756
         },
         {
          "x": -1.3281860488984305,
          "y": 0.19686123586912352
         },
         {
          "x": 0.7384665799954104,
          "y": 0.1713682811899705
         },
         {
          "x": -0.11564828238824053,
          "y": -0.3011036955892888
         },
         {
          "x": -1.4785219903674274,
          "y": -0.7198442083947086
         },
         {
          "x": -0.4606387709597875,
          "y": 1.0571222262189157
         },
         {
          "x": 0.3436182895684614,
          "y": -1.763040155362734
         },
         {
          "x": 0.324083969394795,
          "y": -0.38508228041631654
         },
         {
          "x": -0.6769220003059587,
          "y": 0.6116762888408679
         },
         {
          "x": 1.030999522495951,
          "y": 0.9312801191161986
         },
         {
          "x": -0.8392175232226385,
          "y": -0.3092123758512146
         },
         {
          "x": 0.33126343140356396,
          "y": 0.9755451271223592
         },
         {
          "x": -0.47917423784528995,
          "y": -0.18565897666381712
         },
         {
          "x": -1.1063349740060282,
          "y": -1.1962066240806708
         },
         {
          "x": 0.812525822394198,
          "y": 1.356240028570823
         },
         {
          "x": -0.07201012158033385,
          "y": 1.0035328978920242
         },
         {
          "x": 0.36163602504763415,
          "y": -0.6451197546051243
         },
         {
          "x": 0.36139560550841393,
          "y": 1.5380365664659692
         },
         {
          "x": -0.03582603910995154,
          "y": 1.5646436558140062
         },
         {
          "x": -2.6197451040897444,
          "y": 0.8219025043752238
         },
         {
          "x": 0.08704706823817121,
          "y": -0.2990073504658674
         },
         {
          "x": 0.0917607765355023,
          "y": -1.9875689146008928
         },
         {
          "x": -0.21967188783751193,
          "y": 0.3571125715117464
         },
         {
          "x": 1.477894044741516,
          "y": -0.5182702182736474
         },
         {
          "x": -0.8084936028931876,
          "y": -0.5017570435845365
         },
         {
          "x": 0.9154021177020741,
          "y": 0.32875110965968446
         },
         {
          "x": -0.5297602037670388,
          "y": 0.5132674331133561
         },
         {
          "x": 0.09707754934804039,
          "y": 0.9686449905328892
         },
         {
          "x": -0.7020530938773524,
          "y": -0.3276621465977682
         },
         {
          "x": -0.39210815313215763,
          "y": -1.4635149481321186
         },
         {
          "x": 0.29612027706457605,
          "y": 0.26105527217988933
         },
         {
          "x": 0.00511345664246089,
          "y": -0.23458713337514692
         },
         {
          "x": -1.4153707420504142,
          "y": -0.42064532276535904
         },
         {
          "x": -0.3427145165267695,
          "y": -0.8022772692216189
         },
         {
          "x": -0.16128571166600914,
          "y": 0.4040508568145384
         },
         {
          "x": 1.8861859012105302,
          "y": 0.17457781283183896
         },
         {
          "x": 0.25755039072276437,
          "y": -0.07444591576616721
         },
         {
          "x": -1.9187712152990415,
          "y": -0.026513875449216878
         },
         {
          "x": 0.06023020994102644,
          "y": 2.463242112485286
         },
         {
          "x": -0.19236096478112252,
          "y": 0.30154734233361247
         },
         {
          "x": -0.03471176970524331,
          "y": -1.168678037619532
         },
         {
          "x": 1.1428228145150205,
          "y": 0.7519330326867741
         },
         {
          "x": 0.7910319470430469,
          "y": -0.9093874547947389
         },
         {
          "x": 1.4027943109360992,
          "y": -1.4018510627922809
         },
         {
          "x": 0.5868570938002703,
          "y": 2.1904556258099785
         },
         {
          "x": -0.9905363251306883,
          "y": -0.5662977296027719
         },
         {
          "x": 0.09965136508764122,
          "y": -0.5034756541161992
         },
         {
          "x": -1.5506634310661327,
          "y": 0.06856297480602733
         },
         {
          "x": -1.0623037137261049,
          "y": 0.4735924306351816
         },
         {
          "x": -0.9194242342338032,
          "y": 1.5499344050175394
         },
         {
          "x": -0.7832532923362371,
          "y": -0.3220615162056756
         },
         {
          "x": 0.8135172173696698,
          "y": -1.2308643164339552
         },
         {
          "x": 0.22745993460412942,
          "y": 1.307142754282428
         },
         {
          "x": -1.6074832345612275,
          "y": 0.1846338585323042
         },
         {
          "x": 0.25988279424842353,
          "y": 0.7818228717773104
         },
         {
          "x": -1.236950710878082,
          "y": -1.3204566130842763
         },
         {
          "x": 0.5219415656168976,
          "y": 0.29698467323318606
         },
         {
          "x": 0.25049285034587654,
          "y": 0.3464482094969757
         },
         {
          "x": -0.6800247215784908,
          "y": 0.23225369716100355
         },
         {
          "x": 0.29307247329868125,
          "y": -0.7143514180263678
         },
         {
          "x": 1.8657745111447566,
          "y": 0.4738329209117875
         },
         {
          "x": -1.1913034972026486,
          "y": 0.6565536086338297
         },
         {
          "x": -0.9746816702273214,
          "y": 0.787084603742452
         },
         {
          "x": 1.158595579007404,
          "y": -0.8206823183517105
         },
         {
          "x": 0.9633761292443218,
          "y": 0.4127809269364983
         },
         {
          "x": 0.82206015999449,
          "y": 1.8967929826539474
         },
         {
          "x": -0.2453881160028705,
          "y": -0.7537361643574896
         },
         {
          "x": -0.8895144296255233,
          "y": -0.8158102849654383
         },
         {
          "x": -0.0771017094141042,
          "y": 0.3411519748166439
         },
         {
          "x": 0.27669079933001905,
          "y": 0.8271832490360238
         },
         {
          "x": 0.01300189187790702,
          "y": 1.4535340771573169
         },
         {
          "x": -0.2646568332379561,
          "y": 2.720169166589619
         },
         {
          "x": 0.6256673477650062,
          "y": -0.8571575564162826
         },
         {
          "x": -1.0708924980611123,
          "y": 0.4824724152431853
         },
         {
          "x": -0.2234627853258509,
          "y": 0.714000494092092
         },
         {
          "x": 0.47323762457354485,
          "y": -0.07282891265687277
         },
         {
          "x": -0.846793718068405,
          "y": -1.5148472246858646
         },
         {
          "x": -0.4465149520670211,
          "y": 0.8563987943234723
         },
         {
          "x": 0.21409374413020396,
          "y": -1.245738778711988
         },
         {
          "x": 0.173180925851182,
          "y": 0.3853173797288368
         },
         {
          "x": -0.883857436201133,
          "y": 0.1537251059455279
         },
         {
          "x": 0.058208718445999896,
          "y": -1.142970297830623
         }
        ]
       },
       "encoding": {
        "x": {
         "field": "x",
         "type": "quantitative"
        },
        "y": {
         "field": "y",
         "type": "quantitative"
        }
       },
       "mark": "point"
      },
      "image/png": "[encoded data removed]",
      "text/plain": [
       "<VegaLite 2 object>\n",
       "\n",
       "If you see this message, it means the renderer has not been properly enabled\n",
       "for the frontend that you are using. For more information, see\n",
       "https://altair-viz.github.io/user_guide/troubleshooting.html\n"
      ]
     },
     "execution_count": 3,
     "metadata": {},
     "output_type": "execute_result"
    }
   ],
   "source": [
    "alt.Chart(data).mark_point().encode(\n",
    "    x='x:Q',\n",
    "    y='y:Q'\n",
    ")"
   ]
  },
  {
   "cell_type": "markdown",
   "metadata": {},
   "source": [
    "### Top-level configuration\n",
    "\n",
    "At the top level, Altair has a ``configure_mark()`` method that allows you to adjust a large number of configuration settings for marks in general, as well as a ``configure_point()`` property that specifically adjusts the properties of points.\n",
    "\n",
    "You can see the availale options in Jupyter in the documentation string, accessed with a question mark:"
   ]
  },
  {
   "cell_type": "code",
   "execution_count": 4,
   "metadata": {},
   "outputs": [
    {
     "data": {
      "text/plain": [
       "\u001b[0;31mSignature:\u001b[0m \u001b[0malt\u001b[0m\u001b[0;34m.\u001b[0m\u001b[0mChart\u001b[0m\u001b[0;34m.\u001b[0m\u001b[0mconfigure_point\u001b[0m\u001b[0;34m(\u001b[0m\u001b[0mself\u001b[0m\u001b[0;34m,\u001b[0m \u001b[0malign\u001b[0m\u001b[0;34m=\u001b[0m\u001b[0mUndefined\u001b[0m\u001b[0;34m,\u001b[0m \u001b[0mangle\u001b[0m\u001b[0;34m=\u001b[0m\u001b[0mUndefined\u001b[0m\u001b[0;34m,\u001b[0m \u001b[0mbaseline\u001b[0m\u001b[0;34m=\u001b[0m\u001b[0mUndefined\u001b[0m\u001b[0;34m,\u001b[0m \u001b[0mcolor\u001b[0m\u001b[0;34m=\u001b[0m\u001b[0mUndefined\u001b[0m\u001b[0;34m,\u001b[0m \u001b[0mcursor\u001b[0m\u001b[0;34m=\u001b[0m\u001b[0mUndefined\u001b[0m\u001b[0;34m,\u001b[0m \u001b[0mdx\u001b[0m\u001b[0;34m=\u001b[0m\u001b[0mUndefined\u001b[0m\u001b[0;34m,\u001b[0m \u001b[0mdy\u001b[0m\u001b[0;34m=\u001b[0m\u001b[0mUndefined\u001b[0m\u001b[0;34m,\u001b[0m \u001b[0mfill\u001b[0m\u001b[0;34m=\u001b[0m\u001b[0mUndefined\u001b[0m\u001b[0;34m,\u001b[0m \u001b[0mfillOpacity\u001b[0m\u001b[0;34m=\u001b[0m\u001b[0mUndefined\u001b[0m\u001b[0;34m,\u001b[0m \u001b[0mfilled\u001b[0m\u001b[0;34m=\u001b[0m\u001b[0mUndefined\u001b[0m\u001b[0;34m,\u001b[0m \u001b[0mfont\u001b[0m\u001b[0;34m=\u001b[0m\u001b[0mUndefined\u001b[0m\u001b[0;34m,\u001b[0m \u001b[0mfontSize\u001b[0m\u001b[0;34m=\u001b[0m\u001b[0mUndefined\u001b[0m\u001b[0;34m,\u001b[0m \u001b[0mfontStyle\u001b[0m\u001b[0;34m=\u001b[0m\u001b[0mUndefined\u001b[0m\u001b[0;34m,\u001b[0m \u001b[0mfontWeight\u001b[0m\u001b[0;34m=\u001b[0m\u001b[0mUndefined\u001b[0m\u001b[0;34m,\u001b[0m \u001b[0mhref\u001b[0m\u001b[0;34m=\u001b[0m\u001b[0mUndefined\u001b[0m\u001b[0;34m,\u001b[0m \u001b[0minterpolate\u001b[0m\u001b[0;34m=\u001b[0m\u001b[0mUndefined\u001b[0m\u001b[0;34m,\u001b[0m \u001b[0mlimit\u001b[0m\u001b[0;34m=\u001b[0m\u001b[0mUndefined\u001b[0m\u001b[0;34m,\u001b[0m \u001b[0mopacity\u001b[0m\u001b[0;34m=\u001b[0m\u001b[0mUndefined\u001b[0m\u001b[0;34m,\u001b[0m \u001b[0morient\u001b[0m\u001b[0;34m=\u001b[0m\u001b[0mUndefined\u001b[0m\u001b[0;34m,\u001b[0m \u001b[0mradius\u001b[0m\u001b[0;34m=\u001b[0m\u001b[0mUndefined\u001b[0m\u001b[0;34m,\u001b[0m \u001b[0mshape\u001b[0m\u001b[0;34m=\u001b[0m\u001b[0mUndefined\u001b[0m\u001b[0;34m,\u001b[0m \u001b[0msize\u001b[0m\u001b[0;34m=\u001b[0m\u001b[0mUndefined\u001b[0m\u001b[0;34m,\u001b[0m \u001b[0mstroke\u001b[0m\u001b[0;34m=\u001b[0m\u001b[0mUndefined\u001b[0m\u001b[0;34m,\u001b[0m \u001b[0mstrokeCap\u001b[0m\u001b[0;34m=\u001b[0m\u001b[0mUndefined\u001b[0m\u001b[0;34m,\u001b[0m \u001b[0mstrokeDash\u001b[0m\u001b[0;34m=\u001b[0m\u001b[0mUndefined\u001b[0m\u001b[0;34m,\u001b[0m \u001b[0mstrokeDashOffset\u001b[0m\u001b[0;34m=\u001b[0m\u001b[0mUndefined\u001b[0m\u001b[0;34m,\u001b[0m \u001b[0mstrokeOpacity\u001b[0m\u001b[0;34m=\u001b[0m\u001b[0mUndefined\u001b[0m\u001b[0;34m,\u001b[0m \u001b[0mstrokeWidth\u001b[0m\u001b[0;34m=\u001b[0m\u001b[0mUndefined\u001b[0m\u001b[0;34m,\u001b[0m \u001b[0mtension\u001b[0m\u001b[0;34m=\u001b[0m\u001b[0mUndefined\u001b[0m\u001b[0;34m,\u001b[0m \u001b[0mtext\u001b[0m\u001b[0;34m=\u001b[0m\u001b[0mUndefined\u001b[0m\u001b[0;34m,\u001b[0m \u001b[0mtheta\u001b[0m\u001b[0;34m=\u001b[0m\u001b[0mUndefined\u001b[0m\u001b[0;34m,\u001b[0m \u001b[0;34m**\u001b[0m\u001b[0mkwds\u001b[0m\u001b[0;34m)\u001b[0m\u001b[0;34m\u001b[0m\u001b[0m\n",
       "\u001b[0;31mDocstring:\u001b[0m\n",
       "MarkConfig schema wrapper\n",
       "\n",
       "Mapping(required=[])\n",
       "\n",
       "Attributes\n",
       "----------\n",
       "align : HorizontalAlign\n",
       "    The horizontal alignment of the text. One of ``\"left\"``, ``\"right\"``, ``\"center\"``.\n",
       "angle : float\n",
       "    The rotation angle of the text, in degrees.\n",
       "baseline : VerticalAlign\n",
       "    The vertical alignment of the text. One of ``\"top\"``, ``\"middle\"``, ``\"bottom\"``.\n",
       "    **Default value:** ``\"middle\"``\n",
       "color : string\n",
       "    Default color.  Note that ``fill`` and ``stroke`` have higher precedence than\n",
       "    ``color`` and will override ``color``.  **Default value:** :raw-html:`<span\n",
       "    style=\"color: #4682b4;\">&#9632;</span>` ``\"#4682b4\"``  **Note:** This property\n",
       "    cannot be used in a `style config <mark.html#style-config>`_.\n",
       "cursor : enum('auto', 'default', 'none', 'context-menu', 'help', 'pointer', 'progress',\n",
       "'wait', 'cell', 'crosshair', 'text', 'vertical-text', 'alias', 'copy', 'move', 'no-drop',\n",
       "'not-allowed', 'e-resize', 'n-resize', 'ne-resize', 'nw-resize', 's-resize', 'se-resize',\n",
       "'sw-resize', 'w-resize', 'ew-resize', 'ns-resize', 'nesw-resize', 'nwse-resize',\n",
       "'col-resize', 'row-resize', 'all-scroll', 'zoom-in', 'zoom-out', 'grab', 'grabbing')\n",
       "    The mouse cursor used over the mark. Any valid `CSS cursor type\n",
       "    <https://developer.mozilla.org/en-US/docs/Web/CSS/cursor#Values>`_ can be used.\n",
       "dx : float\n",
       "    The horizontal offset, in pixels, between the text label and its anchor point. The\n",
       "    offset is applied after rotation by the *angle* property.\n",
       "dy : float\n",
       "    The vertical offset, in pixels, between the text label and its anchor point. The\n",
       "    offset is applied after rotation by the *angle* property.\n",
       "fill : string\n",
       "    Default Fill Color.  This has higher precedence than ``config.color``  **Default\n",
       "    value:** (None)\n",
       "fillOpacity : float\n",
       "    The fill opacity (value between [0,1]).  **Default value:** ``1``\n",
       "filled : boolean\n",
       "    Whether the mark's color should be used as fill color instead of stroke color.\n",
       "    **Default value:** ``true`` for all marks except ``point`` and ``false`` for\n",
       "    ``point``.  **Applicable for:** ``bar``, ``point``, ``circle``, ``square``, and\n",
       "    ``area`` marks.  **Note:** This property cannot be used in a `style config\n",
       "    <mark.html#style-config>`_.\n",
       "font : string\n",
       "    The typeface to set the text in (e.g., ``\"Helvetica Neue\"`` ).\n",
       "fontSize : float\n",
       "    The font size, in pixels.\n",
       "fontStyle : FontStyle\n",
       "    The font style (e.g., ``\"italic\"`` ).\n",
       "fontWeight : FontWeight\n",
       "    The font weight. This can be either a string (e.g ``\"bold\"``, ``\"normal\"`` ) or a\n",
       "    number ( ``100``, ``200``, ``300``, ..., ``900`` where ``\"normal\"`` = ``400`` and\n",
       "    ``\"bold\"`` = ``700`` ).\n",
       "href : string\n",
       "    A URL to load upon mouse click. If defined, the mark acts as a hyperlink.\n",
       "interpolate : Interpolate\n",
       "    The line interpolation method to use for line and area marks. One of the following:\n",
       "       * ``\"linear\"`` : piecewise linear segments, as in a polyline. *\n",
       "    ``\"linear-closed\"`` : close the linear segments to form a polygon. * ``\"step\"`` :\n",
       "    alternate between horizontal and vertical segments, as in a step function. *\n",
       "    ``\"step-before\"`` : alternate between vertical and horizontal segments, as in a step\n",
       "     function. * ``\"step-after\"`` : alternate between horizontal and vertical segments,\n",
       "    as in a step function. * ``\"basis\"`` : a B-spline, with control point duplication on\n",
       "     the ends. * ``\"basis-open\"`` : an open B-spline; may not intersect the start or\n",
       "    end. * ``\"basis-closed\"`` : a closed B-spline, as in a loop. * ``\"cardinal\"`` : a\n",
       "    Cardinal spline, with control point duplication on the ends. * ``\"cardinal-open\"`` :\n",
       "     an open Cardinal spline; may not intersect the start or end, but will intersect\n",
       "    other control points. * ``\"cardinal-closed\"`` : a closed Cardinal spline, as in a\n",
       "    loop. * ``\"bundle\"`` : equivalent to basis, except the tension parameter is used to\n",
       "    straighten the spline. * ``\"monotone\"`` : cubic interpolation that preserves\n",
       "    monotonicity in y.\n",
       "limit : float\n",
       "    The maximum length of the text mark in pixels (default 0, indicating no limit). The\n",
       "    text value will be automatically truncated if the rendered size exceeds the limit.\n",
       "opacity : float\n",
       "    The overall opacity (value between [0,1]).  **Default value:** ``0.7`` for\n",
       "    non-aggregate plots with ``point``, ``tick``, ``circle``, or ``square`` marks or\n",
       "    layered ``bar`` charts and ``1`` otherwise.\n",
       "orient : Orient\n",
       "    The orientation of a non-stacked bar, tick, area, and line charts. The value is\n",
       "    either horizontal (default) or vertical.   * For bar, rule and tick, this determines\n",
       "     whether the size of the bar and tick   should be applied to x or y dimension. * For\n",
       "     area, this property determines the orient property of the Vega output. * For line\n",
       "    and trail marks, this property determines the sort order of the points in the line\n",
       "       if ``config.sortLineBy`` is not specified.   For stacked charts, this is always\n",
       "    determined by the orientation of the stack;   therefore explicitly specified value\n",
       "    will be ignored.\n",
       "radius : float\n",
       "    Polar coordinate radial offset, in pixels, of the text label from the origin\n",
       "    determined by the ``x`` and ``y`` properties.\n",
       "shape : string\n",
       "    The default symbol shape to use. One of: ``\"circle\"`` (default), ``\"square\"``,\n",
       "    ``\"cross\"``, ``\"diamond\"``, ``\"triangle-up\"``, or ``\"triangle-down\"``, or a custom\n",
       "    SVG path.  **Default value:** ``\"circle\"``\n",
       "size : float\n",
       "    The pixel area each the point/circle/square. For example: in the case of circles,\n",
       "    the radius is determined in part by the square root of the size value.  **Default\n",
       "    value:** ``30``\n",
       "stroke : string\n",
       "    Default Stroke Color.  This has higher precedence than ``config.color``  **Default\n",
       "    value:** (None)\n",
       "strokeCap : enum('butt', 'round', 'square')\n",
       "    The stroke cap for line ending style. One of ``\"butt\"``, ``\"round\"``, or\n",
       "    ``\"square\"``.  **Default value:** ``\"square\"``\n",
       "strokeDash : List(float)\n",
       "    An array of alternating stroke, space lengths for creating dashed or dotted lines.\n",
       "strokeDashOffset : float\n",
       "    The offset (in pixels) into which to begin drawing with the stroke dash array.\n",
       "strokeOpacity : float\n",
       "    The stroke opacity (value between [0,1]).  **Default value:** ``1``\n",
       "strokeWidth : float\n",
       "    The stroke width, in pixels.\n",
       "tension : float\n",
       "    Depending on the interpolation type, sets the tension parameter (for line and area\n",
       "    marks).\n",
       "text : string\n",
       "    Placeholder text if the ``text`` channel is not specified\n",
       "theta : float\n",
       "    Polar coordinate angle, in radians, of the text label from the origin determined by\n",
       "    the ``x`` and ``y`` properties. Values for ``theta`` follow the same convention of\n",
       "    ``arc`` mark ``startAngle`` and ``endAngle`` properties: angles are measured in\n",
       "    radians, with ``0`` indicating \"north\".\n",
       "\u001b[0;31mFile:\u001b[0m      ~/miniconda3/envs/dataviz/lib/python3.6/site-packages/altair/vegalite/v2/schema/core.py\n",
       "\u001b[0;31mType:\u001b[0m      function\n"
      ]
     },
     "metadata": {},
     "output_type": "display_data"
    }
   ],
   "source": [
    "alt.Chart.configure_point?"
   ]
  },
  {
   "cell_type": "markdown",
   "metadata": {},
   "source": [
    "This top-level configuration should be thought of as a chart theme: they are the default settings for the aesthetics of all chart elements.\n",
    "Let's use ``configure_point`` to set some properties of points:"
   ]
  },
  {
   "cell_type": "code",
   "execution_count": 5,
   "metadata": {},
   "outputs": [
    {
     "data": {
      "application/vnd.vegalite.v2+json": {
       "$schema": "https://vega.github.io/schema/vega-lite/v2.4.1.json",
       "config": {
        "point": {
         "color": "red",
         "filled": true,
         "size": 200
        },
        "view": {
         "height": 300,
         "width": 400
        }
       },
       "data": {
        "values": [
         {
          "x": 0.4967141530112327,
          "y": -0.13826430117118466
         },
         {
          "x": 0.6476885381006925,
          "y": 1.5230298564080254
         },
         {
          "x": -0.23415337472333597,
          "y": -0.23413695694918055
         },
         {
          "x": 1.5792128155073915,
          "y": 0.7674347291529088
         },
         {
          "x": -0.4694743859349521,
          "y": 0.5425600435859647
         },
         {
          "x": -0.46341769281246226,
          "y": -0.46572975357025687
         },
         {
          "x": 0.24196227156603412,
          "y": -1.913280244657798
         },
         {
          "x": -1.7249178325130328,
          "y": -0.5622875292409727
         },
         {
          "x": -1.0128311203344238,
          "y": 0.3142473325952739
         },
         {
          "x": -0.9080240755212109,
          "y": -1.4123037013352915
         },
         {
          "x": 1.465648768921554,
          "y": -0.22577630048653566
         },
         {
          "x": 0.06752820468792384,
          "y": -1.4247481862134568
         },
         {
          "x": -0.5443827245251827,
          "y": 0.11092258970986608
         },
         {
          "x": -1.1509935774223028,
          "y": 0.37569801834567196
         },
         {
          "x": -0.600638689918805,
          "y": -0.2916937497932768
         },
         {
          "x": -0.6017066122293969,
          "y": 1.8522781845089378
         },
         {
          "x": -0.013497224737933921,
          "y": -1.0577109289559004
         },
         {
          "x": 0.822544912103189,
          "y": -1.2208436499710222
         },
         {
          "x": 0.2088635950047554,
          "y": -1.9596701238797756
         },
         {
          "x": -1.3281860488984305,
          "y": 0.19686123586912352
         },
         {
          "x": 0.7384665799954104,
          "y": 0.1713682811899705
         },
         {
          "x": -0.11564828238824053,
          "y": -0.3011036955892888
         },
         {
          "x": -1.4785219903674274,
          "y": -0.7198442083947086
         },
         {
          "x": -0.4606387709597875,
          "y": 1.0571222262189157
         },
         {
          "x": 0.3436182895684614,
          "y": -1.763040155362734
         },
         {
          "x": 0.324083969394795,
          "y": -0.38508228041631654
         },
         {
          "x": -0.6769220003059587,
          "y": 0.6116762888408679
         },
         {
          "x": 1.030999522495951,
          "y": 0.9312801191161986
         },
         {
          "x": -0.8392175232226385,
          "y": -0.3092123758512146
         },
         {
          "x": 0.33126343140356396,
          "y": 0.9755451271223592
         },
         {
          "x": -0.47917423784528995,
          "y": -0.18565897666381712
         },
         {
          "x": -1.1063349740060282,
          "y": -1.1962066240806708
         },
         {
          "x": 0.812525822394198,
          "y": 1.356240028570823
         },
         {
          "x": -0.07201012158033385,
          "y": 1.0035328978920242
         },
         {
          "x": 0.36163602504763415,
          "y": -0.6451197546051243
         },
         {
          "x": 0.36139560550841393,
          "y": 1.5380365664659692
         },
         {
          "x": -0.03582603910995154,
          "y": 1.5646436558140062
         },
         {
          "x": -2.6197451040897444,
          "y": 0.8219025043752238
         },
         {
          "x": 0.08704706823817121,
          "y": -0.2990073504658674
         },
         {
          "x": 0.0917607765355023,
          "y": -1.9875689146008928
         },
         {
          "x": -0.21967188783751193,
          "y": 0.3571125715117464
         },
         {
          "x": 1.477894044741516,
          "y": -0.5182702182736474
         },
         {
          "x": -0.8084936028931876,
          "y": -0.5017570435845365
         },
         {
          "x": 0.9154021177020741,
          "y": 0.32875110965968446
         },
         {
          "x": -0.5297602037670388,
          "y": 0.5132674331133561
         },
         {
          "x": 0.09707754934804039,
          "y": 0.9686449905328892
         },
         {
          "x": -0.7020530938773524,
          "y": -0.3276621465977682
         },
         {
          "x": -0.39210815313215763,
          "y": -1.4635149481321186
         },
         {
          "x": 0.29612027706457605,
          "y": 0.26105527217988933
         },
         {
          "x": 0.00511345664246089,
          "y": -0.23458713337514692
         },
         {
          "x": -1.4153707420504142,
          "y": -0.42064532276535904
         },
         {
          "x": -0.3427145165267695,
          "y": -0.8022772692216189
         },
         {
          "x": -0.16128571166600914,
          "y": 0.4040508568145384
         },
         {
          "x": 1.8861859012105302,
          "y": 0.17457781283183896
         },
         {
          "x": 0.25755039072276437,
          "y": -0.07444591576616721
         },
         {
          "x": -1.9187712152990415,
          "y": -0.026513875449216878
         },
         {
          "x": 0.06023020994102644,
          "y": 2.463242112485286
         },
         {
          "x": -0.19236096478112252,
          "y": 0.30154734233361247
         },
         {
          "x": -0.03471176970524331,
          "y": -1.168678037619532
         },
         {
          "x": 1.1428228145150205,
          "y": 0.7519330326867741
         },
         {
          "x": 0.7910319470430469,
          "y": -0.9093874547947389
         },
         {
          "x": 1.4027943109360992,
          "y": -1.4018510627922809
         },
         {
          "x": 0.5868570938002703,
          "y": 2.1904556258099785
         },
         {
          "x": -0.9905363251306883,
          "y": -0.5662977296027719
         },
         {
          "x": 0.09965136508764122,
          "y": -0.5034756541161992
         },
         {
          "x": -1.5506634310661327,
          "y": 0.06856297480602733
         },
         {
          "x": -1.0623037137261049,
          "y": 0.4735924306351816
         },
         {
          "x": -0.9194242342338032,
          "y": 1.5499344050175394
         },
         {
          "x": -0.7832532923362371,
          "y": -0.3220615162056756
         },
         {
          "x": 0.8135172173696698,
          "y": -1.2308643164339552
         },
         {
          "x": 0.22745993460412942,
          "y": 1.307142754282428
         },
         {
          "x": -1.6074832345612275,
          "y": 0.1846338585323042
         },
         {
          "x": 0.25988279424842353,
          "y": 0.7818228717773104
         },
         {
          "x": -1.236950710878082,
          "y": -1.3204566130842763
         },
         {
          "x": 0.5219415656168976,
          "y": 0.29698467323318606
         },
         {
          "x": 0.25049285034587654,
          "y": 0.3464482094969757
         },
         {
          "x": -0.6800247215784908,
          "y": 0.23225369716100355
         },
         {
          "x": 0.29307247329868125,
          "y": -0.7143514180263678
         },
         {
          "x": 1.8657745111447566,
          "y": 0.4738329209117875
         },
         {
          "x": -1.1913034972026486,
          "y": 0.6565536086338297
         },
         {
          "x": -0.9746816702273214,
          "y": 0.787084603742452
         },
         {
          "x": 1.158595579007404,
          "y": -0.8206823183517105
         },
         {
          "x": 0.9633761292443218,
          "y": 0.4127809269364983
         },
         {
          "x": 0.82206015999449,
          "y": 1.8967929826539474
         },
         {
          "x": -0.2453881160028705,
          "y": -0.7537361643574896
         },
         {
          "x": -0.8895144296255233,
          "y": -0.8158102849654383
         },
         {
          "x": -0.0771017094141042,
          "y": 0.3411519748166439
         },
         {
          "x": 0.27669079933001905,
          "y": 0.8271832490360238
         },
         {
          "x": 0.01300189187790702,
          "y": 1.4535340771573169
         },
         {
          "x": -0.2646568332379561,
          "y": 2.720169166589619
         },
         {
          "x": 0.6256673477650062,
          "y": -0.8571575564162826
         },
         {
          "x": -1.0708924980611123,
          "y": 0.4824724152431853
         },
         {
          "x": -0.2234627853258509,
          "y": 0.714000494092092
         },
         {
          "x": 0.47323762457354485,
          "y": -0.07282891265687277
         },
         {
          "x": -0.846793718068405,
          "y": -1.5148472246858646
         },
         {
          "x": -0.4465149520670211,
          "y": 0.8563987943234723
         },
         {
          "x": 0.21409374413020396,
          "y": -1.245738778711988
         },
         {
          "x": 0.173180925851182,
          "y": 0.3853173797288368
         },
         {
          "x": -0.883857436201133,
          "y": 0.1537251059455279
         },
         {
          "x": 0.058208718445999896,
          "y": -1.142970297830623
         }
        ]
       },
       "encoding": {
        "x": {
         "field": "x",
         "type": "quantitative"
        },
        "y": {
         "field": "y",
         "type": "quantitative"
        }
       },
       "mark": "point"
      },
      "image/png": "[encoded data removed]",
      "text/plain": [
       "<VegaLite 2 object>\n",
       "\n",
       "If you see this message, it means the renderer has not been properly enabled\n",
       "for the frontend that you are using. For more information, see\n",
       "https://altair-viz.github.io/user_guide/troubleshooting.html\n"
      ]
     },
     "execution_count": 5,
     "metadata": {},
     "output_type": "execute_result"
    }
   ],
   "source": [
    "alt.Chart(data).mark_point().encode(\n",
    "    x='x:Q',\n",
    "    y='y:Q'\n",
    ").configure_point(\n",
    "    size=200,\n",
    "    color='red',\n",
    "    filled=True\n",
    ")"
   ]
  },
  {
   "cell_type": "markdown",
   "metadata": {},
   "source": [
    "Many local configurations are available; you can use Jupyter's tab-completion and help features to explore them"
   ]
  },
  {
   "cell_type": "code",
   "execution_count": null,
   "metadata": {},
   "outputs": [],
   "source": [
    "# type alt.Chart.configure then the TAB key to see available configurations\n",
    "alt.Chart.configure_"
   ]
  },
  {
   "cell_type": "markdown",
   "metadata": {},
   "source": [
    "## Local Mark Configuration\n",
    "\n",
    "Within the ``mark_point()`` method, you can pass local configurations that will override the top-level configuration settings.\n",
    "The arguments are the same as that of ``configure_mark``."
   ]
  },
  {
   "cell_type": "code",
   "execution_count": 7,
   "metadata": {},
   "outputs": [
    {
     "data": {
      "application/vnd.vegalite.v2+json": {
       "$schema": "https://vega.github.io/schema/vega-lite/v2.4.1.json",
       "config": {
        "point": {
         "color": "red",
         "filled": true,
         "size": 200
        },
        "view": {
         "height": 300,
         "width": 400
        }
       },
       "data": {
        "values": [
         {
          "x": 0.4967141530112327,
          "y": -0.13826430117118466
         },
         {
          "x": 0.6476885381006925,
          "y": 1.5230298564080254
         },
         {
          "x": -0.23415337472333597,
          "y": -0.23413695694918055
         },
         {
          "x": 1.5792128155073915,
          "y": 0.7674347291529088
         },
         {
          "x": -0.4694743859349521,
          "y": 0.5425600435859647
         },
         {
          "x": -0.46341769281246226,
          "y": -0.46572975357025687
         },
         {
          "x": 0.24196227156603412,
          "y": -1.913280244657798
         },
         {
          "x": -1.7249178325130328,
          "y": -0.5622875292409727
         },
         {
          "x": -1.0128311203344238,
          "y": 0.3142473325952739
         },
         {
          "x": -0.9080240755212109,
          "y": -1.4123037013352915
         },
         {
          "x": 1.465648768921554,
          "y": -0.22577630048653566
         },
         {
          "x": 0.06752820468792384,
          "y": -1.4247481862134568
         },
         {
          "x": -0.5443827245251827,
          "y": 0.11092258970986608
         },
         {
          "x": -1.1509935774223028,
          "y": 0.37569801834567196
         },
         {
          "x": -0.600638689918805,
          "y": -0.2916937497932768
         },
         {
          "x": -0.6017066122293969,
          "y": 1.8522781845089378
         },
         {
          "x": -0.013497224737933921,
          "y": -1.0577109289559004
         },
         {
          "x": 0.822544912103189,
          "y": -1.2208436499710222
         },
         {
          "x": 0.2088635950047554,
          "y": -1.9596701238797756
         },
         {
          "x": -1.3281860488984305,
          "y": 0.19686123586912352
         },
         {
          "x": 0.7384665799954104,
          "y": 0.1713682811899705
         },
         {
          "x": -0.11564828238824053,
          "y": -0.3011036955892888
         },
         {
          "x": -1.4785219903674274,
          "y": -0.7198442083947086
         },
         {
          "x": -0.4606387709597875,
          "y": 1.0571222262189157
         },
         {
          "x": 0.3436182895684614,
          "y": -1.763040155362734
         },
         {
          "x": 0.324083969394795,
          "y": -0.38508228041631654
         },
         {
          "x": -0.6769220003059587,
          "y": 0.6116762888408679
         },
         {
          "x": 1.030999522495951,
          "y": 0.9312801191161986
         },
         {
          "x": -0.8392175232226385,
          "y": -0.3092123758512146
         },
         {
          "x": 0.33126343140356396,
          "y": 0.9755451271223592
         },
         {
          "x": -0.47917423784528995,
          "y": -0.18565897666381712
         },
         {
          "x": -1.1063349740060282,
          "y": -1.1962066240806708
         },
         {
          "x": 0.812525822394198,
          "y": 1.356240028570823
         },
         {
          "x": -0.07201012158033385,
          "y": 1.0035328978920242
         },
         {
          "x": 0.36163602504763415,
          "y": -0.6451197546051243
         },
         {
          "x": 0.36139560550841393,
          "y": 1.5380365664659692
         },
         {
          "x": -0.03582603910995154,
          "y": 1.5646436558140062
         },
         {
          "x": -2.6197451040897444,
          "y": 0.8219025043752238
         },
         {
          "x": 0.08704706823817121,
          "y": -0.2990073504658674
         },
         {
          "x": 0.0917607765355023,
          "y": -1.9875689146008928
         },
         {
          "x": -0.21967188783751193,
          "y": 0.3571125715117464
         },
         {
          "x": 1.477894044741516,
          "y": -0.5182702182736474
         },
         {
          "x": -0.8084936028931876,
          "y": -0.5017570435845365
         },
         {
          "x": 0.9154021177020741,
          "y": 0.32875110965968446
         },
         {
          "x": -0.5297602037670388,
          "y": 0.5132674331133561
         },
         {
          "x": 0.09707754934804039,
          "y": 0.9686449905328892
         },
         {
          "x": -0.7020530938773524,
          "y": -0.3276621465977682
         },
         {
          "x": -0.39210815313215763,
          "y": -1.4635149481321186
         },
         {
          "x": 0.29612027706457605,
          "y": 0.26105527217988933
         },
         {
          "x": 0.00511345664246089,
          "y": -0.23458713337514692
         },
         {
          "x": -1.4153707420504142,
          "y": -0.42064532276535904
         },
         {
          "x": -0.3427145165267695,
          "y": -0.8022772692216189
         },
         {
          "x": -0.16128571166600914,
          "y": 0.4040508568145384
         },
         {
          "x": 1.8861859012105302,
          "y": 0.17457781283183896
         },
         {
          "x": 0.25755039072276437,
          "y": -0.07444591576616721
         },
         {
          "x": -1.9187712152990415,
          "y": -0.026513875449216878
         },
         {
          "x": 0.06023020994102644,
          "y": 2.463242112485286
         },
         {
          "x": -0.19236096478112252,
          "y": 0.30154734233361247
         },
         {
          "x": -0.03471176970524331,
          "y": -1.168678037619532
         },
         {
          "x": 1.1428228145150205,
          "y": 0.7519330326867741
         },
         {
          "x": 0.7910319470430469,
          "y": -0.9093874547947389
         },
         {
          "x": 1.4027943109360992,
          "y": -1.4018510627922809
         },
         {
          "x": 0.5868570938002703,
          "y": 2.1904556258099785
         },
         {
          "x": -0.9905363251306883,
          "y": -0.5662977296027719
         },
         {
          "x": 0.09965136508764122,
          "y": -0.5034756541161992
         },
         {
          "x": -1.5506634310661327,
          "y": 0.06856297480602733
         },
         {
          "x": -1.0623037137261049,
          "y": 0.4735924306351816
         },
         {
          "x": -0.9194242342338032,
          "y": 1.5499344050175394
         },
         {
          "x": -0.7832532923362371,
          "y": -0.3220615162056756
         },
         {
          "x": 0.8135172173696698,
          "y": -1.2308643164339552
         },
         {
          "x": 0.22745993460412942,
          "y": 1.307142754282428
         },
         {
          "x": -1.6074832345612275,
          "y": 0.1846338585323042
         },
         {
          "x": 0.25988279424842353,
          "y": 0.7818228717773104
         },
         {
          "x": -1.236950710878082,
          "y": -1.3204566130842763
         },
         {
          "x": 0.5219415656168976,
          "y": 0.29698467323318606
         },
         {
          "x": 0.25049285034587654,
          "y": 0.3464482094969757
         },
         {
          "x": -0.6800247215784908,
          "y": 0.23225369716100355
         },
         {
          "x": 0.29307247329868125,
          "y": -0.7143514180263678
         },
         {
          "x": 1.8657745111447566,
          "y": 0.4738329209117875
         },
         {
          "x": -1.1913034972026486,
          "y": 0.6565536086338297
         },
         {
          "x": -0.9746816702273214,
          "y": 0.787084603742452
         },
         {
          "x": 1.158595579007404,
          "y": -0.8206823183517105
         },
         {
          "x": 0.9633761292443218,
          "y": 0.4127809269364983
         },
         {
          "x": 0.82206015999449,
          "y": 1.8967929826539474
         },
         {
          "x": -0.2453881160028705,
          "y": -0.7537361643574896
         },
         {
          "x": -0.8895144296255233,
          "y": -0.8158102849654383
         },
         {
          "x": -0.0771017094141042,
          "y": 0.3411519748166439
         },
         {
          "x": 0.27669079933001905,
          "y": 0.8271832490360238
         },
         {
          "x": 0.01300189187790702,
          "y": 1.4535340771573169
         },
         {
          "x": -0.2646568332379561,
          "y": 2.720169166589619
         },
         {
          "x": 0.6256673477650062,
          "y": -0.8571575564162826
         },
         {
          "x": -1.0708924980611123,
          "y": 0.4824724152431853
         },
         {
          "x": -0.2234627853258509,
          "y": 0.714000494092092
         },
         {
          "x": 0.47323762457354485,
          "y": -0.07282891265687277
         },
         {
          "x": -0.846793718068405,
          "y": -1.5148472246858646
         },
         {
          "x": -0.4465149520670211,
          "y": 0.8563987943234723
         },
         {
          "x": 0.21409374413020396,
          "y": -1.245738778711988
         },
         {
          "x": 0.173180925851182,
          "y": 0.3853173797288368
         },
         {
          "x": -0.883857436201133,
          "y": 0.1537251059455279
         },
         {
          "x": 0.058208718445999896,
          "y": -1.142970297830623
         }
        ]
       },
       "encoding": {
        "x": {
         "field": "x",
         "type": "quantitative"
        },
        "y": {
         "field": "y",
         "type": "quantitative"
        }
       },
       "mark": {
        "color": "green",
        "filled": false,
        "type": "point"
       }
      },
      "image/png": "[encoded data removed]",
      "text/plain": [
       "<VegaLite 2 object>\n",
       "\n",
       "If you see this message, it means the renderer has not been properly enabled\n",
       "for the frontend that you are using. For more information, see\n",
       "https://altair-viz.github.io/user_guide/troubleshooting.html\n"
      ]
     },
     "execution_count": 7,
     "metadata": {},
     "output_type": "execute_result"
    }
   ],
   "source": [
    "alt.Chart(data).mark_point(color='green', filled=False).encode(\n",
    "    x='x:Q',\n",
    "    y='y:Q'\n",
    ").configure_point(\n",
    "    size=200,\n",
    "    color='red',\n",
    "    filled=True\n",
    ")"
   ]
  },
  {
   "cell_type": "markdown",
   "metadata": {},
   "source": [
    "Notice here that the \"color\" and \"fill\" configurations are overridden by the local configurations, but the \"size\" remains the same as before."
   ]
  },
  {
   "cell_type": "markdown",
   "metadata": {},
   "source": [
    "## Encoding Configuration\n",
    "\n",
    "Finally, the highest precedence setting is the \"encoding\" setting. Here let's set the color to \"steelblue\" within the encoding:"
   ]
  },
  {
   "cell_type": "code",
   "execution_count": null,
   "metadata": {},
   "outputs": [],
   "source": [
    "alt.Chart(data).mark_point(color='green', filled=False).encode(\n",
    "    x='x:Q',\n",
    "    y='y:Q',\n",
    "    color=alt.value('steelblue')\n",
    ").configure_point(\n",
    "    size=200,\n",
    "    color='red',\n",
    "    filled=True\n",
    ")"
   ]
  },
  {
   "cell_type": "markdown",
   "metadata": {},
   "source": [
    "Now this is a bit of a contrived example, but it's useful to help grasp the various places that properties of marks can be set."
   ]
  },
  {
   "cell_type": "markdown",
   "metadata": {},
   "source": [
    "## Example 2: Chart and Axis Titles\n",
    "\n",
    "Chart and axis titles are set automatically based on the data source, but sometimes it is useful to change them.\n",
    "For example, here is a histogram of the above data:"
   ]
  },
  {
   "cell_type": "code",
   "execution_count": 8,
   "metadata": {},
   "outputs": [
    {
     "data": {
      "application/vnd.vegalite.v2+json": {
       "$schema": "https://vega.github.io/schema/vega-lite/v2.4.1.json",
       "config": {
        "view": {
         "height": 300,
         "width": 400
        }
       },
       "data": {
        "values": [
         {
          "x": 0.4967141530112327,
          "y": -0.13826430117118466
         },
         {
          "x": 0.6476885381006925,
          "y": 1.5230298564080254
         },
         {
          "x": -0.23415337472333597,
          "y": -0.23413695694918055
         },
         {
          "x": 1.5792128155073915,
          "y": 0.7674347291529088
         },
         {
          "x": -0.4694743859349521,
          "y": 0.5425600435859647
         },
         {
          "x": -0.46341769281246226,
          "y": -0.46572975357025687
         },
         {
          "x": 0.24196227156603412,
          "y": -1.913280244657798
         },
         {
          "x": -1.7249178325130328,
          "y": -0.5622875292409727
         },
         {
          "x": -1.0128311203344238,
          "y": 0.3142473325952739
         },
         {
          "x": -0.9080240755212109,
          "y": -1.4123037013352915
         },
         {
          "x": 1.465648768921554,
          "y": -0.22577630048653566
         },
         {
          "x": 0.06752820468792384,
          "y": -1.4247481862134568
         },
         {
          "x": -0.5443827245251827,
          "y": 0.11092258970986608
         },
         {
          "x": -1.1509935774223028,
          "y": 0.37569801834567196
         },
         {
          "x": -0.600638689918805,
          "y": -0.2916937497932768
         },
         {
          "x": -0.6017066122293969,
          "y": 1.8522781845089378
         },
         {
          "x": -0.013497224737933921,
          "y": -1.0577109289559004
         },
         {
          "x": 0.822544912103189,
          "y": -1.2208436499710222
         },
         {
          "x": 0.2088635950047554,
          "y": -1.9596701238797756
         },
         {
          "x": -1.3281860488984305,
          "y": 0.19686123586912352
         },
         {
          "x": 0.7384665799954104,
          "y": 0.1713682811899705
         },
         {
          "x": -0.11564828238824053,
          "y": -0.3011036955892888
         },
         {
          "x": -1.4785219903674274,
          "y": -0.7198442083947086
         },
         {
          "x": -0.4606387709597875,
          "y": 1.0571222262189157
         },
         {
          "x": 0.3436182895684614,
          "y": -1.763040155362734
         },
         {
          "x": 0.324083969394795,
          "y": -0.38508228041631654
         },
         {
          "x": -0.6769220003059587,
          "y": 0.6116762888408679
         },
         {
          "x": 1.030999522495951,
          "y": 0.9312801191161986
         },
         {
          "x": -0.8392175232226385,
          "y": -0.3092123758512146
         },
         {
          "x": 0.33126343140356396,
          "y": 0.9755451271223592
         },
         {
          "x": -0.47917423784528995,
          "y": -0.18565897666381712
         },
         {
          "x": -1.1063349740060282,
          "y": -1.1962066240806708
         },
         {
          "x": 0.812525822394198,
          "y": 1.356240028570823
         },
         {
          "x": -0.07201012158033385,
          "y": 1.0035328978920242
         },
         {
          "x": 0.36163602504763415,
          "y": -0.6451197546051243
         },
         {
          "x": 0.36139560550841393,
          "y": 1.5380365664659692
         },
         {
          "x": -0.03582603910995154,
          "y": 1.5646436558140062
         },
         {
          "x": -2.6197451040897444,
          "y": 0.8219025043752238
         },
         {
          "x": 0.08704706823817121,
          "y": -0.2990073504658674
         },
         {
          "x": 0.0917607765355023,
          "y": -1.9875689146008928
         },
         {
          "x": -0.21967188783751193,
          "y": 0.3571125715117464
         },
         {
          "x": 1.477894044741516,
          "y": -0.5182702182736474
         },
         {
          "x": -0.8084936028931876,
          "y": -0.5017570435845365
         },
         {
          "x": 0.9154021177020741,
          "y": 0.32875110965968446
         },
         {
          "x": -0.5297602037670388,
          "y": 0.5132674331133561
         },
         {
          "x": 0.09707754934804039,
          "y": 0.9686449905328892
         },
         {
          "x": -0.7020530938773524,
          "y": -0.3276621465977682
         },
         {
          "x": -0.39210815313215763,
          "y": -1.4635149481321186
         },
         {
          "x": 0.29612027706457605,
          "y": 0.26105527217988933
         },
         {
          "x": 0.00511345664246089,
          "y": -0.23458713337514692
         },
         {
          "x": -1.4153707420504142,
          "y": -0.42064532276535904
         },
         {
          "x": -0.3427145165267695,
          "y": -0.8022772692216189
         },
         {
          "x": -0.16128571166600914,
          "y": 0.4040508568145384
         },
         {
          "x": 1.8861859012105302,
          "y": 0.17457781283183896
         },
         {
          "x": 0.25755039072276437,
          "y": -0.07444591576616721
         },
         {
          "x": -1.9187712152990415,
          "y": -0.026513875449216878
         },
         {
          "x": 0.06023020994102644,
          "y": 2.463242112485286
         },
         {
          "x": -0.19236096478112252,
          "y": 0.30154734233361247
         },
         {
          "x": -0.03471176970524331,
          "y": -1.168678037619532
         },
         {
          "x": 1.1428228145150205,
          "y": 0.7519330326867741
         },
         {
          "x": 0.7910319470430469,
          "y": -0.9093874547947389
         },
         {
          "x": 1.4027943109360992,
          "y": -1.4018510627922809
         },
         {
          "x": 0.5868570938002703,
          "y": 2.1904556258099785
         },
         {
          "x": -0.9905363251306883,
          "y": -0.5662977296027719
         },
         {
          "x": 0.09965136508764122,
          "y": -0.5034756541161992
         },
         {
          "x": -1.5506634310661327,
          "y": 0.06856297480602733
         },
         {
          "x": -1.0623037137261049,
          "y": 0.4735924306351816
         },
         {
          "x": -0.9194242342338032,
          "y": 1.5499344050175394
         },
         {
          "x": -0.7832532923362371,
          "y": -0.3220615162056756
         },
         {
          "x": 0.8135172173696698,
          "y": -1.2308643164339552
         },
         {
          "x": 0.22745993460412942,
          "y": 1.307142754282428
         },
         {
          "x": -1.6074832345612275,
          "y": 0.1846338585323042
         },
         {
          "x": 0.25988279424842353,
          "y": 0.7818228717773104
         },
         {
          "x": -1.236950710878082,
          "y": -1.3204566130842763
         },
         {
          "x": 0.5219415656168976,
          "y": 0.29698467323318606
         },
         {
          "x": 0.25049285034587654,
          "y": 0.3464482094969757
         },
         {
          "x": -0.6800247215784908,
          "y": 0.23225369716100355
         },
         {
          "x": 0.29307247329868125,
          "y": -0.7143514180263678
         },
         {
          "x": 1.8657745111447566,
          "y": 0.4738329209117875
         },
         {
          "x": -1.1913034972026486,
          "y": 0.6565536086338297
         },
         {
          "x": -0.9746816702273214,
          "y": 0.787084603742452
         },
         {
          "x": 1.158595579007404,
          "y": -0.8206823183517105
         },
         {
          "x": 0.9633761292443218,
          "y": 0.4127809269364983
         },
         {
          "x": 0.82206015999449,
          "y": 1.8967929826539474
         },
         {
          "x": -0.2453881160028705,
          "y": -0.7537361643574896
         },
         {
          "x": -0.8895144296255233,
          "y": -0.8158102849654383
         },
         {
          "x": -0.0771017094141042,
          "y": 0.3411519748166439
         },
         {
          "x": 0.27669079933001905,
          "y": 0.8271832490360238
         },
         {
          "x": 0.01300189187790702,
          "y": 1.4535340771573169
         },
         {
          "x": -0.2646568332379561,
          "y": 2.720169166589619
         },
         {
          "x": 0.6256673477650062,
          "y": -0.8571575564162826
         },
         {
          "x": -1.0708924980611123,
          "y": 0.4824724152431853
         },
         {
          "x": -0.2234627853258509,
          "y": 0.714000494092092
         },
         {
          "x": 0.47323762457354485,
          "y": -0.07282891265687277
         },
         {
          "x": -0.846793718068405,
          "y": -1.5148472246858646
         },
         {
          "x": -0.4465149520670211,
          "y": 0.8563987943234723
         },
         {
          "x": 0.21409374413020396,
          "y": -1.245738778711988
         },
         {
          "x": 0.173180925851182,
          "y": 0.3853173797288368
         },
         {
          "x": -0.883857436201133,
          "y": 0.1537251059455279
         },
         {
          "x": 0.058208718445999896,
          "y": -1.142970297830623
         }
        ]
       },
       "encoding": {
        "x": {
         "bin": true,
         "field": "x",
         "type": "quantitative"
        },
        "y": {
         "aggregate": "count",
         "type": "quantitative"
        }
       },
       "mark": "bar"
      },
      "image/png": "[encoded data removed]",
      "text/plain": [
       "<VegaLite 2 object>\n",
       "\n",
       "If you see this message, it means the renderer has not been properly enabled\n",
       "for the frontend that you are using. For more information, see\n",
       "https://altair-viz.github.io/user_guide/troubleshooting.html\n"
      ]
     },
     "execution_count": 8,
     "metadata": {},
     "output_type": "execute_result"
    }
   ],
   "source": [
    "alt.Chart(data).mark_bar().encode(\n",
    "    x=alt.X('x', bin=True),\n",
    "    y=alt.Y('count()')\n",
    ")"
   ]
  },
  {
   "cell_type": "markdown",
   "metadata": {},
   "source": [
    "We can explicitly set the axis titles using the ``title`` argument to the encoding:"
   ]
  },
  {
   "cell_type": "code",
   "execution_count": 9,
   "metadata": {},
   "outputs": [
    {
     "data": {
      "application/vnd.vegalite.v2+json": {
       "$schema": "https://vega.github.io/schema/vega-lite/v2.4.1.json",
       "config": {
        "view": {
         "height": 300,
         "width": 400
        }
       },
       "data": {
        "values": [
         {
          "x": 0.4967141530112327,
          "y": -0.13826430117118466
         },
         {
          "x": 0.6476885381006925,
          "y": 1.5230298564080254
         },
         {
          "x": -0.23415337472333597,
          "y": -0.23413695694918055
         },
         {
          "x": 1.5792128155073915,
          "y": 0.7674347291529088
         },
         {
          "x": -0.4694743859349521,
          "y": 0.5425600435859647
         },
         {
          "x": -0.46341769281246226,
          "y": -0.46572975357025687
         },
         {
          "x": 0.24196227156603412,
          "y": -1.913280244657798
         },
         {
          "x": -1.7249178325130328,
          "y": -0.5622875292409727
         },
         {
          "x": -1.0128311203344238,
          "y": 0.3142473325952739
         },
         {
          "x": -0.9080240755212109,
          "y": -1.4123037013352915
         },
         {
          "x": 1.465648768921554,
          "y": -0.22577630048653566
         },
         {
          "x": 0.06752820468792384,
          "y": -1.4247481862134568
         },
         {
          "x": -0.5443827245251827,
          "y": 0.11092258970986608
         },
         {
          "x": -1.1509935774223028,
          "y": 0.37569801834567196
         },
         {
          "x": -0.600638689918805,
          "y": -0.2916937497932768
         },
         {
          "x": -0.6017066122293969,
          "y": 1.8522781845089378
         },
         {
          "x": -0.013497224737933921,
          "y": -1.0577109289559004
         },
         {
          "x": 0.822544912103189,
          "y": -1.2208436499710222
         },
         {
          "x": 0.2088635950047554,
          "y": -1.9596701238797756
         },
         {
          "x": -1.3281860488984305,
          "y": 0.19686123586912352
         },
         {
          "x": 0.7384665799954104,
          "y": 0.1713682811899705
         },
         {
          "x": -0.11564828238824053,
          "y": -0.3011036955892888
         },
         {
          "x": -1.4785219903674274,
          "y": -0.7198442083947086
         },
         {
          "x": -0.4606387709597875,
          "y": 1.0571222262189157
         },
         {
          "x": 0.3436182895684614,
          "y": -1.763040155362734
         },
         {
          "x": 0.324083969394795,
          "y": -0.38508228041631654
         },
         {
          "x": -0.6769220003059587,
          "y": 0.6116762888408679
         },
         {
          "x": 1.030999522495951,
          "y": 0.9312801191161986
         },
         {
          "x": -0.8392175232226385,
          "y": -0.3092123758512146
         },
         {
          "x": 0.33126343140356396,
          "y": 0.9755451271223592
         },
         {
          "x": -0.47917423784528995,
          "y": -0.18565897666381712
         },
         {
          "x": -1.1063349740060282,
          "y": -1.1962066240806708
         },
         {
          "x": 0.812525822394198,
          "y": 1.356240028570823
         },
         {
          "x": -0.07201012158033385,
          "y": 1.0035328978920242
         },
         {
          "x": 0.36163602504763415,
          "y": -0.6451197546051243
         },
         {
          "x": 0.36139560550841393,
          "y": 1.5380365664659692
         },
         {
          "x": -0.03582603910995154,
          "y": 1.5646436558140062
         },
         {
          "x": -2.6197451040897444,
          "y": 0.8219025043752238
         },
         {
          "x": 0.08704706823817121,
          "y": -0.2990073504658674
         },
         {
          "x": 0.0917607765355023,
          "y": -1.9875689146008928
         },
         {
          "x": -0.21967188783751193,
          "y": 0.3571125715117464
         },
         {
          "x": 1.477894044741516,
          "y": -0.5182702182736474
         },
         {
          "x": -0.8084936028931876,
          "y": -0.5017570435845365
         },
         {
          "x": 0.9154021177020741,
          "y": 0.32875110965968446
         },
         {
          "x": -0.5297602037670388,
          "y": 0.5132674331133561
         },
         {
          "x": 0.09707754934804039,
          "y": 0.9686449905328892
         },
         {
          "x": -0.7020530938773524,
          "y": -0.3276621465977682
         },
         {
          "x": -0.39210815313215763,
          "y": -1.4635149481321186
         },
         {
          "x": 0.29612027706457605,
          "y": 0.26105527217988933
         },
         {
          "x": 0.00511345664246089,
          "y": -0.23458713337514692
         },
         {
          "x": -1.4153707420504142,
          "y": -0.42064532276535904
         },
         {
          "x": -0.3427145165267695,
          "y": -0.8022772692216189
         },
         {
          "x": -0.16128571166600914,
          "y": 0.4040508568145384
         },
         {
          "x": 1.8861859012105302,
          "y": 0.17457781283183896
         },
         {
          "x": 0.25755039072276437,
          "y": -0.07444591576616721
         },
         {
          "x": -1.9187712152990415,
          "y": -0.026513875449216878
         },
         {
          "x": 0.06023020994102644,
          "y": 2.463242112485286
         },
         {
          "x": -0.19236096478112252,
          "y": 0.30154734233361247
         },
         {
          "x": -0.03471176970524331,
          "y": -1.168678037619532
         },
         {
          "x": 1.1428228145150205,
          "y": 0.7519330326867741
         },
         {
          "x": 0.7910319470430469,
          "y": -0.9093874547947389
         },
         {
          "x": 1.4027943109360992,
          "y": -1.4018510627922809
         },
         {
          "x": 0.5868570938002703,
          "y": 2.1904556258099785
         },
         {
          "x": -0.9905363251306883,
          "y": -0.5662977296027719
         },
         {
          "x": 0.09965136508764122,
          "y": -0.5034756541161992
         },
         {
          "x": -1.5506634310661327,
          "y": 0.06856297480602733
         },
         {
          "x": -1.0623037137261049,
          "y": 0.4735924306351816
         },
         {
          "x": -0.9194242342338032,
          "y": 1.5499344050175394
         },
         {
          "x": -0.7832532923362371,
          "y": -0.3220615162056756
         },
         {
          "x": 0.8135172173696698,
          "y": -1.2308643164339552
         },
         {
          "x": 0.22745993460412942,
          "y": 1.307142754282428
         },
         {
          "x": -1.6074832345612275,
          "y": 0.1846338585323042
         },
         {
          "x": 0.25988279424842353,
          "y": 0.7818228717773104
         },
         {
          "x": -1.236950710878082,
          "y": -1.3204566130842763
         },
         {
          "x": 0.5219415656168976,
          "y": 0.29698467323318606
         },
         {
          "x": 0.25049285034587654,
          "y": 0.3464482094969757
         },
         {
          "x": -0.6800247215784908,
          "y": 0.23225369716100355
         },
         {
          "x": 0.29307247329868125,
          "y": -0.7143514180263678
         },
         {
          "x": 1.8657745111447566,
          "y": 0.4738329209117875
         },
         {
          "x": -1.1913034972026486,
          "y": 0.6565536086338297
         },
         {
          "x": -0.9746816702273214,
          "y": 0.787084603742452
         },
         {
          "x": 1.158595579007404,
          "y": -0.8206823183517105
         },
         {
          "x": 0.9633761292443218,
          "y": 0.4127809269364983
         },
         {
          "x": 0.82206015999449,
          "y": 1.8967929826539474
         },
         {
          "x": -0.2453881160028705,
          "y": -0.7537361643574896
         },
         {
          "x": -0.8895144296255233,
          "y": -0.8158102849654383
         },
         {
          "x": -0.0771017094141042,
          "y": 0.3411519748166439
         },
         {
          "x": 0.27669079933001905,
          "y": 0.8271832490360238
         },
         {
          "x": 0.01300189187790702,
          "y": 1.4535340771573169
         },
         {
          "x": -0.2646568332379561,
          "y": 2.720169166589619
         },
         {
          "x": 0.6256673477650062,
          "y": -0.8571575564162826
         },
         {
          "x": -1.0708924980611123,
          "y": 0.4824724152431853
         },
         {
          "x": -0.2234627853258509,
          "y": 0.714000494092092
         },
         {
          "x": 0.47323762457354485,
          "y": -0.07282891265687277
         },
         {
          "x": -0.846793718068405,
          "y": -1.5148472246858646
         },
         {
          "x": -0.4465149520670211,
          "y": 0.8563987943234723
         },
         {
          "x": 0.21409374413020396,
          "y": -1.245738778711988
         },
         {
          "x": 0.173180925851182,
          "y": 0.3853173797288368
         },
         {
          "x": -0.883857436201133,
          "y": 0.1537251059455279
         },
         {
          "x": 0.058208718445999896,
          "y": -1.142970297830623
         }
        ]
       },
       "encoding": {
        "x": {
         "bin": true,
         "field": "x",
         "title": "binned x values",
         "type": "quantitative"
        },
        "y": {
         "aggregate": "count",
         "title": "counts in x",
         "type": "quantitative"
        }
       },
       "mark": "bar"
      },
      "image/png": "[encoded data removed]",
      "text/plain": [
       "<VegaLite 2 object>\n",
       "\n",
       "If you see this message, it means the renderer has not been properly enabled\n",
       "for the frontend that you are using. For more information, see\n",
       "https://altair-viz.github.io/user_guide/troubleshooting.html\n"
      ]
     },
     "execution_count": 9,
     "metadata": {},
     "output_type": "execute_result"
    }
   ],
   "source": [
    "alt.Chart(data).mark_bar().encode(\n",
    "    x=alt.X('x', bin=True, title='binned x values'),\n",
    "    y=alt.Y('count()', title='counts in x')\n",
    ")"
   ]
  },
  {
   "cell_type": "markdown",
   "metadata": {},
   "source": [
    "Likewise, we can set the ``title`` property of the chart within the chart properties:"
   ]
  },
  {
   "cell_type": "code",
   "execution_count": 10,
   "metadata": {},
   "outputs": [
    {
     "data": {
      "application/vnd.vegalite.v2+json": {
       "$schema": "https://vega.github.io/schema/vega-lite/v2.4.1.json",
       "config": {
        "view": {
         "height": 300,
         "width": 400
        }
       },
       "data": {
        "values": [
         {
          "x": 0.4967141530112327,
          "y": -0.13826430117118466
         },
         {
          "x": 0.6476885381006925,
          "y": 1.5230298564080254
         },
         {
          "x": -0.23415337472333597,
          "y": -0.23413695694918055
         },
         {
          "x": 1.5792128155073915,
          "y": 0.7674347291529088
         },
         {
          "x": -0.4694743859349521,
          "y": 0.5425600435859647
         },
         {
          "x": -0.46341769281246226,
          "y": -0.46572975357025687
         },
         {
          "x": 0.24196227156603412,
          "y": -1.913280244657798
         },
         {
          "x": -1.7249178325130328,
          "y": -0.5622875292409727
         },
         {
          "x": -1.0128311203344238,
          "y": 0.3142473325952739
         },
         {
          "x": -0.9080240755212109,
          "y": -1.4123037013352915
         },
         {
          "x": 1.465648768921554,
          "y": -0.22577630048653566
         },
         {
          "x": 0.06752820468792384,
          "y": -1.4247481862134568
         },
         {
          "x": -0.5443827245251827,
          "y": 0.11092258970986608
         },
         {
          "x": -1.1509935774223028,
          "y": 0.37569801834567196
         },
         {
          "x": -0.600638689918805,
          "y": -0.2916937497932768
         },
         {
          "x": -0.6017066122293969,
          "y": 1.8522781845089378
         },
         {
          "x": -0.013497224737933921,
          "y": -1.0577109289559004
         },
         {
          "x": 0.822544912103189,
          "y": -1.2208436499710222
         },
         {
          "x": 0.2088635950047554,
          "y": -1.9596701238797756
         },
         {
          "x": -1.3281860488984305,
          "y": 0.19686123586912352
         },
         {
          "x": 0.7384665799954104,
          "y": 0.1713682811899705
         },
         {
          "x": -0.11564828238824053,
          "y": -0.3011036955892888
         },
         {
          "x": -1.4785219903674274,
          "y": -0.7198442083947086
         },
         {
          "x": -0.4606387709597875,
          "y": 1.0571222262189157
         },
         {
          "x": 0.3436182895684614,
          "y": -1.763040155362734
         },
         {
          "x": 0.324083969394795,
          "y": -0.38508228041631654
         },
         {
          "x": -0.6769220003059587,
          "y": 0.6116762888408679
         },
         {
          "x": 1.030999522495951,
          "y": 0.9312801191161986
         },
         {
          "x": -0.8392175232226385,
          "y": -0.3092123758512146
         },
         {
          "x": 0.33126343140356396,
          "y": 0.9755451271223592
         },
         {
          "x": -0.47917423784528995,
          "y": -0.18565897666381712
         },
         {
          "x": -1.1063349740060282,
          "y": -1.1962066240806708
         },
         {
          "x": 0.812525822394198,
          "y": 1.356240028570823
         },
         {
          "x": -0.07201012158033385,
          "y": 1.0035328978920242
         },
         {
          "x": 0.36163602504763415,
          "y": -0.6451197546051243
         },
         {
          "x": 0.36139560550841393,
          "y": 1.5380365664659692
         },
         {
          "x": -0.03582603910995154,
          "y": 1.5646436558140062
         },
         {
          "x": -2.6197451040897444,
          "y": 0.8219025043752238
         },
         {
          "x": 0.08704706823817121,
          "y": -0.2990073504658674
         },
         {
          "x": 0.0917607765355023,
          "y": -1.9875689146008928
         },
         {
          "x": -0.21967188783751193,
          "y": 0.3571125715117464
         },
         {
          "x": 1.477894044741516,
          "y": -0.5182702182736474
         },
         {
          "x": -0.8084936028931876,
          "y": -0.5017570435845365
         },
         {
          "x": 0.9154021177020741,
          "y": 0.32875110965968446
         },
         {
          "x": -0.5297602037670388,
          "y": 0.5132674331133561
         },
         {
          "x": 0.09707754934804039,
          "y": 0.9686449905328892
         },
         {
          "x": -0.7020530938773524,
          "y": -0.3276621465977682
         },
         {
          "x": -0.39210815313215763,
          "y": -1.4635149481321186
         },
         {
          "x": 0.29612027706457605,
          "y": 0.26105527217988933
         },
         {
          "x": 0.00511345664246089,
          "y": -0.23458713337514692
         },
         {
          "x": -1.4153707420504142,
          "y": -0.42064532276535904
         },
         {
          "x": -0.3427145165267695,
          "y": -0.8022772692216189
         },
         {
          "x": -0.16128571166600914,
          "y": 0.4040508568145384
         },
         {
          "x": 1.8861859012105302,
          "y": 0.17457781283183896
         },
         {
          "x": 0.25755039072276437,
          "y": -0.07444591576616721
         },
         {
          "x": -1.9187712152990415,
          "y": -0.026513875449216878
         },
         {
          "x": 0.06023020994102644,
          "y": 2.463242112485286
         },
         {
          "x": -0.19236096478112252,
          "y": 0.30154734233361247
         },
         {
          "x": -0.03471176970524331,
          "y": -1.168678037619532
         },
         {
          "x": 1.1428228145150205,
          "y": 0.7519330326867741
         },
         {
          "x": 0.7910319470430469,
          "y": -0.9093874547947389
         },
         {
          "x": 1.4027943109360992,
          "y": -1.4018510627922809
         },
         {
          "x": 0.5868570938002703,
          "y": 2.1904556258099785
         },
         {
          "x": -0.9905363251306883,
          "y": -0.5662977296027719
         },
         {
          "x": 0.09965136508764122,
          "y": -0.5034756541161992
         },
         {
          "x": -1.5506634310661327,
          "y": 0.06856297480602733
         },
         {
          "x": -1.0623037137261049,
          "y": 0.4735924306351816
         },
         {
          "x": -0.9194242342338032,
          "y": 1.5499344050175394
         },
         {
          "x": -0.7832532923362371,
          "y": -0.3220615162056756
         },
         {
          "x": 0.8135172173696698,
          "y": -1.2308643164339552
         },
         {
          "x": 0.22745993460412942,
          "y": 1.307142754282428
         },
         {
          "x": -1.6074832345612275,
          "y": 0.1846338585323042
         },
         {
          "x": 0.25988279424842353,
          "y": 0.7818228717773104
         },
         {
          "x": -1.236950710878082,
          "y": -1.3204566130842763
         },
         {
          "x": 0.5219415656168976,
          "y": 0.29698467323318606
         },
         {
          "x": 0.25049285034587654,
          "y": 0.3464482094969757
         },
         {
          "x": -0.6800247215784908,
          "y": 0.23225369716100355
         },
         {
          "x": 0.29307247329868125,
          "y": -0.7143514180263678
         },
         {
          "x": 1.8657745111447566,
          "y": 0.4738329209117875
         },
         {
          "x": -1.1913034972026486,
          "y": 0.6565536086338297
         },
         {
          "x": -0.9746816702273214,
          "y": 0.787084603742452
         },
         {
          "x": 1.158595579007404,
          "y": -0.8206823183517105
         },
         {
          "x": 0.9633761292443218,
          "y": 0.4127809269364983
         },
         {
          "x": 0.82206015999449,
          "y": 1.8967929826539474
         },
         {
          "x": -0.2453881160028705,
          "y": -0.7537361643574896
         },
         {
          "x": -0.8895144296255233,
          "y": -0.8158102849654383
         },
         {
          "x": -0.0771017094141042,
          "y": 0.3411519748166439
         },
         {
          "x": 0.27669079933001905,
          "y": 0.8271832490360238
         },
         {
          "x": 0.01300189187790702,
          "y": 1.4535340771573169
         },
         {
          "x": -0.2646568332379561,
          "y": 2.720169166589619
         },
         {
          "x": 0.6256673477650062,
          "y": -0.8571575564162826
         },
         {
          "x": -1.0708924980611123,
          "y": 0.4824724152431853
         },
         {
          "x": -0.2234627853258509,
          "y": 0.714000494092092
         },
         {
          "x": 0.47323762457354485,
          "y": -0.07282891265687277
         },
         {
          "x": -0.846793718068405,
          "y": -1.5148472246858646
         },
         {
          "x": -0.4465149520670211,
          "y": 0.8563987943234723
         },
         {
          "x": 0.21409374413020396,
          "y": -1.245738778711988
         },
         {
          "x": 0.173180925851182,
          "y": 0.3853173797288368
         },
         {
          "x": -0.883857436201133,
          "y": 0.1537251059455279
         },
         {
          "x": 0.058208718445999896,
          "y": -1.142970297830623
         }
        ]
       },
       "encoding": {
        "x": {
         "bin": true,
         "field": "x",
         "title": "binned x values",
         "type": "quantitative"
        },
        "y": {
         "aggregate": "count",
         "title": "counts in x",
         "type": "quantitative"
        }
       },
       "mark": "bar",
       "title": "A histogram"
      },
      "image/png": "[encoded data removed]",
      "text/plain": [
       "<VegaLite 2 object>\n",
       "\n",
       "If you see this message, it means the renderer has not been properly enabled\n",
       "for the frontend that you are using. For more information, see\n",
       "https://altair-viz.github.io/user_guide/troubleshooting.html\n"
      ]
     },
     "execution_count": 10,
     "metadata": {},
     "output_type": "execute_result"
    }
   ],
   "source": [
    "alt.Chart(data).mark_bar().encode(\n",
    "    x=alt.X('x', bin=True, title='binned x values'),\n",
    "    y=alt.Y('count()', title='counts in x')\n",
    ").properties(\n",
    "    title='A histogram'\n",
    ")"
   ]
  },
  {
   "cell_type": "markdown",
   "metadata": {},
   "source": [
    "## Example 3: Axis Properties\n",
    "\n",
    "If you would like to set the properties of the axes, including grid lines, you can use the encodings'``axis`` argument."
   ]
  },
  {
   "cell_type": "code",
   "execution_count": 11,
   "metadata": {},
   "outputs": [
    {
     "data": {
      "application/vnd.vegalite.v2+json": {
       "$schema": "https://vega.github.io/schema/vega-lite/v2.4.1.json",
       "config": {
        "view": {
         "height": 300,
         "width": 400
        }
       },
       "data": {
        "values": [
         {
          "x": 0.4967141530112327,
          "y": -0.13826430117118466
         },
         {
          "x": 0.6476885381006925,
          "y": 1.5230298564080254
         },
         {
          "x": -0.23415337472333597,
          "y": -0.23413695694918055
         },
         {
          "x": 1.5792128155073915,
          "y": 0.7674347291529088
         },
         {
          "x": -0.4694743859349521,
          "y": 0.5425600435859647
         },
         {
          "x": -0.46341769281246226,
          "y": -0.46572975357025687
         },
         {
          "x": 0.24196227156603412,
          "y": -1.913280244657798
         },
         {
          "x": -1.7249178325130328,
          "y": -0.5622875292409727
         },
         {
          "x": -1.0128311203344238,
          "y": 0.3142473325952739
         },
         {
          "x": -0.9080240755212109,
          "y": -1.4123037013352915
         },
         {
          "x": 1.465648768921554,
          "y": -0.22577630048653566
         },
         {
          "x": 0.06752820468792384,
          "y": -1.4247481862134568
         },
         {
          "x": -0.5443827245251827,
          "y": 0.11092258970986608
         },
         {
          "x": -1.1509935774223028,
          "y": 0.37569801834567196
         },
         {
          "x": -0.600638689918805,
          "y": -0.2916937497932768
         },
         {
          "x": -0.6017066122293969,
          "y": 1.8522781845089378
         },
         {
          "x": -0.013497224737933921,
          "y": -1.0577109289559004
         },
         {
          "x": 0.822544912103189,
          "y": -1.2208436499710222
         },
         {
          "x": 0.2088635950047554,
          "y": -1.9596701238797756
         },
         {
          "x": -1.3281860488984305,
          "y": 0.19686123586912352
         },
         {
          "x": 0.7384665799954104,
          "y": 0.1713682811899705
         },
         {
          "x": -0.11564828238824053,
          "y": -0.3011036955892888
         },
         {
          "x": -1.4785219903674274,
          "y": -0.7198442083947086
         },
         {
          "x": -0.4606387709597875,
          "y": 1.0571222262189157
         },
         {
          "x": 0.3436182895684614,
          "y": -1.763040155362734
         },
         {
          "x": 0.324083969394795,
          "y": -0.38508228041631654
         },
         {
          "x": -0.6769220003059587,
          "y": 0.6116762888408679
         },
         {
          "x": 1.030999522495951,
          "y": 0.9312801191161986
         },
         {
          "x": -0.8392175232226385,
          "y": -0.3092123758512146
         },
         {
          "x": 0.33126343140356396,
          "y": 0.9755451271223592
         },
         {
          "x": -0.47917423784528995,
          "y": -0.18565897666381712
         },
         {
          "x": -1.1063349740060282,
          "y": -1.1962066240806708
         },
         {
          "x": 0.812525822394198,
          "y": 1.356240028570823
         },
         {
          "x": -0.07201012158033385,
          "y": 1.0035328978920242
         },
         {
          "x": 0.36163602504763415,
          "y": -0.6451197546051243
         },
         {
          "x": 0.36139560550841393,
          "y": 1.5380365664659692
         },
         {
          "x": -0.03582603910995154,
          "y": 1.5646436558140062
         },
         {
          "x": -2.6197451040897444,
          "y": 0.8219025043752238
         },
         {
          "x": 0.08704706823817121,
          "y": -0.2990073504658674
         },
         {
          "x": 0.0917607765355023,
          "y": -1.9875689146008928
         },
         {
          "x": -0.21967188783751193,
          "y": 0.3571125715117464
         },
         {
          "x": 1.477894044741516,
          "y": -0.5182702182736474
         },
         {
          "x": -0.8084936028931876,
          "y": -0.5017570435845365
         },
         {
          "x": 0.9154021177020741,
          "y": 0.32875110965968446
         },
         {
          "x": -0.5297602037670388,
          "y": 0.5132674331133561
         },
         {
          "x": 0.09707754934804039,
          "y": 0.9686449905328892
         },
         {
          "x": -0.7020530938773524,
          "y": -0.3276621465977682
         },
         {
          "x": -0.39210815313215763,
          "y": -1.4635149481321186
         },
         {
          "x": 0.29612027706457605,
          "y": 0.26105527217988933
         },
         {
          "x": 0.00511345664246089,
          "y": -0.23458713337514692
         },
         {
          "x": -1.4153707420504142,
          "y": -0.42064532276535904
         },
         {
          "x": -0.3427145165267695,
          "y": -0.8022772692216189
         },
         {
          "x": -0.16128571166600914,
          "y": 0.4040508568145384
         },
         {
          "x": 1.8861859012105302,
          "y": 0.17457781283183896
         },
         {
          "x": 0.25755039072276437,
          "y": -0.07444591576616721
         },
         {
          "x": -1.9187712152990415,
          "y": -0.026513875449216878
         },
         {
          "x": 0.06023020994102644,
          "y": 2.463242112485286
         },
         {
          "x": -0.19236096478112252,
          "y": 0.30154734233361247
         },
         {
          "x": -0.03471176970524331,
          "y": -1.168678037619532
         },
         {
          "x": 1.1428228145150205,
          "y": 0.7519330326867741
         },
         {
          "x": 0.7910319470430469,
          "y": -0.9093874547947389
         },
         {
          "x": 1.4027943109360992,
          "y": -1.4018510627922809
         },
         {
          "x": 0.5868570938002703,
          "y": 2.1904556258099785
         },
         {
          "x": -0.9905363251306883,
          "y": -0.5662977296027719
         },
         {
          "x": 0.09965136508764122,
          "y": -0.5034756541161992
         },
         {
          "x": -1.5506634310661327,
          "y": 0.06856297480602733
         },
         {
          "x": -1.0623037137261049,
          "y": 0.4735924306351816
         },
         {
          "x": -0.9194242342338032,
          "y": 1.5499344050175394
         },
         {
          "x": -0.7832532923362371,
          "y": -0.3220615162056756
         },
         {
          "x": 0.8135172173696698,
          "y": -1.2308643164339552
         },
         {
          "x": 0.22745993460412942,
          "y": 1.307142754282428
         },
         {
          "x": -1.6074832345612275,
          "y": 0.1846338585323042
         },
         {
          "x": 0.25988279424842353,
          "y": 0.7818228717773104
         },
         {
          "x": -1.236950710878082,
          "y": -1.3204566130842763
         },
         {
          "x": 0.5219415656168976,
          "y": 0.29698467323318606
         },
         {
          "x": 0.25049285034587654,
          "y": 0.3464482094969757
         },
         {
          "x": -0.6800247215784908,
          "y": 0.23225369716100355
         },
         {
          "x": 0.29307247329868125,
          "y": -0.7143514180263678
         },
         {
          "x": 1.8657745111447566,
          "y": 0.4738329209117875
         },
         {
          "x": -1.1913034972026486,
          "y": 0.6565536086338297
         },
         {
          "x": -0.9746816702273214,
          "y": 0.787084603742452
         },
         {
          "x": 1.158595579007404,
          "y": -0.8206823183517105
         },
         {
          "x": 0.9633761292443218,
          "y": 0.4127809269364983
         },
         {
          "x": 0.82206015999449,
          "y": 1.8967929826539474
         },
         {
          "x": -0.2453881160028705,
          "y": -0.7537361643574896
         },
         {
          "x": -0.8895144296255233,
          "y": -0.8158102849654383
         },
         {
          "x": -0.0771017094141042,
          "y": 0.3411519748166439
         },
         {
          "x": 0.27669079933001905,
          "y": 0.8271832490360238
         },
         {
          "x": 0.01300189187790702,
          "y": 1.4535340771573169
         },
         {
          "x": -0.2646568332379561,
          "y": 2.720169166589619
         },
         {
          "x": 0.6256673477650062,
          "y": -0.8571575564162826
         },
         {
          "x": -1.0708924980611123,
          "y": 0.4824724152431853
         },
         {
          "x": -0.2234627853258509,
          "y": 0.714000494092092
         },
         {
          "x": 0.47323762457354485,
          "y": -0.07282891265687277
         },
         {
          "x": -0.846793718068405,
          "y": -1.5148472246858646
         },
         {
          "x": -0.4465149520670211,
          "y": 0.8563987943234723
         },
         {
          "x": 0.21409374413020396,
          "y": -1.245738778711988
         },
         {
          "x": 0.173180925851182,
          "y": 0.3853173797288368
         },
         {
          "x": -0.883857436201133,
          "y": 0.1537251059455279
         },
         {
          "x": 0.058208718445999896,
          "y": -1.142970297830623
         }
        ]
       },
       "encoding": {
        "x": {
         "axis": {
          "labelAngle": 45
         },
         "bin": true,
         "field": "x",
         "type": "quantitative"
        },
        "y": {
         "aggregate": "count",
         "axis": {
          "labels": false,
          "ticks": false,
          "title": null
         },
         "type": "quantitative"
        }
       },
       "mark": "bar"
      },
      "image/png": "[encoded data removed]",
      "text/plain": [
       "<VegaLite 2 object>\n",
       "\n",
       "If you see this message, it means the renderer has not been properly enabled\n",
       "for the frontend that you are using. For more information, see\n",
       "https://altair-viz.github.io/user_guide/troubleshooting.html\n"
      ]
     },
     "execution_count": 11,
     "metadata": {},
     "output_type": "execute_result"
    }
   ],
   "source": [
    "alt.Chart(data).mark_bar().encode(\n",
    "    x=alt.X('x', bin=True, axis=alt.Axis(labelAngle=45)),\n",
    "    y=alt.Y('count()', axis=alt.Axis(labels=False, ticks=False, title=None))\n",
    ")"
   ]
  },
  {
   "cell_type": "markdown",
   "metadata": {},
   "source": [
    "Note that some of these values can be adjusted at the top-level configuration as well, if you want them to apply to the chart as a whole. For example:"
   ]
  },
  {
   "cell_type": "code",
   "execution_count": 12,
   "metadata": {},
   "outputs": [
    {
     "data": {
      "application/vnd.vegalite.v2+json": {
       "$schema": "https://vega.github.io/schema/vega-lite/v2.4.1.json",
       "config": {
        "axisX": {
         "labelAngle": 45
        },
        "view": {
         "height": 300,
         "width": 400
        }
       },
       "data": {
        "values": [
         {
          "x": 0.4967141530112327,
          "y": -0.13826430117118466
         },
         {
          "x": 0.6476885381006925,
          "y": 1.5230298564080254
         },
         {
          "x": -0.23415337472333597,
          "y": -0.23413695694918055
         },
         {
          "x": 1.5792128155073915,
          "y": 0.7674347291529088
         },
         {
          "x": -0.4694743859349521,
          "y": 0.5425600435859647
         },
         {
          "x": -0.46341769281246226,
          "y": -0.46572975357025687
         },
         {
          "x": 0.24196227156603412,
          "y": -1.913280244657798
         },
         {
          "x": -1.7249178325130328,
          "y": -0.5622875292409727
         },
         {
          "x": -1.0128311203344238,
          "y": 0.3142473325952739
         },
         {
          "x": -0.9080240755212109,
          "y": -1.4123037013352915
         },
         {
          "x": 1.465648768921554,
          "y": -0.22577630048653566
         },
         {
          "x": 0.06752820468792384,
          "y": -1.4247481862134568
         },
         {
          "x": -0.5443827245251827,
          "y": 0.11092258970986608
         },
         {
          "x": -1.1509935774223028,
          "y": 0.37569801834567196
         },
         {
          "x": -0.600638689918805,
          "y": -0.2916937497932768
         },
         {
          "x": -0.6017066122293969,
          "y": 1.8522781845089378
         },
         {
          "x": -0.013497224737933921,
          "y": -1.0577109289559004
         },
         {
          "x": 0.822544912103189,
          "y": -1.2208436499710222
         },
         {
          "x": 0.2088635950047554,
          "y": -1.9596701238797756
         },
         {
          "x": -1.3281860488984305,
          "y": 0.19686123586912352
         },
         {
          "x": 0.7384665799954104,
          "y": 0.1713682811899705
         },
         {
          "x": -0.11564828238824053,
          "y": -0.3011036955892888
         },
         {
          "x": -1.4785219903674274,
          "y": -0.7198442083947086
         },
         {
          "x": -0.4606387709597875,
          "y": 1.0571222262189157
         },
         {
          "x": 0.3436182895684614,
          "y": -1.763040155362734
         },
         {
          "x": 0.324083969394795,
          "y": -0.38508228041631654
         },
         {
          "x": -0.6769220003059587,
          "y": 0.6116762888408679
         },
         {
          "x": 1.030999522495951,
          "y": 0.9312801191161986
         },
         {
          "x": -0.8392175232226385,
          "y": -0.3092123758512146
         },
         {
          "x": 0.33126343140356396,
          "y": 0.9755451271223592
         },
         {
          "x": -0.47917423784528995,
          "y": -0.18565897666381712
         },
         {
          "x": -1.1063349740060282,
          "y": -1.1962066240806708
         },
         {
          "x": 0.812525822394198,
          "y": 1.356240028570823
         },
         {
          "x": -0.07201012158033385,
          "y": 1.0035328978920242
         },
         {
          "x": 0.36163602504763415,
          "y": -0.6451197546051243
         },
         {
          "x": 0.36139560550841393,
          "y": 1.5380365664659692
         },
         {
          "x": -0.03582603910995154,
          "y": 1.5646436558140062
         },
         {
          "x": -2.6197451040897444,
          "y": 0.8219025043752238
         },
         {
          "x": 0.08704706823817121,
          "y": -0.2990073504658674
         },
         {
          "x": 0.0917607765355023,
          "y": -1.9875689146008928
         },
         {
          "x": -0.21967188783751193,
          "y": 0.3571125715117464
         },
         {
          "x": 1.477894044741516,
          "y": -0.5182702182736474
         },
         {
          "x": -0.8084936028931876,
          "y": -0.5017570435845365
         },
         {
          "x": 0.9154021177020741,
          "y": 0.32875110965968446
         },
         {
          "x": -0.5297602037670388,
          "y": 0.5132674331133561
         },
         {
          "x": 0.09707754934804039,
          "y": 0.9686449905328892
         },
         {
          "x": -0.7020530938773524,
          "y": -0.3276621465977682
         },
         {
          "x": -0.39210815313215763,
          "y": -1.4635149481321186
         },
         {
          "x": 0.29612027706457605,
          "y": 0.26105527217988933
         },
         {
          "x": 0.00511345664246089,
          "y": -0.23458713337514692
         },
         {
          "x": -1.4153707420504142,
          "y": -0.42064532276535904
         },
         {
          "x": -0.3427145165267695,
          "y": -0.8022772692216189
         },
         {
          "x": -0.16128571166600914,
          "y": 0.4040508568145384
         },
         {
          "x": 1.8861859012105302,
          "y": 0.17457781283183896
         },
         {
          "x": 0.25755039072276437,
          "y": -0.07444591576616721
         },
         {
          "x": -1.9187712152990415,
          "y": -0.026513875449216878
         },
         {
          "x": 0.06023020994102644,
          "y": 2.463242112485286
         },
         {
          "x": -0.19236096478112252,
          "y": 0.30154734233361247
         },
         {
          "x": -0.03471176970524331,
          "y": -1.168678037619532
         },
         {
          "x": 1.1428228145150205,
          "y": 0.7519330326867741
         },
         {
          "x": 0.7910319470430469,
          "y": -0.9093874547947389
         },
         {
          "x": 1.4027943109360992,
          "y": -1.4018510627922809
         },
         {
          "x": 0.5868570938002703,
          "y": 2.1904556258099785
         },
         {
          "x": -0.9905363251306883,
          "y": -0.5662977296027719
         },
         {
          "x": 0.09965136508764122,
          "y": -0.5034756541161992
         },
         {
          "x": -1.5506634310661327,
          "y": 0.06856297480602733
         },
         {
          "x": -1.0623037137261049,
          "y": 0.4735924306351816
         },
         {
          "x": -0.9194242342338032,
          "y": 1.5499344050175394
         },
         {
          "x": -0.7832532923362371,
          "y": -0.3220615162056756
         },
         {
          "x": 0.8135172173696698,
          "y": -1.2308643164339552
         },
         {
          "x": 0.22745993460412942,
          "y": 1.307142754282428
         },
         {
          "x": -1.6074832345612275,
          "y": 0.1846338585323042
         },
         {
          "x": 0.25988279424842353,
          "y": 0.7818228717773104
         },
         {
          "x": -1.236950710878082,
          "y": -1.3204566130842763
         },
         {
          "x": 0.5219415656168976,
          "y": 0.29698467323318606
         },
         {
          "x": 0.25049285034587654,
          "y": 0.3464482094969757
         },
         {
          "x": -0.6800247215784908,
          "y": 0.23225369716100355
         },
         {
          "x": 0.29307247329868125,
          "y": -0.7143514180263678
         },
         {
          "x": 1.8657745111447566,
          "y": 0.4738329209117875
         },
         {
          "x": -1.1913034972026486,
          "y": 0.6565536086338297
         },
         {
          "x": -0.9746816702273214,
          "y": 0.787084603742452
         },
         {
          "x": 1.158595579007404,
          "y": -0.8206823183517105
         },
         {
          "x": 0.9633761292443218,
          "y": 0.4127809269364983
         },
         {
          "x": 0.82206015999449,
          "y": 1.8967929826539474
         },
         {
          "x": -0.2453881160028705,
          "y": -0.7537361643574896
         },
         {
          "x": -0.8895144296255233,
          "y": -0.8158102849654383
         },
         {
          "x": -0.0771017094141042,
          "y": 0.3411519748166439
         },
         {
          "x": 0.27669079933001905,
          "y": 0.8271832490360238
         },
         {
          "x": 0.01300189187790702,
          "y": 1.4535340771573169
         },
         {
          "x": -0.2646568332379561,
          "y": 2.720169166589619
         },
         {
          "x": 0.6256673477650062,
          "y": -0.8571575564162826
         },
         {
          "x": -1.0708924980611123,
          "y": 0.4824724152431853
         },
         {
          "x": -0.2234627853258509,
          "y": 0.714000494092092
         },
         {
          "x": 0.47323762457354485,
          "y": -0.07282891265687277
         },
         {
          "x": -0.846793718068405,
          "y": -1.5148472246858646
         },
         {
          "x": -0.4465149520670211,
          "y": 0.8563987943234723
         },
         {
          "x": 0.21409374413020396,
          "y": -1.245738778711988
         },
         {
          "x": 0.173180925851182,
          "y": 0.3853173797288368
         },
         {
          "x": -0.883857436201133,
          "y": 0.1537251059455279
         },
         {
          "x": 0.058208718445999896,
          "y": -1.142970297830623
         }
        ]
       },
       "encoding": {
        "x": {
         "bin": true,
         "field": "x",
         "type": "quantitative"
        },
        "y": {
         "aggregate": "count",
         "axis": {
          "labels": false,
          "ticks": false,
          "title": null
         },
         "type": "quantitative"
        }
       },
       "mark": "bar"
      },
      "image/png": "[encoded data removed]",
      "text/plain": [
       "<VegaLite 2 object>\n",
       "\n",
       "If you see this message, it means the renderer has not been properly enabled\n",
       "for the frontend that you are using. For more information, see\n",
       "https://altair-viz.github.io/user_guide/troubleshooting.html\n"
      ]
     },
     "execution_count": 12,
     "metadata": {},
     "output_type": "execute_result"
    }
   ],
   "source": [
    "alt.Chart(data).mark_bar().encode(\n",
    "    x=alt.X('x', bin=True),\n",
    "    y=alt.Y('count()', axis=alt.Axis(labels=False, ticks=False, title=None))\n",
    ").configure_axisX(\n",
    "    labelAngle=45\n",
    ")"
   ]
  },
  {
   "cell_type": "markdown",
   "metadata": {},
   "source": [
    "## Example 4: Scale properties & axis limits\n",
    "\n",
    "Each encoding also has a ``scale`` that allows you to adjust things like axis limits and other scale properties."
   ]
  },
  {
   "cell_type": "code",
   "execution_count": 13,
   "metadata": {},
   "outputs": [
    {
     "data": {
      "application/vnd.vegalite.v2+json": {
       "$schema": "https://vega.github.io/schema/vega-lite/v2.4.1.json",
       "config": {
        "view": {
         "height": 300,
         "width": 400
        }
       },
       "data": {
        "values": [
         {
          "x": 0.4967141530112327,
          "y": -0.13826430117118466
         },
         {
          "x": 0.6476885381006925,
          "y": 1.5230298564080254
         },
         {
          "x": -0.23415337472333597,
          "y": -0.23413695694918055
         },
         {
          "x": 1.5792128155073915,
          "y": 0.7674347291529088
         },
         {
          "x": -0.4694743859349521,
          "y": 0.5425600435859647
         },
         {
          "x": -0.46341769281246226,
          "y": -0.46572975357025687
         },
         {
          "x": 0.24196227156603412,
          "y": -1.913280244657798
         },
         {
          "x": -1.7249178325130328,
          "y": -0.5622875292409727
         },
         {
          "x": -1.0128311203344238,
          "y": 0.3142473325952739
         },
         {
          "x": -0.9080240755212109,
          "y": -1.4123037013352915
         },
         {
          "x": 1.465648768921554,
          "y": -0.22577630048653566
         },
         {
          "x": 0.06752820468792384,
          "y": -1.4247481862134568
         },
         {
          "x": -0.5443827245251827,
          "y": 0.11092258970986608
         },
         {
          "x": -1.1509935774223028,
          "y": 0.37569801834567196
         },
         {
          "x": -0.600638689918805,
          "y": -0.2916937497932768
         },
         {
          "x": -0.6017066122293969,
          "y": 1.8522781845089378
         },
         {
          "x": -0.013497224737933921,
          "y": -1.0577109289559004
         },
         {
          "x": 0.822544912103189,
          "y": -1.2208436499710222
         },
         {
          "x": 0.2088635950047554,
          "y": -1.9596701238797756
         },
         {
          "x": -1.3281860488984305,
          "y": 0.19686123586912352
         },
         {
          "x": 0.7384665799954104,
          "y": 0.1713682811899705
         },
         {
          "x": -0.11564828238824053,
          "y": -0.3011036955892888
         },
         {
          "x": -1.4785219903674274,
          "y": -0.7198442083947086
         },
         {
          "x": -0.4606387709597875,
          "y": 1.0571222262189157
         },
         {
          "x": 0.3436182895684614,
          "y": -1.763040155362734
         },
         {
          "x": 0.324083969394795,
          "y": -0.38508228041631654
         },
         {
          "x": -0.6769220003059587,
          "y": 0.6116762888408679
         },
         {
          "x": 1.030999522495951,
          "y": 0.9312801191161986
         },
         {
          "x": -0.8392175232226385,
          "y": -0.3092123758512146
         },
         {
          "x": 0.33126343140356396,
          "y": 0.9755451271223592
         },
         {
          "x": -0.47917423784528995,
          "y": -0.18565897666381712
         },
         {
          "x": -1.1063349740060282,
          "y": -1.1962066240806708
         },
         {
          "x": 0.812525822394198,
          "y": 1.356240028570823
         },
         {
          "x": -0.07201012158033385,
          "y": 1.0035328978920242
         },
         {
          "x": 0.36163602504763415,
          "y": -0.6451197546051243
         },
         {
          "x": 0.36139560550841393,
          "y": 1.5380365664659692
         },
         {
          "x": -0.03582603910995154,
          "y": 1.5646436558140062
         },
         {
          "x": -2.6197451040897444,
          "y": 0.8219025043752238
         },
         {
          "x": 0.08704706823817121,
          "y": -0.2990073504658674
         },
         {
          "x": 0.0917607765355023,
          "y": -1.9875689146008928
         },
         {
          "x": -0.21967188783751193,
          "y": 0.3571125715117464
         },
         {
          "x": 1.477894044741516,
          "y": -0.5182702182736474
         },
         {
          "x": -0.8084936028931876,
          "y": -0.5017570435845365
         },
         {
          "x": 0.9154021177020741,
          "y": 0.32875110965968446
         },
         {
          "x": -0.5297602037670388,
          "y": 0.5132674331133561
         },
         {
          "x": 0.09707754934804039,
          "y": 0.9686449905328892
         },
         {
          "x": -0.7020530938773524,
          "y": -0.3276621465977682
         },
         {
          "x": -0.39210815313215763,
          "y": -1.4635149481321186
         },
         {
          "x": 0.29612027706457605,
          "y": 0.26105527217988933
         },
         {
          "x": 0.00511345664246089,
          "y": -0.23458713337514692
         },
         {
          "x": -1.4153707420504142,
          "y": -0.42064532276535904
         },
         {
          "x": -0.3427145165267695,
          "y": -0.8022772692216189
         },
         {
          "x": -0.16128571166600914,
          "y": 0.4040508568145384
         },
         {
          "x": 1.8861859012105302,
          "y": 0.17457781283183896
         },
         {
          "x": 0.25755039072276437,
          "y": -0.07444591576616721
         },
         {
          "x": -1.9187712152990415,
          "y": -0.026513875449216878
         },
         {
          "x": 0.06023020994102644,
          "y": 2.463242112485286
         },
         {
          "x": -0.19236096478112252,
          "y": 0.30154734233361247
         },
         {
          "x": -0.03471176970524331,
          "y": -1.168678037619532
         },
         {
          "x": 1.1428228145150205,
          "y": 0.7519330326867741
         },
         {
          "x": 0.7910319470430469,
          "y": -0.9093874547947389
         },
         {
          "x": 1.4027943109360992,
          "y": -1.4018510627922809
         },
         {
          "x": 0.5868570938002703,
          "y": 2.1904556258099785
         },
         {
          "x": -0.9905363251306883,
          "y": -0.5662977296027719
         },
         {
          "x": 0.09965136508764122,
          "y": -0.5034756541161992
         },
         {
          "x": -1.5506634310661327,
          "y": 0.06856297480602733
         },
         {
          "x": -1.0623037137261049,
          "y": 0.4735924306351816
         },
         {
          "x": -0.9194242342338032,
          "y": 1.5499344050175394
         },
         {
          "x": -0.7832532923362371,
          "y": -0.3220615162056756
         },
         {
          "x": 0.8135172173696698,
          "y": -1.2308643164339552
         },
         {
          "x": 0.22745993460412942,
          "y": 1.307142754282428
         },
         {
          "x": -1.6074832345612275,
          "y": 0.1846338585323042
         },
         {
          "x": 0.25988279424842353,
          "y": 0.7818228717773104
         },
         {
          "x": -1.236950710878082,
          "y": -1.3204566130842763
         },
         {
          "x": 0.5219415656168976,
          "y": 0.29698467323318606
         },
         {
          "x": 0.25049285034587654,
          "y": 0.3464482094969757
         },
         {
          "x": -0.6800247215784908,
          "y": 0.23225369716100355
         },
         {
          "x": 0.29307247329868125,
          "y": -0.7143514180263678
         },
         {
          "x": 1.8657745111447566,
          "y": 0.4738329209117875
         },
         {
          "x": -1.1913034972026486,
          "y": 0.6565536086338297
         },
         {
          "x": -0.9746816702273214,
          "y": 0.787084603742452
         },
         {
          "x": 1.158595579007404,
          "y": -0.8206823183517105
         },
         {
          "x": 0.9633761292443218,
          "y": 0.4127809269364983
         },
         {
          "x": 0.82206015999449,
          "y": 1.8967929826539474
         },
         {
          "x": -0.2453881160028705,
          "y": -0.7537361643574896
         },
         {
          "x": -0.8895144296255233,
          "y": -0.8158102849654383
         },
         {
          "x": -0.0771017094141042,
          "y": 0.3411519748166439
         },
         {
          "x": 0.27669079933001905,
          "y": 0.8271832490360238
         },
         {
          "x": 0.01300189187790702,
          "y": 1.4535340771573169
         },
         {
          "x": -0.2646568332379561,
          "y": 2.720169166589619
         },
         {
          "x": 0.6256673477650062,
          "y": -0.8571575564162826
         },
         {
          "x": -1.0708924980611123,
          "y": 0.4824724152431853
         },
         {
          "x": -0.2234627853258509,
          "y": 0.714000494092092
         },
         {
          "x": 0.47323762457354485,
          "y": -0.07282891265687277
         },
         {
          "x": -0.846793718068405,
          "y": -1.5148472246858646
         },
         {
          "x": -0.4465149520670211,
          "y": 0.8563987943234723
         },
         {
          "x": 0.21409374413020396,
          "y": -1.245738778711988
         },
         {
          "x": 0.173180925851182,
          "y": 0.3853173797288368
         },
         {
          "x": -0.883857436201133,
          "y": 0.1537251059455279
         },
         {
          "x": 0.058208718445999896,
          "y": -1.142970297830623
         }
        ]
       },
       "encoding": {
        "x": {
         "field": "x",
         "scale": {
          "domain": [
           -5,
           5
          ]
         },
         "type": "quantitative"
        },
        "y": {
         "field": "y",
         "scale": {
          "domain": [
           -5,
           5
          ]
         },
         "type": "quantitative"
        }
       },
       "mark": "point"
      },
      "image/png": "[encoded data removed]",
      "text/plain": [
       "<VegaLite 2 object>\n",
       "\n",
       "If you see this message, it means the renderer has not been properly enabled\n",
       "for the frontend that you are using. For more information, see\n",
       "https://altair-viz.github.io/user_guide/troubleshooting.html\n"
      ]
     },
     "execution_count": 13,
     "metadata": {},
     "output_type": "execute_result"
    }
   ],
   "source": [
    "alt.Chart(data).mark_point().encode(\n",
    "    x=alt.X('x:Q', scale=alt.Scale(domain=[-5, 5])),\n",
    "    y=alt.Y('y:Q', scale=alt.Scale(domain=[-5, 5])),\n",
    ")"
   ]
  },
  {
   "cell_type": "markdown",
   "metadata": {},
   "source": [
    "Note that if you shrink the scale to smaller than the range of the data, the data will extend beyond the scale by default:"
   ]
  },
  {
   "cell_type": "code",
   "execution_count": 14,
   "metadata": {},
   "outputs": [
    {
     "data": {
      "application/vnd.vegalite.v2+json": {
       "$schema": "https://vega.github.io/schema/vega-lite/v2.4.1.json",
       "config": {
        "view": {
         "height": 300,
         "width": 400
        }
       },
       "data": {
        "values": [
         {
          "x": 0.4967141530112327,
          "y": -0.13826430117118466
         },
         {
          "x": 0.6476885381006925,
          "y": 1.5230298564080254
         },
         {
          "x": -0.23415337472333597,
          "y": -0.23413695694918055
         },
         {
          "x": 1.5792128155073915,
          "y": 0.7674347291529088
         },
         {
          "x": -0.4694743859349521,
          "y": 0.5425600435859647
         },
         {
          "x": -0.46341769281246226,
          "y": -0.46572975357025687
         },
         {
          "x": 0.24196227156603412,
          "y": -1.913280244657798
         },
         {
          "x": -1.7249178325130328,
          "y": -0.5622875292409727
         },
         {
          "x": -1.0128311203344238,
          "y": 0.3142473325952739
         },
         {
          "x": -0.9080240755212109,
          "y": -1.4123037013352915
         },
         {
          "x": 1.465648768921554,
          "y": -0.22577630048653566
         },
         {
          "x": 0.06752820468792384,
          "y": -1.4247481862134568
         },
         {
          "x": -0.5443827245251827,
          "y": 0.11092258970986608
         },
         {
          "x": -1.1509935774223028,
          "y": 0.37569801834567196
         },
         {
          "x": -0.600638689918805,
          "y": -0.2916937497932768
         },
         {
          "x": -0.6017066122293969,
          "y": 1.8522781845089378
         },
         {
          "x": -0.013497224737933921,
          "y": -1.0577109289559004
         },
         {
          "x": 0.822544912103189,
          "y": -1.2208436499710222
         },
         {
          "x": 0.2088635950047554,
          "y": -1.9596701238797756
         },
         {
          "x": -1.3281860488984305,
          "y": 0.19686123586912352
         },
         {
          "x": 0.7384665799954104,
          "y": 0.1713682811899705
         },
         {
          "x": -0.11564828238824053,
          "y": -0.3011036955892888
         },
         {
          "x": -1.4785219903674274,
          "y": -0.7198442083947086
         },
         {
          "x": -0.4606387709597875,
          "y": 1.0571222262189157
         },
         {
          "x": 0.3436182895684614,
          "y": -1.763040155362734
         },
         {
          "x": 0.324083969394795,
          "y": -0.38508228041631654
         },
         {
          "x": -0.6769220003059587,
          "y": 0.6116762888408679
         },
         {
          "x": 1.030999522495951,
          "y": 0.9312801191161986
         },
         {
          "x": -0.8392175232226385,
          "y": -0.3092123758512146
         },
         {
          "x": 0.33126343140356396,
          "y": 0.9755451271223592
         },
         {
          "x": -0.47917423784528995,
          "y": -0.18565897666381712
         },
         {
          "x": -1.1063349740060282,
          "y": -1.1962066240806708
         },
         {
          "x": 0.812525822394198,
          "y": 1.356240028570823
         },
         {
          "x": -0.07201012158033385,
          "y": 1.0035328978920242
         },
         {
          "x": 0.36163602504763415,
          "y": -0.6451197546051243
         },
         {
          "x": 0.36139560550841393,
          "y": 1.5380365664659692
         },
         {
          "x": -0.03582603910995154,
          "y": 1.5646436558140062
         },
         {
          "x": -2.6197451040897444,
          "y": 0.8219025043752238
         },
         {
          "x": 0.08704706823817121,
          "y": -0.2990073504658674
         },
         {
          "x": 0.0917607765355023,
          "y": -1.9875689146008928
         },
         {
          "x": -0.21967188783751193,
          "y": 0.3571125715117464
         },
         {
          "x": 1.477894044741516,
          "y": -0.5182702182736474
         },
         {
          "x": -0.8084936028931876,
          "y": -0.5017570435845365
         },
         {
          "x": 0.9154021177020741,
          "y": 0.32875110965968446
         },
         {
          "x": -0.5297602037670388,
          "y": 0.5132674331133561
         },
         {
          "x": 0.09707754934804039,
          "y": 0.9686449905328892
         },
         {
          "x": -0.7020530938773524,
          "y": -0.3276621465977682
         },
         {
          "x": -0.39210815313215763,
          "y": -1.4635149481321186
         },
         {
          "x": 0.29612027706457605,
          "y": 0.26105527217988933
         },
         {
          "x": 0.00511345664246089,
          "y": -0.23458713337514692
         },
         {
          "x": -1.4153707420504142,
          "y": -0.42064532276535904
         },
         {
          "x": -0.3427145165267695,
          "y": -0.8022772692216189
         },
         {
          "x": -0.16128571166600914,
          "y": 0.4040508568145384
         },
         {
          "x": 1.8861859012105302,
          "y": 0.17457781283183896
         },
         {
          "x": 0.25755039072276437,
          "y": -0.07444591576616721
         },
         {
          "x": -1.9187712152990415,
          "y": -0.026513875449216878
         },
         {
          "x": 0.06023020994102644,
          "y": 2.463242112485286
         },
         {
          "x": -0.19236096478112252,
          "y": 0.30154734233361247
         },
         {
          "x": -0.03471176970524331,
          "y": -1.168678037619532
         },
         {
          "x": 1.1428228145150205,
          "y": 0.7519330326867741
         },
         {
          "x": 0.7910319470430469,
          "y": -0.9093874547947389
         },
         {
          "x": 1.4027943109360992,
          "y": -1.4018510627922809
         },
         {
          "x": 0.5868570938002703,
          "y": 2.1904556258099785
         },
         {
          "x": -0.9905363251306883,
          "y": -0.5662977296027719
         },
         {
          "x": 0.09965136508764122,
          "y": -0.5034756541161992
         },
         {
          "x": -1.5506634310661327,
          "y": 0.06856297480602733
         },
         {
          "x": -1.0623037137261049,
          "y": 0.4735924306351816
         },
         {
          "x": -0.9194242342338032,
          "y": 1.5499344050175394
         },
         {
          "x": -0.7832532923362371,
          "y": -0.3220615162056756
         },
         {
          "x": 0.8135172173696698,
          "y": -1.2308643164339552
         },
         {
          "x": 0.22745993460412942,
          "y": 1.307142754282428
         },
         {
          "x": -1.6074832345612275,
          "y": 0.1846338585323042
         },
         {
          "x": 0.25988279424842353,
          "y": 0.7818228717773104
         },
         {
          "x": -1.236950710878082,
          "y": -1.3204566130842763
         },
         {
          "x": 0.5219415656168976,
          "y": 0.29698467323318606
         },
         {
          "x": 0.25049285034587654,
          "y": 0.3464482094969757
         },
         {
          "x": -0.6800247215784908,
          "y": 0.23225369716100355
         },
         {
          "x": 0.29307247329868125,
          "y": -0.7143514180263678
         },
         {
          "x": 1.8657745111447566,
          "y": 0.4738329209117875
         },
         {
          "x": -1.1913034972026486,
          "y": 0.6565536086338297
         },
         {
          "x": -0.9746816702273214,
          "y": 0.787084603742452
         },
         {
          "x": 1.158595579007404,
          "y": -0.8206823183517105
         },
         {
          "x": 0.9633761292443218,
          "y": 0.4127809269364983
         },
         {
          "x": 0.82206015999449,
          "y": 1.8967929826539474
         },
         {
          "x": -0.2453881160028705,
          "y": -0.7537361643574896
         },
         {
          "x": -0.8895144296255233,
          "y": -0.8158102849654383
         },
         {
          "x": -0.0771017094141042,
          "y": 0.3411519748166439
         },
         {
          "x": 0.27669079933001905,
          "y": 0.8271832490360238
         },
         {
          "x": 0.01300189187790702,
          "y": 1.4535340771573169
         },
         {
          "x": -0.2646568332379561,
          "y": 2.720169166589619
         },
         {
          "x": 0.6256673477650062,
          "y": -0.8571575564162826
         },
         {
          "x": -1.0708924980611123,
          "y": 0.4824724152431853
         },
         {
          "x": -0.2234627853258509,
          "y": 0.714000494092092
         },
         {
          "x": 0.47323762457354485,
          "y": -0.07282891265687277
         },
         {
          "x": -0.846793718068405,
          "y": -1.5148472246858646
         },
         {
          "x": -0.4465149520670211,
          "y": 0.8563987943234723
         },
         {
          "x": 0.21409374413020396,
          "y": -1.245738778711988
         },
         {
          "x": 0.173180925851182,
          "y": 0.3853173797288368
         },
         {
          "x": -0.883857436201133,
          "y": 0.1537251059455279
         },
         {
          "x": 0.058208718445999896,
          "y": -1.142970297830623
         }
        ]
       },
       "encoding": {
        "x": {
         "field": "x",
         "scale": {
          "domain": [
           -3,
           1
          ]
         },
         "type": "quantitative"
        },
        "y": {
         "field": "y",
         "scale": {
          "domain": [
           -3,
           1
          ]
         },
         "type": "quantitative"
        }
       },
       "mark": "point"
      },
      "image/png": "[encoded data removed]",
      "text/plain": [
       "<VegaLite 2 object>\n",
       "\n",
       "If you see this message, it means the renderer has not been properly enabled\n",
       "for the frontend that you are using. For more information, see\n",
       "https://altair-viz.github.io/user_guide/troubleshooting.html\n"
      ]
     },
     "execution_count": 14,
     "metadata": {},
     "output_type": "execute_result"
    }
   ],
   "source": [
    "alt.Chart(data).mark_point().encode(\n",
    "    x=alt.X('x:Q', scale=alt.Scale(domain=[-3, 1])),\n",
    "    y=alt.Y('y:Q', scale=alt.Scale(domain=[-3, 1])),\n",
    ")"
   ]
  },
  {
   "cell_type": "markdown",
   "metadata": {},
   "source": [
    "Not hiding data is a useful default in exploratory visualization, because it prevents you from inadvertently missing data points.\n",
    "\n",
    "If you would like the markers to be clipped beyond the range of the scales, you can set the ``clip`` property of marks:"
   ]
  },
  {
   "cell_type": "code",
   "execution_count": 15,
   "metadata": {},
   "outputs": [
    {
     "data": {
      "application/vnd.vegalite.v2+json": {
       "$schema": "https://vega.github.io/schema/vega-lite/v2.4.1.json",
       "config": {
        "view": {
         "height": 300,
         "width": 400
        }
       },
       "data": {
        "values": [
         {
          "x": 0.4967141530112327,
          "y": -0.13826430117118466
         },
         {
          "x": 0.6476885381006925,
          "y": 1.5230298564080254
         },
         {
          "x": -0.23415337472333597,
          "y": -0.23413695694918055
         },
         {
          "x": 1.5792128155073915,
          "y": 0.7674347291529088
         },
         {
          "x": -0.4694743859349521,
          "y": 0.5425600435859647
         },
         {
          "x": -0.46341769281246226,
          "y": -0.46572975357025687
         },
         {
          "x": 0.24196227156603412,
          "y": -1.913280244657798
         },
         {
          "x": -1.7249178325130328,
          "y": -0.5622875292409727
         },
         {
          "x": -1.0128311203344238,
          "y": 0.3142473325952739
         },
         {
          "x": -0.9080240755212109,
          "y": -1.4123037013352915
         },
         {
          "x": 1.465648768921554,
          "y": -0.22577630048653566
         },
         {
          "x": 0.06752820468792384,
          "y": -1.4247481862134568
         },
         {
          "x": -0.5443827245251827,
          "y": 0.11092258970986608
         },
         {
          "x": -1.1509935774223028,
          "y": 0.37569801834567196
         },
         {
          "x": -0.600638689918805,
          "y": -0.2916937497932768
         },
         {
          "x": -0.6017066122293969,
          "y": 1.8522781845089378
         },
         {
          "x": -0.013497224737933921,
          "y": -1.0577109289559004
         },
         {
          "x": 0.822544912103189,
          "y": -1.2208436499710222
         },
         {
          "x": 0.2088635950047554,
          "y": -1.9596701238797756
         },
         {
          "x": -1.3281860488984305,
          "y": 0.19686123586912352
         },
         {
          "x": 0.7384665799954104,
          "y": 0.1713682811899705
         },
         {
          "x": -0.11564828238824053,
          "y": -0.3011036955892888
         },
         {
          "x": -1.4785219903674274,
          "y": -0.7198442083947086
         },
         {
          "x": -0.4606387709597875,
          "y": 1.0571222262189157
         },
         {
          "x": 0.3436182895684614,
          "y": -1.763040155362734
         },
         {
          "x": 0.324083969394795,
          "y": -0.38508228041631654
         },
         {
          "x": -0.6769220003059587,
          "y": 0.6116762888408679
         },
         {
          "x": 1.030999522495951,
          "y": 0.9312801191161986
         },
         {
          "x": -0.8392175232226385,
          "y": -0.3092123758512146
         },
         {
          "x": 0.33126343140356396,
          "y": 0.9755451271223592
         },
         {
          "x": -0.47917423784528995,
          "y": -0.18565897666381712
         },
         {
          "x": -1.1063349740060282,
          "y": -1.1962066240806708
         },
         {
          "x": 0.812525822394198,
          "y": 1.356240028570823
         },
         {
          "x": -0.07201012158033385,
          "y": 1.0035328978920242
         },
         {
          "x": 0.36163602504763415,
          "y": -0.6451197546051243
         },
         {
          "x": 0.36139560550841393,
          "y": 1.5380365664659692
         },
         {
          "x": -0.03582603910995154,
          "y": 1.5646436558140062
         },
         {
          "x": -2.6197451040897444,
          "y": 0.8219025043752238
         },
         {
          "x": 0.08704706823817121,
          "y": -0.2990073504658674
         },
         {
          "x": 0.0917607765355023,
          "y": -1.9875689146008928
         },
         {
          "x": -0.21967188783751193,
          "y": 0.3571125715117464
         },
         {
          "x": 1.477894044741516,
          "y": -0.5182702182736474
         },
         {
          "x": -0.8084936028931876,
          "y": -0.5017570435845365
         },
         {
          "x": 0.9154021177020741,
          "y": 0.32875110965968446
         },
         {
          "x": -0.5297602037670388,
          "y": 0.5132674331133561
         },
         {
          "x": 0.09707754934804039,
          "y": 0.9686449905328892
         },
         {
          "x": -0.7020530938773524,
          "y": -0.3276621465977682
         },
         {
          "x": -0.39210815313215763,
          "y": -1.4635149481321186
         },
         {
          "x": 0.29612027706457605,
          "y": 0.26105527217988933
         },
         {
          "x": 0.00511345664246089,
          "y": -0.23458713337514692
         },
         {
          "x": -1.4153707420504142,
          "y": -0.42064532276535904
         },
         {
          "x": -0.3427145165267695,
          "y": -0.8022772692216189
         },
         {
          "x": -0.16128571166600914,
          "y": 0.4040508568145384
         },
         {
          "x": 1.8861859012105302,
          "y": 0.17457781283183896
         },
         {
          "x": 0.25755039072276437,
          "y": -0.07444591576616721
         },
         {
          "x": -1.9187712152990415,
          "y": -0.026513875449216878
         },
         {
          "x": 0.06023020994102644,
          "y": 2.463242112485286
         },
         {
          "x": -0.19236096478112252,
          "y": 0.30154734233361247
         },
         {
          "x": -0.03471176970524331,
          "y": -1.168678037619532
         },
         {
          "x": 1.1428228145150205,
          "y": 0.7519330326867741
         },
         {
          "x": 0.7910319470430469,
          "y": -0.9093874547947389
         },
         {
          "x": 1.4027943109360992,
          "y": -1.4018510627922809
         },
         {
          "x": 0.5868570938002703,
          "y": 2.1904556258099785
         },
         {
          "x": -0.9905363251306883,
          "y": -0.5662977296027719
         },
         {
          "x": 0.09965136508764122,
          "y": -0.5034756541161992
         },
         {
          "x": -1.5506634310661327,
          "y": 0.06856297480602733
         },
         {
          "x": -1.0623037137261049,
          "y": 0.4735924306351816
         },
         {
          "x": -0.9194242342338032,
          "y": 1.5499344050175394
         },
         {
          "x": -0.7832532923362371,
          "y": -0.3220615162056756
         },
         {
          "x": 0.8135172173696698,
          "y": -1.2308643164339552
         },
         {
          "x": 0.22745993460412942,
          "y": 1.307142754282428
         },
         {
          "x": -1.6074832345612275,
          "y": 0.1846338585323042
         },
         {
          "x": 0.25988279424842353,
          "y": 0.7818228717773104
         },
         {
          "x": -1.236950710878082,
          "y": -1.3204566130842763
         },
         {
          "x": 0.5219415656168976,
          "y": 0.29698467323318606
         },
         {
          "x": 0.25049285034587654,
          "y": 0.3464482094969757
         },
         {
          "x": -0.6800247215784908,
          "y": 0.23225369716100355
         },
         {
          "x": 0.29307247329868125,
          "y": -0.7143514180263678
         },
         {
          "x": 1.8657745111447566,
          "y": 0.4738329209117875
         },
         {
          "x": -1.1913034972026486,
          "y": 0.6565536086338297
         },
         {
          "x": -0.9746816702273214,
          "y": 0.787084603742452
         },
         {
          "x": 1.158595579007404,
          "y": -0.8206823183517105
         },
         {
          "x": 0.9633761292443218,
          "y": 0.4127809269364983
         },
         {
          "x": 0.82206015999449,
          "y": 1.8967929826539474
         },
         {
          "x": -0.2453881160028705,
          "y": -0.7537361643574896
         },
         {
          "x": -0.8895144296255233,
          "y": -0.8158102849654383
         },
         {
          "x": -0.0771017094141042,
          "y": 0.3411519748166439
         },
         {
          "x": 0.27669079933001905,
          "y": 0.8271832490360238
         },
         {
          "x": 0.01300189187790702,
          "y": 1.4535340771573169
         },
         {
          "x": -0.2646568332379561,
          "y": 2.720169166589619
         },
         {
          "x": 0.6256673477650062,
          "y": -0.8571575564162826
         },
         {
          "x": -1.0708924980611123,
          "y": 0.4824724152431853
         },
         {
          "x": -0.2234627853258509,
          "y": 0.714000494092092
         },
         {
          "x": 0.47323762457354485,
          "y": -0.07282891265687277
         },
         {
          "x": -0.846793718068405,
          "y": -1.5148472246858646
         },
         {
          "x": -0.4465149520670211,
          "y": 0.8563987943234723
         },
         {
          "x": 0.21409374413020396,
          "y": -1.245738778711988
         },
         {
          "x": 0.173180925851182,
          "y": 0.3853173797288368
         },
         {
          "x": -0.883857436201133,
          "y": 0.1537251059455279
         },
         {
          "x": 0.058208718445999896,
          "y": -1.142970297830623
         }
        ]
       },
       "encoding": {
        "x": {
         "field": "x",
         "scale": {
          "domain": [
           -3,
           1
          ]
         },
         "type": "quantitative"
        },
        "y": {
         "field": "y",
         "scale": {
          "domain": [
           -3,
           1
          ]
         },
         "type": "quantitative"
        }
       },
       "mark": {
        "clip": true,
        "type": "point"
       }
      },
      "image/png": "[encoded data removed]",
      "text/plain": [
       "<VegaLite 2 object>\n",
       "\n",
       "If you see this message, it means the renderer has not been properly enabled\n",
       "for the frontend that you are using. For more information, see\n",
       "https://altair-viz.github.io/user_guide/troubleshooting.html\n"
      ]
     },
     "execution_count": 15,
     "metadata": {},
     "output_type": "execute_result"
    }
   ],
   "source": [
    "alt.Chart(data).mark_point(clip=True).encode(\n",
    "    x=alt.X('x:Q', scale=alt.Scale(domain=[-3, 1])),\n",
    "    y=alt.Y('y:Q', scale=alt.Scale(domain=[-3, 1])),\n",
    ")"
   ]
  },
  {
   "cell_type": "markdown",
   "metadata": {},
   "source": [
    "Another useful approach is to instead \"clamp\" the data to the extremes of the scale, keeping it visible even when it is out of range:"
   ]
  },
  {
   "cell_type": "code",
   "execution_count": null,
   "metadata": {},
   "outputs": [],
   "source": [
    "alt.Chart(data).mark_point().encode(\n",
    "    x=alt.X('x:Q', scale=alt.Scale(domain=[-3, 1], clamp=True)),\n",
    "    y=alt.Y('y:Q', scale=alt.Scale(domain=[-3, 1], clamp=True)),\n",
    ").interactive()"
   ]
  },
  {
   "cell_type": "markdown",
   "metadata": {},
   "source": [
    "## Example 5: Color Scales\n",
    "\n",
    "Sometimes it's useful to manually adjust a color scale used"
   ]
  },
  {
   "cell_type": "code",
   "execution_count": null,
   "metadata": {},
   "outputs": [],
   "source": [
    "from vega_datasets import data\n",
    "weather = data.seattle_weather()\n",
    "weather.head()"
   ]
  },
  {
   "cell_type": "code",
   "execution_count": null,
   "metadata": {},
   "outputs": [],
   "source": [
    "alt.Chart(weather).mark_point().encode(\n",
    "    x='date:T',\n",
    "    y='temp_max:Q',\n",
    "    color='weather:N'\n",
    ")"
   ]
  },
  {
   "cell_type": "markdown",
   "metadata": {},
   "source": [
    "You can change the color scheme by using the color scale property, and by referencing any of [Vega's named color schemes](https://vega.github.io/vega/docs/schemes/#reference):"
   ]
  },
  {
   "cell_type": "code",
   "execution_count": null,
   "metadata": {},
   "outputs": [],
   "source": [
    "alt.Chart(weather).mark_point().encode(\n",
    "    x='date:T',\n",
    "    y='temp_max:Q',\n",
    "    color=alt.Color('weather:N', scale=alt.Scale(scheme=\"dark2\"))\n",
    ")"
   ]
  },
  {
   "cell_type": "markdown",
   "metadata": {},
   "source": [
    "Alternatively, you can create your own color scheme by specifying a color domain and range:"
   ]
  },
  {
   "cell_type": "code",
   "execution_count": null,
   "metadata": {},
   "outputs": [],
   "source": [
    "colorscale = alt.Scale(domain=['sun', 'fog', 'drizzle', 'rain', 'snow'],\n",
    "                       range=['goldenrod', 'gray', 'lightblue', 'steelblue', 'midnightblue'])\n",
    "\n",
    "alt.Chart(weather).mark_point().encode(\n",
    "    x='date:T',\n",
    "    y='temp_max:Q',\n",
    "    color=alt.Color('weather:N', scale=colorscale)\n",
    ")"
   ]
  },
  {
   "cell_type": "markdown",
   "metadata": {},
   "source": [
    "## Exercise: Adjusting Plots\n",
    "\n",
    "Take about 10 minutes now and practice adjusting the aesthetics of your plots.\n",
    "\n",
    "Use your favorite visualization from the previous exercise, and adjust the aesthetics of the plot:\n",
    "\n",
    "- customize the look of the marks (size, strokewidth, etc.)\n",
    "- change axes and plot titles\n",
    "- change the x and y limits\n",
    "\n",
    "Use tab-completion on ``alt.Chart.configure_`` to see the various configuration options, then use ``?`` to see the documentation on what the options do."
   ]
  }
 ],
 "metadata": {
  "kernelspec": {
   "display_name": "Python 3",
   "language": "python",
   "name": "python3"
  },
  "language_info": {
   "codemirror_mode": {
    "name": "ipython",
    "version": 3
   },
   "file_extension": ".py",
   "mimetype": "text/x-python",
   "name": "python",
   "nbconvert_exporter": "python",
   "pygments_lexer": "ipython3",
   "version": "3.6.6"
  }
 },
 "nbformat": 4,
 "nbformat_minor": 2
}
