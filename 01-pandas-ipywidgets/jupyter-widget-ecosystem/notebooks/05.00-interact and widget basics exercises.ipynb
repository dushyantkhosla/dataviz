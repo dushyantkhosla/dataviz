{
 "cells": [
  {
   "cell_type": "markdown",
   "metadata": {},
   "source": [
    "# Exercises\n",
    "\n",
    "This collection of exercises can be done in any order, or even skipped entirely; none of the rest of the tutorial depends on it. Choose the ones that are of interest to you. Sample solutions are provided for all of them.\n",
    "\n",
    "## We do not anticipate that you will have time to complete all of the exercises\n",
    "\n",
    "That is why we provide solutions!"
   ]
  },
  {
   "cell_type": "code",
   "execution_count": 1,
   "metadata": {
    "collapsed": true
   },
   "outputs": [],
   "source": [
    "%matplotlib inline\n",
    "import matplotlib.pyplot as plt\n",
    "\n",
    "import numpy as np\n",
    "\n",
    "import ipywidgets as widgets\n",
    "from ipywidgets import interact, interactive "
   ]
  },
  {
   "cell_type": "markdown",
   "metadata": {},
   "source": [
    "## interact/interactive only"
   ]
  },
  {
   "cell_type": "markdown",
   "metadata": {},
   "source": [
    "### Reverse some text\n",
    "\n",
    "Write a function that takes text as an input and reverses the text, and uses `interact` or `interactive` to generate the input field. "
   ]
  },
  {
   "cell_type": "code",
   "execution_count": 5,
   "metadata": {},
   "outputs": [
    {
     "data": {
      "application/vnd.jupyter.widget-view+json": {
       "model_id": "a4345270d33c481bb864ebdb10293583",
       "version_major": 2,
       "version_minor": 0
      },
      "text/plain": [
       "interactive(children=(Text(value='Hello', description='x'), Output()), _dom_classes=('widget-interact',))"
      ]
     },
     "metadata": {},
     "output_type": "display_data"
    }
   ],
   "source": [
    "# %load solutions/interact-basic-list/reverse-text.py\n",
    "def reverse(x):\n",
    "    return x[::-1]\n",
    "\n",
    "interact(reverse, x='Hello');"
   ]
  },
  {
   "cell_type": "markdown",
   "metadata": {},
   "source": [
    "### Make a plot\n",
    "\n",
    "Pick a function of interest to you that depends on a couple of parameters and use `interact` to generate controls for the parameters. \n",
    "\n",
    "If you don't have a favorite function, try graphing $f(x) = \\sin(k x + p)$ over the $0 < x < 4\\pi$, with $0.5 \\le k \\le 2$ and $0 \\le p < 2\\pi$.\n",
    "\n",
    "Use either the `interact` function or the `@interact` decorator."
   ]
  },
  {
   "cell_type": "code",
   "execution_count": 8,
   "metadata": {},
   "outputs": [
    {
     "data": {
      "application/vnd.jupyter.widget-view+json": {
       "model_id": "f16decd138dd45ddadce252717238f86",
       "version_major": 2,
       "version_minor": 0
      },
      "text/plain": [
       "interactive(children=(FloatSlider(value=1.25, description='k', max=2.0, min=0.5), FloatSlider(value=3.14159265…"
      ]
     },
     "metadata": {},
     "output_type": "display_data"
    }
   ],
   "source": [
    "# %load solutions/interact-basic-list/plot-function.py\n",
    "@interact(k=(0.5, 2), p=(0, 2 * np.pi), continuous_update=False)\n",
    "def f(k, p):\n",
    "    x = np.linspace(0, 4 * np.pi)\n",
    "    y = np.sin(k*x + p)\n",
    "    plt.plot(x, y)"
   ]
  },
  {
   "cell_type": "markdown",
   "metadata": {},
   "source": [
    "### A more extended example of interact\n",
    "\n",
    "A notebook I used in a cosmology course is [here](https://github.com/mwcraig/jupyter-notebook-intro/blob/master/supernova-data.ipynb). It used interact to allow students to fit cosmological models to high redshift supernova data."
   ]
  },
  {
   "cell_type": "markdown",
   "metadata": {},
   "source": [
    "## interact/interactive and/or other widgets\n",
    "\n",
    "Some of the exercises below might be possible only with interact and interactive."
   ]
  },
  {
   "cell_type": "markdown",
   "metadata": {},
   "source": [
    "### Choose two widgets and link their values\n",
    "\n",
    "Choose any two widgets from the widget list, link their values using `widgets.jslink`, and display both widgets (the `display` function can take more than one argument).\n",
    "\n",
    "Note: for all widgets except the section widgets below you should link the `value` of the widgets. For the selection widgets, link the `index` instead.\n",
    "\n",
    "Selection widgets:\n",
    "\n",
    "+ `Dropdown`\n",
    "+ `RadioButtons`\n",
    "+ `Select`\n",
    "+ `SelectionSlider`\n",
    "+ `SelectionRangeSlider`\n",
    "+ `ToggleButtons`\n",
    "+ `SelectMultiple`"
   ]
  },
  {
   "cell_type": "code",
   "execution_count": 10,
   "metadata": {},
   "outputs": [
    {
     "data": {
      "application/vnd.jupyter.widget-view+json": {
       "model_id": "50c4715b60464b65964fe937e5477587",
       "version_major": 2,
       "version_minor": 0
      },
      "text/plain": [
       "Dropdown(options=('yes', 'no', 'maybe'), value='yes')"
      ]
     },
     "metadata": {},
     "output_type": "display_data"
    },
    {
     "data": {
      "application/vnd.jupyter.widget-view+json": {
       "model_id": "bbb28a5c6db44eb0982fa9a5dd85b010",
       "version_major": 2,
       "version_minor": 0
      },
      "text/plain": [
       "RadioButtons(options=('yes', 'no', 'maybe'), value='yes')"
      ]
     },
     "metadata": {},
     "output_type": "display_data"
    }
   ],
   "source": [
    "# %load solutions/interact-basic-list/sample-linked-widgets.py\n",
    "# This example links two selection widgets\n",
    "\n",
    "options = ['yes', 'no', 'maybe']\n",
    "\n",
    "drop = widgets.Dropdown(options=options)\n",
    "radio = widgets.RadioButtons(options=options)\n",
    "\n",
    "widgets.jslink((drop, 'index'),  \n",
    "               (radio, 'index'))\n",
    "\n",
    "display(drop, radio)"
   ]
  },
  {
   "cell_type": "markdown",
   "metadata": {},
   "source": [
    "### Boxes\n",
    "\n",
    "Create any three widgets, place them in a `VBox`, and display it."
   ]
  },
  {
   "cell_type": "code",
   "execution_count": 12,
   "metadata": {},
   "outputs": [
    {
     "data": {
      "application/vnd.jupyter.widget-view+json": {
       "model_id": "bd7f7bbc8bfe4e7890723f5ec32c0a79",
       "version_major": 2,
       "version_minor": 0
      },
      "text/plain": [
       "VBox(children=(Textarea(value='', description='Fill this box'), Button(description='Click me', style=ButtonSty…"
      ]
     },
     "metadata": {},
     "output_type": "display_data"
    }
   ],
   "source": [
    "# %load solutions/interact-basic-list/widgets-in-a-box.py\n",
    "application = widgets.Textarea(description='Fill this box')\n",
    "b = widgets.Button(description='Click me')\n",
    "v = widgets.Valid(description='The text is')\n",
    "\n",
    "vbox = widgets.VBox(children=[application, b, v])\n",
    "vbox"
   ]
  },
  {
   "cell_type": "markdown",
   "metadata": {},
   "source": [
    "## Blank canvas\n",
    "\n",
    "The cell below is for you to try out antyhing you would like. Be creative!"
   ]
  },
  {
   "cell_type": "code",
   "execution_count": null,
   "metadata": {
    "collapsed": true
   },
   "outputs": [],
   "source": []
  }
 ],
 "metadata": {
  "kernelspec": {
   "display_name": "Python 3",
   "language": "python",
   "name": "python3"
  },
  "language_info": {
   "codemirror_mode": {
    "name": "ipython",
    "version": 3
   },
   "file_extension": ".py",
   "mimetype": "text/x-python",
   "name": "python",
   "nbconvert_exporter": "python",
   "pygments_lexer": "ipython3",
   "version": "3.6.5"
  }
 },
 "nbformat": 4,
 "nbformat_minor": 2
}
